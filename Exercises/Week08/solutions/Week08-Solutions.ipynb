{
 "cells": [
  {
   "cell_type": "markdown",
   "metadata": {},
   "source": [
    "# Week 8 - Computational Modelling and Documentation \n",
    "***\n",
    "# Part 1 - Expressing algorithms\n",
    "# Exercise 1  - Building Flow Diagrams of Algorithms (Essential)"
   ]
  },
  {
   "cell_type": "markdown",
   "metadata": {},
   "source": [
    "***\n",
    "### Q1\n",
    "\n",
    "Convert temperature from Fahrenheit ($^{\\circ}$F) to Celsius ($^{\\circ}$C) using the formula $$C = \\frac{5}{9}\\times(F-32)$$ where $C$=temperature in ($^{\\circ}$C) and $F$ = temperature in ($^{\\circ}$F)."
   ]
  },
  {
   "cell_type": "markdown",
   "metadata": {},
   "source": [
    "<center>\n",
    "  <img align = \"right\" src=\"Ex1_1.png\" alt=\"Drawing\" style=\"width: 200px;\"/>\n",
    "</center>\n",
    "\n",
    "1. Read F\n",
    "1. Perform conversaion using formula C=5/9*(F-32),\n",
    "1. Display C"
   ]
  },
  {
   "cell_type": "markdown",
   "metadata": {},
   "source": [
    "***\n",
    "### Q2\n",
    "A student will pass the year if the average score for 5 units is 40\\% or above. Write a program that can be used to determine if a student passes or fails the year. \n",
    "\n",
    "<center>\n",
    "  <img align = \"right\" src=\"Ex1_2.png\" alt=\"Drawing\" style=\"width: 300px;\"/>\n",
    "</center>\n",
    "\n",
    "1. Enter scores for 5 units (S1, S2, S3, S4, S5)\n",
    "1. Calculate the average score using formula average = (S1 + S2 + S3 + S4 + S5) / 5\n",
    "1. If the average score is less than 40, display \"FAIL\", otherwise display \"PASS\"."
   ]
  },
  {
   "cell_type": "markdown",
   "metadata": {},
   "source": [
    "***\n",
    "### Q3\n",
    "A bank account has an interest rate of 3\\%. The interest accrued is calculated at the end of each year. The initial deposit is £200. At the start of each subsequent year, £100 is added the bank account. Display the interest accrued at the end of each year. "
   ]
  },
  {
   "cell_type": "markdown",
   "metadata": {},
   "source": [
    "<center>\n",
    "  <img align = \"right\" src=\"Ex1_3_.png\" alt=\"Drawing\" style=\"width: 400px;\"/>\n",
    "</center>\n",
    "\n",
    "1. deposited = 200 (*Input*)\n",
    "1. year = 1 (*Process*)\n",
    "1. total = deposited * 1.03 (*Process*)\n",
    "1. interest = total - deposited (*Process*)\n",
    "1. display interest (*Output*)\n",
    "1. if year $\\ge$ 10, stop, otherwise go to step 7 (*Decision*)\n",
    "1. increase year by 1 (*Process*)\n",
    "1. increase deposited by 100 and  go to step 3 (*Process*)"
   ]
  },
  {
   "cell_type": "markdown",
   "metadata": {},
   "source": [
    "***\n",
    "### Q4\n",
    "A digital thermostat checks the current temperature read by a sensor and compares it to a preset temperature. The heating is switched:\n",
    "\n",
    "- ON if temperature lower than the preset temperature\n",
    "- OFF if temperature higher than, or same as, the preset temperature\n",
    "\n",
    "Determine whether the heating should be ON or OFF using the present temperature and the current temperature, and display the outcome."
   ]
  },
  {
   "cell_type": "markdown",
   "metadata": {},
   "source": [
    "<center>\n",
    "  <img align = \"right\" src=\"Ex1_4.png\" alt=\"Drawing\" style=\"width: 400px;\"/>\n",
    "</center>\n",
    "\n",
    "1. Enter current temperature.\n",
    "1. Enter preset temperature.\n",
    "1. If current temperature less than preset temperature display \"ON\", otherwise display \"OFF\".\n"
   ]
  },
  {
   "cell_type": "markdown",
   "metadata": {},
   "source": [
    "# Exercise 2 -  Building more Flow Diagrams of Algorithms (Advanced)"
   ]
  },
  {
   "cell_type": "markdown",
   "metadata": {},
   "source": [
    "***\n",
    "### Q1\n",
    "Determine the largest in a sequence of numbers and display the outcome."
   ]
  },
  {
   "cell_type": "markdown",
   "metadata": {},
   "source": [
    "\n",
    "\n",
    "<center>\n",
    "  <img align = \"right\" src=\"Ex2_1___.png\" alt=\"Drawing\" style=\"width: 400px;\"/>\n",
    "</center>\n",
    "\n",
    "1. Define sequence of numbers (*Input*)\n",
    "1. Define largest number as first number in seqeunce (*Process*)\n",
    "1. Go to next number in sequence\n",
    "1. If next number in sequence is greater than the current value of largest number, update value of largest number (*Decision + Process*) \n",
    "1. Display largest number if end of seqeunce reached, otherwise go to step 3 (*Decision + Process*) "
   ]
  },
  {
   "cell_type": "markdown",
   "metadata": {},
   "source": [
    "***\n",
    "### Q2\n",
    "Display the first 10 Fibonacci numbers.\n",
    "\n"
   ]
  },
  {
   "cell_type": "markdown",
   "metadata": {},
   "source": [
    "<center>\n",
    "  <img align = \"right\" src=\"Ex2_2.png\" alt=\"Drawing\" style=\"width: 400px;\"/>\n",
    "</center>\n",
    "\n",
    "1. a = 0\n",
    "1. b = 0\n",
    "1. display a, b\n",
    "1. i = 2\n",
    "1. if i $\\ge$ 10, stop, otherwise go to step 6\n",
    "1. f_i = a + b, a=b, b=f_i\n",
    "1. display f_i\n",
    "1. increase i by 1\n"
   ]
  },
  {
   "cell_type": "markdown",
   "metadata": {},
   "source": [
    "***\n",
    "### Q3\n",
    "Check if a word features in a sentence\n"
   ]
  },
  {
   "cell_type": "markdown",
   "metadata": {},
   "source": [
    "<center>\n",
    "  <img align = \"right\" src=\"Ex2_3_.png\" alt=\"Drawing\" style=\"width: 500px;\"/>\n",
    "</center>\n",
    "\n",
    "1. enter word \n",
    "1. enter sentence\n",
    "1. found = false\n",
    "1. index = 0\n",
    "1. if word in sentence at index, display \"FOUND\" and stop, otherwise go to step 6 \n",
    "1. if end of sentence, display \"NOT FOUND\" and stop, otherwise increase index and go to step 5"
   ]
  },
  {
   "cell_type": "markdown",
   "metadata": {},
   "source": [
    "***\n",
    "# Exercise 3 - Translating Algorithms to Code (Essential)"
   ]
  },
  {
   "cell_type": "markdown",
   "metadata": {},
   "source": [
    "***\n",
    "### Q1\n",
    "For each of the questions in Exercise 1, write a program to execute the steps you have drawn up in the flow diagram."
   ]
  },
  {
   "cell_type": "markdown",
   "metadata": {},
   "source": [
    "***\n",
    "Convert temperature from Fahrenheit ($^{\\circ}$F) to Celsius ($^{\\circ}$C) using the formula $$C = \\frac{5}{9}\\times(F-32)$$ where $C$=temperature in ($^{\\circ}$C) and $F$ = temperature in ($^{\\circ}$F)."
   ]
  },
  {
   "cell_type": "code",
   "execution_count": 18,
   "metadata": {
    "scrolled": true
   },
   "outputs": [
    {
     "name": "stdout",
     "output_type": "stream",
     "text": [
      "Enter temperature in Farenheit \n"
     ]
    },
    {
     "ename": "ValueError",
     "evalue": "could not convert string to float: ''",
     "output_type": "error",
     "traceback": [
      "\u001b[0;31m---------------------------------------------------------------------------\u001b[0m",
      "\u001b[0;31mValueError\u001b[0m                                Traceback (most recent call last)",
      "\u001b[0;32m<ipython-input-18-541ad3a070b6>\u001b[0m in \u001b[0;36m<module>\u001b[0;34m\u001b[0m\n\u001b[0;32m----> 1\u001b[0;31m \u001b[0mf\u001b[0m \u001b[0;34m=\u001b[0m \u001b[0mfloat\u001b[0m\u001b[0;34m(\u001b[0m\u001b[0minput\u001b[0m\u001b[0;34m(\u001b[0m\u001b[0;34m'Enter temperature in Farenheit '\u001b[0m\u001b[0;34m)\u001b[0m\u001b[0;34m)\u001b[0m\u001b[0;34m\u001b[0m\u001b[0;34m\u001b[0m\u001b[0m\n\u001b[0m\u001b[1;32m      2\u001b[0m \u001b[0;34m\u001b[0m\u001b[0m\n\u001b[1;32m      3\u001b[0m \u001b[0mc\u001b[0m \u001b[0;34m=\u001b[0m \u001b[0;36m5\u001b[0m\u001b[0;34m/\u001b[0m\u001b[0;36m9\u001b[0m \u001b[0;34m*\u001b[0m \u001b[0;34m(\u001b[0m\u001b[0mf\u001b[0m\u001b[0;34m-\u001b[0m\u001b[0;36m32\u001b[0m\u001b[0;34m)\u001b[0m\u001b[0;34m\u001b[0m\u001b[0;34m\u001b[0m\u001b[0m\n\u001b[1;32m      4\u001b[0m \u001b[0;34m\u001b[0m\u001b[0m\n\u001b[1;32m      5\u001b[0m \u001b[0mprint\u001b[0m\u001b[0;34m(\u001b[0m\u001b[0mc\u001b[0m\u001b[0;34m)\u001b[0m\u001b[0;34m\u001b[0m\u001b[0;34m\u001b[0m\u001b[0m\n",
      "\u001b[0;31mValueError\u001b[0m: could not convert string to float: ''"
     ]
    }
   ],
   "source": [
    "f = float(input('Enter temperature in Farenheit '))\n",
    "\n",
    "c = 5/9 * (f-32)\n",
    "\n",
    "print(c)"
   ]
  },
  {
   "cell_type": "markdown",
   "metadata": {},
   "source": [
    "***\n",
    "A student will pass the year if the average score for 5 units is 40\\% or above. Write a program that can be used to determine if a student passes or fails the year. "
   ]
  },
  {
   "cell_type": "code",
   "execution_count": 19,
   "metadata": {
    "scrolled": false
   },
   "outputs": [
    {
     "name": "stdout",
     "output_type": "stream",
     "text": [
      "Enter scores for each unit, seperated by spaces: \n",
      "FAIL\n"
     ]
    }
   ],
   "source": [
    "scores = input('Enter scores for each unit, seperated by spaces: ')\n",
    "scores = scores.split()\n",
    "scores = [float(s) for s in scores]\n",
    "average = sum(scores)/5\n",
    "#print(average)\n",
    "if average < 40:\n",
    "    print('FAIL')\n",
    "else:\n",
    "    print('PASS')"
   ]
  },
  {
   "cell_type": "markdown",
   "metadata": {},
   "source": [
    "***\n",
    "A bank account has an interest rate of 3\\%. The interest accrued is calculated at the end of each year. The initial deposit is £200. At the start of each subsequent year, £100 is added the bank account. Display the interest accrued at the end of each year. "
   ]
  },
  {
   "cell_type": "code",
   "execution_count": 20,
   "metadata": {},
   "outputs": [
    {
     "name": "stdout",
     "output_type": "stream",
     "text": [
      "6.0\n",
      "9.0\n",
      "12.0\n",
      "15.0\n",
      "18.0\n",
      "21.0\n",
      "24.0\n",
      "27.0\n",
      "30.0\n",
      "33.0\n"
     ]
    }
   ],
   "source": [
    "deposited = 200\n",
    "year = 1\n",
    "while year <= 10:\n",
    "    total = deposited * 1.03\n",
    "    interest = total - deposited\n",
    "    print(interest)\n",
    "    year += 1\n",
    "    deposited += 100"
   ]
  },
  {
   "cell_type": "markdown",
   "metadata": {},
   "source": [
    "***\n",
    "A digital thermostat checks the current temperature read by a sensor and compares it to a preset temperature. The heating is switched:\n",
    "\n",
    "- ON if temperature lower than the preset temperature\n",
    "- OFF if temperature higher than, or same as, the preset temperature\n",
    "\n",
    "Determine whether the heating should be ON or OFF using the present temperature and the current temperature, and display the outcome."
   ]
  },
  {
   "cell_type": "code",
   "execution_count": 21,
   "metadata": {},
   "outputs": [
    {
     "name": "stdout",
     "output_type": "stream",
     "text": [
      "ON\n"
     ]
    }
   ],
   "source": [
    "current = 17\n",
    "preset = 21\n",
    "\n",
    "if current < preset:\n",
    "    print('ON')\n",
    "else:\n",
    "    print('OFF')"
   ]
  },
  {
   "cell_type": "markdown",
   "metadata": {},
   "source": [
    "***\n",
    "### Q2\n",
    "Translate the flow diagram of  Euclid's algorithm for computing the greatest common divisor (GCD) [also known as the greatest common factor (GCF) or highest common factor (HCF)] of two positive integers to a program.\n",
    "\n",
    "<center>\n",
    "  <img align = \"center\" src=\"Ex3_2_.png\" alt=\"Drawing\" style=\"width: 300px;\"/>\n",
    "</center>"
   ]
  },
  {
   "cell_type": "code",
   "execution_count": 24,
   "metadata": {},
   "outputs": [
    {
     "name": "stdout",
     "output_type": "stream",
     "text": [
      "Enter a positive integer: 4\n",
      "Enter another positive integer: 5\n",
      "1\n"
     ]
    }
   ],
   "source": [
    "a = int(input('Enter a positive integer: '))\n",
    "b = int(input('Enter another positive integer: '))\n",
    "\n",
    "while (a!=b):\n",
    "    if a > b:\n",
    "        a -= b\n",
    "    else:\n",
    "        b -= a\n",
    "\n",
    "print(a)    "
   ]
  },
  {
   "cell_type": "markdown",
   "metadata": {},
   "source": [
    "***\n",
    "### Q3\n",
    "Translate the flow diagram of an algorithm to generate a 12 by 12 multiplication table.\n",
    "\n",
    "<center>\n",
    "  <img align = \"center\" src=\"Ex3_3.png\" alt=\"Drawing\" style=\"width: 300px;\"/>\n",
    "</center>"
   ]
  },
  {
   "cell_type": "code",
   "execution_count": 22,
   "metadata": {},
   "outputs": [
    {
     "name": "stdout",
     "output_type": "stream",
     "text": [
      "\n",
      "\n",
      "0 \t0 \t0 \t0 \t0 \t0 \t0 \t0 \t0 \t0 \t0 \t0 \t0 \t\n",
      "\n",
      "0 \t1 \t2 \t3 \t4 \t5 \t6 \t7 \t8 \t9 \t10 \t11 \t12 \t\n",
      "\n",
      "0 \t2 \t4 \t6 \t8 \t10 \t12 \t14 \t16 \t18 \t20 \t22 \t24 \t\n",
      "\n",
      "0 \t3 \t6 \t9 \t12 \t15 \t18 \t21 \t24 \t27 \t30 \t33 \t36 \t\n",
      "\n",
      "0 \t4 \t8 \t12 \t16 \t20 \t24 \t28 \t32 \t36 \t40 \t44 \t48 \t\n",
      "\n",
      "0 \t5 \t10 \t15 \t20 \t25 \t30 \t35 \t40 \t45 \t50 \t55 \t60 \t\n",
      "\n",
      "0 \t6 \t12 \t18 \t24 \t30 \t36 \t42 \t48 \t54 \t60 \t66 \t72 \t\n",
      "\n",
      "0 \t7 \t14 \t21 \t28 \t35 \t42 \t49 \t56 \t63 \t70 \t77 \t84 \t\n",
      "\n",
      "0 \t8 \t16 \t24 \t32 \t40 \t48 \t56 \t64 \t72 \t80 \t88 \t96 \t\n",
      "\n",
      "0 \t9 \t18 \t27 \t36 \t45 \t54 \t63 \t72 \t81 \t90 \t99 \t108 \t\n",
      "\n",
      "0 \t10 \t20 \t30 \t40 \t50 \t60 \t70 \t80 \t90 \t100 \t110 \t120 \t\n",
      "\n",
      "0 \t11 \t22 \t33 \t44 \t55 \t66 \t77 \t88 \t99 \t110 \t121 \t132 \t\n",
      "\n",
      "0 \t12 \t24 \t36 \t48 \t60 \t72 \t84 \t96 \t108 \t120 \t132 \t144 \t"
     ]
    }
   ],
   "source": [
    "for i in range(13):\n",
    "    print('\\n')\n",
    "    for j in range (13):\n",
    "        print(i*j, '\\t', end='')"
   ]
  },
  {
   "cell_type": "markdown",
   "metadata": {},
   "source": [
    "***\n",
    "# Exercise 4 - Translating Algorithms to Code (Advanced)"
   ]
  },
  {
   "cell_type": "code",
   "execution_count": null,
   "metadata": {},
   "outputs": [],
   "source": []
  },
  {
   "cell_type": "markdown",
   "metadata": {},
   "source": [
    "***\n",
    "### Q1\n",
    "For each of the questions in Exercise 2, write a program to execute the steps you have drawn up in the flow diagram."
   ]
  },
  {
   "cell_type": "markdown",
   "metadata": {},
   "source": [
    "Determine the largest in a sequence of numbers and display the outcome."
   ]
  },
  {
   "cell_type": "code",
   "execution_count": 32,
   "metadata": {},
   "outputs": [
    {
     "name": "stdout",
     "output_type": "stream",
     "text": [
      "Enter sequence of numbers: 2 3 4\n",
      "4.0\n"
     ]
    }
   ],
   "source": [
    "seq = input('Enter sequence of numbers: ')\n",
    "seq = seq.split()\n",
    "seq = [float(s) for s in seq]\n",
    "largest = seq[0] \n",
    "for n in seq:\n",
    "    if n > largest:\n",
    "        largest = n\n",
    "print(largest)"
   ]
  },
  {
   "cell_type": "markdown",
   "metadata": {},
   "source": [
    "Display the first 10 Fibonacci numbers.\n"
   ]
  },
  {
   "cell_type": "code",
   "execution_count": 31,
   "metadata": {},
   "outputs": [
    {
     "name": "stdout",
     "output_type": "stream",
     "text": [
      "0\n",
      "1\n",
      "1\n",
      "2\n",
      "3\n",
      "5\n",
      "8\n",
      "13\n",
      "21\n",
      "34\n",
      "55\n"
     ]
    }
   ],
   "source": [
    "a = 0\n",
    "b = 1\n",
    "print(a)\n",
    "print(b)\n",
    "for i in range(2, 11):\n",
    "    f_i = a+b\n",
    "    a = b\n",
    "    b = f_i\n",
    "    print(f_i)\n",
    "    "
   ]
  },
  {
   "cell_type": "markdown",
   "metadata": {},
   "source": [
    "Check if a word features in a sentence\n"
   ]
  },
  {
   "cell_type": "code",
   "execution_count": 36,
   "metadata": {},
   "outputs": [
    {
     "name": "stdout",
     "output_type": "stream",
     "text": [
      "Enter word: \n",
      "Enter sentence: \n",
      "NOT FOUND\n"
     ]
    }
   ],
   "source": [
    "word = input('Enter word: ')\n",
    "sentence = input('Enter sentence: ')\n",
    "sentence = sentence.split()\n",
    "for s in sentence:\n",
    "    if s == word:\n",
    "        print('FOUND')\n",
    "        break\n",
    "else:\n",
    "    print('NOT FOUND')"
   ]
  },
  {
   "cell_type": "markdown",
   "metadata": {},
   "source": [
    "***\n",
    "### Q2\n",
    "Translate the flow diagram of an algorithm to sort 3 different numbers a,b,c in descending order.\n",
    "\n",
    "1. Enter values of a,b,c (*Input*)\n",
    "1. Check if a $>$ b (*Decision*)\n",
    "1. Whatever the outcome (True or False), next check if a $>$ c (*Decision*)\n",
    "1. From the outcome of steps 2 and 3, you will either know the order at this point and should display it, or you will require one further check to see if b $>$ c. (*Decision*)\n",
    "1. Display the order if you haven't done so already. (*Output*)\n",
    "\n",
    "<center>\n",
    "  <img align = \"center\" src=\"Ex2_3.png\" alt=\"Drawing\" style=\"width: 600px;\"/>\n",
    "</center>"
   ]
  },
  {
   "cell_type": "code",
   "execution_count": 38,
   "metadata": {},
   "outputs": [
    {
     "name": "stdout",
     "output_type": "stream",
     "text": [
      "Enter number a: 5\n",
      "Enter number b: 6\n",
      "Enter number c: 7\n",
      "c > b > a\n"
     ]
    }
   ],
   "source": [
    "a = float(input('Enter number a: '))\n",
    "b = float(input('Enter number b: '))\n",
    "c = float(input('Enter number c: '))\n",
    "\n",
    "if a > b:\n",
    "    if a > c:\n",
    "        print('a > c > b')\n",
    "    else:\n",
    "        if b > c:\n",
    "            print('a > b > c')\n",
    "        else:\n",
    "            print('a > c > b')\n",
    "\n",
    "else:\n",
    "    if a > c:\n",
    "        print('b > a > c')\n",
    "    else:\n",
    "        if b > c:\n",
    "            print('b > c > a')\n",
    "        else:\n",
    "            print('c > b > a')"
   ]
  },
  {
   "cell_type": "code",
   "execution_count": null,
   "metadata": {},
   "outputs": [],
   "source": []
  }
 ],
 "metadata": {
  "kernelspec": {
   "display_name": "Python 3",
   "language": "python",
   "name": "python3"
  },
  "language_info": {
   "codemirror_mode": {
    "name": "ipython",
    "version": 3
   },
   "file_extension": ".py",
   "mimetype": "text/x-python",
   "name": "python",
   "nbconvert_exporter": "python",
   "pygments_lexer": "ipython3",
   "version": "3.8.3"
  }
 },
 "nbformat": 4,
 "nbformat_minor": 4
}
