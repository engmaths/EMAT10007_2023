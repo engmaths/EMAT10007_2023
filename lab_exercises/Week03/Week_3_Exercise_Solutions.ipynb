{
 "cells": [
  {
   "cell_type": "markdown",
   "id": "23bc864e",
   "metadata": {
    "slideshow": {
     "slide_type": "slide"
    }
   },
   "source": [
    "# Introduction to Computer Programming\n",
    "\n",
    "## Week 3 - Exercise Solutions \n",
    "\n",
    "* * *\n",
    "\n",
    "<img src=\"img/full-colour-logo-UoB.png\" alt=\"Bristol\" style=\"width: 300px;\"/>"
   ]
  },
  {
   "cell_type": "markdown",
   "id": "cd6233ec",
   "metadata": {},
   "source": [
    "# Exercise 1 - For loops"
   ]
  },
  {
   "cell_type": "markdown",
   "id": "a88c6057",
   "metadata": {},
   "source": [
    "1. Use a for loop to cast each value in the sequence [1.5, 1.0, 2.1, 3.8] as an integer and print each integer value."
   ]
  },
  {
   "cell_type": "code",
   "execution_count": 1,
   "id": "d83c01ad",
   "metadata": {},
   "outputs": [
    {
     "name": "stdout",
     "output_type": "stream",
     "text": [
      "1\n",
      "1\n",
      "2\n",
      "3\n"
     ]
    }
   ],
   "source": [
    "for i in [1.5, 1.0, 2.1, 3.8]:\n",
    "    print(int(i))"
   ]
  },
  {
   "cell_type": "markdown",
   "id": "bf70d04d",
   "metadata": {},
   "source": [
    "2. Find the mistake(s) in the following program, which is meant to sum the first 10 multiples\n",
    "of 5:\n",
    "```python\n",
    "total = 0\n",
    "for i in range(1,10)\n",
    "total = total + 5 * i\n",
    "```\n",
    "Fix the program so that the final value of total is 275, and print the value of total."
   ]
  },
  {
   "cell_type": "markdown",
   "id": "342f06d5",
   "metadata": {},
   "source": [
    "\n",
    "\n",
    "There are three mistakes here:\n",
    "\n",
    "1. the second argument to `range` should be 11\n",
    "2. the colon is missing \n",
    "3. the indent is missing"
   ]
  },
  {
   "cell_type": "code",
   "execution_count": 2,
   "id": "62fb7161",
   "metadata": {},
   "outputs": [
    {
     "name": "stdout",
     "output_type": "stream",
     "text": [
      "275\n"
     ]
    }
   ],
   "source": [
    "total = 0\n",
    "for i in range(1,11):\n",
    "    total = total + 5 * i\n",
    "    \n",
    "print(total)"
   ]
  },
  {
   "cell_type": "markdown",
   "id": "303e97ab",
   "metadata": {},
   "source": [
    "3. Compute the factorial of 10. Recall that the factorial of an integer n is defined as n! =\n",
    "n × (n − 1) × (n − 2) × . . . 2 × 1."
   ]
  },
  {
   "cell_type": "code",
   "execution_count": 5,
   "id": "9e61b809",
   "metadata": {},
   "outputs": [
    {
     "name": "stdout",
     "output_type": "stream",
     "text": [
      "3628800\n"
     ]
    }
   ],
   "source": [
    "n = 10\n",
    "\n",
    "for i in range(n-1, 0, -1):\n",
    "    n = n*i\n",
    "    \n",
    "print(n)"
   ]
  },
  {
   "cell_type": "code",
   "execution_count": null,
   "id": "f2739ec7",
   "metadata": {},
   "outputs": [],
   "source": [
    "n = 10\n",
    "factorial = 1\n",
    "\n",
    "for i in range(1, n+1):\n",
    "    factorial *= i\n",
    "\n",
    "print(factorial)"
   ]
  },
  {
   "cell_type": "markdown",
   "id": "7dd51234",
   "metadata": {},
   "source": [
    "4. Using a for loop and the break keyword, determine how many positive cubic numbers are less than 2,000. Recall that cubic number is a number of the form $n^3$ where n is an integer."
   ]
  },
  {
   "cell_type": "code",
   "execution_count": 6,
   "id": "1f7d0f0d",
   "metadata": {},
   "outputs": [
    {
     "name": "stdout",
     "output_type": "stream",
     "text": [
      "12\n"
     ]
    }
   ],
   "source": [
    "num_cubes = 0\n",
    "\n",
    "for n in range(1, 2000):\n",
    "    \n",
    "    if n**3 < 2000:\n",
    "        num_cubes += 1\n",
    "        \n",
    "    else:\n",
    "        break\n",
    "        \n",
    "print(num_cubes)"
   ]
  },
  {
   "cell_type": "markdown",
   "id": "89c98882",
   "metadata": {},
   "source": [
    "5. Use the zip function to sum each pair of elements, taking one element from sequence a = [1.4, 2.2, 2.1, 3.8] and one element from sequence b = [0.1, 1.1, 2.1, 1.2], in the order that\n",
    "they appear in the sequence, and print the result of each addition."
   ]
  },
  {
   "cell_type": "code",
   "execution_count": 7,
   "id": "66b9e8ec",
   "metadata": {},
   "outputs": [
    {
     "name": "stdout",
     "output_type": "stream",
     "text": [
      "1.5\n",
      "3.3000000000000003\n",
      "4.2\n",
      "5.0\n"
     ]
    }
   ],
   "source": [
    "a = [1.4, 2.2, 2.1, 3.8] \n",
    "b = [0.1, 1.1, 2.1, 1.2]\n",
    "\n",
    "for i, j in zip(a,b):\n",
    "    print(i+j)"
   ]
  },
  {
   "cell_type": "markdown",
   "id": "857ac41d",
   "metadata": {},
   "source": [
    "6. Create a variable and assign it a string value. Using the `zip` function and the `range` function write a loop which prints both each letter and its position in the string.\n",
    "<br>**Hint:** The Python `len()` function returns the length of a string. "
   ]
  },
  {
   "cell_type": "code",
   "execution_count": 8,
   "id": "667ee985",
   "metadata": {},
   "outputs": [
    {
     "name": "stdout",
     "output_type": "stream",
     "text": [
      "0 P\n",
      "1 y\n",
      "2 t\n",
      "3 h\n",
      "4 o\n",
      "5 n\n"
     ]
    }
   ],
   "source": [
    "word = 'Python'\n",
    "\n",
    "for position, letter in zip(range(len(word)), word):\n",
    "    print(position, letter)\n",
    "    "
   ]
  },
  {
   "cell_type": "markdown",
   "id": "145fc700",
   "metadata": {},
   "source": [
    "**Note:** The Python function `enumerate()` can be used to achieve this operation and avoids the need to define the range of values needed for the counter : https://www.w3schools.com/python/ref\\_func\\_enumerate.asp"
   ]
  },
  {
   "cell_type": "code",
   "execution_count": 9,
   "id": "cf95018a",
   "metadata": {},
   "outputs": [
    {
     "name": "stdout",
     "output_type": "stream",
     "text": [
      "0 P\n",
      "1 y\n",
      "2 t\n",
      "3 h\n",
      "4 o\n",
      "5 n\n"
     ]
    }
   ],
   "source": [
    "for position, letter in enumerate(word):\n",
    "    print(position, letter)"
   ]
  },
  {
   "cell_type": "markdown",
   "id": "5f9c6e1e",
   "metadata": {},
   "source": [
    "Now edit the code to use the `break` keyword to terminate the loop prematurely if the letter is `'e'`"
   ]
  },
  {
   "cell_type": "code",
   "execution_count": 10,
   "id": "2af2c15f",
   "metadata": {},
   "outputs": [
    {
     "name": "stdout",
     "output_type": "stream",
     "text": [
      "0 t\n",
      "1 i\n",
      "2 g\n"
     ]
    }
   ],
   "source": [
    "word = 'tiger'\n",
    "\n",
    "for position, letter in enumerate(word):\n",
    "    \n",
    "    if letter == 'e':\n",
    "        break\n",
    "        \n",
    "    print(position, letter)"
   ]
  },
  {
   "cell_type": "markdown",
   "id": "254fc40f",
   "metadata": {},
   "source": [
    "# Exercise 2 - While loops "
   ]
  },
  {
   "cell_type": "markdown",
   "id": "6154d4e0",
   "metadata": {},
   "source": [
    "1. Using a while loop determine how many positive cubic numbers are less than 2,000. Recall that cubic number is a number of the form $n^3$ where $n$ is an integer"
   ]
  },
  {
   "cell_type": "code",
   "execution_count": 11,
   "id": "02302187",
   "metadata": {},
   "outputs": [
    {
     "name": "stdout",
     "output_type": "stream",
     "text": [
      "12 cubic numbers are less than 2000\n"
     ]
    }
   ],
   "source": [
    "counter = 0\n",
    "number = 0\n",
    "\n",
    "while number < 2000:\n",
    "#     max_value = number\n",
    "    counter += 1\n",
    "    number = counter**3\n",
    "    \n",
    "print(counter - 1, 'cubic numbers are less than 2000')"
   ]
  },
  {
   "cell_type": "markdown",
   "id": "9e364c71",
   "metadata": {},
   "source": [
    "2. Write a program that finds the smallest power of 2 that is greater than 100"
   ]
  },
  {
   "cell_type": "code",
   "execution_count": 12,
   "id": "1f9d19e2",
   "metadata": {},
   "outputs": [
    {
     "name": "stdout",
     "output_type": "stream",
     "text": [
      "128\n"
     ]
    }
   ],
   "source": [
    "power = 1 \n",
    "exponent = 0\n",
    "\n",
    "while power < 100:\n",
    "    \n",
    "    exponent += 1\n",
    "    \n",
    "    power = 2 ** exponent\n",
    "    \n",
    "print(power)"
   ]
  },
  {
   "cell_type": "markdown",
   "id": "4d2bee8e",
   "metadata": {},
   "source": [
    "3. The Python function input():\n",
    "- displays a string given in the parentheses () to the user\n",
    "- accepts typed input from the user this types input within the program as a string \n",
    "\n",
    "Write a program that prompts the user for a password until a value that matches the password `my_password123` is given"
   ]
  },
  {
   "cell_type": "code",
   "execution_count": 31,
   "id": "c0374f43",
   "metadata": {},
   "outputs": [
    {
     "name": "stdout",
     "output_type": "stream",
     "text": [
      "Enter the password hemma\n",
      "Enter the password my_password123\n"
     ]
    }
   ],
   "source": [
    "correct_pwd = 'my_password123'\n",
    "pwd = None\n",
    "\n",
    "while pwd != correct_pwd:\n",
    "    pwd = input('Enter the password ')\n",
    "    \n"
   ]
  },
  {
   "cell_type": "markdown",
   "id": "8be7d4ee",
   "metadata": {},
   "source": [
    "4. Find the mistake(s) in the following program, which is meant Find the greatest power of 4 that is smaller than 200:\t\n",
    "```python\n",
    "exponent = 0\n",
    "power = 4 * exponent\n",
    "\n",
    "while power > 400: \n",
    "    result = power\n",
    "    power = 4 * exponent \n",
    "\n",
    "print('largest power = ', result) \n",
    "```"
   ]
  },
  {
   "cell_type": "markdown",
   "id": "d9baa935",
   "metadata": {},
   "source": [
    "\n",
    "\n",
    "There are three mistakes here:\n",
    "\n",
    "1. controlling expression after the `while` keyword should be `power < 200`, not `power > 200`\n",
    "2. the value of `exponent` should be increased by 1 with each iteration of the loop \n",
    "3. `power` should be computed as `4**exponent`, not `4*exponent`"
   ]
  },
  {
   "cell_type": "code",
   "execution_count": 35,
   "id": "fcb8b053",
   "metadata": {},
   "outputs": [
    {
     "name": "stdout",
     "output_type": "stream",
     "text": [
      "largest power =  64\n"
     ]
    }
   ],
   "source": [
    "exponent = 0\n",
    "power = 4 ** exponent\n",
    "\n",
    "while power < 200:\n",
    "    \n",
    "    result = power\n",
    "    \n",
    "    power = 4 ** exponent \n",
    "    \n",
    "    exponent += 1\n",
    "    \n",
    "print('largest power = ', result) "
   ]
  },
  {
   "cell_type": "markdown",
   "id": "44942d0f",
   "metadata": {},
   "source": [
    "# Exercise 3 - Choosing an appropriate loop type"
   ]
  },
  {
   "cell_type": "markdown",
   "id": "e5f21535",
   "metadata": {},
   "source": [
    "1. Write a program that calculates how many years it would take for the value of a savings\n",
    "account to exceed £400, if the initial (and only) deposit made is £100 and the annual interest\n",
    "is 5%."
   ]
  },
  {
   "cell_type": "code",
   "execution_count": 14,
   "id": "058fd163",
   "metadata": {},
   "outputs": [
    {
     "name": "stdout",
     "output_type": "stream",
     "text": [
      "After 29 years the value of the account is £411.61\n"
     ]
    }
   ],
   "source": [
    "total = 100\n",
    "counter = 0\n",
    "\n",
    "while total < 400:\n",
    "    counter += 1\n",
    "    total = total * 1.05\n",
    "    \n",
    "print(f'After {counter} years the value of the account is £{round(total, 2)}')"
   ]
  },
  {
   "cell_type": "markdown",
   "id": "44d2ce85",
   "metadata": {},
   "source": [
    "2. A ball is dropped (initial velocity $u = 0ms^{−1}$) and falls towards the ground with acceleration due to gravity of $a = 9.81ms^{-2}$. It is assumed that no other forces act on the ball so the distance travelled by the ball, $d$ (m), at time $t$ (s), can be found by:\n",
    "$d = ut + \\frac{1}{2} at^2$. Print the distance from the start position the ball has fallen at 0.2 s intervals for 2 s, assuming the ball does not reach the ground within this time."
   ]
  },
  {
   "cell_type": "code",
   "execution_count": 16,
   "id": "b7fff229",
   "metadata": {},
   "outputs": [
    {
     "name": "stdout",
     "output_type": "stream",
     "text": [
      "At time 0.0, 0.0 m travelled\n",
      "At time 0.2, 0.196 m travelled\n",
      "At time 0.4, 0.785 m travelled\n",
      "At time 0.6, 1.766 m travelled\n",
      "At time 0.8, 3.139 m travelled\n",
      "At time 1.0, 4.905 m travelled\n",
      "At time 1.2, 7.063 m travelled\n",
      "At time 1.4, 9.614 m travelled\n",
      "At time 1.6, 12.557 m travelled\n",
      "At time 1.8, 15.892 m travelled\n",
      "At time 2.0, 19.62 m travelled\n"
     ]
    }
   ],
   "source": [
    "u = 0\n",
    "a = 9.81\n",
    "for t in range(0, 21, 2):\n",
    "    t /= 10\n",
    "    d = u*t + 1/2*a*t**2\n",
    "    print(f'At time {t}, {round(d, 3)} m travelled')"
   ]
  },
  {
   "cell_type": "markdown",
   "id": "626b3e3e",
   "metadata": {},
   "source": [
    "3. The value of π can be approximated using the Leibniz formula:\n",
    "$$ \\pi_N = \\sum_{n = 0}^{N} \\frac{8}{(4n+1)(4n+3)} $$\n",
    "where N is a large number. Taking the limit as N → ∞ produces the exact value of π,\n",
    "but this requires evaluating an infinite number of terms, which is impossible on a computer.\n",
    "Therefore, we can only approximate the value of π by using a finite number of terms in the\n",
    "sum. Use this formula and nested loops, compute approximations to π by letting N equal\n",
    "each value in the sequence N = [100, 1, 000, 10, 000]."
   ]
  },
  {
   "cell_type": "code",
   "execution_count": 19,
   "id": "578bc175",
   "metadata": {},
   "outputs": [
    {
     "name": "stdout",
     "output_type": "stream",
     "text": [
      "3.1415426535898203\n"
     ]
    }
   ],
   "source": [
    "# create a variable for the approximate value of pi\n",
    "pi_N = 0\n",
    "\n",
    "# number of terms in the series\n",
    "N = 10000\n",
    "\n",
    "# use a for loop to compute the series\n",
    "for n in range(N):\n",
    "    pi_N += 8 / (4 * n + 1) / (4 * n + 3)\n",
    "    \n",
    "print(pi_N)"
   ]
  },
  {
   "cell_type": "markdown",
   "id": "8e973f6e",
   "metadata": {},
   "source": [
    "# Exercise 4 - Nested loops"
   ]
  },
  {
   "cell_type": "markdown",
   "id": "d1a526c1",
   "metadata": {},
   "source": [
    "1. Use two for loops to compute the double sum\n",
    "$$S = \\sum_{i = 1}^{10} \\sum_{j = 0}^{5} j^2(i + j)$$\n",
    "\n"
   ]
  },
  {
   "cell_type": "code",
   "execution_count": 23,
   "id": "09ae796d",
   "metadata": {},
   "outputs": [
    {
     "name": "stdout",
     "output_type": "stream",
     "text": [
      "5275\n"
     ]
    }
   ],
   "source": [
    "s = 0\n",
    "\n",
    "for i in range(1,11):\n",
    "    for j in range(0,6):\n",
    "        s += j * j * (i + j)\n",
    "\n",
    "print(s)"
   ]
  },
  {
   "cell_type": "markdown",
   "id": "08b1b577",
   "metadata": {},
   "source": [
    "2. A prime number is a natural number greater than 1 that is not a product of two smaller\n",
    "natural numbers. In other words, a prime number cannot be written as a product of two\n",
    "natural numbers that are both smaller than it. Write a program that prints all prime\n",
    "numbers between 1 and 150.\n",
    "\n",
    "Hints:\n",
    "- Remember the modulo operato, %, gives the remainder when one number is divided by\n",
    "another.\n",
    "- Use two nested loops to cycle through each value, then cycle through the series of\n",
    "possible factors"
   ]
  },
  {
   "cell_type": "code",
   "execution_count": 20,
   "id": "4e069771",
   "metadata": {},
   "outputs": [
    {
     "name": "stdout",
     "output_type": "stream",
     "text": [
      "2, 3, 5, 7, 11, 13, 17, 19, 23, 29, 31, 37, 41, 43, 47, 53, 59, 61, 67, 71, 73, 79, 83, 89, 97, 101, 103, 107, 109, 113, 127, 131, 137, 139, 149, "
     ]
    }
   ],
   "source": [
    "for i in range(1, 150):\n",
    "    \n",
    "    # Default status \n",
    "    status = 'prime'\n",
    "    \n",
    "    for j in range(2, i):\n",
    "        if i % j :\n",
    "            pass\n",
    "        \n",
    "        else:\n",
    "            status = 'not prime'\n",
    "            break\n",
    "            \n",
    "    if status == 'prime' and i!=1:\n",
    "        print(i, end=', ')"
   ]
  },
  {
   "cell_type": "code",
   "execution_count": 21,
   "id": "3805e7ee",
   "metadata": {},
   "outputs": [
    {
     "name": "stdout",
     "output_type": "stream",
     "text": [
      "2, 3, 5, 7, 11, 13, 17, 19, 23, 29, 31, 37, 41, 43, 47, 53, 59, 61, 67, 71, 73, 79, 83, 89, 97, 101, 103, 107, 109, 113, 127, 131, 137, 139, 149, "
     ]
    }
   ],
   "source": [
    "for i in range(1, 150):\n",
    "    \n",
    "    # Default status \n",
    "    status = 'prime'\n",
    "    \n",
    "    for j in range(2, i):\n",
    "        if i % j == 0:\n",
    "            status = 'not prime'\n",
    "            break\n",
    "        \n",
    "            \n",
    "    if status == 'prime' and i!=1:\n",
    "        print(i, end=', ')"
   ]
  },
  {
   "cell_type": "code",
   "execution_count": 38,
   "id": "c887333e",
   "metadata": {},
   "outputs": [
    {
     "name": "stdout",
     "output_type": "stream",
     "text": [
      "2, 3, 5, 7, 11, 13, 17, 19, 23, 29, 31, 37, 41, 43, 47, 53, 59, 61, 67, 71, 73, 79, 83, 89, 97, 101, 103, 107, 109, 113, 127, 131, 137, 139, 149, "
     ]
    }
   ],
   "source": [
    "for i in range(1, 150):\n",
    "    \n",
    "    for j in range(2,i):\n",
    "        \n",
    "        if i%j == 0:\n",
    "            break\n",
    "            \n",
    "    else:\n",
    "        if i!=1:\n",
    "            print(i, end=', ')"
   ]
  },
  {
   "cell_type": "markdown",
   "id": "a4aa4394",
   "metadata": {},
   "source": [
    "# Exercise 5 - Text based adventure game\n",
    "Use the control structures you have learnt so far to build a text-based adventure game (example\n",
    "below). When you have built your game, get the person sitting next to you to play it. You can\n",
    "also send it to me at hemma.philamore@bristol.ac.uk :)\n"
   ]
  },
  {
   "cell_type": "markdown",
   "id": "cb786273",
   "metadata": {},
   "source": [
    "```python \n",
    "    \n",
    "    print('You enter the castle.')\n",
    "    print('You see a mysterious figure appear in the print distance.'\n",
    "    print('Where would you like to go?')\n",
    "\n",
    "    # Ask user to choose direction\n",
    "    user_input = input('Choose direction (Options: right/left/backward)')\n",
    "    \n",
    "    # Wait until valid response given by user\n",
    "    while user_input != 'right' and user_input != 'left' and user_input != 'backward' :\n",
    "        user_input = input('Please enter a valid option: right/left/backward')\n",
    "\n",
    "    # Act on user input\n",
    "    if userInput == 'right':\n",
    "        # Ask user to choose direction\n",
    "        print('You see a portal)\n",
    "        user_input = input('Enter the portal? (Options: yes/no)')\n",
    "        \n",
    "        # Wait until valid response given by user\n",
    "        while user_input != 'yes' and user_input != 'no':\n",
    "            user_input = input('Please enter a valid option: yes/no')\n",
    "    \n",
    "        # Act on user input\n",
    "        if userInput == 'yes':\n",
    "            print('The portal takes you to a black hole!)\n",
    "            print('you lose the game!)\n",
    "\n",
    "        else:\n",
    "            if ...\n",
    "      \n",
    "    elif userInput == 'left':\n",
    "      print(\"You find that this door opens into a dead end.\")\n",
    "      \n",
    "    else:\n",
    "      if ...\n",
    "```"
   ]
  },
  {
   "cell_type": "code",
   "execution_count": 50,
   "id": "77506e0f",
   "metadata": {},
   "outputs": [
    {
     "name": "stdout",
     "output_type": "stream",
     "text": [
      "You approach a castle.\n",
      "                    The castle door is closed.\n",
      "                    You find a key.\n",
      "                    Do you pick up the key? (Y/N):Y\n",
      "Magic key turns you into a frog. \n",
      " You lose!\n"
     ]
    }
   ],
   "source": [
    "key = None\n",
    "\n",
    "while key != 'Y' and key != 'N':\n",
    "    \n",
    "    # Triple quotation marks used to create a multi-line string\n",
    "    key =  input('''You approach a castle.\n",
    "                    The castle door is closed.\n",
    "                    You find a key.\n",
    "                    Do you pick up the key? (Y/N):''')\n",
    "    \n",
    "    \n",
    "\n",
    "if key == 'Y':\n",
    "    print('Magic key turns you into a frog. \\n You lose!')\n",
    "    \n",
    "elif key == 'N':\n",
    "    print('Castle door opens.')\n",
    "    \n",
    "    castle = None \n",
    "    \n",
    "    while castle != 'Y' and castle != 'N':\n",
    "        \n",
    "        castle = input('Do you enter the castle? (Y/N)')\n",
    "    \n",
    "    if castle == 'Y':\n",
    "        print('You find the treasure.\\nYou win!')\n",
    "    elif castle == 'N':\n",
    "        print('No treasure.\\nYou lose!')\n"
   ]
  },
  {
   "cell_type": "code",
   "execution_count": null,
   "id": "6205aebf",
   "metadata": {},
   "outputs": [],
   "source": []
  },
  {
   "cell_type": "code",
   "execution_count": null,
   "id": "98a624cb",
   "metadata": {},
   "outputs": [],
   "source": []
  }
 ],
 "metadata": {
  "celltoolbar": "Slideshow",
  "kernelspec": {
   "display_name": "Python 3 (ipykernel)",
   "language": "python",
   "name": "python3"
  },
  "language_info": {
   "codemirror_mode": {
    "name": "ipython",
    "version": 3
   },
   "file_extension": ".py",
   "mimetype": "text/x-python",
   "name": "python",
   "nbconvert_exporter": "python",
   "pygments_lexer": "ipython3",
   "version": "3.10.9"
  }
 },
 "nbformat": 4,
 "nbformat_minor": 5
}
