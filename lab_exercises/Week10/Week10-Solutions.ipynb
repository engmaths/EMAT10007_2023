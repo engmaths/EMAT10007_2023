{
 "cells": [
  {
   "cell_type": "markdown",
   "metadata": {},
   "source": [
    "## Exercise 1 - Keyword arguments"
   ]
  },
  {
   "cell_type": "markdown",
   "metadata": {},
   "source": [
    "**Question 1**"
   ]
  },
  {
   "cell_type": "code",
   "execution_count": 4,
   "metadata": {},
   "outputs": [],
   "source": [
    "def subtract(a, b):\n",
    "    return a - b"
   ]
  },
  {
   "cell_type": "markdown",
   "metadata": {},
   "source": [
    "**Question 2** - the results are not the same because positional arguments are used, which means that the arguments are assigned values in the order they appear.  So in the first case, $a = 1$ and $b = 3$ so $a - b = -2$.  In the second case, $a = 3$ and $b = 1$ so $a - b = 2$"
   ]
  },
  {
   "cell_type": "code",
   "execution_count": 5,
   "metadata": {},
   "outputs": [
    {
     "name": "stdout",
     "output_type": "stream",
     "text": [
      "-2\n",
      "2\n"
     ]
    }
   ],
   "source": [
    "print(subtract(1, 3))\n",
    "print(subtract(3, 1))"
   ]
  },
  {
   "cell_type": "markdown",
   "metadata": {},
   "source": [
    "**Question 3** - the results are the same.  Since keyword arguments are used in the last two cases, the order of the arguments does not matter."
   ]
  },
  {
   "cell_type": "code",
   "execution_count": 7,
   "metadata": {},
   "outputs": [
    {
     "name": "stdout",
     "output_type": "stream",
     "text": [
      "-2\n",
      "-2\n",
      "-2\n"
     ]
    }
   ],
   "source": [
    "print(subtract(1, 3))\n",
    "print(subtract(a = 1, b = 3))\n",
    "print(subtract(b = 3, a = 1))"
   ]
  },
  {
   "cell_type": "markdown",
   "metadata": {},
   "source": [
    "**Question 4**"
   ]
  },
  {
   "cell_type": "code",
   "execution_count": 13,
   "metadata": {},
   "outputs": [
    {
     "data": {
      "image/png": "[encoded data removed]",
      "text/plain": [
       "<Figure size 432x288 with 1 Axes>"
      ]
     },
     "metadata": {
      "needs_background": "light"
     },
     "output_type": "display_data"
    },
    {
     "data": {
      "image/png": "[encoded data removed]",
      "text/plain": [
       "<Figure size 432x288 with 1 Axes>"
      ]
     },
     "metadata": {
      "needs_background": "light"
     },
     "output_type": "display_data"
    }
   ],
   "source": [
    "import matplotlib.pyplot as plt\n",
    "\n",
    "def annotated_plot(x_data, y_data, xlabel, ylabel, title):\n",
    "    plt.plot(x_data, y_data, linewidth = 2)\n",
    "    plt.xlabel(xlabel)\n",
    "    plt.ylabel(ylabel)\n",
    "    plt.title(title)\n",
    "    \n",
    "N = 100\n",
    "dx = 1 / 100\n",
    "x = [dx * n for n in range(N+1)]\n",
    "y = [e**3 for e in x]\n",
    "\n",
    "plt.figure()\n",
    "annotated_plot(x_data = x, y_data = y, xlabel = \"x\", ylabel = \"y(x)\", title = \"Plot of $y(x) = x^3$\")\n",
    "\n",
    "y2 = [e / (e + 1) for e in x]\n",
    "plt.figure()\n",
    "annotated_plot(x_data = x, y_data = y2, xlabel = \"x\", ylabel = \"y(x)\", title = \"Plot of $y(x) = x / (x + 1)$\")\n"
   ]
  },
  {
   "cell_type": "markdown",
   "metadata": {},
   "source": [
    "# Exercise 2 - Default arguments"
   ]
  },
  {
   "cell_type": "markdown",
   "metadata": {},
   "source": [
    "**Question 1**"
   ]
  },
  {
   "cell_type": "code",
   "execution_count": 17,
   "metadata": {},
   "outputs": [],
   "source": [
    "def water_supply(age = 75, daily_amount = 2):\n",
    "    print('The total amount of water consumed is', age * 365 * daily_amount, 'litres')"
   ]
  },
  {
   "cell_type": "markdown",
   "metadata": {},
   "source": [
    "**Question 2** - The function can be called without arguments because all of the arguments are default arguments.  The two arguments will take on the default values that are provided in the definition of the function"
   ]
  },
  {
   "cell_type": "code",
   "execution_count": 18,
   "metadata": {},
   "outputs": [
    {
     "name": "stdout",
     "output_type": "stream",
     "text": [
      "The total amount of water consumed is 54750 litres\n"
     ]
    }
   ],
   "source": [
    "water_supply()"
   ]
  },
  {
   "cell_type": "markdown",
   "metadata": {},
   "source": [
    "**Question 3** - Passing the function a single argument when calling overwrites the value of the first argument (age); the second argument is set to the default value.  It is not possible to call the function with a single argument and have that argument overwrite the default value of daily_amount"
   ]
  },
  {
   "cell_type": "code",
   "execution_count": 21,
   "metadata": {},
   "outputs": [
    {
     "name": "stdout",
     "output_type": "stream",
     "text": [
      "The total amount of water consumed is 7300 litres\n"
     ]
    }
   ],
   "source": [
    "water_supply(10)"
   ]
  },
  {
   "cell_type": "markdown",
   "metadata": {},
   "source": [
    "**Question 4** - The function always works correctly when called with a single keyword argument.  The keyword argument can be used to specify which default argument should have its value overwritten."
   ]
  },
  {
   "cell_type": "code",
   "execution_count": 23,
   "metadata": {},
   "outputs": [
    {
     "name": "stdout",
     "output_type": "stream",
     "text": [
      "The total amount of water consumed is 7300 litres\n",
      "The total amount of water consumed is 27375 litres\n"
     ]
    }
   ],
   "source": [
    "water_supply(age = 10)\n",
    "water_supply(daily_amount = 1)"
   ]
  },
  {
   "cell_type": "markdown",
   "metadata": {},
   "source": [
    "**Question 5** - Calling the function with two arguments will always lead to the default values being overwritten.  When using positional arguments, it is important to ensure that the order of the values passes to the function match the order of the arguments the function is expecting"
   ]
  },
  {
   "cell_type": "code",
   "execution_count": 24,
   "metadata": {},
   "outputs": [
    {
     "name": "stdout",
     "output_type": "stream",
     "text": [
      "The total amount of water consumed is 13140 litres\n"
     ]
    }
   ],
   "source": [
    "water_supply(18, 2)"
   ]
  },
  {
   "cell_type": "markdown",
   "metadata": {},
   "source": [
    "## Exercise 3 - Variadic functions"
   ]
  },
  {
   "cell_type": "markdown",
   "metadata": {},
   "source": [
    "***\n",
    "**Question 1.**"
   ]
  },
  {
   "cell_type": "code",
   "execution_count": 68,
   "metadata": {},
   "outputs": [
    {
     "name": "stdout",
     "output_type": "stream",
     "text": [
      "10 24\n"
     ]
    }
   ],
   "source": [
    "def sum_prod(*numbers):\n",
    "    \n",
    "    # set the value of the sum (s) to zero\n",
    "    s = 0\n",
    "    # set the value of the product (p) to one\n",
    "    p = 1\n",
    "    \n",
    "    for n in numbers:\n",
    "        s += n\n",
    "        p *= n\n",
    "\n",
    "    return s, p\n",
    "\n",
    "s, p = sum_prod(1, 2, 3, 4)\n",
    "print(s, p)"
   ]
  },
  {
   "cell_type": "markdown",
   "metadata": {},
   "source": [
    "***\n",
    "**Question 2.**.  Here we use some of Python's built-in functions.  Recall that `len` computes the number of entries in a tuple"
   ]
  },
  {
   "cell_type": "code",
   "execution_count": 70,
   "metadata": {},
   "outputs": [
    {
     "name": "stdout",
     "output_type": "stream",
     "text": [
      "1\n",
      "7\n",
      "4.0\n"
     ]
    }
   ],
   "source": [
    "def analyse_numbers(*numbers):\n",
    "\n",
    "    return min(numbers), max(numbers), sum(numbers) / len(numbers)\n",
    "\n",
    "maximum, minimum, mean = analyse_numbers(1, 2, 3, 4, 5, 6, 7)\n",
    "print(maximum)\n",
    "print(minimum)\n",
    "print(mean)"
   ]
  },
  {
   "cell_type": "markdown",
   "metadata": {},
   "source": [
    "## Exercise 4 - Variable scope"
   ]
  },
  {
   "cell_type": "markdown",
   "metadata": {},
   "source": [
    "***\n",
    "**Question 1.** This prints \"I hate spam\" because S is a global variable (since it is defined in the main body of code)"
   ]
  },
  {
   "cell_type": "code",
   "execution_count": 73,
   "metadata": {},
   "outputs": [
    {
     "name": "stdout",
     "output_type": "stream",
     "text": [
      "I hate spam\n"
     ]
    }
   ],
   "source": [
    "def F():\n",
    "    print(S)\n",
    "    \n",
    "S = \"I hate spam\"\n",
    "F()"
   ]
  },
  {
   "cell_type": "markdown",
   "metadata": {},
   "source": [
    "***\n",
    "**Question 2.** This prints \"Me too\" followed by \"I hate spam\".  When S is defined locally in the function F, it overrides the value of S defined in the main body of Python code"
   ]
  },
  {
   "cell_type": "code",
   "execution_count": 74,
   "metadata": {},
   "outputs": [
    {
     "name": "stdout",
     "output_type": "stream",
     "text": [
      "Me too\n",
      "I hate spam\n"
     ]
    }
   ],
   "source": [
    "def F():\n",
    "    S = \"Me too\"\n",
    "    print(S)\n",
    "    \n",
    "S = \"I hate spam\"\n",
    "F()\n",
    "print(S)"
   ]
  },
  {
   "cell_type": "markdown",
   "metadata": {},
   "source": [
    "***\n",
    "**Question 3.** This prints \"Me too\" twice.  In the function F we declare that S is a global variable with global scope.  Therefore, when the function F is called, it overwrites the value of S that was set in the main body of code."
   ]
  },
  {
   "cell_type": "code",
   "execution_count": 75,
   "metadata": {
    "scrolled": true
   },
   "outputs": [
    {
     "name": "stdout",
     "output_type": "stream",
     "text": [
      "Me too\n",
      "Me too\n"
     ]
    }
   ],
   "source": [
    "def F():\n",
    "    global S\n",
    "    S = \"Me too\"\n",
    "    print(S)\n",
    "    \n",
    "S = \"I hate spam\"\n",
    "F()\n",
    "print(S)"
   ]
  },
  {
   "cell_type": "markdown",
   "metadata": {},
   "source": [
    "***\n",
    "**Question 4.** This creates an error.  Although the function F runs correctly when it is called, the variable T has local scope and cannot be accessed outside of this function.  Therefore, calling print(T) leads to an error since T is not defined"
   ]
  },
  {
   "cell_type": "code",
   "execution_count": 77,
   "metadata": {},
   "outputs": [
    {
     "name": "stdout",
     "output_type": "stream",
     "text": [
      "I am a variable\n"
     ]
    },
    {
     "ename": "NameError",
     "evalue": "name 'T' is not defined",
     "output_type": "error",
     "traceback": [
      "\u001b[0;31m---------------------------------------------------------------------------\u001b[0m",
      "\u001b[0;31mNameError\u001b[0m                                 Traceback (most recent call last)",
      "\u001b[0;32m<ipython-input-77-55ad425ac11d>\u001b[0m in \u001b[0;36m<module>\u001b[0;34m\u001b[0m\n\u001b[1;32m      4\u001b[0m \u001b[0;34m\u001b[0m\u001b[0m\n\u001b[1;32m      5\u001b[0m \u001b[0mF\u001b[0m\u001b[0;34m(\u001b[0m\u001b[0;34m)\u001b[0m\u001b[0;34m\u001b[0m\u001b[0;34m\u001b[0m\u001b[0m\n\u001b[0;32m----> 6\u001b[0;31m \u001b[0mprint\u001b[0m\u001b[0;34m(\u001b[0m\u001b[0mT\u001b[0m\u001b[0;34m)\u001b[0m\u001b[0;34m\u001b[0m\u001b[0;34m\u001b[0m\u001b[0m\n\u001b[0m",
      "\u001b[0;31mNameError\u001b[0m: name 'T' is not defined"
     ]
    }
   ],
   "source": [
    "def F():\n",
    "    T = \"I am a variable\"\n",
    "    print(T)\n",
    "    \n",
    "F()\n",
    "print(T)"
   ]
  },
  {
   "cell_type": "markdown",
   "metadata": {},
   "source": [
    "## Exercise 5 -  Recursive functions"
   ]
  },
  {
   "cell_type": "markdown",
   "metadata": {},
   "source": [
    "***\n",
    "**Question 1.**"
   ]
  },
  {
   "cell_type": "code",
   "execution_count": 80,
   "metadata": {},
   "outputs": [
    {
     "name": "stdout",
     "output_type": "stream",
     "text": [
      "120\n"
     ]
    }
   ],
   "source": [
    "def factorial(n):\n",
    "    if n == 0:\n",
    "        return 1\n",
    "    else:\n",
    "        return n * factorial(n - 1)\n",
    "        \n",
    "print(factorial(5))"
   ]
  },
  {
   "cell_type": "markdown",
   "metadata": {},
   "source": [
    "***\n",
    "**Question 2 and 3**"
   ]
  },
  {
   "cell_type": "code",
   "execution_count": 155,
   "metadata": {},
   "outputs": [
    {
     "name": "stdout",
     "output_type": "stream",
     "text": [
      "1 1 2 3 5 8 13 21 34 55 89 144 233 377 "
     ]
    }
   ],
   "source": [
    "def Fib(n):\n",
    "    if n == 1 or n == 2:\n",
    "        return 1\n",
    "    else:\n",
    "        return Fib(n-1) + Fib(n-2)\n",
    "    \n",
    "for i in range(1,15):\n",
    "    print(Fib(i), end = \" \")"
   ]
  }
 ],
 "metadata": {
  "kernelspec": {
   "display_name": "Python 3",
   "language": "python",
   "name": "python3"
  },
  "language_info": {
   "codemirror_mode": {
    "name": "ipython",
    "version": 3
   },
   "file_extension": ".py",
   "mimetype": "text/x-python",
   "name": "python",
   "nbconvert_exporter": "python",
   "pygments_lexer": "ipython3",
   "version": "3.8.8"
  }
 },
 "nbformat": 4,
 "nbformat_minor": 4
}
