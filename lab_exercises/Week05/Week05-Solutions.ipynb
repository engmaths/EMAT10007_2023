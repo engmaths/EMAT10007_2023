{
 "cells": [
  {
   "cell_type": "markdown",
   "metadata": {},
   "source": [
    "# Exercise 1 - Lists"
   ]
  },
  {
   "cell_type": "markdown",
   "metadata": {},
   "source": [
    "**Question 1.**"
   ]
  },
  {
   "cell_type": "code",
   "execution_count": 111,
   "metadata": {},
   "outputs": [],
   "source": [
    "a = [1, 2]\n",
    "b = [3, 4]"
   ]
  },
  {
   "cell_type": "markdown",
   "metadata": {},
   "source": [
    "***\n",
    "**Question 2.**"
   ]
  },
  {
   "cell_type": "code",
   "execution_count": 112,
   "metadata": {},
   "outputs": [],
   "source": [
    "a[0] = 5"
   ]
  },
  {
   "cell_type": "markdown",
   "metadata": {},
   "source": [
    "***\n",
    "**Question 3.**"
   ]
  },
  {
   "cell_type": "code",
   "execution_count": 113,
   "metadata": {},
   "outputs": [
    {
     "name": "stdout",
     "output_type": "stream",
     "text": [
      "[[5, 2], [3, 4]]\n"
     ]
    }
   ],
   "source": [
    "nested = [a, b]\n",
    "print(nested)"
   ]
  },
  {
   "cell_type": "markdown",
   "metadata": {},
   "source": [
    "***\n",
    "**Question 4.**"
   ]
  },
  {
   "cell_type": "code",
   "execution_count": 114,
   "metadata": {},
   "outputs": [
    {
     "name": "stdout",
     "output_type": "stream",
     "text": [
      "5\n",
      "2\n",
      "3\n",
      "4\n"
     ]
    }
   ],
   "source": [
    "# the first loop; l is an element of nested so will be a list\n",
    "for l in nested:\n",
    "    # the second list; e is an element of the list l\n",
    "    for e in l:\n",
    "        print(e)"
   ]
  },
  {
   "cell_type": "markdown",
   "metadata": {},
   "source": [
    "***\n",
    "**Question 5.**"
   ]
  },
  {
   "cell_type": "code",
   "execution_count": 3,
   "metadata": {},
   "outputs": [
    {
     "name": "stdout",
     "output_type": "stream",
     "text": [
      "red\n",
      "yellow\n",
      "blue\n",
      "green\n",
      "potato\n",
      "['red', 'yellow', 'blue', 'green', 'potato']\n",
      "6\n"
     ]
    }
   ],
   "source": [
    "word_list = []\n",
    "for n in range(5):\n",
    "    word = input()\n",
    "    word_list.append(word)\n",
    "    \n",
    "print(word_list)\n",
    "print(len(word_list[-1]))"
   ]
  },
  {
   "cell_type": "markdown",
   "metadata": {},
   "source": [
    "# Exercise 2 - List operations"
   ]
  },
  {
   "cell_type": "markdown",
   "metadata": {},
   "source": [
    "**Question 1.**"
   ]
  },
  {
   "cell_type": "code",
   "execution_count": 5,
   "metadata": {},
   "outputs": [
    {
     "name": "stdout",
     "output_type": "stream",
     "text": [
      "['red', 'blue', 'green', 'red', 'blue', 'green', 'red', 'blue', 'green']\n"
     ]
    }
   ],
   "source": [
    "colours = ['red', 'blue', 'green']\n",
    "print(3 * colours)"
   ]
  },
  {
   "cell_type": "markdown",
   "metadata": {},
   "source": [
    "***\n",
    "**Question 2.**"
   ]
  },
  {
   "cell_type": "code",
   "execution_count": 6,
   "metadata": {},
   "outputs": [
    {
     "name": "stdout",
     "output_type": "stream",
     "text": [
      "False\n",
      "True\n"
     ]
    }
   ],
   "source": [
    "L = [True, True, False]\n",
    "print(all(L))\n",
    "print(any(L))"
   ]
  },
  {
   "cell_type": "code",
   "execution_count": 8,
   "metadata": {},
   "outputs": [
    {
     "name": "stdout",
     "output_type": "stream",
     "text": [
      "True\n"
     ]
    }
   ],
   "source": [
    "L = [4, 7, -3, 5, 1, 8]\n",
    "print(any([l < 0 for l in L]))"
   ]
  },
  {
   "cell_type": "markdown",
   "metadata": {},
   "source": [
    "***\n",
    "**Question 3.**"
   ]
  },
  {
   "cell_type": "code",
   "execution_count": 115,
   "metadata": {},
   "outputs": [
    {
     "name": "stdout",
     "output_type": "stream",
     "text": [
      "[1, 3, 5, 7, 9, 11, 13, 15, 17, 19, 21, 23, 25, 27, 29, 31, 33, 35, 37, 39, 41, 43, 45, 47, 49, 51, 53, 55, 57, 59, 61, 63, 65, 67, 69, 71, 73, 75, 77, 79, 81, 83, 85, 87, 89, 91, 93, 95, 97, 99]\n"
     ]
    }
   ],
   "source": [
    "l = [e for e in range(101) if e % 2 != 0]\n",
    "print(l)"
   ]
  },
  {
   "cell_type": "code",
   "execution_count": 116,
   "metadata": {},
   "outputs": [
    {
     "name": "stdout",
     "output_type": "stream",
     "text": [
      "[0, 3, 6, 9, 12, 15, 18, 21, 24, 27, 30, 33, 36, 39, 42, 45, 48, 51, 54, 57, 60, 63, 66, 69, 72, 75, 78, 81, 84, 87, 90, 93, 96, 99]\n"
     ]
    }
   ],
   "source": [
    "l = [e for e in range(101) if e % 3 == 0]\n",
    "print(l)"
   ]
  },
  {
   "cell_type": "code",
   "execution_count": 9,
   "metadata": {},
   "outputs": [
    {
     "name": "stdout",
     "output_type": "stream",
     "text": [
      "[2, 3, 5, 7, 11, 13, 17, 19, 23, 29, 31, 37, 41, 43, 47, 53, 59, 61, 67, 71, 73, 79, 83, 89, 97]\n"
     ]
    }
   ],
   "source": [
    "l = [e for e in range(101) if all([e % x != 0 for x in range(2, e)]) and e > 1]\n",
    "print(l)"
   ]
  },
  {
   "cell_type": "markdown",
   "metadata": {},
   "source": [
    "# Exercise 3 - Tuples"
   ]
  },
  {
   "cell_type": "markdown",
   "metadata": {},
   "source": [
    "***\n",
    "**Question 1.**"
   ]
  },
  {
   "cell_type": "code",
   "execution_count": 130,
   "metadata": {},
   "outputs": [],
   "source": [
    "fondue_ingredients = ('gruyere', 'vacherin')"
   ]
  },
  {
   "cell_type": "markdown",
   "metadata": {},
   "source": [
    "***\n",
    "**Question 2.**"
   ]
  },
  {
   "cell_type": "code",
   "execution_count": 131,
   "metadata": {},
   "outputs": [
    {
     "name": "stdout",
     "output_type": "stream",
     "text": [
      "('gruyere', 'vacherin')\n"
     ]
    }
   ],
   "source": [
    "print(fondue_ingredients)"
   ]
  },
  {
   "cell_type": "markdown",
   "metadata": {},
   "source": [
    "***\n",
    "**Question 3.**  It is not possible to change \"gruyere\" to \"cheddar\" becauase tuples are immutable"
   ]
  },
  {
   "cell_type": "markdown",
   "metadata": {},
   "source": [
    "***\n",
    "# Exercise 4 - Modelling using data structures"
   ]
  },
  {
   "cell_type": "code",
   "execution_count": 13,
   "metadata": {},
   "outputs": [],
   "source": [
    "planets = {'Mercury': (4878, 0.06, 1407.6),\n",
    "           'Venus': (12100, 0.82, 5832),\n",
    "           'Earth': (12756, 1.00, 23.934),\n",
    "           'Mars': (6794, 0.11, 24.623),\n",
    "           'Jupiter': (142800, 317.89, 9.842),\n",
    "           'Saturn': (120000, 95.17, 10.233),\n",
    "           'Uranus': (52400, 14.56, 16),\n",
    "           'Neptune': (48400, 17.24, 18),\n",
    "           'Pluto': [2445, 0.002, 153.36]\n",
    "          }"
   ]
  },
  {
   "cell_type": "markdown",
   "metadata": {},
   "source": [
    "***\n",
    "**Question 1.** "
   ]
  },
  {
   "cell_type": "code",
   "execution_count": 19,
   "metadata": {},
   "outputs": [
    {
     "name": "stdout",
     "output_type": "stream",
     "text": [
      "Jupiter 9.842\n",
      "Saturn 10.233\n",
      "Uranus 16\n",
      "Neptune 18\n"
     ]
    }
   ],
   "source": [
    "earth_rot = planets['Earth'][2]\n",
    "\n",
    "for k in planets:\n",
    "    planet_rot = planets[k][2]\n",
    "    if planet_rot < earth_rot:\n",
    "        print(k, planet_rot)"
   ]
  },
  {
   "cell_type": "markdown",
   "metadata": {},
   "source": [
    "***\n",
    "# Exercise 5 - Sorting lists"
   ]
  },
  {
   "cell_type": "markdown",
   "metadata": {},
   "source": [
    "The idea behind the code below is to first loop over all of the elements to find the smallest value in the list and its index.  Then the first element and the smallest element are swapped.  Then a loop is used to find the second-smallest number and its index by looping over the all list elements except the first (which we know is the smallest).  Then the second element and the second-smallest element are swapped.  The process then continues to find the third-smallest element and its index by looping over all of the elements except the first and second, etc"
   ]
  },
  {
   "cell_type": "code",
   "execution_count": 25,
   "metadata": {},
   "outputs": [
    {
     "name": "stdout",
     "output_type": "stream",
     "text": [
      "[1, 3, 3, 5, 5, 6, 6, 8, 9]\n"
     ]
    }
   ],
   "source": [
    "# define the list to be sorted\n",
    "L = [6, 5, 3, 1, 5, 8, 9, 3, 6]\n",
    "\n",
    "# compute length of list\n",
    "N = len(L)\n",
    "\n",
    "# loop over all of the entries in the list, starting from the first\n",
    "for n in range(N):\n",
    "\n",
    "    current_min_value = L[n]\n",
    "    current_min_index = n\n",
    "    \n",
    "    # loop over all of the other elements to find the smallest number\n",
    "    for m in range(n+1, N):\n",
    "        \n",
    "        # determine whether the current element is the smallest\n",
    "        if L[m] < current_min_value:\n",
    "            current_min_value = L[m]\n",
    "            current_min_index = m\n",
    "            \n",
    "    # swap entries\n",
    "    temp_value = L[n]\n",
    "    L[n] = current_min_value\n",
    "    L[current_min_index] = temp_value\n",
    "    \n",
    "    \n",
    "# print the sorted list\n",
    "print(L)"
   ]
  }
 ],
 "metadata": {
  "kernelspec": {
   "display_name": "Python 3 (ipykernel)",
   "language": "python",
   "name": "python3"
  },
  "language_info": {
   "codemirror_mode": {
    "name": "ipython",
    "version": 3
   },
   "file_extension": ".py",
   "mimetype": "text/x-python",
   "name": "python",
   "nbconvert_exporter": "python",
   "pygments_lexer": "ipython3",
   "version": "3.11.4"
  }
 },
 "nbformat": 4,
 "nbformat_minor": 4
}
