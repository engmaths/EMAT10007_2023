{
 "cells": [
  {
   "cell_type": "markdown",
   "metadata": {},
   "source": [
    "## Exercise 1"
   ]
  },
  {
   "cell_type": "markdown",
   "metadata": {},
   "source": [
    "***\n",
    "**Question 1.**"
   ]
  },
  {
   "cell_type": "code",
   "execution_count": 2,
   "metadata": {},
   "outputs": [
    {
     "name": "stdout",
     "output_type": "stream",
     "text": [
      "My name is Ada Lovelace\n"
     ]
    }
   ],
   "source": [
    "def print_name():\n",
    "    name = 'Ada Lovelace'\n",
    "    print('My name is', name)\n",
    "    \n",
    "print_name()"
   ]
  },
  {
   "cell_type": "markdown",
   "metadata": {},
   "source": [
    "***\n",
    "**Question 2.**"
   ]
  },
  {
   "cell_type": "code",
   "execution_count": 3,
   "metadata": {},
   "outputs": [
    {
     "name": "stdout",
     "output_type": "stream",
     "text": [
      "1 + 2 = 3\n"
     ]
    }
   ],
   "source": [
    "def add():\n",
    "    a = 1\n",
    "    b = 2\n",
    "    print(a, '+', b, '=', a+b)\n",
    "    \n",
    "add()"
   ]
  },
  {
   "cell_type": "markdown",
   "metadata": {},
   "source": [
    "***\n",
    "**Question 3.**"
   ]
  },
  {
   "cell_type": "markdown",
   "metadata": {},
   "source": [
    "A single function should not have two main goals"
   ]
  },
  {
   "cell_type": "markdown",
   "metadata": {},
   "source": [
    "## Exercise 2"
   ]
  },
  {
   "cell_type": "markdown",
   "metadata": {},
   "source": [
    "***\n",
    "**Question 1.**"
   ]
  },
  {
   "cell_type": "code",
   "execution_count": 4,
   "metadata": {},
   "outputs": [],
   "source": [
    "def compute_square(number):\n",
    "    # Returns the square\n",
    "    squared = number ** 2\n",
    "    return squared"
   ]
  },
  {
   "cell_type": "markdown",
   "metadata": {},
   "source": [
    "***\n",
    "**Question 2.**"
   ]
  },
  {
   "cell_type": "code",
   "execution_count": 13,
   "metadata": {},
   "outputs": [
    {
     "name": "stdout",
     "output_type": "stream",
     "text": [
      "1\n",
      "4\n",
      "9\n",
      "16\n",
      "25\n",
      "36\n",
      "49\n",
      "64\n",
      "81\n",
      "100\n"
     ]
    }
   ],
   "source": [
    "for n in range(1,11):\n",
    "    print(compute_square(n))"
   ]
  },
  {
   "cell_type": "markdown",
   "metadata": {},
   "source": [
    "***\n",
    "**Question 3.**"
   ]
  },
  {
   "cell_type": "code",
   "execution_count": 6,
   "metadata": {},
   "outputs": [],
   "source": [
    "def calc_power(number, power):\n",
    "    return number ** power"
   ]
  },
  {
   "cell_type": "markdown",
   "metadata": {},
   "source": [
    "***\n",
    "**Question 4.**"
   ]
  },
  {
   "cell_type": "code",
   "execution_count": 7,
   "metadata": {},
   "outputs": [
    {
     "name": "stdout",
     "output_type": "stream",
     "text": [
      "2\n",
      "4\n",
      "8\n",
      "16\n",
      "32\n",
      "64\n",
      "128\n",
      "256\n",
      "512\n",
      "1024\n"
     ]
    }
   ],
   "source": [
    "for p in range(1, 11):\n",
    "    print(calc_power(2, p))"
   ]
  },
  {
   "cell_type": "markdown",
   "metadata": {},
   "source": [
    "***\n",
    "**Question 5.** Here's one solution to this problem"
   ]
  },
  {
   "cell_type": "code",
   "execution_count": 8,
   "metadata": {},
   "outputs": [
    {
     "name": "stdout",
     "output_type": "stream",
     "text": [
      "[2, 8, 16]\n"
     ]
    }
   ],
   "source": [
    "def calc_powers(number, powers):\n",
    "    ans = []\n",
    "    for p in powers:\n",
    "        ans.append(number ** p)\n",
    "    return ans\n",
    "\n",
    "print(calc_powers(2, [1, 3, 4]))"
   ]
  },
  {
   "cell_type": "markdown",
   "metadata": {},
   "source": [
    "We can also solve this problem using list comprehensions"
   ]
  },
  {
   "cell_type": "code",
   "execution_count": 10,
   "metadata": {},
   "outputs": [
    {
     "name": "stdout",
     "output_type": "stream",
     "text": [
      "[2, 8, 16]\n"
     ]
    }
   ],
   "source": [
    "def calc_powers(number, powers):\n",
    "    return [number ** p for p in powers]\n",
    "\n",
    "print(calc_powers(2, [1, 3, 4]))"
   ]
  },
  {
   "cell_type": "markdown",
   "metadata": {},
   "source": [
    "***\n",
    "**Question 6.**"
   ]
  },
  {
   "cell_type": "code",
   "execution_count": 11,
   "metadata": {},
   "outputs": [
    {
     "name": "stdout",
     "output_type": "stream",
     "text": [
      "0.5\n",
      "undefined\n"
     ]
    }
   ],
   "source": [
    "def inverse(x):\n",
    "    if x == 0:\n",
    "        return 'undefined'\n",
    "    else:\n",
    "        return 1 / x\n",
    "\n",
    "print(inverse(2))\n",
    "print(inverse(0))"
   ]
  },
  {
   "cell_type": "markdown",
   "metadata": {},
   "source": [
    "***\n",
    "**Question 7.**"
   ]
  },
  {
   "cell_type": "code",
   "execution_count": 12,
   "metadata": {},
   "outputs": [
    {
     "name": "stdout",
     "output_type": "stream",
     "text": [
      "{1, 3, 5}\n",
      "['red', 'blue', 'green']\n"
     ]
    }
   ],
   "source": [
    "def swap(a, b):\n",
    "    return (b, a)\n",
    "\n",
    "a = ['red', 'blue', 'green']\n",
    "b = {1, 3, 5}\n",
    "\n",
    "a, b = swap(a, b)\n",
    "print(a)\n",
    "print(b)"
   ]
  },
  {
   "cell_type": "markdown",
   "metadata": {},
   "source": [
    "## Exercise 3"
   ]
  },
  {
   "cell_type": "code",
   "execution_count": 14,
   "metadata": {},
   "outputs": [
    {
     "name": "stdout",
     "output_type": "stream",
     "text": [
      "7.5\n"
     ]
    }
   ],
   "source": [
    "from math import pi\n",
    "\n",
    "def rectangle_area(width, height):\n",
    "    \"\"\"\n",
    "    This function computes the area of a rectangle.\n",
    "    \n",
    "    Arguments: the width and height of the rectangle\n",
    "    \n",
    "    Output: the area\n",
    "    \"\"\"\n",
    "    \n",
    "    return width * height\n",
    "\n",
    "\n",
    "def triangle_area(base, height):\n",
    "    \"\"\"\n",
    "    This function computes the area of a triangle\n",
    "    \n",
    "    Arguments: the base and height of the triangle\n",
    "    \n",
    "    Outputs: the area\n",
    "    \"\"\"\n",
    "    \n",
    "    return 0.5 * base * height\n",
    "\n",
    "\n",
    "def ellipse_area(minor_axis, major_axis):\n",
    "    \"\"\"\n",
    "    This function computes the area of an ellipse\n",
    "    \n",
    "    Arguments: the radii of the minor and major axes\n",
    "    \n",
    "    Outputs: the area\n",
    "    \"\"\"\n",
    "    \n",
    "    return pi * minor_axis * major_axis\n",
    "\n",
    "\n",
    "house_area = triangle_area(3, 1) + rectangle_area(3, 2)\n",
    "print(house_area)"
   ]
  },
  {
   "cell_type": "markdown",
   "metadata": {},
   "source": [
    "## Exercise 4"
   ]
  },
  {
   "cell_type": "markdown",
   "metadata": {},
   "source": [
    "#### Question 1"
   ]
  },
  {
   "cell_type": "code",
   "execution_count": 2,
   "metadata": {},
   "outputs": [
    {
     "name": "stdout",
     "output_type": "stream",
     "text": [
      "A =  0.5\n",
      "A =  0.3350000000000001\n",
      "A =  0.33335000000000015\n"
     ]
    }
   ],
   "source": [
    "a = 0\n",
    "b = 1\n",
    "\n",
    "def y(x):\n",
    "    return x**2\n",
    "\n",
    "\n",
    "for N in [1, 10, 100]:\n",
    "    \n",
    "    dx = (b - a) / N\n",
    "    A = 1/2 * (y(a) + y(b)) * dx\n",
    "        \n",
    "    for i in range(1, N):\n",
    "        x_i = a + i * dx\n",
    "        A += y(x_i) * dx\n",
    "        \n",
    "    print('A = ', A)"
   ]
  },
  {
   "cell_type": "code",
   "execution_count": 1,
   "metadata": {},
   "outputs": [
    {
     "name": "stdout",
     "output_type": "stream",
     "text": [
      "A =  0.1778800783071405\n",
      "A =  0.18444748897241\n",
      "A =  0.1845117535631123\n",
      "A =  0.18451239607511036\n"
     ]
    }
   ],
   "source": [
    "from math import *\n",
    "\n",
    "# Physical parameters.  A dictionary is used to store the parameters\n",
    "L = 0.1\n",
    "params = {\"alpha\":2, \"beta\":0.2}\n",
    "\n",
    "# Domain of integration\n",
    "a = 0\n",
    "b = L\n",
    "\n",
    "# Function that defines the curve; parameters are passed as an argument\n",
    "def y(x, params):\n",
    "    \n",
    "    return params[\"alpha\"] * exp(-x**2 / params[\"beta\"]**2)\n",
    "\n",
    "# a for loop to compute the area for different values of N\n",
    "for N in [1, 10, 100, 1000]:\n",
    "    \n",
    "    dx = (b - a) / N\n",
    "    A = 1/2 * (y(a, params) + y(b, params)) * dx\n",
    "        \n",
    "    for i in range(1, N):\n",
    "        x_i = a + i * dx\n",
    "        A += y(x_i, params) * dx\n",
    "        \n",
    "    # print the value of A to the screen\n",
    "    print('A = ', A)"
   ]
  },
  {
   "cell_type": "code",
   "execution_count": 16,
   "metadata": {},
   "outputs": [
    {
     "name": "stdout",
     "output_type": "stream",
     "text": [
      "0.33335000000000015\n"
     ]
    }
   ],
   "source": [
    "def trapezium(y, a, b, N):\n",
    "    \"\"\"\n",
    "    This function computes the area under a curve y(x) from\n",
    "    x = a to x = b using the trapezium rule with N trapezoids\n",
    "    \n",
    "    Inputs:\n",
    "    y(x) - a function to compute the value of the curve.  Here\n",
    "    we assume that y does not require any additional parameters\n",
    "    to be passed to it.\n",
    "    a - the left point of the area\n",
    "    b - the right point of the area\n",
    "    N - the number of trapezoids to use\n",
    "    \"\"\"\n",
    "    \n",
    "    dx = (b - a) / N\n",
    "    A = 1/2 * (y(a) + y(b)) * dx\n",
    "\n",
    "    for i in range(1, N):\n",
    "        x_i = a + i * dx\n",
    "        A += y(x_i) * dx\n",
    "        \n",
    "        \n",
    "    return A\n",
    "        \n",
    "# define the curves\n",
    "def y(x):\n",
    "    return x**2\n",
    "\n",
    "A = trapezium(y, 0, 1, 100)\n",
    "print(A)"
   ]
  },
  {
   "cell_type": "markdown",
   "metadata": {},
   "source": [
    "## Exercise 5"
   ]
  },
  {
   "cell_type": "markdown",
   "metadata": {},
   "source": [
    "***\n",
    "**Question 1.**"
   ]
  },
  {
   "cell_type": "code",
   "execution_count": 21,
   "metadata": {},
   "outputs": [
    {
     "name": "stdout",
     "output_type": "stream",
     "text": [
      "4\n"
     ]
    }
   ],
   "source": [
    "def median(a, b, c):\n",
    "    if a < b:\n",
    "        if b < c:\n",
    "            return b\n",
    "        if c < a:\n",
    "            return a\n",
    "    else:\n",
    "        if a < c:\n",
    "            return a\n",
    "        if c < b:\n",
    "            return b\n",
    "\n",
    "print(median(5, 4, 3))"
   ]
  },
  {
   "cell_type": "markdown",
   "metadata": {},
   "source": [
    "***\n",
    "**Question 2.**: In this solution, we convert the integer into a string.  We then loop through the entries of the string, convert them into an integer, and sum them up."
   ]
  },
  {
   "cell_type": "code",
   "execution_count": 81,
   "metadata": {},
   "outputs": [
    {
     "name": "stdout",
     "output_type": "stream",
     "text": [
      "10\n"
     ]
    }
   ],
   "source": [
    "def sum_digits(N):\n",
    "    string = str(N)\n",
    "    S = 0\n",
    "    for s in string:\n",
    "        S += int(s)\n",
    "    return S\n",
    "\n",
    "print(sum_digits(1234))\n",
    "        "
   ]
  },
  {
   "cell_type": "markdown",
   "metadata": {},
   "source": [
    "Another solution is to use maths without converting between types.  The trick here is to note that the digits of a number $N$ are the divisors of powers of 10 and can be calculated using floor division.  For example, $1234 = 1 * 10^3 + 2 * 10^2 + 3 * 10^1 + 4 * 10^0$.  The first step in the code is to calculate the largest power of 10 that (floor) divides $N$.  Let's call this power $p$.  In the example when $N = 1234$ we have $p = 3$.\n",
    "\n",
    "Once we have $p$, we can extract the first digit using floor division and calculating $N // 10^p$.  In the example above, $N // 10^3 = 1$, which is indeed the first digit.\n",
    "\n",
    "To calculate the second digit in the example, we use the fact that $1234 - 1 * 10^3 = 2 * 10^2 + 3 * 10^1  + 4 * 10^0$.  So, by substracting off the first digit times $10^p$ from $N$, we can floor divide the result by $10^{p-1}$ to obtain the second digit.\n",
    "\n",
    "We then repeat this process to extract all of the digits and sum them up"
   ]
  },
  {
   "cell_type": "code",
   "execution_count": 105,
   "metadata": {},
   "outputs": [
    {
     "name": "stdout",
     "output_type": "stream",
     "text": [
      "10\n"
     ]
    }
   ],
   "source": [
    "def sum_digits(N):\n",
    "    \n",
    "    # use floor division to calculate the largest power of 10 that divides N\n",
    "    p = 0\n",
    "    while N // 10**(p+1) > 0:\n",
    "        p += 1\n",
    "        \n",
    "    # set the sum of the digits to zero\n",
    "    S = 0\n",
    "    \n",
    "    # extract the digits of N\n",
    "    while p >= 0:\n",
    "        \n",
    "        # calculate the digit\n",
    "        digit = N // 10**p\n",
    "        \n",
    "        # add the digit to the sum\n",
    "        S += digit\n",
    "        \n",
    "        # substract off the current digit times the current power of ten\n",
    "        N -= digit * 10**p\n",
    "        \n",
    "        # decrease the power of 10\n",
    "        p -= 1\n",
    "        \n",
    "    return S\n",
    "\n",
    "print(sum_digits(1234))"
   ]
  },
  {
   "cell_type": "markdown",
   "metadata": {},
   "source": [
    "***\n",
    "**Question 3.**  We solve this problem in two parts.  First we create a function that determines whether an integer is prime.  Then we create a function that computes the prime factorization.  The first thing we do here is create a list of all of the prime numbers that are between 2 and $N$.  We then divide $N$ by these prime numbers.  If there is zero remainder, then we've found a prime factor.  We then reassign the value of $N$ by dividing it by this prime factor and we repeat the calculation"
   ]
  },
  {
   "cell_type": "code",
   "execution_count": 149,
   "metadata": {},
   "outputs": [
    {
     "name": "stdout",
     "output_type": "stream",
     "text": [
      "[3, 7, 7]\n"
     ]
    }
   ],
   "source": [
    "# define a function that tests whether a number is prime\n",
    "def is_prime(N):\n",
    "    if N == 1:\n",
    "        return True\n",
    "    else:\n",
    "        for i in range(2, N):\n",
    "            if N % i == 0:\n",
    "                return False\n",
    "        \n",
    "        return True\n",
    "\n",
    "# the function that computes the prime factorizations\n",
    "def prime_factorization(N):\n",
    "    \n",
    "    # a list of prime factors\n",
    "    factors = []\n",
    "    \n",
    "    # a list of prime numbers between 2 and N\n",
    "    primes = [n for n in range(2, N+1) if is_prime(n)]\n",
    "    \n",
    "    # looping through the primes to find the factors\n",
    "    while N > 1:\n",
    "        for p in primes:\n",
    "            if N % p == 0:\n",
    "                factors.append(p)\n",
    "                N = int(N / p)\n",
    "                break\n",
    "\n",
    "    # return the list\n",
    "    return factors\n",
    "\n",
    "print(prime_factorization(147))\n",
    "        "
   ]
  }
 ],
 "metadata": {
  "kernelspec": {
   "display_name": "Python 3",
   "language": "python",
   "name": "python3"
  },
  "language_info": {
   "codemirror_mode": {
    "name": "ipython",
    "version": 3
   },
   "file_extension": ".py",
   "mimetype": "text/x-python",
   "name": "python",
   "nbconvert_exporter": "python",
   "pygments_lexer": "ipython3",
   "version": "3.8.8"
  }
 },
 "nbformat": 4,
 "nbformat_minor": 4
}
