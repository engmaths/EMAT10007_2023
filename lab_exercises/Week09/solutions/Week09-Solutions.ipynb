{
 "cells": [
  {
   "cell_type": "markdown",
   "metadata": {},
   "source": [
    "# Week 9 - NumPy"
   ]
  },
  {
   "cell_type": "code",
   "execution_count": 1,
   "metadata": {},
   "outputs": [],
   "source": [
    "import numpy as np"
   ]
  },
  {
   "cell_type": "markdown",
   "metadata": {},
   "source": [
    "***\n",
    "## Exercise 1 - Creating arrays and accessing elements"
   ]
  },
  {
   "cell_type": "markdown",
   "metadata": {},
   "source": [
    "***\n",
    "**Question 1.**"
   ]
  },
  {
   "cell_type": "code",
   "execution_count": 2,
   "metadata": {},
   "outputs": [],
   "source": [
    "a = np.array([5, 4, 9, 2, 0, 4, 7, 2])"
   ]
  },
  {
   "cell_type": "markdown",
   "metadata": {},
   "source": [
    "***\n",
    "**Question 2.**"
   ]
  },
  {
   "cell_type": "code",
   "execution_count": 3,
   "metadata": {},
   "outputs": [
    {
     "name": "stdout",
     "output_type": "stream",
     "text": [
      "5\n",
      "2\n",
      "[4 9 2 0 4]\n"
     ]
    }
   ],
   "source": [
    "# print the first entry\n",
    "print(a[0])\n",
    "\n",
    "# print the last entry\n",
    "print(a[-1])\n",
    "\n",
    "#print the second-to-sixth entries using colon notation\n",
    "print(a[1:6])"
   ]
  },
  {
   "cell_type": "markdown",
   "metadata": {},
   "source": [
    "***\n",
    "**Question 3.**"
   ]
  },
  {
   "cell_type": "code",
   "execution_count": 4,
   "metadata": {},
   "outputs": [
    {
     "name": "stdout",
     "output_type": "stream",
     "text": [
      "[5 4 9 2 0 4 7 9]\n",
      "[1 1 1 2 0 4 7 9]\n"
     ]
    }
   ],
   "source": [
    "# changing the last entry to 9\n",
    "a[-1] = 9\n",
    "print(a)\n",
    "\n",
    "# changing the first three entries to 1\n",
    "a[0:3] = 1\n",
    "print(a)"
   ]
  },
  {
   "cell_type": "markdown",
   "metadata": {},
   "source": [
    "***\n",
    "**Question 4.**"
   ]
  },
  {
   "cell_type": "code",
   "execution_count": 5,
   "metadata": {},
   "outputs": [
    {
     "name": "stdout",
     "output_type": "stream",
     "text": [
      "[7 9 3 1 1 6 3 9 2 3 6 5 3 4 5 2 1 2 7 3]\n"
     ]
    }
   ],
   "source": [
    "r = np.random.randint(1, 10, 20)\n",
    "print(r)"
   ]
  },
  {
   "cell_type": "markdown",
   "metadata": {},
   "source": [
    "***\n",
    "**Question 5.**: Running `idx = r < 5` creates an array of True/False values.  The values of True occur in places where the entries of $r$ satisfy $r < 5$.  The values of False occur in places where the entries of $r$ satisfy $r \\geq 5$.  Running `r[idx] = 0` assigns the value of 0 to entries of $r$ in places where `idx` has the value True.  The final result is that entries of $r$ that are smaller than 5 are set to 0."
   ]
  },
  {
   "cell_type": "code",
   "execution_count": 6,
   "metadata": {},
   "outputs": [
    {
     "name": "stdout",
     "output_type": "stream",
     "text": [
      "[False False  True  True  True False  True False  True  True False False\n",
      "  True  True False  True  True  True False  True]\n",
      "[7 9 0 0 0 6 0 9 0 0 6 5 0 0 5 0 0 0 7 0]\n"
     ]
    }
   ],
   "source": [
    "idx = r < 5\n",
    "print(idx)\n",
    "\n",
    "r[idx] = 0\n",
    "print(r)"
   ]
  },
  {
   "cell_type": "markdown",
   "metadata": {},
   "source": [
    "***\n",
    "**Question 6.**"
   ]
  },
  {
   "cell_type": "code",
   "execution_count": 7,
   "metadata": {},
   "outputs": [
    {
     "name": "stdout",
     "output_type": "stream",
     "text": [
      "[[6 2 3]\n",
      " [4 4 1]\n",
      " [8 5 6]]\n"
     ]
    }
   ],
   "source": [
    "A = np.array([[6, 2, 3], [4, 4, 1], [8,5,6]])\n",
    "print(A)"
   ]
  },
  {
   "cell_type": "markdown",
   "metadata": {},
   "source": [
    "***\n",
    "**Question 7.**"
   ]
  },
  {
   "cell_type": "code",
   "execution_count": 8,
   "metadata": {},
   "outputs": [
    {
     "name": "stdout",
     "output_type": "stream",
     "text": [
      "A = [[6 2 3]\n",
      " [9 4 1]\n",
      " [8 5 0]] \n",
      "\n",
      "The entries in the second row are [9 4 1]\n"
     ]
    }
   ],
   "source": [
    "# updating the entry in the second row, first column\n",
    "A[1,0] = 9\n",
    "\n",
    "# updating the entry in the last row and last column\n",
    "A[-1,-1] = 0\n",
    "\n",
    "# printing the updated array\n",
    "print('A =', A, '\\n')\n",
    "\n",
    "# printing all entries in the second row\n",
    "print('The entries in the second row are', A[1,:])"
   ]
  },
  {
   "cell_type": "markdown",
   "metadata": {},
   "source": [
    "***\n",
    "**Question 8.**"
   ]
  },
  {
   "cell_type": "code",
   "execution_count": 9,
   "metadata": {},
   "outputs": [
    {
     "name": "stdout",
     "output_type": "stream",
     "text": [
      "A = [[1. 1.]\n",
      " [2. 2.]] \n",
      "\n",
      "B =  [[1. 1. 1. 1. 1.]\n",
      " [2. 2. 2. 2. 2.]\n",
      " [3. 3. 3. 3. 3.]\n",
      " [4. 4. 4. 4. 4.]\n",
      " [5. 5. 5. 5. 5.]]\n"
     ]
    }
   ],
   "source": [
    "# creating an array of zeros\n",
    "A = np.zeros((2, 2))\n",
    "\n",
    "# setting the values of the rows\n",
    "A[0,:] = 1\n",
    "A[1,:] = 2\n",
    "\n",
    "# printing the result\n",
    "print('A =', A, '\\n')\n",
    "\n",
    "# now doing the case when N = 5\n",
    "N = 5\n",
    "B = np.zeros((5, 5))\n",
    "for i in range(5):\n",
    "    B[i,:] = i + 1\n",
    "print('B = ', B)"
   ]
  },
  {
   "cell_type": "markdown",
   "metadata": {},
   "source": [
    "***\n",
    "## Exercise 2 - Performing operations on arrays"
   ]
  },
  {
   "cell_type": "markdown",
   "metadata": {},
   "source": [
    "***\n",
    "**Question 1.**"
   ]
  },
  {
   "cell_type": "code",
   "execution_count": 10,
   "metadata": {},
   "outputs": [
    {
     "name": "stdout",
     "output_type": "stream",
     "text": [
      "c =  [15 11  4]\n",
      "a.b = 35\n",
      "a.b = 35\n",
      "a.b = 35\n"
     ]
    }
   ],
   "source": [
    "a = np.array([3, 5, 2])\n",
    "b = np.array([6, 3, 1])\n",
    "\n",
    "# calculating c\n",
    "c = a + 2 * b\n",
    "print('c = ', c)\n",
    "\n",
    "# calculating the dot product between a and b using the 'dot' method\n",
    "print('a.b =', a.dot(b))\n",
    "\n",
    "# calculating the dot product using the dot function\n",
    "print('a.b =', np.dot(a, b))\n",
    "\n",
    "# calculating the dot product using element-by-element multiplication and np.sum\n",
    "print('a.b =', np.sum(a * b))"
   ]
  },
  {
   "cell_type": "markdown",
   "metadata": {},
   "source": [
    "***\n",
    "**Question 2.**"
   ]
  },
  {
   "cell_type": "code",
   "execution_count": 11,
   "metadata": {},
   "outputs": [
    {
     "name": "stdout",
     "output_type": "stream",
     "text": [
      "the max of y is 0.1353347404497369\n",
      "y is maximal when t = 1.002004008016032\n"
     ]
    }
   ],
   "source": [
    "# creating an array of t values using linspace\n",
    "t = np.linspace(0, 5, 500)\n",
    "\n",
    "# creating an array to store y(t)\n",
    "y = t**2 * np.exp(-2 * t)\n",
    "\n",
    "# finding the max value of y\n",
    "y_max = np.max(y)\n",
    "print('the max of y is', y_max)\n",
    "\n",
    "# finding the value of t where y reaches its max\n",
    "t_max = t[y == y_max]\n",
    "print('y is maximal when t =', t_max[0])\n"
   ]
  },
  {
   "cell_type": "markdown",
   "metadata": {},
   "source": [
    "***\n",
    "**Question 3.**"
   ]
  },
  {
   "cell_type": "code",
   "execution_count": 12,
   "metadata": {},
   "outputs": [
    {
     "name": "stdout",
     "output_type": "stream",
     "text": [
      "The approximate value of I is 3.207397837710025\n",
      "The new approximation to I is 3.208232396499138\n"
     ]
    }
   ],
   "source": [
    "# computing I numerically\n",
    "x = np.linspace(0, 5, 50)\n",
    "y = x / (1 + x)\n",
    "I_approx = np.trapz(y, x)\n",
    "print('The approximate value of I is', I_approx)\n",
    "\n",
    "\n",
    "# repeat the calculation with 500 points between 0 and 5\n",
    "x = np.linspace(0, 5, 500)\n",
    "y = x / (1 + x)\n",
    "I_approx2 = np.trapz(y, x)\n",
    "print('The new approximation to I is', I_approx2)\n",
    "\n",
    "# the approximation has become more accurate"
   ]
  },
  {
   "cell_type": "markdown",
   "metadata": {},
   "source": [
    "***\n",
    "**Question 4.**"
   ]
  },
  {
   "cell_type": "code",
   "execution_count": 13,
   "metadata": {},
   "outputs": [
    {
     "name": "stdout",
     "output_type": "stream",
     "text": [
      "The min is 3.7\n",
      "The max is 25.0\n",
      "The mean is 10.125\n",
      "The median is 9.350000000000001\n"
     ]
    }
   ],
   "source": [
    "g = [3.7, 8.9, 9.8, 3.7, 25, 10, 8.9, 11]\n",
    "\n",
    "print('The min is', np.min(g))\n",
    "print('The max is', np.max(g))\n",
    "print('The mean is', np.mean(g))\n",
    "print('The median is', np.median(g))"
   ]
  },
  {
   "cell_type": "markdown",
   "metadata": {},
   "source": [
    "***\n",
    "**Question 5.**"
   ]
  },
  {
   "cell_type": "code",
   "execution_count": 14,
   "metadata": {},
   "outputs": [
    {
     "name": "stdout",
     "output_type": "stream",
     "text": [
      "C = [[ 3 12  3]\n",
      " [ 3  4  3]\n",
      " [10 10  8]] \n",
      "\n",
      "AB = [[13 16  5]\n",
      " [ 7 20  3]\n",
      " [26 32 10]] \n",
      "\n",
      "BA = [[16 12  8]\n",
      " [ 5  6  7]\n",
      " [15 18 21]] \n",
      "\n"
     ]
    }
   ],
   "source": [
    "A = np.array([[1, 2, 3], [3, 2, 1], [2, 4, 6]])\n",
    "B = np.array([[1, 5, 0], [0, 1, 1], [4, 3, 1]])\n",
    "\n",
    "# computing C = A + 2B\n",
    "C = A + 2 * B\n",
    "print('C =', C, '\\n')\n",
    "\n",
    "# computing AB and BA\n",
    "print('AB =', A @ B, '\\n')\n",
    "print('BA =', B @ A, '\\n')"
   ]
  },
  {
   "cell_type": "markdown",
   "metadata": {},
   "source": [
    "***\n",
    "**Question 6.**"
   ]
  },
  {
   "cell_type": "code",
   "execution_count": 15,
   "metadata": {},
   "outputs": [
    {
     "name": "stdout",
     "output_type": "stream",
     "text": [
      "The transpose of A is\n",
      " [[1 3 2]\n",
      " [2 2 4]\n",
      " [3 1 6]] \n",
      "\n"
     ]
    }
   ],
   "source": [
    "# computing the transpose of A\n",
    "A_trans = np.transpose(A)\n",
    "\n",
    "# printing the result\n",
    "print('The transpose of A is\\n', A_trans, '\\n')"
   ]
  },
  {
   "cell_type": "markdown",
   "metadata": {},
   "source": [
    "***\n",
    "**Question 7.**"
   ]
  },
  {
   "cell_type": "code",
   "execution_count": 16,
   "metadata": {},
   "outputs": [
    {
     "name": "stdout",
     "output_type": "stream",
     "text": [
      "x = [ 0.66666667 -0.33333333 -0.33333333  0.66666667]\n",
      "Ax - b =  [1.11022302e-16 2.22044605e-16 0.00000000e+00 0.00000000e+00]\n"
     ]
    }
   ],
   "source": [
    "A = np.array([[1, 0, 0, -1], [1, -2, 1, 0], [0, 1, -2, 1], [2, 0, 0, 1]])\n",
    "b = np.array([0, 1, 1, 2])\n",
    "\n",
    "x = np.linalg.solve(A, b)\n",
    "print('x =', x)\n",
    "print('Ax - b = ', A @ x - b)"
   ]
  },
  {
   "cell_type": "markdown",
   "metadata": {},
   "source": [
    "***\n",
    "## Exercise 3 - Weather prediction"
   ]
  },
  {
   "cell_type": "markdown",
   "metadata": {},
   "source": [
    "***\n",
    "**Question 1**"
   ]
  },
  {
   "cell_type": "code",
   "execution_count": 17,
   "metadata": {},
   "outputs": [
    {
     "name": "stdout",
     "output_type": "stream",
     "text": [
      "The probability that it will be sunny tomorrow is 0.5\n"
     ]
    }
   ],
   "source": [
    "# create the transition matrix\n",
    "P = np.array([[0.5, 0.3, 0.2], [0.4, 0.2, 0.4], [0.6, 0.2, 0.2]])\n",
    "\n",
    "# create the state vector for today\n",
    "x_0 = np.array([1, 0, 0])\n",
    "\n",
    "# compute the state vector for tomorrow\n",
    "x_1 = x_0 @ P\n",
    "\n",
    "print('The probability that it will be sunny tomorrow is', x_1[0])"
   ]
  },
  {
   "cell_type": "markdown",
   "metadata": {},
   "source": [
    "***\n",
    "**Question**"
   ]
  },
  {
   "cell_type": "code",
   "execution_count": 18,
   "metadata": {},
   "outputs": [
    {
     "name": "stdout",
     "output_type": "stream",
     "text": [
      "The probability that it will rain in two days is 0.26\n"
     ]
    }
   ],
   "source": [
    "x_2 = x_1 @ P\n",
    "print('The probability that it will rain in two days is', x_2[-1])"
   ]
  },
  {
   "cell_type": "markdown",
   "metadata": {},
   "source": [
    "***\n",
    "**Question**"
   ]
  },
  {
   "cell_type": "code",
   "execution_count": 19,
   "metadata": {},
   "outputs": [
    {
     "name": "stdout",
     "output_type": "stream",
     "text": [
      "The seven-day forecast is\n",
      "Sunny: 0.5\n",
      "Cloudy: 0.25\n",
      "Rainy: 0.25\n"
     ]
    }
   ],
   "source": [
    "# create the state vector for today\n",
    "x = np.array([1, 0, 0])\n",
    "\n",
    "# use a for loop to repeatedly calculate xP\n",
    "for n in range(7):\n",
    "    x = x @ P\n",
    "    \n",
    "print('The seven-day forecast is')\n",
    "print('Sunny:', round(x[0], 2))\n",
    "print('Cloudy:', round(x[1], 2))\n",
    "print('Rainy:', round(x[2], 2))"
   ]
  }
 ],
 "metadata": {
  "kernelspec": {
   "display_name": "Python 3",
   "language": "python",
   "name": "python3"
  },
  "language_info": {
   "codemirror_mode": {
    "name": "ipython",
    "version": 3
   },
   "file_extension": ".py",
   "mimetype": "text/x-python",
   "name": "python",
   "nbconvert_exporter": "python",
   "pygments_lexer": "ipython3",
   "version": "3.8.8"
  }
 },
 "nbformat": 4,
 "nbformat_minor": 4
}
