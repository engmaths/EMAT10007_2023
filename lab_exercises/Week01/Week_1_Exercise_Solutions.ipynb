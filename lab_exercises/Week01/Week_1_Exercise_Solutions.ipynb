{
 "cells": [
  {
   "cell_type": "markdown",
   "id": "23bc864e",
   "metadata": {
    "slideshow": {
     "slide_type": "slide"
    }
   },
   "source": [
    "# Introduction to Computer Programming\n",
    "\n",
    "## Week 1 - Exercise Solutions \n",
    "\n",
    "* * *\n",
    "\n",
    "<img src=\"img/full-colour-logo-UoB.png\" alt=\"Bristol\" style=\"width: 300px;\"/>"
   ]
  },
  {
   "cell_type": "markdown",
   "id": "8f0db205",
   "metadata": {},
   "source": [
    "# Exercise 1 - Objects and Variables\n"
   ]
  },
  {
   "cell_type": "markdown",
   "id": "b90539ad",
   "metadata": {},
   "source": [
    "1.  Create two variables, a and b and assign an integer value to each variable. Calculate the product of a and b and print the result."
   ]
  },
  {
   "cell_type": "code",
   "execution_count": 2,
   "id": "b6e265fc",
   "metadata": {},
   "outputs": [
    {
     "name": "stdout",
     "output_type": "stream",
     "text": [
      "2\n"
     ]
    }
   ],
   "source": [
    "a, b = 1,2\n",
    "print(a*b)"
   ]
  },
  {
   "cell_type": "markdown",
   "id": "fcec0563",
   "metadata": {},
   "source": [
    "2. Create two variables, c and d and assign a floating point value to each variable. Calculate the difference between c and d and store the result as a new variable, e. Print e."
   ]
  },
  {
   "cell_type": "code",
   "execution_count": 3,
   "id": "4bdd82e8",
   "metadata": {},
   "outputs": [
    {
     "name": "stdout",
     "output_type": "stream",
     "text": [
      "1.4\n"
     ]
    }
   ],
   "source": [
    "c, d = 3.5, 2.1\n",
    "\n",
    "e = c - d\n",
    "\n",
    "print(e)"
   ]
  },
  {
   "cell_type": "markdown",
   "id": "8c187794",
   "metadata": {},
   "source": [
    "3. Overwrite the value of the new variable you just created with the value a + b"
   ]
  },
  {
   "cell_type": "code",
   "execution_count": 4,
   "id": "0ece8331",
   "metadata": {},
   "outputs": [],
   "source": [
    "e = a + b"
   ]
  },
  {
   "cell_type": "markdown",
   "id": "459de1ce",
   "metadata": {},
   "source": [
    "4. Find the remainder when c is divided by d and print the result."
   ]
  },
  {
   "cell_type": "code",
   "execution_count": 5,
   "id": "d310902d",
   "metadata": {},
   "outputs": [
    {
     "name": "stdout",
     "output_type": "stream",
     "text": [
      "1.4\n"
     ]
    }
   ],
   "source": [
    "print(c%d)"
   ]
  },
  {
   "cell_type": "markdown",
   "id": "365855c9",
   "metadata": {},
   "source": [
    "5. Cast c as an integer"
   ]
  },
  {
   "cell_type": "code",
   "execution_count": 6,
   "id": "bf83f3bc",
   "metadata": {},
   "outputs": [
    {
     "data": {
      "text/plain": [
       "3"
      ]
     },
     "execution_count": 6,
     "metadata": {},
     "output_type": "execute_result"
    }
   ],
   "source": [
    "int(c)"
   ]
  },
  {
   "cell_type": "markdown",
   "id": "8fb3b47e",
   "metadata": {},
   "source": [
    "6. Cast b as a string"
   ]
  },
  {
   "cell_type": "code",
   "execution_count": 22,
   "id": "c65e69e7",
   "metadata": {},
   "outputs": [
    {
     "data": {
      "text/plain": [
       "'2'"
      ]
     },
     "execution_count": 22,
     "metadata": {},
     "output_type": "execute_result"
    }
   ],
   "source": [
    "str(b)"
   ]
  },
  {
   "cell_type": "markdown",
   "id": "a8ae14b6",
   "metadata": {},
   "source": [
    "7. Cast a as a Boolean"
   ]
  },
  {
   "cell_type": "code",
   "execution_count": 23,
   "id": "7d784d89",
   "metadata": {},
   "outputs": [
    {
     "data": {
      "text/plain": [
       "True"
      ]
     },
     "execution_count": 23,
     "metadata": {},
     "output_type": "execute_result"
    }
   ],
   "source": [
    "bool(a)"
   ]
  },
  {
   "cell_type": "markdown",
   "id": "2955f582",
   "metadata": {},
   "source": [
    "8. Create a new variable, f and assign a string value to it"
   ]
  },
  {
   "cell_type": "code",
   "execution_count": 24,
   "id": "5e9c499f",
   "metadata": {},
   "outputs": [],
   "source": [
    "f = 'algorithm'"
   ]
  },
  {
   "cell_type": "markdown",
   "id": "f1d7aece",
   "metadata": {},
   "source": [
    "9. Print the last character in the string assigned to f"
   ]
  },
  {
   "cell_type": "code",
   "execution_count": 25,
   "id": "692dc891",
   "metadata": {},
   "outputs": [
    {
     "name": "stdout",
     "output_type": "stream",
     "text": [
      "m\n"
     ]
    }
   ],
   "source": [
    "print(f[-1])"
   ]
  },
  {
   "cell_type": "markdown",
   "id": "aa3dee48",
   "metadata": {},
   "source": [
    "10. Create two variables, g and h and assign a string value to each variable. Connect the two strings using the addition (+) operator "
   ]
  },
  {
   "cell_type": "code",
   "execution_count": 26,
   "id": "812f6f64",
   "metadata": {},
   "outputs": [
    {
     "name": "stdout",
     "output_type": "stream",
     "text": [
      "hedgerow\n",
      "hedge row\n"
     ]
    }
   ],
   "source": [
    "g = 'hedge'\n",
    "h = 'row'\n",
    "print(g + h)\n",
    "print(g + ' ' + h)"
   ]
  },
  {
   "cell_type": "markdown",
   "id": "6fe8f02b",
   "metadata": {},
   "source": [
    "# Exercise 2 - Arithmetic Operators "
   ]
  },
  {
   "cell_type": "markdown",
   "id": "505332b2",
   "metadata": {},
   "source": [
    "1. Create a variable, a, with a numerical value. Reassign the value of a so it is 3 times\n",
    "its original value."
   ]
  },
  {
   "cell_type": "code",
   "execution_count": 3,
   "id": "11f0e596",
   "metadata": {},
   "outputs": [
    {
     "name": "stdout",
     "output_type": "stream",
     "text": [
      "9\n"
     ]
    }
   ],
   "source": [
    "a = 3\n",
    "\n",
    "a *= 3\n",
    "\n",
    "print(a)"
   ]
  },
  {
   "cell_type": "markdown",
   "id": "99c97aa2",
   "metadata": {},
   "source": [
    "2. Write a program that finds the volume (V ) of a sphere with diameter 30cm, then\n",
    "displays the value with the correct units. Volume of a sphere:\n",
    "\n",
    "$$V = \\frac{4}{3}\\pi r^3$$"
   ]
  },
  {
   "cell_type": "code",
   "execution_count": 3,
   "id": "3571f1c7",
   "metadata": {},
   "outputs": [
    {
     "name": "stdout",
     "output_type": "stream",
     "text": [
      "14138.999999999998 cm cubed\n"
     ]
    }
   ],
   "source": [
    "pi = 3.142\n",
    "diameter = 30\n",
    "\n",
    "V = 4/3*pi*(diameter/2)**3\n",
    "\n",
    "print(V, 'cm cubed')\n",
    "\n"
   ]
  },
  {
   "cell_type": "markdown",
   "id": "6bd686a7",
   "metadata": {},
   "source": [
    "3. Find the Euclidean distance, $d$ between two points with 3-dimensional position vectors **a** = [5.0, 4.5, 2.0] **b** = [10.6, 11.5, 6.2] using $$d = \\sqrt{(x_a - x_b)^2 + (y_a - y_b)^2 + (z_a - z_b)^2}$$"
   ]
  },
  {
   "cell_type": "code",
   "execution_count": 4,
   "id": "eaacfe5d",
   "metadata": {},
   "outputs": [
    {
     "name": "stdout",
     "output_type": "stream",
     "text": [
      "9.899494936611665\n",
      "9.9\n"
     ]
    }
   ],
   "source": [
    "d = ((5.0-10.6)**2 + \n",
    "     (4.5-11.5)**2 + \n",
    "     (2.0-6.2)**2)**(1/2)\n",
    "\n",
    "print(d)\n",
    "print(round(d, 2))"
   ]
  },
  {
   "cell_type": "markdown",
   "id": "87fb834c",
   "metadata": {},
   "source": [
    "# Exercise 3 - Comparison Operators \n",
    "\n",
    "Create three variables x=1.2, y=3.3 and z = 4.0"
   ]
  },
  {
   "cell_type": "code",
   "execution_count": 8,
   "id": "a8af0288",
   "metadata": {},
   "outputs": [],
   "source": [
    "x, y, z = 1.2, 3.3, 4.0"
   ]
  },
  {
   "cell_type": "markdown",
   "id": "2c83d1b2",
   "metadata": {},
   "source": [
    "1. Write an expression to test if x is greater than or equal to y"
   ]
  },
  {
   "cell_type": "code",
   "execution_count": 9,
   "id": "4bb4db99",
   "metadata": {},
   "outputs": [
    {
     "data": {
      "text/plain": [
       "False"
      ]
     },
     "execution_count": 9,
     "metadata": {},
     "output_type": "execute_result"
    }
   ],
   "source": [
    "x >= y  # will work for explicitly defined values "
   ]
  },
  {
   "cell_type": "markdown",
   "id": "5aae4e42",
   "metadata": {},
   "source": [
    "2. Write an expression to test if x multiplied by 3 is less than y"
   ]
  },
  {
   "cell_type": "code",
   "execution_count": 10,
   "id": "058449f6",
   "metadata": {},
   "outputs": [
    {
     "data": {
      "text/plain": [
       "False"
      ]
     },
     "execution_count": 10,
     "metadata": {},
     "output_type": "execute_result"
    }
   ],
   "source": [
    "tolerance = 1e10\n",
    "y - (3 * x) > tolerance"
   ]
  },
  {
   "cell_type": "code",
   "execution_count": 11,
   "id": "4e51c692",
   "metadata": {},
   "outputs": [
    {
     "data": {
      "text/plain": [
       "False"
      ]
     },
     "execution_count": 11,
     "metadata": {},
     "output_type": "execute_result"
    }
   ],
   "source": [
    "dp = 10\n",
    "round(y, dp) > round(x*3, dp)"
   ]
  },
  {
   "cell_type": "markdown",
   "id": "0549179a",
   "metadata": {},
   "source": [
    "3. Write an expression to test if the object type and value of x is the same as y"
   ]
  },
  {
   "cell_type": "code",
   "execution_count": 12,
   "id": "b9288f64",
   "metadata": {},
   "outputs": [
    {
     "data": {
      "text/plain": [
       "False"
      ]
     },
     "execution_count": 12,
     "metadata": {},
     "output_type": "execute_result"
    }
   ],
   "source": [
    "x is y"
   ]
  },
  {
   "cell_type": "markdown",
   "id": "285cc56f",
   "metadata": {},
   "source": [
    "4. Write an expression to test if x is less than y, and y is less than z"
   ]
  },
  {
   "cell_type": "code",
   "execution_count": 11,
   "id": "f62c05db",
   "metadata": {},
   "outputs": [
    {
     "data": {
      "text/plain": [
       "True"
      ]
     },
     "execution_count": 11,
     "metadata": {},
     "output_type": "execute_result"
    }
   ],
   "source": [
    "x < y < z # will work for explicitly defined values "
   ]
  },
  {
   "cell_type": "markdown",
   "id": "ab8de29a",
   "metadata": {},
   "source": [
    "5. Write an expression to test if y is less than both x and z"
   ]
  },
  {
   "cell_type": "code",
   "execution_count": 12,
   "id": "7a845fb0",
   "metadata": {},
   "outputs": [
    {
     "data": {
      "text/plain": [
       "False"
      ]
     },
     "execution_count": 12,
     "metadata": {},
     "output_type": "execute_result"
    }
   ],
   "source": [
    "x > y < z # will work for explicitly defined values "
   ]
  },
  {
   "cell_type": "markdown",
   "id": "9946c9c2",
   "metadata": {},
   "source": [
    "6. Write an expression to test if the sum of x and 2.1 is equal to y"
   ]
  },
  {
   "cell_type": "code",
   "execution_count": 13,
   "id": "fbcb211c",
   "metadata": {},
   "outputs": [
    {
     "data": {
      "text/plain": [
       "True"
      ]
     },
     "execution_count": 13,
     "metadata": {},
     "output_type": "execute_result"
    }
   ],
   "source": [
    "tolerance = 1e-10\n",
    "abs((x + 2.1) - y) < tolerance "
   ]
  },
  {
   "cell_type": "code",
   "execution_count": 14,
   "id": "99aedc81",
   "metadata": {},
   "outputs": [
    {
     "data": {
      "text/plain": [
       "True"
      ]
     },
     "execution_count": 14,
     "metadata": {},
     "output_type": "execute_result"
    }
   ],
   "source": [
    "dp = 10\n",
    "round(x + 2.1, dp) == y"
   ]
  },
  {
   "cell_type": "markdown",
   "id": "24d735c1",
   "metadata": {},
   "source": [
    "# Exercise 3 - Logical Operators \n",
    "\n",
    "Create four variables u=2, v=-4, w=1 and x=5"
   ]
  },
  {
   "cell_type": "code",
   "execution_count": 17,
   "id": "fdc50e68",
   "metadata": {},
   "outputs": [],
   "source": [
    "u,v,w,x = 2,-4,1,5"
   ]
  },
  {
   "cell_type": "markdown",
   "id": "3fff4c64",
   "metadata": {},
   "source": [
    "1. Write an expression to test if u is greater than v and w is less than x"
   ]
  },
  {
   "cell_type": "code",
   "execution_count": 18,
   "id": "f5eff763",
   "metadata": {},
   "outputs": [
    {
     "data": {
      "text/plain": [
       "True"
      ]
     },
     "execution_count": 18,
     "metadata": {},
     "output_type": "execute_result"
    }
   ],
   "source": [
    "u > v and w < x"
   ]
  },
  {
   "cell_type": "markdown",
   "id": "e358efc5",
   "metadata": {},
   "source": [
    "2. Write an expression to test if v, w and x are all smaller than u"
   ]
  },
  {
   "cell_type": "code",
   "execution_count": 19,
   "id": "4171edc4",
   "metadata": {},
   "outputs": [
    {
     "data": {
      "text/plain": [
       "False"
      ]
     },
     "execution_count": 19,
     "metadata": {},
     "output_type": "execute_result"
    }
   ],
   "source": [
    "x < u and v < u and w < u"
   ]
  },
  {
   "cell_type": "markdown",
   "id": "f98c77b3",
   "metadata": {},
   "source": [
    "3. Write an expression to test if at least one of  v, w and x are greater than u."
   ]
  },
  {
   "cell_type": "code",
   "execution_count": 20,
   "id": "22d48541",
   "metadata": {},
   "outputs": [
    {
     "data": {
      "text/plain": [
       "True"
      ]
     },
     "execution_count": 20,
     "metadata": {},
     "output_type": "execute_result"
    }
   ],
   "source": [
    "v > u or w > u or x > u"
   ]
  },
  {
   "cell_type": "markdown",
   "id": "439c2493",
   "metadata": {},
   "source": [
    "4. Write an expression to test if x divided by 2 is less than or equal to u minus 1.2"
   ]
  },
  {
   "cell_type": "code",
   "execution_count": 23,
   "id": "3fd69dad",
   "metadata": {},
   "outputs": [
    {
     "data": {
      "text/plain": [
       "False"
      ]
     },
     "execution_count": 23,
     "metadata": {},
     "output_type": "execute_result"
    }
   ],
   "source": [
    "dp = 10\n",
    "\n",
    "round(x/2, dp) <= round(u - 1.2, dp)"
   ]
  },
  {
   "cell_type": "code",
   "execution_count": 24,
   "id": "3adfc217",
   "metadata": {},
   "outputs": [
    {
     "data": {
      "text/plain": [
       "False"
      ]
     },
     "execution_count": 24,
     "metadata": {},
     "output_type": "execute_result"
    }
   ],
   "source": [
    "tolerance = 1e-10\n",
    "\n",
    "a = x/2\n",
    "b = u - 1.2\n",
    "\n",
    "a - b < -tolerance or abs(a - b) < tolerance "
   ]
  },
  {
   "cell_type": "markdown",
   "id": "15e35c0e",
   "metadata": {},
   "source": [
    "5. Write an expression to test if the value of any of the variables are negative"
   ]
  },
  {
   "cell_type": "code",
   "execution_count": 25,
   "id": "83ed05e0",
   "metadata": {},
   "outputs": [
    {
     "data": {
      "text/plain": [
       "True"
      ]
     },
     "execution_count": 25,
     "metadata": {},
     "output_type": "execute_result"
    }
   ],
   "source": [
    "u < 0 or v < 0 or w < 0 or x < 0"
   ]
  },
  {
   "cell_type": "markdown",
   "id": "9c9250d5",
   "metadata": {},
   "source": [
    "# Exercise 5 - Putting it all together\n",
    "\n",
    "A point lies on a map (Figure 1). \n",
    "<br>Each region excludes its outer boundary. \n",
    "<br>For a given point (x,y) where x and y are each a floating point number in the range (0, 10)\n",
    "<img src=\"https://github.com/engmaths/EMAT10007_2023/blob/main/weekly_content/img/regions.png?raw=true\" width=\"40%\">\n",
    "</p>"
   ]
  },
  {
   "cell_type": "code",
   "execution_count": 13,
   "id": "eff0638e",
   "metadata": {},
   "outputs": [
    {
     "name": "stdout",
     "output_type": "stream",
     "text": [
      "False False False False True\n"
     ]
    }
   ],
   "source": [
    "x, y = 1, 1\n",
    "\n",
    "# 1. Write an expression to test if the point is in region A\n",
    "A = y > 8\n",
    "\n",
    "# 2. Write an expression to test if the point is in region B\n",
    "B = 3 < y < 8 and x < 6 and 2.25 < ((x-2.5)**2 + (y-5)**2)**(1/2)\n",
    "\n",
    "# 3. Write an expression to test if the point is in region C\n",
    "C = 3 < y < 8 and x > 6\n",
    "\n",
    "# 4. Write an expression to test if the point is in region D\n",
    "D = 2.25 > ((x-2.5)**2 + (y-5)**2)**(1/2)\n",
    "\n",
    "# 5. Write an expression to test if the point is in region E\n",
    "E = y < 3\n",
    "\n",
    "print(A, B, C, D, E)"
   ]
  },
  {
   "cell_type": "markdown",
   "id": "828e792b",
   "metadata": {},
   "source": [
    "Combine these statements in a different order to minimise the number of times you need to code each comparison explicitly."
   ]
  },
  {
   "cell_type": "code",
   "execution_count": 53,
   "id": "7ae615e9",
   "metadata": {},
   "outputs": [
    {
     "name": "stdout",
     "output_type": "stream",
     "text": [
      "False False False False True\n"
     ]
    }
   ],
   "source": [
    "x, y = 1,1\n",
    "\n",
    "A = y > 8\n",
    "\n",
    "E = y < 3\n",
    "\n",
    "D = 2.25 > ((x-2.5)**2 + (y-5)**2)**(1/2)\n",
    "\n",
    "B = x < 6 and not D and not A and not E\n",
    "\n",
    "C = not A and not B and not D and not E\n",
    "\n",
    "\n",
    "print(A, B, C, D, E)\n"
   ]
  },
  {
   "cell_type": "code",
   "execution_count": null,
   "id": "54d0b35a",
   "metadata": {},
   "outputs": [],
   "source": []
  }
 ],
 "metadata": {
  "celltoolbar": "Slideshow",
  "kernelspec": {
   "display_name": "Python 3 (ipykernel)",
   "language": "python",
   "name": "python3"
  },
  "language_info": {
   "codemirror_mode": {
    "name": "ipython",
    "version": 3
   },
   "file_extension": ".py",
   "mimetype": "text/x-python",
   "name": "python",
   "nbconvert_exporter": "python",
   "pygments_lexer": "ipython3",
   "version": "3.11.4"
  }
 },
 "nbformat": 4,
 "nbformat_minor": 5
}
