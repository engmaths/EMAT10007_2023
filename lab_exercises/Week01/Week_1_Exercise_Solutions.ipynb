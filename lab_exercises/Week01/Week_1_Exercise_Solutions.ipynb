{
 "cells": [
  {
   "cell_type": "markdown",
   "id": "23bc864e",
   "metadata": {
    "id": "23bc864e"
   },
   "source": [
    "# Introduction to Computer Programming\n",
    "\n",
    "## Week 1 - Exercise Solutions\n",
    "\n",
    "* * *\n",
    "\n",
    "<img src=\"img/full-colour-logo-UoB.png\" alt=\"Bristol\" style=\"width: 300px;\"/>"
   ]
  },
  {
   "cell_type": "markdown",
   "id": "8f0db205",
   "metadata": {
    "id": "8f0db205"
   },
   "source": [
    "# Exercise 1 - Objects and Variables\n"
   ]
  },
  {
   "cell_type": "markdown",
   "id": "b90539ad",
   "metadata": {
    "id": "b90539ad"
   },
   "source": [
    "1.  Create two variables, a and b and assign an integer value to each variable. Calculate the product of a and b and print the result."
   ]
  },
  {
   "cell_type": "code",
   "execution_count": 2,
   "id": "b6e265fc",
   "metadata": {
    "id": "b6e265fc",
    "outputId": "0beb7af3-6666-404d-a68d-fc37f34c0d4b"
   },
   "outputs": [
    {
     "name": "stdout",
     "output_type": "stream",
     "text": [
      "2\n"
     ]
    }
   ],
   "source": [
    "a, b = 1,2\n",
    "print(a*b)"
   ]
  },
  {
   "cell_type": "markdown",
   "id": "fcec0563",
   "metadata": {
    "id": "fcec0563"
   },
   "source": [
    "2. Create two variables, c and d and assign a floating point value to each variable. Calculate the difference between c and d and store the result as a new variable, e. Print e."
   ]
  },
  {
   "cell_type": "code",
   "execution_count": 3,
   "id": "4bdd82e8",
   "metadata": {
    "id": "4bdd82e8",
    "outputId": "e7bcf83d-6b7e-49fe-9265-c51e03626caf"
   },
   "outputs": [
    {
     "name": "stdout",
     "output_type": "stream",
     "text": [
      "1.4\n"
     ]
    }
   ],
   "source": [
    "c, d = 3.5, 2.1\n",
    "\n",
    "e = c - d\n",
    "\n",
    "print(e)"
   ]
  },
  {
   "cell_type": "markdown",
   "id": "8c187794",
   "metadata": {
    "id": "8c187794"
   },
   "source": [
    "3. Overwrite the value of the new variable you just created with the value a + b"
   ]
  },
  {
   "cell_type": "code",
   "execution_count": 4,
   "id": "0ece8331",
   "metadata": {
    "id": "0ece8331"
   },
   "outputs": [],
   "source": [
    "e = a + b"
   ]
  },
  {
   "cell_type": "markdown",
   "id": "459de1ce",
   "metadata": {
    "id": "459de1ce"
   },
   "source": [
    "4. Find the remainder when c is divided by d and print the result."
   ]
  },
  {
   "cell_type": "code",
   "execution_count": 5,
   "id": "d310902d",
   "metadata": {
    "id": "d310902d",
    "outputId": "7e5670cd-8bb1-41bb-952d-836dd7bd5e47"
   },
   "outputs": [
    {
     "name": "stdout",
     "output_type": "stream",
     "text": [
      "1.4\n"
     ]
    }
   ],
   "source": [
    "print(c%d)"
   ]
  },
  {
   "cell_type": "markdown",
   "id": "365855c9",
   "metadata": {
    "id": "365855c9"
   },
   "source": [
    "5. Cast c as an integer"
   ]
  },
  {
   "cell_type": "code",
   "execution_count": 6,
   "id": "bf83f3bc",
   "metadata": {
    "id": "bf83f3bc",
    "outputId": "daa65508-e54f-4158-f55b-0f9fc5a80f29"
   },
   "outputs": [
    {
     "data": {
      "text/plain": [
       "3"
      ]
     },
     "execution_count": 6,
     "metadata": {},
     "output_type": "execute_result"
    }
   ],
   "source": [
    "int(c)"
   ]
  },
  {
   "cell_type": "markdown",
   "id": "8fb3b47e",
   "metadata": {
    "id": "8fb3b47e"
   },
   "source": [
    "6. Cast b as a string"
   ]
  },
  {
   "cell_type": "code",
   "execution_count": null,
   "id": "c65e69e7",
   "metadata": {
    "id": "c65e69e7",
    "outputId": "f93c97f5-2351-411a-ca8e-0cec37094fe8"
   },
   "outputs": [
    {
     "data": {
      "text/plain": [
       "'2'"
      ]
     },
     "execution_count": 22,
     "metadata": {},
     "output_type": "execute_result"
    }
   ],
   "source": [
    "str(b)"
   ]
  },
  {
   "cell_type": "markdown",
   "id": "a8ae14b6",
   "metadata": {
    "id": "a8ae14b6"
   },
   "source": [
    "7. Cast a as a Boolean"
   ]
  },
  {
   "cell_type": "code",
   "execution_count": null,
   "id": "7d784d89",
   "metadata": {
    "id": "7d784d89",
    "outputId": "4f5a67d5-6f58-43d6-bd3b-5883cde6b5b1"
   },
   "outputs": [
    {
     "data": {
      "text/plain": [
       "True"
      ]
     },
     "execution_count": 23,
     "metadata": {},
     "output_type": "execute_result"
    }
   ],
   "source": [
    "bool(a)"
   ]
  },
  {
   "cell_type": "markdown",
   "id": "2955f582",
   "metadata": {
    "id": "2955f582"
   },
   "source": [
    "8. Create a new variable, f and assign a string value to it"
   ]
  },
  {
   "cell_type": "code",
   "execution_count": null,
   "id": "5e9c499f",
   "metadata": {
    "id": "5e9c499f"
   },
   "outputs": [],
   "source": [
    "f = 'algorithm'"
   ]
  },
  {
   "cell_type": "markdown",
   "id": "f1d7aece",
   "metadata": {
    "id": "f1d7aece"
   },
   "source": [
    "9. Print the last character in the string assigned to f"
   ]
  },
  {
   "cell_type": "code",
   "execution_count": null,
   "id": "692dc891",
   "metadata": {
    "id": "692dc891",
    "outputId": "86523d11-e9e0-4330-fff8-c366d014ef06"
   },
   "outputs": [
    {
     "name": "stdout",
     "output_type": "stream",
     "text": [
      "m\n"
     ]
    }
   ],
   "source": [
    "print(f[-1])"
   ]
  },
  {
   "cell_type": "markdown",
   "id": "aa3dee48",
   "metadata": {
    "id": "aa3dee48"
   },
   "source": [
    "10. Create two variables, g and h and assign a string value to each variable. Connect the two strings using the addition (+) operator"
   ]
  },
  {
   "cell_type": "code",
   "execution_count": null,
   "id": "812f6f64",
   "metadata": {
    "id": "812f6f64",
    "outputId": "e627149d-a365-47e2-b96b-70d7483a1098"
   },
   "outputs": [
    {
     "name": "stdout",
     "output_type": "stream",
     "text": [
      "hedgerow\n",
      "hedge row\n"
     ]
    }
   ],
   "source": [
    "g = 'hedge'\n",
    "h = 'row'\n",
    "print(g + h)\n",
    "print(g + ' ' + h)"
   ]
  },
  {
   "cell_type": "markdown",
   "id": "6fe8f02b",
   "metadata": {
    "id": "6fe8f02b"
   },
   "source": [
    "# Exercise 2 - Arithmetic Operators"
   ]
  },
  {
   "cell_type": "code",
   "execution_count": null,
   "id": "3eb99fc4",
   "metadata": {
    "id": "3eb99fc4"
   },
   "outputs": [],
   "source": [
    "1. Create a variable, a, with a numerical value. Reassign the value of a so it is 3 times\n",
    "its original value."
   ]
  },
  {
   "cell_type": "code",
   "execution_count": null,
   "id": "11f0e596",
   "metadata": {
    "id": "11f0e596",
    "outputId": "11d44686-b790-434a-b734-da69e886a011"
   },
   "outputs": [
    {
     "name": "stdout",
     "output_type": "stream",
     "text": [
      "9\n"
     ]
    }
   ],
   "source": [
    "a = 3\n",
    "\n",
    "a *= 3\n",
    "\n",
    "print(a)"
   ]
  },
  {
   "cell_type": "markdown",
   "id": "99c97aa2",
   "metadata": {
    "id": "99c97aa2"
   },
   "source": [
    "2. Write a program that finds the volume (V ) of a sphere with diameter 30cm, then\n",
    "displays the value with the correct units. Volume of a sphere:\n",
    "\n",
    "$$V = \\frac{4}{3}\\pi r^3$$"
   ]
  },
  {
   "cell_type": "code",
   "execution_count": 3,
   "id": "3571f1c7",
   "metadata": {
    "colab": {
     "base_uri": "https://localhost:8080/"
    },
    "id": "3571f1c7",
    "outputId": "fb56594e-c80c-4531-eb54-18851ad10e10"
   },
   "outputs": [
    {
     "name": "stdout",
     "output_type": "stream",
     "text": [
      "14138.999999999998 cm3\n"
     ]
    }
   ],
   "source": [
    "pi = 3.142\n",
    "diameter = 30\n",
    "\n",
    "V = (4/3)*pi*(diameter/2)**3\n",
    "\n",
    "print(V, 'cm3')\n",
    "\n"
   ]
  },
  {
   "cell_type": "markdown",
   "id": "6bd686a7",
   "metadata": {
    "id": "6bd686a7"
   },
   "source": [
    "3. Find the Euclidean distance, $d$ between two points with 3-dimensional position vectors **a** = [5.0, 4.5, 2.0] **b** = [10.6, 11.5, 6.2] using $$d = \\sqrt{(x_a - x_b)^2 + (y_a - y_b)^2 + (z_a - z_b)^2}$$"
   ]
  },
  {
   "cell_type": "code",
   "execution_count": null,
   "id": "eaacfe5d",
   "metadata": {
    "id": "eaacfe5d",
    "outputId": "683678f9-a0f0-4982-8b92-7092f413fb2a"
   },
   "outputs": [
    {
     "name": "stdout",
     "output_type": "stream",
     "text": [
      "9.899494936611665\n"
     ]
    }
   ],
   "source": [
    "d = ((5.0-10.6)**2 +\n",
    "     (4.5-11.5)**2 +\n",
    "     (2.0-6.2)**2)**(1/2)\n",
    "\n",
    "print(d)"
   ]
  },
  {
   "cell_type": "markdown",
   "id": "87fb834c",
   "metadata": {
    "id": "87fb834c"
   },
   "source": [
    "# Exercise 3 - Comparison Operators\n",
    "\n",
    "Create three variables x=1.2, y=3.3 and z = 4.0"
   ]
  },
  {
   "cell_type": "code",
   "execution_count": 8,
   "id": "a8af0288",
   "metadata": {
    "id": "a8af0288"
   },
   "outputs": [],
   "source": [
    "x, y, z = 1.2, 3.3, 4.0"
   ]
  },
  {
   "cell_type": "markdown",
   "id": "2c83d1b2",
   "metadata": {
    "id": "2c83d1b2"
   },
   "source": [
    "1. Write an expression to test if x is greater than or equal to y"
   ]
  },
  {
   "cell_type": "code",
   "execution_count": 9,
   "id": "4bb4db99",
   "metadata": {
    "id": "4bb4db99",
    "outputId": "79f4f7b7-ab29-4637-91d5-493fadf76316"
   },
   "outputs": [
    {
     "data": {
      "text/plain": [
       "False"
      ]
     },
     "execution_count": 6,
     "metadata": {},
     "output_type": "execute_result"
    }
   ],
   "source": [
    "x >= y  # will work for explicitly defined values"
   ]
  },
  {
   "cell_type": "markdown",
   "id": "5aae4e42",
   "metadata": {
    "id": "5aae4e42"
   },
   "source": [
    "2. Write an expression to test if x multiplied by 3 is less than y"
   ]
  },
  {
   "cell_type": "code",
   "execution_count": null,
   "id": "058449f6",
   "metadata": {
    "id": "058449f6",
    "outputId": "3cbc041b-033a-455b-f3d3-74b553fe20df"
   },
   "outputs": [
    {
     "data": {
      "text/plain": [
       "False"
      ]
     },
     "execution_count": 9,
     "metadata": {},
     "output_type": "execute_result"
    }
   ],
   "source": [
    "tolerance = 1e10\n",
    "y - (3 * x) > tolerance"
   ]
  },
  {
   "cell_type": "code",
   "execution_count": 10,
   "id": "058449f6",
   "metadata": {},
   "outputs": [
    {
     "data": {
      "text/plain": [
       "False"
      ]
     },
     "execution_count": 10,
     "metadata": {},
     "output_type": "execute_result"
    }
   ],
   "source": [
    "tolerance = 10\n",
    "round(y, tolerance) > round(x*3, tolerance)"
   ]
  },
  {
   "cell_type": "markdown",
   "id": "0549179a",
   "metadata": {
    "id": "0549179a"
   },
   "source": [
    "3. Write an expression to test if the object type and value of x is the same as y"
   ]
  },
  {
   "cell_type": "code",
   "execution_count": 11,
   "id": "4e51c692",
   "metadata": {},
   "outputs": [
    {
     "data": {
      "text/plain": [
       "False"
      ]
     },
     "execution_count": 11,
     "metadata": {},
     "output_type": "execute_result"
    }
   ],
   "source": [
    "dp = 10\n",
    "round(y, dp) > round(x*3, dp)"
   ]
  },
  {
   "cell_type": "markdown",
   "id": "285cc56f",
   "metadata": {
    "id": "285cc56f"
   },
   "source": [
    "4. Write an expression to test if x is less than y, and y is less than z"
   ]
  },
  {
   "cell_type": "code",
   "execution_count": 12,
   "id": "b9288f64",
   "metadata": {},
   "outputs": [
    {
     "data": {
      "text/plain": [
       "True"
      ]
     },
     "execution_count": 12,
     "metadata": {},
     "output_type": "execute_result"
    }
   ],
   "source": [
    "x < y < z # will work for explicitly defined values"
   ]
  },
  {
   "cell_type": "markdown",
   "id": "ab8de29a",
   "metadata": {
    "id": "ab8de29a"
   },
   "source": [
    "5. Write an expression to test if y is less than both x and z"
   ]
  },
  {
   "cell_type": "code",
   "execution_count": null,
   "id": "7a845fb0",
   "metadata": {
    "id": "7a845fb0",
    "outputId": "34c82b49-e755-4935-eb9c-5afe279d6b1b"
   },
   "outputs": [
    {
     "data": {
      "text/plain": [
       "False"
      ]
     },
     "execution_count": 11,
     "metadata": {},
     "output_type": "execute_result"
    }
   ],
   "source": [
    "x > y < z # will work for explicitly defined values"
   ]
  },
  {
   "cell_type": "markdown",
   "id": "9946c9c2",
   "metadata": {
    "id": "9946c9c2"
   },
   "source": [
    "6. Write an expression to test if the sum of x and 2.1 is equal to y"
   ]
  },
  {
   "cell_type": "code",
   "execution_count": null,
   "id": "fbcb211c",
   "metadata": {
    "id": "fbcb211c",
    "outputId": "4652a4a2-c9c8-4694-d98d-690e7f681592"
   },
   "outputs": [
    {
     "data": {
      "text/plain": [
       "True"
      ]
     },
     "execution_count": 12,
     "metadata": {},
     "output_type": "execute_result"
    }
   ],
   "source": [
    "tolerance = 1e-10\n",
    "abs((x + 2.1) - y) < tolerance"
   ]
  },
  {
   "cell_type": "code",
   "execution_count": null,
   "id": "99aedc81",
   "metadata": {
    "id": "99aedc81",
    "outputId": "c3a19882-d8aa-4fb4-d91c-e75a85bed971"
   },
   "outputs": [
    {
     "data": {
      "text/plain": [
       "True"
      ]
     },
     "execution_count": 92,
     "metadata": {},
     "output_type": "execute_result"
    }
   ],
   "source": [
    "tolerance = 10\n",
    "round(x + 2.1, tolerance) == y"
   ]
  },
  {
   "cell_type": "markdown",
   "id": "24d735c1",
   "metadata": {
    "id": "24d735c1"
   },
   "source": [
    "# Exercise 3 - Logical Operators\n",
    "\n",
    "Create four variables u=2, v=-4, w=1 and x=5"
   ]
  },
  {
   "cell_type": "code",
   "execution_count": null,
   "id": "fdc50e68",
   "metadata": {
    "id": "fdc50e68"
   },
   "outputs": [],
   "source": [
    "u,v,w,x = 2,-4,1,5"
   ]
  },
  {
   "cell_type": "markdown",
   "id": "3fff4c64",
   "metadata": {
    "id": "3fff4c64"
   },
   "source": [
    "1. Write an expression to test if u is greater than v and w is less than x"
   ]
  },
  {
   "cell_type": "code",
   "execution_count": null,
   "id": "f5eff763",
   "metadata": {
    "id": "f5eff763",
    "outputId": "ed1f4347-4267-4eab-da4f-f7b609525c7b"
   },
   "outputs": [
    {
     "data": {
      "text/plain": [
       "True"
      ]
     },
     "execution_count": 94,
     "metadata": {},
     "output_type": "execute_result"
    }
   ],
   "source": [
    "u > v and w < x"
   ]
  },
  {
   "cell_type": "markdown",
   "id": "e358efc5",
   "metadata": {
    "id": "e358efc5"
   },
   "source": [
    "2. Write an expression to test if v, w and x are all smaller than u"
   ]
  },
  {
   "cell_type": "code",
   "execution_count": null,
   "id": "4171edc4",
   "metadata": {
    "id": "4171edc4",
    "outputId": "8c7345dd-59e1-48ed-db1b-50d9730a69ac"
   },
   "outputs": [
    {
     "data": {
      "text/plain": [
       "False"
      ]
     },
     "execution_count": 95,
     "metadata": {},
     "output_type": "execute_result"
    }
   ],
   "source": [
    "x < u and v < u and w < u"
   ]
  },
  {
   "cell_type": "markdown",
   "id": "f98c77b3",
   "metadata": {
    "id": "f98c77b3"
   },
   "source": [
    "3. Write an expression to test if at least one of  v, w and x are greater than u."
   ]
  },
  {
   "cell_type": "code",
   "execution_count": null,
   "id": "22d48541",
   "metadata": {
    "id": "22d48541",
    "outputId": "f64e1801-abca-4326-8f84-9866f9595096"
   },
   "outputs": [
    {
     "data": {
      "text/plain": [
       "True"
      ]
     },
     "execution_count": 96,
     "metadata": {},
     "output_type": "execute_result"
    }
   ],
   "source": [
    "v > u or w > u or x > u"
   ]
  },
  {
   "cell_type": "markdown",
   "id": "439c2493",
   "metadata": {
    "id": "439c2493"
   },
   "source": [
    "4. Write an expression to test if x divided by 2 is less than or equal to u minus 1.2"
   ]
  },
  {
   "cell_type": "code",
   "execution_count": null,
   "id": "3fd69dad",
   "metadata": {
    "id": "3fd69dad",
    "outputId": "f633b9fa-560c-4ad1-e839-91d91e1facf8"
   },
   "outputs": [
    {
     "data": {
      "text/plain": [
       "False"
      ]
     },
     "execution_count": 97,
     "metadata": {},
     "output_type": "execute_result"
    }
   ],
   "source": [
    "tolerance = 10\n",
    "\n",
    "round(x/2, 10) <= round(u - 1.2, 10)"
   ]
  },
  {
   "cell_type": "code",
   "execution_count": null,
   "id": "3adfc217",
   "metadata": {
    "id": "3adfc217",
    "outputId": "19660a56-094d-4628-8a5d-c43e7cc2d77b"
   },
   "outputs": [
    {
     "data": {
      "text/plain": [
       "False"
      ]
     },
     "execution_count": 98,
     "metadata": {},
     "output_type": "execute_result"
    }
   ],
   "source": [
    "tolerance = 1e-10\n",
    "\n",
    "x/2 - (u - 1.2) < tolerance or abs(x/2 - (u - 1.2)) < tolerance"
   ]
  },
  {
   "cell_type": "markdown",
   "id": "15e35c0e",
   "metadata": {
    "id": "15e35c0e"
   },
   "source": [
    "5. Write an expression to test if the value of any of the variables are negative"
   ]
  },
  {
   "cell_type": "code",
   "execution_count": null,
   "id": "83ed05e0",
   "metadata": {
    "id": "83ed05e0",
    "outputId": "7cca6954-3442-4d6e-df94-3866a7fcc51b"
   },
   "outputs": [
    {
     "data": {
      "text/plain": [
       "True"
      ]
     },
     "execution_count": 76,
     "metadata": {},
     "output_type": "execute_result"
    }
   ],
   "source": [
    "u < 0 or v < 0 or w < 0 or x < 0"
   ]
  },
  {
   "cell_type": "markdown",
   "id": "9c9250d5",
   "metadata": {
    "id": "9c9250d5"
   },
   "source": [
    "# Exercise 5 - Putting it all together\n",
    "\n",
    "A point lies on a map (Figure 1).\n",
    "<br>Each region excludes its outer boundary.\n",
    "<br>For a given point (x,y) where x and y are each a floating point number in the range (0, 10)\n",
    "\n",
    "<img src=\"img/region.png\" alt=\"Bristol\" style=\"width: 300px;\"/>"
   ]
  },
  {
   "cell_type": "code",
   "execution_count": 13,
   "id": "eff0638e",
   "metadata": {
    "id": "eff0638e",
    "outputId": "cc2e0818-bb05-4317-c1bf-b909e065895b"
   },
   "outputs": [
    {
     "name": "stdout",
     "output_type": "stream",
     "text": [
      "False False False False True\n"
     ]
    }
   ],
   "source": [
    "x, y = 2, 1\n",
    "\n",
    "# 1. Write an expression to test if the point is in region A\n",
    "A = y > 8\n",
    "\n",
    "# 2. Write an expression to test if the point is in region B\n",
    "B = 3 < y < 8 and x < 6 and 2.25 < ((x-2.5)**2 + (y-5)**2)**(1/2)\n",
    "\n",
    "# 3. Write an expression to test if the point is in region C\n",
    "C = 3 < y < 8 and x > 6\n",
    "\n",
    "# 4. Write an expression to test if the point is in region D\n",
    "D = 4.5 < ((x-2.5)**2 + (y-5)**2)**(1/2)\n",
    "\n",
    "# 5. Write an expression to test if the point is in region E\n",
    "E = y < 3\n",
    "\n",
    "print(A, B, C, D, E)"
   ]
  },
  {
   "cell_type": "markdown",
   "id": "828e792b",
   "metadata": {
    "id": "828e792b"
   },
   "source": [
    "Combine these statements in a different order to minimise the number of times you need to code each comparison explicitly."
   ]
  },
  {
   "cell_type": "code",
   "execution_count": null,
   "id": "ed95f24d",
   "metadata": {
    "id": "ed95f24d",
    "outputId": "987240ef-6499-40ec-8d2e-5c692affae3b"
   },
   "outputs": [
    {
     "name": "stdout",
     "output_type": "stream",
     "text": [
      "False True False False True\n"
     ]
    }
   ],
   "source": [
    "A = y > 8\n",
    "\n",
    "E = y < 3\n",
    "\n",
    "D = 4.5 < ((x-2.5)**2 + (y-5)**2)**(1/2)\n",
    "\n",
    "B = x < 6 and not D\n",
    "\n",
    "C = not A and not B and not D and not E\n",
    "\n",
    "\n",
    "print(A, B, C, D, E)\n"
   ]
  },
  {
   "cell_type": "code",
   "execution_count": null,
   "id": "c57f4c03",
   "metadata": {
    "id": "c57f4c03"
   },
   "outputs": [],
   "source": []
  }
 ],
 "metadata": {
  "celltoolbar": "Slideshow",
  "colab": {
   "provenance": []
  },
  "kernelspec": {
   "display_name": "Python 3 (ipykernel)",
   "language": "python",
   "name": "python3"
  },
  "language_info": {
   "codemirror_mode": {
    "name": "ipython",
    "version": 3
   },
   "file_extension": ".py",
   "mimetype": "text/x-python",
   "name": "python",
   "nbconvert_exporter": "python",
   "pygments_lexer": "ipython3",
   "version": "3.11.4"
  }
 },
 "nbformat": 4,
 "nbformat_minor": 5
}
