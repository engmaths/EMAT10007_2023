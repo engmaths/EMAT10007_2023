{
 "cells": [
  {
   "cell_type": "markdown",
   "id": "23bc864e",
   "metadata": {
    "slideshow": {
     "slide_type": "slide"
    }
   },
   "source": [
    "# Introduction to Computer Programming\n",
    "\n",
    "## Week 2 - Exercise Solutions \n",
    "\n",
    "* * *\n",
    "\n",
    "<img src=\"img/full-colour-logo-UoB.png\" alt=\"Bristol\" style=\"width: 300px;\"/>"
   ]
  },
  {
   "cell_type": "markdown",
   "id": "37be8570",
   "metadata": {},
   "source": [
    "# Exercise 1 -  Conditional Statements"
   ]
  },
  {
   "cell_type": "markdown",
   "id": "708176c3",
   "metadata": {},
   "source": [
    "1. Create a variable, a, and assign it a string value. Use an if statement to test if the final character of the string is the letter e"
   ]
  },
  {
   "cell_type": "code",
   "execution_count": 1,
   "id": "b530cedb",
   "metadata": {},
   "outputs": [],
   "source": [
    "a = 'algorithm'\n",
    "\n",
    "if a[-1] == 'e':\n",
    "    print('last letter is e')"
   ]
  },
  {
   "cell_type": "markdown",
   "id": "e68d8bad",
   "metadata": {},
   "source": [
    "2. Create a variable, b, and assign it a numerical value. Use an if...else control structure\n",
    "that tests if the if the number is zero or non-zero and print a message to say which is the\n",
    "case."
   ]
  },
  {
   "cell_type": "code",
   "execution_count": 2,
   "id": "79f77264",
   "metadata": {},
   "outputs": [
    {
     "name": "stdout",
     "output_type": "stream",
     "text": [
      "non-zero\n"
     ]
    }
   ],
   "source": [
    "b = 12\n",
    "\n",
    "if bool(b):\n",
    "    print('non-zero')\n",
    "else:\n",
    "    print('zero')"
   ]
  },
  {
   "cell_type": "markdown",
   "id": "928425bf",
   "metadata": {},
   "source": [
    "3. Write a program that outputs the name of the layer for a given depth from the earth’s\n",
    "surface. Assume the depth is always a non-negative value. Assume the depths given in the figure are within the shallowest of the two layers they divide. \n",
    "\n",
    "\n",
    "<img src=\"img/earth_layers.png\" style=\"width: 300px;\"/>"
   ]
  },
  {
   "cell_type": "code",
   "execution_count": 8,
   "id": "42face44",
   "metadata": {},
   "outputs": [
    {
     "name": "stdout",
     "output_type": "stream",
     "text": [
      "outer core\n"
     ]
    }
   ],
   "source": [
    "depth = 3e3 # km \n",
    "\n",
    "if depth <= 50:\n",
    "    layer = 'crust'\n",
    "elif depth <= 2900:\n",
    "    layer = 'mantle'\n",
    "elif depth <= 5100:\n",
    "    layer = 'outer core'\n",
    "elif depth <= 6370:\n",
    "    layer = 'inner core'\n",
    "    \n",
    "print(layer)"
   ]
  },
  {
   "cell_type": "markdown",
   "id": "e54108bb",
   "metadata": {},
   "source": [
    "4. Create 3 variables, c, d, and e and assign each variable a floating point value. Write a\n",
    "program that tests if c divided by d is equal to e and outputs a message, `'hello world'` if the outcome of the test is  `True`. Test your program using the values c=0.3,\n",
    "d=0.1, e=3. Does it perform correctly?"
   ]
  },
  {
   "cell_type": "code",
   "execution_count": 12,
   "id": "6e976d5e",
   "metadata": {},
   "outputs": [
    {
     "name": "stdout",
     "output_type": "stream",
     "text": [
      "hello world\n"
     ]
    }
   ],
   "source": [
    "c, d, e = 1.1, 2.3, 3.4\n",
    "c, d, e = 0.3, 0.1, 3.0\n",
    "\n",
    "tolerance = 10\n",
    "\n",
    "if round(c/d, tolerance) == round(e, tolerance):\n",
    "    print('hello world')"
   ]
  },
  {
   "cell_type": "markdown",
   "id": "c752ab38",
   "metadata": {},
   "source": [
    "5. Expand your answer to Question 4 to test if c divided by d is i)greater than e, ii) equal to e or iii) less than e and print a message to indicate which is True"
   ]
  },
  {
   "cell_type": "code",
   "execution_count": 14,
   "id": "44001123",
   "metadata": {},
   "outputs": [
    {
     "name": "stdout",
     "output_type": "stream",
     "text": [
      "equal to e\n"
     ]
    }
   ],
   "source": [
    "if round(c/d, tolerance) > round(e, tolerance):\n",
    "    print('greater than e')\n",
    "elif round(c/d, tolerance) == round(e, tolerance):\n",
    "    print('equal to e')\n",
    "else:\n",
    "    print('less than e')\n"
   ]
  },
  {
   "cell_type": "markdown",
   "id": "505cbab8",
   "metadata": {},
   "source": [
    "# Exercise 2 - Currency Trading\n",
    "A currency trader uses the following equation to calculate the amount in US dollars (USD) for the amount the customer pays in pounds sterling (GBP):\n",
    "    $$USD = GBP * M * R$$\n",
    "where $R=1.38$ is the market rate and the multiplier, $M$ is found using the table below, based on the amount paid.\n",
    "    \n",
    "|GBP                 | Mulitplier |\n",
    "|:----               |:----       |\n",
    "|<50                 |0.9         |\n",
    "|<500 and >=50       |0.92        |\n",
    "|<5,000 and >=500    |0.95        |\n",
    "|<50,000 and >=5,000 |0.97        |\n",
    "|>=50,000            |0.98        |\n",
    "\n",
    "\n",
    "    \n",
    "Write a program that prints the amount in US dollars for a given amount in pounds sterling, and the effective exchange rate for the conversion= $\\frac{\\mbox {USD}}{\\mbox {GBP}}$"
   ]
  },
  {
   "cell_type": "code",
   "execution_count": 15,
   "id": "c812362d",
   "metadata": {},
   "outputs": [
    {
     "name": "stdout",
     "output_type": "stream",
     "text": [
      "USD= 31.049999999999997 , effective exchange rate= 1.242\n"
     ]
    }
   ],
   "source": [
    "GBP = 25\n",
    "R = 1.38\n",
    "if GBP < 50:\n",
    "    M = 0.9\n",
    "elif 50 <= GBP < 500:\n",
    "    M = 0.92\n",
    "elif 500 <= GBP < 5_000:\n",
    "    M = 0.95\n",
    "elif 5_000 <= GBP < 50_000:\n",
    "    M = 0.97\n",
    "else:\n",
    "    M = 0.98\n",
    " \n",
    "USD = GBP * M * R\n",
    "\n",
    "print('USD=', USD, ', effective exchange rate=', USD/GBP)"
   ]
  },
  {
   "cell_type": "markdown",
   "id": "8874f447",
   "metadata": {},
   "source": [
    "# Exercise 3\n",
    "\n",
    "Create three variables\n",
    "c=1.1, d=3.2, e=4.3. Create a new float variable, f, with a value of your choice. Test if f + 1.1 is:\n",
    "- less than c\n",
    "- greater than or equal to c but less than d\n",
    "- greater than or equal to d but greater than e\n",
    "- greater than or equal to e"
   ]
  },
  {
   "cell_type": "code",
   "execution_count": 17,
   "id": "8e723fd5",
   "metadata": {},
   "outputs": [
    {
     "name": "stdout",
     "output_type": "stream",
     "text": [
      "greater than or equal to c but less than d\n"
     ]
    }
   ],
   "source": [
    "c=1.1\n",
    "d=3.2\n",
    "e=4.3\n",
    "\n",
    "f = 2.0\n",
    "\n",
    "tolerance = 10\n",
    "\n",
    "if round(f + 1.1, tolerance) < c:\n",
    "    print('less than c')\n",
    "elif c <= round(f + 1.1, tolerance) < d:\n",
    "    print('greater than or equal to c but less than d')\n",
    "elif d <= round(f + 1.1, tolerance) < e:\n",
    "    print('greater than or equal to d but greater than e')\n",
    "else:\n",
    "    print('greater than or equal to e')\n",
    "\n",
    "    "
   ]
  },
  {
   "cell_type": "markdown",
   "id": "6658ad45",
   "metadata": {},
   "source": [
    "# Exercise 4 - Nested conditionals"
   ]
  },
  {
   "cell_type": "markdown",
   "id": "37fb0be0",
   "metadata": {},
   "source": [
    "1. Write a program that checks a number, x, and prints:\n",
    "- ‘positive’ if x is positive\n",
    "- ‘negative if x is negative\n",
    "\n",
    "\n",
    "If x is positive the program should also print:\n",
    "- ‘square’ if x is a square number\n",
    "(a number of the form $x = n^2$ where n is an integer)\n",
    "- ‘not square’ otherwise"
   ]
  },
  {
   "cell_type": "code",
   "execution_count": null,
   "id": "34490e52",
   "metadata": {},
   "outputs": [],
   "source": [
    "x = 4\n",
    "\n",
    "if x > 0:\n",
    "    print('positive')\n",
    "    \n",
    "    if x**(1/2) == int(x**(1/2)):\n",
    "        print('square')\n",
    "        \n",
    "    else:\n",
    "        print('not square')\n",
    "    \n",
    "elif x < 0:\n",
    "    print('negative')"
   ]
  },
  {
   "cell_type": "markdown",
   "id": "7f3dba32",
   "metadata": {},
   "source": [
    "2. Write a program that:\n",
    "- checks if a number is odd or even\n",
    "- if it is odd, checks if the number is a multiple of 3\n",
    "- if it is even, checks if the number is a multiple of 4"
   ]
  },
  {
   "cell_type": "code",
   "execution_count": 18,
   "id": "b1f3ec56",
   "metadata": {},
   "outputs": [
    {
     "name": "stdout",
     "output_type": "stream",
     "text": [
      "even\n",
      "mutiple of 4\n"
     ]
    }
   ],
   "source": [
    "number = 16\n",
    "\n",
    "if number % 2:\n",
    "    print('odd')\n",
    "    \n",
    "    if not number % 3:\n",
    "        print('multiple of 3')\n",
    "        \n",
    "    \n",
    "else:\n",
    "    print('even')\n",
    "    \n",
    "    if not number % 4:\n",
    "        print('mutiple of 4')"
   ]
  },
  {
   "cell_type": "markdown",
   "id": "b1f9a840",
   "metadata": {},
   "source": [
    "# Exercise 5 - Putting it all together: Circles\n",
    "\n",
    "Suppose we have three circles in the xy-plane\n",
    "<br>Circle C1 is centred at (0, 0) with radius of length 5.\n",
    "<br>Circle C2 is centred at (2, 1) and has radius of length 2.\n",
    "<br>Circle C3 is centred at (−5, 0) and has a radius of length 3.\n",
    "<br>Write a program which takes in the variables x and y and tells the user which circle(s) the point\n",
    "(x, y) is in.\n",
    "<br>Think about the order in which your program evaluates the expressions? Is this the most efficient\n",
    "way to structure the code?\n",
    " \n",
    "<img src=\"img/circles.png\" style=\"width: 300px;\"/>"
   ]
  },
  {
   "cell_type": "code",
   "execution_count": null,
   "id": "af0c7716",
   "metadata": {},
   "outputs": [],
   "source": [
    "# 1\n",
    "# Coordinates of a point\n",
    "p_x = -3\n",
    "p_y = 0\n",
    "\n",
    "# Coordinates of circle centres\n",
    "c1_x = 0\n",
    "c1_y = 0\n",
    "\n",
    "c2_x = 2\n",
    "c2_y = 1\n",
    "\n",
    "c3_x = -5\n",
    "c3_y = 0\n",
    "\n",
    "# Radius of each circle\n",
    "c1_r = 5\n",
    "c2_r = 2\n",
    "c3_r = 3\n",
    "\n",
    "# Euclidean distance from the point to each of the circle centres\n",
    "p_to_c1 = ((p_x - c1_x)**2 + (p_y - c1_y)**2)**(1/2)\n",
    "p_to_c2 = ((p_x - c2_x)**2 + (p_y - c2_y)**2)**(1/2)\n",
    "p_to_c3 = ((p_x - c3_x)**2 + (p_y - c3_y)**2)**(1/2)\n",
    "\n",
    "print(P_to_C3)"
   ]
  },
  {
   "cell_type": "code",
   "execution_count": null,
   "id": "013d1630",
   "metadata": {},
   "outputs": [],
   "source": [
    "# Test if point lies in each circle:\n",
    "# Check if the distance from the point to the centre of the circle is less than \n",
    "# or equal to the radius of the circle. \n",
    "if p_to_c2 <= c2_r:\n",
    "    print(\"The point \", p_x, ',', p_y, \" is in circle C2.\")\n",
    "    # If p is in c2, it is also in c1\n",
    "    print(\"The point \", p_x, ',', p_y, \" is in circle C1.\") \n",
    "    \n",
    "elif p_to_c1 <= c1_r:\n",
    "    print(\"The point \", p_x, ',', p_y, \" is in circle C1.\")\n",
    "        \n",
    "if p_to_c3 <= c3_r:\n",
    "    print(\"The point \", p_x, ',', p_y, \" is in circle C3.\") "
   ]
  }
 ],
 "metadata": {
  "celltoolbar": "Slideshow",
  "kernelspec": {
   "display_name": "Python 3 (ipykernel)",
   "language": "python",
   "name": "python3"
  },
  "language_info": {
   "codemirror_mode": {
    "name": "ipython",
    "version": 3
   },
   "file_extension": ".py",
   "mimetype": "text/x-python",
   "name": "python",
   "nbconvert_exporter": "python",
   "pygments_lexer": "ipython3",
   "version": "3.10.9"
  }
 },
 "nbformat": 4,
 "nbformat_minor": 5
}
