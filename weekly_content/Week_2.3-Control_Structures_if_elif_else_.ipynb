{
 "cells": [
  {
   "cell_type": "markdown",
   "id": "b02a48fc",
   "metadata": {
    "slideshow": {
     "slide_type": "slide"
    }
   },
   "source": [
    "# Introduction to Computer Programming\n",
    "\n",
    "## Control Structures -  `if`...`elif`...(`else`) statements\n",
    "\n",
    "<img src=\"img/full-colour-logo-UoB.png\" alt=\"Drawing\" style=\"width: 300px;\"/>"
   ]
  },
  {
   "cell_type": "markdown",
   "id": "6e1a97da",
   "metadata": {
    "slideshow": {
     "slide_type": "slide"
    }
   },
   "source": [
    "# The `if`...`elif`...`else` control structure\n",
    "\n",
    "Executes a block of code only if the Boolean value of a conditional expression (`if`) is `True`\n",
    "\n",
    "Otherwise executes a different block of code only if the Boolean value of a conditional expression (`elif`) is `True`\n",
    "\n",
    "Otherwise executes a different block of code (`else`). \n",
    "\n",
    "The code structure looks like this:\n",
    "    \n",
    "```python\n",
    "if conditional_expression_A:\n",
    "    operation_A\n",
    "    \n",
    "elif conditional_expression_B:\n",
    "    operation_B\n",
    "    \n",
    "else:\n",
    "    operation_C\n",
    "```\n"
   ]
  },
  {
   "cell_type": "markdown",
   "id": "32e27d30",
   "metadata": {
    "slideshow": {
     "slide_type": "slide"
    }
   },
   "source": [
    "# Example\n",
    "Test if x is less than, greater than, or equal to 1"
   ]
  },
  {
   "cell_type": "code",
   "execution_count": 4,
   "id": "a179771b",
   "metadata": {},
   "outputs": [
    {
     "name": "stdout",
     "output_type": "stream",
     "text": [
      "x equal to 1\n"
     ]
    }
   ],
   "source": [
    "x = 1\n",
    "\n",
    "if x < 1:\n",
    "    print('x is less than 1')\n",
    "elif x > 1:\n",
    "    print('x is greater than 1')\n",
    "else:\n",
    "    print('x equal to 1')\n",
    "    "
   ]
  },
  {
   "cell_type": "markdown",
   "id": "32cf5a9b",
   "metadata": {
    "slideshow": {
     "slide_type": "fragment"
    }
   },
   "source": [
    "**One** of the indented blocks of code (after `if`, `elif`, __or__ after `else`) is executed every time the code is run. "
   ]
  },
  {
   "cell_type": "markdown",
   "id": "36376a9f",
   "metadata": {
    "slideshow": {
     "slide_type": "slide"
    }
   },
   "source": [
    "# Examples"
   ]
  },
  {
   "cell_type": "markdown",
   "id": "ed6c6ed0",
   "metadata": {
    "slideshow": {
     "slide_type": "slide"
    }
   },
   "source": [
    "Test if x is less than, greater than, or equal to y"
   ]
  },
  {
   "cell_type": "code",
   "execution_count": 5,
   "id": "287438d7",
   "metadata": {},
   "outputs": [
    {
     "name": "stdout",
     "output_type": "stream",
     "text": [
      "x is less than y\n"
     ]
    }
   ],
   "source": [
    "x, y = 2,3 \n",
    "\n",
    "if x < y:\n",
    "    print('x is less than y')\n",
    "elif x > y:\n",
    "    print('x is greater than y')\n",
    "else:\n",
    "    print('x equal to y')\n",
    "    "
   ]
  },
  {
   "cell_type": "markdown",
   "id": "2801e620",
   "metadata": {
    "slideshow": {
     "slide_type": "slide"
    }
   },
   "source": [
    "We can test the conditions in a different order to get the same result"
   ]
  },
  {
   "cell_type": "code",
   "execution_count": 7,
   "id": "69f4e91b",
   "metadata": {},
   "outputs": [
    {
     "name": "stdout",
     "output_type": "stream",
     "text": [
      "x is less than y\n"
     ]
    }
   ],
   "source": [
    "x, y = 2,3 \n",
    "\n",
    "if x > y:\n",
    "    print('x is greater than y')\n",
    "elif x < y:\n",
    "    print('x is less than y')\n",
    "else:\n",
    "    print('x equal to y')"
   ]
  },
  {
   "cell_type": "markdown",
   "id": "5b7e7040",
   "metadata": {
    "slideshow": {
     "slide_type": "slide"
    }
   },
   "source": [
    "# Example \n",
    "\n",
    "Test if:\n",
    "- x and y are non-zero\n",
    "- only one of x and y is non-zero\n",
    "- both x and y are zero"
   ]
  },
  {
   "cell_type": "code",
   "execution_count": 10,
   "id": "edbdaea5",
   "metadata": {},
   "outputs": [
    {
     "name": "stdout",
     "output_type": "stream",
     "text": [
      "both x and y are zero\n"
     ]
    }
   ],
   "source": [
    "x, y = 0,0 \n",
    "\n",
    "if bool(x) and bool(y):\n",
    "    print('x and y are non-zero')\n",
    "elif bool(x) or bool(y):\n",
    "    print('one of x and y is non-zero and the other is zero')\n",
    "else:\n",
    "    print('both x and y are zero')"
   ]
  },
  {
   "cell_type": "markdown",
   "id": "f16bf28d",
   "metadata": {
    "slideshow": {
     "slide_type": "slide"
    }
   },
   "source": [
    "# The `if`...`elif`... control structure\n",
    "\n",
    "Executes a block of code only if the Boolean value of a conditional expression (`if`) is `True`\n",
    "\n",
    "Otherwise executes a different block of code only if the Boolean value of a conditional expression (`elif`) is `True`\n",
    "\n",
    "Including the `else` statement in the control structure is **optional**. \n",
    "\n",
    "\n",
    "\n",
    "The syntax looks like:\n",
    "    \n",
    "```python\n",
    "if conditional_expression_A:\n",
    "    operation_A\n",
    "    \n",
    "elif conditional_expression_B:\n",
    "    operation_B\n",
    "\n",
    "```\n"
   ]
  },
  {
   "cell_type": "markdown",
   "id": "b87dbd3d",
   "metadata": {
    "slideshow": {
     "slide_type": "slide"
    }
   },
   "source": [
    "# Example\n",
    "\n",
    "Print a message if a is greater than 1 and a different message if a is less than 1"
   ]
  },
  {
   "cell_type": "code",
   "execution_count": 13,
   "id": "28149a6d",
   "metadata": {},
   "outputs": [],
   "source": [
    "a = 1\n",
    "\n",
    "if a > 1:\n",
    "    print('hello world')\n",
    "    \n",
    "elif a < 1:\n",
    "    print('hello you')\n",
    "    \n"
   ]
  },
  {
   "cell_type": "markdown",
   "id": "e439e5f1",
   "metadata": {
    "slideshow": {
     "slide_type": "fragment"
    }
   },
   "source": [
    "If the `else` statement is not included, and if the Boolean value of *all* `if` and `elif` conditional expressions are `False`, then no indented block is run "
   ]
  },
  {
   "cell_type": "markdown",
   "id": "21517f1a",
   "metadata": {
    "slideshow": {
     "slide_type": "slide"
    }
   },
   "source": [
    "# Examples"
   ]
  },
  {
   "cell_type": "markdown",
   "id": "dd045fd2",
   "metadata": {},
   "source": [
    "Print a message if x is greater than y and a different message if x is less than y "
   ]
  },
  {
   "cell_type": "code",
   "execution_count": 15,
   "id": "a9f4e4b9",
   "metadata": {},
   "outputs": [],
   "source": [
    "x, y = 2,2 \n",
    "\n",
    "if x > y:\n",
    "    print('x greater')\n",
    "elif x < y:\n",
    "    print('y greater')"
   ]
  },
  {
   "cell_type": "markdown",
   "id": "9ab4f0cb",
   "metadata": {
    "slideshow": {
     "slide_type": "slide"
    }
   },
   "source": [
    "Print a message if x and y are non-zero and a different message only one of x and y is non-zero"
   ]
  },
  {
   "cell_type": "code",
   "execution_count": 18,
   "id": "85cfd566",
   "metadata": {},
   "outputs": [],
   "source": [
    "x, y = 0,0\n",
    "\n",
    "if bool(x) and bool(y):\n",
    "    print('x and y non-zero')\n",
    "elif bool(x) or bool(y):\n",
    "    print('only one of x and y is non-zero')\n",
    "    "
   ]
  },
  {
   "cell_type": "markdown",
   "id": "64f2484c",
   "metadata": {
    "slideshow": {
     "slide_type": "slide"
    }
   },
   "source": [
    "An unlimited numer of `elif` statements can be used after an `if` statement\n",
    "\n",
    "The `else` statement may or may not be included in the control structure\n",
    "\n",
    "\n",
    "    \n",
    "```python\n",
    "if <conditional expression A>:\n",
    "    <operation A>\n",
    "    \n",
    "elif <conditional expression B>:\n",
    "    <operation B>\n",
    "    \n",
    "elif <conditional expression C>:\n",
    "    <operation C>\n",
    "\n",
    "```"
   ]
  },
  {
   "cell_type": "markdown",
   "id": "2a9977e4",
   "metadata": {
    "slideshow": {
     "slide_type": "slide"
    }
   },
   "source": [
    "### Example\n",
    "\n",
    "If the value of `a` is:\n",
    "- `N`, print the word `north`\n",
    "- `S`, print the word `south`\n",
    "- `E`, print the word `east`\n",
    "- `W`, print the word `west`"
   ]
  },
  {
   "cell_type": "code",
   "execution_count": 21,
   "id": "40833f81",
   "metadata": {},
   "outputs": [],
   "source": [
    "a = 'D'\n",
    "\n",
    "if a == 'N':\n",
    "    print('north')\n",
    "elif a == 'S':\n",
    "    print('south')\n",
    "elif a == 'E':\n",
    "    print('east')\n",
    "elif a == 'W':\n",
    "    print('west')"
   ]
  },
  {
   "cell_type": "markdown",
   "id": "e0bad03e",
   "metadata": {
    "slideshow": {
     "slide_type": "slide"
    }
   },
   "source": [
    "### Example\n",
    "\n",
    "If the value of `a` is:\n",
    "- between 2 and 5, add 1 \n",
    "- between 10 and 15, add 2\n",
    "- between 17 and 20, add 3\n",
    "\n",
    "Otherwise add 4\n",
    "\n",
    "Print `a`\n",
    "\n"
   ]
  },
  {
   "cell_type": "code",
   "execution_count": 23,
   "id": "be98c0d6",
   "metadata": {},
   "outputs": [
    {
     "name": "stdout",
     "output_type": "stream",
     "text": [
      "13\n"
     ]
    }
   ],
   "source": [
    "a = 9\n",
    "\n",
    "if 2 < a < 5:\n",
    "    a += 1\n",
    "elif 10 < a < 15:\n",
    "    a += 2\n",
    "elif 17 < a < 20:\n",
    "    a += 3\n",
    "else:\n",
    "    a += 4  \n",
    "print(a)"
   ]
  },
  {
   "cell_type": "markdown",
   "id": "a1bfc10c",
   "metadata": {
    "slideshow": {
     "slide_type": "slide"
    }
   },
   "source": [
    "The value of `a` is modified **every time** the code is run\n",
    "\n",
    "The modification depends on the value of `a`"
   ]
  },
  {
   "cell_type": "markdown",
   "id": "2e0352ad",
   "metadata": {
    "slideshow": {
     "slide_type": "slide"
    }
   },
   "source": [
    "### Need to see some more examples? \n",
    "https://www.w3schools.com/python/python_conditions.asp\n",
    "<br>https://www.geeksforgeeks.org/python-if-else/\n",
    "<br>https://pynative.com/python-if-else-and-for-loop-exercise-with-solutions/\n",
    "\n",
    "### Want some more advanced information on this topic?\n",
    "https://realpython.com/python-conditional-statements/\n"
   ]
  },
  {
   "cell_type": "code",
   "execution_count": null,
   "id": "5eb0a0a2",
   "metadata": {},
   "outputs": [],
   "source": []
  }
 ],
 "metadata": {
  "celltoolbar": "Slideshow",
  "kernelspec": {
   "display_name": "Python 3 (ipykernel)",
   "language": "python",
   "name": "python3"
  },
  "language_info": {
   "codemirror_mode": {
    "name": "ipython",
    "version": 3
   },
   "file_extension": ".py",
   "mimetype": "text/x-python",
   "name": "python",
   "nbconvert_exporter": "python",
   "pygments_lexer": "ipython3",
   "version": "3.10.9"
  }
 },
 "nbformat": 4,
 "nbformat_minor": 5
}
