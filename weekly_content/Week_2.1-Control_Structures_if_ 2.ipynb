{
 "cells": [
  {
   "cell_type": "markdown",
   "id": "b02a48fc",
   "metadata": {
    "slideshow": {
     "slide_type": "slide"
    }
   },
   "source": [
    "# Introduction to Computer Programming\n",
    "\n",
    "## Control Structures - the `if` statement\n",
    "\n",
    "<img src=\"img/full-colour-logo-UoB.png\" alt=\"Drawing\" style=\"width: 300px;\"/>"
   ]
  },
  {
   "cell_type": "markdown",
   "id": "287d30ba",
   "metadata": {
    "slideshow": {
     "slide_type": "slide"
    }
   },
   "source": [
    "So far we have written code as a sequence of statements one after the other. \n",
    "\n",
    "Real world computer programs usually need to:\n",
    "- choose between multiple possible sets of statements to execute\n",
    "- skip over some statements\n",
    "- repeatedly execute some statements\n",
    "\n"
   ]
  },
  {
   "cell_type": "markdown",
   "id": "9a28e533",
   "metadata": {
    "slideshow": {
     "slide_type": "slide"
    }
   },
   "source": [
    "<a id='ControlStatements'></a>\n",
    "# Conditional Statements \n",
    "\n",
    "Perform decision making in a program \n",
    "\n",
    "Allow __conditional__ execution of a block of code based on the Boolean value of an expression.\n",
    "\n"
   ]
  },
  {
   "cell_type": "markdown",
   "id": "b64105a0",
   "metadata": {
    "slideshow": {
     "slide_type": "slide"
    }
   },
   "source": [
    "# The `if` statement\n",
    "\n",
    "Executes a block of code only `if` the Boolean value of a conditional expression is `True`\n",
    "\n",
    "The syntax looks like:\n",
    "    \n",
    "```python\n",
    "if conditional_expression:\n",
    "    operation\n",
    "```\n"
   ]
  },
  {
   "cell_type": "markdown",
   "id": "8eb35961",
   "metadata": {
    "slideshow": {
     "slide_type": "slide"
    }
   },
   "source": [
    "# Example\n",
    "\n",
    "Test if a is greater than 1"
   ]
  },
  {
   "cell_type": "code",
   "execution_count": 4,
   "id": "91bfaa8c",
   "metadata": {},
   "outputs": [],
   "source": [
    "a = 1\n",
    "\n",
    "if a > 1:\n",
    "    print('a is greater than 1')"
   ]
  },
  {
   "cell_type": "markdown",
   "id": "0aecbd3a",
   "metadata": {
    "slideshow": {
     "slide_type": "slide"
    }
   },
   "source": [
    "\n",
    "The key ingredients are:\n",
    "\n",
    "1. __`if` keyword__\n",
    "1. __Conditional expression__: often includes *comparison*, *logical* or *identity* operators. \n",
    "1. __Colon `:`__ follows the condition to be evaluated. \n",
    "1. __*Indented* block of code__: operation to execute if the Boolean value of the conditional expression is `True`. <br> The indent: <br>- can be any number of spaces.<br>- must be the same for all lines in a block of code.<br>- 4 spaces is considered best practise.<br>- many IDEs automatically indent by 4 spaces after you type `if:`.\n",
    "\n"
   ]
  },
  {
   "cell_type": "markdown",
   "id": "d389c6f3",
   "metadata": {
    "slideshow": {
     "slide_type": "slide"
    }
   },
   "source": [
    "# Examples\n",
    "\n",
    "Test if :\n",
    "- x is less than y\n",
    "- x is equal to y\n",
    "- x and y are non-zero\n",
    "- at least one of x and y is non-zero"
   ]
  },
  {
   "cell_type": "code",
   "execution_count": 15,
   "id": "df33dbec",
   "metadata": {
    "slideshow": {
     "slide_type": "-"
    }
   },
   "outputs": [],
   "source": [
    "x, y = 0, 0\n",
    "\n",
    "if x < y:\n",
    "    print('x less than y')\n",
    "    \n",
    "if x == y:\n",
    "    print('x equal to y')\n",
    "    \n",
    "if bool(x) and bool(y):\n",
    "    print('x and y are non-zero')\n",
    "\n",
    "if bool(x) or bool(y):\n",
    "    print('at least one of x and y is non-zero')"
   ]
  },
  {
   "cell_type": "markdown",
   "id": "7b8582e2",
   "metadata": {
    "slideshow": {
     "slide_type": "slide"
    }
   },
   "source": [
    "# The role of the indent\n",
    "\n",
    "The indent determines the block of code (single or multi-line) to execute if the Boolean value of the conditional expression is True. "
   ]
  },
  {
   "cell_type": "code",
   "execution_count": 17,
   "id": "ef731847",
   "metadata": {
    "slideshow": {
     "slide_type": "-"
    }
   },
   "outputs": [
    {
     "name": "stdout",
     "output_type": "stream",
     "text": [
      "Always do this\n"
     ]
    }
   ],
   "source": [
    "x = 0\n",
    "\n",
    "if x > 1:\n",
    "    print(\"Do this based on the conditional expression\") \n",
    "    print(\"Do this based on the conditional expression\") \n",
    "    \n",
    "print(\"Always do this\")\n"
   ]
  },
  {
   "cell_type": "markdown",
   "id": "550b4679",
   "metadata": {
    "slideshow": {
     "slide_type": "fragment"
    }
   },
   "source": [
    "\n",
    "\n",
    "\n",
    "Only the indented line depends on the outcome of the `if` statement\n"
   ]
  },
  {
   "cell_type": "markdown",
   "id": "961deede",
   "metadata": {
    "slideshow": {
     "slide_type": "slide"
    }
   },
   "source": [
    "# Example \n",
    "If `a` is negative print a message to let the user know "
   ]
  },
  {
   "cell_type": "code",
   "execution_count": 20,
   "id": "d19adf85",
   "metadata": {},
   "outputs": [
    {
     "name": "stdout",
     "output_type": "stream",
     "text": [
      "Expression was True\n",
      "a is negative\n",
      "-1\n",
      "Done\n",
      "-1\n"
     ]
    }
   ],
   "source": [
    "a = -1\n",
    "\n",
    "if a < 0:\n",
    "    print('Expression was True')\n",
    "    print('a is negative')\n",
    "    print(a)\n",
    "    print('Done')\n",
    "    \n",
    "print(a)"
   ]
  },
  {
   "cell_type": "markdown",
   "id": "e180d4b6",
   "metadata": {
    "slideshow": {
     "slide_type": "slide"
    }
   },
   "source": [
    "# Example\n",
    "\n",
    "If the value of `a` is an even number, print `even`"
   ]
  },
  {
   "cell_type": "code",
   "execution_count": 23,
   "id": "8adad957",
   "metadata": {},
   "outputs": [],
   "source": [
    "a = 1\n",
    "\n",
    "if a % 2 == 0:\n",
    "    print('even')"
   ]
  },
  {
   "cell_type": "markdown",
   "id": "a4d6b708",
   "metadata": {
    "slideshow": {
     "slide_type": "slide"
    }
   },
   "source": [
    "# Example\n",
    "\n",
    "If the value of `a` is an even number, increase the value of `a` by 1 and print the value of `a`"
   ]
  },
  {
   "cell_type": "code",
   "execution_count": 25,
   "id": "5c55ed54",
   "metadata": {},
   "outputs": [
    {
     "name": "stdout",
     "output_type": "stream",
     "text": [
      "7\n"
     ]
    }
   ],
   "source": [
    "a = 6\n",
    "\n",
    "if a % 2 == 0:\n",
    "    a += 1 \n",
    "    print(a)"
   ]
  },
  {
   "cell_type": "markdown",
   "id": "dbefaba2",
   "metadata": {
    "slideshow": {
     "slide_type": "slide"
    }
   },
   "source": [
    "The condition in the `if` statement can be any expression. \n",
    "\n",
    "If the Boolean value of the expression is `True`, the indented code will execute. "
   ]
  },
  {
   "cell_type": "markdown",
   "id": "e04c46fa",
   "metadata": {
    "slideshow": {
     "slide_type": "slide"
    }
   },
   "source": [
    "# Example\n",
    "\n",
    "If a is non-zero print `'hello world'`"
   ]
  },
  {
   "cell_type": "code",
   "execution_count": 30,
   "id": "7bfe4896",
   "metadata": {
    "slideshow": {
     "slide_type": "-"
    }
   },
   "outputs": [
    {
     "name": "stdout",
     "output_type": "stream",
     "text": [
      "hello world\n"
     ]
    }
   ],
   "source": [
    "a = 45\n",
    "\n",
    "if a:\n",
    "    print('hello world')"
   ]
  },
  {
   "cell_type": "markdown",
   "id": "b7ee5e6b",
   "metadata": {
    "slideshow": {
     "slide_type": "slide"
    }
   },
   "source": [
    "# Example\n",
    "\n",
    "Test if b is less than a and less than c"
   ]
  },
  {
   "cell_type": "code",
   "execution_count": 32,
   "id": "359a55bc",
   "metadata": {
    "slideshow": {
     "slide_type": "-"
    }
   },
   "outputs": [
    {
     "name": "stdout",
     "output_type": "stream",
     "text": [
      "test passed\n"
     ]
    }
   ],
   "source": [
    "a, b, c = 1, 0, 1\n",
    "\n",
    "if a > b < c:\n",
    "    print('test passed')"
   ]
  },
  {
   "cell_type": "markdown",
   "id": "6869aaa3",
   "metadata": {
    "slideshow": {
     "slide_type": "slide"
    }
   },
   "source": [
    "# Example\n",
    "\n",
    "Test if a word starts with `'p'`"
   ]
  },
  {
   "cell_type": "code",
   "execution_count": 35,
   "id": "ff17ba4a",
   "metadata": {
    "slideshow": {
     "slide_type": "-"
    }
   },
   "outputs": [
    {
     "name": "stdout",
     "output_type": "stream",
     "text": [
      "word starts with letter p\n"
     ]
    }
   ],
   "source": [
    "word = 'Python'\n",
    "\n",
    "if word[0] == 'p' or word[0] == 'P':\n",
    "    print('word starts with letter p')"
   ]
  },
  {
   "cell_type": "markdown",
   "id": "77ff63f8",
   "metadata": {
    "slideshow": {
     "slide_type": "slide"
    }
   },
   "source": [
    "# Example\n",
    "\n",
    "Test if a word starts or ends with with `'p'`"
   ]
  },
  {
   "cell_type": "code",
   "execution_count": 38,
   "id": "63f3582e",
   "metadata": {
    "slideshow": {
     "slide_type": "-"
    }
   },
   "outputs": [
    {
     "name": "stdout",
     "output_type": "stream",
     "text": [
      "word starts or ends with lower case p\n"
     ]
    }
   ],
   "source": [
    "word = 'cup'\n",
    "\n",
    "if word[0] == 'p' or word[-1] == 'p':\n",
    "    print('word starts or ends with lower case p')"
   ]
  },
  {
   "cell_type": "markdown",
   "id": "2e0352ad",
   "metadata": {
    "slideshow": {
     "slide_type": "slide"
    }
   },
   "source": [
    "### Need to see some more examples? \n",
    "https://www.w3schools.com/python/python_conditions.asp\n",
    "<br>https://www.geeksforgeeks.org/python-if-else/\n",
    "<br>https://pynative.com/python-if-else-and-for-loop-exercise-with-solutions/\n",
    "\n",
    "### Want some more advanced information on this topic?\n",
    "https://realpython.com/python-conditional-statements/\n"
   ]
  },
  {
   "cell_type": "code",
   "execution_count": null,
   "id": "a0c76105",
   "metadata": {},
   "outputs": [],
   "source": []
  }
 ],
 "metadata": {
  "celltoolbar": "Slideshow",
  "kernelspec": {
   "display_name": "Python 3 (ipykernel)",
   "language": "python",
   "name": "python3"
  },
  "language_info": {
   "codemirror_mode": {
    "name": "ipython",
    "version": 3
   },
   "file_extension": ".py",
   "mimetype": "text/x-python",
   "name": "python",
   "nbconvert_exporter": "python",
   "pygments_lexer": "ipython3",
   "version": "3.10.9"
  }
 },
 "nbformat": 4,
 "nbformat_minor": 5
}
