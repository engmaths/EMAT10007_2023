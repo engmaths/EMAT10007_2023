{
 "cells": [
  {
   "cell_type": "markdown",
   "id": "d34f3802",
   "metadata": {
    "slideshow": {
     "slide_type": "slide"
    }
   },
   "source": [
    "# Introduction to Computer Programming\n",
    "\n",
    "## `break` and `continue`\n",
    "\n",
    "* * *\n",
    "\n",
    "<img src=\"img/full-colour-logo-UoB.png\" alt=\"Bristol\" style=\"width: 300px;\"/>"
   ]
  },
  {
   "cell_type": "markdown",
   "id": "909d59cf",
   "metadata": {
    "slideshow": {
     "slide_type": "slide"
    }
   },
   "source": [
    "In each example studied so far, the entire block of indented code within the `for`/`while` loop is executed on each iteration. \n",
    "\n",
    "Python provides two keywords to terminate a loop iteration prematurely:\n",
    "\n",
    "`break`: statement immediately terminates a loop entirely. \n",
    "\n",
    "`continue`: immediately terminates the current loop iteration. "
   ]
  },
  {
   "cell_type": "markdown",
   "id": "068fce68",
   "metadata": {
    "slideshow": {
     "slide_type": "slide"
    }
   },
   "source": [
    "# Terminating loops using `break`\n",
    "\n",
    "`break`: statement immediately terminates a loop entirely. \n",
    "<br>The next unindented line is executed"
   ]
  },
  {
   "cell_type": "markdown",
   "id": "a15f305b",
   "metadata": {
    "slideshow": {
     "slide_type": "slide"
    }
   },
   "source": [
    "# Example \n",
    "Terminate the loop when `i` equals 3\n",
    "\n",
    "The `if` statement causes the `break` keyword to be executed "
   ]
  },
  {
   "cell_type": "code",
   "execution_count": null,
   "id": "7fb21ce1",
   "metadata": {},
   "outputs": [],
   "source": []
  },
  {
   "cell_type": "markdown",
   "id": "c21f8f31",
   "metadata": {
    "slideshow": {
     "slide_type": "slide"
    }
   },
   "source": [
    "# Skipping parts of a loop with `continue`\n",
    "\n",
    "`continue`: immediately terminates the current loop iteration. \n",
    "<br>Execution returns to the top of the loop\n",
    "<br>The controlling expression is re-evaluated "
   ]
  },
  {
   "cell_type": "markdown",
   "id": "efc1ea04",
   "metadata": {
    "slideshow": {
     "slide_type": "slide"
    }
   },
   "source": [
    "# Example \n",
    "Skip the iteration where `i` equals 3\n",
    "\n",
    "The `if` statement causes the `continue` keyword to be executed "
   ]
  },
  {
   "cell_type": "code",
   "execution_count": null,
   "id": "974d80f6",
   "metadata": {},
   "outputs": [],
   "source": [
    "\n",
    "    "
   ]
  },
  {
   "cell_type": "markdown",
   "id": "9755a626",
   "metadata": {
    "slideshow": {
     "slide_type": "fragment"
    }
   },
   "source": [
    "When the `continue` keyword is encountered, the current *iteration* of the loop terminates, but the loop continues"
   ]
  },
  {
   "cell_type": "markdown",
   "id": "670f8ea8",
   "metadata": {
    "slideshow": {
     "slide_type": "slide"
    }
   },
   "source": [
    "# Example \n",
    "Print the days of the week, excluding the weekend, using the sequence, `days`"
   ]
  },
  {
   "cell_type": "code",
   "execution_count": null,
   "id": "f1ae647a",
   "metadata": {},
   "outputs": [],
   "source": []
  },
  {
   "cell_type": "markdown",
   "id": "50b2ae1c",
   "metadata": {
    "slideshow": {
     "slide_type": "slide"
    }
   },
   "source": [
    "# Example \n",
    "Print the days of the week excluding Wednesday, using the sequence, `days`"
   ]
  },
  {
   "cell_type": "code",
   "execution_count": null,
   "id": "cd1a77dc",
   "metadata": {},
   "outputs": [],
   "source": []
  },
  {
   "cell_type": "markdown",
   "id": "6890f8a5",
   "metadata": {
    "slideshow": {
     "slide_type": "slide"
    }
   },
   "source": [
    "# Example \n",
    "\n",
    "Multiply each number in `sequence_1` with a number from `sequence_2` in the order they appear in the two sequences\n",
    "\n",
    "If the result of the multiplication is greater than 20, terminate the loop\n",
    "\n",
    "Otherwise, print the result"
   ]
  },
  {
   "cell_type": "code",
   "execution_count": null,
   "id": "233a802d",
   "metadata": {},
   "outputs": [],
   "source": []
  },
  {
   "cell_type": "markdown",
   "id": "738ef293",
   "metadata": {
    "slideshow": {
     "slide_type": "slide"
    }
   },
   "source": [
    "# Example \n",
    "\n",
    "Multiply each number in `sequence_1` with a number from `sequence_2` in the order they appear in the two sequences\n",
    "\n",
    "If the result of the multiplication is greater than 20, skip the rest of this iteration\n",
    "\n",
    "Otherwise, print the result"
   ]
  },
  {
   "cell_type": "code",
   "execution_count": null,
   "id": "fef13786",
   "metadata": {},
   "outputs": [],
   "source": []
  },
  {
   "cell_type": "markdown",
   "id": "ce02459b",
   "metadata": {
    "slideshow": {
     "slide_type": "slide"
    }
   },
   "source": [
    "# `for-else`\n",
    "\n",
    "The indented code after the `else` statement is executed if the `for` loop terminates through exhaustion of the iterable (rather than terminating early by `break` being executed)\n",
    "\n",
    "This control structure is used less often than the others we've studied but is useful at times"
   ]
  },
  {
   "cell_type": "code",
   "execution_count": null,
   "id": "7f151458",
   "metadata": {},
   "outputs": [],
   "source": []
  },
  {
   "cell_type": "markdown",
   "id": "b30bd44e",
   "metadata": {
    "slideshow": {
     "slide_type": "slide"
    }
   },
   "source": [
    "### Need to see some more examples? \n",
    "https://www.w3schools.in/python/break-and-continue\n",
    "<br>https://www.geeksforgeeks.org/break-continue-and-pass-in-python/\n",
    "<br>https://pynative.com/python-break-continue-pass/\n"
   ]
  },
  {
   "cell_type": "code",
   "execution_count": null,
   "id": "5620728c",
   "metadata": {},
   "outputs": [],
   "source": []
  }
 ],
 "metadata": {
  "celltoolbar": "Slideshow",
  "kernelspec": {
   "display_name": "Python 3 (ipykernel)",
   "language": "python",
   "name": "python3"
  },
  "language_info": {
   "codemirror_mode": {
    "name": "ipython",
    "version": 3
   },
   "file_extension": ".py",
   "mimetype": "text/x-python",
   "name": "python",
   "nbconvert_exporter": "python",
   "pygments_lexer": "ipython3",
   "version": "3.10.9"
  }
 },
 "nbformat": 4,
 "nbformat_minor": 5
}
