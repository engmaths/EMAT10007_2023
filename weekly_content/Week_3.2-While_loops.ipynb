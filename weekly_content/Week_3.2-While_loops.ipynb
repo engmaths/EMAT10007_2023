{
 "cells": [
  {
   "cell_type": "markdown",
   "id": "4242fbfd",
   "metadata": {
    "slideshow": {
     "slide_type": "slide"
    }
   },
   "source": [
    "# Introduction to Computer Programming\n",
    "\n",
    "## While loops\n",
    "\n",
    "* * *\n",
    "\n",
    "<img src=\"img/full-colour-logo-UoB.png\" alt=\"Bristol\" style=\"width: 300px;\"/>"
   ]
  },
  {
   "cell_type": "markdown",
   "id": "334b7c71",
   "metadata": {
    "slideshow": {
     "slide_type": "slide"
    }
   },
   "source": [
    "\n",
    "\n",
    "`while` loops have the syntax\n",
    "***\n",
    "```python\n",
    "while condition:\n",
    "    # block of code\n",
    "    \n",
    "```\n",
    "***\n",
    "The main components of a while loop are:\n",
    "1. the keyword `while`\n",
    "2. *condition*: this is an expression that returns the value True or False \n",
    "3. an indended block of code that will run as long as *condition* is True"
   ]
  },
  {
   "cell_type": "markdown",
   "id": "c7db090c",
   "metadata": {
    "slideshow": {
     "slide_type": "slide"
    }
   },
   "source": [
    "__Example of a while loop__: Print the numbers from 0 to 4"
   ]
  },
  {
   "cell_type": "code",
   "execution_count": 3,
   "id": "4ace7bf8",
   "metadata": {
    "scrolled": true
   },
   "outputs": [
    {
     "name": "stdout",
     "output_type": "stream",
     "text": [
      "0\n",
      "1\n",
      "2\n",
      "3\n",
      "4\n"
     ]
    }
   ],
   "source": [
    "i = 0\n",
    "while i < 5:\n",
    "    print(i)\n",
    "    i += 1"
   ]
  },
  {
   "cell_type": "markdown",
   "id": "f85fc764",
   "metadata": {
    "slideshow": {
     "slide_type": "-"
    }
   },
   "source": [
    "What sequence of events is happening?\n",
    "1. The variable *i* is assigned the value of 0\n",
    "2. The while loop is approached and the condition $i < 5$ is checked\n",
    "3. Since $0 < 5$ is True, the loop is entered\n",
    "4. The value of *i* is printed and its value is increased by one\n",
    "5. The condition $i < 5$ is checked again.  Since $1 < 5$ is True, the loop is entered again\n",
    "6. The process repeats until $i < 5$ is False, at which point the loop is terminated"
   ]
  },
  {
   "cell_type": "markdown",
   "id": "05c70bd4",
   "metadata": {
    "slideshow": {
     "slide_type": "slide"
    }
   },
   "source": [
    "# Infinite loops - a word of warning!\n",
    "\n",
    "**Question**: What will the output of the following code be?\n",
    "***\n",
    "```python\n",
    "i = 0\n",
    "while i < 5:\n",
    "    print(i)\n",
    "```\n",
    "***"
   ]
  },
  {
   "cell_type": "markdown",
   "id": "68e1fc09",
   "metadata": {
    "slideshow": {
     "slide_type": "fragment"
    }
   },
   "source": [
    "**Answer**: Since the value of $i$ is never changed, the loop will never terminate!\n",
    "* This is called an **infinite loop**\n",
    "* One must be careful to avoid these when using `while` loops"
   ]
  },
  {
   "cell_type": "code",
   "execution_count": null,
   "id": "5922b2c9",
   "metadata": {},
   "outputs": [],
   "source": []
  }
 ],
 "metadata": {
  "kernelspec": {
   "display_name": "Python 3 (ipykernel)",
   "language": "python",
   "name": "python3"
  },
  "language_info": {
   "codemirror_mode": {
    "name": "ipython",
    "version": 3
   },
   "file_extension": ".py",
   "mimetype": "text/x-python",
   "name": "python",
   "nbconvert_exporter": "python",
   "pygments_lexer": "ipython3",
   "version": "3.10.9"
  }
 },
 "nbformat": 4,
 "nbformat_minor": 5
}
