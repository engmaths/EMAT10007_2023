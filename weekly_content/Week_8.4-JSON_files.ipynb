{
 "cells": [
  {
   "cell_type": "markdown",
   "metadata": {
    "slideshow": {
     "slide_type": "slide"
    }
   },
   "source": [
    "# Introduction to Computer Programming\n",
    "\n",
    "## Week 8.4: JSON files (optional)\n",
    "\n",
    "* * *\n",
    "\n",
    "<img src=\"img/full-colour-logo-UoB.png\" alt=\"Bristol\" style=\"width: 300px;\"/>"
   ]
  },
  {
   "cell_type": "markdown",
   "metadata": {
    "slideshow": {
     "slide_type": "slide"
    }
   },
   "source": [
    "# Aims\n",
    "\n",
    "In this video we will:\n",
    "\n",
    "* Introduce JSON files and the `json` package\n",
    "* Show how you can save Python objects as JSON files\n",
    "* Show how you can load Python objects stored as JSON files"
   ]
  },
  {
   "cell_type": "markdown",
   "metadata": {
    "slideshow": {
     "slide_type": "slide"
    }
   },
   "source": [
    "# Motivation\n",
    "\n",
    "* We saw in the previous videos that data can be read and saved to .csv files\n",
    "    * Data is read into Python as strings, which then need to be manually converted into the correct data type\n",
    "    * This requires extra coding and leads to opportunity for errors\n",
    "* Even more work is needed if we are trying to save or load a complex data structure such as a dictionary\n",
    "* Wouldn't it be nice if we could save and load Python variables in their natural format?"
   ]
  },
  {
   "cell_type": "markdown",
   "metadata": {
    "slideshow": {
     "slide_type": "slide"
    }
   },
   "source": [
    "# JSON files\n",
    "\n",
    "* JSON stands for JavaScript Object Notation\n",
    "* JSON files (.json) store string representations of programming objects\n",
    "* The conversion into and from strings happens automatically, so you don't have to do this"
   ]
  },
  {
   "cell_type": "markdown",
   "metadata": {},
   "source": [
    "# The JSON package\n",
    "\n",
    "To work with .json files, we need to import the `json` package.\n",
    "\n",
    "At the top of our Python (.py) file, we add the line"
   ]
  },
  {
   "cell_type": "code",
   "execution_count": 1,
   "metadata": {},
   "outputs": [],
   "source": [
    "import json"
   ]
  },
  {
   "cell_type": "markdown",
   "metadata": {
    "slideshow": {
     "slide_type": "slide"
    }
   },
   "source": [
    "# Example - saving a dictionary\n",
    "\n",
    "Let's create a dictionary and save it to a .json file"
   ]
  },
  {
   "cell_type": "code",
   "execution_count": 6,
   "metadata": {},
   "outputs": [],
   "source": [
    "colours = {\"red\": [1,0,0], \"blue\": [0,1,0], \"green\": [0,0,1]}"
   ]
  },
  {
   "cell_type": "markdown",
   "metadata": {},
   "source": [
    "Notice that this dictionary is quite complex - it has strings for keys and tuples for values\n",
    "\n",
    "This would not be straightforward to save as a .csv file"
   ]
  },
  {
   "cell_type": "markdown",
   "metadata": {
    "slideshow": {
     "slide_type": "slide"
    }
   },
   "source": [
    "We can use the `dump` method to save the dictionary to a file that has been opened for writing"
   ]
  },
  {
   "cell_type": "code",
   "execution_count": 7,
   "metadata": {},
   "outputs": [],
   "source": [
    "with open('sample_data/colours.json', 'w') as file:\n",
    "    json.dump(colours, file)"
   ]
  },
  {
   "cell_type": "markdown",
   "metadata": {},
   "source": [
    "Done!"
   ]
  },
  {
   "cell_type": "markdown",
   "metadata": {
    "slideshow": {
     "slide_type": "slide"
    }
   },
   "source": [
    "<img src=\"img/json.png\" style=\"width: 500px;\"/>"
   ]
  },
  {
   "cell_type": "markdown",
   "metadata": {
    "slideshow": {
     "slide_type": "slide"
    }
   },
   "source": [
    "# Example - loading a dictionary"
   ]
  },
  {
   "cell_type": "markdown",
   "metadata": {},
   "source": [
    "The `load` method can be used to load a variable from a .json file"
   ]
  },
  {
   "cell_type": "code",
   "execution_count": 9,
   "metadata": {},
   "outputs": [
    {
     "name": "stdout",
     "output_type": "stream",
     "text": [
      "{'red': [1, 0, 0], 'blue': [0, 1, 0], 'green': [0, 0, 1]}\n"
     ]
    }
   ],
   "source": [
    "with open('sample_data/colours.json', 'r') as file:\n",
    "    colours = json.load(file)\n",
    "\n",
    "print(colours)"
   ]
  },
  {
   "cell_type": "markdown",
   "metadata": {
    "slideshow": {
     "slide_type": "slide"
    }
   },
   "source": [
    "# Caveats\n",
    "\n",
    "* The `json` package isn't perfect\n",
    "    * Tuples will be converted into lists\n",
    "    * Only a single Python variable can be saved\n",
    "    * The names of the variables are not saved\n",
    "* Use a list to group several variables into one\n",
    "* Use a dict where keys are variable name and values are...the values\n",
    "```python3\n",
    "    json.dump([var1, var2, ...], file)\n",
    "    json.dump({\"var1\": var1, \"var2\": var2, ...}, file)\n",
    "```"
   ]
  },
  {
   "cell_type": "markdown",
   "metadata": {
    "slideshow": {
     "slide_type": "slide"
    }
   },
   "source": [
    "# Summary\n",
    "\n",
    "* JSON files enable Python variables to be saved to a file and then loaded\n",
    "* This can be more convenient than saving/loading a .csv file if the Python variable stores complex data"
   ]
  }
 ],
 "metadata": {
  "celltoolbar": "Slideshow",
  "kernelspec": {
   "display_name": "Python 3 (ipykernel)",
   "language": "python",
   "name": "python3"
  },
  "language_info": {
   "codemirror_mode": {
    "name": "ipython",
    "version": 3
   },
   "file_extension": ".py",
   "mimetype": "text/x-python",
   "name": "python",
   "nbconvert_exporter": "python",
   "pygments_lexer": "ipython3",
   "version": "3.11.4"
  }
 },
 "nbformat": 4,
 "nbformat_minor": 4
}
