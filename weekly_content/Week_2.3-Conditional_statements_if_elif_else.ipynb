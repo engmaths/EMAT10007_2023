{
 "cells": [
  {
   "cell_type": "code",
   "execution_count": null,
   "id": "4387ed5f",
   "metadata": {},
   "outputs": [],
   "source": []
  },
  {
   "cell_type": "markdown",
   "id": "b02a48fc",
   "metadata": {
    "slideshow": {
     "slide_type": "slide"
    }
   },
   "source": [
    "# Introduction to Computer Programming\n",
    "\n",
    "## Conditional Statements -  `if`...`elif`...(`else`)\n",
    "\n",
    "<img src=\"img/full-colour-logo-UoB.png\" alt=\"Drawing\" style=\"width: 300px;\"/>"
   ]
  },
  {
   "cell_type": "markdown",
   "id": "43f8d93b",
   "metadata": {
    "slideshow": {
     "slide_type": "slide"
    }
   },
   "source": [
    "# `if`...`elif`...`else`\n",
    "\n",
    " \n",
    "\n",
    "- Executes a block of code only if the `if` a conditional statement is `True` \n",
    "- Otherwise executes a *different* block of code only if the `elif` a conditional statement is `True`\n",
    "- Otherwise executes a *different* block of code (after `else`) if **all** preceding `if` and `elif` conditional statements are `False`.\n",
    "\n",
    "\n",
    "__Only one__ of the three blocks (after `if` __or__ after `elif` __or__ after `else` ) is executed. \n",
    "\n",
    "<center>\n",
    "  <img src=\"img/else_flow.png\" alt=\"Drawing\" style=\"width: 600px;\"/>\n",
    "</center>"
   ]
  },
  {
   "cell_type": "markdown",
   "id": "301a1aa6",
   "metadata": {},
   "source": [
    "# `if`...`elif`...`else`\n",
    "\n",
    "Executes indented block of code only if the `if` conditional statement is `True`\n",
    "\n",
    "Otherwise, executes next indented block of code if the `elif` conditional statement is `True`\n",
    "\n",
    "Otherwise executes the next indented block of code (after `else`)\n",
    "\n",
    "We can think of `else` as the **default** value, so one of the indented blocks will be executed every time the code is run"
   ]
  },
  {
   "cell_type": "code",
   "execution_count": 1,
   "id": "a20a2115",
   "metadata": {
    "slideshow": {
     "slide_type": "slide"
    }
   },
   "outputs": [
    {
     "name": "stdout",
     "output_type": "stream",
     "text": [
      "Do something else\n",
      "Further code\n"
     ]
    }
   ],
   "source": [
    "x = 5\n",
    "\n",
    "if x > 10:\n",
    "    print(\"Do this\")           # if condition is True\n",
    "    \n",
    "elif x > 5:\n",
    "    print(\"Do that\")           # if another condition is True\n",
    "    \n",
    "else:\n",
    "    print(\"Do something else\") # if all preceding conditions are False\n",
    "    \n",
    "print(\"Further code\")\n"
   ]
  },
  {
   "cell_type": "markdown",
   "id": "a3b2f2c4",
   "metadata": {
    "slideshow": {
     "slide_type": "slide"
    }
   },
   "source": [
    "### Example\n",
    "\n",
    "If the value of `a` is:\n",
    "- `C`, print the word `circle`\n",
    "- `S`, print the word `square`\n",
    "\n",
    "Otherwise print `not a valid shape`"
   ]
  },
  {
   "cell_type": "code",
   "execution_count": 11,
   "id": "381a21e6",
   "metadata": {},
   "outputs": [
    {
     "name": "stdout",
     "output_type": "stream",
     "text": [
      "circle\n"
     ]
    }
   ],
   "source": [
    "a = 'C'\n",
    "\n",
    "if a == 'C':\n",
    "    print('circle')\n",
    "elif a == 'S':\n",
    "    print('square')\n",
    "else:\n",
    "    print('not a valid shape')"
   ]
  },
  {
   "cell_type": "markdown",
   "id": "d0453eb8",
   "metadata": {
    "slideshow": {
     "slide_type": "slide"
    }
   },
   "source": [
    "# `if`...`elif`...\n",
    "\n",
    "Executes indented block of code only if the `if` conditional statement is `True`\n",
    "\n",
    "Otherwise, executes next indented block of code if the `elif` conditional statement is `True`\n",
    "\n",
    "The `else` statement is **optional**. \n",
    "<br>If it is not included, there is no default value, so if *all* `if` and `elif` conditional statements are `False`, then no indented block is run \n",
    "\n",
    "<center>\n",
    "  <img src=\"img/if_elif_flow.png\" alt=\"Drawing\" style=\"width: 300px;\"/>\n",
    "</center>"
   ]
  },
  {
   "cell_type": "markdown",
   "id": "d32633fb",
   "metadata": {
    "slideshow": {
     "slide_type": "slide"
    }
   },
   "source": [
    "### Example\n",
    "\n",
    "If the value of `a` is:\n",
    "- `C`, print the word `circle`\n",
    "- `S`, print the word `square`\n"
   ]
  },
  {
   "cell_type": "code",
   "execution_count": 6,
   "id": "ac925b6e",
   "metadata": {},
   "outputs": [
    {
     "name": "stdout",
     "output_type": "stream",
     "text": [
      "circle\n"
     ]
    }
   ],
   "source": [
    "a = 'C'\n",
    "\n",
    "if a == 'C':\n",
    "    print('circle')\n",
    "elif a == 'S':\n",
    "    print('square')"
   ]
  },
  {
   "cell_type": "markdown",
   "id": "aa557f3d",
   "metadata": {},
   "source": [
    "An unlimited numer of `elif` statements can be used after an `if` statement\n",
    "\n",
    "\n",
    "<center>\n",
    "  <img src=\"img/if_elif_elif_flow.png\" alt=\"Drawing\" style=\"width: 600px;\"/>\n",
    "</center>"
   ]
  },
  {
   "cell_type": "markdown",
   "id": "2a9977e4",
   "metadata": {
    "slideshow": {
     "slide_type": "slide"
    }
   },
   "source": [
    "### Example\n",
    "\n",
    "If the value of `a` is:\n",
    "- `N`, print the word `north`\n",
    "- `S`, print the word `south`\n",
    "- `E`, print the word `east`\n",
    "- `W`, print the word `west`"
   ]
  },
  {
   "cell_type": "code",
   "execution_count": 12,
   "id": "40833f81",
   "metadata": {},
   "outputs": [
    {
     "name": "stdout",
     "output_type": "stream",
     "text": [
      "north\n"
     ]
    }
   ],
   "source": [
    "a = 'N'\n",
    "\n",
    "if a == 'N':\n",
    "    print('north')\n",
    "elif a == 'S':\n",
    "    print('south')\n",
    "elif a == 'E':\n",
    "    print('east')\n",
    "elif a == 'W':\n",
    "    print('west')\n"
   ]
  },
  {
   "cell_type": "markdown",
   "id": "e0bad03e",
   "metadata": {
    "slideshow": {
     "slide_type": "slide"
    }
   },
   "source": [
    "### Example\n",
    "\n",
    "If the value of `a` is:\n",
    "- greater than 2 and less than 5, add 1 \n",
    "- greater than 10 and  less than 15, add 2\n",
    "- greater than 17 and  less than 20, add 3\n",
    "\n",
    "Otherwise add 4\n",
    "\n",
    "Print `a`\n",
    "\n"
   ]
  },
  {
   "cell_type": "code",
   "execution_count": 17,
   "id": "be98c0d6",
   "metadata": {},
   "outputs": [
    {
     "name": "stdout",
     "output_type": "stream",
     "text": [
      "0\n"
     ]
    }
   ],
   "source": [
    "a = 0\n",
    "\n",
    "if 2 < a < 5:\n",
    "    a += 1\n",
    "    \n",
    "elif 10 < a < 15:\n",
    "    a += 2\n",
    "    \n",
    "elif 17 < a < 20:\n",
    "    a += 3\n",
    "    \n",
    "else:\n",
    "    a += 4\n",
    "    \n",
    "print(a)"
   ]
  },
  {
   "cell_type": "markdown",
   "id": "a1bfc10c",
   "metadata": {},
   "source": [
    "The value of `a` is only modified **every time** the code is run\n",
    "\n",
    "The modification depends on the value of `a`"
   ]
  },
  {
   "cell_type": "markdown",
   "id": "fff36d96",
   "metadata": {
    "slideshow": {
     "slide_type": "slide"
    }
   },
   "source": [
    "### Example\n",
    "\n",
    "If the value of `a` is:\n",
    "- greater than 2 and less than 5, add 1 \n",
    "- greater than 10 and  less than 15, add 2\n",
    "- greater than 17 and  less than 20, add 3\n",
    "\n",
    "Print `a`\n",
    "\n"
   ]
  },
  {
   "cell_type": "code",
   "execution_count": 17,
   "id": "71ead92b",
   "metadata": {},
   "outputs": [
    {
     "name": "stdout",
     "output_type": "stream",
     "text": [
      "0\n"
     ]
    }
   ],
   "source": [
    "a = 0\n",
    "\n",
    "if 2 < a < 5:\n",
    "    a += 1\n",
    "    \n",
    "elif 10 < a < 15:\n",
    "    a += 2\n",
    "    \n",
    "elif 17 < a < 20:\n",
    "    a += 3\n",
    "    \n",
    "print(a)"
   ]
  },
  {
   "cell_type": "markdown",
   "id": "3b3cd9de",
   "metadata": {},
   "source": [
    "The value of `a` is only modified if one of the conditional statements is `True`\n",
    "\n",
    "The modification depends on the value of `a`"
   ]
  },
  {
   "cell_type": "code",
   "execution_count": null,
   "id": "fe202151",
   "metadata": {},
   "outputs": [],
   "source": []
  }
 ],
 "metadata": {
  "celltoolbar": "Slideshow",
  "kernelspec": {
   "display_name": "Python 3 (ipykernel)",
   "language": "python",
   "name": "python3"
  },
  "language_info": {
   "codemirror_mode": {
    "name": "ipython",
    "version": 3
   },
   "file_extension": ".py",
   "mimetype": "text/x-python",
   "name": "python",
   "nbconvert_exporter": "python",
   "pygments_lexer": "ipython3",
   "version": "3.10.9"
  }
 },
 "nbformat": 4,
 "nbformat_minor": 5
}
