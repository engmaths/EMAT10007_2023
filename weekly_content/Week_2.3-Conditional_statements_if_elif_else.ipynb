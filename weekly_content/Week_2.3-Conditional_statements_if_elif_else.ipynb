{
 "cells": [
  {
   "cell_type": "code",
   "execution_count": null,
   "id": "4387ed5f",
   "metadata": {},
   "outputs": [],
   "source": []
  },
  {
   "cell_type": "markdown",
   "id": "b02a48fc",
   "metadata": {
    "slideshow": {
     "slide_type": "slide"
    }
   },
   "source": [
    "# Introduction to Computer Programming\n",
    "\n",
    "## Conditional Statements -  `if`...`elif`...(`else`)\n",
    "\n",
    "<img src=\"img/full-colour-logo-UoB.png\" alt=\"Drawing\" style=\"width: 300px;\"/>"
   ]
  },
  {
   "cell_type": "markdown",
   "id": "43f8d93b",
   "metadata": {
    "slideshow": {
     "slide_type": "slide"
    }
   },
   "source": [
    "# `if`...`elif`...(`else`)\n",
    "\n",
    " \n",
    "\n",
    "- Runs indented code after `if`, if the Boolean value of a condition is `True`.\n",
    "- Otherwise runs indented code after `elif` ('else if') if the Boolean value of a *different* condition is `True`.\n",
    "- Otherwise runs indented code after `else` if *all* preceding `if` and `elif` statements output `False`.\n",
    "\n",
    "__Only one__ of the three blocks (after `if` __or__ after `elif` __or__ after `else` ) is executed. \n",
    "\n",
    "<center>\n",
    "  <img src=\"img/else_flow.png\" alt=\"Drawing\" style=\"width: 600px;\"/>\n",
    "</center>"
   ]
  },
  {
   "cell_type": "code",
   "execution_count": 1,
   "id": "a20a2115",
   "metadata": {
    "slideshow": {
     "slide_type": "slide"
    }
   },
   "outputs": [
    {
     "name": "stdout",
     "output_type": "stream",
     "text": [
      "Do something else\n",
      "Further code\n"
     ]
    }
   ],
   "source": [
    "x = 5\n",
    "\n",
    "if x > 10:\n",
    "    print(\"Do this\")           # if condition is True\n",
    "    \n",
    "elif x > 5:\n",
    "    print(\"Do that\")           # if another condition is True\n",
    "    \n",
    "else:\n",
    "    print(\"Do something else\") # if all preceding conditions are False\n",
    "    \n",
    "print(\"Further code\")\n"
   ]
  },
  {
   "cell_type": "markdown",
   "id": "5dc652b1",
   "metadata": {
    "slideshow": {
     "slide_type": "slide"
    }
   },
   "source": [
    "An unlimited numer of `elif` statements can be used after an `if` statement\n",
    "\n",
    "The `else` statement is optional."
   ]
  },
  {
   "cell_type": "code",
   "execution_count": 2,
   "id": "326f6fde",
   "metadata": {},
   "outputs": [
    {
     "name": "stdout",
     "output_type": "stream",
     "text": [
      "Further code\n"
     ]
    }
   ],
   "source": [
    "x = 0\n",
    "\n",
    "if x > 10:\n",
    "    print(\"Do this\") # if condition is True\n",
    "\n",
    "elif x > 5:\n",
    "    print(\"Do that\") # if another condition is True\n",
    "    \n",
    "elif x > 0:\n",
    "    print(\"Do something else\") # if another condition is True\n",
    "\n",
    "    \n",
    "print(\"Further code\")\n"
   ]
  },
  {
   "cell_type": "markdown",
   "id": "38c9bf77",
   "metadata": {
    "slideshow": {
     "slide_type": "skip"
    }
   },
   "source": [
    "# Example\n",
    "\n",
    "<center>\n",
    "  <img align=\"right\" src=\"img/robot_letters.png\" alt=\"Drawing\" style=\"width: 400px;\"/>\n",
    "</center>\n",
    "\n",
    "A two-wheeled robot uses three sensors (a, b and c) to follow a black line on a white surface. \n",
    "\n",
    "The sensors output:\n",
    "- 0 if over a white surface\n",
    "- 1 if over a black surface\n",
    "\n",
    "The arrows show what the relative speed of the two wheels should be, depending on the output of the sensors. \n",
    "\n",
    "Write a program to simulate the robot's control system by representing the outputs of each sensors as a variable.\n",
    "\n",
    "*Hint*: Remember `1` is `True` and `0` is `False` \n",
    "\n",
    "\n"
   ]
  },
  {
   "cell_type": "code",
   "execution_count": 29,
   "id": "96ecb3bc",
   "metadata": {
    "slideshow": {
     "slide_type": "skip"
    }
   },
   "outputs": [
    {
     "name": "stdout",
     "output_type": "stream",
     "text": [
      "1 2\n"
     ]
    }
   ],
   "source": [
    "a, b, c = 1, 1, 0\n",
    "\n",
    "if a and b and not c:\n",
    "    left = 1\n",
    "    right = 2\n",
    "    \n",
    "elif not a and b and c:\n",
    "    left = 2\n",
    "    right = 1\n",
    "    \n",
    "elif not a and b and not c:\n",
    "    left = 2\n",
    "    right = 2\n",
    "    \n",
    "else:\n",
    "    left = 0\n",
    "    right = 0\n",
    "    \n",
    "print(left, right)"
   ]
  },
  {
   "cell_type": "code",
   "execution_count": null,
   "id": "a2c8a3ad",
   "metadata": {},
   "outputs": [],
   "source": []
  }
 ],
 "metadata": {
  "celltoolbar": "Slideshow",
  "kernelspec": {
   "display_name": "Python 3 (ipykernel)",
   "language": "python",
   "name": "python3"
  },
  "language_info": {
   "codemirror_mode": {
    "name": "ipython",
    "version": 3
   },
   "file_extension": ".py",
   "mimetype": "text/x-python",
   "name": "python",
   "nbconvert_exporter": "python",
   "pygments_lexer": "ipython3",
   "version": "3.10.9"
  }
 },
 "nbformat": 4,
 "nbformat_minor": 5
}
