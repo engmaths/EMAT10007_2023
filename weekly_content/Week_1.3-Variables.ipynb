{
 "cells": [
  {
   "cell_type": "markdown",
   "id": "16c271fd",
   "metadata": {
    "slideshow": {
     "slide_type": "slide"
    }
   },
   "source": [
    "# Introduction to Computer Programming\n",
    "\n",
    "## Variables\n",
    "\n",
    "<img src=\"img/full-colour-logo-UoB.png\" alt=\"Drawing\" style=\"width: 300px;\"/>"
   ]
  },
  {
   "cell_type": "markdown",
   "id": "31c4cdea",
   "metadata": {
    "slideshow": {
     "slide_type": "slide"
    }
   },
   "source": [
    "# Variables \n",
    " - We need a way to store and use values (e.g. numbers) within a program\n",
    " - We can *assign* a value to a variable.\n",
    " - The Python function `print()` displays whatever is between the parentheses `(...)`"
   ]
  },
  {
   "cell_type": "code",
   "execution_count": 16,
   "id": "3758c6fc",
   "metadata": {
    "scrolled": true
   },
   "outputs": [
    {
     "name": "stdout",
     "output_type": "stream",
     "text": [
      "4\n"
     ]
    }
   ],
   "source": [
    "b = 4\n",
    "\n",
    "print(b)"
   ]
  },
  {
   "cell_type": "markdown",
   "id": "105a9fd6",
   "metadata": {
    "slideshow": {
     "slide_type": "slide"
    }
   },
   "source": [
    "# Data Types\n",
    "Every variable has a type (`int`, `float`, `string`....).\n",
    " \n",
    " __Basic Data Types__ (not exhaustive)\n",
    " \n",
    "- `int` __integer__: (e.g. 3, 88)\n",
    "- `float` __floating point number__: number with decimal point (e.g. 1.5, 99.9626)\n",
    "- `str` __string__: text data enclosed within quotation marks (e.g. `'hello'` or `\"12\"`)<br>(includes numbers represented as text data)\n",
    "- `bool` __Boolean__: `True` or `False`<br>(first letter capitalised)"
   ]
  },
  {
   "cell_type": "markdown",
   "id": "28eb2ae6",
   "metadata": {
    "slideshow": {
     "slide_type": "slide"
    }
   },
   "source": [
    "A type is automatically assigned when a variable is created. "
   ]
  },
  {
   "cell_type": "markdown",
   "id": "4dc545c5",
   "metadata": {},
   "source": [
    "# Integer (`int`)\n",
    "A whole number, with no decimal place"
   ]
  },
  {
   "cell_type": "code",
   "execution_count": 17,
   "id": "bdfd35fd",
   "metadata": {
    "slideshow": {
     "slide_type": "fragment"
    }
   },
   "outputs": [
    {
     "name": "stdout",
     "output_type": "stream",
     "text": [
      "1 <class 'int'>\n"
     ]
    }
   ],
   "source": [
    "a = 1 \n",
    "print(a, type(a)) \n"
   ]
  },
  {
   "cell_type": "markdown",
   "id": "bdfe0312",
   "metadata": {},
   "source": [
    "# Floating point (`float`) \n",
    "A decimal value or fractional number"
   ]
  },
  {
   "cell_type": "code",
   "execution_count": 18,
   "id": "dd67d0fc",
   "metadata": {
    "slideshow": {
     "slide_type": "fragment"
    }
   },
   "outputs": [
    {
     "name": "stdout",
     "output_type": "stream",
     "text": [
      "1.0 <class 'float'>\n"
     ]
    }
   ],
   "source": [
    "b = 1.0\n",
    "print(b, type(b)) # print variable \n"
   ]
  },
  {
   "cell_type": "markdown",
   "id": "8326fa85",
   "metadata": {},
   "source": [
    "The Python function `type()` function returns the type of a variable within the parentheses `(...)`.\n",
    "\n",
    "The Python function `print()` displays whatever is between the parentheses `(...)`\n",
    " "
   ]
  },
  {
   "cell_type": "markdown",
   "id": "27ee123f",
   "metadata": {
    "slideshow": {
     "slide_type": "slide"
    }
   },
   "source": [
    "# String (`string`)\n",
    "A collection of characters (alphabetical, numerical, or other e.g. punctuation)"
   ]
  },
  {
   "cell_type": "code",
   "execution_count": 19,
   "id": "a1b53375",
   "metadata": {
    "slideshow": {
     "slide_type": "fragment"
    }
   },
   "outputs": [
    {
     "name": "stdout",
     "output_type": "stream",
     "text": [
      "<class 'str'>\n",
      "<class 'str'>\n",
      "<class 'str'>\n"
     ]
    }
   ],
   "source": [
    "c = '10'\n",
    "d = 'python 3'\n",
    "e = 'hello world!'\n",
    "\n",
    "print(type(c))\n",
    "print(type(d))\n",
    "print(type(e))"
   ]
  },
  {
   "cell_type": "markdown",
   "id": "fc04d9b8",
   "metadata": {},
   "source": [
    "Unlike numerical data, `strings` are **subscriptable**\n",
    "\n",
    "This means that each character of the string has an **index** that can be used to access it \n",
    "\n",
    "Characters are **indexed** with integer values, starting from 0\n",
    "\n",
    "We can return the Nth character(s) of a string with `string_name[N]`"
   ]
  },
  {
   "cell_type": "code",
   "execution_count": 20,
   "id": "6a76bc1f",
   "metadata": {},
   "outputs": [],
   "source": [
    "x = 'Hello'"
   ]
  },
  {
   "cell_type": "code",
   "execution_count": 21,
   "id": "10f3168a",
   "metadata": {
    "slideshow": {
     "slide_type": "fragment"
    }
   },
   "outputs": [
    {
     "name": "stdout",
     "output_type": "stream",
     "text": [
      "H\n"
     ]
    }
   ],
   "source": [
    "print( x[0] )   # First letter"
   ]
  },
  {
   "cell_type": "code",
   "execution_count": 22,
   "id": "8a5067eb",
   "metadata": {
    "slideshow": {
     "slide_type": "fragment"
    }
   },
   "outputs": [
    {
     "name": "stdout",
     "output_type": "stream",
     "text": [
      "o\n",
      "o\n"
     ]
    }
   ],
   "source": [
    "print(x[4])   # Last letter\n",
    "print(x[-1])"
   ]
  },
  {
   "cell_type": "code",
   "execution_count": 23,
   "id": "2174e7c4",
   "metadata": {
    "slideshow": {
     "slide_type": "fragment"
    }
   },
   "outputs": [
    {
     "name": "stdout",
     "output_type": "stream",
     "text": [
      "Hel\n",
      "Hel\n"
     ]
    }
   ],
   "source": [
    "print( x[0:3] ) # First 3 letters (excludes 'stop value')\n",
    "print(x[:3])"
   ]
  },
  {
   "cell_type": "code",
   "execution_count": 24,
   "id": "7be89b20",
   "metadata": {
    "slideshow": {
     "slide_type": "fragment"
    }
   },
   "outputs": [
    {
     "name": "stdout",
     "output_type": "stream",
     "text": [
      "llo\n",
      "llo\n",
      "llo\n"
     ]
    }
   ],
   "source": [
    "print(x[2:5])  # Last three letters\n",
    "print(x[2:])\n",
    "print(x[-3:])"
   ]
  },
  {
   "cell_type": "markdown",
   "id": "8e86403b",
   "metadata": {},
   "source": [
    "There are a number of operations that can be performed on a `string`\n",
    "\n",
    "These are known as **methods**\n",
    "\n",
    "<br>For exampls:\n",
    " - `upper` (converts to upper case letters)\n",
    " - `find` (finds index of first ocurance of a specific character)\n",
    "\n",
    "<br>\n",
    "A full list of string methods can be found here:\n",
    "https://www.w3schools.com/python/python_ref_string.asp"
   ]
  },
  {
   "cell_type": "code",
   "execution_count": 25,
   "id": "c828c8a6",
   "metadata": {},
   "outputs": [
    {
     "name": "stdout",
     "output_type": "stream",
     "text": [
      "HELLO\n"
     ]
    }
   ],
   "source": [
    "y = x.upper()\n",
    "print(y)"
   ]
  },
  {
   "cell_type": "code",
   "execution_count": 26,
   "id": "dda72fac",
   "metadata": {},
   "outputs": [
    {
     "name": "stdout",
     "output_type": "stream",
     "text": [
      "2\n"
     ]
    }
   ],
   "source": [
    "z = x.find('l')\n",
    "print(z)"
   ]
  },
  {
   "cell_type": "markdown",
   "id": "cf40bd53",
   "metadata": {},
   "source": [
    "# Boolean (`bool`)\n",
    "Binary True or False values "
   ]
  },
  {
   "cell_type": "code",
   "execution_count": 4,
   "id": "9ffc41b1",
   "metadata": {
    "slideshow": {
     "slide_type": "fragment"
    }
   },
   "outputs": [
    {
     "name": "stdout",
     "output_type": "stream",
     "text": [
      "True <class 'bool'>\n"
     ]
    }
   ],
   "source": [
    "f = True\n",
    "g = False\n",
    "\n",
    "print(type(f))\n",
    "print(type(g))"
   ]
  }
 ],
 "metadata": {
  "celltoolbar": "Slideshow",
  "kernelspec": {
   "display_name": "Python 3 (ipykernel)",
   "language": "python",
   "name": "python3"
  },
  "language_info": {
   "codemirror_mode": {
    "name": "ipython",
    "version": 3
   },
   "file_extension": ".py",
   "mimetype": "text/x-python",
   "name": "python",
   "nbconvert_exporter": "python",
   "pygments_lexer": "ipython3",
   "version": "3.10.9"
  }
 },
 "nbformat": 4,
 "nbformat_minor": 5
}
