{
 "cells": [
  {
   "cell_type": "markdown",
   "id": "16c271fd",
   "metadata": {
    "slideshow": {
     "slide_type": "slide"
    }
   },
   "source": [
    "# Introduction to Computer Programming\n",
    "\n",
    "## Objects and Variables\n",
    "\n",
    "<img src=\"img/full-colour-logo-UoB.png\" alt=\"Drawing\" style=\"width: 300px;\"/>"
   ]
  },
  {
   "cell_type": "markdown",
   "id": "31c4cdea",
   "metadata": {
    "slideshow": {
     "slide_type": "slide"
    }
   },
   "source": [
    "# Objects \n",
    " - Every item of data (numbers, text characters etc) in a Python program can be described by the term __object__\n",
    " - The type of an object determines what properties it has and how it can be used in the Python program"
   ]
  },
  {
   "cell_type": "code",
   "execution_count": 2,
   "id": "f02b0ecd",
   "metadata": {},
   "outputs": [
    {
     "data": {
      "text/plain": [
       "1.2"
      ]
     },
     "execution_count": 2,
     "metadata": {},
     "output_type": "execute_result"
    }
   ],
   "source": [
    "30\n",
    "'Python'\n",
    "1.2"
   ]
  },
  {
   "cell_type": "markdown",
   "id": "294e8e59",
   "metadata": {
    "slideshow": {
     "slide_type": "slide"
    }
   },
   "source": [
    "# Variables and Variable Assignment\n",
    " - A variable is a name that refers or points to a particular object\n",
    " - By *assigning* an object to a variable, we allow it to be manipulated within the program, using the variable name\n",
    "- To create a variable, we simply assign it a value\n",
    "- Assignment is achieved with a single equals sign (`=`)\n",
    "\n",
    "\n",
    "\n",
    "IMAGE OF VARIABLE ASSIGNMENT"
   ]
  },
  {
   "cell_type": "code",
   "execution_count": 16,
   "id": "3758c6fc",
   "metadata": {
    "scrolled": true
   },
   "outputs": [
    {
     "name": "stdout",
     "output_type": "stream",
     "text": [
      "4\n"
     ]
    }
   ],
   "source": [
    "b = 4\n",
    "\n",
    "print(b)"
   ]
  },
  {
   "cell_type": "markdown",
   "id": "6ca75e68",
   "metadata": {},
   "source": [
    "*The Python function `print()` displays whatever is between the parentheses `(...)`*"
   ]
  },
  {
   "cell_type": "code",
   "execution_count": 4,
   "id": "2bc930ab",
   "metadata": {},
   "outputs": [
    {
     "name": "stdout",
     "output_type": "stream",
     "text": [
      "1\n",
      "2\n",
      "3 3 3\n"
     ]
    }
   ],
   "source": [
    "a, b = 1, 2\n",
    "print(a)\n",
    "print(b)\n",
    "\n",
    "c = d = e = 3\n",
    "print(c, d, e)"
   ]
  },
  {
   "cell_type": "markdown",
   "id": "105a9fd6",
   "metadata": {
    "slideshow": {
     "slide_type": "slide"
    }
   },
   "source": [
    "# Object Types\n",
    "The type of an object determines what properties it has and how it can be used in the Python program\n",
    " \n",
    " __Basic Object Types__ \n",
    " <br>(not exhaustive)\n",
    " \n",
    "- `int` __integer__: (e.g. 3, 88)\n",
    "- `float` __floating point number__: number with decimal point (e.g. 1.5, 99.9626)\n",
    "- `str` __string__: text data enclosed within quotation marks (e.g. `'hello'` or `\"12\"`)\n",
    "- `bool` __Boolean__: `True` or `False` (first letter capitalised)"
   ]
  },
  {
   "cell_type": "markdown",
   "id": "4dc545c5",
   "metadata": {},
   "source": [
    "# Integer (`int`)\n",
    "A whole number, with no decimal place"
   ]
  },
  {
   "cell_type": "code",
   "execution_count": 33,
   "id": "0a4a4903",
   "metadata": {},
   "outputs": [
    {
     "data": {
      "text/plain": [
       "int"
      ]
     },
     "execution_count": 33,
     "metadata": {},
     "output_type": "execute_result"
    }
   ],
   "source": [
    "type(1)"
   ]
  },
  {
   "cell_type": "markdown",
   "id": "7e342a4a",
   "metadata": {},
   "source": [
    "*The Python function `type()` function returns the type of a variable within the parentheses `(...)`*\n",
    "\n",
    "*The Python function `print()` displays whatever is between the parentheses `(...)`*\n",
    " "
   ]
  },
  {
   "cell_type": "code",
   "execution_count": 32,
   "id": "bdfd35fd",
   "metadata": {
    "slideshow": {
     "slide_type": "fragment"
    }
   },
   "outputs": [
    {
     "name": "stdout",
     "output_type": "stream",
     "text": [
      "1\n",
      "<class 'int'>\n"
     ]
    }
   ],
   "source": [
    "a = 1 \n",
    "\n",
    "print(a)\n",
    "\n",
    "print(type(a))"
   ]
  },
  {
   "cell_type": "markdown",
   "id": "bdfe0312",
   "metadata": {},
   "source": [
    "# Floating point (`float`) \n",
    "A decimal value or fractional number"
   ]
  },
  {
   "cell_type": "code",
   "execution_count": 34,
   "id": "2a81b68b",
   "metadata": {},
   "outputs": [
    {
     "data": {
      "text/plain": [
       "float"
      ]
     },
     "execution_count": 34,
     "metadata": {},
     "output_type": "execute_result"
    }
   ],
   "source": [
    "type(1.0)"
   ]
  },
  {
   "cell_type": "code",
   "execution_count": 35,
   "id": "dd67d0fc",
   "metadata": {
    "slideshow": {
     "slide_type": "fragment"
    }
   },
   "outputs": [
    {
     "name": "stdout",
     "output_type": "stream",
     "text": [
      "1.0\n",
      "<class 'float'>\n"
     ]
    }
   ],
   "source": [
    "b = 1.0\n",
    "\n",
    "print(b)\n",
    "\n",
    "print(type(b)) # print variable "
   ]
  },
  {
   "cell_type": "markdown",
   "id": "3fedf1b8",
   "metadata": {},
   "source": [
    "# Numerical value storage\n",
    "\n",
    "Numbers are stored on a computer as binary or base 2 numbers.\n",
    "\n",
    "Binary numbers are represented as a combinaion of 1s and 0s\n",
    "\n",
    "BINARY NUMBER PICTURE"
   ]
  },
  {
   "cell_type": "markdown",
   "id": "80480f31",
   "metadata": {},
   "source": [
    "# Integer storage\n",
    "\n",
    "A binary number can be used to represent any integer (whole number). \n",
    "\n",
    "The upper and lower limit is defined by the number of __bits__ in the binary number \n",
    "\n",
    "In Python there is effectively no limit to how long an integer value can be. \n",
    "<br>The upper limit is determined by the amount of memory a computer system has.\n",
    "\n",
    "BINARY NUMBER PICTURE (negative and positive)"
   ]
  },
  {
   "cell_type": "markdown",
   "id": "f7fbe149",
   "metadata": {},
   "source": [
    "# Floating point storage\n",
    "\n",
    "Binary fractions are used to represent floating point numbers. \n",
    "\n",
    "Almost all computers represent Python `float` values as 64-bit binary fractions.\n",
    "\n",
    "This means most decimal fractions cannot be represented exactly as binary fractions.\n",
    "\n",
    "For most decimal fractions, the stored representation of a floating-point number is an approximation of the actual value.\n",
    "\n",
    "BINARY NUMBER PICTURE"
   ]
  },
  {
   "cell_type": "markdown",
   "id": "cc041873",
   "metadata": {},
   "source": [
    "# Floating point error\n",
    "\n",
    "\n",
    "The difference between the true value and the stored value of the floating point number is small (17 d.p. in examples below).  \n",
    "\n",
    "The Python function `print()` outputs a value with the number of decimal points determined by the input value\n",
    "\n",
    "The Python function `format()` outputs the first value within the parentheses, formatted using the second value. <br>  A format of `'.17f'` (note the `f`) means to display a floating number with two digits after the decimal point."
   ]
  },
  {
   "cell_type": "code",
   "execution_count": 27,
   "id": "2882a87c",
   "metadata": {},
   "outputs": [
    {
     "name": "stdout",
     "output_type": "stream",
     "text": [
      "0.1\n"
     ]
    },
    {
     "data": {
      "text/plain": [
       "'0.10000000000000001'"
      ]
     },
     "execution_count": 27,
     "metadata": {},
     "output_type": "execute_result"
    }
   ],
   "source": [
    "print(0.1)\n",
    "format(0.1, '.17f')"
   ]
  },
  {
   "cell_type": "code",
   "execution_count": 28,
   "id": "7fa64f76",
   "metadata": {},
   "outputs": [
    {
     "name": "stdout",
     "output_type": "stream",
     "text": [
      "0.2\n"
     ]
    },
    {
     "data": {
      "text/plain": [
       "'0.20000000000000001'"
      ]
     },
     "execution_count": 28,
     "metadata": {},
     "output_type": "execute_result"
    }
   ],
   "source": [
    "print(0.2)\n",
    "format(0.2, '.17f')"
   ]
  },
  {
   "cell_type": "code",
   "execution_count": 29,
   "id": "f3c01484",
   "metadata": {},
   "outputs": [
    {
     "name": "stdout",
     "output_type": "stream",
     "text": [
      "0.3\n"
     ]
    },
    {
     "data": {
      "text/plain": [
       "'0.29999999999999999'"
      ]
     },
     "execution_count": 29,
     "metadata": {},
     "output_type": "execute_result"
    }
   ],
   "source": [
    "print(0.3)\n",
    "format(0.3, '.17f')"
   ]
  },
  {
   "cell_type": "markdown",
   "id": "27ee123f",
   "metadata": {
    "slideshow": {
     "slide_type": "slide"
    }
   },
   "source": [
    "# String (`string`)\n",
    "A collection of characters (alphabetical, numerical, or other e.g. punctuation)"
   ]
  },
  {
   "cell_type": "code",
   "execution_count": 19,
   "id": "a1b53375",
   "metadata": {
    "slideshow": {
     "slide_type": "fragment"
    }
   },
   "outputs": [
    {
     "name": "stdout",
     "output_type": "stream",
     "text": [
      "<class 'str'>\n",
      "<class 'str'>\n",
      "<class 'str'>\n"
     ]
    }
   ],
   "source": [
    "c = '10'\n",
    "d = 'python 3'\n",
    "e = 'hello world!'\n",
    "\n",
    "print(type(c))\n",
    "print(type(d))\n",
    "print(type(e))"
   ]
  },
  {
   "cell_type": "markdown",
   "id": "fc04d9b8",
   "metadata": {},
   "source": [
    "Unlike numerical data, `strings` are **subscriptable**\n",
    "\n",
    "This means that each character of the string has an **index** that can be used to access it \n",
    "\n",
    "Characters are **indexed** with integer values, starting from 0\n",
    "\n",
    "We can return the Nth character(s) of a string with `string_name[N]`"
   ]
  },
  {
   "cell_type": "code",
   "execution_count": 20,
   "id": "6a76bc1f",
   "metadata": {},
   "outputs": [],
   "source": [
    "x = 'Hello'"
   ]
  },
  {
   "cell_type": "code",
   "execution_count": 21,
   "id": "10f3168a",
   "metadata": {
    "slideshow": {
     "slide_type": "fragment"
    }
   },
   "outputs": [
    {
     "name": "stdout",
     "output_type": "stream",
     "text": [
      "H\n"
     ]
    }
   ],
   "source": [
    "print( x[0] )   # First letter"
   ]
  },
  {
   "cell_type": "code",
   "execution_count": 22,
   "id": "8a5067eb",
   "metadata": {
    "slideshow": {
     "slide_type": "fragment"
    }
   },
   "outputs": [
    {
     "name": "stdout",
     "output_type": "stream",
     "text": [
      "o\n",
      "o\n"
     ]
    }
   ],
   "source": [
    "print(x[4])   # Last letter\n",
    "print(x[-1])"
   ]
  },
  {
   "cell_type": "code",
   "execution_count": 23,
   "id": "2174e7c4",
   "metadata": {
    "slideshow": {
     "slide_type": "fragment"
    }
   },
   "outputs": [
    {
     "name": "stdout",
     "output_type": "stream",
     "text": [
      "Hel\n",
      "Hel\n"
     ]
    }
   ],
   "source": [
    "print( x[0:3] ) # First 3 letters (excludes 'stop value')\n",
    "print(x[:3])"
   ]
  },
  {
   "cell_type": "code",
   "execution_count": 24,
   "id": "7be89b20",
   "metadata": {
    "slideshow": {
     "slide_type": "fragment"
    }
   },
   "outputs": [
    {
     "name": "stdout",
     "output_type": "stream",
     "text": [
      "llo\n",
      "llo\n",
      "llo\n"
     ]
    }
   ],
   "source": [
    "print(x[2:5])  # Last three letters\n",
    "print(x[2:])\n",
    "print(x[-3:])"
   ]
  },
  {
   "cell_type": "markdown",
   "id": "8e86403b",
   "metadata": {},
   "source": [
    "There are a number of operations that can be performed on a `string`\n",
    "\n",
    "These are known as **methods**\n",
    "\n",
    "<br>For exampls:\n",
    " - `upper` (converts to upper case letters)\n",
    " - `find` (finds index of first ocurance of a specific character)\n",
    "\n",
    "<br>\n",
    "A full list of string methods can be found here:\n",
    "https://www.w3schools.com/python/python_ref_string.asp"
   ]
  },
  {
   "cell_type": "code",
   "execution_count": 25,
   "id": "c828c8a6",
   "metadata": {},
   "outputs": [
    {
     "name": "stdout",
     "output_type": "stream",
     "text": [
      "HELLO\n"
     ]
    }
   ],
   "source": [
    "y = x.upper()\n",
    "print(y)"
   ]
  },
  {
   "cell_type": "code",
   "execution_count": 26,
   "id": "dda72fac",
   "metadata": {},
   "outputs": [
    {
     "name": "stdout",
     "output_type": "stream",
     "text": [
      "2\n"
     ]
    }
   ],
   "source": [
    "z = x.find('l')\n",
    "print(z)"
   ]
  },
  {
   "cell_type": "markdown",
   "id": "cf40bd53",
   "metadata": {},
   "source": [
    "# Boolean (`bool`)\n",
    "Binary True or False values "
   ]
  },
  {
   "cell_type": "code",
   "execution_count": 4,
   "id": "9ffc41b1",
   "metadata": {
    "slideshow": {
     "slide_type": "fragment"
    }
   },
   "outputs": [
    {
     "name": "stdout",
     "output_type": "stream",
     "text": [
      "True <class 'bool'>\n"
     ]
    }
   ],
   "source": [
    "f = True\n",
    "g = False\n",
    "\n",
    "print(type(f))\n",
    "print(type(g))"
   ]
  }
 ],
 "metadata": {
  "celltoolbar": "Slideshow",
  "kernelspec": {
   "display_name": "Python 3 (ipykernel)",
   "language": "python",
   "name": "python3"
  },
  "language_info": {
   "codemirror_mode": {
    "name": "ipython",
    "version": 3
   },
   "file_extension": ".py",
   "mimetype": "text/x-python",
   "name": "python",
   "nbconvert_exporter": "python",
   "pygments_lexer": "ipython3",
   "version": "3.10.9"
  }
 },
 "nbformat": 4,
 "nbformat_minor": 5
}
