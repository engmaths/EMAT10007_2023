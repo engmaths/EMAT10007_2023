{
 "cells": [
  {
   "cell_type": "markdown",
   "id": "2cbd2075",
   "metadata": {
    "slideshow": {
     "slide_type": "slide"
    }
   },
   "source": [
    "# Announcement: Change of IDE for home use\n",
    "\n",
    "- Bug with curret version of Spyder\n",
    "- Pycharm: IDE with more advanced features\n",
    "- Versions: Community (free) or Professional (free when you create an account with university email https://www.jetbrains.com/pycharm/buy/#discounts) \n",
    "- Downloading installing and running:\n",
    "    - Launches from Anaconda navigator (sign in with account created using university email to use Professional version)\n",
    "    - Python download instructions for standalone installation: https://www.python.org/downloads/\n",
    "    - Standalone Pycharm installation instructions: https://www.jetbrains.com/pycharm/download/#section=mac\n",
    "- 'First steps' instructions: https://www.jetbrains.com/help/pycharm/creating-and-running-your-first-python-project.html\n",
    "- IDLE (A very basic IDE) also downloads and installs with Python. \n",
    "\n",
    "<img src=\"img/pycharm.png\" alt=\"Drawing\" style=\"width: 200px;\"/>\n"
   ]
  },
  {
   "cell_type": "code",
   "execution_count": null,
   "id": "69d0ab43",
   "metadata": {},
   "outputs": [],
   "source": []
  }
 ],
 "metadata": {
  "kernelspec": {
   "display_name": "Python 3 (ipykernel)",
   "language": "python",
   "name": "python3"
  },
  "language_info": {
   "codemirror_mode": {
    "name": "ipython",
    "version": 3
   },
   "file_extension": ".py",
   "mimetype": "text/x-python",
   "name": "python",
   "nbconvert_exporter": "python",
   "pygments_lexer": "ipython3",
   "version": "3.10.9"
  }
 },
 "nbformat": 4,
 "nbformat_minor": 5
}
