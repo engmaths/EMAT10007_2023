{
 "cells": [
  {
   "cell_type": "markdown",
   "id": "3122cada",
   "metadata": {
    "slideshow": {
     "slide_type": "slide"
    }
   },
   "source": [
    "# Introduction to Computer Programming\n",
    "\n",
    "## Control Structures - Conditional Statements\n",
    "\n",
    "\n",
    "\n",
    "<img src=\"img/full-colour-logo-UoB.png\" alt=\"Drawing\" style=\"width: 300px;\"/>"
   ]
  },
  {
   "cell_type": "markdown",
   "id": "20f5fa84",
   "metadata": {
    "slideshow": {
     "slide_type": "skip"
    }
   },
   "source": [
    "The goal of writing a computer program is to automate a process.\n",
    "\n",
    "Throughout this course, we will study three fundamental topics that underpin automation:\n",
    "- __Selection:__ Decision-making<br>\n",
    "- __Repetition:__ Repeatedly executing a process<br>\n",
    "- __Modularity:__ Chunks of code that can be re-used<br>\n",
    "\n",
    "<center>\n",
    "  <img src=\"img/selection.png\" alt=\"Drawing\" style=\"width: 800px ;\" align=\"center\"/>\n",
    "</center>"
   ]
  },
  {
   "cell_type": "markdown",
   "id": "4da602f3",
   "metadata": {},
   "source": [
    "So far we have written code as a sequence of statements one after the other. \n",
    "\n",
    "Real world programmes usually need to:\n",
    "- choose between multiple possible sets of statements to execute\n",
    "- skip over some statements\n",
    "- repeatedly execute a series of statements\n",
    "\n"
   ]
  },
  {
   "cell_type": "markdown",
   "id": "23463144",
   "metadata": {
    "slideshow": {
     "slide_type": "slide"
    }
   },
   "source": [
    "<a id='ControlStatements'></a>\n",
    "# Conditional Statements \n",
    "\n",
    "Perform decision making in a program \n",
    "\n",
    "Allow __conditional__ execution of a block of code based on the Boolean value of an expression.\n",
    "\n"
   ]
  },
  {
   "cell_type": "markdown",
   "id": "5fee5f09",
   "metadata": {
    "slideshow": {
     "slide_type": "slide"
    }
   },
   "source": [
    "# Video Q&A\n",
    "\n",
    "### Make use of the discussion board\n",
    "\n",
    "Blackboard page >> Course tools >> Discussion Board >> EMAT10007_2023_TB-1 >> Ask a question\n"
   ]
  },
  {
   "cell_type": "markdown",
   "id": "591be229",
   "metadata": {},
   "source": [
    "# Example: `if` statement\n",
    "If the first letter in the word is `a`, print the word"
   ]
  },
  {
   "cell_type": "code",
   "execution_count": 19,
   "id": "0a2d8723",
   "metadata": {},
   "outputs": [
    {
     "name": "stdout",
     "output_type": "stream",
     "text": [
      "apple\n"
     ]
    }
   ],
   "source": [
    "word = 'apple'\n",
    "\n",
    "if word[0] == 'a':\n",
    "    print(word)"
   ]
  },
  {
   "cell_type": "markdown",
   "id": "8aa8d694",
   "metadata": {},
   "source": [
    "# Example: `if` statement\n",
    "If the number is positive, print `positive`"
   ]
  },
  {
   "cell_type": "code",
   "execution_count": 20,
   "id": "69fa6ad9",
   "metadata": {},
   "outputs": [
    {
     "name": "stdout",
     "output_type": "stream",
     "text": [
      "positive\n"
     ]
    }
   ],
   "source": [
    "number = 1\n",
    "\n",
    "if number > 0:\n",
    "    print('positive')"
   ]
  },
  {
   "cell_type": "markdown",
   "id": "9e008fb0",
   "metadata": {
    "slideshow": {
     "slide_type": "slide"
    }
   },
   "source": [
    "# Example: `if` statement\n",
    "\n",
    "Print two variables, `a` and `b` only if they are *both* greater than 10.  \n"
   ]
  },
  {
   "cell_type": "code",
   "execution_count": 25,
   "id": "267db2fb",
   "metadata": {},
   "outputs": [
    {
     "name": "stdout",
     "output_type": "stream",
     "text": [
      "12 11\n"
     ]
    }
   ],
   "source": [
    "a, b = 12, 11\n",
    "\n",
    "if a > 10 and b > 10:  # This is correct\n",
    "# if a and b > 10:     # This is not correct\n",
    "    \n",
    "    print(a, b)"
   ]
  },
  {
   "cell_type": "markdown",
   "id": "e180d4b6",
   "metadata": {
    "slideshow": {
     "slide_type": "slide"
    }
   },
   "source": [
    "# Example: `if` statement\n",
    "\n",
    "If the value of `a` is an odd number, print `odd`"
   ]
  },
  {
   "cell_type": "code",
   "execution_count": 27,
   "id": "8adad957",
   "metadata": {},
   "outputs": [
    {
     "name": "stdout",
     "output_type": "stream",
     "text": [
      "odd\n"
     ]
    }
   ],
   "source": [
    "a = 3\n",
    "\n",
    "if a % 2 == 1:\n",
    "    print('odd')"
   ]
  },
  {
   "cell_type": "markdown",
   "id": "99d4f090",
   "metadata": {},
   "source": [
    "There is a simpler way to express this.\n",
    "\n",
    "Consider the expression `a % 2` when `a` is odd\n"
   ]
  },
  {
   "cell_type": "code",
   "execution_count": 28,
   "id": "b9f27804",
   "metadata": {},
   "outputs": [
    {
     "data": {
      "text/plain": [
       "1"
      ]
     },
     "execution_count": 28,
     "metadata": {},
     "output_type": "execute_result"
    }
   ],
   "source": [
    "a % 2"
   ]
  },
  {
   "cell_type": "markdown",
   "id": "57f2b06f",
   "metadata": {},
   "source": [
    "`a % 2` outputs `1` if `a` is odd\n",
    "\n",
    "Remember, the Boolean value of `1` is `True` because it is non-zero. "
   ]
  },
  {
   "cell_type": "code",
   "execution_count": 29,
   "id": "858bcf55",
   "metadata": {},
   "outputs": [
    {
     "data": {
      "text/plain": [
       "True"
      ]
     },
     "execution_count": 29,
     "metadata": {},
     "output_type": "execute_result"
    }
   ],
   "source": [
    "bool(a % 2)"
   ]
  },
  {
   "cell_type": "markdown",
   "id": "f2e78e1f",
   "metadata": {},
   "source": [
    "The indented code after the `if` statement will be executed if the **Boolean value** of the conditional expression is `True` \n",
    "\n",
    "The Boolean value of `a % 2 == 1` is `True`\n",
    "\n",
    "The Boolean value of `a % 2` is `True`\n",
    "\n",
    "There fore we can use either, but the second expression is shorter"
   ]
  },
  {
   "cell_type": "code",
   "execution_count": 14,
   "id": "b2ed8808",
   "metadata": {},
   "outputs": [
    {
     "name": "stdout",
     "output_type": "stream",
     "text": [
      "odd\n"
     ]
    }
   ],
   "source": [
    "a = 3\n",
    "\n",
    "# if a % 2 == 1:\n",
    "if a % 2:\n",
    "    print('odd')"
   ]
  },
  {
   "cell_type": "markdown",
   "id": "6af863eb",
   "metadata": {
    "slideshow": {
     "slide_type": "slide"
    }
   },
   "source": [
    "# Example: `if...else` statements\n",
    "\n",
    "If the student score if greater than or equal to 40 the outcome is `pass` the outcome is `fail` "
   ]
  },
  {
   "cell_type": "code",
   "execution_count": 32,
   "id": "d9ea0084",
   "metadata": {
    "slideshow": {
     "slide_type": "slide"
    }
   },
   "outputs": [
    {
     "name": "stdout",
     "output_type": "stream",
     "text": [
      "pass\n"
     ]
    }
   ],
   "source": [
    "score = 50\n",
    "\n",
    "if score >= 40:\n",
    "    outcome = 'pass'\n",
    "else:\n",
    "    outcome = 'fail'\n",
    "    \n",
    "print(outcome)\n"
   ]
  },
  {
   "cell_type": "markdown",
   "id": "c30705de",
   "metadata": {
    "slideshow": {
     "slide_type": "slide"
    }
   },
   "source": [
    "# Example: `if...else` statements\n",
    "\n",
    "A digital thermostat checks the current temperature read by a sensor and compares it to a preset temperature. \n",
    "\n",
    "The heating is switched:\n",
    "- __ON__ if temperature is lower than preset temperature\n",
    "- __OFF__ if temperature is higher than, or equal to, preset temperature\n",
    "\n",
    "<center>\n",
    "  <img align = \"right\" src=\"img/thermostat.png\" alt=\"Drawing\" style=\"width: 300px;\"/>\n",
    "</center>\n",
    "\n",
    "Write a program to simulate the behaviour of the digital thermostat.\n",
    "\n"
   ]
  },
  {
   "cell_type": "code",
   "execution_count": 33,
   "id": "d6275cb5",
   "metadata": {
    "slideshow": {
     "slide_type": "slide"
    }
   },
   "outputs": [
    {
     "name": "stdout",
     "output_type": "stream",
     "text": [
      "True\n"
     ]
    }
   ],
   "source": [
    "temp = 12   # Current temperature degrees celcius\n",
    "preset = 19 # Preset \n",
    "\n",
    "if temp < preset:\n",
    "    heat = True\n",
    "    \n",
    "else:\n",
    "    heat = False\n",
    "    \n",
    "print(heat)\n"
   ]
  },
  {
   "cell_type": "markdown",
   "id": "c4fe84a1",
   "metadata": {
    "slideshow": {
     "slide_type": "slide"
    }
   },
   "source": [
    "# Example: `if...else` statements\n",
    "\n",
    "If the value of `a` is an odd number, print `odd`\n",
    "\n",
    "Otherwise print `even`\n",
    "\n"
   ]
  },
  {
   "cell_type": "code",
   "execution_count": 30,
   "id": "927e0f26",
   "metadata": {
    "slideshow": {
     "slide_type": "slide"
    }
   },
   "outputs": [
    {
     "name": "stdout",
     "output_type": "stream",
     "text": [
      "even\n"
     ]
    }
   ],
   "source": [
    "a = 10\n",
    "\n",
    "if a % 2:\n",
    "    print('odd')\n",
    "else:\n",
    "    print('even')\n"
   ]
  },
  {
   "cell_type": "markdown",
   "id": "e00f4a28",
   "metadata": {
    "slideshow": {
     "slide_type": "slide"
    }
   },
   "source": [
    "# Example: `if...elif` statements\n",
    "\n",
    "The reading from a sensor `reading` must be limited to within the range 0 to 10 before being printed. \n",
    "\n",
    "Write a program that caps the maximum value of `a` at 10 and the minimum value of `a` at 0 "
   ]
  },
  {
   "cell_type": "code",
   "execution_count": 55,
   "id": "a9f6f34e",
   "metadata": {
    "slideshow": {
     "slide_type": "slide"
    }
   },
   "outputs": [
    {
     "name": "stdout",
     "output_type": "stream",
     "text": [
      "5\n"
     ]
    }
   ],
   "source": [
    "reading = 5\n",
    "\n",
    "if reading > 10:\n",
    "    reading = 10\n",
    "    \n",
    "elif reading < 0:\n",
    "    reading = 0\n",
    "    \n",
    "print(reading)"
   ]
  },
  {
   "cell_type": "markdown",
   "id": "b846eeb8",
   "metadata": {
    "slideshow": {
     "slide_type": "skip"
    }
   },
   "source": [
    "# Example: `if...elif...else` statements\n",
    "\n",
    "<center>\n",
    "  <img align=\"right\" src=\"img/robot_numbers.png\" alt=\"Drawing\" style=\"width: 400px;\"/>\n",
    "</center>\n",
    "\n",
    "A two-wheeled robot uses three sensors to follow a black line on a white surface. \n",
    "\n",
    "Each individual sensor outputs:\n",
    "- 0 if over a white surface\n",
    "- 1 if over a black surface\n",
    "\n",
    "<br>\n",
    "<br>\n",
    "\n",
    "If the sensors read:\n",
    "- __110__: The robot turns __left__\n",
    "- __011__: The robot turns __right__\n",
    "- __010__: The robot goes __forward__\n",
    "- A different set of three values: The robot stops\n",
    "\n",
    "<br>\n",
    "<br>\n",
    "\n",
    "Write a program that prints what the robot will do for a given reading from the sensors\n"
   ]
  },
  {
   "cell_type": "code",
   "execution_count": 37,
   "id": "8b80a592",
   "metadata": {
    "slideshow": {
     "slide_type": "skip"
    }
   },
   "outputs": [
    {
     "name": "stdout",
     "output_type": "stream",
     "text": [
      "forward\n"
     ]
    }
   ],
   "source": [
    "sensors = '010'\n",
    "\n",
    "if sensors == '110':\n",
    "    print('left')\n",
    "    \n",
    "elif sensors == '011':\n",
    "    print('right')\n",
    "    \n",
    "elif sensors == '010':\n",
    "    print('forward')\n",
    "    \n",
    "else:\n",
    "    print('stop')"
   ]
  },
  {
   "cell_type": "markdown",
   "id": "fa45b702",
   "metadata": {
    "slideshow": {
     "slide_type": "slide"
    }
   },
   "source": [
    "### Example\n",
    "\n",
    "A student can score between 0 and 100 on an assignment\n",
    "\n",
    "If a student's score is:\n",
    "- greater than or equal to 70, their grade is 1\n",
    "- greater than or equal to 60 **and** less than 70, their grade is 2.1\n",
    "- greater than or equal to 50 **and** less than 60, their grade is 2.2\n",
    "- greater than or equal to 40 **and** less than 50, their grade is 3\n",
    "- less than 40, their grade is `fail`\n",
    "\n",
    "We assume `score` will never be higher than 100 or less than 0"
   ]
  },
  {
   "cell_type": "code",
   "execution_count": 39,
   "id": "cd0864d9",
   "metadata": {},
   "outputs": [],
   "source": [
    "score = 61\n",
    "\n",
    "if score >= 70:        \n",
    "    grade = 1\n",
    "    \n",
    "elif 70 > score >= 60:\n",
    "    grade = 2.1\n",
    "    \n",
    "elif 60 > score >= 50:\n",
    "    grade = 2.2\n",
    "    \n",
    "elif 50 > score >= 40:\n",
    "    grade = 3\n",
    "    \n",
    "else: \n",
    "    grade = 'fail'\n",
    "\n",
    "print(grade)"
   ]
  },
  {
   "cell_type": "markdown",
   "id": "f39f4def",
   "metadata": {},
   "source": [
    "There is a simpler way to write this... "
   ]
  },
  {
   "cell_type": "markdown",
   "id": "5373110f",
   "metadata": {},
   "source": [
    "Consider a score of `61`. \n",
    "\n",
    "First evaluate the `if` statement. \n",
    "<br>The outcome is `False`\n",
    "\n",
    "Next evaluate the first `elif` statement\n",
    "<br>We already know that `score` is less than 70 because the `if` statement was `False`\n",
    "<br>Therefore we only need to check if `score` is greater than or equal to 60 to know if `grade` is `2.1`"
   ]
  },
  {
   "cell_type": "code",
   "execution_count": 53,
   "id": "837d3aa4",
   "metadata": {},
   "outputs": [
    {
     "name": "stdout",
     "output_type": "stream",
     "text": [
      "2.1\n"
     ]
    }
   ],
   "source": [
    "score = 61\n",
    "\n",
    "if score >= 70:\n",
    "    grade = 1\n",
    "    \n",
    "elif 70 > score >= 60:\n",
    "    grade = 2.1\n",
    "    \n",
    "elif 60 > score >= 50:\n",
    "    grade = 2.2\n",
    "    \n",
    "elif 50 > score >= 40:\n",
    "    grade = 3\n",
    "    \n",
    "else: \n",
    "    'fail'\n",
    "\n",
    "# score = 61\n",
    "\n",
    "# if score >= 70:\n",
    "#     grade = 1\n",
    "    \n",
    "# elif score >= 60:\n",
    "#     grade = 2.1\n",
    "    \n",
    "# elif score >= 50:\n",
    "#     grade = 2.2\n",
    "    \n",
    "# elif score >= 40:\n",
    "#     grade = 3\n",
    "    \n",
    "# else: \n",
    "#     'fail'\n",
    "\n",
    "print(grade)"
   ]
  },
  {
   "cell_type": "markdown",
   "id": "66a358df",
   "metadata": {},
   "source": [
    "This simplification is possible because the range for each grade is checked in __descending order__. \n",
    "\n",
    "The question encouraged us to do this as the statements were presented in this order. \n",
    "\n",
    "We could similarly have solved the problem by checking the range for each grade in __ascending order__."
   ]
  },
  {
   "cell_type": "code",
   "execution_count": 44,
   "id": "e3bbe356",
   "metadata": {},
   "outputs": [
    {
     "name": "stdout",
     "output_type": "stream",
     "text": [
      "2.1\n"
     ]
    }
   ],
   "source": [
    "score = 61\n",
    "\n",
    "if score < 40:\n",
    "    grade = 'fail'\n",
    "    \n",
    "elif score < 50:\n",
    "    grade = 3\n",
    "    \n",
    "elif score < 60:\n",
    "    grade = 2.2\n",
    "    \n",
    "elif score < 70:\n",
    "    grade = 2.1\n",
    "    \n",
    "else: \n",
    "    grade = 1\n",
    "    \n",
    "print(grade)"
   ]
  },
  {
   "cell_type": "markdown",
   "id": "96279535",
   "metadata": {},
   "source": [
    "In fact, we can write the statements in __any order__, but we can only simplify to a single comparison operator in every conditional statement if ascending/decending order are used. \n",
    "\n",
    "This shows us that the __order__ that we write conditional statements is important. "
   ]
  },
  {
   "cell_type": "code",
   "execution_count": 52,
   "id": "2b7a1a6a",
   "metadata": {},
   "outputs": [
    {
     "name": "stdout",
     "output_type": "stream",
     "text": [
      "2.1\n"
     ]
    }
   ],
   "source": [
    "score = 61\n",
    "\n",
    "\n",
    "if score >= 70:        \n",
    "    grade = 1\n",
    "    \n",
    "elif 70 > score >= 60:\n",
    "    grade = 2.1\n",
    "    \n",
    "elif 60 > score >= 50:\n",
    "    grade = 2.2\n",
    "    \n",
    "elif 50 > score >= 40:\n",
    "    grade = 3\n",
    "    \n",
    "else: \n",
    "    grade = 'fail'\n",
    "\n",
    "\n",
    "# if 60 > score >= 50:\n",
    "#     grade = 2.2\n",
    "    \n",
    "# elif score >= 70:\n",
    "#     grade = 1\n",
    "    \n",
    "# elif 40 > score:\n",
    "#     grade = 'fail'\n",
    "    \n",
    "# elif 70 > score >= 60:\n",
    "#     grade = 2.1\n",
    "    \n",
    "# elif 50 > score >= 40:\n",
    "#     grade = 3\n",
    "    \n",
    "print(grade)"
   ]
  },
  {
   "cell_type": "markdown",
   "id": "b65d1287",
   "metadata": {},
   "source": [
    "# Algorithms \n",
    "\n",
    "An algorithm is a sequence of instructions to solve a specific problems or to perform a computation.\n",
    "\n",
    "When writing a computer program, we must think about the sequence of instructions needed to perform the computation correctly and efficiently"
   ]
  },
  {
   "cell_type": "markdown",
   "id": "d1e93abb",
   "metadata": {},
   "source": [
    "# Example \n",
    "Write a program that detects if:\n",
    "- both x and y are zero\n",
    "- only one of x and y is zero\n",
    "- neither x or y are zero"
   ]
  },
  {
   "cell_type": "code",
   "execution_count": 56,
   "id": "f754e9f0",
   "metadata": {},
   "outputs": [
    {
     "name": "stdout",
     "output_type": "stream",
     "text": [
      "only one of x and y is zero\n"
     ]
    }
   ],
   "source": [
    "x = 0\n",
    "y = 1\n",
    "\n",
    "if x and y:\n",
    "    print('neither x or y are zero')\n",
    "    \n",
    "elif x or y:\n",
    "    print('only one of x and y is zero')\n",
    "    \n",
    "else:\n",
    "    print('both x and y are zero')"
   ]
  },
  {
   "cell_type": "markdown",
   "id": "24b20b6a",
   "metadata": {},
   "source": [
    "If we change the order of the statements, so that the expression `x or y` is evaluated first...  \n",
    "\n",
    "The `if` statement evaluates as `True`\n",
    "\n",
    "We know *at least* one of x or y is zero, but we cannot say for certain that *only one* of x and y is zero. \n",
    "\n",
    "Our program should be able to detect if only one of x and y is zero, therefore the program doesn't work correctly."
   ]
  },
  {
   "cell_type": "code",
   "execution_count": 65,
   "id": "311d0027",
   "metadata": {},
   "outputs": [
    {
     "name": "stdout",
     "output_type": "stream",
     "text": [
      "only one of x and y is zero\n"
     ]
    }
   ],
   "source": [
    "x = 1\n",
    "y = 1\n",
    "\n",
    "if x or y:\n",
    "    print('only one of x and y is zero')\n",
    "    \n",
    "elif x and y:\n",
    "    print('neither x or y are zero')\n",
    "     \n",
    "else:\n",
    "    print('both x and y are zero')"
   ]
  },
  {
   "cell_type": "markdown",
   "id": "92ab66be",
   "metadata": {},
   "source": [
    "# Example \n",
    "\n",
    "<center>\n",
    "  <img align=\"right\" src=\"img/park.png\" alt=\"Drawing\" style=\"width: 400px;\"/>\n",
    "</center>\n",
    "\n",
    "A ground survey team has a map of the park, with axes drawn on the map.\n",
    "\n",
    "They are gven coordinates of a point ($x$, $y$).  \n",
    "\n",
    "__The point is in the pond if__ the magnitude of the distance from the centre of the circle ($h$, $k$) to the point ($x$, $y$) is less than or equal to the radius of the pond, $r$. \n",
    "\n",
    "$$ r \\geq \\sqrt{(x - h)^2 + (y - k)^2} $$\n",
    "\n",
    "$h$ = 100 m \n",
    "<br>$k$ = 60 m \n",
    "<br>$r$ = 45 m \n",
    "\n",
    "__Otherwise, the point is on the grass if__ $x < 150$ and $y < 100$ \n",
    "\n",
    "<br>\n",
    "<br>\n",
    "\n",
    "Write a program to tell the user if the point is:\n",
    "- on the grass\n",
    "- in the pond\n",
    "- outside the park"
   ]
  },
  {
   "cell_type": "code",
   "execution_count": 77,
   "id": "f576d64a",
   "metadata": {},
   "outputs": [
    {
     "name": "stdout",
     "output_type": "stream",
     "text": [
      "pond\n"
     ]
    }
   ],
   "source": [
    "x = 95\n",
    "y = 55\n",
    "\n",
    "h = 100\n",
    "k = 60\n",
    "r = 45\n",
    "\n",
    "if r >= ((x-h)**2 + (y-k)**2)**1/2:\n",
    "    print('pond')\n",
    "    \n",
    "elif x < 150 and y < 100:\n",
    "    print('grass')\n",
    "    \n",
    "else:\n",
    "    print('outside park')"
   ]
  },
  {
   "cell_type": "markdown",
   "id": "6f7babc8",
   "metadata": {},
   "source": [
    "If we change the order of the statements, so the program first checks if the point is on the grass... \n",
    "\n",
    "The `if` statement (`x < 150 and y < 100`) evaluates as `True`\n",
    "\n",
    "Therefore we never reach the expression to check if the point is in the pond and the program works incorrectly. "
   ]
  },
  {
   "cell_type": "code",
   "execution_count": 82,
   "id": "b30cff28",
   "metadata": {},
   "outputs": [
    {
     "name": "stdout",
     "output_type": "stream",
     "text": [
      "grass\n"
     ]
    }
   ],
   "source": [
    "if x < 150 and y < 100:\n",
    "    print('grass')   \n",
    "    \n",
    "elif r >= ((x-h)**2 + (y-k)**2)**1/2:\n",
    "    print('pond')\n",
    "    \n",
    "else:\n",
    "    print('outside park')"
   ]
  },
  {
   "cell_type": "markdown",
   "id": "ef2033f6",
   "metadata": {
    "slideshow": {
     "slide_type": "slide"
    }
   },
   "source": [
    "# Nested conditional statements\n",
    "Conditional statements can be nested to arbitrary depth. \n",
    "\n",
    "Nesting refers to a control structure within a control structure\n",
    "\n",
    "This allows more complex decision making in a program. "
   ]
  },
  {
   "cell_type": "markdown",
   "id": "362a1733",
   "metadata": {},
   "source": [
    "# Example\n",
    "\n",
    "Write a program that:\n",
    "- checks if a number is odd or even. \n",
    "- if it is odd, checks if the number is a multiple of 5\n",
    "\n"
   ]
  },
  {
   "cell_type": "code",
   "execution_count": 107,
   "id": "272db771",
   "metadata": {},
   "outputs": [
    {
     "name": "stdout",
     "output_type": "stream",
     "text": [
      "odd\n",
      "mutiple of 5\n"
     ]
    }
   ],
   "source": [
    "number = 15\n",
    "\n",
    "if number % 2:\n",
    "    print('odd')\n",
    "    \n",
    "    if number % 5 == 0:\n",
    "        print('mutiple of 5')\n",
    "    \n",
    "else:\n",
    "    print('even')\n",
    "    \n",
    "    "
   ]
  },
  {
   "cell_type": "markdown",
   "id": "adb6f6ed",
   "metadata": {},
   "source": [
    "# Example\n",
    "\n",
    "Write a program that:\n",
    "- checks if a number is odd or even. \n",
    "- if it is even, checks if the number is a multiple of 4\n",
    "\n"
   ]
  },
  {
   "cell_type": "code",
   "execution_count": 108,
   "id": "3c5a8731",
   "metadata": {},
   "outputs": [
    {
     "name": "stdout",
     "output_type": "stream",
     "text": [
      "even\n",
      "mutiple of 4\n"
     ]
    }
   ],
   "source": [
    "number = 16\n",
    "\n",
    "if number % 2:\n",
    "    print('odd')\n",
    "    \n",
    "else:\n",
    "    print('even')\n",
    "    \n",
    "    if number % 4 == 0:\n",
    "        print('mutiple of 4')"
   ]
  },
  {
   "cell_type": "markdown",
   "id": "cf45157e",
   "metadata": {},
   "source": [
    "# Example \n",
    "\n",
    "Write a program that checks a username and password and returns a message letting the user know if the:\n",
    "- login was successful\n",
    "- username was not recognised\n",
    "- password was incorrect"
   ]
  },
  {
   "cell_type": "code",
   "execution_count": 94,
   "id": "9d0d9be4",
   "metadata": {
    "slideshow": {
     "slide_type": "skip"
    }
   },
   "outputs": [
    {
     "name": "stdout",
     "output_type": "stream",
     "text": [
      "Login successful!\n"
     ]
    }
   ],
   "source": [
    "username = 'admin'\n",
    "password = 'password'\n",
    "\n",
    "if username == \"admin\":\n",
    "    \n",
    "    if password == \"password\":\n",
    "        print(\"Login successful!\")\n",
    "        \n",
    "    else:\n",
    "        print(\"Incorrect password\")\n",
    "\n",
    "else:\n",
    "    print(\"Unknown user\")"
   ]
  },
  {
   "cell_type": "code",
   "execution_count": 95,
   "id": "c0f9e082",
   "metadata": {
    "slideshow": {
     "slide_type": "skip"
    }
   },
   "outputs": [
    {
     "name": "stdout",
     "output_type": "stream",
     "text": [
      "Login successful!\n"
     ]
    }
   ],
   "source": [
    "username = 'admin'\n",
    "password = 'password'\n",
    "\n",
    "if username == \"admin\":\n",
    "    \n",
    "    if password == \"password\":\n",
    "        print(\"Login successful!\")\n",
    "        \n",
    "    else:\n",
    "        print(\"Incorrect password\")\n",
    "\n",
    "elif username == \"guest\":\n",
    "    \n",
    "    if password == \"guest\":\n",
    "        print(\"Login successful!\")\n",
    "        \n",
    "    else:\n",
    "        print(\"Incorrect password.\")\n",
    "else:\n",
    "    print(\"Unknown user\")"
   ]
  },
  {
   "cell_type": "markdown",
   "id": "8a88d9c3",
   "metadata": {
    "slideshow": {
     "slide_type": "skip"
    }
   },
   "source": [
    "### Example\n",
    "Write a program that checks a number, `x`, and:\n",
    "- prints `\"positive\"` if the number is positive\n",
    "- prints `\"negative\"` if the number is negative\n",
    "\n"
   ]
  },
  {
   "cell_type": "code",
   "execution_count": 17,
   "id": "6118831a",
   "metadata": {
    "slideshow": {
     "slide_type": "skip"
    }
   },
   "outputs": [
    {
     "name": "stdout",
     "output_type": "stream",
     "text": [
      "negative\n"
     ]
    }
   ],
   "source": [
    "x = -3\n",
    "\n",
    "if x > 0:\n",
    "    print('positive')\n",
    "    \n",
    "elif x < 0:\n",
    "    print('negative')\n"
   ]
  },
  {
   "cell_type": "markdown",
   "id": "92747ba7",
   "metadata": {
    "slideshow": {
     "slide_type": "skip"
    }
   },
   "source": [
    "If the number is positive the program should *also* print:\n",
    "- `\"square\"` if `x` is a square number <br>(a number of the form $x = n^2$ where $n$ is an integer)\n",
    "- `\"not square\"` otherwise"
   ]
  },
  {
   "cell_type": "code",
   "execution_count": 19,
   "id": "0993f00c",
   "metadata": {
    "slideshow": {
     "slide_type": "skip"
    }
   },
   "outputs": [
    {
     "name": "stdout",
     "output_type": "stream",
     "text": [
      "positive\n",
      "square\n"
     ]
    }
   ],
   "source": [
    "x = 4\n",
    "\n",
    "if x > 0:\n",
    "    print('positive')\n",
    "    \n",
    "    if x**(1/2) == int(x**(1/2)):\n",
    "        print('square')\n",
    "        \n",
    "    else:\n",
    "        print('not square')\n",
    "    \n",
    "elif x < 0:\n",
    "    print('negative')"
   ]
  },
  {
   "cell_type": "code",
   "execution_count": null,
   "id": "f7fa64fb",
   "metadata": {},
   "outputs": [],
   "source": []
  }
 ],
 "metadata": {
  "celltoolbar": "Slideshow",
  "kernelspec": {
   "display_name": "Python 3 (ipykernel)",
   "language": "python",
   "name": "python3"
  },
  "language_info": {
   "codemirror_mode": {
    "name": "ipython",
    "version": 3
   },
   "file_extension": ".py",
   "mimetype": "text/x-python",
   "name": "python",
   "nbconvert_exporter": "python",
   "pygments_lexer": "ipython3",
   "version": "3.10.9"
  }
 },
 "nbformat": 4,
 "nbformat_minor": 5
}
