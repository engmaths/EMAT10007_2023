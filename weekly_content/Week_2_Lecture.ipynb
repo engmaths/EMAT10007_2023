{
 "cells": [
  {
   "cell_type": "markdown",
   "id": "3122cada",
   "metadata": {
    "slideshow": {
     "slide_type": "slide"
    }
   },
   "source": [
    "# Introduction to Computer Programming\n",
    "\n",
    "## 2.2 User input & nested conditional statements\n",
    "\n",
    "<img src=\"img/full-colour-logo-UoB.png\" alt=\"Drawing\" style=\"width: 300px;\"/>"
   ]
  },
  {
   "cell_type": "markdown",
   "id": "20f5fa84",
   "metadata": {
    "slideshow": {
     "slide_type": "skip"
    }
   },
   "source": [
    "The goal of writing a computer program is to automate a process.\n",
    "\n",
    "Throughout this course, we will study three fundamental topics that underpin automation:\n",
    "- __Selection:__ Decision-making<br>\n",
    "- __Repetition:__ Repeatedly executing a process<br>\n",
    "- __Modularity:__ Chunks of code that can be re-used<br>\n",
    "\n",
    "<center>\n",
    "  <img src=\"img/selection.png\" alt=\"Drawing\" style=\"width: 800px ;\" align=\"center\"/>\n",
    "</center>"
   ]
  },
  {
   "cell_type": "markdown",
   "id": "9a28e533",
   "metadata": {
    "slideshow": {
     "slide_type": "slide"
    }
   },
   "source": [
    "<a id='ControlStatements'></a>\n",
    "# Conditional Statements \n",
    "- Conditional statements:\n",
    "    - control the flow of a program\n",
    "    - select a different sequence of operations depending on whether the Boolean value of an expression is `True` or `False`.\n"
   ]
  },
  {
   "cell_type": "markdown",
   "id": "fd5ae80d",
   "metadata": {
    "slideshow": {
     "slide_type": "slide"
    }
   },
   "source": [
    "# `input`\n",
    "\n",
    "A function that dynamically accepts input from a user while a program is running. \n",
    "\n",
    "Takes one *argument*, \n",
    "\n",
    "The argument is a string, which is the prompt displayed to the user. \n",
    "\n",
    "The program then accepts typed input from the user.\n",
    "\n",
    "The program outputs the typed input as string data."
   ]
  },
  {
   "cell_type": "code",
   "execution_count": 9,
   "id": "bcfac72f",
   "metadata": {
    "slideshow": {
     "slide_type": "-"
    }
   },
   "outputs": [
    {
     "name": "stdout",
     "output_type": "stream",
     "text": [
      "Enter your name: Hemma\n",
      "Hemma <class 'str'>\n"
     ]
    }
   ],
   "source": [
    "name = input(\"Enter your name: \")\n",
    "\n",
    "print(name, type(name))\n"
   ]
  },
  {
   "cell_type": "code",
   "execution_count": 3,
   "id": "be5a12ec",
   "metadata": {
    "scrolled": true,
    "slideshow": {
     "slide_type": "skip"
    }
   },
   "outputs": [
    {
     "name": "stdout",
     "output_type": "stream",
     "text": [
      "Enter your name: Hemma\n",
      "Hemma\n"
     ]
    }
   ],
   "source": [
    "print(input(\"Enter your name: \")) # type response when prompted and press enter"
   ]
  },
  {
   "cell_type": "markdown",
   "id": "de2fa163",
   "metadata": {
    "slideshow": {
     "slide_type": "slide"
    }
   },
   "source": [
    "This is a quick and easy way to add dynamic input to your program."
   ]
  },
  {
   "cell_type": "markdown",
   "id": "9694bb86",
   "metadata": {
    "slideshow": {
     "slide_type": "slide"
    }
   },
   "source": [
    "### Input - a word of warning! \n",
    "The data input by the user, regardless of type, is output by the `input` function as a string. \n",
    "<br>Numbers entered must be *cast* as a numerical data type to use as numerical values.\n",
    "<br> Example: `+` will join string data, unless re-cast."
   ]
  },
  {
   "cell_type": "code",
   "execution_count": 10,
   "id": "bec62fcb",
   "metadata": {
    "slideshow": {
     "slide_type": "fragment"
    }
   },
   "outputs": [
    {
     "name": "stdout",
     "output_type": "stream",
     "text": [
      "Enter a number 4\n",
      "Enter another number 7\n"
     ]
    }
   ],
   "source": [
    "a = input(\"Enter a number \")\n",
    "b = input(\"Enter another number \")"
   ]
  },
  {
   "cell_type": "code",
   "execution_count": 11,
   "id": "1dbf0d0e",
   "metadata": {
    "slideshow": {
     "slide_type": "fragment"
    }
   },
   "outputs": [
    {
     "name": "stdout",
     "output_type": "stream",
     "text": [
      "47\n"
     ]
    }
   ],
   "source": [
    "print(a + b)"
   ]
  },
  {
   "cell_type": "code",
   "execution_count": 12,
   "id": "48464a10",
   "metadata": {
    "slideshow": {
     "slide_type": "fragment"
    }
   },
   "outputs": [
    {
     "name": "stdout",
     "output_type": "stream",
     "text": [
      "11\n"
     ]
    }
   ],
   "source": [
    "print(int(a) + int(b))\n"
   ]
  },
  {
   "cell_type": "markdown",
   "id": "e00f4a28",
   "metadata": {
    "slideshow": {
     "slide_type": "slide"
    }
   },
   "source": [
    "### Example\n",
    "\n",
    "<center>\n",
    "  <img align=\"right\" src=\"img/volume.jpeg\" alt=\"Drawing\" style=\"width: 400px;\"/>\n",
    "</center>\n",
    "\n",
    "The volume control on a keyboard has a 'volume up' and 'volume down' button. \n",
    "\n",
    "We will represent these buttons as inputs from a user:\n",
    "- `u` : increase volume by 1\n",
    "- `d` : decrease volume by 1\n",
    "\n",
    "Write a program that shifts the current volume up or down depending on the input from the user. "
   ]
  },
  {
   "cell_type": "code",
   "execution_count": 15,
   "id": "a9f6f34e",
   "metadata": {
    "slideshow": {
     "slide_type": "slide"
    }
   },
   "outputs": [
    {
     "name": "stdout",
     "output_type": "stream",
     "text": [
      "enter volume control y\n",
      "5\n"
     ]
    }
   ],
   "source": [
    "volume = 5\n",
    "\n",
    "control_input = input('enter volume control ')\n",
    "\n",
    "if control_input == 'd':\n",
    "    volume -= 1\n",
    "    \n",
    "elif control_input == 'u':\n",
    "    volume += 1\n",
    "    \n",
    "print(volume)"
   ]
  },
  {
   "cell_type": "markdown",
   "id": "ef2033f6",
   "metadata": {
    "slideshow": {
     "slide_type": "slide"
    }
   },
   "source": [
    "# Nested conditional statements\n",
    "Conditional statements can be nested <br>(a conditional statement within a conditional statement). \n",
    "\n",
    "This allows more complex decision making in a program. "
   ]
  },
  {
   "cell_type": "markdown",
   "id": "8a88d9c3",
   "metadata": {
    "slideshow": {
     "slide_type": "slide"
    }
   },
   "source": [
    "### Example\n",
    "Write a program that checks a number, `x`, and:\n",
    "- prints `\"positive\"` if the number is positive\n",
    "- prints `\"negative\"` if the number is negative\n",
    "\n"
   ]
  },
  {
   "cell_type": "code",
   "execution_count": 17,
   "id": "6118831a",
   "metadata": {
    "slideshow": {
     "slide_type": "-"
    }
   },
   "outputs": [
    {
     "name": "stdout",
     "output_type": "stream",
     "text": [
      "negative\n"
     ]
    }
   ],
   "source": [
    "x = -3\n",
    "\n",
    "if x > 0:\n",
    "    print('positive')\n",
    "    \n",
    "elif x < 0:\n",
    "    print('negative')\n"
   ]
  },
  {
   "cell_type": "markdown",
   "id": "92747ba7",
   "metadata": {
    "slideshow": {
     "slide_type": "slide"
    }
   },
   "source": [
    "If the number is positive the program should *also* print:\n",
    "- `\"square\"` if `x` is a square number <br>(a number of the form $x = n^2$ where $n$ is an integer)\n",
    "- `\"not square\"` otherwise"
   ]
  },
  {
   "cell_type": "code",
   "execution_count": 19,
   "id": "0993f00c",
   "metadata": {},
   "outputs": [
    {
     "name": "stdout",
     "output_type": "stream",
     "text": [
      "positive\n",
      "square\n"
     ]
    }
   ],
   "source": [
    "x = 4\n",
    "\n",
    "if x > 0:\n",
    "    print('positive')\n",
    "    \n",
    "    if x**(1/2) == int(x**(1/2)):\n",
    "        print('square')\n",
    "        \n",
    "    else:\n",
    "        print('not square')\n",
    "    \n",
    "elif x < 0:\n",
    "    print('negative')"
   ]
  },
  {
   "cell_type": "markdown",
   "id": "13c141b7",
   "metadata": {
    "slideshow": {
     "slide_type": "slide"
    }
   },
   "source": [
    "### Example\n",
    "\n",
    "How could we edit the volume control program in the previous example to prevent the volume from ever going outside of the range 0 to 10? \n",
    "\n",
    "*Hint:* There are multiple ways to achieve this using techniques from week 1/2"
   ]
  },
  {
   "cell_type": "code",
   "execution_count": 23,
   "id": "e5843df9",
   "metadata": {},
   "outputs": [
    {
     "name": "stdout",
     "output_type": "stream",
     "text": [
      "enter volume control d\n",
      "0\n"
     ]
    }
   ],
   "source": [
    "volume = 0\n",
    "\n",
    "control_input = input('enter volume control ')\n",
    "\n",
    "if control_input == 'd' and volume > 0:\n",
    "    volume -= 1\n",
    "    \n",
    "elif control_input == 'u':\n",
    "    volume += 1\n",
    "    if volume > 10:\n",
    "        volume = 10\n",
    "    \n",
    "print(volume)"
   ]
  },
  {
   "cell_type": "markdown",
   "id": "6af5d090",
   "metadata": {
    "slideshow": {
     "slide_type": "slide"
    }
   },
   "source": [
    "# Summary\n",
    "- `input`: \n",
    "    - accepts typed input from the user. \n",
    "    - outputs the typed input as string data!\n",
    "- Conditional statements can be nested, increasing the number of paths the program can take. \n"
   ]
  },
  {
   "cell_type": "markdown",
   "id": "ad3d043f",
   "metadata": {
    "slideshow": {
     "slide_type": "slide"
    }
   },
   "source": [
    "# Questions?"
   ]
  },
  {
   "cell_type": "code",
   "execution_count": null,
   "id": "34d2d06e",
   "metadata": {},
   "outputs": [],
   "source": []
  },
  {
   "cell_type": "code",
   "execution_count": null,
   "id": "f7fa64fb",
   "metadata": {},
   "outputs": [],
   "source": []
  }
 ],
 "metadata": {
  "celltoolbar": "Slideshow",
  "kernelspec": {
   "display_name": "Python 3 (ipykernel)",
   "language": "python",
   "name": "python3"
  },
  "language_info": {
   "codemirror_mode": {
    "name": "ipython",
    "version": 3
   },
   "file_extension": ".py",
   "mimetype": "text/x-python",
   "name": "python",
   "nbconvert_exporter": "python",
   "pygments_lexer": "ipython3",
   "version": "3.10.9"
  }
 },
 "nbformat": 4,
 "nbformat_minor": 5
}
