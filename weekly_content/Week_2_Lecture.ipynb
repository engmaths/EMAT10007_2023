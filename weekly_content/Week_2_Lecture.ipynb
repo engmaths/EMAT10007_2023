{
 "cells": [
  {
   "cell_type": "markdown",
   "id": "3122cada",
   "metadata": {
    "slideshow": {
     "slide_type": "slide"
    }
   },
   "source": [
    "# Introduction to Computer Programming\n",
    "\n",
    "\n",
    "\n",
    "<img src=\"img/full-colour-logo-UoB.png\" alt=\"Drawing\" style=\"width: 300px;\"/>"
   ]
  },
  {
   "cell_type": "code",
   "execution_count": null,
   "id": "df50c41d",
   "metadata": {},
   "outputs": [],
   "source": []
  },
  {
   "cell_type": "markdown",
   "id": "20f5fa84",
   "metadata": {
    "slideshow": {
     "slide_type": "skip"
    }
   },
   "source": [
    "The goal of writing a computer program is to automate a process.\n",
    "\n",
    "Throughout this course, we will study three fundamental topics that underpin automation:\n",
    "- __Selection:__ Decision-making<br>\n",
    "- __Repetition:__ Repeatedly executing a process<br>\n",
    "- __Modularity:__ Chunks of code that can be re-used<br>\n",
    "\n",
    "<center>\n",
    "  <img src=\"img/selection.png\" alt=\"Drawing\" style=\"width: 800px ;\" align=\"center\"/>\n",
    "</center>"
   ]
  },
  {
   "cell_type": "markdown",
   "id": "9a28e533",
   "metadata": {
    "slideshow": {
     "slide_type": "slide"
    }
   },
   "source": [
    "<a id='ControlStatements'></a>\n",
    "# Conditional Statements \n",
    "- Conditional statements:\n",
    "    - control the flow of a program\n",
    "    - select a different sequence of operations depending on whether the Boolean value of an expression is `True` or `False`.\n"
   ]
  },
  {
   "cell_type": "markdown",
   "id": "c30705de",
   "metadata": {
    "slideshow": {
     "slide_type": "slide"
    }
   },
   "source": [
    "### Example\n",
    "\n",
    "A digital thermostat checks the current temperature read by a sensor and compares it to a preset temperature. \n",
    "\n",
    "The heating is switched:\n",
    "- __ON__ if temperature lower than preset temperature\n",
    "- __OFF__ if temperature higher than, or same as, preset temperature\n",
    "\n",
    "<center>\n",
    "  <img align = \"right\" src=\"img/thermostat.png\" alt=\"Drawing\" style=\"width: 300px;\"/>\n",
    "</center>\n",
    "\n",
    "Write a program to simulate the behaviour of the digital thermostat, by using a variable `temp` to represent the current temperature.\n",
    "\n"
   ]
  },
  {
   "cell_type": "code",
   "execution_count": 16,
   "id": "d6275cb5",
   "metadata": {
    "slideshow": {
     "slide_type": "slide"
    }
   },
   "outputs": [
    {
     "name": "stdout",
     "output_type": "stream",
     "text": [
      "True\n"
     ]
    }
   ],
   "source": [
    "temp = 12   # Current temperature degrees celcius\n",
    "preset = 19 # Preset \n",
    "\n",
    "if temp < preset:\n",
    "    heat = True\n",
    "    \n",
    "else:\n",
    "    heat = False\n",
    "    \n",
    "print(heat)\n"
   ]
  },
  {
   "cell_type": "markdown",
   "id": "e00f4a28",
   "metadata": {
    "slideshow": {
     "slide_type": "slide"
    }
   },
   "source": [
    "### Example\n",
    "\n",
    "<center>\n",
    "  <img align=\"right\" src=\"img/volume.jpeg\" alt=\"Drawing\" style=\"width: 400px;\"/>\n",
    "</center>\n",
    "\n",
    "The volume control on a keyboard has a 'volume up' and 'volume down' button. \n",
    "\n",
    "We will represent these buttons as inputs from a user:\n",
    "- `u` : increase volume by 1\n",
    "- `d` : decrease volume by 1\n",
    "\n",
    "Write a program that shifts the current volume up or down depending on the input from the user. "
   ]
  },
  {
   "cell_type": "code",
   "execution_count": 15,
   "id": "a9f6f34e",
   "metadata": {
    "slideshow": {
     "slide_type": "slide"
    }
   },
   "outputs": [
    {
     "name": "stdout",
     "output_type": "stream",
     "text": [
      "enter volume control y\n",
      "5\n"
     ]
    }
   ],
   "source": [
    "volume = 5\n",
    "\n",
    "control_input = input('enter volume control ')\n",
    "\n",
    "if control_input == 'd':\n",
    "    volume -= 1\n",
    "    \n",
    "elif control_input == 'u':\n",
    "    volume += 1\n",
    "    \n",
    "print(volume)"
   ]
  },
  {
   "cell_type": "markdown",
   "id": "de36180e",
   "metadata": {
    "slideshow": {
     "slide_type": "slide"
    }
   },
   "source": [
    "### Example\n",
    "\n",
    "Print two variables, `a` and `b` only if they are *both* greater than 10.  \n",
    "\n",
    "*Hint:* Use comparison and logical operators we studied last week."
   ]
  },
  {
   "cell_type": "code",
   "execution_count": 12,
   "id": "41e871ad",
   "metadata": {},
   "outputs": [
    {
     "name": "stdout",
     "output_type": "stream",
     "text": [
      "12 11\n"
     ]
    }
   ],
   "source": [
    "a, b = 12, 11\n",
    "\n",
    "if a > 10 and b > 10:\n",
    "# if a and b > 10:\n",
    "    \n",
    "    print(a, b)"
   ]
  },
  {
   "cell_type": "markdown",
   "id": "ef2033f6",
   "metadata": {
    "slideshow": {
     "slide_type": "slide"
    }
   },
   "source": [
    "# Nested conditional statements\n",
    "Conditional statements can be nested <br>(a conditional statement within a conditional statement). \n",
    "\n",
    "This allows more complex decision making in a program. "
   ]
  },
  {
   "cell_type": "markdown",
   "id": "8a88d9c3",
   "metadata": {
    "slideshow": {
     "slide_type": "slide"
    }
   },
   "source": [
    "### Example\n",
    "Write a program that checks a number, `x`, and:\n",
    "- prints `\"positive\"` if the number is positive\n",
    "- prints `\"negative\"` if the number is negative\n",
    "\n"
   ]
  },
  {
   "cell_type": "code",
   "execution_count": 17,
   "id": "6118831a",
   "metadata": {
    "slideshow": {
     "slide_type": "-"
    }
   },
   "outputs": [
    {
     "name": "stdout",
     "output_type": "stream",
     "text": [
      "negative\n"
     ]
    }
   ],
   "source": [
    "x = -3\n",
    "\n",
    "if x > 0:\n",
    "    print('positive')\n",
    "    \n",
    "elif x < 0:\n",
    "    print('negative')\n"
   ]
  },
  {
   "cell_type": "markdown",
   "id": "92747ba7",
   "metadata": {
    "slideshow": {
     "slide_type": "slide"
    }
   },
   "source": [
    "If the number is positive the program should *also* print:\n",
    "- `\"square\"` if `x` is a square number <br>(a number of the form $x = n^2$ where $n$ is an integer)\n",
    "- `\"not square\"` otherwise"
   ]
  },
  {
   "cell_type": "code",
   "execution_count": 19,
   "id": "0993f00c",
   "metadata": {},
   "outputs": [
    {
     "name": "stdout",
     "output_type": "stream",
     "text": [
      "positive\n",
      "square\n"
     ]
    }
   ],
   "source": [
    "x = 4\n",
    "\n",
    "if x > 0:\n",
    "    print('positive')\n",
    "    \n",
    "    if x**(1/2) == int(x**(1/2)):\n",
    "        print('square')\n",
    "        \n",
    "    else:\n",
    "        print('not square')\n",
    "    \n",
    "elif x < 0:\n",
    "    print('negative')"
   ]
  },
  {
   "cell_type": "markdown",
   "id": "13c141b7",
   "metadata": {
    "slideshow": {
     "slide_type": "slide"
    }
   },
   "source": [
    "### Example\n",
    "\n",
    "How could we edit the volume control program in the previous example to prevent the volume from ever going outside of the range 0 to 10? \n",
    "\n",
    "*Hint:* There are multiple ways to achieve this using techniques from week 1/2"
   ]
  },
  {
   "cell_type": "code",
   "execution_count": 23,
   "id": "e5843df9",
   "metadata": {},
   "outputs": [
    {
     "name": "stdout",
     "output_type": "stream",
     "text": [
      "enter volume control d\n",
      "0\n"
     ]
    }
   ],
   "source": [
    "volume = 0\n",
    "\n",
    "control_input = input('enter volume control ')\n",
    "\n",
    "if control_input == 'd' and volume > 0:\n",
    "    volume -= 1\n",
    "    \n",
    "elif control_input == 'u':\n",
    "    volume += 1\n",
    "    if volume > 10:\n",
    "        volume = 10\n",
    "    \n",
    "print(volume)"
   ]
  },
  {
   "cell_type": "markdown",
   "id": "ad3d043f",
   "metadata": {
    "slideshow": {
     "slide_type": "slide"
    }
   },
   "source": [
    "# Questions?"
   ]
  },
  {
   "cell_type": "markdown",
   "id": "dd6bfe2a",
   "metadata": {
    "slideshow": {
     "slide_type": "slide"
    }
   },
   "source": [
    "### Example\n",
    "\n",
    "If a student's score is:\n",
    "- greater than or equal to 70, print 1\n",
    "- greater than or equal to 60 **and** less than 70, print 2.1\n",
    "- greater than or equal to 50 **and** less than 60, print 2.2\n",
    "- greater than or equal to 40 **and** less than 50, print 3\n",
    "- less than 40, print `fail`\n",
    "\n",
    "If the value of `a` is not 0, print the words `not zero` "
   ]
  },
  {
   "cell_type": "code",
   "execution_count": null,
   "id": "34d2d06e",
   "metadata": {},
   "outputs": [],
   "source": []
  },
  {
   "cell_type": "markdown",
   "id": "38c9bf77",
   "metadata": {
    "slideshow": {
     "slide_type": "skip"
    }
   },
   "source": [
    "# Example\n",
    "\n",
    "<center>\n",
    "  <img align=\"right\" src=\"img/robot_letters.png\" alt=\"Drawing\" style=\"width: 400px;\"/>\n",
    "</center>\n",
    "\n",
    "A two-wheeled robot uses three sensors (a, b and c) to follow a black line on a white surface. \n",
    "\n",
    "The sensors output:\n",
    "- 0 if over a white surface\n",
    "- 1 if over a black surface\n",
    "\n",
    "The arrows show what the relative speed of the two wheels should be, depending on the output of the sensors. \n",
    "\n",
    "Write a program to simulate the robot's control system by representing the outputs of each sensors as a variable.\n",
    "\n",
    "*Hint*: Remember `1` is `True` and `0` is `False` \n",
    "\n",
    "\n"
   ]
  },
  {
   "cell_type": "code",
   "execution_count": 29,
   "id": "96ecb3bc",
   "metadata": {
    "slideshow": {
     "slide_type": "skip"
    }
   },
   "outputs": [
    {
     "name": "stdout",
     "output_type": "stream",
     "text": [
      "1 2\n"
     ]
    }
   ],
   "source": [
    "a, b, c = 1, 1, 0\n",
    "\n",
    "if a and b and not c:\n",
    "    left = 1\n",
    "    right = 2\n",
    "    \n",
    "elif not a and b and c:\n",
    "    left = 2\n",
    "    right = 1\n",
    "    \n",
    "elif not a and b and not c:\n",
    "    left = 2\n",
    "    right = 2\n",
    "    \n",
    "else:\n",
    "    left = 0\n",
    "    right = 0\n",
    "    \n",
    "print(left, right)"
   ]
  },
  {
   "cell_type": "code",
   "execution_count": null,
   "id": "f7fa64fb",
   "metadata": {},
   "outputs": [],
   "source": []
  }
 ],
 "metadata": {
  "celltoolbar": "Slideshow",
  "kernelspec": {
   "display_name": "Python 3 (ipykernel)",
   "language": "python",
   "name": "python3"
  },
  "language_info": {
   "codemirror_mode": {
    "name": "ipython",
    "version": 3
   },
   "file_extension": ".py",
   "mimetype": "text/x-python",
   "name": "python",
   "nbconvert_exporter": "python",
   "pygments_lexer": "ipython3",
   "version": "3.10.9"
  }
 },
 "nbformat": 4,
 "nbformat_minor": 5
}
