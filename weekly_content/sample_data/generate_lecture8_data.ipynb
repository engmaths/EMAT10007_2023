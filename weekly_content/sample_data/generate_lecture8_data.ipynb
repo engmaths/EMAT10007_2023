{
 "cells": [
  {
   "cell_type": "code",
   "execution_count": 78,
   "id": "3ef758f7",
   "metadata": {},
   "outputs": [],
   "source": [
    "import numpy as np\n",
    "import matplotlib.pyplot as plt\n",
    "import csv\n",
    "\n",
    "t = np.linspace(0, 364, 100)\n",
    "N = 250000\n",
    "\n",
    "f_0 = 0.02\n",
    "f_inf = 0.85\n",
    "r = 1 / 40\n",
    "a = f_inf / (f_inf - f_0)\n",
    "\n",
    "# f = a * f_0 / (a + np.exp(-r * t) - 1)\n",
    "f = f_inf * f_0 / (f_0 + (f_inf - f_0) * (np.exp(-r * t)))\n",
    "# n = np.random.random(100) * 0.07"
   ]
  },
  {
   "cell_type": "code",
   "execution_count": 80,
   "id": "4789f153",
   "metadata": {},
   "outputs": [
    {
     "data": {
      "text/plain": [
       "212500.0"
      ]
     },
     "execution_count": 80,
     "metadata": {},
     "output_type": "execute_result"
    }
   ],
   "source": [
    "f_inf * N"
   ]
  },
  {
   "cell_type": "code",
   "execution_count": 79,
   "id": "dc46f061",
   "metadata": {},
   "outputs": [
    {
     "data": {
      "text/plain": [
       "[<matplotlib.lines.Line2D at 0x1d0d81bd220>]"
      ]
     },
     "execution_count": 79,
     "metadata": {},
     "output_type": "execute_result"
    },
    {
     "data": {
      "image/png": "[encoded data removed]",
      "text/plain": [
       "<Figure size 432x288 with 1 Axes>"
      ]
     },
     "metadata": {
      "needs_background": "light"
     },
     "output_type": "display_data"
    }
   ],
   "source": [
    "plt.plot(t, f + n, 'o')"
   ]
  },
  {
   "cell_type": "markdown",
   "id": "49d93681",
   "metadata": {},
   "source": [
    "f_inf = a * f_0 / (a - 1) -> (a - 1) * f_inf = a * f_0 -> (f_inf - f_0) * a = f_inf -> a = f_inf / (f_inf - f_0)"
   ]
  },
  {
   "cell_type": "code",
   "execution_count": 46,
   "id": "dbd75a0b",
   "metadata": {},
   "outputs": [],
   "source": [
    "D = np.ndarray((100, 2))\n",
    "D[:,0] = t\n",
    "D[:,1] = N * (f + n)"
   ]
  },
  {
   "cell_type": "code",
   "execution_count": 48,
   "id": "90157f57",
   "metadata": {},
   "outputs": [],
   "source": [
    "with open('infection_data.csv', 'w', newline = '') as file:\n",
    "    writer = csv.writer(file)\n",
    "    writer.writerow([\"Time (days)\", \"Number of infected individuals\"])\n",
    "    for d in D:\n",
    "        writer.writerow([int(d[0]), int(d[1])])"
   ]
  },
  {
   "cell_type": "code",
   "execution_count": 77,
   "id": "757b9e94",
   "metadata": {},
   "outputs": [
    {
     "data": {
      "text/latex": [
       "$\\displaystyle N{\\left(t \\right)} = - \\frac{K N_{0} e^{r t}}{\\left(K - N_{0}\\right) \\left(- \\frac{N_{0} e^{r t}}{K - N_{0}} - 1\\right)}$"
      ],
      "text/plain": [
       "Eq(N(t), -K*N_0*exp(r*t)/((K - N_0)*(-N_0*exp(r*t)/(K - N_0) - 1)))"
      ]
     },
     "execution_count": 77,
     "metadata": {},
     "output_type": "execute_result"
    }
   ],
   "source": [
    "import sympy as sp\n",
    "\n",
    "t, r, K, N, N_0 = sp.symbols('t r K N N_0')\n",
    "N = sp.Function(N)\n",
    "eq = sp.diff(N(t),t) - r * N(t) * (1 - N(t) / K)\n",
    "sp.dsolve(eq, N(t), ics = {N(0):N_0})"
   ]
  }
 ],
 "metadata": {
  "kernelspec": {
   "display_name": "Python 3",
   "language": "python",
   "name": "python3"
  },
  "language_info": {
   "codemirror_mode": {
    "name": "ipython",
    "version": 3
   },
   "file_extension": ".py",
   "mimetype": "text/x-python",
   "name": "python",
   "nbconvert_exporter": "python",
   "pygments_lexer": "ipython3",
   "version": "3.8.8"
  }
 },
 "nbformat": 4,
 "nbformat_minor": 5
}
