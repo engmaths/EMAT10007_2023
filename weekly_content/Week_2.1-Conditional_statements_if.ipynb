{
 "cells": [
  {
   "cell_type": "markdown",
   "id": "b02a48fc",
   "metadata": {
    "slideshow": {
     "slide_type": "slide"
    }
   },
   "source": [
    "# Introduction to Computer Programming\n",
    "\n",
    "## Conditional Statements - `if`\n",
    "\n",
    "<img src=\"img/full-colour-logo-UoB.png\" alt=\"Drawing\" style=\"width: 300px;\"/>"
   ]
  },
  {
   "cell_type": "markdown",
   "id": "9a28e533",
   "metadata": {
    "slideshow": {
     "slide_type": "slide"
    }
   },
   "source": [
    "<a id='ControlStatements'></a>\n",
    "# Conditional Statements \n",
    "- Conditional statements:\n",
    "    - control the flow of a program\n",
    "    - select a different sequence of operations depending on whether the Boolean value of an expression is `True` or `False`.\n"
   ]
  },
  {
   "cell_type": "markdown",
   "id": "957ad237",
   "metadata": {
    "slideshow": {
     "slide_type": "slide"
    }
   },
   "source": [
    "# `if`\n",
    "\n",
    "Runs a block of code only `if` the Boolean value of a condition is `True`\n",
    "\n",
    "<center>\n",
    "  <img src=\"img/if_flow_.png\" alt=\"Drawing\" style=\"width: 400px;\"/>\n",
    "</center>\n",
    "\n"
   ]
  },
  {
   "cell_type": "code",
   "execution_count": 10,
   "id": "ef731847",
   "metadata": {
    "slideshow": {
     "slide_type": "slide"
    }
   },
   "outputs": [
    {
     "name": "stdout",
     "output_type": "stream",
     "text": [
      "Do this\n",
      "Further code\n"
     ]
    }
   ],
   "source": [
    "x = 2\n",
    "\n",
    "if x > 1:\n",
    "    \n",
    "    print(\"Do this\")  \n",
    "    \n",
    "print(\"Further code\")\n"
   ]
  },
  {
   "cell_type": "markdown",
   "id": "7d515286",
   "metadata": {
    "slideshow": {
     "slide_type": "slide"
    }
   },
   "source": [
    "***\n",
    "The key ingredients are:\n",
    "\n",
    "1. __The `if` keyword__\n",
    "1. __The condition__: often includes *comparison*, *logical* or *identity* operators. \n",
    "1. __The colon `:`__ follows the condition to be evaluated. \n",
    "1. __The *indented* block of code__: run if the Boolean value of the condition is `True`. <br> The indent can be any number of spaces.\n",
    "     - Must be the same for all lines in a block of code. \n",
    "     - 4 spaces is considered best practise. \n",
    "     - Many IDEs (e.g. Spyder) automatically indent by 4 spaces after you type `if:`.\n",
    "\n"
   ]
  },
  {
   "cell_type": "markdown",
   "id": "de36180e",
   "metadata": {
    "slideshow": {
     "slide_type": "slide"
    }
   },
   "source": [
    "### Example\n",
    "\n",
    "Print two variables, `a` and `b` only if they are *both* greater than 10.  \n",
    "\n",
    "*Hint:* Use comparison and logical operators we studied last week."
   ]
  },
  {
   "cell_type": "code",
   "execution_count": 12,
   "id": "41e871ad",
   "metadata": {},
   "outputs": [
    {
     "name": "stdout",
     "output_type": "stream",
     "text": [
      "12 11\n"
     ]
    }
   ],
   "source": [
    "a, b = 12, 11\n",
    "\n",
    "if a > 10 and b > 10:\n",
    "    \n",
    "    print(a, b)"
   ]
  }
 ],
 "metadata": {
  "celltoolbar": "Slideshow",
  "kernelspec": {
   "display_name": "Python 3 (ipykernel)",
   "language": "python",
   "name": "python3"
  },
  "language_info": {
   "codemirror_mode": {
    "name": "ipython",
    "version": 3
   },
   "file_extension": ".py",
   "mimetype": "text/x-python",
   "name": "python",
   "nbconvert_exporter": "python",
   "pygments_lexer": "ipython3",
   "version": "3.10.9"
  }
 },
 "nbformat": 4,
 "nbformat_minor": 5
}
