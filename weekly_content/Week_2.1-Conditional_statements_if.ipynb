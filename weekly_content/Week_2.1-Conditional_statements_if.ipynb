{
 "cells": [
  {
   "cell_type": "markdown",
   "id": "b02a48fc",
   "metadata": {
    "slideshow": {
     "slide_type": "slide"
    }
   },
   "source": [
    "# Introduction to Computer Programming\n",
    "\n",
    "## Control Structures - the `if` statement\n",
    "\n",
    "<img src=\"img/full-colour-logo-UoB.png\" alt=\"Drawing\" style=\"width: 300px;\"/>"
   ]
  },
  {
   "cell_type": "markdown",
   "id": "9420cec7",
   "metadata": {},
   "source": [
    "So far we have written code as a sequence of statements one after the other. \n",
    "\n",
    "Real world programmes usually need to:\n",
    "- skip over some statements\n",
    "- repeatedly execute a series of statements\n",
    "- choose between multiple possible sets of statements to execute.\n"
   ]
  },
  {
   "cell_type": "markdown",
   "id": "9a28e533",
   "metadata": {
    "slideshow": {
     "slide_type": "slide"
    }
   },
   "source": [
    "<a id='ControlStatements'></a>\n",
    "# Conditional Statements \n",
    "\n",
    "Perform decision making in a program \n",
    "\n",
    "Allow __conditional__ execution of a block of code based on the Boolean value of an expression.\n",
    "\n"
   ]
  },
  {
   "cell_type": "markdown",
   "id": "957ad237",
   "metadata": {
    "slideshow": {
     "slide_type": "skip"
    }
   },
   "source": [
    "# The `if` statement\n",
    "\n",
    "Executes a block of code only `if` a conditional statement is `True`\n",
    "\n",
    "<center>\n",
    "  <img src=\"img/if_flow_.png\" alt=\"Drawing\" style=\"width: 400px;\"/>\n",
    "</center>\n",
    "\n"
   ]
  },
  {
   "cell_type": "markdown",
   "id": "082b7a41",
   "metadata": {},
   "source": [
    "# The `if` statement\n",
    "\n",
    "Executes a block of code only `if` a conditional statement is `True`\n",
    "\n",
    "The code structure looks like this:\n",
    "    \n",
    "```python\n",
    "if <conditional expression>:\n",
    "    <operation>\n",
    "```\n",
    "\n",
    "***\n",
    "\n",
    "### Example"
   ]
  },
  {
   "cell_type": "code",
   "execution_count": 1,
   "id": "19cc4867",
   "metadata": {},
   "outputs": [
    {
     "name": "stdout",
     "output_type": "stream",
     "text": [
      "hello world\n"
     ]
    }
   ],
   "source": [
    "if 2 > 1:\n",
    "    print('hello world')"
   ]
  },
  {
   "cell_type": "markdown",
   "id": "bf97611c",
   "metadata": {
    "slideshow": {
     "slide_type": "slide"
    }
   },
   "source": [
    "\n",
    "The key ingredients are:\n",
    "\n",
    "1. __`if` keyword__\n",
    "1. __Conditional expression__: often includes *comparison*, *logical* or *identity* operators. \n",
    "1. __Colon `:`__ follows the condition to be evaluated. \n",
    "1. __*Indented* block of code__: run if the Boolean value of the conditional expression is `True`. <br> The indent: <br>- can be any number of spaces.<br>- must be the same for all lines in a block of code.<br>- 4 spaces is considered best practise.<br>- many IDEs automatically indent by 4 spaces after you type `if:`.\n",
    "\n"
   ]
  },
  {
   "cell_type": "markdown",
   "id": "f590386b",
   "metadata": {},
   "source": [
    "# Examples"
   ]
  },
  {
   "cell_type": "code",
   "execution_count": 2,
   "id": "5a7df053",
   "metadata": {},
   "outputs": [],
   "source": [
    "x = 0\n",
    "y = 10"
   ]
  },
  {
   "cell_type": "code",
   "execution_count": 3,
   "id": "eca038b1",
   "metadata": {},
   "outputs": [
    {
     "name": "stdout",
     "output_type": "stream",
     "text": [
      "Hello world\n"
     ]
    }
   ],
   "source": [
    "if x < y:\n",
    "    print('Hello world')"
   ]
  },
  {
   "cell_type": "code",
   "execution_count": 4,
   "id": "9e04e602",
   "metadata": {},
   "outputs": [],
   "source": [
    "if x == y:\n",
    "    print('Hello world')"
   ]
  },
  {
   "cell_type": "code",
   "execution_count": 5,
   "id": "66408816",
   "metadata": {},
   "outputs": [],
   "source": [
    "if x and y:\n",
    "    print('Hello world')"
   ]
  },
  {
   "cell_type": "code",
   "execution_count": 6,
   "id": "e96e408f",
   "metadata": {},
   "outputs": [
    {
     "name": "stdout",
     "output_type": "stream",
     "text": [
      "Hello world\n"
     ]
    }
   ],
   "source": [
    "if x or y:\n",
    "    print('Hello world')"
   ]
  },
  {
   "cell_type": "markdown",
   "id": "7b8582e2",
   "metadata": {},
   "source": [
    "# The role of the indent\n",
    "\n",
    "The indent determines the block of code (single or multi-line) to execute if the Boolean value of the conditional expression is True. "
   ]
  },
  {
   "cell_type": "code",
   "execution_count": 9,
   "id": "ef731847",
   "metadata": {
    "slideshow": {
     "slide_type": "slide"
    }
   },
   "outputs": [
    {
     "name": "stdout",
     "output_type": "stream",
     "text": [
      "Do this based on the conditional expression\n",
      "Do this based on the conditional expression\n",
      "Always do this\n"
     ]
    }
   ],
   "source": [
    "x = 2\n",
    "\n",
    "if x > 1:\n",
    "    print(\"Do this based on the conditional expression\") \n",
    "    print(\"Do this based on the conditional expression\") \n",
    "    \n",
    "print(\"Always do this\")\n"
   ]
  },
  {
   "cell_type": "markdown",
   "id": "de36180e",
   "metadata": {
    "slideshow": {
     "slide_type": "slide"
    }
   },
   "source": [
    "### Example\n",
    "\n",
    "If the value of `a` is 10, print value of `a`"
   ]
  },
  {
   "cell_type": "code",
   "execution_count": 20,
   "id": "054084e9",
   "metadata": {},
   "outputs": [
    {
     "name": "stdout",
     "output_type": "stream",
     "text": [
      "10\n"
     ]
    }
   ],
   "source": [
    "a = 10\n",
    "\n",
    "if a == 10:\n",
    "    print(a)"
   ]
  },
  {
   "cell_type": "markdown",
   "id": "550b4679",
   "metadata": {
    "slideshow": {
     "slide_type": "slide"
    }
   },
   "source": [
    "### Example\n",
    "\n",
    "If the value of `a` is negative, print the word `negative` \n",
    "\n",
    "Print the value of `a`.\n",
    "\n",
    "Only the indented line depends on the outcome of the `if` statement\n"
   ]
  },
  {
   "cell_type": "code",
   "execution_count": 10,
   "id": "d19adf85",
   "metadata": {},
   "outputs": [
    {
     "name": "stdout",
     "output_type": "stream",
     "text": [
      "zero\n",
      "0\n"
     ]
    }
   ],
   "source": [
    "a = 0\n",
    "\n",
    "if a < 0:\n",
    "    print('negative')\n",
    "    \n",
    "print(a)"
   ]
  },
  {
   "cell_type": "markdown",
   "id": "e180d4b6",
   "metadata": {
    "slideshow": {
     "slide_type": "slide"
    }
   },
   "source": [
    "### Example\n",
    "\n",
    "If the value of `a` is an even number, print `even`"
   ]
  },
  {
   "cell_type": "code",
   "execution_count": 11,
   "id": "8adad957",
   "metadata": {},
   "outputs": [
    {
     "name": "stdout",
     "output_type": "stream",
     "text": [
      "even\n"
     ]
    }
   ],
   "source": [
    "a = 10\n",
    "\n",
    "if a % 2 == 0:\n",
    "    print('even')"
   ]
  },
  {
   "cell_type": "markdown",
   "id": "a4d6b708",
   "metadata": {
    "slideshow": {
     "slide_type": "slide"
    }
   },
   "source": [
    "### Example\n",
    "\n",
    "If the value of `a` is an even number, increase the value of `a` by 1\n",
    "\n",
    "Print the value of `a`"
   ]
  },
  {
   "cell_type": "code",
   "execution_count": 12,
   "id": "5c55ed54",
   "metadata": {},
   "outputs": [
    {
     "name": "stdout",
     "output_type": "stream",
     "text": [
      "11\n"
     ]
    }
   ],
   "source": [
    "a = 10\n",
    "\n",
    "if a % 2 == 0:\n",
    "    a += 1\n",
    "    \n",
    "print(a)"
   ]
  },
  {
   "cell_type": "markdown",
   "id": "dbefaba2",
   "metadata": {
    "slideshow": {
     "slide_type": "slide"
    }
   },
   "source": [
    "The condition in the `if` statement can be any expression with a Boolean `True` or `False` outcome."
   ]
  },
  {
   "cell_type": "code",
   "execution_count": 12,
   "id": "7bfe4896",
   "metadata": {},
   "outputs": [],
   "source": [
    "a, b, c = 0, 0, 1\n",
    "\n",
    "if a > b < c:\n",
    "    print('B is less than a and less than c')"
   ]
  },
  {
   "cell_type": "code",
   "execution_count": 13,
   "id": "ff17ba4a",
   "metadata": {},
   "outputs": [
    {
     "name": "stdout",
     "output_type": "stream",
     "text": [
      "word starts with p\n"
     ]
    }
   ],
   "source": [
    "word = 'python'\n",
    "\n",
    "if word[0] == 'p':\n",
    "    print('word starts with p')"
   ]
  },
  {
   "cell_type": "code",
   "execution_count": 14,
   "id": "4afb1d2c",
   "metadata": {},
   "outputs": [
    {
     "name": "stdout",
     "output_type": "stream",
     "text": [
      "word starts or end with p\n"
     ]
    }
   ],
   "source": [
    "word = 'python'\n",
    "\n",
    "if word[0] == 'p' or word[-1] == 'p':\n",
    "    print('word starts or end with p')"
   ]
  }
 ],
 "metadata": {
  "celltoolbar": "Slideshow",
  "kernelspec": {
   "display_name": "Python 3 (ipykernel)",
   "language": "python",
   "name": "python3"
  },
  "language_info": {
   "codemirror_mode": {
    "name": "ipython",
    "version": 3
   },
   "file_extension": ".py",
   "mimetype": "text/x-python",
   "name": "python",
   "nbconvert_exporter": "python",
   "pygments_lexer": "ipython3",
   "version": "3.10.9"
  }
 },
 "nbformat": 4,
 "nbformat_minor": 5
}
