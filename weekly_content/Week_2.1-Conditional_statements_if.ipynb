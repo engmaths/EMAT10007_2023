{
 "cells": [
  {
   "cell_type": "markdown",
   "id": "b02a48fc",
   "metadata": {
    "slideshow": {
     "slide_type": "slide"
    }
   },
   "source": [
    "# Introduction to Computer Programming\n",
    "\n",
    "## Conditional Statements - `if`\n",
    "\n",
    "<img src=\"img/full-colour-logo-UoB.png\" alt=\"Drawing\" style=\"width: 300px;\"/>"
   ]
  },
  {
   "cell_type": "markdown",
   "id": "9a28e533",
   "metadata": {
    "slideshow": {
     "slide_type": "slide"
    }
   },
   "source": [
    "<a id='ControlStatements'></a>\n",
    "# Conditional Statements \n",
    "- Conditional statements:\n",
    "    - control the flow of a program\n",
    "    - select a different sequence of operations depending on whether the Boolean value of an expression is `True` or `False`.\n"
   ]
  },
  {
   "cell_type": "markdown",
   "id": "957ad237",
   "metadata": {
    "slideshow": {
     "slide_type": "slide"
    }
   },
   "source": [
    "# `if`\n",
    "\n",
    "Executes a block of code only `if` a conditional statement is `True`\n",
    "\n",
    "<center>\n",
    "  <img src=\"img/if_flow_.png\" alt=\"Drawing\" style=\"width: 400px;\"/>\n",
    "</center>\n",
    "\n"
   ]
  },
  {
   "cell_type": "markdown",
   "id": "7b8582e2",
   "metadata": {},
   "source": [
    "# The role of the indent\n",
    "\n",
    "The indent is used to determine which pieces of code are executed in the loop"
   ]
  },
  {
   "cell_type": "code",
   "execution_count": 21,
   "id": "ef731847",
   "metadata": {
    "slideshow": {
     "slide_type": "slide"
    }
   },
   "outputs": [
    {
     "name": "stdout",
     "output_type": "stream",
     "text": [
      "Do this\n",
      "Further code\n"
     ]
    }
   ],
   "source": [
    "x = 2\n",
    "\n",
    "if x > 1:\n",
    "    \n",
    "    print(\"Do this\")  \n",
    "    \n",
    "print(\"Further code\")\n"
   ]
  },
  {
   "cell_type": "markdown",
   "id": "7d515286",
   "metadata": {
    "slideshow": {
     "slide_type": "slide"
    }
   },
   "source": [
    "***\n",
    "The key ingredients are:\n",
    "\n",
    "1. __The `if` keyword__\n",
    "1. __The condition__: often includes *comparison*, *logical* or *identity* operators. \n",
    "1. __The colon `:`__ follows the condition to be evaluated. \n",
    "1. __The *indented* block of code__: run if the value of the condition is `True`. <br> The indent can be any number of spaces.\n",
    "     - Must be the same for all lines in a block of code. \n",
    "     - 4 spaces is considered best practise. \n",
    "     - Many IDEs automatically indent by 4 spaces after you type `if:`.\n",
    "\n"
   ]
  },
  {
   "cell_type": "markdown",
   "id": "de36180e",
   "metadata": {
    "slideshow": {
     "slide_type": "slide"
    }
   },
   "source": [
    "### Example\n",
    "\n",
    "If the value of `a` is 10, print value of `a`"
   ]
  },
  {
   "cell_type": "code",
   "execution_count": 20,
   "id": "054084e9",
   "metadata": {},
   "outputs": [
    {
     "name": "stdout",
     "output_type": "stream",
     "text": [
      "10\n"
     ]
    }
   ],
   "source": [
    "a = 10\n",
    "\n",
    "if a == 10:\n",
    "    print(a)"
   ]
  },
  {
   "cell_type": "markdown",
   "id": "550b4679",
   "metadata": {
    "slideshow": {
     "slide_type": "slide"
    }
   },
   "source": [
    "### Example\n",
    "\n",
    "If the value of `a` is 0, print the word `zero` before printing `a`\n",
    "\n",
    "Print the value of `a`.\n",
    "\n",
    "Notice that only the indented line depends on the outcome of the `if` statement\n"
   ]
  },
  {
   "cell_type": "code",
   "execution_count": 10,
   "id": "d19adf85",
   "metadata": {},
   "outputs": [
    {
     "name": "stdout",
     "output_type": "stream",
     "text": [
      "zero\n",
      "0\n"
     ]
    }
   ],
   "source": [
    "a = 0\n",
    "\n",
    "if a == 0:\n",
    "    print('zero')\n",
    "    \n",
    "print(a)"
   ]
  },
  {
   "cell_type": "markdown",
   "id": "e180d4b6",
   "metadata": {
    "slideshow": {
     "slide_type": "slide"
    }
   },
   "source": [
    "### Example\n",
    "\n",
    "If the value of `a` is an even number, print `even`"
   ]
  },
  {
   "cell_type": "code",
   "execution_count": 11,
   "id": "8adad957",
   "metadata": {},
   "outputs": [
    {
     "name": "stdout",
     "output_type": "stream",
     "text": [
      "even\n"
     ]
    }
   ],
   "source": [
    "a = 10\n",
    "\n",
    "if a % 2 == 0:\n",
    "    print('even')"
   ]
  },
  {
   "cell_type": "markdown",
   "id": "a4d6b708",
   "metadata": {
    "slideshow": {
     "slide_type": "slide"
    }
   },
   "source": [
    "### Example\n",
    "\n",
    "If the value of `a` is an even number, increase the value of `a` by 1\n",
    "\n",
    "Print the value of `a`"
   ]
  },
  {
   "cell_type": "code",
   "execution_count": 12,
   "id": "5c55ed54",
   "metadata": {},
   "outputs": [
    {
     "name": "stdout",
     "output_type": "stream",
     "text": [
      "11\n"
     ]
    }
   ],
   "source": [
    "a = 10\n",
    "\n",
    "if a % 2 == 0:\n",
    "    a += 1\n",
    "    \n",
    "print(a)"
   ]
  },
  {
   "cell_type": "markdown",
   "id": "dbefaba2",
   "metadata": {
    "slideshow": {
     "slide_type": "slide"
    }
   },
   "source": [
    "The condition in the `if` statement can be any expression with a Boolean `True` or `False` outcome."
   ]
  },
  {
   "cell_type": "code",
   "execution_count": 18,
   "id": "7bfe4896",
   "metadata": {},
   "outputs": [
    {
     "name": "stdout",
     "output_type": "stream",
     "text": [
      "B is greater than a and c\n"
     ]
    }
   ],
   "source": [
    "a, B, c = 0, 0, 1\n",
    "\n",
    "if a >= B < c:\n",
    "    print('B is greater than a and c')"
   ]
  },
  {
   "cell_type": "code",
   "execution_count": 19,
   "id": "ff17ba4a",
   "metadata": {},
   "outputs": [
    {
     "name": "stdout",
     "output_type": "stream",
     "text": [
      "word starts or end with p\n"
     ]
    }
   ],
   "source": [
    "word = 'python'\n",
    "\n",
    "if word[0] == 'p' or word[-1] == 'p':\n",
    "    print('word starts or end with p')"
   ]
  },
  {
   "cell_type": "code",
   "execution_count": null,
   "id": "579a9e3c",
   "metadata": {},
   "outputs": [],
   "source": []
  }
 ],
 "metadata": {
  "celltoolbar": "Slideshow",
  "kernelspec": {
   "display_name": "Python 3 (ipykernel)",
   "language": "python",
   "name": "python3"
  },
  "language_info": {
   "codemirror_mode": {
    "name": "ipython",
    "version": 3
   },
   "file_extension": ".py",
   "mimetype": "text/x-python",
   "name": "python",
   "nbconvert_exporter": "python",
   "pygments_lexer": "ipython3",
   "version": "3.10.9"
  }
 },
 "nbformat": 4,
 "nbformat_minor": 5
}
