{
 "cells": [
  {
   "cell_type": "markdown",
   "metadata": {
    "slideshow": {
     "slide_type": "slide"
    }
   },
   "source": [
    "# Introduction to Computer Programming\n",
    "\n",
    "## Week 8.2: Writing data\n",
    "\n",
    "* * *\n",
    "\n",
    "<img src=\"img/full-colour-logo-UoB.png\" alt=\"Bristol\" style=\"width: 300px;\"/>"
   ]
  },
  {
   "cell_type": "markdown",
   "metadata": {
    "slideshow": {
     "slide_type": "slide"
    }
   },
   "source": [
    "# Aims\n",
    "\n",
    "* Demonstrate how to use the `csv` package to create .csv files"
   ]
  },
  {
   "cell_type": "markdown",
   "metadata": {
    "slideshow": {
     "slide_type": "slide"
    }
   },
   "source": [
    "# Loading the `csv` package\n",
    "\n",
    "We begin by loading the `csv` package"
   ]
  },
  {
   "cell_type": "code",
   "execution_count": 36,
   "metadata": {},
   "outputs": [],
   "source": [
    "import csv"
   ]
  },
  {
   "cell_type": "markdown",
   "metadata": {
    "slideshow": {
     "slide_type": "slide"
    }
   },
   "source": [
    "# Data generation\n",
    "\n",
    "* Let's create a simple data set that we'll save to a .csv file\n",
    "* We will create 11 equally spaced point between 0 and 1 and call these $x$\n",
    "* Then we will compute $y = x^2$\n",
    "* We'll save a table of $x$ and $y$ values\n"
   ]
  },
  {
   "cell_type": "code",
   "execution_count": 37,
   "metadata": {
    "slideshow": {
     "slide_type": "slide"
    }
   },
   "outputs": [],
   "source": [
    "# spacing between x points\n",
    "dx = 1 / 10\n",
    "\n",
    "# create lists for x and y\n",
    "x = [i * dx for i in range(11)]\n",
    "y = [e**2 for e in x]"
   ]
  },
  {
   "cell_type": "code",
   "execution_count": 38,
   "metadata": {
    "slideshow": {
     "slide_type": "slide"
    }
   },
   "outputs": [
    {
     "name": "stdout",
     "output_type": "stream",
     "text": [
      "x, y\n",
      "0.0 0.0\n",
      "0.1 0.01\n",
      "0.2 0.04\n",
      "0.3 0.09\n",
      "0.4 0.16\n",
      "0.5 0.25\n",
      "0.6 0.36\n",
      "0.7 0.49\n",
      "0.8 0.64\n",
      "0.9 0.81\n",
      "1.0 1.0\n"
     ]
    }
   ],
   "source": [
    "print('x, y')\n",
    "for (a, b) in zip(x, y):\n",
    "    print(round(a, 2), round(b, 2))"
   ]
  },
  {
   "cell_type": "markdown",
   "metadata": {
    "slideshow": {
     "slide_type": "slide"
    }
   },
   "source": [
    "# Saving the data\n",
    "\n",
    "We use the `with` keyword and the `open` function to open/create a .csv file for **writing**\n",
    "\n",
    "The `writerows` method from the `csv` package is then used to write data"
   ]
  },
  {
   "cell_type": "code",
   "execution_count": 40,
   "metadata": {},
   "outputs": [],
   "source": [
    "with open('sample_data/xy_data.csv', 'w', newline = '') as file:\n",
    "    writer = csv.writer(file)\n",
    "    writer.writerows([x, y])"
   ]
  },
  {
   "cell_type": "markdown",
   "metadata": {
    "slideshow": {
     "slide_type": "fragment"
    }
   },
   "source": [
    "The string 'w' in the `open` function means the file is being opened for writing\n",
    "\n",
    "The `newline` argument is used to remove empty lines between rows"
   ]
  },
  {
   "cell_type": "markdown",
   "metadata": {
    "slideshow": {
     "slide_type": "slide"
    }
   },
   "source": [
    "In the previous example, only the numerical data is stored.  \n",
    "\n",
    "We can add some text data to describe the data that is being saved"
   ]
  },
  {
   "cell_type": "code",
   "execution_count": 41,
   "metadata": {
    "slideshow": {
     "slide_type": "fragment"
    }
   },
   "outputs": [],
   "source": [
    "with open('sample_data/xy_data_v2.csv', 'w', newline = '') as file:\n",
    "    writer = csv.writer(file)\n",
    "    writer.writerow([\"x\", \"y\"])\n",
    "    writer.writerows([x, y])"
   ]
  },
  {
   "cell_type": "markdown",
   "metadata": {
    "slideshow": {
     "slide_type": "fragment"
    }
   },
   "source": [
    "We use the `writerow` method when writing a **single** row and `writerows` when writing **multiple** rows"
   ]
  },
  {
   "cell_type": "markdown",
   "metadata": {
    "slideshow": {
     "slide_type": "slide"
    }
   },
   "source": [
    "# Summary\n",
    "\n",
    "* The `csv` package can also be used to create csv files from data\n",
    "* The `writerow` and `writerows` methods are used to save rows of data"
   ]
  }
 ],
 "metadata": {
  "celltoolbar": "Slideshow",
  "kernelspec": {
   "display_name": "Python 3",
   "language": "python",
   "name": "python3"
  },
  "language_info": {
   "codemirror_mode": {
    "name": "ipython",
    "version": 3
   },
   "file_extension": ".py",
   "mimetype": "text/x-python",
   "name": "python",
   "nbconvert_exporter": "python",
   "pygments_lexer": "ipython3",
   "version": "3.8.8"
  }
 },
 "nbformat": 4,
 "nbformat_minor": 4
}
