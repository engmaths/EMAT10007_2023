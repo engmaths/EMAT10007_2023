{
 "cells": [
  {
   "cell_type": "markdown",
   "id": "3122cada",
   "metadata": {
    "slideshow": {
     "slide_type": "slide"
    }
   },
   "source": [
    "# Introduction to Computer Programming\n",
    "\n",
    "## Consolidation Exercise 1\n",
    "<img src=\"https://github.com/engmaths/EMAT10007_2023/blob/main/weekly_content/img/full-colour-logo-UoB.png?raw=true\" width=\"20%\">\n",
    "</p>"
   ]
  },
  {
   "cell_type": "markdown",
   "id": "322405eb",
   "metadata": {},
   "source": [
    "# TODO:\n",
    "    \n",
    "**Add __main__() to main.py**\n",
    "\n",
    "**Guide to opening the robot simulation files**\n",
    "\n",
    "**Test opening the robot simulation files in computer lab**\n",
    "    "
   ]
  },
  {
   "cell_type": "markdown",
   "id": "3859fa7a",
   "metadata": {},
   "source": [
    "This week, you will practise the computer programming skills you have learnt in weeks 1-3 by applying them to a real world task. \n",
    "\n",
    "You will use variables, operators and control structures to control a simulated mobile robot. \n",
    "\n",
    "You will be asked to complete a similar question for 1 or the 2 exercises in the coursework. \n",
    "\n",
    "This week's exercise will give you some practise. "
   ]
  },
  {
   "cell_type": "markdown",
   "id": "40a1c9cd",
   "metadata": {},
   "source": [
    "# Opening the robot simulation files\n",
    "\n",
    "Download the folder **\\<name\\>** from **\\<name\\>**\n",
    "\n",
    "Open this as a project in Pycharm **instructions including how to install packages**\n",
    "\n",
    "There are two Python (.py) files in the folder:\n",
    "- robot_simulator.py : This generates the simulation using your code. You do not need to edit this file\n",
    "- main.py: This is where you will write your code\n",
    "\n",
    "Open main.py now"
   ]
  },
  {
   "cell_type": "markdown",
   "id": "14f7b2dc",
   "metadata": {},
   "source": [
    "# main.py\n",
    "\n",
    "main.py contains the simplest possible verion of the simulation. \n",
    "\n",
    "The following operations have been written for you:\n",
    "\n",
    "`from robot_simulator import *` must be included at the start of your program\n",
    "\n",
    "`save_simulation_data()` must be included at the end of your program\n",
    "\n",
    "`update_simulation(v, w)` saves the current position of the robot to the simulation video and text data\n",
    "\n"
   ]
  },
  {
   "cell_type": "markdown",
   "id": "1f002959",
   "metadata": {
    "slideshow": {
     "slide_type": "fragment"
    }
   },
   "source": [
    "(over the next few weeks, before you attempt the coursework, you will learn to write operations like this yourself)"
   ]
  },
  {
   "cell_type": "markdown",
   "id": "7a45a34a",
   "metadata": {},
   "source": [
    "\n",
    "\n",
    "```python\n",
    "from robot_simulator import *  # Starts simulator\n",
    "\n",
    "# Linear (forward) speed of robot\n",
    "v = 1                       \n",
    "\n",
    "# Angular (turning) speed of robot\n",
    "w = 0                       \n",
    "    \n",
    "# Updates the simulation (moves the robot)\n",
    "update_simulation(v, w)  \n",
    "\n",
    "save_simulation_data()        # Outputs simulation as video and text file\n",
    "```"
   ]
  },
  {
   "cell_type": "markdown",
   "id": "c8338c59",
   "metadata": {
    "slideshow": {
     "slide_type": "slide"
    }
   },
   "source": [
    "`update_simulation` is function that requires 2 inputs within the parentheses:\n",
    "- 1st input: Linear (forward) speed of robot\n",
    "- 2nd input: Angular (turning) speed of robot"
   ]
  },
  {
   "cell_type": "markdown",
   "id": "d2b93cd4",
   "metadata": {
    "slideshow": {
     "slide_type": "fragment"
    }
   },
   "source": [
    "`update_simulation` makes the robot move in different ways depending on the input:\n",
    "- **`v` = 1, `w` = 0** : forward 1 unit\n",
    "- **`v` = -1, `w` = 0** : backward 1 unit\n",
    "- **`v` = 0, `w` = 1** : turn clockwise 1 degree ($\\pi$/180 rads)\n",
    "- **`v` = 0, `w` = -1** : turn anti-clockwise 1 degree (-$\\pi$/180 rads)\n",
    "- **anything else** : stop (e.g. `v` = 1, `w` = 1 or `v` = 20, `w` = 0)"
   ]
  },
  {
   "cell_type": "markdown",
   "id": "2f021905",
   "metadata": {
    "slideshow": {
     "slide_type": "fragment"
    }
   },
   "source": [
    "Notice that this means in a single simulation update, the robot can either:\n",
    "- turn 1 unit (degree)\n",
    "- move 1 unit \n",
    "\n",
    "It cannot do both\n",
    "\n",
    "It cannot move more than 1 unit"
   ]
  },
  {
   "cell_type": "markdown",
   "id": "29e3a4c8",
   "metadata": {
    "slideshow": {
     "slide_type": "slide"
    }
   },
   "source": [
    "Run main.py\n",
    "\n",
    "Open simulation_video.mp4 and simulation_data.txt to see the output from the program. \n",
    "\n",
    "The robot moves forward 1 unit. "
   ]
  },
  {
   "cell_type": "markdown",
   "id": "e5f82a2f",
   "metadata": {
    "slideshow": {
     "slide_type": "fragment"
    }
   },
   "source": [
    "In the video, the robot is represented by a blue circle. \n",
    "\n",
    "A small black line indicates the front of the robot. \n",
    "\n",
    "The robot moves in a 200 x 200 arena always starts at position `x` = 100, `y` = 25 \n",
    "\n",
    "**PICTURE OF ROBOT**"
   ]
  },
  {
   "cell_type": "markdown",
   "id": "572b7ec4",
   "metadata": {
    "slideshow": {
     "slide_type": "slide"
    }
   },
   "source": [
    "To move the robot **forward** 10 units:"
   ]
  },
  {
   "cell_type": "markdown",
   "id": "c5d76355",
   "metadata": {},
   "source": [
    "```python\n",
    "from robot_simulator import *  # Starts simulator\n",
    "\n",
    "for i in range(10):\n",
    "    \n",
    "    # Updates the simulation (moves the robot)\n",
    "    # 1st input: Linear (forward) speed of robot\n",
    "    # 2nd input: Angular (turning) speed of robot\n",
    "    update_simulation(1, 0)  \n",
    "\n",
    "save_simulation_data()        # Outputs simulation as video and text file\n",
    "```"
   ]
  },
  {
   "cell_type": "markdown",
   "id": "7cda073f",
   "metadata": {
    "slideshow": {
     "slide_type": "slide"
    }
   },
   "source": [
    "To move the robot **backward** 10 units:"
   ]
  },
  {
   "cell_type": "markdown",
   "id": "dc685c21",
   "metadata": {},
   "source": [
    "```python\n",
    "from robot_simulator import *  # Starts simulator\n",
    "\n",
    "for i in range(10):\n",
    "    \n",
    "    # Updates the simulation (moves the robot)\n",
    "    # 1st input: Linear (forward) speed of robot\n",
    "    # 2nd input: Angular (turning) speed of robot\n",
    "    update_simulation(-1, 0)  \n",
    "\n",
    "save_simulation_data()        # Outputs simulation as video and text file\n",
    "```"
   ]
  },
  {
   "cell_type": "markdown",
   "id": "8c01b72b",
   "metadata": {
    "slideshow": {
     "slide_type": "slide"
    }
   },
   "source": [
    "To turn the robot 20 degrees **clockwise**:"
   ]
  },
  {
   "cell_type": "markdown",
   "id": "4d7af803",
   "metadata": {},
   "source": [
    "```python\n",
    "from robot_simulator import *  # Starts simulator\n",
    "\n",
    "for i in range(20):\n",
    "    \n",
    "    # Updates the simulation (moves the robot)\n",
    "    # 1st input: Linear (forward) speed of robot\n",
    "    # 2nd input: Angular (turning) speed of robot\n",
    "    update_simulation(0, 1)  \n",
    "\n",
    "save_simulation_data()        # Outputs simulation as video and text file\n",
    "```"
   ]
  },
  {
   "cell_type": "markdown",
   "id": "c3d13cb7",
   "metadata": {
    "slideshow": {
     "slide_type": "slide"
    }
   },
   "source": [
    "To move the robot **forward** 10 units then turn the robot 45 degrees **anti-clockwise**:"
   ]
  },
  {
   "cell_type": "markdown",
   "id": "1d0f61e1",
   "metadata": {},
   "source": [
    "```python\n",
    "from robot_simulator import *  # Starts simulator\n",
    "\n",
    "for i in range(10):\n",
    "    update_simulation(1, 0)  \n",
    "\n",
    "for i in range(45):\n",
    "    update_simulation(0, -1)  \n",
    "\n",
    "save_simulation_data()        # Outputs simulation as video and text file\n",
    "```"
   ]
  },
  {
   "cell_type": "markdown",
   "id": "d848789f",
   "metadata": {
    "slideshow": {
     "slide_type": "slide"
    }
   },
   "source": [
    "Complete the exercises, writing programs to control the robot motion using the programming techniques you have learnt in weeks 1-3. \n",
    "\n",
    "You can edit main.py or create your own .py files within the same folder but remember each program MUST:\n",
    "\n",
    "- start with `from robot_simulator import *` \n",
    "\n",
    "- end with `save_simulation_data()` \n",
    "\n",
    "- use `update_simulation(v, w)` to update the simulation"
   ]
  },
  {
   "cell_type": "markdown",
   "id": "48046122",
   "metadata": {},
   "source": [
    "# Exercise 1: Practising using the simulator\n",
    "a) Write a program that makes the robot move forward 20 units and then back 20 units \n",
    "<br>b) Write a program that makes the robot turn clockwise 45 degrees, then anti-clockwise 90 degrees\n",
    "<br>c) Write a program that makes the robot move forward 10 units and then turn 90 degrees"
   ]
  },
  {
   "cell_type": "markdown",
   "id": "6d5f6c6c",
   "metadata": {},
   "source": [
    "# Exercise 2: Drawing shapes \n",
    "\n",
    "a) Make the robot drive in a square, with side length 20\n",
    "<br>b) Make a robot drive in an equilateral triangle, with side length 20\n",
    "\n",
    "Use nested loops to reduce repeated lines of code in your program\n",
    "\n",
    "** ADD PICTURES OF PATH **"
   ]
  },
  {
   "cell_type": "markdown",
   "id": "fa0cb451",
   "metadata": {},
   "source": [
    "\n",
    "\n",
    "```python\n",
    "# DRAWING A SQUARE\n",
    "\n",
    "from robot_simulator import *  # This line must be included at the START of your program\n",
    "\n",
    "# The square has 4 sides\n",
    "sides = 4\n",
    "\n",
    "# Each side is 20 units long\n",
    "side_length = 20\n",
    "\n",
    "# The angle at each corner is 90 degrees\n",
    "corner_angle = 90\n",
    "\n",
    "# Use of nested loops\n",
    "for i in range(sides):  \n",
    "    \n",
    "    # Moves the robot in straight line\n",
    "    for j in range(side_length):  \n",
    "        \n",
    "        update_simulation(1, 0) # v = 1 and w = 0  \n",
    "        \n",
    "    # Turns the robot\n",
    "    for k in range(corner_angle):\n",
    "        \n",
    "        update_simulation(0, 1) # v = 0 and w = 1 \n",
    "        \n",
    "save_simulation_data()      # This line must be included at the END of your program\n",
    "```"
   ]
  },
  {
   "cell_type": "markdown",
   "id": "f3d12135",
   "metadata": {},
   "source": [
    "```python\n",
    "# DRAWING A TRIANGLE\n",
    "```"
   ]
  },
  {
   "cell_type": "markdown",
   "id": "275d908d",
   "metadata": {},
   "source": [
    "# Exercise 3\n",
    "Planning a path using operators  \n",
    "The logic to then move between the points in a desired order is:\n",
    "\t◦ current position and angle\n",
    "\t◦ target position \n",
    "\t◦ required angle and distance to travel\n",
    "\t◦ move to new point over n cycles where n = distance\n",
    " \n",
    "\n",
    "\n"
   ]
  },
  {
   "cell_type": "markdown",
   "id": "af9a435b",
   "metadata": {},
   "source": [
    "# Exercise 5\n",
    "Detecting the edge with a while loop using a single sensor \n",
    "A sequence is used to store the reading from sensor (1-6) each time the code loops. \n",
    "robot.sensor\n",
    "while loops\n",
    "comparison operators, logical operators \n",
    "if \n",
    "else\n",
    "elif "
   ]
  },
  {
   "cell_type": "markdown",
   "id": "92b56121",
   "metadata": {},
   "source": [
    "# Exercise 6\n",
    "Detecting obstacles  \n",
    "A sequence is used to store the reading from sensor (1-6) each time the code loops. \n",
    "robot.sensor\n",
    "while loops\n",
    "comparison operators, logical operators \n",
    "if \n",
    "else\n",
    "elif"
   ]
  },
  {
   "cell_type": "markdown",
   "id": "2ba51f6b",
   "metadata": {},
   "source": [
    "# Wall following\n",
    "Detecting obstacles  \n",
    "A sequence is used to store the reading from sensor (1-6) each time the code loops. \n",
    "robot.sensor\n",
    "while loops\n",
    "comparison operators, logical operators \n",
    "if \n",
    "else\n",
    "elif"
   ]
  },
  {
   "cell_type": "code",
   "execution_count": null,
   "id": "89ef4c05",
   "metadata": {},
   "outputs": [],
   "source": []
  }
 ],
 "metadata": {
  "celltoolbar": "Slideshow",
  "kernelspec": {
   "display_name": "Python 3 (ipykernel)",
   "language": "python",
   "name": "python3"
  },
  "language_info": {
   "codemirror_mode": {
    "name": "ipython",
    "version": 3
   },
   "file_extension": ".py",
   "mimetype": "text/x-python",
   "name": "python",
   "nbconvert_exporter": "python",
   "pygments_lexer": "ipython3",
   "version": "3.10.9"
  }
 },
 "nbformat": 4,
 "nbformat_minor": 5
}
