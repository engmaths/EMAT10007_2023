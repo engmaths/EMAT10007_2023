{
 "cells": [
  {
   "cell_type": "markdown",
   "id": "3122cada",
   "metadata": {
    "slideshow": {
     "slide_type": "slide"
    }
   },
   "source": [
    "# Introduction to Computer Programming\n",
    "\n",
    "## Consolidation Exercise 1\n",
    "<img src=\"https://github.com/engmaths/EMAT10007_2023/blob/main/weekly_content/img/full-colour-logo-UoB.png?raw=true\" width=\"20%\">\n",
    "</p>"
   ]
  },
  {
   "cell_type": "markdown",
   "id": "6511db6c",
   "metadata": {},
   "source": [
    "# TODO:\n",
    "    \n",
    "**Add __main__() to main.py**\n",
    "\n",
    "**Guide to opening the robot simulation files**\n",
    "\n",
    "**Test opening the robot simulation files in computer lab**\n",
    "    "
   ]
  },
  {
   "cell_type": "markdown",
   "id": "3859fa7a",
   "metadata": {},
   "source": [
    "This week, you will practise the computer programming skills you have learnt in weeks 1-3 by applying them to a real world task. \n",
    "\n",
    "You will use variables, operators and control structures to control a simulated mobile robot. \n",
    "\n",
    "You will be asked to complete a similar question for 1 or the 2 exercises in the coursework. \n",
    "\n",
    "This week's exercise will give you some practise. "
   ]
  },
  {
   "cell_type": "markdown",
   "id": "40a1c9cd",
   "metadata": {},
   "source": [
    "# Opening the robot simulation files\n",
    "\n",
    "Download the folder **\\<name\\>** from **\\<name\\>**\n",
    "\n",
    "Open this as a project in Pycharm **instructions including how to install packages**\n",
    "\n",
    "There are two Python (.py) files in the folder:\n",
    "- robot_simulator.py : This generates the simulation using your code. You do not need to edit this file\n",
    "- main.py: This is where you will write your code\n",
    "\n",
    "Open main.py now"
   ]
  },
  {
   "cell_type": "markdown",
   "id": "0d29d115",
   "metadata": {},
   "source": [
    "# main.py\n",
    "\n",
    "main.py contains the simplest possible verion of the simulation. \n",
    "\n",
    "The following operations have been written for you:\n",
    "\n",
    "`from robot_simulator import *` must be included at the start of your program\n",
    "\n",
    "`save_simulation_data()` must be included at the end of your program\n",
    "\n",
    "`update_simulation(v, w)` saves the current position of the robot to the simulation video and text data\n",
    "\n"
   ]
  },
  {
   "cell_type": "markdown",
   "id": "f78a91d7",
   "metadata": {
    "slideshow": {
     "slide_type": "fragment"
    }
   },
   "source": [
    "(over the next few weeks, before you attempt the coursework, you will learn to write operations like this yourself)"
   ]
  },
  {
   "cell_type": "markdown",
   "id": "c8669fc9",
   "metadata": {},
   "source": [
    "\n",
    "\n",
    "```python\n",
    "from robot_simulator import *  # Starts simulator\n",
    "\n",
    "# Linear (forward) speed of robot\n",
    "v = 1                       \n",
    "\n",
    "# Angular (turning) speed of robot\n",
    "w = 0                       \n",
    "    \n",
    "# Updates the simulation (moves the robot)\n",
    "update_simulation(v, w)  \n",
    "\n",
    "save_simulation_data()        # Outputs simulation as video and text file\n",
    "```"
   ]
  },
  {
   "cell_type": "markdown",
   "id": "0bdff296",
   "metadata": {
    "slideshow": {
     "slide_type": "slide"
    }
   },
   "source": [
    "`update_simulation` is function that requires 2 inputs within the parentheses:\n",
    "- 1st input: Linear (forward) speed of robot\n",
    "- 2nd input: Angular (turning) speed of robot"
   ]
  },
  {
   "cell_type": "markdown",
   "id": "7dad8e18",
   "metadata": {
    "slideshow": {
     "slide_type": "fragment"
    }
   },
   "source": [
    "`update_simulation` makes the robot move in different ways depending on the input:\n",
    "- **`v` = 1, `w` = 0** : forward 1 unit\n",
    "- **`v` = -1, `w` = 0** : backward 1 unit\n",
    "- **`v` = 0, `w` = 1** : turn anti-clockwise 1 degree (-$\\pi$/180 rads)\n",
    "- **`v` = 0, `w` = -1** : turn clockwise 1 degree ($\\pi$/180 rads)\n",
    "- **anything else** : stop (e.g. `v` = 1, `w` = 1 or `v` = 20, `w` = 0)"
   ]
  },
  {
   "cell_type": "markdown",
   "id": "970752ff",
   "metadata": {
    "slideshow": {
     "slide_type": "fragment"
    }
   },
   "source": [
    "Notice that this means in a single simulation update, the robot can either:\n",
    "- turn 1 unit (degree)\n",
    "- move 1 unit \n",
    "\n",
    "It cannot do both\n",
    "\n",
    "It cannot move more than 1 unit"
   ]
  },
  {
   "cell_type": "markdown",
   "id": "452755fb",
   "metadata": {
    "slideshow": {
     "slide_type": "slide"
    }
   },
   "source": [
    "Run main.py\n",
    "\n",
    "Open simulation_video.mp4 and simulation_data.txt to see the output from the program. \n",
    "\n",
    "The robot moves forward 1 unit. "
   ]
  },
  {
   "cell_type": "markdown",
   "id": "3b32a81b",
   "metadata": {
    "slideshow": {
     "slide_type": "fragment"
    }
   },
   "source": [
    "In the video, the robot is represented by a blue circle. \n",
    "\n",
    "A small black line indicates the front of the robot. \n",
    "\n",
    "The robot moves in a 200 x 200 arena always starts at position `x` = 100, `y` = 50 \n",
    "\n",
    "**PICTURE OF ROBOT**"
   ]
  },
  {
   "cell_type": "markdown",
   "id": "6e3fb33e",
   "metadata": {
    "slideshow": {
     "slide_type": "slide"
    }
   },
   "source": [
    "To move the robot **forward** 10 units:"
   ]
  },
  {
   "cell_type": "markdown",
   "id": "0c558938",
   "metadata": {},
   "source": [
    "```python\n",
    "from robot_simulator import *  # Starts simulator\n",
    "\n",
    "for i in range(10):\n",
    "    \n",
    "    # Updates the simulation (moves the robot)\n",
    "    # 1st input: Linear (forward) speed of robot\n",
    "    # 2nd input: Angular (turning) speed of robot\n",
    "    update_simulation(1, 0)  \n",
    "\n",
    "save_simulation_data()        # Outputs simulation as video and text file\n",
    "```"
   ]
  },
  {
   "cell_type": "markdown",
   "id": "5178b93c",
   "metadata": {
    "slideshow": {
     "slide_type": "slide"
    }
   },
   "source": [
    "To move the robot **backward** 10 units:"
   ]
  },
  {
   "cell_type": "markdown",
   "id": "a76bd3a9",
   "metadata": {},
   "source": [
    "```python\n",
    "from robot_simulator import *  # Starts simulator\n",
    "\n",
    "for i in range(10):\n",
    "    \n",
    "    # Updates the simulation (moves the robot)\n",
    "    # 1st input: Linear (forward) speed of robot\n",
    "    # 2nd input: Angular (turning) speed of robot\n",
    "    update_simulation(-1, 0)  \n",
    "\n",
    "save_simulation_data()        # Outputs simulation as video and text file\n",
    "```"
   ]
  },
  {
   "cell_type": "markdown",
   "id": "274b2eab",
   "metadata": {
    "slideshow": {
     "slide_type": "slide"
    }
   },
   "source": [
    "To turn the robot 20 degrees **anti-clockwise**:"
   ]
  },
  {
   "cell_type": "markdown",
   "id": "0c9871fb",
   "metadata": {},
   "source": [
    "```python\n",
    "from robot_simulator import *  # Starts simulator\n",
    "\n",
    "for i in range(20):\n",
    "    \n",
    "    # Updates the simulation (moves the robot)\n",
    "    # 1st input: Linear (forward) speed of robot\n",
    "    # 2nd input: Angular (turning) speed of robot\n",
    "    update_simulation(0, 1)  \n",
    "\n",
    "save_simulation_data()        # Outputs simulation as video and text file\n",
    "```"
   ]
  },
  {
   "cell_type": "markdown",
   "id": "51039ed4",
   "metadata": {
    "slideshow": {
     "slide_type": "slide"
    }
   },
   "source": [
    "To move the robot **forward** 10 units then turn the robot 45 degrees **clockwise**:"
   ]
  },
  {
   "cell_type": "markdown",
   "id": "b5cfede2",
   "metadata": {},
   "source": [
    "```python\n",
    "from robot_simulator import *  # Starts simulator\n",
    "\n",
    "for i in range(10):\n",
    "    update_simulation(1, 0)  \n",
    "\n",
    "for i in range(45):\n",
    "    update_simulation(0, -1)  \n",
    "\n",
    "save_simulation_data()        # Outputs simulation as video and text file\n",
    "```"
   ]
  },
  {
   "cell_type": "markdown",
   "id": "17cf8803",
   "metadata": {
    "slideshow": {
     "slide_type": "slide"
    }
   },
   "source": [
    "Complete the exercises, writing programs to control the robot motion using the programming techniques you have learnt in weeks 1-3. \n",
    "\n",
    "You can edit main.py or create your own .py files within the same folder but remember each program MUST:\n",
    "\n",
    "- start with `from robot_simulator import *` \n",
    "\n",
    "- end with `save_simulation_data()` \n",
    "\n",
    "- use `update_simulation(v, w)` to update the simulation"
   ]
  },
  {
   "cell_type": "markdown",
   "id": "48046122",
   "metadata": {},
   "source": [
    "# Exercise 1: Practising using the simulator\n",
    "a) Write a program that makes the robot move forward 20 units and then back 20 units \n",
    "<br>b) Write a program that makes the robot turn clockwise 45 degrees, then anti-clockwise 90 degrees\n",
    "<br>c) Write a program that makes the robot move forward 10 units and then turn 90 degrees"
   ]
  },
  {
   "cell_type": "markdown",
   "id": "6d5f6c6c",
   "metadata": {},
   "source": [
    "# Exercise 2: Drawing shapes \n",
    "\n",
    "a) Make the robot drive in a square, with side length 20\n",
    "<br>b) Make a robot drive in an equilateral triangle, with side length 20\n",
    "\n",
    "Use nested loops to reduce repeated lines of code in your program\n",
    "\n",
    "** ADD PICTURES OF PATH **"
   ]
  },
  {
   "cell_type": "markdown",
   "id": "fa0cb451",
   "metadata": {},
   "source": [
    "\n",
    "\n",
    "```python\n",
    "# DRAWING A SQUARE\n",
    "\n",
    "from robot_simulator import *  # This line must be included at the START of your program\n",
    "\n",
    "# The square has 4 sides\n",
    "sides = 4\n",
    "\n",
    "# Each side is 20 units long\n",
    "side_length = 20\n",
    "\n",
    "# The angle at each corner is 90 degrees\n",
    "corner_angle = 90\n",
    "\n",
    "# Use of nested loops\n",
    "for i in range(sides):  \n",
    "    \n",
    "    # Moves the robot in straight line\n",
    "    for j in range(side_length):  \n",
    "        \n",
    "        update_simulation(1, 0) # v = 1 and w = 0  \n",
    "        \n",
    "    # Turns the robot\n",
    "    for k in range(corner_angle):\n",
    "        \n",
    "        update_simulation(0, 1) # v = 0 and w = 1 \n",
    "        \n",
    "save_simulation_data()      # This line must be included at the END of your program\n",
    "```"
   ]
  },
  {
   "cell_type": "markdown",
   "id": "c494d61d",
   "metadata": {},
   "source": [
    "```python\n",
    "# DRAWING A TRIANGLE\n",
    "```"
   ]
  },
  {
   "cell_type": "markdown",
   "id": "275d908d",
   "metadata": {},
   "source": [
    "# Exercise 3: Moving to a series of points\n",
    "Include the following line at the start of your program to import a `pi` which is $\\pi$ accurate to 15 decimal places:\n",
    "```python\n",
    "from math import pi\n",
    "```\n",
    "\n",
    "Write a program to drive the robot between a sequence of points.<br>The horizontal and vertical cooridinate of each point are given as two sequences, `x_sequence` and `y_sequence`\n",
    "\n",
    "```python\n",
    "x_sequence = [125, 150, 130, 50]\n",
    "y_sequence = [100, 50, 175, 75]\n",
    "```\n",
    "\n",
    "\n",
    "The robot has the initial position and heading angle. Define these variables in your program. \n",
    "```python\n",
    "x = 100\n",
    "y = 50\n",
    "theta = pi/2 \n",
    "```\n",
    "\n",
    "First, create a program that, for each point $p$, outputs the difference between the the coordinates of the point $(x_{p}$,$y_{p})$ and the coordinates of the previous point $(x_{p-1},y_{p-1})$:\n",
    "\n",
    "The horizontal distance from point $p-1$ to point $p$ is:\n",
    "$$d_x = x_{p}-x_{p-1}$$\n",
    "\n",
    "The vertical distance from point $p-1$ to to point $p$ is:\n",
    "$$d_y = y_{p}-y_{p-1}$$\n",
    "\n",
    "(For the first point in the sequence, $(x_{p-1},y_{p-1})$ has the initial coordinates `x = 100, y = 50`)\n",
    "\n",
    "\n",
    "### Motion strategy 1\n",
    "Our robot can only move by turning and moving in straight lines.\n",
    "\n",
    "Move between each point by:\n",
    "- first moving distance $d_x$ in the horizontal direction\n",
    "- then moving distance $d_y$ in the vertical direction\n"
   ]
  },
  {
   "cell_type": "code",
   "execution_count": null,
   "id": "c95296ad",
   "metadata": {},
   "outputs": [],
   "source": []
  },
  {
   "cell_type": "markdown",
   "id": "89a72414",
   "metadata": {},
   "source": [
    "A faster way to move between points it to convert from cartesian coordinates $(d_x, d_y)$ to polar coordinates, $(r, \\alpha)$. \n",
    "<br> where $\\alpha$ is the angle to turn to face the robot towards the point $p$, and $r$ is the distance to travel to reach $p$\n",
    "\n",
    "Include the following line at the start of your program to import the `atan2` function:\n",
    "```python\n",
    "from math import atan2\n",
    "```\n",
    "\n",
    "In your program, for each point:\n",
    "1. Find $r$: $$r= \\sqrt{d_x^2+d_y^2}$$ and round this distance to the closest whole number. \n",
    "1. Find $\\beta$, the angle that the robot would need to turn of it begins at the previous coordinates, with a heading of 0, using $$\\beta = atan2(\\frac{d_y}{d_x})$$We have imported the `atan2` function which can be used to compute `beta = atan2(dy, dx)`\n",
    "1. Use $\\beta$ to find $$\\alpha = \\beta - \\theta$$ where $\\theta$ is the heading of the robot at point $p-1$<br>(For the first point in the sequence, $\\theta$ has the initial coordinates `theta = pi/2 `)\n",
    "1. Convert angle $\\alpha$ to degrees (the units of rotation used in the simulation) using $\\frac{180\\alpha}{\\pi}$ \n",
    "1. Update heading of the robot with the value at point $p$, using $$\\theta=\\beta$$\n",
    "\n",
    "### Motion strategy 2\n",
    "\n",
    "Instead of using **Motion strategy 1**, the robot can move between each point by: \n",
    "- turning the robot by angle $\\alpha$, expressed in degrees *(Hint: Remember to check if the rotation is in the positive or negative direction)*\n",
    "- then moving the robot by distance $r$\n",
    "\n",
    "*Hint: Remember the robot can only move in units of 1 linear unit or 1 degree rotation. Round $r$ and $\\alpha$ to the closest whole number before inputting them to the simulation.*"
   ]
  },
  {
   "cell_type": "code",
   "execution_count": 16,
   "id": "18132967",
   "metadata": {},
   "outputs": [
    {
     "ename": "ModuleNotFoundError",
     "evalue": "No module named 'robot_simulator'",
     "output_type": "error",
     "traceback": [
      "\u001b[0;31m---------------------------------------------------------------------------\u001b[0m",
      "\u001b[0;31mModuleNotFoundError\u001b[0m                       Traceback (most recent call last)",
      "Cell \u001b[0;32mIn[16], line 1\u001b[0m\n\u001b[0;32m----> 1\u001b[0m \u001b[38;5;28;01mfrom\u001b[39;00m \u001b[38;5;21;01mrobot_simulator\u001b[39;00m \u001b[38;5;28;01mimport\u001b[39;00m \u001b[38;5;241m*\u001b[39m  \u001b[38;5;66;03m# This line must be included at the START of your program\u001b[39;00m\n\u001b[1;32m      2\u001b[0m \u001b[38;5;28;01mfrom\u001b[39;00m \u001b[38;5;21;01mmath\u001b[39;00m \u001b[38;5;28;01mimport\u001b[39;00m atan2, pi\n\u001b[1;32m      4\u001b[0m plt\u001b[38;5;241m.\u001b[39mion()\n",
      "\u001b[0;31mModuleNotFoundError\u001b[0m: No module named 'robot_simulator'"
     ]
    }
   ],
   "source": [
    "from robot_simulator import *  # This line must be included at the START of your program\n",
    "from math import atan2, pi\n",
    "\n",
    "plt.ion()\n",
    "\n",
    "x = 100\n",
    "y = 50\n",
    "theta = pi/2\n",
    "\n",
    "x_sequence = [125, 150, 130, 50]\n",
    "y_sequence = [100, 50, 175, 75]\n",
    "\n",
    "for x_new,y_new in zip(x_sequence, y_sequence):\n",
    "\n",
    "    delta_x = (x_new - x)\n",
    "    delta_y = (y_new - y)\n",
    "    \n",
    "    distance = (delta_x ** 2 + delta_y ** 2) ** (1/2)\n",
    "\n",
    "    beta = atan2(delta_y, delta_x)\n",
    "    alpha = beta - theta\n",
    "    angle_degrees = int(round(alpha * 180 / pi,0))\n",
    "\n",
    "    if angle_degrees >= 0:\n",
    "        for i in range(abs(angle_degrees)):\n",
    "            update_simulation(0, 1)\n",
    "    else:\n",
    "        for i in range(abs(angle_degrees)):\n",
    "            update_simulation(0, -1)\n",
    "\n",
    "    for i in range(int(distance)):\n",
    "        update_simulation(1, 0)\n",
    "\n",
    "    x = x_new\n",
    "    y = y_new\n",
    "    theta = beta\n",
    "    print('theta', theta)\n",
    "    print()\n",
    "\n",
    "save_simulation_data()  # This line must be included at the END of your program"
   ]
  },
  {
   "cell_type": "markdown",
   "id": "af9a435b",
   "metadata": {},
   "source": [
    "# Exercise 5\n",
    "Detecting the edge with a while loop using a single sensor \n",
    "A sequence is used to store the reading from sensor (1-6) each time the code loops. \n",
    "robot.sensor\n",
    "while loops\n",
    "comparison operators, logical operators \n",
    "if \n",
    "else\n",
    "elif "
   ]
  },
  {
   "cell_type": "markdown",
   "id": "92b56121",
   "metadata": {},
   "source": [
    "# Exercise 6\n",
    "Detecting obstacles  \n",
    "A sequence is used to store the reading from sensor (1-6) each time the code loops. \n",
    "robot.sensor\n",
    "while loops\n",
    "comparison operators, logical operators \n",
    "if \n",
    "else\n",
    "elif"
   ]
  },
  {
   "cell_type": "markdown",
   "id": "7f35c05d",
   "metadata": {},
   "source": [
    "# Exercise 7: Wall following\n",
    "Detecting obstacles  \n",
    "A sequence is used to store the reading from sensor (1-6) each time the code loops. \n",
    "robot.sensor\n",
    "while loops\n",
    "comparison operators, logical operators \n",
    "if \n",
    "else\n",
    "elif"
   ]
  },
  {
   "cell_type": "code",
   "execution_count": null,
   "id": "aace71ad",
   "metadata": {},
   "outputs": [],
   "source": []
  }
 ],
 "metadata": {
  "celltoolbar": "Slideshow",
  "kernelspec": {
   "display_name": "Python 3 (ipykernel)",
   "language": "python",
   "name": "python3"
  },
  "language_info": {
   "codemirror_mode": {
    "name": "ipython",
    "version": 3
   },
   "file_extension": ".py",
   "mimetype": "text/x-python",
   "name": "python",
   "nbconvert_exporter": "python",
   "pygments_lexer": "ipython3",
   "version": "3.10.9"
  }
 },
 "nbformat": 4,
 "nbformat_minor": 5
}
