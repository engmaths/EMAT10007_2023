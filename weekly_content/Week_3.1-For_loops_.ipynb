{
 "cells": [
  {
   "cell_type": "markdown",
   "metadata": {
    "slideshow": {
     "slide_type": "slide"
    }
   },
   "source": [
    "# Introduction to Computer Programming\n",
    "\n",
    "## For loops\n",
    "\n",
    "* * *\n",
    "\n",
    "<img src=\"img/full-colour-logo-UoB.png\" alt=\"Bristol\" style=\"width: 300px;\"/>"
   ]
  },
  {
   "cell_type": "markdown",
   "metadata": {
    "slideshow": {
     "slide_type": "slide"
    }
   },
   "source": [
    " \n",
    "\n",
    "Real world programmes usually need to:\n",
    "- choose between multiple possible sets of statements to execute\n",
    "- skip over some statements\n",
    "- repeatedly execute some statements"
   ]
  },
  {
   "cell_type": "markdown",
   "metadata": {
    "slideshow": {
     "slide_type": "slide"
    }
   },
   "source": [
    "# Iteration\n",
    "\n",
    "Repetitive executing a block of code is referred to as __iteration__.\n",
    "\n",
    "There are two types of iteration:\n",
    "- __Definite iteration__: number of repetitions is specified explicitly in advance\n",
    "- __Indefinite iteration__: the code block executes until some condition is met\n"
   ]
  },
  {
   "cell_type": "markdown",
   "metadata": {
    "slideshow": {
     "slide_type": "slide"
    }
   },
   "source": [
    "# `for` loop\n",
    "\n",
    "__Definite iteration__ control structures are referred to as __`for` loops__ in most programming languages, including Python.\n",
    "\n",
    "In Python, the `for` loop is based on an __iterable__ sequance of values."
   ]
  },
  {
   "cell_type": "markdown",
   "metadata": {
    "slideshow": {
     "slide_type": "slide"
    }
   },
   "source": [
    "\n",
    "\n",
    "`for` loops have the syntax:\n",
    "``` python\n",
    "for var in iterable:\n",
    "    operation\n",
    "```\n",
    "***\n",
    "The key ingredients are:\n",
    "1. The keywords `for` and `in`\n",
    "2. *iterable*: a *sequence* of values\n",
    "3. *var*: a variable that takes on the value of the next element in *iterable* with each iteration of the loop.\n",
    "4. A colon that follows *sequence*\n",
    "5. An indented block of code that is executed at each iteration of the loop."
   ]
  },
  {
   "cell_type": "markdown",
   "metadata": {
    "slideshow": {
     "slide_type": "slide"
    }
   },
   "source": [
    "# Example\n",
    "A `string` is an *iterable* object. \n",
    "\n",
    "It it a sequance of characters."
   ]
  },
  {
   "cell_type": "code",
   "execution_count": null,
   "metadata": {},
   "outputs": [],
   "source": []
  },
  {
   "cell_type": "markdown",
   "metadata": {
    "slideshow": {
     "slide_type": "fragment"
    }
   },
   "source": [
    "What sequence of events is happening here?\n",
    "\n",
    "1. The variable *i* is first assigned the value `'p'`, the first entry in the sequence\n",
    "2. Then the value of *i* is printed\n",
    "3. The variable *i* is assigned a new value `'y'`, the second entry in the sequence\n",
    "4. Then the value of *i* is printed again\n",
    "5. The process repeats until *i* has taken on every value in the sequence. \n",
    "6. The loop __terminates__"
   ]
  },
  {
   "cell_type": "markdown",
   "metadata": {
    "slideshow": {
     "slide_type": "slide"
    }
   },
   "source": [
    "# Generating a sequence\n",
    "\n",
    "Another way to create an iterable object is to enclose a sequence of variables in brackets `[]` "
   ]
  },
  {
   "cell_type": "markdown",
   "metadata": {
    "slideshow": {
     "slide_type": "slide"
    }
   },
   "source": [
    "# Example"
   ]
  },
  {
   "cell_type": "code",
   "execution_count": null,
   "metadata": {},
   "outputs": [],
   "source": []
  },
  {
   "cell_type": "markdown",
   "metadata": {
    "slideshow": {
     "slide_type": "fragment"
    }
   },
   "source": [
    "What sequence of events is happening here?\n",
    "\n",
    "Notice the *sequence* given to the for loop are the number `3, 5, 7, 8` enclosed in brackets `[]`\n",
    "\n",
    "1. The variable *i* is first assigned the value `3`, the first entry in the sequence\n",
    "2. Then the value of *i* is printed\n",
    "3. The variable *i* is assigned a new value `5`, the second entry in the sequence\n",
    "4. Then the value of *i* is printed again\n",
    "5. The process repeats until *i* has taken on every value in the sequence. \n",
    "6. The loop terminates"
   ]
  },
  {
   "cell_type": "markdown",
   "metadata": {
    "slideshow": {
     "slide_type": "slide"
    }
   },
   "source": [
    "# Example\n",
    "Loop over a sequence of strings"
   ]
  },
  {
   "cell_type": "code",
   "execution_count": null,
   "metadata": {},
   "outputs": [],
   "source": []
  },
  {
   "cell_type": "markdown",
   "metadata": {
    "slideshow": {
     "slide_type": "slide"
    }
   },
   "source": [
    "# Example\n",
    "Print the numbers 1 to 5"
   ]
  },
  {
   "cell_type": "code",
   "execution_count": null,
   "metadata": {},
   "outputs": [],
   "source": [
    "\n"
   ]
  },
  {
   "cell_type": "markdown",
   "metadata": {
    "slideshow": {
     "slide_type": "slide"
    }
   },
   "source": [
    "# Generating a range\n",
    "An iterable range of numbers can be generated automatically using the Python function `range`\n",
    "\n",
    "This can be more efficient than typing a sequence of numbers explcitly, expecially for long sequences\n",
    "\n",
    "`range` takes arguments:\n",
    "- (optional) start value (default value = 0)\n",
    "- stop value\n",
    "- (optional) step size (default value = +1)"
   ]
  },
  {
   "cell_type": "markdown",
   "metadata": {
    "slideshow": {
     "slide_type": "slide"
    }
   },
   "source": [
    "# Example\n",
    "Print the numbers 1 to 10 with the help of the `range` function.\n",
    "\n"
   ]
  },
  {
   "cell_type": "code",
   "execution_count": null,
   "metadata": {
    "slideshow": {
     "slide_type": "-"
    }
   },
   "outputs": [],
   "source": []
  },
  {
   "cell_type": "markdown",
   "metadata": {
    "slideshow": {
     "slide_type": "slide"
    }
   },
   "source": [
    "# Example\n",
    "\n",
    "Print the __even__ numbers between 0 and 10, including 0 and 10, in __decreasing__ order.\n",
    "\n",
    "- __Decreasing__: Starts at value other than 0, start (`10`) and stop (`-1`) argument needed\n",
    "\n",
    "- __Even__: Step size other than 1, step size (`-2`) argument needed\n",
    "\n"
   ]
  },
  {
   "cell_type": "code",
   "execution_count": null,
   "metadata": {},
   "outputs": [],
   "source": []
  },
  {
   "cell_type": "markdown",
   "metadata": {
    "slideshow": {
     "slide_type": "slide"
    }
   },
   "source": [
    "# The role of the indent\n",
    "\n",
    "The indent is used to determine which pieces of code are executed in the loop"
   ]
  },
  {
   "cell_type": "code",
   "execution_count": null,
   "metadata": {},
   "outputs": [],
   "source": []
  },
  {
   "cell_type": "markdown",
   "metadata": {
    "slideshow": {
     "slide_type": "fragment"
    }
   },
   "source": [
    "The loop involves three iterations\n",
    "\n",
    "Only the indented code is executed during each iteration"
   ]
  },
  {
   "cell_type": "markdown",
   "metadata": {
    "slideshow": {
     "slide_type": "slide"
    }
   },
   "source": [
    "# Example\n",
    "\n",
    "Use a `for` loop to sum the first five positive integers and print the final value\n",
    "\n",
    "1 + 2 + 3 + 4 + 5 = 15"
   ]
  },
  {
   "cell_type": "code",
   "execution_count": null,
   "metadata": {},
   "outputs": [],
   "source": []
  },
  {
   "cell_type": "markdown",
   "metadata": {
    "slideshow": {
     "slide_type": "slide"
    }
   },
   "source": [
    "# Example\n",
    "Use a `for` loop to find the product of the first three positive even numbers\n",
    "\n",
    "2 x 4 x 6 = 48"
   ]
  },
  {
   "cell_type": "code",
   "execution_count": null,
   "metadata": {},
   "outputs": [],
   "source": []
  },
  {
   "cell_type": "markdown",
   "metadata": {
    "slideshow": {
     "slide_type": "slide"
    }
   },
   "source": [
    "# Looping mutiple iterables with `zip`\n",
    "\n",
    "The `zip` function causes the `for` loop to iterate through 2 or more iterables, one element at a time\n",
    "\n",
    "__Input arguments__: iterables seperated by commas. \n",
    "\n",
    "__Output__: An elementwise series of groups (tuples) containing elements from each iterable. "
   ]
  },
  {
   "cell_type": "markdown",
   "metadata": {
    "slideshow": {
     "slide_type": "slide"
    }
   },
   "source": [
    "# Example\n",
    "\n",
    "Print each student name, next to their score"
   ]
  },
  {
   "cell_type": "code",
   "execution_count": null,
   "metadata": {},
   "outputs": [],
   "source": []
  },
  {
   "cell_type": "markdown",
   "metadata": {
    "slideshow": {
     "slide_type": "slide"
    }
   },
   "source": [
    "# Example\n",
    "\n",
    "Join each word from `sequence_1` with a word from `sequence_2` in the order they appear in the two sequences\n",
    "\n"
   ]
  },
  {
   "cell_type": "code",
   "execution_count": null,
   "metadata": {},
   "outputs": [],
   "source": []
  },
  {
   "cell_type": "markdown",
   "metadata": {
    "slideshow": {
     "slide_type": "slide"
    }
   },
   "source": [
    "### Need to see some more examples? \n",
    "https://www.w3schools.com/python/python_for_loops.asp\n",
    "<br>https://www.programiz.com/python-programming/for-loop\n",
    "<br>https://pynative.com/python-for-loop/\n",
    "\n",
    "### Want some more advanced information?\n",
    "https://realpython.com/python-for-loop/"
   ]
  },
  {
   "cell_type": "code",
   "execution_count": null,
   "metadata": {},
   "outputs": [],
   "source": []
  }
 ],
 "metadata": {
  "celltoolbar": "Slideshow",
  "kernelspec": {
   "display_name": "Python 3 (ipykernel)",
   "language": "python",
   "name": "python3"
  },
  "language_info": {
   "codemirror_mode": {
    "name": "ipython",
    "version": 3
   },
   "file_extension": ".py",
   "mimetype": "text/x-python",
   "name": "python",
   "nbconvert_exporter": "python",
   "pygments_lexer": "ipython3",
   "version": "3.10.9"
  }
 },
 "nbformat": 4,
 "nbformat_minor": 4
}
