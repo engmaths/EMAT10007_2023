{
 "cells": [
  {
   "cell_type": "markdown",
   "metadata": {
    "slideshow": {
     "slide_type": "slide"
    }
   },
   "source": [
    "# Introduction to Computer Programming\n",
    "\n",
    "## Week 7.3: Functional programming\n",
    "\n",
    "* * *\n",
    "\n",
    "<img src=\"img/full-colour-logo-UoB.png\" alt=\"Bristol\" style=\"width: 300px;\"/>"
   ]
  },
  {
   "cell_type": "markdown",
   "metadata": {
    "slideshow": {
     "slide_type": "slide"
    }
   },
   "source": [
    "# Overview\n",
    "\n",
    "We've seen how to define functions with inputs and outputs\n",
    "\n",
    "Now let's look at how to write good programmes using functions"
   ]
  },
  {
   "cell_type": "markdown",
   "metadata": {
    "slideshow": {
     "slide_type": "slide"
    }
   },
   "source": [
    "# Where should functions be defined?\n",
    "\n",
    "* A common convention is to define functions at the top of Python (.py) files\n",
    "    * Functions are defined one after the other\n",
    "* Do not define functions within functions\n",
    "    * This can be done, but it make code difficult to follow\n",
    "    * You can call functions within functions and should do this instead"
   ]
  },
  {
   "cell_type": "code",
   "execution_count": 3,
   "metadata": {
    "slideshow": {
     "slide_type": "slide"
    }
   },
   "outputs": [
    {
     "name": "stdout",
     "output_type": "stream",
     "text": [
      "(7, 12)\n"
     ]
    }
   ],
   "source": [
    "def add(a, b):\n",
    "    return a + b\n",
    "\n",
    "def mult(a, b):\n",
    "    return a * b\n",
    "\n",
    "def add_mult(a, b):\n",
    "    add_result = add(a, b)\n",
    "    mult_result = mult(a, b)\n",
    "    return add_result, mult_result\n",
    "\n",
    "print(add_mult(3, 4))"
   ]
  },
  {
   "cell_type": "markdown",
   "metadata": {
    "slideshow": {
     "slide_type": "slide"
    }
   },
   "source": [
    "# Documenting functions with docstrings\n",
    "\n",
    "Python programs often involve many user-defined functions, and it can be difficult to remember what they do and how they should be used.\n",
    "\n",
    "A **docstring** is text in triple quotation marks placed below the name of the function that explains what it does, what inputs (arguments) are required, and what output the function returns, if any"
   ]
  },
  {
   "cell_type": "code",
   "execution_count": 9,
   "metadata": {},
   "outputs": [],
   "source": [
    "def add(a, b):\n",
    "    \"\"\"\n",
    "    Adds two numbers, a and b, that are provided by the user and returns the result\n",
    "    \"\"\"\n",
    "    \n",
    "    return a + b"
   ]
  },
  {
   "cell_type": "markdown",
   "metadata": {
    "slideshow": {
     "slide_type": "slide"
    }
   },
   "source": [
    "Python's `help` function can be used to print the docstring:"
   ]
  },
  {
   "cell_type": "code",
   "execution_count": 10,
   "metadata": {},
   "outputs": [
    {
     "name": "stdout",
     "output_type": "stream",
     "text": [
      "Help on function add in module __main__:\n",
      "\n",
      "add(a, b)\n",
      "    Adds two numbers, a and b, that are provided by the user and returns the result\n",
      "\n"
     ]
    }
   ],
   "source": [
    "help(add)"
   ]
  },
  {
   "cell_type": "markdown",
   "metadata": {
    "slideshow": {
     "slide_type": "slide"
    }
   },
   "source": [
    "# Documentation within functions\n",
    "\n",
    "Sometimes, a single function can involve tens or hundreds of lines of code\n",
    "\n",
    "Functions should always be documented using regular comments, even if a docstring is used"
   ]
  },
  {
   "cell_type": "code",
   "execution_count": 12,
   "metadata": {
    "slideshow": {
     "slide_type": "slide"
    }
   },
   "outputs": [],
   "source": [
    "def add_mult(a, b):\n",
    "    \"\"\"\n",
    "    This function computes the sum and product of two numbers, a and b,\n",
    "    that are provided to the user.  A tuple that contains the sum and\n",
    "    product is returned\n",
    "    \"\"\"\n",
    "    \n",
    "    # the sum is computed using the add function\n",
    "    add_result = add(a, b)\n",
    "    \n",
    "    # the product is computed using the mult function\n",
    "    mult_result = mult(a, b)\n",
    "    \n",
    "    # the sum and product are returned\n",
    "    return add_result, mult_result\n"
   ]
  },
  {
   "cell_type": "markdown",
   "metadata": {
    "slideshow": {
     "slide_type": "slide"
    }
   },
   "source": [
    "# Argument names\n",
    "\n",
    "* Argument names should be\n",
    "    * clear\n",
    "    * concise\n",
    "    * descriptive"
   ]
  },
  {
   "cell_type": "markdown",
   "metadata": {
    "slideshow": {
     "slide_type": "slide"
    }
   },
   "source": [
    "# Summary\n",
    "\n",
    "* You should now be ready to write complex Python programmes using functions!\n",
    "* To make sure your programme is easy to follow:\n",
    "    * Define functions one after the other at the top of your .py file\n",
    "    * Use docstrings and comments to explain how your functions work\n",
    "    * Use short and descriptive names for functions and their arguments\n",
    "* In the Week 7 part of Blackboard, there are examples of good and bad .py files that use functional programming"
   ]
  }
 ],
 "metadata": {
  "celltoolbar": "Slideshow",
  "kernelspec": {
   "display_name": "Python 3 (ipykernel)",
   "language": "python",
   "name": "python3"
  },
  "language_info": {
   "codemirror_mode": {
    "name": "ipython",
    "version": 3
   },
   "file_extension": ".py",
   "mimetype": "text/x-python",
   "name": "python",
   "nbconvert_exporter": "python",
   "pygments_lexer": "ipython3",
   "version": "3.11.4"
  }
 },
 "nbformat": 4,
 "nbformat_minor": 4
}
