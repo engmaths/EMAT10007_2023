{
 "cells": [
  {
   "cell_type": "markdown",
   "id": "23bc864e",
   "metadata": {
    "slideshow": {
     "slide_type": "slide"
    }
   },
   "source": [
    "# Introduction to Computer Programming\n",
    "\n",
    "## Control Structures - Loops\n",
    "\n",
    "\n",
    "<img src=\"https://github.com/engmaths/EMAT10007_2023/blob/main/weekly_content/img/full-colour-logo-UoB.png?raw=true\" width=\"20%\">\n",
    "</p>"
   ]
  },
  {
   "cell_type": "markdown",
   "id": "23d8408f",
   "metadata": {
    "slideshow": {
     "slide_type": "slide"
    }
   },
   "source": [
    "### Open the Google Colab notebook for this lecture using the link on Blackboard\n",
    "\n",
    "Fill in the empty cells during the in-class exercises\n"
   ]
  },
  {
   "cell_type": "markdown",
   "id": "2d4ee0f2",
   "metadata": {
    "slideshow": {
     "slide_type": "fragment"
    }
   },
   "source": [
    "# Please sit in the same seat each week"
   ]
  },
  {
   "cell_type": "markdown",
   "id": "b79b04ec",
   "metadata": {
    "slideshow": {
     "slide_type": "slide"
    }
   },
   "source": [
    "# Video Q&A\n",
    "\n",
    "### Make use of the discussion board\n",
    "\n",
    "Blackboard page >> Course tools >> Discussion Board >> EMAT10007_2023_TB-1 >> Ask a question\n"
   ]
  },
  {
   "cell_type": "markdown",
   "id": "ba351f18",
   "metadata": {
    "slideshow": {
     "slide_type": "slide"
    }
   },
   "source": [
    " \n",
    "\n",
    "Real world programmes usually need to:\n",
    "- choose between multiple possible sets of statements to execute\n",
    "- skip over some statements\n",
    "- repeatedly execute some statements"
   ]
  },
  {
   "cell_type": "markdown",
   "id": "b46d7601",
   "metadata": {
    "slideshow": {
     "slide_type": "slide"
    }
   },
   "source": [
    "# Why do we use loops?\n",
    "\n",
    "A **loop** is a control structure that allows the same piece of code to be executed many times (iteration)\n",
    "\n",
    "This eliminates the need to repeatedly type or copy-and-paste code"
   ]
  },
  {
   "cell_type": "markdown",
   "id": "c8b12938",
   "metadata": {
    "slideshow": {
     "slide_type": "slide"
    }
   },
   "source": [
    "# What type of loop should we use? \n",
    "\n",
    "There are two types of loop \n",
    "\n",
    "- __`for` loop (Definite iteration)__: number of repetitions is specified explicitly in advance\n",
    "- __`while` loop(Indefinite iteration)__: the code block executes until some condition is met <br>i.e. when we are unsure exactly how many repetitions we need. \n"
   ]
  },
  {
   "cell_type": "markdown",
   "id": "331fd5e5",
   "metadata": {
    "slideshow": {
     "slide_type": "slide"
    }
   },
   "source": [
    "# Example\n",
    "\n",
    "A cubic number is an integer of the form $n^3$\n",
    "\n",
    "**Print all positive cubic numbers that are smaller than 100**\n",
    "\n",
    "<span style=\"color:blue\">What type of loop is most appropriate? (`while` or `for`)</span>\n",
    "\n"
   ]
  },
  {
   "cell_type": "code",
   "execution_count": 1,
   "id": "fdc5f8c0",
   "metadata": {},
   "outputs": [
    {
     "name": "stdout",
     "output_type": "stream",
     "text": [
      "1\n",
      "8\n",
      "27\n",
      "64\n"
     ]
    }
   ],
   "source": [
    "n = 1 \n",
    "\n",
    "while n**3 < 100:\n",
    "    print(n**3)\n",
    "    n+=1\n"
   ]
  },
  {
   "cell_type": "code",
   "execution_count": 2,
   "id": "3c5b7539",
   "metadata": {
    "slideshow": {
     "slide_type": "slide"
    }
   },
   "outputs": [
    {
     "name": "stdout",
     "output_type": "stream",
     "text": [
      "0\n",
      "1\n",
      "8\n",
      "27\n",
      "64\n"
     ]
    }
   ],
   "source": [
    "for n in range(100):\n",
    "    if n**3<100:\n",
    "        print(n**3)\n",
    "        "
   ]
  },
  {
   "cell_type": "markdown",
   "id": "e6eb981b",
   "metadata": {
    "slideshow": {
     "slide_type": "slide"
    }
   },
   "source": [
    "# Example\n",
    "\n",
    "A cubic number is an integer of the form $n^3$\n",
    "\n",
    "**Print the LARGEST positive cubic numbers that is smaller than 100**"
   ]
  },
  {
   "cell_type": "code",
   "execution_count": 3,
   "id": "ae4db143",
   "metadata": {},
   "outputs": [
    {
     "name": "stdout",
     "output_type": "stream",
     "text": [
      "64\n"
     ]
    }
   ],
   "source": [
    "n = 1\n",
    "\n",
    "while n**3 < 100:\n",
    "    largest = n**3\n",
    "    n+=1\n",
    "    \n",
    "print(largest)\n",
    "\n"
   ]
  },
  {
   "cell_type": "markdown",
   "id": "377bc3e2",
   "metadata": {},
   "source": [
    "When the loop terminates, the next indented line of code is run"
   ]
  },
  {
   "cell_type": "markdown",
   "id": "c49d4793",
   "metadata": {
    "slideshow": {
     "slide_type": "slide"
    }
   },
   "source": [
    "# Example\n",
    "\n",
    "Print the numbers from 10 to 0 in descending order. \n",
    "\n",
    "<span style=\"color:blue\">What type of loop is most appropriate?</span>\n"
   ]
  },
  {
   "cell_type": "code",
   "execution_count": 4,
   "id": "80634d38",
   "metadata": {},
   "outputs": [
    {
     "name": "stdout",
     "output_type": "stream",
     "text": [
      "10\n",
      "9\n",
      "8\n",
      "7\n",
      "6\n",
      "5\n",
      "4\n",
      "3\n",
      "2\n",
      "1\n",
      "0\n"
     ]
    }
   ],
   "source": [
    "for i in range(10, -1, -1):\n",
    "    print(i)\n",
    "\n"
   ]
  },
  {
   "cell_type": "markdown",
   "id": "44054d58",
   "metadata": {
    "slideshow": {
     "slide_type": "slide"
    }
   },
   "source": [
    "# Example\n",
    "\n",
    "<span style=\"color:blue\">In the Google Colab notebook for this lecture write out the following operation using a loop</span>\n",
    "\n",
    "<span style=\"color:blue\">What type of loop is most appropriate?</span>\n",
    "\n",
    "***\n",
    "\n",
    "Print the first five positive even integers"
   ]
  },
  {
   "cell_type": "code",
   "execution_count": 5,
   "id": "7ad22924",
   "metadata": {},
   "outputs": [
    {
     "name": "stdout",
     "output_type": "stream",
     "text": [
      "1\n",
      "2\n",
      "3\n",
      "4\n",
      "5\n"
     ]
    }
   ],
   "source": [
    "for i in range(1, 6):\n",
    "    print(i)\n",
    "\n"
   ]
  },
  {
   "cell_type": "markdown",
   "id": "d3daf9b2",
   "metadata": {
    "slideshow": {
     "slide_type": "slide"
    }
   },
   "source": [
    "# Example\n",
    "\n",
    "<span style=\"color:blue\">In the Google Colab notebook for this lecture write out the following operation using a loop</span>\n",
    "\n",
    "<span style=\"color:blue\">What type of loop is most appropriate?</span>\n",
    "\n",
    "***\n",
    "\n",
    "A square number is an integer of the form $n^2$.  \n",
    "\n",
    "Print the square numbers, starting from 1, that are smaller than 100."
   ]
  },
  {
   "cell_type": "code",
   "execution_count": 6,
   "id": "ae555e37",
   "metadata": {},
   "outputs": [
    {
     "name": "stdout",
     "output_type": "stream",
     "text": [
      "1\n",
      "4\n",
      "9\n",
      "16\n",
      "25\n",
      "36\n",
      "49\n",
      "64\n",
      "81\n"
     ]
    }
   ],
   "source": [
    "n = 1\n",
    "\n",
    "while n**2<100:\n",
    "    print(n**2)\n",
    "    n+=1\n",
    "\n"
   ]
  },
  {
   "cell_type": "markdown",
   "id": "56e7af82",
   "metadata": {
    "slideshow": {
     "slide_type": "slide"
    }
   },
   "source": [
    "# Applications of loops \n",
    "\n",
    "Some examples of loops used in real-world problems:\n",
    "- `for` loop: generating a sequence\n",
    "- `while` loop: responding to dynamic program input"
   ]
  },
  {
   "cell_type": "markdown",
   "id": "60d4b1d5",
   "metadata": {
    "slideshow": {
     "slide_type": "slide"
    }
   },
   "source": [
    "# The Fibonacci sequence \n",
    "The Fibonacci sequence is a sequence of numbers where each number is the sum of the two preceding ones:\n",
    "    $$ f_n = f_{n-1} + f_{n-2} $$\n",
    "    \n",
    "The ratio of the numbers in the sequence is found in many natural forms. \n",
    "\n",
    "<img src=\"https://github.com/engmaths/EMAT10007_2023/blob/main/weekly_content/img/Fibonacci.jpg?raw=true\" width=\"20%\">\n",
    "</p>\n",
    "\n"
   ]
  },
  {
   "cell_type": "markdown",
   "id": "58088e7c",
   "metadata": {
    "slideshow": {
     "slide_type": "slide"
    }
   },
   "source": [
    "\n",
    "The Fibonacci sequence is a sequence of numbers where each number is the sum of the two preceding ones.\n",
    "$$ f_n = f_{n-1} + f_{n-2} $$\n",
    "\n",
    "To compute the $n$th Fibonacci number, we need to know the Fibonacci numbers $n-1$ and $n-2$\n",
    "  "
   ]
  },
  {
   "cell_type": "markdown",
   "id": "955cde45",
   "metadata": {
    "slideshow": {
     "slide_type": "fragment"
    }
   },
   "source": [
    "<br>The first two numbers in the Fibonacci sequence are 0 and 1:\n",
    "    <br>$f_0 = 0$\n",
    "    <br> $f_1 = 1$ \n",
    "    \n",
    "<br>The following numbers in the Fibonacci sequence are computed as shown above:\n",
    "    <br>$f_2 = f_1 + f_0 = 1$\n",
    "    <br> $f_3 = f_2 + f_1 = 2$ \n",
    "    \n",
    "\n",
    "    \n",
    "The sequence starts: 0, 1, 1, 2, 3, 5, 8, ..."
   ]
  },
  {
   "cell_type": "markdown",
   "id": "0b48e912",
   "metadata": {
    "slideshow": {
     "slide_type": "slide"
    }
   },
   "source": [
    "We can compute the sequence by:"
   ]
  },
  {
   "cell_type": "code",
   "execution_count": 8,
   "id": "a235c1aa",
   "metadata": {
    "slideshow": {
     "slide_type": "-"
    }
   },
   "outputs": [
    {
     "name": "stdout",
     "output_type": "stream",
     "text": [
      "f 0 = 0\n",
      "f 1 = 1\n",
      "f 2 = 1\n",
      "f 3 = 2\n",
      "f 4 = 3\n"
     ]
    }
   ],
   "source": [
    "a = 0\n",
    "b = 1\n",
    "print('f 0 =', a)\n",
    "print('f 1 =', b)\n",
    "\n",
    "c = a + b \n",
    "print('f 2 =', c)\n",
    "\n",
    "d = b + c \n",
    "print('f 3 =', d)\n",
    "\n",
    "e = c + d \n",
    "print('f 4 =', e)"
   ]
  },
  {
   "cell_type": "markdown",
   "id": "b82ad8fd",
   "metadata": {
    "slideshow": {
     "slide_type": "slide"
    }
   },
   "source": [
    "Instead of creating new variables for each Fibonacci number, we can reuse variables each time we generate a new Fibonacci number. \n",
    "\n",
    "For each computation, we make `a` and `b` the two numbers we want to add"
   ]
  },
  {
   "cell_type": "code",
   "execution_count": 10,
   "id": "2ce1c607",
   "metadata": {},
   "outputs": [
    {
     "name": "stdout",
     "output_type": "stream",
     "text": [
      "f 0 = 0\n",
      "f 1 = 1\n",
      "f 2 = 1\n"
     ]
    }
   ],
   "source": [
    "a = 0\n",
    "b = 1\n",
    "print('f 0 =', a)\n",
    "print('f 1 =', b)\n",
    "\n",
    "c = a + b \n",
    "print('f 2 =', c)"
   ]
  },
  {
   "cell_type": "code",
   "execution_count": 11,
   "id": "e76292fb",
   "metadata": {
    "slideshow": {
     "slide_type": "fragment"
    }
   },
   "outputs": [
    {
     "name": "stdout",
     "output_type": "stream",
     "text": [
      "a= 1\n",
      "b= 1\n",
      "f 3 = 2\n"
     ]
    }
   ],
   "source": [
    "# Reassign a and b \n",
    "a = b   \n",
    "b = c\n",
    "\n",
    "print('a=', a)\n",
    "print('b=', b)\n",
    "\n",
    "# Compute next fibonacci \n",
    "c = a + b \n",
    "print('f 3 =', c)"
   ]
  },
  {
   "cell_type": "code",
   "execution_count": 12,
   "id": "34c2d6b3",
   "metadata": {
    "slideshow": {
     "slide_type": "slide"
    }
   },
   "outputs": [
    {
     "name": "stdout",
     "output_type": "stream",
     "text": [
      "f 4 = 3\n"
     ]
    }
   ],
   "source": [
    "# Reassign a and b \n",
    "a = b   \n",
    "b = c\n",
    "\n",
    "# Compute next fibonacci \n",
    "c = a + b \n",
    "print('f 4 =', c)"
   ]
  },
  {
   "cell_type": "markdown",
   "id": "ad63bb72",
   "metadata": {},
   "source": [
    "We can see that the code is becoming quite repetative..."
   ]
  },
  {
   "cell_type": "markdown",
   "id": "c0a2f2fc",
   "metadata": {
    "slideshow": {
     "slide_type": "slide"
    }
   },
   "source": [
    "\n",
    "\n",
    "To handle this repetition more efficiently, we can use a `for` loop\n",
    "\n",
    "The code is much shorter\n"
   ]
  },
  {
   "cell_type": "code",
   "execution_count": 13,
   "id": "b7cf0a51",
   "metadata": {},
   "outputs": [
    {
     "name": "stdout",
     "output_type": "stream",
     "text": [
      "f 0 = 0\n",
      "f 1 = 1\n",
      "f 2 = 1\n",
      "f 3 = 2\n",
      "f 4 = 3\n",
      "f 5 = 5\n"
     ]
    }
   ],
   "source": [
    "a = 0\n",
    "b = 1\n",
    "print('f', 0, '=', a)\n",
    "print('f', 1, '=', b)\n",
    "\n",
    "for i in range(2, 6):\n",
    "    c = a + b\n",
    "    \n",
    "    print('f', i, '=', c)\n",
    "\n",
    "    a = b\n",
    "    b = c\n",
    "    \n"
   ]
  },
  {
   "cell_type": "markdown",
   "id": "dfd31d22",
   "metadata": {
    "slideshow": {
     "slide_type": "slide"
    }
   },
   "source": [
    "# Ada Lovelace Day \n",
    "\n",
    "Today is Ada Lovelace Day!\n",
    "\n",
    "  \n",
    "\n",
    "\n",
    "<img src=\"https://github.com/engmaths/EMAT10007_2023/blob/main/weekly_content/img/lovelace.png?raw=true\" width=\"20%\">\n",
    "</p>\n",
    "\n"
   ]
  },
  {
   "cell_type": "markdown",
   "id": "dfcf4d08",
   "metadata": {
    "slideshow": {
     "slide_type": "fragment"
    }
   },
   "source": [
    "Ada Lovelace (1815-1852) was mathematician known for her work on a conceptual computer, the Analytical Engine,  proposed by another mathematician Charles Babbage. \n",
    "\n",
    "While never actually built, Babbage's concept for a general-purpose computer is widely regarded as the first of its kind."
   ]
  },
  {
   "cell_type": "markdown",
   "id": "0b63fa5a",
   "metadata": {
    "slideshow": {
     "slide_type": "fragment"
    }
   },
   "source": [
    "\n",
    "Ada Lovelace is celebrated as one of the first 'computer programmers', having developed algorithms to automate complex mathematical processes, even before the machines to run these programs had been invented. "
   ]
  },
  {
   "cell_type": "markdown",
   "id": "7a2e55e5",
   "metadata": {
    "slideshow": {
     "slide_type": "slide"
    }
   },
   "source": [
    "Ada Lovelace's paper, *Note G on the Analytical Engine* (1842) describes an algorithm for generating Bernoulli numbers using Babbage's machine.\n",
    "\n",
    "Bernoulli numbers are a sequence of rational numbers which can be used, for example, to compute the sum of m-th powers of the first n positive integers $$1^m + 2^m + 3^m + ... + n^m$$\n",
    "<br>(see link to Faulhaber's formula on final slide)"
   ]
  },
  {
   "cell_type": "markdown",
   "id": "4fd256e8",
   "metadata": {
    "slideshow": {
     "slide_type": "slide"
    }
   },
   "source": [
    "The sequence of Bernoulli numbers can be generated using the formula: $$B_n = - \\sum_{k=0}^{n-1} \\frac{n!}{(n+1-k)!k!} B_k$$\n",
    "\n",
    "Where $n$ factorial, $n!$, is the product of a positive integer, $n$ with all positive integers below it:<br>\n",
    "$n! = n \\times (n-1) \\times ... \\times 1$\n",
    "\n"
   ]
  },
  {
   "cell_type": "markdown",
   "id": "716cedca",
   "metadata": {
    "slideshow": {
     "slide_type": "fragment"
    }
   },
   "source": [
    "To compute the $n$th Bernoulli number you need to know the previous $n-1$ Bernoulli numbers. \n",
    "\n",
    "The first 10 values in the sequence are: \n",
    "\n",
    "| $n$| 0| 1 | 2 | 3 | 4 | 5 | 6| 7 | 8 | 9 | 10 |\n",
    "| :---:| :---:| :---:|:---:|:---:|:---:|:---:|:---:|:---:|:---:|:---:|:---:|\n",
    "| $B_n$| 1| -1/2 | 1/6 | 0 | -1/30 | 0 | 1/42 | 0 | -1/30 | 0 |5/66|\n",
    "|\n",
    "\n",
    "<br>(From $n=3$ odd terms are 0 and all even terms alternate in sign)"
   ]
  },
  {
   "cell_type": "markdown",
   "id": "fd1fb355",
   "metadata": {
    "slideshow": {
     "slide_type": "slide"
    }
   },
   "source": [
    "Functions that require previous values to compute the current value (e.g. Fibonacci series, Bernoulli numbers) are known as *recursive functions* (we will study these later on the unit). \n",
    "\n",
    "The need for previous values makes the $n$th value increasingly time consuming to compute by hand as $n$ gets larger."
   ]
  },
  {
   "cell_type": "markdown",
   "id": "fd83fbe2",
   "metadata": {
    "slideshow": {
     "slide_type": "slide"
    }
   },
   "source": [
    "$$B_n = - \\sum_{k=0}^{n-1} \\frac{n!}{(n+1-k)!k!} B_k$$\n",
    "\n",
    "\n",
    "This implementation is similar to Lovelace's program.\n",
    "\n",
    "It uses almost!) only the techniques you have studied so far:"
   ]
  },
  {
   "cell_type": "code",
   "execution_count": 44,
   "id": "03da5b74",
   "metadata": {},
   "outputs": [
    {
     "name": "stdout",
     "output_type": "stream",
     "text": [
      "[1, -0.5, 0.16666666666666669, 0, -0.03333333333333338, 0, 0.023809523809524058, 0, -0.033333333333335075, 0, 0.07575757575759257]\n"
     ]
    }
   ],
   "source": [
    "# Import a function to compute factorial \n",
    "from math import factorial \n",
    "\n",
    "# Nth Bernoulli number to calculate\n",
    "N = 10\n",
    "\n",
    "# Sequence to store Bernoulli numbers\n",
    "B = [1]\n",
    "\n",
    "# Loop though each preceding value of N\n",
    "for n in range(1, N+1):\n",
    "    \n",
    "    # Initial value for Bernoulli number\n",
    "    b = 0\n",
    "\n",
    "    # Loop though each value of k to find the sum\n",
    "    for k in range(0, n):\n",
    "        b += factorial(n) / (factorial(n+1-k) * factorial(k)) * B[k]\n",
    "\n",
    "    # Multiply the result by minus 1\n",
    "    b *= -1\n",
    "\n",
    "    # If number is very small, let number = 0 (floating point error) \n",
    "    if abs(b) < 1e-14: \n",
    "        b = 0\n",
    "        \n",
    "    # Add computed Bernoulli number to sequence\n",
    "    B.insert(n, b)\n",
    "\n",
    "# Print sequence\n",
    "print(B)\n"
   ]
  },
  {
   "cell_type": "markdown",
   "id": "7bbdccb7",
   "metadata": {
    "slideshow": {
     "slide_type": "slide"
    }
   },
   "source": [
    "The program contained some of the first demonstrations of variable reassignment and control structures (in the form of nested loops). \n",
    "\n",
    "\n"
   ]
  },
  {
   "cell_type": "markdown",
   "id": "18aa6470",
   "metadata": {
    "slideshow": {
     "slide_type": "slide"
    }
   },
   "source": [
    "The factorial of $n$:\n",
    "<br>$n! = n \\times (n-1) \\times ... \\times 1$ \n",
    "<br>can also be calculated with a `for` loop:"
   ]
  },
  {
   "cell_type": "code",
   "execution_count": 5,
   "id": "daeb21b6",
   "metadata": {},
   "outputs": [
    {
     "name": "stdout",
     "output_type": "stream",
     "text": [
      "6\n"
     ]
    }
   ],
   "source": [
    "N = 3\n",
    "\n",
    "factorial = 1\n",
    "for i in range(1, N+1):\n",
    "    factorial*=i\n",
    "    \n",
    "print(factorial)"
   ]
  },
  {
   "cell_type": "markdown",
   "id": "6ceeba3b",
   "metadata": {
    "slideshow": {
     "slide_type": "slide"
    }
   },
   "source": [
    "# `while` loops with dynamic input\n",
    "\n",
    "`while` loops are used within systems with variables that change value dynamically during the runtime of the programme.\n",
    "\n",
    "Consider the following example:\n",
    "- `while` button is pressed, move conveyor belt\n",
    "- `while` temperature below boiling point, heat kettle\n",
    "- `while` password is incorrect, ask user for password \n",
    "\n",
    "In each case there is some uncertainty in what the external input will be, so we need an indefinite loop"
   ]
  },
  {
   "cell_type": "markdown",
   "id": "7a5bb9dd",
   "metadata": {
    "slideshow": {
     "slide_type": "slide"
    }
   },
   "source": [
    "We can use the Python function `input()` to create external inputs to a program\n",
    "\n",
    "`input()`:\n",
    "- displays a string given in the parentheses `()` to the user\n",
    "- accepts typed input from the user\n",
    "- outputs this types input within the program as a string"
   ]
  },
  {
   "cell_type": "code",
   "execution_count": 14,
   "id": "14a1e1a2",
   "metadata": {},
   "outputs": [
    {
     "name": "stdout",
     "output_type": "stream",
     "text": [
      "Enter username: hemma\n"
     ]
    }
   ],
   "source": [
    "username = input('Enter username: ')\n"
   ]
  },
  {
   "cell_type": "markdown",
   "id": "986d2e26",
   "metadata": {
    "slideshow": {
     "slide_type": "slide"
    }
   },
   "source": [
    "# Example: `while` loop with dynamic input\n",
    "\n",
    "Write a program that prompts the user to guess the value of a whole number until the correct number is guessed\n",
    "\n",
    "The `None` Python keyword is used to define a null or empty value.\n",
    "\n",
    "```python\n",
    "correct_number = 5\n",
    "number = None \n",
    "```"
   ]
  },
  {
   "cell_type": "code",
   "execution_count": 16,
   "id": "d80fd7ee",
   "metadata": {
    "slideshow": {
     "slide_type": "-"
    }
   },
   "outputs": [
    {
     "name": "stdout",
     "output_type": "stream",
     "text": [
      "Guess the number 4\n",
      "Guess the number 6\n",
      "Guess the number 8\n",
      "Guess the number 5\n"
     ]
    }
   ],
   "source": [
    "correct_number = 5\n",
    "number = None\n",
    "\n",
    "while number != correct_number:\n",
    "    \n",
    "    number = input('Guess the number ')\n",
    "    \n",
    "    number = int(number)\n",
    "    \n",
    "    "
   ]
  },
  {
   "cell_type": "markdown",
   "id": "9d3fd8b4",
   "metadata": {
    "slideshow": {
     "slide_type": "slide"
    }
   },
   "source": [
    "# Example: `while` loop with dynamic input\n",
    "\n",
    "<span style=\"color:blue\">In the Google Colab notebook for this lecture write out the following operation using a loop</span>\n",
    "\n",
    "Write a program that prompts the user for a username until a valid username is given\n",
    "\n",
    "```python\n",
    "valid_username = 'hemma'\n",
    "username = ''\n",
    "```"
   ]
  },
  {
   "cell_type": "code",
   "execution_count": 17,
   "id": "43d31e1c",
   "metadata": {},
   "outputs": [
    {
     "name": "stdout",
     "output_type": "stream",
     "text": [
      "Enter username : lisa\n",
      "Enter username : hp\n",
      "Enter username : Hemma\n",
      "Enter username : hemma\n"
     ]
    }
   ],
   "source": [
    "valid_username = 'hemma'\n",
    "username = ''\n",
    "\n",
    "while username != valid_username:\n",
    "    username = input('Enter username : ')\n",
    "\n"
   ]
  },
  {
   "cell_type": "markdown",
   "id": "4b4b1c2a",
   "metadata": {
    "slideshow": {
     "slide_type": "slide"
    }
   },
   "source": [
    "# Nested loops\n",
    "Control structures including loops can be nested to arbitrary depth. \n",
    "\n",
    "Nesting refers to a control structure within a control structure\n",
    "\n",
    "In other words, an 'inner' control structure within the indented block of code of an 'outer' control structre\n",
    "\n",
    "This allows more complex repetition in a program. "
   ]
  },
  {
   "cell_type": "markdown",
   "id": "2fd33f04",
   "metadata": {
    "slideshow": {
     "slide_type": "slide"
    }
   },
   "source": [
    "# Example: Nested `for` loops\n",
    "Use nested loops to print a 5 x 5 multiplication table "
   ]
  },
  {
   "cell_type": "code",
   "execution_count": 18,
   "id": "0280ae68",
   "metadata": {},
   "outputs": [
    {
     "name": "stdout",
     "output_type": "stream",
     "text": [
      "1\t2\t3\t4\t5\t\n",
      "2\t4\t6\t8\t10\t\n",
      "3\t6\t9\t12\t15\t\n",
      "4\t8\t12\t16\t20\t\n",
      "5\t10\t15\t20\t25\t\n"
     ]
    }
   ],
   "source": [
    "for i in range(1, 6):\n",
    "    for j in range(1, 6):\n",
    "        print(i*j, end='\\t')\n",
    "    print()\n"
   ]
  },
  {
   "cell_type": "markdown",
   "id": "39538c63",
   "metadata": {
    "slideshow": {
     "slide_type": "slide"
    }
   },
   "source": [
    "What sequence of events is happening here?\n",
    "\n",
    "1. The outer loop is entered\n",
    "1. The variable `i` is assigned the value `1`, the __first__ entry in the sequence\n",
    "1. The inner loop is entered\n",
    "1. The variable `j` is assigned the value `1`, the __first__ entry in the sequence\n",
    "1. The value of `i*j` is printed, ending with a tab '\\t' character which:\n",
    "   <br>- prevents the next value being printed on a new row\n",
    "   <br>- gives equal spacing between value in the row\n",
    "1. The inner loop iterates (which prints the first row of the table) until termination by exhaustion. <br>Note: During this process, the outer loop retains the same value `i=1`.\n",
    "1. The next line (`print()`) is executed which starts a new row\n",
    "1. Now the execution position returns to the loop of the outer loop\n",
    "1. The outer loop is entered\n",
    "1. The variable `i` is assigned the value `2`, the __second__ entry in the sequence (i.e. step 2 is repeated)\n",
    "1. Steps 2-9 repeat until the outer loop terminates by exhaustion \n"
   ]
  },
  {
   "cell_type": "markdown",
   "id": "2bcf6260",
   "metadata": {
    "slideshow": {
     "slide_type": "slide"
    }
   },
   "source": [
    "# Example: Nested `for` and `while` loops\n",
    "\n",
    "Write a program for teaching young children about the alphabet\n",
    "\n",
    "Iterate through each letter in the sequence `['a', 'b', 'c']`\n",
    "\n",
    "Ask the word beginning with the letter until a correct answer is given\n"
   ]
  },
  {
   "cell_type": "code",
   "execution_count": 20,
   "id": "c381e8d4",
   "metadata": {},
   "outputs": [
    {
     "name": "stdout",
     "output_type": "stream",
     "text": [
      "Enter a word beginning with a :bed\n",
      "Enter a word beginning with a :apple\n",
      "Enter a word beginning with b :frog\n",
      "Enter a word beginning with b :beetle\n",
      "Enter a word beginning with c :dog\n",
      "Enter a word beginning with c :cat\n"
     ]
    }
   ],
   "source": [
    "sequence = ['a', 'b', 'c']\n",
    "\n",
    "for letter in sequence:\n",
    "    word = ' '\n",
    "    \n",
    "    while word[0]!=letter:\n",
    "        word = input('Enter a word beginning with ' + letter + ' :')\n"
   ]
  },
  {
   "cell_type": "markdown",
   "id": "43403072",
   "metadata": {
    "slideshow": {
     "slide_type": "slide"
    }
   },
   "source": [
    "What sequence of events is happening here?\n",
    "\n",
    "1. The outer `for` loop is entered\n",
    "1. The variable `letter` is assigned the value `a`, the __first__ entry in the sequence\n",
    "1. The controlling expression of the `while` loop is evaulated. <br>The initial value of `word` is not equal to the current value of `letter` so the inner `while` loop is entered\n",
    "1. The variable `word` is assigned the value input by the user \n",
    "1. The program execution returns to the top of the inner `while` loop and the controlling expression is evaulated.\n",
    "   <br>- `True`: The program execution goes to step 4\n",
    "   <br>- `False` : The `while` loop terminates \n",
    "   <br>&nbsp;&nbsp;&nbsp;&nbsp;&nbsp;&nbsp;&nbsp;&nbsp;&nbsp;&nbsp;&nbsp;&nbsp;&nbsp;&nbsp;&nbsp;&nbsp;&nbsp;  The program execution returns to the top of the outer `for` loop. <br>&nbsp;&nbsp;&nbsp;&nbsp;&nbsp;&nbsp;&nbsp;&nbsp;&nbsp;&nbsp;&nbsp;&nbsp;&nbsp;&nbsp;&nbsp;&nbsp;&nbsp; The variable `letter` is assigned the next value (`b`)\n",
    "1. Steps 3-5 are repeated until the `for` loop terminates by exhaustion\n"
   ]
  },
  {
   "cell_type": "markdown",
   "id": "7724b39f",
   "metadata": {
    "slideshow": {
     "slide_type": "slide"
    }
   },
   "source": [
    "# Example: `break`\n",
    "\n",
    "The temperature in degrees C (sequence `temp`) is recorded at 10 time steps (sequence `time`). \n",
    "\n",
    "Print the time step and temperature up to and including when the temperature first exceeds 30 degrees C. \n",
    "\n",
    "```python\n",
    "time = range(10)\n",
    "temp = [22.0, 23.1, 25.7, 27.5, 32.0, 30.6, 31.2, 32.0, 27.8, 29.2]\n",
    "```"
   ]
  },
  {
   "cell_type": "code",
   "execution_count": null,
   "id": "6f844721",
   "metadata": {},
   "outputs": [],
   "source": []
  },
  {
   "cell_type": "markdown",
   "id": "49065cb5",
   "metadata": {
    "slideshow": {
     "slide_type": "slide"
    }
   },
   "source": [
    "# Example: `break`\n",
    "\n",
    "<span style=\"color:blue\">In the Google Colab notebook for this lecture write out the following operation using a loop</span>\n",
    "\n",
    "Print positive integers in the range 10 to 20. \n",
    "\n",
    "Terminate the loop without printing if a multiple of 8 is reached.  "
   ]
  },
  {
   "cell_type": "code",
   "execution_count": null,
   "id": "8c0955a0",
   "metadata": {
    "slideshow": {
     "slide_type": "-"
    }
   },
   "outputs": [],
   "source": []
  },
  {
   "cell_type": "markdown",
   "id": "9f485bdf",
   "metadata": {
    "slideshow": {
     "slide_type": "slide"
    }
   },
   "source": [
    "# Example: `continue`\n",
    "\n",
    "`if...continue` is similar to `if...else` in practise.\n",
    "\n",
    "`continue` can reduce indentation making code neater and easier to manage \n",
    "\n",
    "**For each number in a sequence of integers, print `odd` if the number if odd and `even` if the number is even.** "
   ]
  },
  {
   "cell_type": "code",
   "execution_count": 63,
   "id": "7553dd7c",
   "metadata": {
    "slideshow": {
     "slide_type": "-"
    }
   },
   "outputs": [
    {
     "name": "stdout",
     "output_type": "stream",
     "text": [
      "even\n",
      "odd\n",
      "even\n",
      "even\n"
     ]
    }
   ],
   "source": [
    "sequence = [0, 1, 2, 4]\n",
    "\n",
    "for number in sequence:  \n",
    "    if number % 2:\n",
    "        print('odd')\n",
    "    else:\n",
    "        print('even')"
   ]
  },
  {
   "cell_type": "code",
   "execution_count": 64,
   "id": "3670666b",
   "metadata": {
    "slideshow": {
     "slide_type": "fragment"
    }
   },
   "outputs": [
    {
     "name": "stdout",
     "output_type": "stream",
     "text": [
      "even\n",
      "odd\n",
      "even\n",
      "even\n"
     ]
    }
   ],
   "source": [
    "for number in sequence:  \n",
    "    if number % 2:\n",
    "        print('odd')\n",
    "        continue\n",
    "    print('even')"
   ]
  },
  {
   "cell_type": "markdown",
   "id": "1b5e1343",
   "metadata": {
    "slideshow": {
     "slide_type": "slide"
    }
   },
   "source": [
    "# For-else\n",
    "A structure using `for` loops and `break` that is less often used but can be useful at times. \n",
    "\n",
    "The indented code after the `else` statement is executed if the `for` loop terminates by exhaustion of the iterable. \n",
    "\n",
    "In other words, if the loop never terminates by running `break`. \n",
    " "
   ]
  },
  {
   "cell_type": "code",
   "execution_count": 26,
   "id": "25eab18b",
   "metadata": {},
   "outputs": [
    {
     "name": "stdout",
     "output_type": "stream",
     "text": [
      "Didn't find any odd numbers\n"
     ]
    }
   ],
   "source": [
    "for i in [6, 2, 4]:\n",
    "    if i%2:\n",
    "        print(\"Found odd number\")\n",
    "        break \n",
    "        \n",
    "else:\n",
    "    print(\"Didn't find any odd numbers\") \n"
   ]
  },
  {
   "cell_type": "markdown",
   "id": "392f67ca",
   "metadata": {
    "slideshow": {
     "slide_type": "fragment"
    }
   },
   "source": [
    "\n",
    "Note: `continue` cannot be substituted for `break` as the loop will still terminate by exhaustion of the iterable."
   ]
  },
  {
   "cell_type": "markdown",
   "id": "6c71cd25",
   "metadata": {
    "slideshow": {
     "slide_type": "slide"
    }
   },
   "source": [
    "# Summary\n",
    "\n",
    "**Loops** are used to repeatedly execute blocks of code\n",
    "* `for` loops are used to execute code a certain number of times\n",
    "* `while` loops are used to execute code until a condition is satisfied\n",
    "* The `break` keyword will terminate a loop (useful for avoiding **infinite loops**!)\n",
    "* The `continue` keyword enables blocks of code to be skipped in a loop\n",
    "* All control structures in Python use indentation to define blocks."
   ]
  },
  {
   "cell_type": "markdown",
   "id": "fc70ddcf",
   "metadata": {
    "slideshow": {
     "slide_type": "slide"
    }
   },
   "source": [
    "### Need to see some more examples? \n",
    "__`for` loops__\n",
    "<br>https://www.w3schools.com/python/python_for_loops.asp\n",
    "<br>https://www.programiz.com/python-programming/for-loop\n",
    "<br>https://pynative.com/python-for-loop/\n",
    "\n",
    "__`while` loops__\n",
    "<br>https://www.w3schools.com/python/python_while_loops.asp\n",
    "<br>https://www.programiz.com/python-programming/while-loop\n",
    "<br>https://pynative.com/python-while-loop/\n",
    "\n",
    "### Want to take a quiz?\n",
    "https://realpython.com/quizzes/python-while-loop/\n",
    "<br>https://pythongeeks.org/quizzes/quiz-on-python-loops/\n",
    "\n",
    "### Want some more advanced information?\n",
    "__`for` loops__\n",
    "<br>https://realpython.com/python-for-loop/\n",
    "\n",
    "__`while` loops__\n",
    "<br>https://realpython.com/python-while-loop/\n"
   ]
  },
  {
   "cell_type": "markdown",
   "id": "e643ca85",
   "metadata": {
    "slideshow": {
     "slide_type": "slide"
    }
   },
   "source": [
    "### Need some more examples of control structures (weeks 2 and 3)?\n",
    "https://pynative.com/python-if-else-and-for-loop-exercise-with-solutions/\n",
    "\n",
    "\n",
    "### Want to take a quiz on control structures (weeks 2 and 3)?\n",
    "https://pynative.com/python-if-else-and-for-loop-quiz/\n",
    "\n",
    "### Want to learn more about Ada Lovelace's work?\n",
    "https://projectlovelace.net/problems/ada-lovelaces-note-g/#:~:text=Derivation%20of%20Ada%20Lovelace's%20algorithm&text=The%20Bernoulli%20numbers%20B%20n,use%20to%20program%20a%20computer\n",
    "\n",
    "https://twobithistory.org/2018/08/18/ada-lovelace-note-g.html\n",
    "\n",
    "**Bernoulli  numbers**\n",
    "<br>https://en.wikipedia.org/wiki/Bernoulli_number\n",
    "\n",
    "**Faulhaber's formula**\n",
    "<br>https://en.wikipedia.org/wiki/Faulhaber%27s_formula"
   ]
  },
  {
   "cell_type": "code",
   "execution_count": null,
   "id": "20fa2d7e",
   "metadata": {},
   "outputs": [],
   "source": []
  },
  {
   "cell_type": "markdown",
   "id": "085994b0",
   "metadata": {
    "slideshow": {
     "slide_type": "skip"
    }
   },
   "source": [
    "# Example: `while` loop with dynamic input\n",
    "\n",
    "Use `if...else` inside of the loop to give some clues to the user\n",
    "\n",
    "If the number is less than the correct number, display `'number too big'`\n",
    "\n",
    "If the number is greater than the correct number, display `'number too small'`"
   ]
  },
  {
   "cell_type": "code",
   "execution_count": 27,
   "id": "0bc1f1c2",
   "metadata": {
    "slideshow": {
     "slide_type": "skip"
    }
   },
   "outputs": [
    {
     "name": "stdout",
     "output_type": "stream",
     "text": [
      "Enter number: 4\n",
      "number too small\n",
      "Enter number: 5\n"
     ]
    }
   ],
   "source": [
    "correct_number = 5\n",
    "number = None \n",
    "\n",
    "while number != correct_number:\n",
    "    \n",
    "    number = input('Enter number: ')\n",
    "    \n",
    "    # Convert string to integer\n",
    "    number = int(number)\n",
    "    \n",
    "    if number > correct_number:\n",
    "        print('number too big')\n",
    "        \n",
    "    elif number < correct_number:\n",
    "        print('number too small')"
   ]
  },
  {
   "cell_type": "code",
   "execution_count": null,
   "id": "7450e1e2",
   "metadata": {},
   "outputs": [],
   "source": []
  }
 ],
 "metadata": {
  "celltoolbar": "Slideshow",
  "kernelspec": {
   "display_name": "Python 3 (ipykernel)",
   "language": "python",
   "name": "python3"
  },
  "language_info": {
   "codemirror_mode": {
    "name": "ipython",
    "version": 3
   },
   "file_extension": ".py",
   "mimetype": "text/x-python",
   "name": "python",
   "nbconvert_exporter": "python",
   "pygments_lexer": "ipython3",
   "version": "3.11.4"
  }
 },
 "nbformat": 4,
 "nbformat_minor": 5
}
