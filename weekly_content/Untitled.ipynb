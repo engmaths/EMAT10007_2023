{
 "cells": [
  {
   "cell_type": "code",
   "execution_count": null,
   "id": "14d9e7f2",
   "metadata": {},
   "outputs": [],
   "source": []
  },
  {
   "cell_type": "markdown",
   "id": "6fb96e41",
   "metadata": {
    "slideshow": {
     "slide_type": "slide"
    }
   },
   "source": [
    "# `if`... `else`\n",
    "- Runs a block of code only `if` the Boolean value of a condition is `True` \n",
    "- Otherwise runs a *different* block of code \n",
    "\n",
    "<center>\n",
    "  <img src=\"img/if_else_flow_.png\" alt=\"Drawing\" style=\"width: 400px;\"/>\n",
    "</center>"
   ]
  },
  {
   "cell_type": "code",
   "execution_count": 14,
   "id": "a0085f77",
   "metadata": {
    "slideshow": {
     "slide_type": "slide"
    }
   },
   "outputs": [
    {
     "name": "stdout",
     "output_type": "stream",
     "text": [
      "Do that\n",
      "Further code\n"
     ]
    }
   ],
   "source": [
    "x = 7\n",
    "\n",
    "if x > 10:\n",
    "    print(\"Do this\") # if condition is True\n",
    "    \n",
    "else:\n",
    "    print(\"Do that\") # if condition is False\n",
    "    \n",
    "print(\"Further code\")\n"
   ]
  },
  {
   "cell_type": "markdown",
   "id": "70b331e6",
   "metadata": {
    "slideshow": {
     "slide_type": "fragment"
    }
   },
   "source": [
    "__Note: <br>Only one__ of the indented blocks of code (after `if` __or__ after `else`) is executed! "
   ]
  },
  {
   "cell_type": "markdown",
   "id": "c30705de",
   "metadata": {
    "slideshow": {
     "slide_type": "slide"
    }
   },
   "source": [
    "### Example\n",
    "\n",
    "A digital thermostat checks the current temperature read by a sensor and compares it to a preset temperature. \n",
    "\n",
    "The heating is switched:\n",
    "- __ON__ if temperature lower than preset temperature\n",
    "- __OFF__ if temperature higher than, or same as, preset temperature\n",
    "\n",
    "<center>\n",
    "  <img align = \"right\" src=\"img/thermostat.png\" alt=\"Drawing\" style=\"width: 300px;\"/>\n",
    "</center>\n",
    "\n",
    "Write a program to simulate the behaviour of the digital thermostat, by using a variable `temp` to represent the current temperature.\n",
    "\n"
   ]
  },
  {
   "cell_type": "code",
   "execution_count": 16,
   "id": "d6275cb5",
   "metadata": {
    "slideshow": {
     "slide_type": "slide"
    }
   },
   "outputs": [
    {
     "name": "stdout",
     "output_type": "stream",
     "text": [
      "True\n"
     ]
    }
   ],
   "source": [
    "temp = 12   # Current temperature degrees celcius\n",
    "preset = 19 # Preset \n",
    "\n",
    "if temp < preset:\n",
    "    heat = True\n",
    "    \n",
    "else:\n",
    "    heat = False\n",
    "    \n",
    "print(heat)\n"
   ]
  },
  {
   "cell_type": "code",
   "execution_count": null,
   "id": "5c5e17d9",
   "metadata": {},
   "outputs": [],
   "source": []
  }
 ],
 "metadata": {
  "kernelspec": {
   "display_name": "Python 3 (ipykernel)",
   "language": "python",
   "name": "python3"
  },
  "language_info": {
   "codemirror_mode": {
    "name": "ipython",
    "version": 3
   },
   "file_extension": ".py",
   "mimetype": "text/x-python",
   "name": "python",
   "nbconvert_exporter": "python",
   "pygments_lexer": "ipython3",
   "version": "3.10.9"
  }
 },
 "nbformat": 4,
 "nbformat_minor": 5
}
