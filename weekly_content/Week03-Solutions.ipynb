{
 "cells": [
  {
   "cell_type": "markdown",
   "metadata": {},
   "source": [
    "# Exercise 1 - For loops"
   ]
  },
  {
   "cell_type": "markdown",
   "metadata": {},
   "source": [
    "**Question 1.**"
   ]
  },
  {
   "cell_type": "code",
   "execution_count": 2,
   "metadata": {},
   "outputs": [
    {
     "name": "stdout",
     "output_type": "stream",
     "text": [
      "p 0\n",
      "y 1\n",
      "t 2\n",
      "h 3\n",
      "o 4\n",
      "n 5\n"
     ]
    }
   ],
   "source": [
    "a = 'python'\n",
    "length = len(a)\n",
    "for i in range(len(a)):\n",
    "    print(a[i], i)"
   ]
  },
  {
   "cell_type": "markdown",
   "metadata": {},
   "source": [
    "***\n",
    "**Question 2.**\n",
    "\n",
    "There are three mistakes here:\n",
    "\n",
    "1. the second argument to `range` should be 11\n",
    "2. the colon is missing \n",
    "3. the indent is missing"
   ]
  },
  {
   "cell_type": "code",
   "execution_count": 6,
   "metadata": {},
   "outputs": [
    {
     "name": "stdout",
     "output_type": "stream",
     "text": [
      "275\n"
     ]
    }
   ],
   "source": [
    "total = 0\n",
    "for i in range(1,11):\n",
    "    total = total + 5 * i\n",
    "    \n",
    "print(total)"
   ]
  },
  {
   "cell_type": "markdown",
   "metadata": {},
   "source": [
    "***\n",
    "**Question 3**"
   ]
  },
  {
   "cell_type": "code",
   "execution_count": 7,
   "metadata": {},
   "outputs": [
    {
     "name": "stdout",
     "output_type": "stream",
     "text": [
      "3628800\n"
     ]
    }
   ],
   "source": [
    "n = 10\n",
    "factorial = 1\n",
    "\n",
    "for i in range(1, n+1):\n",
    "    factorial *= i\n",
    "\n",
    "print(factorial)"
   ]
  },
  {
   "cell_type": "markdown",
   "metadata": {},
   "source": [
    "***\n",
    "**Question 4**"
   ]
  },
  {
   "cell_type": "code",
   "execution_count": 2,
   "metadata": {},
   "outputs": [
    {
     "name": "stdout",
     "output_type": "stream",
     "text": [
      "12\n"
     ]
    }
   ],
   "source": [
    "num_cubes = 0\n",
    "\n",
    "for n in range(1, 2000):\n",
    "    \n",
    "    if n**3 < 2000:\n",
    "        num_cubes += 1\n",
    "        \n",
    "    else:\n",
    "        break\n",
    "        \n",
    "print(num_cubes)"
   ]
  },
  {
   "cell_type": "markdown",
   "metadata": {},
   "source": [
    "***\n",
    "**Question 5.** "
   ]
  },
  {
   "cell_type": "code",
   "execution_count": 107,
   "metadata": {},
   "outputs": [
    {
     "name": "stdout",
     "output_type": "stream",
     "text": [
      "5\n",
      "1\n",
      "2\n",
      "Fizz\n",
      "4\n",
      "Buzz\n"
     ]
    }
   ],
   "source": [
    "mult3 = \"Fizz\" \n",
    "mult5 = \"Buzz\"\n",
    "limit = 0\n",
    "\n",
    "limit = int(input())\n",
    "\n",
    "for i in range(1,limit+1):\n",
    "    if i% 15 == 0:\n",
    "        print(mult3+mult5)\n",
    "    elif i%3 == 0:\n",
    "        print(mult3)\n",
    "    elif i%5 == 0:\n",
    "        print(mult5)\n",
    "    else:\n",
    "        print(i)"
   ]
  },
  {
   "cell_type": "markdown",
   "metadata": {},
   "source": [
    "***\n",
    "# Exercise 2 - While loops"
   ]
  },
  {
   "cell_type": "markdown",
   "metadata": {},
   "source": [
    "**Question 1.**"
   ]
  },
  {
   "cell_type": "code",
   "execution_count": 103,
   "metadata": {},
   "outputs": [
    {
     "name": "stdout",
     "output_type": "stream",
     "text": [
      "Target letter is at position 6\n"
     ]
    }
   ],
   "source": [
    "word = \"Hello World\"\n",
    "target_letter = \"W\"\n",
    "i = 0\n",
    "\n",
    "while target_letter != word[i]:\n",
    "    i += 1\n",
    "    \n",
    "print(\"Target letter is at position\", i)"
   ]
  },
  {
   "cell_type": "markdown",
   "metadata": {},
   "source": [
    "We need to increment $i$ to avoid an infinite loop"
   ]
  },
  {
   "cell_type": "markdown",
   "metadata": {},
   "source": [
    "***\n",
    "**Question 2.**  It is best to use a `for` loop for this problem because we want to compare target_letter against all of the letters in word"
   ]
  },
  {
   "cell_type": "code",
   "execution_count": 104,
   "metadata": {},
   "outputs": [
    {
     "name": "stdout",
     "output_type": "stream",
     "text": [
      "Target letter is at position 4\n",
      "Target letter is at position 7\n"
     ]
    }
   ],
   "source": [
    "word = \"Hello World\"\n",
    "target_letter = \"o\"\n",
    "i = 0\n",
    "\n",
    "for l in word:\n",
    "    \n",
    "    if l == target_letter:\n",
    "        \n",
    "        print(\"Target letter is at position\", i)\n",
    "        \n",
    "    i += 1"
   ]
  },
  {
   "cell_type": "markdown",
   "metadata": {},
   "source": [
    "***\n",
    "**Question 3.**"
   ]
  },
  {
   "cell_type": "code",
   "execution_count": 105,
   "metadata": {},
   "outputs": [
    {
     "data": {
      "text/plain": [
       "2"
      ]
     },
     "execution_count": 105,
     "metadata": {},
     "output_type": "execute_result"
    }
   ],
   "source": [
    "word.find('l')"
   ]
  },
  {
   "cell_type": "markdown",
   "metadata": {},
   "source": [
    "***\n",
    "**Question 4.**"
   ]
  },
  {
   "cell_type": "code",
   "execution_count": 106,
   "metadata": {},
   "outputs": [
    {
     "name": "stdout",
     "output_type": "stream",
     "text": [
      "The answer is 144\n"
     ]
    }
   ],
   "source": [
    "cumulative_sum=0\n",
    "counter=0\n",
    "\n",
    "while cumulative_sum<1000000:\n",
    "    \n",
    "    counter += 1\n",
    "    \n",
    "    cumulative_sum += (counter**2)\n",
    "\n",
    "print(\"The answer is\", str(counter))"
   ]
  },
  {
   "cell_type": "markdown",
   "metadata": {},
   "source": [
    "***\n",
    "**Question 5.**"
   ]
  },
  {
   "cell_type": "code",
   "execution_count": 46,
   "metadata": {},
   "outputs": [
    {
     "name": "stdout",
     "output_type": "stream",
     "text": [
      "The cumulative sum after 1 terms is 1\n",
      "The cumulative sum after 2 terms is 5\n",
      "The cumulative sum after 3 terms is 14\n",
      "The cumulative sum after 4 terms is 30\n",
      "The cumulative sum after 5 terms is 55\n",
      "The cumulative sum after 6 terms is 91\n",
      "The cumulative sum after 7 terms is 140\n",
      "The cumulative sum after 8 terms is 204\n",
      "The cumulative sum after 9 terms is 285\n",
      "The cumulative sum after 10 terms is 385\n",
      "The cumulative sum after 11 terms is 506\n",
      "The cumulative sum after 12 terms is 650\n",
      "The cumulative sum after 13 terms is 819\n",
      "The cumulative sum after 14 terms is 1015\n",
      "The cumulative sum after 15 terms is 1240\n",
      "The cumulative sum after 16 terms is 1496\n",
      "The cumulative sum after 17 terms is 1785\n",
      "The cumulative sum after 18 terms is 2109\n",
      "The cumulative sum after 19 terms is 2470\n",
      "The cumulative sum after 20 terms is 2870\n",
      "The cumulative sum after 21 terms is 3311\n",
      "The cumulative sum after 22 terms is 3795\n",
      "The cumulative sum after 23 terms is 4324\n",
      "The cumulative sum after 24 terms is 4900\n",
      "The cumulative sum after 25 terms is 5525\n",
      "The cumulative sum after 26 terms is 6201\n",
      "The cumulative sum after 27 terms is 6930\n",
      "The cumulative sum after 28 terms is 7714\n",
      "The cumulative sum after 29 terms is 8555\n",
      "The cumulative sum after 30 terms is 9455\n",
      "The cumulative sum after 31 terms is 10416\n",
      "The cumulative sum after 32 terms is 11440\n",
      "The cumulative sum after 33 terms is 12529\n",
      "The cumulative sum after 34 terms is 13685\n",
      "The cumulative sum after 35 terms is 14910\n",
      "The cumulative sum after 36 terms is 16206\n",
      "The cumulative sum after 37 terms is 17575\n",
      "The cumulative sum after 38 terms is 19019\n",
      "The cumulative sum after 39 terms is 20540\n",
      "The cumulative sum after 40 terms is 22140\n",
      "The cumulative sum after 41 terms is 23821\n",
      "The cumulative sum after 42 terms is 25585\n",
      "The cumulative sum after 43 terms is 27434\n",
      "The cumulative sum after 44 terms is 29370\n",
      "The cumulative sum after 45 terms is 31395\n",
      "The cumulative sum after 46 terms is 33511\n",
      "The cumulative sum after 47 terms is 35720\n",
      "The cumulative sum after 48 terms is 38024\n",
      "The cumulative sum after 49 terms is 40425\n",
      "The cumulative sum after 50 terms is 42925\n",
      "The cumulative sum after 51 terms is 45526\n",
      "The cumulative sum after 52 terms is 48230\n",
      "The cumulative sum after 53 terms is 51039\n",
      "The cumulative sum after 54 terms is 53955\n",
      "The cumulative sum after 55 terms is 56980\n",
      "The cumulative sum after 56 terms is 60116\n",
      "The cumulative sum after 57 terms is 63365\n",
      "The cumulative sum after 58 terms is 66729\n",
      "The cumulative sum after 59 terms is 70210\n",
      "The cumulative sum after 60 terms is 73810\n",
      "The cumulative sum after 61 terms is 77531\n",
      "The cumulative sum after 62 terms is 81375\n",
      "The cumulative sum after 63 terms is 85344\n",
      "The cumulative sum after 64 terms is 89440\n",
      "The cumulative sum after 65 terms is 93665\n",
      "The cumulative sum after 66 terms is 98021\n",
      "The cumulative sum after 67 terms is 102510\n",
      "The cumulative sum after 68 terms is 107134\n",
      "The cumulative sum after 69 terms is 111895\n",
      "The cumulative sum after 70 terms is 116795\n",
      "The cumulative sum after 71 terms is 121836\n",
      "The cumulative sum after 72 terms is 127020\n",
      "The cumulative sum after 73 terms is 132349\n",
      "The cumulative sum after 74 terms is 137825\n",
      "The cumulative sum after 75 terms is 143450\n",
      "The cumulative sum after 76 terms is 149226\n",
      "The cumulative sum after 77 terms is 155155\n",
      "The cumulative sum after 78 terms is 161239\n",
      "The cumulative sum after 79 terms is 167480\n",
      "The cumulative sum after 80 terms is 173880\n",
      "The cumulative sum after 81 terms is 180441\n",
      "The cumulative sum after 82 terms is 187165\n",
      "The cumulative sum after 83 terms is 194054\n",
      "The cumulative sum after 84 terms is 201110\n",
      "The cumulative sum after 85 terms is 208335\n",
      "The cumulative sum after 86 terms is 215731\n",
      "The cumulative sum after 87 terms is 223300\n",
      "The cumulative sum after 88 terms is 231044\n",
      "The cumulative sum after 89 terms is 238965\n",
      "The cumulative sum after 90 terms is 247065\n",
      "The cumulative sum after 91 terms is 255346\n",
      "The cumulative sum after 92 terms is 263810\n",
      "The cumulative sum after 93 terms is 272459\n",
      "The cumulative sum after 94 terms is 281295\n",
      "The cumulative sum after 95 terms is 290320\n",
      "The cumulative sum after 96 terms is 299536\n",
      "The cumulative sum after 97 terms is 308945\n",
      "The cumulative sum after 98 terms is 318549\n",
      "The cumulative sum after 99 terms is 328350\n",
      "The cumulative sum after 100 terms is 338350\n",
      "The cumulative sum after 101 terms is 348551\n",
      "The cumulative sum after 102 terms is 358955\n",
      "The cumulative sum after 103 terms is 369564\n",
      "The cumulative sum after 104 terms is 380380\n",
      "The cumulative sum after 105 terms is 391405\n",
      "The cumulative sum after 106 terms is 402641\n",
      "The cumulative sum after 107 terms is 414090\n",
      "The cumulative sum after 108 terms is 425754\n",
      "The cumulative sum after 109 terms is 437635\n",
      "The cumulative sum after 110 terms is 449735\n",
      "The cumulative sum after 111 terms is 462056\n",
      "The cumulative sum after 112 terms is 474600\n",
      "The cumulative sum after 113 terms is 487369\n",
      "The cumulative sum after 114 terms is 500365\n",
      "The cumulative sum after 115 terms is 513590\n",
      "The cumulative sum after 116 terms is 527046\n",
      "The cumulative sum after 117 terms is 540735\n",
      "The cumulative sum after 118 terms is 554659\n",
      "The cumulative sum after 119 terms is 568820\n",
      "The cumulative sum after 120 terms is 583220\n",
      "The cumulative sum after 121 terms is 597861\n",
      "The cumulative sum after 122 terms is 612745\n",
      "The cumulative sum after 123 terms is 627874\n",
      "The cumulative sum after 124 terms is 643250\n",
      "The cumulative sum after 125 terms is 658875\n",
      "The cumulative sum after 126 terms is 674751\n",
      "The cumulative sum after 127 terms is 690880\n",
      "The cumulative sum after 128 terms is 707264\n",
      "The cumulative sum after 129 terms is 723905\n",
      "The cumulative sum after 130 terms is 740805\n",
      "The cumulative sum after 131 terms is 757966\n",
      "The cumulative sum after 132 terms is 775390\n",
      "The cumulative sum after 133 terms is 793079\n",
      "The cumulative sum after 134 terms is 811035\n",
      "The cumulative sum after 135 terms is 829260\n",
      "The cumulative sum after 136 terms is 847756\n",
      "The cumulative sum after 137 terms is 866525\n",
      "The cumulative sum after 138 terms is 885569\n",
      "The cumulative sum after 139 terms is 904890\n",
      "The cumulative sum after 140 terms is 924490\n",
      "The cumulative sum after 141 terms is 944371\n",
      "The cumulative sum after 142 terms is 964535\n",
      "The cumulative sum after 143 terms is 984984\n",
      "The cumulative sum after 144 terms is 1005720\n",
      "The answer is 144\n"
     ]
    }
   ],
   "source": [
    "cumulativeSum=0\n",
    "counter=0\n",
    "\n",
    "while cumulative_sum<1000000:\n",
    "    \n",
    "    counter += 1\n",
    "    \n",
    "    cumulative_sum += (counter**2)\n",
    "    \n",
    "    print('The cumulative sum after', counter, 'terms is', cumulativeSum)\n",
    "\n",
    "print(\"The answer is\", str(counter))"
   ]
  },
  {
   "cell_type": "markdown",
   "metadata": {},
   "source": [
    "***\n",
    "**Question 6.**"
   ]
  },
  {
   "cell_type": "code",
   "execution_count": 12,
   "metadata": {},
   "outputs": [
    {
     "name": "stdout",
     "output_type": "stream",
     "text": [
      "Target letter is at position 6\n"
     ]
    }
   ],
   "source": [
    "word = \"Hello World\"\n",
    "target_letter = \"W\"\n",
    "enum = list(enumerate(word))\n",
    "\n",
    "for e in enum:\n",
    "    \n",
    "    if e[1] == target_letter:\n",
    "        \n",
    "        print(\"Target letter is at position\", e[0])\n",
    "        \n",
    "        break"
   ]
  },
  {
   "cell_type": "markdown",
   "metadata": {},
   "source": [
    "***\n",
    "**Question 7.**"
   ]
  },
  {
   "cell_type": "code",
   "execution_count": 14,
   "metadata": {},
   "outputs": [
    {
     "name": "stdout",
     "output_type": "stream",
     "text": [
      "2.0\n"
     ]
    }
   ],
   "source": [
    "nums = [1,2,3]\n",
    "\n",
    "total = 0\n",
    "\n",
    "for n in nums:\n",
    "    total += n\n",
    "    \n",
    "mean = total/len(nums)\n",
    "\n",
    "print(mean)"
   ]
  },
  {
   "cell_type": "markdown",
   "metadata": {},
   "source": [
    "***\n",
    "# Exercise 3 - Modelling with loops"
   ]
  },
  {
   "cell_type": "markdown",
   "metadata": {},
   "source": [
    "***\n",
    "**Question 1.**"
   ]
  },
  {
   "cell_type": "code",
   "execution_count": 68,
   "metadata": {},
   "outputs": [
    {
     "name": "stdout",
     "output_type": "stream",
     "text": [
      "After 29 years the value of the account is £411.61\n"
     ]
    }
   ],
   "source": [
    "total = 100\n",
    "counter = 0\n",
    "\n",
    "while total < 400:\n",
    "    counter += 1\n",
    "    total = total * 1.05\n",
    "    \n",
    "print(f'After {counter} years the value of the account is £{round(total, 2)}')"
   ]
  },
  {
   "cell_type": "markdown",
   "metadata": {},
   "source": [
    "***\n",
    "**Question 2.**"
   ]
  },
  {
   "cell_type": "code",
   "execution_count": 97,
   "metadata": {},
   "outputs": [
    {
     "name": "stdout",
     "output_type": "stream",
     "text": [
      "At time 0.0, 0.0 m travelled\n",
      "At time 0.1, 0.049 m travelled\n",
      "At time 0.2, 0.196 m travelled\n",
      "At time 0.3, 0.441 m travelled\n",
      "At time 0.4, 0.785 m travelled\n",
      "At time 0.5, 1.226 m travelled\n",
      "At time 0.6, 1.766 m travelled\n",
      "At time 0.7, 2.403 m travelled\n",
      "At time 0.8, 3.139 m travelled\n",
      "At time 0.9, 3.973 m travelled\n",
      "At time 1.0, 4.905 m travelled\n",
      "At time 1.1, 5.935 m travelled\n",
      "At time 1.2, 7.063 m travelled\n",
      "At time 1.3, 8.289 m travelled\n",
      "At time 1.4, 9.614 m travelled\n",
      "At time 1.5, 11.036 m travelled\n",
      "At time 1.6, 12.557 m travelled\n",
      "At time 1.7, 14.175 m travelled\n",
      "At time 1.8, 15.892 m travelled\n",
      "At time 1.9, 17.707 m travelled\n",
      "At time 2.0, 19.62 m travelled\n"
     ]
    }
   ],
   "source": [
    "u = 0\n",
    "a = 9.81\n",
    "for t in range(0, 21):\n",
    "    t /= 10\n",
    "    d = u*t + 1/2*a*t**2\n",
    "    print(f'At time {t}, {round(d, 3)} m travelled')"
   ]
  },
  {
   "cell_type": "markdown",
   "metadata": {},
   "source": [
    "***\n",
    "**Question 3.A:** The code to compute the 10th Fibonacci numbers is:"
   ]
  },
  {
   "cell_type": "code",
   "execution_count": 77,
   "metadata": {},
   "outputs": [
    {
     "name": "stdout",
     "output_type": "stream",
     "text": [
      "0\n",
      "1\n",
      "1\n",
      "2\n",
      "3\n",
      "5\n",
      "8\n",
      "13\n",
      "21\n",
      "34\n"
     ]
    }
   ],
   "source": [
    "n = 10\n",
    "a = 0\n",
    "b = 1\n",
    "\n",
    "print(a)\n",
    "print(b)\n",
    "\n",
    "for x in range(n-2):\n",
    "    c = a + b # Calculate next Fibonacci number\n",
    "    a = b     # Update values of last two Fibonacci numbers  \n",
    "    b = c\n",
    "    print(c)"
   ]
  },
  {
   "cell_type": "code",
   "execution_count": 78,
   "metadata": {},
   "outputs": [
    {
     "name": "stdout",
     "output_type": "stream",
     "text": [
      "[0, 1, 1, 2, 3, 5, 8, 13, 21, 34]\n"
     ]
    }
   ],
   "source": [
    "n = 10\n",
    "fib = [0, 1]\n",
    "\n",
    "for i in range(n-2):\n",
    "    \n",
    "    f = fib[i+1] + fib[i] # Calculate next Fibonacci number\n",
    "    \n",
    "    fib.append(f)         # Add Fibonaaci number to series\n",
    "\n",
    "print(fib)"
   ]
  },
  {
   "cell_type": "markdown",
   "metadata": {},
   "source": [
    "***\n",
    "**Question 3.B:** The code to compute the number of Fibonacci numbers is:"
   ]
  },
  {
   "cell_type": "code",
   "execution_count": 5,
   "metadata": {},
   "outputs": [
    {
     "name": "stdout",
     "output_type": "stream",
     "text": [
      "There are 12 Fibonacci numbers below 100\n"
     ]
    }
   ],
   "source": [
    "# first Fibonacci number\n",
    "a = 0\n",
    "\n",
    "# second Fibonacci number\n",
    "b = 1\n",
    "\n",
    "# number of Fibonacci numbers\n",
    "counter = 2\n",
    "\n",
    "while a + b < 100:\n",
    "    \n",
    "    # compute next Fibonacci number and update counter\n",
    "    c = a + b\n",
    "    counter += 1\n",
    "    \n",
    "    # update the values of a and b\n",
    "    a = b\n",
    "    b = c\n",
    "        \n",
    "print('There are', counter, 'Fibonacci numbers below 100')"
   ]
  },
  {
   "cell_type": "code",
   "execution_count": 6,
   "metadata": {},
   "outputs": [
    {
     "name": "stdout",
     "output_type": "stream",
     "text": [
      "There are 17 Fibonacci numbers below 1,000\n"
     ]
    }
   ],
   "source": [
    "while a + b < 1_000:\n",
    "    \n",
    "    # compute next Fibonacci number and update counter\n",
    "    c = a + b\n",
    "    counter += 1\n",
    "    \n",
    "    # update the values of a and b\n",
    "    a = b\n",
    "    b = c\n",
    "        \n",
    "print('There are', counter, 'Fibonacci numbers below 1,000')"
   ]
  },
  {
   "cell_type": "code",
   "execution_count": 7,
   "metadata": {},
   "outputs": [
    {
     "name": "stdout",
     "output_type": "stream",
     "text": [
      "There are 21 Fibonacci numbers below 10,000\n"
     ]
    }
   ],
   "source": [
    "while a + b < 10_000:\n",
    "    \n",
    "    # compute next Fibonacci number and update counter\n",
    "    c = a + b\n",
    "    counter += 1\n",
    "    \n",
    "    # update the values of a and b\n",
    "    a = b\n",
    "    b = c\n",
    "        \n",
    "print('There are', counter, 'Fibonacci numbers below 10,000')"
   ]
  },
  {
   "cell_type": "markdown",
   "metadata": {},
   "source": [
    "You can make the code more efficient by using a `for` loop to cycle through question (b) i, ii, iii"
   ]
  },
  {
   "cell_type": "code",
   "execution_count": 8,
   "metadata": {},
   "outputs": [
    {
     "name": "stdout",
     "output_type": "stream",
     "text": [
      "There are 12 Fibonacci numbers below 100\n",
      "There are 17 Fibonacci numbers below 1000\n",
      "There are 21 Fibonacci numbers below 10000\n"
     ]
    }
   ],
   "source": [
    "# first Fibonacci number\n",
    "a = 0\n",
    "\n",
    "# second Fibonacci number\n",
    "b = 1\n",
    "\n",
    "# number of Fibonacci numbers\n",
    "counter = 2\n",
    "\n",
    "for i in [100, 1000, 10000]:\n",
    "\n",
    "    while a + b < i:\n",
    "\n",
    "        # compute next Fibonacci number and update counter\n",
    "        c = a + b\n",
    "        counter += 1\n",
    "\n",
    "        # update the values of a and b\n",
    "        a = b\n",
    "        b = c\n",
    "\n",
    "    print(f'There are {counter} Fibonacci numbers below {i}')"
   ]
  },
  {
   "cell_type": "markdown",
   "metadata": {},
   "source": [
    "***\n",
    "**Question 4.**"
   ]
  },
  {
   "cell_type": "code",
   "execution_count": 73,
   "metadata": {},
   "outputs": [
    {
     "name": "stdout",
     "output_type": "stream",
     "text": [
      "2, 3, 5, 7, 11, 13, 17, 19, 23, 29, 31, 37, 41, 43, 47, 53, 59, 61, 67, 71, 73, 79, 83, 89, 97, 101, 103, 107, 109, 113, 127, 131, 137, 139, 149, "
     ]
    }
   ],
   "source": [
    "for i in range(1, 150):\n",
    "    \n",
    "    # Default status \n",
    "    status = 'prime'\n",
    "    \n",
    "    for j in range(2, i):\n",
    "        if i % j :\n",
    "            pass\n",
    "        \n",
    "        else:\n",
    "            status = 'not prime'\n",
    "            break\n",
    "            \n",
    "    if status == 'prime' and i!=1:\n",
    "        print(i, end=', ')\n",
    "        "
   ]
  },
  {
   "cell_type": "code",
   "execution_count": 1,
   "metadata": {},
   "outputs": [
    {
     "name": "stdout",
     "output_type": "stream",
     "text": [
      "2, 3, 5, 7, 11, 13, 17, 19, 23, 29, 31, 37, 41, 43, 47, 53, 59, 61, 67, 71, 73, 79, 83, 89, 97, 101, 103, 107, 109, 113, 127, 131, 137, 139, 149, "
     ]
    }
   ],
   "source": [
    "for i in range(1, 150):\n",
    "    \n",
    "    # Default status \n",
    "    status = 'prime'\n",
    "    \n",
    "    for j in range(2, i):\n",
    "        if i % j == 0:\n",
    "            status = 'not prime'\n",
    "            break\n",
    "        \n",
    "            \n",
    "    if status == 'prime' and i!=1:\n",
    "        print(i, end=', ')"
   ]
  },
  {
   "cell_type": "code",
   "execution_count": 14,
   "metadata": {},
   "outputs": [
    {
     "name": "stdout",
     "output_type": "stream",
     "text": [
      "2, 3, 5, 7, 11, 13, 17, 19, 23, 29, 31, 37, 41, 43, 47, 53, 59, 61, 67, 71, 73, 79, 83, 89, 97, 101, 103, 107, 109, 113, 127, 131, 137, 139, 149, "
     ]
    }
   ],
   "source": [
    "for i in range(1, 150):\n",
    "    \n",
    "    for j in range(2,i):\n",
    "        \n",
    "        if i%j == 0:\n",
    "            break\n",
    "            \n",
    "    else:\n",
    "        if i!=1:\n",
    "            print(i, end=', ')"
   ]
  },
  {
   "cell_type": "markdown",
   "metadata": {},
   "source": [
    "***\n",
    "# Exercise 3 - More loops"
   ]
  },
  {
   "cell_type": "markdown",
   "metadata": {},
   "source": [
    "***\n",
    "**Question 1**"
   ]
  },
  {
   "cell_type": "code",
   "execution_count": 9,
   "metadata": {},
   "outputs": [
    {
     "name": "stdout",
     "output_type": "stream",
     "text": [
      "5275\n"
     ]
    }
   ],
   "source": [
    "s = 0\n",
    "\n",
    "for i in range(1,11):\n",
    "    for j in range(0,6):\n",
    "        s += j * j * (i + j)\n",
    "\n",
    "print(S)"
   ]
  },
  {
   "cell_type": "markdown",
   "metadata": {},
   "source": [
    "***\n",
    "**Question 2**"
   ]
  },
  {
   "cell_type": "code",
   "execution_count": 98,
   "metadata": {},
   "outputs": [
    {
     "name": "stdout",
     "output_type": "stream",
     "text": [
      "*\n",
      "**\n",
      "***\n",
      "****\n",
      "*****\n",
      "*****\n",
      "****\n",
      "***\n",
      "**\n",
      "*\n"
     ]
    }
   ],
   "source": [
    "for i in range(1, 6):\n",
    "    for j in range(i):\n",
    "        print('*', end='')\n",
    "    print()\n",
    "\n",
    "for i in range(5, 0, -1):\n",
    "    for j in range(i):\n",
    "        print('*', end='')\n",
    "    print()"
   ]
  },
  {
   "cell_type": "markdown",
   "metadata": {},
   "source": [
    "***\n",
    "**Question 3**.  The code to compute $\\pi_N$ for a fixed value of $N$ is:"
   ]
  },
  {
   "cell_type": "code",
   "execution_count": 99,
   "metadata": {},
   "outputs": [
    {
     "name": "stdout",
     "output_type": "stream",
     "text": [
      "3.1365926848388144\n"
     ]
    }
   ],
   "source": [
    "\n",
    "\n",
    "# create a variable for the approximate value of pi\n",
    "pi_N = 0\n",
    "\n",
    "# number of terms in the series\n",
    "N = 100\n",
    "\n",
    "# use a for loop to compute the series\n",
    "for n in range(N):\n",
    "    pi_N += 8 / (4 * n + 1) / (4 * n + 3)\n",
    "    \n",
    "print(pi_N)\n"
   ]
  },
  {
   "cell_type": "markdown",
   "metadata": {},
   "source": [
    "# Exercise 5 - Lists"
   ]
  },
  {
   "cell_type": "markdown",
   "metadata": {},
   "source": [
    "**Question 1.**"
   ]
  },
  {
   "cell_type": "code",
   "execution_count": 111,
   "metadata": {},
   "outputs": [],
   "source": [
    "a = [1, 2]\n",
    "b = [3, 4]"
   ]
  },
  {
   "cell_type": "markdown",
   "metadata": {},
   "source": [
    "***\n",
    "**Question 2.**"
   ]
  },
  {
   "cell_type": "code",
   "execution_count": 112,
   "metadata": {},
   "outputs": [],
   "source": [
    "a[0] = 5"
   ]
  },
  {
   "cell_type": "markdown",
   "metadata": {},
   "source": [
    "***\n",
    "**Question 3.**"
   ]
  },
  {
   "cell_type": "code",
   "execution_count": 113,
   "metadata": {},
   "outputs": [
    {
     "name": "stdout",
     "output_type": "stream",
     "text": [
      "[[5, 2], [3, 4]]\n"
     ]
    }
   ],
   "source": [
    "nested = [a, b]\n",
    "print(nested)"
   ]
  },
  {
   "cell_type": "markdown",
   "metadata": {},
   "source": [
    "***\n",
    "**Question 4.**"
   ]
  },
  {
   "cell_type": "code",
   "execution_count": 114,
   "metadata": {},
   "outputs": [
    {
     "name": "stdout",
     "output_type": "stream",
     "text": [
      "5\n",
      "2\n",
      "3\n",
      "4\n"
     ]
    }
   ],
   "source": [
    "# the first loop; l is an element of nested so will be a list\n",
    "for l in nested:\n",
    "    # the second list; e is an element of the list l\n",
    "    for e in l:\n",
    "        print(e)"
   ]
  },
  {
   "cell_type": "markdown",
   "metadata": {},
   "source": [
    "***\n",
    "**Question 5.** See the list_words.py file"
   ]
  },
  {
   "cell_type": "markdown",
   "metadata": {},
   "source": [
    "***\n",
    "**Question 6.**"
   ]
  },
  {
   "cell_type": "code",
   "execution_count": 115,
   "metadata": {},
   "outputs": [
    {
     "name": "stdout",
     "output_type": "stream",
     "text": [
      "[1, 3, 5, 7, 9, 11, 13, 15, 17, 19, 21, 23, 25, 27, 29, 31, 33, 35, 37, 39, 41, 43, 45, 47, 49, 51, 53, 55, 57, 59, 61, 63, 65, 67, 69, 71, 73, 75, 77, 79, 81, 83, 85, 87, 89, 91, 93, 95, 97, 99]\n"
     ]
    }
   ],
   "source": [
    "l = [e for e in range(101) if e % 2 != 0]\n",
    "print(l)"
   ]
  },
  {
   "cell_type": "code",
   "execution_count": 116,
   "metadata": {},
   "outputs": [
    {
     "name": "stdout",
     "output_type": "stream",
     "text": [
      "[0, 3, 6, 9, 12, 15, 18, 21, 24, 27, 30, 33, 36, 39, 42, 45, 48, 51, 54, 57, 60, 63, 66, 69, 72, 75, 78, 81, 84, 87, 90, 93, 96, 99]\n"
     ]
    }
   ],
   "source": [
    "l = [e for e in range(101) if e % 3 == 0]\n",
    "print(l)"
   ]
  },
  {
   "cell_type": "code",
   "execution_count": 117,
   "metadata": {},
   "outputs": [
    {
     "name": "stdout",
     "output_type": "stream",
     "text": [
      "[2, 3, 5, 7, 11, 13, 17, 19, 23, 29, 31, 37, 41, 43, 47, 53, 59, 61, 67, 71, 73, 79, 83, 89, 97]\n"
     ]
    }
   ],
   "source": [
    "l = [e for e in range(101) if all(e % x != 0 for x in range(2, e)) and e > 1]\n",
    "print(l)"
   ]
  },
  {
   "cell_type": "markdown",
   "metadata": {},
   "source": [
    "# Exercise 6 - Tuples"
   ]
  },
  {
   "cell_type": "markdown",
   "metadata": {},
   "source": [
    "***\n",
    "**Question 1.**"
   ]
  },
  {
   "cell_type": "code",
   "execution_count": 130,
   "metadata": {},
   "outputs": [],
   "source": [
    "fondue_ingredients = ('gruyere', 'vacherin')"
   ]
  },
  {
   "cell_type": "markdown",
   "metadata": {},
   "source": [
    "***\n",
    "**Question 3.**"
   ]
  },
  {
   "cell_type": "code",
   "execution_count": 131,
   "metadata": {},
   "outputs": [
    {
     "name": "stdout",
     "output_type": "stream",
     "text": [
      "('gruyere', 'vacherin')\n"
     ]
    }
   ],
   "source": [
    "print(fondue_ingredients)"
   ]
  },
  {
   "cell_type": "markdown",
   "metadata": {},
   "source": [
    "***\n",
    "**Question 4.**  It is not possible to change \"gruyere\" to \"cheddar\" becauase tuples are immutable"
   ]
  },
  {
   "cell_type": "markdown",
   "metadata": {},
   "source": [
    "***\n",
    "**Question 5.** There is no function to remove the last element of a tuple.  Instead, you can convert a tuple to a list and then convert it back."
   ]
  },
  {
   "cell_type": "code",
   "execution_count": 132,
   "metadata": {},
   "outputs": [],
   "source": [
    "fondue_ingredients = list(fondue_ingredients)\n",
    "fondue_ingredients = fondue_ingredients[:-1]\n",
    "fondue_ingredients = tuple(fondue_ingredients)"
   ]
  },
  {
   "cell_type": "code",
   "execution_count": 133,
   "metadata": {},
   "outputs": [
    {
     "name": "stdout",
     "output_type": "stream",
     "text": [
      "('gruyere',) <class 'tuple'>\n"
     ]
    }
   ],
   "source": [
    "print(fondue_ingredients, type(fondue_ingredients))"
   ]
  },
  {
   "cell_type": "markdown",
   "metadata": {},
   "source": [
    "# Exercise 7 - Sets"
   ]
  },
  {
   "cell_type": "markdown",
   "metadata": {},
   "source": [
    "***\n",
    "**Question 1.**"
   ]
  },
  {
   "cell_type": "code",
   "execution_count": 138,
   "metadata": {},
   "outputs": [],
   "source": [
    "s1 = {1, 2, 5, 5, 8}\n",
    "s2 = {1, 2, 4, 9, 2}\n"
   ]
  },
  {
   "cell_type": "markdown",
   "metadata": {},
   "source": [
    "***\n",
    "**Question 2.**"
   ]
  },
  {
   "cell_type": "code",
   "execution_count": 139,
   "metadata": {},
   "outputs": [
    {
     "name": "stdout",
     "output_type": "stream",
     "text": [
      "{8, 1, 2, 5}\n",
      "{1, 2, 4, 9}\n"
     ]
    }
   ],
   "source": [
    "print(s1)\n",
    "print(s2)"
   ]
  },
  {
   "cell_type": "markdown",
   "metadata": {},
   "source": [
    "There are no duplicate entries"
   ]
  },
  {
   "cell_type": "markdown",
   "metadata": {},
   "source": [
    "***\n",
    "**Question 3.** No, elements of sets cannot be accessed with indices"
   ]
  },
  {
   "cell_type": "markdown",
   "metadata": {},
   "source": [
    "***\n",
    "**Question 4.**"
   ]
  },
  {
   "cell_type": "code",
   "execution_count": 140,
   "metadata": {},
   "outputs": [
    {
     "data": {
      "text/plain": [
       "False"
      ]
     },
     "execution_count": 140,
     "metadata": {},
     "output_type": "execute_result"
    }
   ],
   "source": [
    "4 in s1"
   ]
  },
  {
   "cell_type": "code",
   "execution_count": 141,
   "metadata": {},
   "outputs": [
    {
     "data": {
      "text/plain": [
       "True"
      ]
     },
     "execution_count": 141,
     "metadata": {},
     "output_type": "execute_result"
    }
   ],
   "source": [
    "4 in s2"
   ]
  },
  {
   "cell_type": "markdown",
   "metadata": {},
   "source": [
    "***\n",
    "**Question 5.** & is intersection, | is union, - is difference, and ^ is symmetric difference"
   ]
  },
  {
   "cell_type": "code",
   "execution_count": 68,
   "metadata": {},
   "outputs": [
    {
     "data": {
      "text/plain": [
       "{1, 2}"
      ]
     },
     "execution_count": 68,
     "metadata": {},
     "output_type": "execute_result"
    }
   ],
   "source": [
    "s1 & s2"
   ]
  },
  {
   "cell_type": "code",
   "execution_count": 69,
   "metadata": {},
   "outputs": [
    {
     "data": {
      "text/plain": [
       "{1, 2, 4, 5, 8, 9}"
      ]
     },
     "execution_count": 69,
     "metadata": {},
     "output_type": "execute_result"
    }
   ],
   "source": [
    "s1 | s2"
   ]
  },
  {
   "cell_type": "code",
   "execution_count": 70,
   "metadata": {},
   "outputs": [
    {
     "data": {
      "text/plain": [
       "{5, 8}"
      ]
     },
     "execution_count": 70,
     "metadata": {},
     "output_type": "execute_result"
    }
   ],
   "source": [
    "s1 - s2"
   ]
  },
  {
   "cell_type": "code",
   "execution_count": 71,
   "metadata": {},
   "outputs": [
    {
     "data": {
      "text/plain": [
       "{4, 5, 8, 9}"
      ]
     },
     "execution_count": 71,
     "metadata": {},
     "output_type": "execute_result"
    }
   ],
   "source": [
    "s1 ^ s2"
   ]
  },
  {
   "cell_type": "markdown",
   "metadata": {},
   "source": [
    "***\n",
    "**Question 6.** "
   ]
  },
  {
   "cell_type": "code",
   "execution_count": 142,
   "metadata": {},
   "outputs": [
    {
     "name": "stdout",
     "output_type": "stream",
     "text": [
      "{2, 5, 6, 8}\n"
     ]
    }
   ],
   "source": [
    "s1.remove(1)\n",
    "s1.add(6)\n",
    "print(s1)\n"
   ]
  },
  {
   "cell_type": "markdown",
   "metadata": {},
   "source": [
    "***\n",
    "# Exercise 8 - Dictionaries"
   ]
  },
  {
   "cell_type": "markdown",
   "metadata": {},
   "source": [
    "***\n",
    "**Question 1.**"
   ]
  },
  {
   "cell_type": "code",
   "execution_count": 143,
   "metadata": {},
   "outputs": [],
   "source": [
    "ages = {'Xiaohan':21, 'Christian':20, 'Grace':20, 'Sajid':21}"
   ]
  },
  {
   "cell_type": "markdown",
   "metadata": {},
   "source": [
    "***\n",
    "**Question 2.** The `keys` method can be used to create a list with all of the keys in a dictionary"
   ]
  },
  {
   "cell_type": "code",
   "execution_count": 146,
   "metadata": {},
   "outputs": [
    {
     "name": "stdout",
     "output_type": "stream",
     "text": [
      "Xiaohan\n",
      "Christian\n",
      "Grace\n",
      "Sajid\n",
      "Nicola\n"
     ]
    }
   ],
   "source": [
    "for l in ages.keys():\n",
    "    print(l)"
   ]
  },
  {
   "cell_type": "markdown",
   "metadata": {},
   "source": [
    "***\n",
    "**Question 3.** A key-value pair can be added as follows:"
   ]
  },
  {
   "cell_type": "code",
   "execution_count": 147,
   "metadata": {},
   "outputs": [
    {
     "name": "stdout",
     "output_type": "stream",
     "text": [
      "{'Xiaohan': 21, 'Christian': 20, 'Grace': 20, 'Sajid': 21, 'Nicola': 19}\n"
     ]
    }
   ],
   "source": [
    "ages['Nicola'] = 19\n",
    "print(ages)"
   ]
  },
  {
   "cell_type": "markdown",
   "metadata": {},
   "source": [
    "***\n",
    "**Question 4.** The `pop` method can be used to remove a key-value pair"
   ]
  },
  {
   "cell_type": "code",
   "execution_count": 148,
   "metadata": {},
   "outputs": [
    {
     "name": "stdout",
     "output_type": "stream",
     "text": [
      "{'Xiaohan': 21, 'Christian': 20, 'Sajid': 21, 'Nicola': 19}\n"
     ]
    }
   ],
   "source": [
    "ages.pop('Grace')\n",
    "print(ages)"
   ]
  },
  {
   "cell_type": "markdown",
   "metadata": {},
   "source": [
    "***\n",
    "**Question 5.** It is not possible to create duplicate entries in a dictionary"
   ]
  },
  {
   "cell_type": "code",
   "execution_count": 149,
   "metadata": {},
   "outputs": [
    {
     "name": "stdout",
     "output_type": "stream",
     "text": [
      "{'Xiaohan': 21, 'Christian': 20, 'Sajid': 22, 'Nicola': 19}\n"
     ]
    }
   ],
   "source": [
    "ages['Sajid'] = 22\n",
    "print(ages)"
   ]
  },
  {
   "cell_type": "markdown",
   "metadata": {},
   "source": [
    "***\n",
    "**Question 6.** The `in` keyword can be used to check whether a key exists in a dictionary"
   ]
  },
  {
   "cell_type": "code",
   "execution_count": 150,
   "metadata": {},
   "outputs": [
    {
     "name": "stdout",
     "output_type": "stream",
     "text": [
      "False\n"
     ]
    }
   ],
   "source": [
    "print('Harry' in ages)"
   ]
  },
  {
   "cell_type": "markdown",
   "metadata": {},
   "source": [
    "***\n",
    "# Exercise 9 - Modelling using data structures"
   ]
  },
  {
   "cell_type": "code",
   "execution_count": 172,
   "metadata": {},
   "outputs": [],
   "source": [
    "planets = {'Mercury': [4_878, 0.06, 1_407.6],\n",
    "           'Venus': [12_100, 0.82, 5_832],\n",
    "           'Earth': [12_756, 1.00, 23.934],\n",
    "           'Mars': [6_794, 0.11, 24.623],\n",
    "           'Jupiter': [142_800, 317.89, 9.842],\n",
    "           'Saturn': [120_000, 95.17, 10.233],\n",
    "           'Uranus': [52_400, 14.56, 16],\n",
    "           'Pluto': [2_445, 0.002, 153.36]\n",
    "          }"
   ]
  },
  {
   "cell_type": "markdown",
   "metadata": {},
   "source": [
    "***\n",
    "**Question 1.** "
   ]
  },
  {
   "cell_type": "code",
   "execution_count": 173,
   "metadata": {},
   "outputs": [
    {
     "name": "stdout",
     "output_type": "stream",
     "text": [
      "Jupiter 9.842\n",
      "Saturn 10.233\n",
      "Uranus 16\n"
     ]
    }
   ],
   "source": [
    "pi = 3.142\n",
    "\n",
    "earth_rot = planets['Earth'][2]\n",
    "\n",
    "for k, p in planets.items():\n",
    "    if p[2] < earth_rot:\n",
    "        print(k, p[2])"
   ]
  },
  {
   "cell_type": "markdown",
   "metadata": {},
   "source": [
    "***\n",
    "# Exercise 10 - More data structures"
   ]
  },
  {
   "cell_type": "code",
   "execution_count": 180,
   "metadata": {},
   "outputs": [
    {
     "name": "stdout",
     "output_type": "stream",
     "text": [
      "[1, 4, 7, 8, 9]\n",
      "[9, 8, 7, 4, 1]\n"
     ]
    }
   ],
   "source": [
    "\n",
    "\n",
    "my_list = [1,4,7,8,9]\n",
    "\n",
    "print(sorted(my_list))\n",
    "\n",
    "print(sorted(my_list, reverse=True))\n"
   ]
  },
  {
   "cell_type": "code",
   "execution_count": null,
   "metadata": {},
   "outputs": [],
   "source": []
  },
  {
   "cell_type": "code",
   "execution_count": null,
   "metadata": {},
   "outputs": [],
   "source": []
  }
 ],
 "metadata": {
  "kernelspec": {
   "display_name": "Python 3 (ipykernel)",
   "language": "python",
   "name": "python3"
  },
  "language_info": {
   "codemirror_mode": {
    "name": "ipython",
    "version": 3
   },
   "file_extension": ".py",
   "mimetype": "text/x-python",
   "name": "python",
   "nbconvert_exporter": "python",
   "pygments_lexer": "ipython3",
   "version": "3.10.9"
  }
 },
 "nbformat": 4,
 "nbformat_minor": 4
}
