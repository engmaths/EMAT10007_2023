{
 "cells": [
  {
   "cell_type": "markdown",
   "id": "b02a48fc",
   "metadata": {
    "slideshow": {
     "slide_type": "slide"
    }
   },
   "source": [
    "# Introduction to Computer Programming\n",
    "\n",
    "## Conditional Statements - `if`... `else`\n",
    "\n",
    "<img src=\"img/full-colour-logo-UoB.png\" alt=\"Drawing\" style=\"width: 300px;\"/>"
   ]
  },
  {
   "cell_type": "markdown",
   "id": "6fb96e41",
   "metadata": {
    "slideshow": {
     "slide_type": "slide"
    }
   },
   "source": [
    "# `if`... `else`\n",
    "- Runs a block of code only if the `if` a conditional statement is `True` \n",
    "- Otherwise runs a *different* block of code \n",
    "\n",
    "<center>\n",
    "  <img src=\"img/if_else_flow_.png\" alt=\"Drawing\" style=\"width: 400px;\"/>\n",
    "</center>"
   ]
  },
  {
   "cell_type": "markdown",
   "id": "32cf5a9b",
   "metadata": {},
   "source": [
    "# `if`... `else`\n",
    "\n",
    "Executes indented block of code only if the `if` conditional statement is `True`\n",
    "\n",
    "Otherwise executes the next indented block of code (after `else`)\n",
    "\n",
    "Only **one** of the indented blocks of code (after `if` __or__ after `else`) is executed! \n",
    "\n",
    "We can think of `else` as the default value, so one of the two indented blocks will be executed every time the code is run"
   ]
  },
  {
   "cell_type": "code",
   "execution_count": 12,
   "id": "a0085f77",
   "metadata": {
    "slideshow": {
     "slide_type": "slide"
    }
   },
   "outputs": [
    {
     "name": "stdout",
     "output_type": "stream",
     "text": [
      "Do that\n",
      "Further code\n"
     ]
    }
   ],
   "source": [
    "x = 7\n",
    "\n",
    "if x > 10:\n",
    "    print(\"Do this\") # if condition is True\n",
    "    \n",
    "else:\n",
    "    print(\"Do that\") # if condition is False\n",
    "    \n",
    "print(\"Further code\")\n"
   ]
  },
  {
   "cell_type": "markdown",
   "id": "e439e5f1",
   "metadata": {
    "slideshow": {
     "slide_type": "slide"
    }
   },
   "source": [
    "### Example\n",
    "\n",
    "If the value of `a` is:\n",
    "- 0, print the word `zero` \n",
    "- not 0, print the words `not zero` "
   ]
  },
  {
   "cell_type": "code",
   "execution_count": 3,
   "id": "c56750b0",
   "metadata": {},
   "outputs": [
    {
     "name": "stdout",
     "output_type": "stream",
     "text": [
      "zero\n"
     ]
    }
   ],
   "source": [
    "a = 0\n",
    "\n",
    "if a == 0:\n",
    "    print('zero')\n",
    "else:\n",
    "    print('not zero')"
   ]
  },
  {
   "cell_type": "markdown",
   "id": "b448603c",
   "metadata": {
    "slideshow": {
     "slide_type": "slide"
    }
   },
   "source": [
    "### Example\n",
    "\n",
    "If the value of `a` is:\n",
    "- an even number, print `even`\n",
    "- an odd number, print `odd`\n",
    "\n",
    "\n",
    "Print `a`"
   ]
  },
  {
   "cell_type": "code",
   "execution_count": 4,
   "id": "22793eed",
   "metadata": {},
   "outputs": [
    {
     "name": "stdout",
     "output_type": "stream",
     "text": [
      "even\n",
      "a\n"
     ]
    }
   ],
   "source": [
    "a = 10\n",
    "\n",
    "if a % 2 == 0:\n",
    "    print('even')\n",
    "else:\n",
    "    print('odd')\n",
    "    \n",
    "print('a')"
   ]
  },
  {
   "cell_type": "markdown",
   "id": "4b182ddc",
   "metadata": {
    "slideshow": {
     "slide_type": "slide"
    }
   },
   "source": [
    "### Example\n",
    "\n",
    "If the value of `a` is:\n",
    "- an even number, increase the value of `a` by 1\n",
    "- an odd number, decrease the value of `a` by 2\n",
    "\n",
    "Print the value of `a`"
   ]
  },
  {
   "cell_type": "code",
   "execution_count": 7,
   "id": "fb9862c4",
   "metadata": {},
   "outputs": [
    {
     "name": "stdout",
     "output_type": "stream",
     "text": [
      "10\n"
     ]
    }
   ],
   "source": [
    "a = 11\n",
    "\n",
    "if a % 2 == 0:\n",
    "    a += 1\n",
    "else:\n",
    "    a -= 1\n",
    "    \n",
    "print(a)"
   ]
  },
  {
   "cell_type": "markdown",
   "id": "3962c8f7",
   "metadata": {
    "slideshow": {
     "slide_type": "slide"
    }
   },
   "source": [
    "### Example\n",
    "\n",
    "If the value of `day` is greater than or equal to 1 and less than or equal to 31 print the value of `day`\n",
    "\n",
    "Otherwise, print `not a valid day`\n",
    "\n",
    "Print the value of `a`"
   ]
  },
  {
   "cell_type": "code",
   "execution_count": 8,
   "id": "8ab3b604",
   "metadata": {},
   "outputs": [
    {
     "name": "stdout",
     "output_type": "stream",
     "text": [
      "11\n"
     ]
    }
   ],
   "source": [
    "day = 11\n",
    "\n",
    "if 1 <= day <= 31:\n",
    "    a += 1\n",
    "else:\n",
    "    a -= 1\n",
    "    \n",
    "print(a)"
   ]
  },
  {
   "cell_type": "code",
   "execution_count": null,
   "id": "f98c0e45",
   "metadata": {},
   "outputs": [],
   "source": []
  }
 ],
 "metadata": {
  "kernelspec": {
   "display_name": "Python 3 (ipykernel)",
   "language": "python",
   "name": "python3"
  },
  "language_info": {
   "codemirror_mode": {
    "name": "ipython",
    "version": 3
   },
   "file_extension": ".py",
   "mimetype": "text/x-python",
   "name": "python",
   "nbconvert_exporter": "python",
   "pygments_lexer": "ipython3",
   "version": "3.10.9"
  }
 },
 "nbformat": 4,
 "nbformat_minor": 5
}
