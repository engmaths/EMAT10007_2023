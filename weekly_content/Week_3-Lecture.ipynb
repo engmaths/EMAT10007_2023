{
 "cells": [
  {
   "cell_type": "markdown",
   "id": "23bc864e",
   "metadata": {
    "slideshow": {
     "slide_type": "slide"
    }
   },
   "source": [
    "# Introduction to Computer Programming\n",
    "\n",
    "## Control Structures - Loops\n",
    "\n",
    "* * *\n",
    "\n",
    "<img src=\"https://github.com/engmaths/EMAT10007_2023/blob/main/weekly_content/img/full-colour-logo-UoB.png?raw=true\" width=\"20%\">\n",
    "</p>"
   ]
  },
  {
   "cell_type": "markdown",
   "id": "ba351f18",
   "metadata": {
    "slideshow": {
     "slide_type": "slide"
    }
   },
   "source": [
    " \n",
    "\n",
    "Real world programmes usually need to:\n",
    "- choose between multiple possible sets of statements to execute\n",
    "- skip over some statements\n",
    "- repeatedly execute some statements"
   ]
  },
  {
   "cell_type": "markdown",
   "id": "b46d7601",
   "metadata": {
    "slideshow": {
     "slide_type": "slide"
    }
   },
   "source": [
    "# Why do we use loops?\n",
    "\n",
    "A **loop** is a control structure that allows the same piece of code to be executed many times (iteration)\n",
    "\n",
    "This eliminates the need to repeatedly type or copy-and-paste code"
   ]
  },
  {
   "cell_type": "markdown",
   "id": "c8b12938",
   "metadata": {
    "slideshow": {
     "slide_type": "slide"
    }
   },
   "source": [
    "# What type of loop should we use? \n",
    "\n",
    "There are two types of loop \n",
    "\n",
    "- __`for` loop (Definite iteration)__: number of repetitions is specified explicitly in advance\n",
    "- __`while` loop(Indefinite iteration)__: the code block executes until some condition is met <br>i.e. when we are unsure exactly how many repetitions we need. \n"
   ]
  },
  {
   "cell_type": "markdown",
   "id": "5fee5f09",
   "metadata": {
    "slideshow": {
     "slide_type": "slide"
    }
   },
   "source": [
    "# Video Q&A\n",
    "\n",
    "### Make use of the discussion board\n",
    "\n",
    "Blackboard page >> Course tools >> Discussion Board >> EMAT10007_2023_TB-1 >> Ask a question\n"
   ]
  },
  {
   "cell_type": "markdown",
   "id": "b813f545",
   "metadata": {
    "slideshow": {
     "slide_type": "slide"
    }
   },
   "source": [
    "# Example\n",
    "\n",
    "<span style=\"color:blue\">What type of loop is most appropriate?</span>\n",
    "\n",
    "Print the first five positive even integers"
   ]
  },
  {
   "cell_type": "code",
   "execution_count": 6,
   "id": "213eda6e",
   "metadata": {},
   "outputs": [
    {
     "name": "stdout",
     "output_type": "stream",
     "text": [
      "2\n",
      "4\n",
      "6\n",
      "8\n",
      "10\n"
     ]
    }
   ],
   "source": [
    "for i in range(2, 11, 2):\n",
    "    print(i)"
   ]
  },
  {
   "cell_type": "markdown",
   "id": "9e048d55",
   "metadata": {
    "slideshow": {
     "slide_type": "slide"
    }
   },
   "source": [
    "# Example\n",
    "\n",
    "<span style=\"color:blue\">What type of loop is most appropriate?</span>\n",
    "\n",
    "A square number is an integer of the form $n^2$.  \n",
    "\n",
    "Print the square numbers, starting from 1, that are smaller than 100."
   ]
  },
  {
   "cell_type": "code",
   "execution_count": 10,
   "id": "7101e3a5",
   "metadata": {},
   "outputs": [
    {
     "name": "stdout",
     "output_type": "stream",
     "text": [
      "0\n",
      "1\n",
      "4\n",
      "9\n",
      "16\n",
      "25\n",
      "36\n",
      "49\n",
      "64\n",
      "81\n"
     ]
    }
   ],
   "source": [
    "number = 0\n",
    "while number**2 < 100:\n",
    "    print(number**2)\n",
    "    number += 1\n",
    "    "
   ]
  },
  {
   "cell_type": "markdown",
   "id": "83578304",
   "metadata": {
    "slideshow": {
     "slide_type": "slide"
    }
   },
   "source": [
    "# Example: `while` loop\n",
    "\n",
    "Find the greatest power of 3 that is smaller than 100"
   ]
  },
  {
   "cell_type": "code",
   "execution_count": 3,
   "id": "ca614a66",
   "metadata": {},
   "outputs": [
    {
     "name": "stdout",
     "output_type": "stream",
     "text": [
      "largest power =  81\n"
     ]
    }
   ],
   "source": [
    "exponent = 0\n",
    "\n",
    "while 3 ** exponent < 100:\n",
    "    \n",
    "    power = 3 ** exponent\n",
    "    \n",
    "    exponent += 1\n",
    "    \n",
    "print('largest power = ', power) "
   ]
  },
  {
   "cell_type": "markdown",
   "id": "784684b1",
   "metadata": {
    "slideshow": {
     "slide_type": "slide"
    }
   },
   "source": [
    "# Example: `for` loops  \n",
    "The Fibonacci sequence is a sequence of numbers where each number is the sum of the two preceding ones:\n",
    "    $$ f_n = f_{n-1} + f_{n-2} $$\n",
    "\n",
    "<br>The first two numbers in the Fibonacci sequence are 0 and 1:\n",
    "    <br>$f_0 = 0$\n",
    "    <br> $f_1 = 1$ \n",
    "    \n",
    "<br>The following numbers in the Fibonacci sequence are computed as shown above:\n",
    "    <br>$f_2 = f_1 + f_0$\n",
    "    <br> $f_3 = f_2 + f_1$ \n",
    "    \n",
    "The sequence starts: 0, 1, 1, 2, 3, 5, 8, ..."
   ]
  },
  {
   "cell_type": "markdown",
   "id": "f27a7353",
   "metadata": {
    "slideshow": {
     "slide_type": "slide"
    }
   },
   "source": [
    "We can compute the sequence by:"
   ]
  },
  {
   "cell_type": "code",
   "execution_count": 21,
   "id": "3a1d2d27",
   "metadata": {
    "slideshow": {
     "slide_type": "-"
    }
   },
   "outputs": [
    {
     "name": "stdout",
     "output_type": "stream",
     "text": [
      "f 0 = 0\n",
      "f 1 = 1\n",
      "f 2 = 1\n",
      "f 3 = 2\n",
      "f 4 = 3\n"
     ]
    }
   ],
   "source": [
    "a = 0\n",
    "b = 1\n",
    "print('f 0 =', a)\n",
    "print('f 1 =', b)\n",
    "\n",
    "# Compute next fibonacci \n",
    "c = a + b \n",
    "print('f 2 =', c)\n",
    "\n",
    "# # Compute next fibonacci \n",
    "# d = b + c \n",
    "# print('f 3 =', d)\n",
    "\n",
    "# # Compute next fibonacci \n",
    "# e = c + d \n",
    "# print('f 4 =', e)"
   ]
  },
  {
   "cell_type": "markdown",
   "id": "0e16c2ca",
   "metadata": {
    "slideshow": {
     "slide_type": "slide"
    }
   },
   "source": [
    "Instead of creating new variables for each Fibonacci number, we can reuse variables each time we generate a new Fibonacci number. \n",
    "\n",
    "For each computation, we make `a` and `b` the two numbers we want to add"
   ]
  },
  {
   "cell_type": "code",
   "execution_count": 20,
   "id": "a95e73e7",
   "metadata": {
    "slideshow": {
     "slide_type": "-"
    }
   },
   "outputs": [
    {
     "name": "stdout",
     "output_type": "stream",
     "text": [
      "f 0 = 0\n",
      "f 1 = 1\n",
      "f 2 = 1\n",
      "f 3 = 2\n",
      "f 4 = 3\n"
     ]
    }
   ],
   "source": [
    "a = 0\n",
    "b = 1\n",
    "print('f 0 =', a)\n",
    "print('f 1 =', b)\n",
    "\n",
    "# Compute next fibonacci \n",
    "c = a + b \n",
    "print('f 2 =', c)\n",
    "\n",
    "#------------------------------------\n",
    "\n",
    "# Shift values of a and b one place \n",
    "a = b   \n",
    "b = c\n",
    "\n",
    "# Compute next fibonacci \n",
    "c = a + b \n",
    "print('f 3 =', c)\n",
    "\n",
    "# #------------------------------------\n",
    "\n",
    "# # Shift values of a and b one place \n",
    "# a = b   \n",
    "# b = c\n",
    "\n",
    "# # Compute next fibonacci \n",
    "# c = a + b \n",
    "# print('f 4 =', c)"
   ]
  },
  {
   "cell_type": "markdown",
   "id": "a8813fb0",
   "metadata": {
    "slideshow": {
     "slide_type": "slide"
    }
   },
   "source": [
    "We can see that the code is becoming quite repetative\n",
    "\n",
    "To handle this repetition more efficiently, we can use a `for` loop\n",
    "\n",
    "The code is much shorter\n"
   ]
  },
  {
   "cell_type": "code",
   "execution_count": 22,
   "id": "957e91c3",
   "metadata": {},
   "outputs": [
    {
     "name": "stdout",
     "output_type": "stream",
     "text": [
      "f 0 = 0\n",
      "f 1 = 1\n",
      "f 3 = 1\n",
      "f 4 = 2\n",
      "f 5 = 3\n"
     ]
    }
   ],
   "source": [
    "a = 0\n",
    "b = 1\n",
    "print('f', 0, '=', a)\n",
    "print('f', 1, '=', b)\n",
    "\n",
    "for i in range(3, 6):\n",
    "    # Compute next Fibonacci\n",
    "    c = a + b\n",
    "    print('f', i, '=', c)\n",
    "    \n",
    "    # Shift values of a and b one place\n",
    "    a = b\n",
    "    b = c\n",
    "    "
   ]
  },
  {
   "cell_type": "markdown",
   "id": "6ceeba3b",
   "metadata": {
    "slideshow": {
     "slide_type": "slide"
    }
   },
   "source": [
    "# `while` loops with dynamic input\n",
    "\n",
    "`while` loops are used within systems with variables that change value dynamically during the runtime of the programme.\n",
    "\n",
    "Consider the following example:\n",
    "- `while` button is pressed, move conveyor belt\n",
    "- `while` temperature below boiling point, heat kettle\n",
    "- `while` password is incorrect, ask user for password \n",
    "\n",
    "In each case there is some uncertainty in what the external input will be, so we need an indefinite loop"
   ]
  },
  {
   "cell_type": "markdown",
   "id": "7a5bb9dd",
   "metadata": {
    "slideshow": {
     "slide_type": "slide"
    }
   },
   "source": [
    "External inputs is a more advanced topic but we can use the Python function `input()` to simulate this behaviour\n",
    "\n",
    "`input()`:\n",
    "- displays a string given in the parentheses `()` to the user\n",
    "- accepts typed input from the user\n",
    "- outputs this types input within the program as a string"
   ]
  },
  {
   "cell_type": "code",
   "execution_count": 27,
   "id": "14a1e1a2",
   "metadata": {},
   "outputs": [
    {
     "name": "stdout",
     "output_type": "stream",
     "text": [
      "Enter username: hemma\n"
     ]
    }
   ],
   "source": [
    "username = input('Enter username: ')"
   ]
  },
  {
   "cell_type": "markdown",
   "id": "9d3fd8b4",
   "metadata": {
    "slideshow": {
     "slide_type": "slide"
    }
   },
   "source": [
    "# Example: `while` loop with dynamic input\n",
    "\n",
    "Write a program that prompts the user for a username until a valid username is given"
   ]
  },
  {
   "cell_type": "code",
   "execution_count": 31,
   "id": "43d31e1c",
   "metadata": {},
   "outputs": [
    {
     "name": "stdout",
     "output_type": "stream",
     "text": [
      "Enter username: hemma\n"
     ]
    }
   ],
   "source": [
    "valid_username = 'hemma'\n",
    "username = ''\n",
    "\n",
    "while username != valid_username:\n",
    "    \n",
    "    username = input('Enter username: ')"
   ]
  },
  {
   "cell_type": "markdown",
   "id": "54da859c",
   "metadata": {
    "slideshow": {
     "slide_type": "slide"
    }
   },
   "source": [
    "# Example: `while` loop with dynamic input\n",
    "\n",
    "Write a program that prompts the user to guess the value of a whole number until the correct number is guessed\n",
    "\n",
    "The `None` Python keyword is used to define a null or empty value."
   ]
  },
  {
   "cell_type": "code",
   "execution_count": 34,
   "id": "46f03921",
   "metadata": {
    "slideshow": {
     "slide_type": "-"
    }
   },
   "outputs": [
    {
     "name": "stdout",
     "output_type": "stream",
     "text": [
      "Enter number: 5\n"
     ]
    }
   ],
   "source": [
    "correct_number = 5\n",
    "number = None \n",
    "\n",
    "while number != correct_number:\n",
    "    \n",
    "    number = input('Enter number: ')\n",
    "    \n",
    "    # Convert string to integer\n",
    "    number = int(number)"
   ]
  },
  {
   "cell_type": "markdown",
   "id": "4b4b1c2a",
   "metadata": {
    "slideshow": {
     "slide_type": "slide"
    }
   },
   "source": [
    "# Nested loops\n",
    "Control structures including loops can be nested to arbitrary depth. \n",
    "\n",
    "Nesting refers to a control structure within a control structure\n",
    "\n",
    "In other words, an 'inner' control structure within the indented block of code of an 'outer' control structre\n",
    "\n",
    "This allows more complex repetition in a program. "
   ]
  },
  {
   "cell_type": "markdown",
   "id": "2bcf6260",
   "metadata": {
    "slideshow": {
     "slide_type": "slide"
    }
   },
   "source": [
    "# Example: Nested `while` loops\n",
    "\n",
    "Write a program for teaching young children about the alphabet\n",
    "\n",
    "Iterate through each letter in `'letters'`\n",
    "\n",
    "Ask the word beginning with the letter until a correct answer is given\n"
   ]
  },
  {
   "cell_type": "code",
   "execution_count": 48,
   "id": "c381e8d4",
   "metadata": {},
   "outputs": [
    {
     "name": "stdout",
     "output_type": "stream",
     "text": [
      "Enter a word beginning with a: a\n",
      "Enter a word beginning with b: b\n",
      "Enter a word beginning with c: c\n"
     ]
    }
   ],
   "source": [
    "word = ' ' # Initialise empty word\n",
    "\n",
    "for letter in ['a', 'b', 'c']:\n",
    "    \n",
    "    while word[0] != letter:\n",
    "        \n",
    "        word = input('Enter a word beginning with '+ letter + ': ')\n"
   ]
  },
  {
   "cell_type": "markdown",
   "id": "43403072",
   "metadata": {
    "slideshow": {
     "slide_type": "slide"
    }
   },
   "source": [
    "What sequence of events is happening here?\n",
    "\n",
    "1. The outer `for` loop is entered\n",
    "1. The variable `letter` is assigned the value `a`, the __first__ entry in the sequence\n",
    "1. The controlling expression of the `while` loop is evaulated. <br>The initial value of `word` is not equal to the current value of `letter` so the inner `while` loop is entered\n",
    "1. The variable `word` is assigned the value input by the user \n",
    "1. The program execution returns to the top of the inner `while` loop and the controlling expression is evaulated.\n",
    "   <br>- `True`: The program execution goes to step 4\n",
    "   <br>- `False` : The `while` loop terminates \n",
    "   <br>&nbsp;&nbsp;&nbsp;&nbsp;&nbsp;&nbsp;&nbsp;&nbsp;&nbsp;&nbsp;&nbsp;&nbsp;&nbsp;&nbsp;&nbsp;&nbsp;&nbsp;  The program execution returns to the top of the outer `for` loop. <br>&nbsp;&nbsp;&nbsp;&nbsp;&nbsp;&nbsp;&nbsp;&nbsp;&nbsp;&nbsp;&nbsp;&nbsp;&nbsp;&nbsp;&nbsp;&nbsp;&nbsp; The variable `letter` is assigned the next value (`b`)\n",
    "1. Steps 3-5 are repeated until the `for` loop terminates by exhaustion\n"
   ]
  },
  {
   "cell_type": "markdown",
   "id": "5a28eb53",
   "metadata": {
    "slideshow": {
     "slide_type": "slide"
    }
   },
   "source": [
    "# Example: Nested `for` loops\n",
    "Use nested loops to print a 5 x 5 multiplication table "
   ]
  },
  {
   "cell_type": "code",
   "execution_count": 50,
   "id": "8b0a6f50",
   "metadata": {},
   "outputs": [
    {
     "name": "stdout",
     "output_type": "stream",
     "text": [
      "1\t2\t3\t4\t5\t\n",
      "2\t4\t6\t8\t10\t\n",
      "3\t6\t9\t12\t15\t\n",
      "4\t8\t12\t16\t20\t\n",
      "5\t10\t15\t20\t25\t\n"
     ]
    }
   ],
   "source": [
    "# outer loop to iterate from 1 to 5\n",
    "for i in range(1, 6):\n",
    "    \n",
    "    # nested loop to iterate from 1 to 5\n",
    "    for j in range(1, 6):\n",
    "        \n",
    "        # print multiplication followed by tab space\n",
    "        print(i * j, end='\\t')\n",
    "        \n",
    "    # New line after inner loop completes\n",
    "    print()"
   ]
  },
  {
   "cell_type": "markdown",
   "id": "202d1bb1",
   "metadata": {
    "slideshow": {
     "slide_type": "slide"
    }
   },
   "source": [
    "What sequence of events is happening here?\n",
    "\n",
    "1. The outer loop is entered\n",
    "1. The variable `i` is assigned the value `1`, the __first__ entry in the sequence\n",
    "1. The inner loop is entered\n",
    "1. The variable `j` is assigned the value `1`, the __first__ entry in the sequence\n",
    "1. The value of `i*j` is printed, ending with a tab '\\t' character which:\n",
    "   <br>- prevents the next value being printed on a new row\n",
    "   <br>- gives equal spacing between value in the row\n",
    "1. The inner loop iterates (which prints the first row of the table) until termination by exhaustion. <br>Note: During this process, the outer loop retains the same value `i=1`.\n",
    "1. The next line (`print()`) is executed which starts a new row\n",
    "1. Now the execution position returns to the loop of the outer loop\n",
    "1. The outer loop is entered\n",
    "1. The variable `i` is assigned the value `2`, the __second__ entry in the sequence (i.e. step 2 is repeated)\n",
    "1. Steps 2-9 repeat until the outer loop terminates by exhaustion \n"
   ]
  },
  {
   "cell_type": "markdown",
   "id": "7724b39f",
   "metadata": {
    "slideshow": {
     "slide_type": "slide"
    }
   },
   "source": [
    "# Example: `break`\n",
    "\n",
    "The temperature (sequence `temperatures`) is recorded at 10 time steps (sequence `times`). \n",
    "\n",
    "Print the timestep and temperature when the temperature first exceeds 30 degrees. "
   ]
  },
  {
   "cell_type": "code",
   "execution_count": 61,
   "id": "e5b8a07d",
   "metadata": {
    "slideshow": {
     "slide_type": "-"
    }
   },
   "outputs": [
    {
     "name": "stdout",
     "output_type": "stream",
     "text": [
      "4 32.0\n"
     ]
    }
   ],
   "source": [
    "time = range(10)\n",
    "temp = [22.0, 23.1, 25.7, 27.5, 32.0, 30.6, 31.2, 32.0, 27.8, 29.2]\n",
    "\n",
    "for t, T  in zip(time, temp):\n",
    "    \n",
    "    if T > 30:\n",
    "        print(t, T)\n",
    "        break"
   ]
  },
  {
   "cell_type": "markdown",
   "id": "9f485bdf",
   "metadata": {
    "slideshow": {
     "slide_type": "slide"
    }
   },
   "source": [
    "# Example: `continue`\n",
    "\n",
    "`if...continue` is similar to `if...else` in practise.\n",
    "\n",
    "`continue` can reduce indentation making code neater and easier to manage "
   ]
  },
  {
   "cell_type": "code",
   "execution_count": 63,
   "id": "7553dd7c",
   "metadata": {
    "slideshow": {
     "slide_type": "-"
    }
   },
   "outputs": [
    {
     "name": "stdout",
     "output_type": "stream",
     "text": [
      "even\n",
      "odd\n",
      "even\n",
      "even\n"
     ]
    }
   ],
   "source": [
    "sequence = [0, 1, 2, 4]\n",
    "\n",
    "for number in sequence:  \n",
    "    if number % 2:\n",
    "        print('odd')\n",
    "    else:\n",
    "        print('even')"
   ]
  },
  {
   "cell_type": "code",
   "execution_count": 64,
   "id": "3670666b",
   "metadata": {
    "slideshow": {
     "slide_type": "fragment"
    }
   },
   "outputs": [
    {
     "name": "stdout",
     "output_type": "stream",
     "text": [
      "even\n",
      "odd\n",
      "even\n",
      "even\n"
     ]
    }
   ],
   "source": [
    "for number in sequence:  \n",
    "    if number % 2:\n",
    "        print('odd')\n",
    "        continue\n",
    "    print('even')"
   ]
  },
  {
   "cell_type": "markdown",
   "id": "1b5e1343",
   "metadata": {
    "slideshow": {
     "slide_type": "slide"
    }
   },
   "source": [
    "# For-else\n",
    "A structure using `for` loops and `break` that is less often used but can be useful at times. \n",
    "\n",
    "The indented code after the `else` statement is executed if the `for` loop terminates by exhaustion of the iterable. \n",
    "\n",
    "In other words, if the loop never terminates by running `break`. \n",
    "\n",
    "Note: `continue` cannot be substituted for `break` as the loop will still terminate by exhaustion of the iterable. "
   ]
  },
  {
   "cell_type": "code",
   "execution_count": 32,
   "id": "25eab18b",
   "metadata": {},
   "outputs": [
    {
     "name": "stdout",
     "output_type": "stream",
     "text": [
      "Didn't find any odd numbers\n"
     ]
    }
   ],
   "source": [
    "for i in [6, 2, 4]:\n",
    "    if i%2:\n",
    "        print(\"Found odd number\")\n",
    "        break \n",
    "        \n",
    "else:\n",
    "    print(\"Didn't find any odd numbers\") \n",
    "    \n"
   ]
  },
  {
   "cell_type": "markdown",
   "id": "e3665642",
   "metadata": {
    "slideshow": {
     "slide_type": "slide"
    }
   },
   "source": [
    "ROBOT WITH 3 PROGRAMS AND PROGRAM DESCRIPTION GIVEN IN PLAIN ENGLISH.\n",
    "\n",
    "WORK IN YOUR GROUPS TO WRITE THE CONTROLLER FOR EACH ROBOT PROGRAM."
   ]
  },
  {
   "cell_type": "markdown",
   "id": "6c71cd25",
   "metadata": {
    "slideshow": {
     "slide_type": "slide"
    }
   },
   "source": [
    "# Summary\n",
    "\n",
    "**Loops** are used to repeatedly execute blocks of code\n",
    "* `for` loops are used to execute code a certain number of times\n",
    "* `while` loops are used to execute code until a condition is satisfied\n",
    "* The `break` keyword will terminate a loop (useful for avoiding **infinite loops**!)\n",
    "* The `continue` keyword enables blocks of code to be skipped in a loop\n",
    "* All control structures in Python use indentation to define blocks."
   ]
  },
  {
   "cell_type": "markdown",
   "id": "fc70ddcf",
   "metadata": {},
   "source": [
    "### Need to see some more examples? \n",
    "__`for` loops__\n",
    "<br>https://www.w3schools.com/python/python_for_loops.asp\n",
    "<br>https://www.programiz.com/python-programming/for-loop\n",
    "<br>https://pynative.com/python-for-loop/\n",
    "\n",
    "__`while` loops__\n",
    "<br>https://www.w3schools.com/python/python_while_loops.asp\n",
    "<br>https://www.programiz.com/python-programming/while-loop\n",
    "<br>https://pynative.com/python-while-loop/\n",
    "\n",
    "### Want to take a quiz?\n",
    "https://realpython.com/quizzes/python-while-loop/\n",
    "<br>https://pythongeeks.org/quizzes/quiz-on-python-loops/\n",
    "\n",
    "### Want some more advanced information?\n",
    "__`for` loops__\n",
    "<br>https://realpython.com/python-for-loop/\n",
    "\n",
    "__`while` loops__\n",
    "<br>https://realpython.com/python-while-loop/\n"
   ]
  },
  {
   "cell_type": "markdown",
   "id": "e643ca85",
   "metadata": {},
   "source": [
    "### Need some more examples of control structures (weeks 2 and 3)?\n",
    "https://pynative.com/python-if-else-and-for-loop-exercise-with-solutions/\n",
    "\n",
    "\n",
    "### Want to take a quiz on control structures (weeks 2 and 3)?\n",
    "https://pynative.com/python-if-else-and-for-loop-quiz/"
   ]
  },
  {
   "cell_type": "code",
   "execution_count": null,
   "id": "20fa2d7e",
   "metadata": {},
   "outputs": [],
   "source": []
  },
  {
   "cell_type": "markdown",
   "id": "085994b0",
   "metadata": {
    "slideshow": {
     "slide_type": "skip"
    }
   },
   "source": [
    "# Example: `while` loop with dynamic input\n",
    "\n",
    "Use `if...else` inside of the loop to give some clues to the user\n",
    "\n",
    "If the number is less than the correct number, display `'number too big'`\n",
    "\n",
    "If the number is greater than the correct number, display `'number too small'`"
   ]
  },
  {
   "cell_type": "code",
   "execution_count": 36,
   "id": "0bc1f1c2",
   "metadata": {
    "slideshow": {
     "slide_type": "skip"
    }
   },
   "outputs": [
    {
     "name": "stdout",
     "output_type": "stream",
     "text": [
      "Enter number: 2\n",
      "number too small\n",
      "Enter number: 5\n"
     ]
    }
   ],
   "source": [
    "correct_number = 5\n",
    "number = None \n",
    "\n",
    "while number != correct_number:\n",
    "    \n",
    "    number = input('Enter number: ')\n",
    "    \n",
    "    # Convert string to integer\n",
    "    number = int(number)\n",
    "    \n",
    "    if number > correct_number:\n",
    "        print('number too big')\n",
    "        \n",
    "    elif number < correct_number:\n",
    "        print('number too small')"
   ]
  }
 ],
 "metadata": {
  "celltoolbar": "Slideshow",
  "kernelspec": {
   "display_name": "Python 3 (ipykernel)",
   "language": "python",
   "name": "python3"
  },
  "language_info": {
   "codemirror_mode": {
    "name": "ipython",
    "version": 3
   },
   "file_extension": ".py",
   "mimetype": "text/x-python",
   "name": "python",
   "nbconvert_exporter": "python",
   "pygments_lexer": "ipython3",
   "version": "3.10.9"
  }
 },
 "nbformat": 4,
 "nbformat_minor": 5
}
