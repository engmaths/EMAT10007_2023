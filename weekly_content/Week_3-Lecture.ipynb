{
 "cells": [
  {
   "cell_type": "markdown",
   "id": "23bc864e",
   "metadata": {
    "slideshow": {
     "slide_type": "slide"
    }
   },
   "source": [
    "# Introduction to Computer Programming\n",
    "\n",
    "## Control Structures - Loops\n",
    "\n",
    "* * *\n",
    "\n",
    "<img src=\"img/full-colour-logo-UoB.png\" alt=\"Bristol\" style=\"width: 300px;\"/>"
   ]
  },
  {
   "cell_type": "markdown",
   "id": "f02b56ee",
   "metadata": {
    "slideshow": {
     "slide_type": "skip"
    }
   },
   "source": [
    "The goal of writing a computer program is to automate a process.\n",
    "\n",
    "Throughout this course, we will study three fundamental topics that underpin automation:\n",
    "- __Selection:__ Decision-making<br>\n",
    "- __Repetition:__ Repeatedly executing a process<br>\n",
    "- __Modularity:__ Chunks of code that can be re-used<br>\n",
    "\n",
    "<center>\n",
    "  <img src=\"img/repetition.png\" alt=\"Drawing\" style=\"width: 600px ;\" align=\"center\"/>\n",
    "</center>"
   ]
  },
  {
   "cell_type": "markdown",
   "id": "4cf69acd",
   "metadata": {},
   "source": [
    " \n",
    "\n",
    "Real world programmes usually need to:\n",
    "- choose between multiple possible sets of statements to execute\n",
    "- skip over some statements\n",
    "- repeatedly execute some statements"
   ]
  },
  {
   "cell_type": "markdown",
   "id": "caf4925f",
   "metadata": {
    "slideshow": {
     "slide_type": "slide"
    }
   },
   "source": [
    "# Why do we use loops?\n",
    "\n",
    "A **loop** is a mechanism that allows the same piece of code to be executed many times \n",
    "\n",
    "This eliminates the need to repeatedly type or copy-and-paste code"
   ]
  },
  {
   "cell_type": "markdown",
   "id": "e88f19e6",
   "metadata": {},
   "source": [
    "# What type of loop should we use? \n",
    "\n",
    "There are two types of loop \n",
    "\n",
    "- __`for` loop (Definite iteration)__: number of repetitions is specified explicitly in advance\n",
    "- __`while loop`(Indefinite iteration)__: the code block executes until some condition is met i.e. when we are unsure exactly how many repetitions we need. \n"
   ]
  },
  {
   "cell_type": "markdown",
   "id": "d471b3fb",
   "metadata": {
    "slideshow": {
     "slide_type": "slide"
    }
   },
   "source": [
    "# Example: What type of loop?\n",
    "Print only the even values in the first ten positive integers"
   ]
  },
  {
   "cell_type": "code",
   "execution_count": null,
   "id": "b33631f1",
   "metadata": {},
   "outputs": [],
   "source": []
  },
  {
   "cell_type": "markdown",
   "id": "d3386037",
   "metadata": {
    "slideshow": {
     "slide_type": "slide"
    }
   },
   "source": [
    "# Example: What type of loop?\n",
    "A square number is an integer of the form $n^2$.  \n",
    "\n",
    "Print the square numbers, starting from 1, that are smaller than 200."
   ]
  },
  {
   "cell_type": "code",
   "execution_count": null,
   "id": "f4e66a77",
   "metadata": {},
   "outputs": [],
   "source": []
  },
  {
   "cell_type": "markdown",
   "id": "784684b1",
   "metadata": {
    "slideshow": {
     "slide_type": "slide"
    }
   },
   "source": [
    "# Example: `for` loop\n",
    "The Fibonacci sequence is a sequence of numbers where each number is the sum of the two preceding ones:\n",
    "    $$ f_n = f_{n-1} + f_{n-2} $$\n",
    "\n",
    "<br>The first two numbers in the Fibonacci sequence are 0 and 1:\n",
    "    <br>$f_0 = 0$\n",
    "    <br> $f_1 = 1$ \n",
    "    \n",
    "<br>The following numbers in the Fibonacci sequence are computed as shown above:\n",
    "    <br>$f_2 = f_1 + f_0$\n",
    "    <br> $f_3 = f_2 + f_1$ \n",
    "    \n",
    "The sequence starts: 0, 1, 1, 2, 3, 5, 8, ..."
   ]
  },
  {
   "cell_type": "markdown",
   "id": "9121724e",
   "metadata": {},
   "source": [
    "We can compute the sequence by:"
   ]
  },
  {
   "cell_type": "code",
   "execution_count": 10,
   "id": "3a1d2d27",
   "metadata": {
    "slideshow": {
     "slide_type": "fragment"
    }
   },
   "outputs": [
    {
     "name": "stdout",
     "output_type": "stream",
     "text": [
      "f0 is 0\n",
      "f1 is 1\n",
      "f2 is 1\n"
     ]
    }
   ],
   "source": [
    "a = 0\n",
    "b = 1\n",
    "print('f0 is', a)\n",
    "print('f1 is', b)\n",
    "\n",
    "# Compute next fibonacci \n",
    "c = a + b \n",
    "print('f2 is', c)"
   ]
  },
  {
   "cell_type": "code",
   "execution_count": 11,
   "id": "a95e73e7",
   "metadata": {
    "slideshow": {
     "slide_type": "fragment"
    }
   },
   "outputs": [
    {
     "name": "stdout",
     "output_type": "stream",
     "text": [
      "f4 is 2\n",
      "f5 is 3\n"
     ]
    }
   ],
   "source": [
    "# Shift values of a and b one place \n",
    "a = b   \n",
    "b = c\n",
    "\n",
    "# Compute next fibonacci \n",
    "c = a + b \n",
    "print('f4 is', c)\n",
    "\n",
    "# Shift values of a and b one place \n",
    "a = b   \n",
    "b = c\n",
    "\n",
    "# Compute next fibonacci \n",
    "c = a + b \n",
    "print('f5 is', c)"
   ]
  },
  {
   "cell_type": "markdown",
   "id": "f384e03d",
   "metadata": {},
   "source": [
    "We can see that the code is becoming quite repetative\n",
    "\n",
    "To handle this repetition more efficiently, we can use a `for` loop\n"
   ]
  },
  {
   "cell_type": "code",
   "execution_count": 9,
   "id": "66be39f3",
   "metadata": {},
   "outputs": [
    {
     "name": "stdout",
     "output_type": "stream",
     "text": [
      "f 0 = 0\n",
      "f 1 = 1\n",
      "f 3 = 1\n",
      "f 4 = 1\n",
      "f 5 = 1\n"
     ]
    }
   ],
   "source": [
    "a = 0\n",
    "b = 1\n",
    "print('f', 0, '=', a)\n",
    "print('f', 1, '=', b)\n",
    "\n",
    "for i in range(3, 6):\n",
    "    c = a + b\n",
    "    print('f', i, '=', c)\n",
    "    "
   ]
  },
  {
   "cell_type": "code",
   "execution_count": null,
   "id": "a872f490",
   "metadata": {},
   "outputs": [],
   "source": []
  },
  {
   "cell_type": "markdown",
   "id": "1b5e1343",
   "metadata": {
    "slideshow": {
     "slide_type": "slide"
    }
   },
   "source": [
    "# For-else\n",
    "A structure usign for loops that is less often used but can be useful at times. \n",
    "\n",
    "The indented code after the `else` statement is executed after checking the `if` statement condition `== False` for *all* values iterated through using the for loop. "
   ]
  },
  {
   "cell_type": "code",
   "execution_count": 32,
   "id": "25eab18b",
   "metadata": {},
   "outputs": [
    {
     "name": "stdout",
     "output_type": "stream",
     "text": [
      "Didn't find any odd numbers\n"
     ]
    }
   ],
   "source": [
    "for i in [6, 2, 4]:\n",
    "    if i%2:\n",
    "        print(\"Found odd number\")\n",
    "        break \n",
    "        \n",
    "else:\n",
    "    print(\"Didn't find any odd numbers\") \n",
    "    \n"
   ]
  },
  {
   "cell_type": "markdown",
   "id": "6c71cd25",
   "metadata": {
    "slideshow": {
     "slide_type": "slide"
    }
   },
   "source": [
    "# Summary\n",
    "\n",
    "**Loops** are used to repeatedly execute blocks of code\n",
    "* `for` loops are used to execute code a certain number of times\n",
    "* `while` loops are used to execute code until a condition is satisfied\n",
    "* The `break` keyword will terminate a loop (useful for avoiding **infinite loops**!)\n",
    "* The `continue` keyword enables blocks of code to be skipped in a loop\n",
    "* All control structures in Python use indentation to define blocks."
   ]
  },
  {
   "cell_type": "code",
   "execution_count": null,
   "id": "a6617ac9",
   "metadata": {
    "slideshow": {
     "slide_type": "skip"
    }
   },
   "outputs": [],
   "source": []
  },
  {
   "cell_type": "code",
   "execution_count": null,
   "id": "cf354451",
   "metadata": {},
   "outputs": [],
   "source": []
  }
 ],
 "metadata": {
  "celltoolbar": "Slideshow",
  "kernelspec": {
   "display_name": "Python 3 (ipykernel)",
   "language": "python",
   "name": "python3"
  },
  "language_info": {
   "codemirror_mode": {
    "name": "ipython",
    "version": 3
   },
   "file_extension": ".py",
   "mimetype": "text/x-python",
   "name": "python",
   "nbconvert_exporter": "python",
   "pygments_lexer": "ipython3",
   "version": "3.10.9"
  }
 },
 "nbformat": 4,
 "nbformat_minor": 5
}
