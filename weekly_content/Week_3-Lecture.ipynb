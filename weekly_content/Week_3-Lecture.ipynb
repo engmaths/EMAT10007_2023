{
 "cells": [
  {
   "cell_type": "markdown",
   "id": "23bc864e",
   "metadata": {
    "slideshow": {
     "slide_type": "slide"
    }
   },
   "source": [
    "# Introduction to Computer Programming\n",
    "\n",
    "## Week 3: Loops\n",
    "\n",
    "* * *\n",
    "\n",
    "<img src=\"img/full-colour-logo-UoB.png\" alt=\"Bristol\" style=\"width: 300px;\"/>"
   ]
  },
  {
   "cell_type": "markdown",
   "id": "f02b56ee",
   "metadata": {
    "slideshow": {
     "slide_type": "slide"
    }
   },
   "source": [
    "The goal of writing a computer program is to automate a process.\n",
    "\n",
    "Throughout this course, we will study three fundamental topics that underpin automation:\n",
    "- __Selection:__ Decision-making<br>\n",
    "- __Repetition:__ Repeatedly executing a process<br>\n",
    "- __Modularity:__ Chunks of code that can be re-used<br>\n",
    "\n",
    "<center>\n",
    "  <img src=\"img/repetition.png\" alt=\"Drawing\" style=\"width: 600px ;\" align=\"center\"/>\n",
    "</center>"
   ]
  },
  {
   "cell_type": "markdown",
   "id": "c703be84",
   "metadata": {
    "slideshow": {
     "slide_type": "slide"
    }
   },
   "source": [
    "# What is a loop?\n",
    "\n",
    "A **loop** is a mechanism that allows the same piece of code to be executed many times \n",
    "\n",
    "This eliminates the need to copy-and-paste code\n",
    "\n",
    "**Example**: Compute the fourth power of a number $x$:"
   ]
  },
  {
   "cell_type": "code",
   "execution_count": 1,
   "id": "f05facbe",
   "metadata": {
    "slideshow": {
     "slide_type": "fragment"
    }
   },
   "outputs": [
    {
     "name": "stdout",
     "output_type": "stream",
     "text": [
      "625\n"
     ]
    }
   ],
   "source": [
    "x = 5\n",
    "\n",
    "ans = x         # first power\n",
    "ans = ans * x   # second power\n",
    "ans = ans * x   # third power\n",
    "ans = ans * x   # fourth power\n",
    "\n",
    "print(ans)\n"
   ]
  },
  {
   "cell_type": "markdown",
   "id": "c883aa5e",
   "metadata": {
    "slideshow": {
     "slide_type": "fragment"
    }
   },
   "source": [
    "What if we wanted to compute the $n$-th power of $x$?"
   ]
  },
  {
   "cell_type": "markdown",
   "id": "784684b1",
   "metadata": {
    "slideshow": {
     "slide_type": "slide"
    }
   },
   "source": [
    " The Fibonacci sequence is a sequence of numbers where each number is the sum of the two preceding ones:\n",
    "    $$ f_n = f_{n-1} + f_{n-2} $$\n",
    " The first two numbers in the Fibonacci sequence are 0 and 1:\n",
    "    $$f_0 = 0, f_1 = 1$$ \n",
    "    \n",
    "The sequence starts: 0, 1, 1, 2, 3, 5, 8, ..."
   ]
  },
  {
   "cell_type": "code",
   "execution_count": 8,
   "id": "3a1d2d27",
   "metadata": {
    "slideshow": {
     "slide_type": "fragment"
    }
   },
   "outputs": [
    {
     "name": "stdout",
     "output_type": "stream",
     "text": [
      "First Fibonacci is 0\n",
      "Second Fibonacci is 1\n",
      "Third Fibonacci is 1\n"
     ]
    }
   ],
   "source": [
    "a = 0\n",
    "b = 1\n",
    "c = a + b \n",
    "print('First Fibonacci is', a)\n",
    "print('Second Fibonacci is', b)\n",
    "print('Third Fibonacci is', c)"
   ]
  },
  {
   "cell_type": "code",
   "execution_count": 7,
   "id": "a95e73e7",
   "metadata": {
    "slideshow": {
     "slide_type": "fragment"
    }
   },
   "outputs": [
    {
     "name": "stdout",
     "output_type": "stream",
     "text": [
      "Fourth Fibonacci is 2\n",
      "Fifth Fibonacci is 3\n"
     ]
    }
   ],
   "source": [
    "a = b   \n",
    "b = c\n",
    "c = a + b \n",
    "print('Fourth Fibonacci is', c)\n",
    "\n",
    "a = b   \n",
    "b = c\n",
    "c = a + b \n",
    "print('Fifth Fibonacci is', c)"
   ]
  },
  {
   "cell_type": "markdown",
   "id": "fa3389be",
   "metadata": {
    "slideshow": {
     "slide_type": "slide"
    }
   },
   "source": [
    "# Loops in Python\n",
    "\n",
    "\n",
    "* `for` loops: these repeat code a fixed number of times\n",
    "* `while` loops: these repeat code until a condition is satisfied"
   ]
  },
  {
   "cell_type": "markdown",
   "id": "ae37f57a",
   "metadata": {
    "slideshow": {
     "slide_type": "slide"
    }
   },
   "source": [
    "# Loops and control flow\n",
    "\n",
    "Loops often contain `if`,`elif`,`else` statements:\n",
    "***\n",
    "``` python\n",
    "for var in sequence:\n",
    "    \n",
    "    if condition:\n",
    "        # code that is executed if condition == True\n",
    "    else:\n",
    "        # code that is executed if condition == False\n",
    "   \n",
    "   # code that is always executed in the loop\n",
    "```\n",
    "***"
   ]
  },
  {
   "cell_type": "markdown",
   "id": "996980fc",
   "metadata": {},
   "source": [
    "Extra indents are required for pieces of code that are only executed in the `if` and `else` statements"
   ]
  },
  {
   "cell_type": "markdown",
   "id": "818119d8",
   "metadata": {
    "slideshow": {
     "slide_type": "slide"
    }
   },
   "source": [
    "**Example**: Print only the even values in the first ten positive integers"
   ]
  },
  {
   "cell_type": "markdown",
   "id": "a54a719f",
   "metadata": {
    "slideshow": {
     "slide_type": "slide"
    }
   },
   "source": [
    "# Which loop to choose?\n",
    "__For loops__ are used most often when we want to execute a block of code a finite number of times. \n",
    "\n",
    "```\n",
    "for i in range(5):\n",
    "    print(i)\n",
    "```\n",
    "\n",
    "__While loops__ are used more often when we are unsure exactly how many times we need to execute a block of code before exiting the loop.\n",
    "\n",
    "As a general rule, choose the loop that minimises the amount of work you need to do/code you need to write. "
   ]
  },
  {
   "cell_type": "markdown",
   "id": "7b3093a3",
   "metadata": {
    "slideshow": {
     "slide_type": "slide"
    }
   },
   "source": [
    "**Example**: A square number is an integer of the form $n^2$.  \n",
    "\n",
    "Print the square numbers, starting from 1, that are smaller than 200."
   ]
  },
  {
   "cell_type": "code",
   "execution_count": null,
   "id": "2ff68873",
   "metadata": {},
   "outputs": [],
   "source": []
  },
  {
   "cell_type": "markdown",
   "id": "6e9934e3",
   "metadata": {
    "slideshow": {
     "slide_type": "skip"
    }
   },
   "source": [
    "**Example**: Continue requesting numbers from the user until the total input exceeds 100. "
   ]
  },
  {
   "cell_type": "markdown",
   "id": "1b5e1343",
   "metadata": {
    "slideshow": {
     "slide_type": "slide"
    }
   },
   "source": [
    "# For-else\n",
    "A structure usign for loops that is less often used but can be useful at times. \n",
    "\n",
    "The indented code after the `else` statement is executed after checking the `if` statement condition `== False` for *all* values iterated through using the for loop. "
   ]
  },
  {
   "cell_type": "code",
   "execution_count": 32,
   "id": "25eab18b",
   "metadata": {},
   "outputs": [
    {
     "name": "stdout",
     "output_type": "stream",
     "text": [
      "Didn't find any odd numbers\n"
     ]
    }
   ],
   "source": [
    "for i in [6, 2, 4]:\n",
    "    if i%2:\n",
    "        print(\"Found odd number\")\n",
    "        break \n",
    "        \n",
    "else:\n",
    "    print(\"Didn't find any odd numbers\") \n",
    "    \n"
   ]
  },
  {
   "cell_type": "markdown",
   "id": "6c71cd25",
   "metadata": {
    "slideshow": {
     "slide_type": "slide"
    }
   },
   "source": [
    "# Summary\n",
    "\n",
    "**Loops** are used to repeatedly execute blocks of code\n",
    "* `for` loops are used to execute code a certain number of times\n",
    "* `while` loops are used to execute code until a condition is satisfied\n",
    "* The `break` keyword will terminate a loop (useful for avoiding **infinite loops**!)\n",
    "* The `continue` keyword enables blocks of code to be skipped in a loop"
   ]
  },
  {
   "cell_type": "code",
   "execution_count": null,
   "id": "a6617ac9",
   "metadata": {
    "slideshow": {
     "slide_type": "skip"
    }
   },
   "outputs": [],
   "source": []
  },
  {
   "cell_type": "code",
   "execution_count": null,
   "id": "cf354451",
   "metadata": {},
   "outputs": [],
   "source": []
  }
 ],
 "metadata": {
  "kernelspec": {
   "display_name": "Python 3 (ipykernel)",
   "language": "python",
   "name": "python3"
  },
  "language_info": {
   "codemirror_mode": {
    "name": "ipython",
    "version": 3
   },
   "file_extension": ".py",
   "mimetype": "text/x-python",
   "name": "python",
   "nbconvert_exporter": "python",
   "pygments_lexer": "ipython3",
   "version": "3.10.9"
  }
 },
 "nbformat": 4,
 "nbformat_minor": 5
}
