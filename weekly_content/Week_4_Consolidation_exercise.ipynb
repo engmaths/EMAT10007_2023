{
 "cells": [
  {
   "cell_type": "markdown",
   "id": "3122cada",
   "metadata": {
    "slideshow": {
     "slide_type": "slide"
    }
   },
   "source": [
    "# Introduction to Computer Programming\n",
    "\n",
    "## Consolidation Exercise 1\n",
    "<img src=\"https://github.com/engmaths/EMAT10007_2023/blob/main/weekly_content/img/full-colour-logo-UoB.png?raw=true\" width=\"20%\">\n",
    "</p>"
   ]
  },
  {
   "cell_type": "markdown",
   "id": "3859fa7a",
   "metadata": {},
   "source": [
    "This week, you will practise the computer programming skills you have learnt in weeks 1-3 by applying them to a real world task. \n",
    "\n",
    "You will use variables, operators and control structures to control a simulated mobile robot. \n",
    "\n",
    "This exercise is written in the style of 1 of the 2 exercises that you may choose from for the coursework assignment.  "
   ]
  },
  {
   "cell_type": "markdown",
   "id": "8511d871",
   "metadata": {},
   "source": [
    "# TODO:\n",
    "    \n",
    "**Add __main__() to main.py**\n",
    "\n",
    "**Draw trail coming from robot**\n",
    "    "
   ]
  },
  {
   "cell_type": "markdown",
   "id": "40a1c9cd",
   "metadata": {},
   "source": [
    "Download the folder **\\<name\\>** from **\\<name\\>**\n",
    "\n",
    "Open this as a project in Pycharm **instructions including how to install packages**\n",
    "\n",
    "There are two Python (.py) files in the folder:\n",
    "- robot_simulator.py : This generates the simulation using your code. You do not need to edit this file\n",
    "- main.py: This is where you will write your code\n",
    "\n",
    "Open main.py now\n",
    "\n",
    "This program makes the robot move in the straight line for 20 time steps."
   ]
  },
  {
   "cell_type": "markdown",
   "id": "431dcc9d",
   "metadata": {},
   "source": [
    "```python\n",
    "from robot_simulator import *  # This line must be included at the START of your program\n",
    "\n",
    "for t in range(20):\n",
    "    \n",
    "    # Linear (forward) speed of robot\n",
    "    v = 1                       \n",
    "    \n",
    "    # Angular (turning) speed of robot\n",
    "    w = 0                       \n",
    "    \n",
    "    # Moves the robot\n",
    "    update_simulation(v, w)  \n",
    "\n",
    "save_simulation_data()      # This line must be included at the END of your program\n",
    "```"
   ]
  },
  {
   "cell_type": "markdown",
   "id": "1fcf8f2e",
   "metadata": {},
   "source": [
    "Your program *must* begin with the line `from robot_simulator import *`\n",
    "<br>This launches the simulator\n",
    "\n",
    "Your program *must* end with the line `save_simulation_data()`\n",
    "<br>This saves a video (simulation_video.mp4) and the robot position data (simulatio_data.txt) from the simulation "
   ]
  },
  {
   "cell_type": "markdown",
   "id": "25cd462b",
   "metadata": {},
   "source": [
    "With each iteration of the `for` loop:\n",
    "   - the value of `v` and `w` are set\n",
    "   - the simulation is advanced by 1 timestep using the function `update_simulation`"
   ]
  },
  {
   "cell_type": "markdown",
   "id": "acea4b72",
   "metadata": {},
   "source": [
    "`update_simulation` requires inputs within the parentheses:\n",
    "- `v`: Linear (forward) speed of robot\n",
    "- `w`: Angular (turning) speed of robot"
   ]
  },
  {
   "cell_type": "markdown",
   "id": "f259fda9",
   "metadata": {},
   "source": [
    "`update_simulation` makes the robot move in different ways depending on the input:\n",
    "- **`v` = 1, `w` = 0** : forward 1 unit\n",
    "- **`v` = -1, `w` = 0** : backward 1 unit\n",
    "- **`v` = 0, `w` = 1** : turn clockwise 1 degree ($\\pi$/180 rads)\n",
    "- **`v` = 0, `w` = -1** : turn anti-clockwise 1 degree (-$\\pi$/180 rads)\n",
    "- **anything else** (e.g. `v` = 1, `w` = 1): stop\n",
    "\n",
    "Notice that this means the robot can't turn and move linearly in the same timestep\n"
   ]
  },
  {
   "cell_type": "markdown",
   "id": "5fdedc03",
   "metadata": {},
   "source": [
    "The final line:\n",
    "```python\n",
    "output_simulation_video()\n",
    "```\n",
    "saves a video of the simulation in the same folder as the Python files."
   ]
  },
  {
   "cell_type": "markdown",
   "id": "6f920e77",
   "metadata": {},
   "source": [
    "In the video, the robot is represented by a blue circle. \n",
    "\n",
    "A small black line indicates the front of the robot. \n",
    "\n",
    "The robot moves in a 200 x 200 arena always starts at position `x` = 100, `y` = 25 \n",
    "\n",
    "**PICTURE OF ROBOT**"
   ]
  },
  {
   "cell_type": "markdown",
   "id": "b933af3b",
   "metadata": {},
   "source": [
    "Try changing main.py to the following to make the robot turn on the spot for 20 timesteps"
   ]
  },
  {
   "cell_type": "markdown",
   "id": "d697c7a4",
   "metadata": {},
   "source": [
    "```python\n",
    "from robot_simulator import *  # This line must be included at the START of your program\n",
    "\n",
    "for t in range(20):\n",
    "    \n",
    "    # Linear (forward) speed of robot\n",
    "    v = 0                       \n",
    "    \n",
    "    # Angular (turning) speed of robot\n",
    "    w = 1                       \n",
    "    \n",
    "    # Moves the robot\n",
    "    update_simulation(v, w)  \n",
    "\n",
    "save_simulation_data()      # This line must be included at the END of your program\n",
    "```"
   ]
  },
  {
   "cell_type": "markdown",
   "id": "48046122",
   "metadata": {},
   "source": [
    "# Exercise 1\n",
    "Write a prgram that makes the robot move forward 20 units and then back 20 units "
   ]
  },
  {
   "cell_type": "markdown",
   "id": "6d5f6c6c",
   "metadata": {},
   "source": [
    "# Exercise 2\n",
    "\n",
    "We can use **nested loops** to make the robot drive in a square. \n",
    "\n",
    "The square has sides of length 50.\n",
    "\n",
    "Copy the program below to Pycharm and run the program to make the robot drive in a square. \n",
    "\n",
    "Modify the code to make the robot drive in a hexagon"
   ]
  },
  {
   "cell_type": "markdown",
   "id": "fa0cb451",
   "metadata": {},
   "source": [
    "```python\n",
    "from robot_simulator import *  # This line must be included at the START of your program\n",
    "\n",
    "# The square has 4 sides\n",
    "sides = 4\n",
    "\n",
    "# Each side is 50 units long\n",
    "side_length = 50\n",
    "\n",
    "# The angle at each corner is 90 degrees\n",
    "corner_angle = 90\n",
    "\n",
    "# Use of nested loops\n",
    "for i in range(sides):  \n",
    "    \n",
    "    # Moves the robot in straight line\n",
    "    for j in range(side_length):  \n",
    "        \n",
    "        update_simulation(1, 0) # v = 1 and w = 0  \n",
    "        \n",
    "    # Turns the robot\n",
    "    for k in range(corner_angle):\n",
    "        \n",
    "        update_simulation(0, 1) # v = 0 and w = 1 \n",
    "        \n",
    "save_simulation_data()      # This line must be included at the END of your program\n",
    "```"
   ]
  },
  {
   "cell_type": "markdown",
   "id": "fe2ae509",
   "metadata": {},
   "source": [
    "# Exercise 3\n",
    "\n",
    "Make the robot drive in the pattern shown\n",
    "\n",
    "**FIGURE OF S PATTERN**"
   ]
  },
  {
   "cell_type": "markdown",
   "id": "275d908d",
   "metadata": {},
   "source": [
    "# Exercise 4\n",
    "Planning a path using operators  \n",
    "The logic to then move between the points in a desired order is:\n",
    "\t◦ current position and angle\n",
    "\t◦ target position \n",
    "\t◦ required angle and distance to travel\n",
    "\t◦ move to new point over n cycles where n = distance\n",
    " \n",
    "\n",
    "\n"
   ]
  },
  {
   "cell_type": "markdown",
   "id": "af9a435b",
   "metadata": {},
   "source": [
    "# Exercise 5\n",
    "Detecting the edge with a while loop using a single sensor \n",
    "A sequence is used to store the reading from sensor (1-6) each time the code loops. \n",
    "robot.sensor\n",
    "while loops\n",
    "comparison operators, logical operators \n",
    "if \n",
    "else\n",
    "elif "
   ]
  },
  {
   "cell_type": "markdown",
   "id": "92b56121",
   "metadata": {},
   "source": [
    "# Exercise 6\n",
    "Detecting obstacles  \n",
    "A sequence is used to store the reading from sensor (1-6) each time the code loops. \n",
    "robot.sensor\n",
    "while loops\n",
    "comparison operators, logical operators \n",
    "if \n",
    "else\n",
    "elif"
   ]
  },
  {
   "cell_type": "code",
   "execution_count": null,
   "id": "c3008e3e",
   "metadata": {},
   "outputs": [],
   "source": []
  }
 ],
 "metadata": {
  "celltoolbar": "Slideshow",
  "kernelspec": {
   "display_name": "Python 3 (ipykernel)",
   "language": "python",
   "name": "python3"
  },
  "language_info": {
   "codemirror_mode": {
    "name": "ipython",
    "version": 3
   },
   "file_extension": ".py",
   "mimetype": "text/x-python",
   "name": "python",
   "nbconvert_exporter": "python",
   "pygments_lexer": "ipython3",
   "version": "3.10.9"
  }
 },
 "nbformat": 4,
 "nbformat_minor": 5
}
