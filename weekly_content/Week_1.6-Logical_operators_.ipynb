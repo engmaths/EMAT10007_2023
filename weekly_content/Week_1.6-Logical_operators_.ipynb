{
 "cells": [
  {
   "cell_type": "markdown",
   "id": "b5712157",
   "metadata": {},
   "source": [
    "# Introduction to Computer Programming\n",
    "\n",
    "## Logical Operators\n",
    "<img src=\"img/full-colour-logo-UoB.png\" alt=\"Drawing\" style=\"width: 300px;\"/>"
   ]
  },
  {
   "cell_type": "markdown",
   "id": "fcf64f6d",
   "metadata": {
    "slideshow": {
     "slide_type": "slide"
    }
   },
   "source": [
    "<a id='LogicalOperators'></a>\n",
    "# Logical Operators\n",
    "\n",
    "__Logical operators__ modify and join operands evaluated in Boolean context (`True` or `False` operands) to create more complex statements.\n",
    " \n",
    "\n",
    "```python\n",
    "and\n",
    "or\n",
    "not\n",
    "```"
   ]
  },
  {
   "cell_type": "markdown",
   "id": "0260b913",
   "metadata": {
    "slideshow": {
     "slide_type": "slide"
    }
   },
   "source": [
    "\n",
    "\n",
    "```python \n",
    "x and y\n",
    "```\n",
    "\n",
    "__Output:__\n",
    "<br> `True` if a Boolean value `x` __and__ a Boolean value `y` are *both* `True`.\n",
    "<br> Otherwise `False`.\n",
    "\n",
    "__Process:__<br>\n",
    "Return `x` if its Boolean value is `False`; otherwise, return `y`."
   ]
  },
  {
   "cell_type": "markdown",
   "id": "346a582f",
   "metadata": {},
   "source": [
    "# Examples: `and`"
   ]
  },
  {
   "cell_type": "code",
   "execution_count": 1,
   "id": "4049cb80",
   "metadata": {
    "scrolled": true
   },
   "outputs": [
    {
     "data": {
      "text/plain": [
       "True"
      ]
     },
     "execution_count": 1,
     "metadata": {},
     "output_type": "execute_result"
    }
   ],
   "source": [
    "True and True"
   ]
  },
  {
   "cell_type": "markdown",
   "id": "6295aa8c",
   "metadata": {
    "slideshow": {
     "slide_type": "slide"
    }
   },
   "source": [
    "Test if both expressions are True\n",
    "\n",
    "$10 < 9$   &nbsp; &nbsp;&nbsp; &nbsp;  `False`\n",
    "\n",
    "$20 <= 20$  &nbsp; &nbsp;                `True`"
   ]
  },
  {
   "cell_type": "code",
   "execution_count": null,
   "id": "7582cfc8",
   "metadata": {},
   "outputs": [],
   "source": [
    "\n"
   ]
  },
  {
   "cell_type": "markdown",
   "id": "1d4243fb",
   "metadata": {
    "slideshow": {
     "slide_type": "slide"
    }
   },
   "source": [
    "Test if c is equal to b and a is greater than c"
   ]
  },
  {
   "cell_type": "code",
   "execution_count": null,
   "id": "84b4202b",
   "metadata": {},
   "outputs": [],
   "source": []
  },
  {
   "cell_type": "markdown",
   "id": "99c8c9a5",
   "metadata": {
    "slideshow": {
     "slide_type": "slide"
    }
   },
   "source": [
    "```python \n",
    "x or y\n",
    "```\n",
    "\n",
    "__Output:__\n",
    "<br> `True` if a Boolean value `x` __or__ a Boolean value `y` are `True`.\n",
    "<br> Otherwise `False`. \n",
    "\n",
    "__Process:__<br>\n",
    "Return `x` if its Boolean value is `True`; otherwise, return `y`."
   ]
  },
  {
   "cell_type": "markdown",
   "id": "b5dc52f2",
   "metadata": {},
   "source": [
    "# Examples: `or`"
   ]
  },
  {
   "cell_type": "code",
   "execution_count": 1,
   "id": "c1d84854",
   "metadata": {
    "scrolled": true
   },
   "outputs": [
    {
     "data": {
      "text/plain": [
       "True"
      ]
     },
     "execution_count": 1,
     "metadata": {},
     "output_type": "execute_result"
    }
   ],
   "source": [
    "True or True"
   ]
  },
  {
   "cell_type": "markdown",
   "id": "936ef444",
   "metadata": {
    "slideshow": {
     "slide_type": "slide"
    }
   },
   "source": [
    "Test if at least one is True\n",
    "\n",
    "$10 < 9$   &nbsp; &nbsp;&nbsp; &nbsp;  `False`\n",
    "\n",
    "$20 <= 20$  &nbsp; &nbsp;                `True`"
   ]
  },
  {
   "cell_type": "code",
   "execution_count": null,
   "id": "28d4aece",
   "metadata": {},
   "outputs": [],
   "source": [
    "\n"
   ]
  },
  {
   "cell_type": "markdown",
   "id": "a892faee",
   "metadata": {
    "slideshow": {
     "slide_type": "slide"
    }
   },
   "source": [
    "Test if c is equal to b or a is greater than c"
   ]
  },
  {
   "cell_type": "code",
   "execution_count": null,
   "id": "f70de833",
   "metadata": {},
   "outputs": [],
   "source": []
  },
  {
   "cell_type": "markdown",
   "id": "1a80faec",
   "metadata": {
    "slideshow": {
     "slide_type": "slide"
    }
   },
   "source": [
    "The `not` operator negates the Boolean value of a statement"
   ]
  },
  {
   "cell_type": "markdown",
   "id": "216fee74",
   "metadata": {},
   "source": [
    "# Examples: `not`"
   ]
  },
  {
   "cell_type": "code",
   "execution_count": 1,
   "id": "cc3a694a",
   "metadata": {},
   "outputs": [
    {
     "name": "stdout",
     "output_type": "stream",
     "text": [
      "True\n"
     ]
    }
   ],
   "source": [
    "print(not(10 < 9))\n",
    "\n"
   ]
  },
  {
   "cell_type": "code",
   "execution_count": 2,
   "id": "9963b01a",
   "metadata": {
    "slideshow": {
     "slide_type": "fragment"
    }
   },
   "outputs": [],
   "source": [
    "a = 12\n",
    "\n"
   ]
  },
  {
   "cell_type": "markdown",
   "id": "bcc5686a",
   "metadata": {
    "slideshow": {
     "slide_type": "slide"
    }
   },
   "source": [
    "<a id='StackingComparisonOperators'></a>\n",
    "#  Stacking Comparison Operators\n",
    "\n",
    "The following statement tests if both the outcome of the left comparison and the right comparison are True. \n",
    "\n",
    "Both comparisons iclude the same variable, B \n",
    "\n",
    "\n",
    "```python\n",
    "a < b and b < c\n",
    "\n",
    "```\n",
    "\n",
    "We can rewrite, *stacking* the comparison operators: \n",
    "\n",
    "\n",
    "```python\n",
    "a < b < c\n",
    "\n",
    "```"
   ]
  },
  {
   "cell_type": "markdown",
   "id": "fe708770",
   "metadata": {
    "slideshow": {
     "slide_type": "slide"
    }
   },
   "source": [
    "\n",
    "Rewrite \n",
    "```python \n",
    "a < b and c < b\n",
    "```"
   ]
  },
  {
   "cell_type": "code",
   "execution_count": null,
   "id": "5ec96ba4",
   "metadata": {},
   "outputs": [],
   "source": []
  },
  {
   "cell_type": "markdown",
   "id": "7bd3b450",
   "metadata": {
    "slideshow": {
     "slide_type": "slide"
    }
   },
   "source": [
    "\n",
    "Rewrite \n",
    "```python \n",
    "a == b and b < c\n",
    "``` "
   ]
  },
  {
   "cell_type": "code",
   "execution_count": null,
   "id": "e384e2c3",
   "metadata": {},
   "outputs": [],
   "source": []
  },
  {
   "cell_type": "markdown",
   "id": "9277923e",
   "metadata": {
    "slideshow": {
     "slide_type": "slide"
    }
   },
   "source": [
    "\n",
    "<a id='OperatorPrecedence'></a>\n",
    "# Operator Precedence\n",
    "\n",
    "\n",
    "1. Parentheses\n",
    "1. Arithmetic operators (top to bottom)<br>\n",
    "   `**`                  &nbsp; &nbsp; &nbsp; &nbsp; &nbsp; &nbsp; &nbsp; &nbsp; &nbsp;&nbsp;&nbsp;&nbsp; &nbsp; &nbsp; Exponent <br>\n",
    "   `/`, `*`, `//`, `\\%`  &nbsp; &nbsp;&nbsp; Division, multiplication, floor division, modulo (evaluated left to right)<br>\n",
    "   `+`, `-`             &nbsp; &nbsp; &nbsp; &nbsp; &nbsp; &nbsp;&nbsp;&nbsp; &nbsp;&nbsp;&nbsp; &nbsp; &nbsp; Addition, subtraction (evaluated left to right)\n",
    "1. Comparison operators: `<`, `<=`,  `>`,  `>=`, `!=`, `==`(evaluated left to right)\n",
    "1. Assignment operators `=`, `/=`, `*=`, `//=`, `\\%=`, `+=`, `-=` .... \n",
    "1. Identity operators `is`, `is not`\n",
    "1. Logical `not`\n",
    "1. Logical `and`\n",
    "1. Logical `or` "
   ]
  },
  {
   "cell_type": "markdown",
   "id": "e2808097",
   "metadata": {
    "slideshow": {
     "slide_type": "slide"
    }
   },
   "source": [
    "### Need to see some more examples? \n",
    "https://www.w3schools.com/python/python_operators.asp\n",
    "<br>https://www.geeksforgeeks.org/python-operators/\n",
    "<br>https://www.programiz.com/python-programming/operators\n",
    "<br>https://pynative.com/python-operators/\n",
    "\n",
    "### Want to take a quiz?\n",
    "https://realpython.com/quizzes/python-operators-expressions/\n",
    "<br>https://pynative.com/python-operators-and-expression-quiz/\n",
    "\n",
    "### Want some more advanced information on this topic?\n",
    "https://realpython.com/python-operators-expressions/"
   ]
  },
  {
   "cell_type": "code",
   "execution_count": null,
   "id": "d2e0a993",
   "metadata": {},
   "outputs": [],
   "source": []
  }
 ],
 "metadata": {
  "celltoolbar": "Slideshow",
  "kernelspec": {
   "display_name": "Python 3 (ipykernel)",
   "language": "python",
   "name": "python3"
  },
  "language_info": {
   "codemirror_mode": {
    "name": "ipython",
    "version": 3
   },
   "file_extension": ".py",
   "mimetype": "text/x-python",
   "name": "python",
   "nbconvert_exporter": "python",
   "pygments_lexer": "ipython3",
   "version": "3.10.9"
  }
 },
 "nbformat": 4,
 "nbformat_minor": 5
}
