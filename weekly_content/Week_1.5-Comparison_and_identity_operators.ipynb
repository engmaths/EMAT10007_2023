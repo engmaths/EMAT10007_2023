{
 "cells": [
  {
   "cell_type": "markdown",
   "id": "b05d962c",
   "metadata": {
    "slideshow": {
     "slide_type": "slide"
    }
   },
   "source": [
    "# Introduction to Computer Programming\n",
    "\n",
    "## Comparison and identity operators\n",
    "\n",
    "<img src=\"img/full-colour-logo-UoB.png\" alt=\"Drawing\" style=\"width: 300px;\"/>"
   ]
  },
  {
   "cell_type": "markdown",
   "id": "edb75c08",
   "metadata": {
    "slideshow": {
     "slide_type": "slide"
    }
   },
   "source": [
    "<a id='ComparisonOperators'></a>\n",
    "# Comparison Operators\n",
    "\n",
    "__Comparison operators__ (==, !=, <, > ....) compare values (operands) and return a *Boolean* value: `True` or `False`\n",
    "\n",
    "__Commonly used comparison operators:__\n",
    "\n",
    "$==$   &nbsp; &nbsp; &nbsp; &nbsp; &nbsp;         Equality <br>\n",
    "$!=$   &nbsp; &nbsp; &nbsp; &nbsp; &nbsp;         Inequality <br>\n",
    "$>$    &nbsp; &nbsp; &nbsp; &nbsp; &nbsp; &nbsp;  Greater than <br>\n",
    "$<$    &nbsp; &nbsp; &nbsp; &nbsp; &nbsp; &nbsp;  Less than <br>\n",
    "$>=$   &nbsp; &nbsp; &nbsp; &nbsp;         Greater than or equal to <br>\n",
    "$<=$   &nbsp; &nbsp; &nbsp; &nbsp;         Less than or equal to <br>\n"
   ]
  },
  {
   "cell_type": "markdown",
   "id": "2e0659fa",
   "metadata": {
    "slideshow": {
     "slide_type": "slide"
    }
   },
   "source": [
    "### Examples"
   ]
  },
  {
   "cell_type": "code",
   "execution_count": 18,
   "id": "633ebc85",
   "metadata": {},
   "outputs": [
    {
     "name": "stdout",
     "output_type": "stream",
     "text": [
      "False\n"
     ]
    }
   ],
   "source": [
    "print(10 < 9)"
   ]
  },
  {
   "cell_type": "code",
   "execution_count": 2,
   "id": "d230b35b",
   "metadata": {
    "slideshow": {
     "slide_type": "fragment"
    }
   },
   "outputs": [
    {
     "name": "stdout",
     "output_type": "stream",
     "text": [
      "True\n"
     ]
    }
   ],
   "source": [
    "print(15 < 20)"
   ]
  },
  {
   "cell_type": "code",
   "execution_count": 1,
   "id": "3f2cbdff",
   "metadata": {
    "slideshow": {
     "slide_type": "fragment"
    }
   },
   "outputs": [
    {
     "name": "stdout",
     "output_type": "stream",
     "text": [
      "True\n"
     ]
    }
   ],
   "source": [
    "print(20 <= 20)"
   ]
  },
  {
   "cell_type": "code",
   "execution_count": 8,
   "id": "ef7e59d8",
   "metadata": {
    "slideshow": {
     "slide_type": "slide"
    }
   },
   "outputs": [],
   "source": [
    "a = 1.0\n",
    "b = 1"
   ]
  },
  {
   "cell_type": "markdown",
   "id": "afa8369a",
   "metadata": {
    "slideshow": {
     "slide_type": "-"
    }
   },
   "source": [
    "***"
   ]
  },
  {
   "cell_type": "code",
   "execution_count": 9,
   "id": "473c2214",
   "metadata": {
    "slideshow": {
     "slide_type": "-"
    }
   },
   "outputs": [
    {
     "name": "stdout",
     "output_type": "stream",
     "text": [
      "True\n"
     ]
    }
   ],
   "source": [
    "print(a == b)"
   ]
  },
  {
   "cell_type": "markdown",
   "id": "a17ca179",
   "metadata": {
    "slideshow": {
     "slide_type": "fragment"
    }
   },
   "source": [
    "***\n",
    "What is the value of `d`?"
   ]
  },
  {
   "cell_type": "code",
   "execution_count": 10,
   "id": "277b5c3b",
   "metadata": {
    "scrolled": true,
    "slideshow": {
     "slide_type": "-"
    }
   },
   "outputs": [],
   "source": [
    "d = type(a) == type(b)"
   ]
  },
  {
   "cell_type": "markdown",
   "id": "d6237487",
   "metadata": {
    "slideshow": {
     "slide_type": "slide"
    }
   },
   "source": [
    "<a id='LogicalOperators'></a>\n",
    "# Identity Operators\n",
    "\n",
    "If two variables are *equal* this does not imply that they are *identical*.  \n",
    "\n",
    "`is` : `True` if the operands are identical\n",
    "<br>`is not`: `True` if the operands are not identical"
   ]
  },
  {
   "cell_type": "code",
   "execution_count": 6,
   "id": "303d1cc2",
   "metadata": {
    "scrolled": true,
    "slideshow": {
     "slide_type": "-"
    }
   },
   "outputs": [
    {
     "name": "stdout",
     "output_type": "stream",
     "text": [
      "True\n",
      "False\n",
      "True\n"
     ]
    }
   ],
   "source": [
    "# a and b have equal value\n",
    "# a and b have different variable type\n",
    "a = 1.0\n",
    "b = 1\n",
    "\n",
    "print(a == b)\n",
    "print(a is b)\n",
    "print(a is not b)"
   ]
  },
  {
   "cell_type": "markdown",
   "id": "9277923e",
   "metadata": {
    "slideshow": {
     "slide_type": "slide"
    }
   },
   "source": [
    "\n",
    "<a id='OperatorPrecedence'></a>\n",
    "# Operator Precedence\n",
    "\n",
    "\n",
    "1. Parentheses\n",
    "1. Arithmetic operators (top to bottom)<br>\n",
    "   `**`                  &nbsp; &nbsp; &nbsp; &nbsp; &nbsp; &nbsp; &nbsp; &nbsp; &nbsp;&nbsp;&nbsp;&nbsp; &nbsp; &nbsp; Exponent <br>\n",
    "   `/`, `*`, `//`, `\\%`  &nbsp; &nbsp;&nbsp; Division, multiplication, floor division, modulo (evaluated left to right)<br>\n",
    "   `+`, `-`             &nbsp; &nbsp; &nbsp; &nbsp; &nbsp; &nbsp;&nbsp;&nbsp; &nbsp;&nbsp;&nbsp; &nbsp; &nbsp; Addition, subtraction (evaluated left to right)\n",
    "1. Comparison operators: `<`, `<=`,  `>`,  `>=`, `!=`, `==`(evaluated left to right)\n",
    "1. Assignment operators `=`, `/=`, `*=`, `//=`, `\\%=`, `+=`, `-=` .... \n",
    "1. Identity operators `is`, `is not`\n",
    "1. Logical `not`\n",
    "1. Logical `and`\n",
    "1. Logical `or` "
   ]
  }
 ],
 "metadata": {
  "celltoolbar": "Slideshow",
  "kernelspec": {
   "display_name": "Python 3 (ipykernel)",
   "language": "python",
   "name": "python3"
  },
  "language_info": {
   "codemirror_mode": {
    "name": "ipython",
    "version": 3
   },
   "file_extension": ".py",
   "mimetype": "text/x-python",
   "name": "python",
   "nbconvert_exporter": "python",
   "pygments_lexer": "ipython3",
   "version": "3.10.9"
  }
 },
 "nbformat": 4,
 "nbformat_minor": 5
}
