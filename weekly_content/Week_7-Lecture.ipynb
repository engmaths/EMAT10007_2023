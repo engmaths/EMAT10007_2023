{
 "cells": [
  {
   "cell_type": "markdown",
   "metadata": {
    "slideshow": {
     "slide_type": "slide"
    }
   },
   "source": [
    "# Introduction to Computer Programming\n",
    "\n",
    "## Week 7: Functions\n",
    "\n",
    "* * *\n",
    "\n",
    "<img src=\"img/full-colour-logo-UoB.png\" alt=\"Bristol\" style=\"width: 300px;\"/>"
   ]
  },
  {
   "cell_type": "markdown",
   "metadata": {
    "slideshow": {
     "slide_type": "slide"
    }
   },
   "source": [
    "# Recap\n",
    "\n",
    "A **function** is a collection of operations that have been packaged together and given a name\n",
    "* These operations can involve variable assignment, mathematical operations, loops, if-else statements, etc\n",
    "\n",
    "Functions are the building blocks of Python programs\n",
    "* They can be thought of as mini-programs that carry out specific tasks (e.g. square a number)"
   ]
  },
  {
   "cell_type": "markdown",
   "metadata": {
    "slideshow": {
     "slide_type": "slide"
    }
   },
   "source": [
    "* Functions are defined using the `def` keyword\n",
    "* Inputs to functions are called **arguments**\n",
    "* Outputs of functions are specified using the `return` keyword"
   ]
  },
  {
   "cell_type": "code",
   "execution_count": 1,
   "metadata": {},
   "outputs": [],
   "source": [
    "def add(a, b):\n",
    "    return a + b"
   ]
  },
  {
   "cell_type": "markdown",
   "metadata": {
    "slideshow": {
     "slide_type": "slide"
    }
   },
   "source": [
    "Good programming practices with functions:\n",
    "* Functions defined one after the other at the top of .py files\n",
    "* Each function has a single purpose\n",
    "* Functions and arguments have short but descriptive names\n",
    "* Functions are well documented with comments and docstrings"
   ]
  },
  {
   "cell_type": "markdown",
   "metadata": {
    "slideshow": {
     "slide_type": "slide"
    }
   },
   "source": [
    "# Discussion question"
   ]
  },
  {
   "cell_type": "markdown",
   "metadata": {
    "slideshow": {
     "slide_type": "slide"
    }
   },
   "source": [
    "# Discussion question"
   ]
  },
  {
   "cell_type": "markdown",
   "metadata": {
    "slideshow": {
     "slide_type": "slide"
    }
   },
   "source": [
    "# Exercise\n",
    "\n",
    "A mass is thrown upwards with speed $v_0 = 10$ m/s.  The equation for the height\n",
    "is given by\n",
    "$$\n",
    "h(t) = v_0 t - \\frac{1}{2}\\, g t^2,\n",
    "$$\n",
    "where $t$ is time and $g = 9.8$ m/s$^2$ is the gravitational acceleration.\n",
    "\n",
    "Define a Python function and use it to calculate $h(1)$, i.e. the height of the mass after 1 s."
   ]
  },
  {
   "cell_type": "code",
   "execution_count": 13,
   "metadata": {
    "slideshow": {
     "slide_type": "slide"
    }
   },
   "outputs": [
    {
     "name": "stdout",
     "output_type": "stream",
     "text": [
      "5.1\n"
     ]
    }
   ],
   "source": [
    "def h(t):\n",
    "    v_0 = 10\n",
    "    g = 9.8\n",
    "    h = v_0 * t - 1/2 * g * t**2\n",
    "    return h\n",
    "\n",
    "print(h(1))"
   ]
  },
  {
   "cell_type": "markdown",
   "metadata": {
    "slideshow": {
     "slide_type": "slide"
    }
   },
   "source": [
    "Now evaluate the function $h(t)$ at 20 points in time between $t = 0$ and $t = 3$.  \n",
    "\n",
    "Use the data to estimate the maximum height of the mass"
   ]
  },
  {
   "cell_type": "code",
   "execution_count": 21,
   "metadata": {},
   "outputs": [
    {
     "name": "stdout",
     "output_type": "stream",
     "text": [
      "5.0759002770083095\n"
     ]
    }
   ],
   "source": [
    "N = 20\n",
    "delta_t = 3 / (N - 1)\n",
    "\n",
    "t_points = [n * delta_t for n in range(N)]\n",
    "h_points = [h(t) for t in t_points]\n",
    "\n",
    "print(max(h_points))"
   ]
  },
  {
   "cell_type": "markdown",
   "metadata": {
    "slideshow": {
     "slide_type": "slide"
    }
   },
   "source": [
    "# Branching functions\n",
    "\n",
    "If and else statements, and multiple `return` keywords, can be used in a function to produce different outputs\n",
    "\n",
    "**Example**: Write a function that determines whether an integer is even.  If so, the function should return the boolean True.  Otherwise, the function should return the boolean False."
   ]
  },
  {
   "cell_type": "code",
   "execution_count": 3,
   "metadata": {
    "slideshow": {
     "slide_type": "slide"
    }
   },
   "outputs": [
    {
     "name": "stdout",
     "output_type": "stream",
     "text": [
      "True\n",
      "False\n"
     ]
    }
   ],
   "source": [
    "def is_even(n):\n",
    "    if n % 2 == 0:\n",
    "        return True\n",
    "    else:\n",
    "        return False\n",
    "        \n",
    "n = 4\n",
    "print(is_even(n))\n",
    "\n",
    "m = 55\n",
    "print(is_even(m))"
   ]
  },
  {
   "cell_type": "markdown",
   "metadata": {},
   "source": [
    "# Group activity\n",
    "\n",
    "Log on to Blackboard and download the files `w7_bad_example.py` and `rubric.xls`\n",
    "\n",
    "In your table group (or subgroups if your table is large):\n",
    "\n",
    "1. Run the code (yes, it works) to determine what it does and how it works\n",
    "2. Grade the code using the rubric, which is based on last year's assessment\n",
    "3. Individually redesign the code using the guidelines on functional programming in video 7.3\n",
    "4. Ask someone in your group to grade your new code\n",
    "\n",
    "A solution will be available on Thursday at 2 pm\n"
   ]
  }
 ],
 "metadata": {
  "celltoolbar": "Slideshow",
  "kernelspec": {
   "display_name": "Python 3 (ipykernel)",
   "language": "python",
   "name": "python3"
  },
  "language_info": {
   "codemirror_mode": {
    "name": "ipython",
    "version": 3
   },
   "file_extension": ".py",
   "mimetype": "text/x-python",
   "name": "python",
   "nbconvert_exporter": "python",
   "pygments_lexer": "ipython3",
   "version": "3.11.4"
  }
 },
 "nbformat": 4,
 "nbformat_minor": 4
}
