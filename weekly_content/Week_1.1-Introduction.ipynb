{
 "cells": [
  {
   "cell_type": "markdown",
   "metadata": {
    "slideshow": {
     "slide_type": "slide"
    }
   },
   "source": [
    "\n",
    "\n",
    "# Introduction to Computer Programming\n",
    "\n",
    "## Course Introduction\n",
    "\n",
    "\n",
    "<img src=\"img/full-colour-logo-UoB.png\" alt=\"Drawing\" style=\"width: 300px;\"/>"
   ]
  },
  {
   "cell_type": "markdown",
   "metadata": {
    "slideshow": {
     "slide_type": "slide"
    }
   },
   "source": [
    "# What is computer programming? \n",
    "\n",
    "Programming is a way to tell a computer to do a specific task e.g. \n",
    "- adding two numbers\n",
    "- plotting some data as a graph \n",
    "- saving a file\n",
    "\n",
    "Computers understand instructions that are written in a specific *syntax* form called a __programming language__."
   ]
  },
  {
   "cell_type": "markdown",
   "metadata": {
    "slideshow": {
     "slide_type": "slide"
    }
   },
   "source": [
    "# Why study programming?\n",
    "- A tool you can use for your studies (data, calculation, modeling, simulation...). \n",
    "- A growing sector of the jobs market (software engineering, data science, AI, robotics...).\n",
    "- Increasing use of coding within jobs and areas of academia not traditionally related to computing.\n",
    "- Coding is fun! (personal projects, competitions, charity sector...)"
   ]
  },
  {
   "cell_type": "markdown",
   "metadata": {
    "slideshow": {
     "slide_type": "slide"
    }
   },
   "source": [
    "# Course Goals\n",
    "\n",
    "- A good standalone programming toolkit.\n",
    "- Skills to improve the quality of your work in other subjects. \n",
    "- A fundamental base from which to start developing further as a programmer. \n"
   ]
  },
  {
   "cell_type": "markdown",
   "metadata": {
    "slideshow": {
     "slide_type": "slide"
    }
   },
   "source": [
    "# Course Entry Level\n",
    "\n",
    "Beginner, no prior programming knowlegde.\n",
    "\n",
    "Suitable for students on engineering degree programmes"
   ]
  },
  {
   "cell_type": "markdown",
   "metadata": {
    "slideshow": {
     "slide_type": "slide"
    }
   },
   "source": [
    "# Language: Python\n",
    " - Free and open source\n",
    " - Versatile - both a *scripting* and a *programming* language:\n",
    "    - *scripting* : run in a host application for debugging and viewing output (e.g. a mathematical model)\n",
    "    - *programming* : controls a computer or machine (e.g. a microcontroller on a robot)\n",
    " - Increasingly used in industry and academia\n",
    " - Large and diverse community of users and developers\n",
    "\n",
    " <img src=\"img/Python-Symbol.png\" alt=\"Drawing\" style=\"width: 200px;\"/>"
   ]
  },
  {
   "cell_type": "markdown",
   "metadata": {
    "slideshow": {
     "slide_type": "slide"
    }
   },
   "source": [
    "# Lecturers \n",
    "\n",
    "\n",
    "<center>\n",
    "  <img align=\"center\" src=\"img/lecturers.png\" alt=\"Drawing\" style=\"width: 400px;\"/>\n",
    "</center> \n",
    "\n"
   ]
  },
  {
   "cell_type": "markdown",
   "metadata": {
    "slideshow": {
     "slide_type": "slide"
    }
   },
   "source": [
    "# Course stucture\n",
    "\n",
    "| Week    | Topic                                      | Assessment         |  \n",
    "| :------ | :---------------                           | :---------------    |\n",
    "| 1       | Objects, Variables & Operators             || \n",
    "| 2       | Control Structures: Conditional Statements || \n",
    "| 3       | Control Structures: Loops                  || \n",
    "| 4       | __Consolidation 1__                        ||\n",
    "| 5       | Data Structures                            || \n",
    "| 6       | *Reading Week*                             ||\n",
    "| 7       | Functions 1                                || \n",
    "| 8       | Reading and Plotting Data                  |Syntax Test          | \n",
    "| 9       | __Consolidation 2__                        |Coursework set       | \n",
    "| 10      | Functions 2                                || \n",
    "| 11      | Coursework support session                 |Coursework submission| \n",
    "| 12      | __Consolidation 3__                        ||"
   ]
  },
  {
   "cell_type": "markdown",
   "metadata": {
    "slideshow": {
     "slide_type": "slide"
    }
   },
   "source": [
    "# Assessment: \n",
    "\n",
    "### Consolidation Exercises\n",
    "The Consolidation Exercises are un *ungraded* formative assessment.\n",
    "<br>You will recieve verbal feedback from the TAs on the work you complete for Consolidation Exercises 1 and 2, during the consolidation session.\n",
    "<br>Sample solutions will also be provided.\n",
    " \n",
    "\n",
    "### Coursework Assignment (75%)\n",
    "The coursework assignment will be a choice of two problems: one in the style of Consolidation Exercise 1 and one in the style of Consolidation Exercise 2\n",
    "\n",
    "### Syntax Test (25%)\n",
    "The Syntax Test will be a timed online test.\n",
    "\n"
   ]
  },
  {
   "cell_type": "markdown",
   "metadata": {
    "slideshow": {
     "slide_type": "slide"
    }
   },
   "source": [
    "# Course Material \n",
    "\n",
    "The links to **videos, slides and exercises** are on Blackboard\n",
    "\n",
    "Go to the Blackboard Page for this unit: **Introduction to Computer Programming 2023**\n",
    "\n",
    "Choose **'Weeks 1 - 6'** from the side panel\n",
    "\n",
    "Click on the week number to view the material for that week"
   ]
  },
  {
   "cell_type": "markdown",
   "metadata": {
    "slideshow": {
     "slide_type": "slide"
    }
   },
   "source": [
    "# Pre-watch/ pre-read material\n",
    "\n",
    "Each week (except for consolidation weeks) you MUST watch the set of pre-watch videos before coming to the lecture.\n",
    "\n",
    "The video contents can also be opened as a Google Colaboratory notebook to view and pre-read the text and code instead of, or in addition to, the video. \n",
    "\n",
    "The recorded material is designed to help you work through the fundamental concepts for the week at your own pace and go over things multiple times if needed. \n",
    " \n",
    "There are 3-4, videos per week, 10-15 minute each\n",
    "\n",
    "(6 videos this week only because of the 2 course intro videos)\n"
   ]
  },
  {
   "cell_type": "markdown",
   "metadata": {
    "slideshow": {
     "slide_type": "slide"
    }
   },
   "source": [
    "# Need more practise or want some more advanced information?  \n",
    "\n",
    "We understand that you are coming to this course from different backgrounds and with different levels of experience. \n",
    "\n",
    "At the end of each video there are mulitple links to:\n",
    "- online examples to help you practise what you have seen\n",
    "- online quizzes to help you to test your understanding \n",
    "- articles with more advanced information in case you are curious to know more"
   ]
  },
  {
   "cell_type": "markdown",
   "metadata": {
    "slideshow": {
     "slide_type": "slide"
    }
   },
   "source": [
    "# Asking questions\n",
    "\n",
    "So that we can answer your questions as efficiently and comprehensively as possible, please add any questions about the pre-watch/pre-read material to the Course Discussion Board. \n",
    "\n",
    "This can be found on Blackboard.\n",
    "\n",
    "Go to the Blackboard Page for this unit: **Introduction to Computer Programming 2023**\n",
    "\n",
    "Choose **'Discussions'** from the side panel\n",
    "\n",
    "Select 'Ask a question' and then 'Create thread' to post your question. \n",
    "\n",
    "We will answer questions at beginning of the next lecture or by posting a response. \n",
    "\n",
    "The deadline for posting a question to recieve a response by, or in, the next lecture is the day before the lecture (Monday), 9am.  "
   ]
  },
  {
   "cell_type": "markdown",
   "metadata": {
    "slideshow": {
     "slide_type": "slide"
    }
   },
   "source": [
    "# Lecture (Tuesday)\n",
    "- Video Q&A\n",
    "- Code demontrations\n",
    "- Discussion to build on pre-watch/pre-read content "
   ]
  },
  {
   "cell_type": "markdown",
   "metadata": {
    "slideshow": {
     "slide_type": "slide"
    }
   },
   "source": [
    "# Lab (Thursday)\n",
    "- 5 exercises to complete each week \n",
    "- TA-run session"
   ]
  },
  {
   "cell_type": "markdown",
   "metadata": {
    "slideshow": {
     "slide_type": "slide"
    }
   },
   "source": [
    "# Lab-support session (Friday)\n",
    "- An extra session for more support if you haven't completed exercises on Thursday\n",
    "- TA-run session"
   ]
  },
  {
   "cell_type": "code",
   "execution_count": null,
   "metadata": {},
   "outputs": [],
   "source": []
  }
 ],
 "metadata": {
  "celltoolbar": "Slideshow",
  "kernelspec": {
   "display_name": "Python 3 (ipykernel)",
   "language": "python",
   "name": "python3"
  },
  "language_info": {
   "codemirror_mode": {
    "name": "ipython",
    "version": 3
   },
   "file_extension": ".py",
   "mimetype": "text/x-python",
   "name": "python",
   "nbconvert_exporter": "python",
   "pygments_lexer": "ipython3",
   "version": "3.11.4"
  }
 },
 "nbformat": 4,
 "nbformat_minor": 2
}
