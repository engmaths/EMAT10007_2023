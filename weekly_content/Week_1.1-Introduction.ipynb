{
 "cells": [
  {
   "cell_type": "markdown",
   "metadata": {
    "slideshow": {
     "slide_type": "slide"
    }
   },
   "source": [
    "\n",
    "\n",
    "# Introduction to Computer Programming\n",
    "\n",
    "## 1.1 Course Introduction\n",
    "\n",
    "\n",
    "<img src=\"img/full-colour-logo-UoB.png\" alt=\"Drawing\" style=\"width: 300px;\"/>"
   ]
  },
  {
   "cell_type": "markdown",
   "metadata": {
    "slideshow": {
     "slide_type": "slide"
    }
   },
   "source": [
    "# What is computer programming? \n",
    "\n",
    "Programming is a way to tell a computer to do a specific task e.g. \n",
    "- adding two numbers\n",
    "- plotting some data as a graph \n",
    "- saving a file\n",
    "\n",
    "Computers understand instructions that are written in a specific *syntax* form called a __programming language__."
   ]
  },
  {
   "cell_type": "markdown",
   "metadata": {
    "slideshow": {
     "slide_type": "slide"
    }
   },
   "source": [
    "# Why study programming?\n",
    "- A tool you can use for your studies (data, modeling, calculation, simulation...). \n",
    "- A growing sector of the jobs market (software engineering, data science, AI, robotics...).\n",
    "- Increasing use of coding within jobs and areas of academia not traditionally related to computing.\n",
    "- Coding is fun! (personal projects, creative technology, competitions, charity sector...)"
   ]
  },
  {
   "cell_type": "markdown",
   "metadata": {
    "slideshow": {
     "slide_type": "slide"
    }
   },
   "source": [
    "# Why study Python?\n",
    " - Free and open source\n",
    " - \"High level\" \n",
    "     - human-understandable\n",
    "     - abstracted from machine-level computing processes (eg. memory management)\n",
    " - Easy to learn\n",
    " - Versatile - both a *scripting* and a *programming* langauge:\n",
    "    - *scripting* : run in a host application for debugging and viewing output (e.g. a mathematical model)\n",
    "    - *programming* : controls a computer or machine (e.g. a microcontroller on a robot)\n",
    " - Increasingly used in industry and academia\n",
    " - Large and diverse community of users and developers\n",
    "\n",
    " <img src=\"img/python_logo.png\" alt=\"Drawing\" style=\"width: 200px;\"/>"
   ]
  },
  {
   "cell_type": "markdown",
   "metadata": {
    "slideshow": {
     "slide_type": "slide"
    }
   },
   "source": [
    "# Course Goals\n",
    "\n",
    "- A good standalone programming toolkit.\n",
    "- Skills to improve the quality of your work in other subjects. \n",
    "- A fundamental base from which to start developing further as a programmer. \n"
   ]
  },
  {
   "cell_type": "markdown",
   "metadata": {
    "slideshow": {
     "slide_type": "slide"
    }
   },
   "source": [
    "# Course Entry Level\n",
    "\n",
    "Beginner, no prior programming knowlegde.\n",
    "<br>First year (and upwards), engineering / engineering-related degree programmme"
   ]
  },
  {
   "cell_type": "markdown",
   "metadata": {
    "slideshow": {
     "slide_type": "slide"
    }
   },
   "source": [
    "# Course stucture: Weekly schedule \n",
    "\n",
    "\n",
    "\n",
    "__Group 1__ : EENG\n",
    "\n",
    "__Group 2__: everyone else - EMAT, Digital Health (MSc + CDT), Biorobotics (MSc) etc\n",
    "\n",
    "<b1><center>Lecture/lab</center></b1>\n",
    "\n",
    " | Group 1| Group 2 |  \n",
    " | :-: | :-: |   \n",
    "| Monday  |Tuesday  |  \n",
    "| 10:00-12:00 |13:00-15:00 |  \n",
    "| MVB 2.11 |MVB 2.11 | \n",
    "\n",
    "\n",
    "***\n",
    "<b1><center>Drop-in support sessions:</center></b1> \n",
    "    \n",
    "<b1><center> Bring your questions about the weekly exercises for 1-2-1 support from TAs</center></b1>\n",
    "\n",
    " | On-campus | \n",
    " | :-: |  \n",
    "| Friday | \n",
    "| 15:00-17:00 |\n",
    "| MVB 1.15 | \n",
    "\n",
    "\n",
    "\n",
    "\n",
    "\n"
   ]
  },
  {
   "cell_type": "markdown",
   "metadata": {
    "slideshow": {
     "slide_type": "slide"
    }
   },
   "source": [
    "# Class Structure: \n",
    "\n",
    "Lecturers: Hemma Philamore, Matthew Hennessy\n",
    " \n",
    "###### Part 1 (1 hour)\n",
    "- 15-30 mins theory/demos\n",
    "- 30-45 mins practise exercises (essential + advanced questions) \n",
    "\n",
    "###### Part 2 (1 hour)\n",
    "- 15-30 mins theory/demos\n",
    "- 30-45 mins practise exercises (essential + advanced questions)"
   ]
  },
  {
   "cell_type": "markdown",
   "metadata": {
    "slideshow": {
     "slide_type": "fragment"
    }
   },
   "source": [
    "Please sit in the same seat/area of the lab each week - TAs will monitor the same areas of the lab - look out for their lanyards! "
   ]
  },
  {
   "cell_type": "markdown",
   "metadata": {
    "slideshow": {
     "slide_type": "fragment"
    }
   },
   "source": [
    "Complete any unfinished 'essential' exercises for homework (not assessed). \n",
    "\n",
    "Optional weekly drop-in sessions: Bring your questions about the weekly exercises for 1-2-1 support from TAs"
   ]
  },
  {
   "cell_type": "markdown",
   "metadata": {
    "slideshow": {
     "slide_type": "slide"
    }
   },
   "source": [
    "# How To Access the Course Material\n",
    "Blackboard page for unit EMAT10007:\n",
    "- Slides (pdf and Jupyter notebook)\n",
    "- Weekly exercises (pdf)\n",
    "- Example answers released the following week"
   ]
  },
  {
   "cell_type": "markdown",
   "metadata": {
    "slideshow": {
     "slide_type": "slide"
    }
   },
   "source": [
    "# Different ways of running Python / software we will use\n",
    "\n",
    "We wil run Python code (scripts) in different environments:\n",
    "- Jupyter notebook (lecture slides, demos)\n",
    "- Spyder IDE (integrated development environment)\n",
    "\n",
    "<br>\n",
    "\n",
    "#### IDE (integrated development environment)\n",
    "A single piece of software to:\n",
    "- write and edit code\n",
    "- run code and see the output\n",
    "- debug code (graphical dispay showing the nature and cause of an error)\n",
    "\n"
   ]
  },
  {
   "cell_type": "code",
   "execution_count": 3,
   "metadata": {},
   "outputs": [
    {
     "name": "stdout",
     "output_type": "stream",
     "text": [
      "9\n"
     ]
    }
   ],
   "source": [
    "B = 9\n",
    "\n",
    "print(B) \n"
   ]
  },
  {
   "cell_type": "markdown",
   "metadata": {
    "slideshow": {
     "slide_type": "slide"
    }
   },
   "source": [
    "\n",
    "The focus of this course is to learn the Python __syntax__ .\n",
    "\n",
    "We will use a limited number of environments to run Python code. \n",
    "\n",
    "Python may be be run in many other environments (computer command line, raspberry pi etc...)  "
   ]
  },
  {
   "cell_type": "markdown",
   "metadata": {
    "slideshow": {
     "slide_type": "slide"
    }
   },
   "source": [
    "# Installing Anaconda on your personal computer\n",
    "Anaconda installs a number of applications including:\n",
    "- Jupyter notebook \n",
    "- Spyder IDE \n",
    "\n",
    "Instructions for installing Anaconda on your personal computer:\n",
    "- Windows : https://docs.anaconda.com/anaconda/install/windows/\n",
    "- Mac : https://docs.anaconda.com/anaconda/install/mac-os/\n",
    "- Linux : https://docs.anaconda.com/anaconda/install/linux/ "
   ]
  },
  {
   "cell_type": "markdown",
   "metadata": {
    "slideshow": {
     "slide_type": "slide"
    }
   },
   "source": [
    "## Opening Anaconda \n",
    "\n",
    "You may use the lab computers or personal laptop computers in the lecture:\n",
    "\n",
    "__Linux lab__\n",
    "- Click on Activities in the top left corner of the screen.\n",
    "- Open Terminal from programs menu\n",
    "- `/opt/anaconda/2020.07/bin/anaconda-navigator`\n",
    "- Press enter\n",
    "\n",
    "__Personal computer__\n",
    "- Choose Anaconda from the programs menu\n",
    "\n",
    "<img src=\"img/Anaconda_Logo.png\" alt=\"Drawing\" style=\"width: 200px;\"/>\n",
    "\n",
    "\n"
   ]
  },
  {
   "cell_type": "markdown",
   "metadata": {
    "slideshow": {
     "slide_type": "slide"
    }
   },
   "source": [
    "\n",
    "## Opening Jupyter notebook \n",
    "Click 'Launch' next to the Jupyter notebook application. \n",
    "\n",
    "<img src=\"img/jupyter_logo.png\" alt=\"Drawing\" style=\"width: 100px;\"/>\n",
    "\n",
    "The application will open in a web browser. \n",
    "\n",
    "\n"
   ]
  },
  {
   "cell_type": "markdown",
   "metadata": {
    "slideshow": {
     "slide_type": "fragment"
    }
   },
   "source": [
    "## Opening lecture notes in Jupyter notebook\n",
    "1. Download lecture notes as a .ipynb file from blackboard.\n",
    "2. Within the Jupyter notebook browser window you will see your computer file system.\n",
    "3. Navigate to where you have saved the .ipynb file from blackboard. \n",
    "4. Click on it to open.\n",
    "5. You can now interactively edit and run the code you see on the lecture slides.  \n",
    "\n",
    "Alternativey you can open the slides as pdf (non-interactive) version. "
   ]
  },
  {
   "cell_type": "markdown",
   "metadata": {
    "slideshow": {
     "slide_type": "slide"
    }
   },
   "source": [
    "# Dependencies \n",
    "\n",
    "If viewing slides using Jupyter notebook...\n",
    "\n",
    "The folders `sample_data`, and `img` should be stored in the *same folder* as the lecture slides (.ipynb files) for the images and code examples to appear correctly in the lecture slides.\n",
    "\n",
    "You can download `sample_data`, and `img` from the main blackboard page.\n",
    "\n",
    "It is recommended that you store __all slides__, __`sample_data`__,  __`img`__ together in a single folder. \n",
    "\n",
    " \n"
   ]
  },
  {
   "cell_type": "markdown",
   "metadata": {
    "slideshow": {
     "slide_type": "slide"
    }
   },
   "source": [
    "# Opening Spyder\n",
    "\n",
    "Click 'Launch' next to the Spyder application\n",
    "\n",
    "<img src=\"img/spyder_logo.png\" alt=\"Drawing\" style=\"width: 100px;\"/>"
   ]
  },
  {
   "cell_type": "markdown",
   "metadata": {
    "slideshow": {
     "slide_type": "slide"
    }
   },
   "source": [
    "# How to save your work in Spyder\n",
    "\n",
    "You will complete the weekly exercises in spyder. \n",
    "\n",
    "These are effectively your notes. \n",
    "\n",
    "Save them in an organised way (e.g using the week/class number).\n",
    "\n",
    "File >> Save >> `Filename` (.py file extension automatically added)\n",
    "\n",
    "For now, save your files under your username, you *should* be able to access this from elsewhere in the university."
   ]
  },
  {
   "cell_type": "markdown",
   "metadata": {
    "slideshow": {
     "slide_type": "slide"
    }
   },
   "source": [
    "# How you will be assessed\n",
    "\n",
    "__Coursework 1 (50%):__ Syntax test. Set week 5, deadline week 7 (Feedback week 9)\n",
    "\n",
    "__Coursework 2 (50%):__ Modelling exercise. Set week 9, deadline week 11 "
   ]
  },
  {
   "cell_type": "markdown",
   "metadata": {
    "slideshow": {
     "slide_type": "slide"
    }
   },
   "source": [
    "\n",
    "<h1><center>Any Questions?</center></h1>"
   ]
  },
  {
   "cell_type": "markdown",
   "metadata": {
    "slideshow": {
     "slide_type": "slide"
    }
   },
   "source": [
    "<h1><center>Let's give it a go!...</center></h1>"
   ]
  }
 ],
 "metadata": {
  "celltoolbar": "Slideshow",
  "kernelspec": {
   "display_name": "Python 3",
   "language": "python",
   "name": "python3"
  },
  "language_info": {
   "codemirror_mode": {
    "name": "ipython",
    "version": 3
   },
   "file_extension": ".py",
   "mimetype": "text/x-python",
   "name": "python",
   "nbconvert_exporter": "python",
   "pygments_lexer": "ipython3",
   "version": "3.8.3"
  }
 },
 "nbformat": 4,
 "nbformat_minor": 2
}
