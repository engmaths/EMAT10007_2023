{
 "cells": [
  {
   "cell_type": "markdown",
   "id": "3122cada",
   "metadata": {
    "slideshow": {
     "slide_type": "slide"
    }
   },
   "source": [
    "# Introduction to Computer Programming\n",
    "\n",
    "## Control Structures - Conditional Statements\n",
    "<img src=\"https://github.com/engmaths/EMAT10007_2023/blob/main/weekly_content/img/full-colour-logo-UoB.png?raw=true\" width=\"20%\">\n",
    "</p>"
   ]
  },
  {
   "cell_type": "markdown",
   "id": "23d8408f",
   "metadata": {
    "slideshow": {
     "slide_type": "slide"
    }
   },
   "source": [
    "### Open the Google Colab notebook for this lecture using the link on Blackboard\n",
    "\n",
    "Fill in the empty cells during the in-class exercises\n"
   ]
  },
  {
   "cell_type": "markdown",
   "id": "4da602f3",
   "metadata": {
    "slideshow": {
     "slide_type": "slide"
    }
   },
   "source": [
    "So far we have written code as a sequence of statements one after the other. \n",
    "\n",
    "Real world programmes usually need to:\n",
    "- choose between multiple possible sets of statements to execute\n",
    "- skip over some statements\n",
    "- repeatedly execute some statements\n",
    "\n"
   ]
  },
  {
   "cell_type": "markdown",
   "id": "23463144",
   "metadata": {
    "slideshow": {
     "slide_type": "slide"
    }
   },
   "source": [
    "<a id='ControlStatements'></a>\n",
    "# Conditional Statements \n",
    "\n",
    "Perform decision making in a program \n",
    "\n",
    "Allow __conditional__ execution of a block of code based on the Boolean value of an expression.\n",
    "\n"
   ]
  },
  {
   "cell_type": "markdown",
   "id": "5fee5f09",
   "metadata": {
    "slideshow": {
     "slide_type": "slide"
    }
   },
   "source": [
    "# Video Q&A\n",
    "\n",
    "### Make use of the discussion board\n",
    "\n",
    "Blackboard page >> Course tools >> Discussion Board >> EMAT10007_2023_TB-1 >> Ask a question\n"
   ]
  },
  {
   "cell_type": "markdown",
   "id": "591be229",
   "metadata": {
    "slideshow": {
     "slide_type": "slide"
    }
   },
   "source": [
    "# Example: `if` statement\n",
    "\n",
    "\n",
    "If the first letter in the word is `a`, print the word\n",
    "\n",
    "```python\n",
    "word = 'apple'\n",
    "```"
   ]
  },
  {
   "cell_type": "code",
   "execution_count": 1,
   "id": "0a2d8723",
   "metadata": {},
   "outputs": [
    {
     "name": "stdout",
     "output_type": "stream",
     "text": [
      "apple\n"
     ]
    }
   ],
   "source": [
    "word = 'apple'\n",
    "\n",
    "if word[0] == 'a':\n",
    "    print(word)"
   ]
  },
  {
   "cell_type": "markdown",
   "id": "8aa8d694",
   "metadata": {
    "slideshow": {
     "slide_type": "slide"
    }
   },
   "source": [
    "# Example: `if` statement\n",
    "<span style=\"color:blue\">In the Google Colab notebook for this lecture  write out the following operation using Python if statement</span>\n",
    "\n",
    "If the value of a number positive, print `positive`\n",
    "\n",
    "```python\n",
    "number = 10\n",
    "```"
   ]
  },
  {
   "cell_type": "code",
   "execution_count": 5,
   "id": "69fa6ad9",
   "metadata": {},
   "outputs": [],
   "source": [
    "number = -1\n",
    "\n",
    "if number > 0:\n",
    "    print('positive')"
   ]
  },
  {
   "cell_type": "markdown",
   "id": "9e008fb0",
   "metadata": {
    "slideshow": {
     "slide_type": "slide"
    }
   },
   "source": [
    "# Example: `if` statement\n",
    "<span style=\"color:blue\">In the Google Colab notebook for this lecture  write out the following operation using Python if statement</span>\n",
    "\n",
    "Print two integers, `a` and `b` only if they are *both* greater than 10.  \n",
    "\n",
    "```python\n",
    "a = 1\n",
    "b = 3\n",
    "```"
   ]
  },
  {
   "cell_type": "code",
   "execution_count": 7,
   "id": "267db2fb",
   "metadata": {},
   "outputs": [
    {
     "name": "stdout",
     "output_type": "stream",
     "text": [
      "11 11\n"
     ]
    }
   ],
   "source": [
    "a, b = 11, 11\n",
    "\n",
    "if a > 10 and b > 10:\n",
    "    print(a, b)"
   ]
  },
  {
   "cell_type": "markdown",
   "id": "6af863eb",
   "metadata": {
    "slideshow": {
     "slide_type": "slide"
    }
   },
   "source": [
    "# Example: `if...else` statements\n",
    "\n",
    "If the student score if greater than or equal to 40, the outcome is `pass`, otherwise the outcome is `fail` "
   ]
  },
  {
   "cell_type": "code",
   "execution_count": 114,
   "id": "d9ea0084",
   "metadata": {
    "slideshow": {
     "slide_type": "-"
    }
   },
   "outputs": [
    {
     "name": "stdout",
     "output_type": "stream",
     "text": [
      "pass\n"
     ]
    }
   ],
   "source": [
    "score = 50\n",
    "\n",
    "if score >= 40:\n",
    "    outcome = 'pass'\n",
    "else:\n",
    "    outcome = 'fail'\n",
    "    \n",
    "print(outcome)\n"
   ]
  },
  {
   "cell_type": "markdown",
   "id": "c30705de",
   "metadata": {
    "slideshow": {
     "slide_type": "slide"
    }
   },
   "source": [
    "# Example: `if...else` statements\n",
    "\n",
    "<span style=\"color:blue\">In the Google Colab notebook for this lecture  write out the following operation using Python if statement</span>\n",
    "\n",
    "A digital thermostat checks the current temperature read by a sensor and compares it to a preset temperature. \n",
    "\n",
    "```python\n",
    "current_temp = 19\n",
    "preset_temp = 18\n",
    "```\n",
    "\n",
    "The heating is switched:\n",
    "- __ON__ if temperature is lower than preset temperature\n",
    "- __OFF__ if temperature is higher than, or equal to, preset temperature\n",
    "\n",
    "\n",
    "<img align = \"right\" src=\"https://github.com/engmaths/EMAT10007_2023/blob/main/weekly_content/img/thermostat.png?raw=true\" width=\"20%\">\n",
    "</p>\n",
    "\n",
    "\n",
    "\n",
    "Write a program to simulate the behaviour of the digital thermostat.\n",
    "\n"
   ]
  },
  {
   "cell_type": "code",
   "execution_count": 115,
   "id": "d6275cb5",
   "metadata": {
    "slideshow": {
     "slide_type": "slide"
    }
   },
   "outputs": [
    {
     "name": "stdout",
     "output_type": "stream",
     "text": [
      "True\n"
     ]
    }
   ],
   "source": [
    "temp = 12   # Current temperature degrees celcius\n",
    "preset = 19 # Preset \n",
    "\n",
    "if temp < preset:\n",
    "    heat = True\n",
    "    \n",
    "else:\n",
    "    heat = False\n",
    "    \n",
    "print(heat)\n"
   ]
  },
  {
   "cell_type": "markdown",
   "id": "e00f4a28",
   "metadata": {
    "slideshow": {
     "slide_type": "slide"
    }
   },
   "source": [
    "# Example: `if...elif` statements\n",
    "\n",
    "The reading from a sensor `reading` must be limited to within the range 0 to 10 before being printed. \n",
    "\n",
    "Write a program that caps the maximum value of `a` at 10 and the minimum value of `a` at 0 \n",
    "\n",
    "```python\n",
    "reading = 5\n",
    "```"
   ]
  },
  {
   "cell_type": "code",
   "execution_count": 117,
   "id": "a9f6f34e",
   "metadata": {
    "slideshow": {
     "slide_type": "-"
    }
   },
   "outputs": [
    {
     "name": "stdout",
     "output_type": "stream",
     "text": [
      "5\n"
     ]
    }
   ],
   "source": [
    "reading = 5\n",
    "\n",
    "if reading > 10:\n",
    "    reading = 10\n",
    "    \n",
    "elif reading < 0:\n",
    "    reading = 0\n",
    "    \n",
    "print(reading)"
   ]
  },
  {
   "cell_type": "markdown",
   "id": "7257276b",
   "metadata": {
    "slideshow": {
     "slide_type": "slide"
    }
   },
   "source": [
    "# Example: `if...elif` statements\n",
    "\n",
    "<span style=\"color:blue\">In the Google Colab notebook for this lecture  write out the following operation using Python if...elif  statement</span>\n",
    "\n",
    "Create a variable with a string value.  \n",
    "\n",
    "Write a program that displays `a` if the word satrts with `a` and displays `e` if the word starts with `e`. \n",
    "\n",
    "```python\n",
    "word = 'apple'\n",
    "```"
   ]
  },
  {
   "cell_type": "code",
   "execution_count": null,
   "id": "aac00712",
   "metadata": {},
   "outputs": [],
   "source": []
  },
  {
   "cell_type": "markdown",
   "id": "b846eeb8",
   "metadata": {
    "slideshow": {
     "slide_type": "slide"
    }
   },
   "source": [
    "# Example: `if...elif...else` statements\n",
    "\n",
    "\n",
    "\n",
    "<img align=\"right\" src=\"https://github.com/engmaths/EMAT10007_2023/blob/main/weekly_content/img/robot_numbers.png?raw=true\" width=\"25%\">\n",
    "</p>\n",
    "\n",
    "A two-wheeled robot uses three sensors to follow a black line on a white surface. \n",
    "\n",
    "Each individual sensor outputs:\n",
    "- 0 if over a white surface\n",
    "- 1 if over a black surface\n",
    "\n",
    "<br>\n",
    "<br>\n",
    "\n",
    "If the sensors read:\n",
    "- __110__: The robot turns __left__\n",
    "- __011__: The robot turns __right__\n",
    "- __010__: The robot goes __forward__\n",
    "- A different set of three values: The robot stops\n",
    "\n",
    "<br>\n",
    "<br>\n",
    "\n",
    "Write a program that prints what the robot will do for a given reading from the sensors\n"
   ]
  },
  {
   "cell_type": "code",
   "execution_count": 37,
   "id": "8b80a592",
   "metadata": {
    "slideshow": {
     "slide_type": "slide"
    }
   },
   "outputs": [
    {
     "name": "stdout",
     "output_type": "stream",
     "text": [
      "forward\n"
     ]
    }
   ],
   "source": [
    "sensors = '010'\n",
    "\n",
    "if sensors == '110':\n",
    "    print('left')\n",
    "    \n",
    "elif sensors == '011':\n",
    "    print('right')\n",
    "    \n",
    "elif sensors == '010':\n",
    "    print('forward')\n",
    "    \n",
    "else:\n",
    "    print('stop')"
   ]
  },
  {
   "cell_type": "markdown",
   "id": "0af5e63d",
   "metadata": {
    "slideshow": {
     "slide_type": "slide"
    }
   },
   "source": [
    "# Example\n",
    "\n",
    "<span style=\"color:blue\">In the Google Colab notebook for this lecture write out the following operation using Python if...elif...else statements</span>\n",
    "\n",
    "`x=1, y=5, z=6`\n",
    "\n",
    "Test if `x + y` is:\n",
    "- Case A: greater than `z`\n",
    "- Case B: equal to `z`\n",
    "- Case C: less than `z`\n"
   ]
  },
  {
   "cell_type": "code",
   "execution_count": 25,
   "id": "fc87ceff",
   "metadata": {},
   "outputs": [],
   "source": [
    "x, y, z = 1, 5, 6"
   ]
  },
  {
   "cell_type": "code",
   "execution_count": 26,
   "id": "2f8731dc",
   "metadata": {},
   "outputs": [
    {
     "name": "stdout",
     "output_type": "stream",
     "text": [
      "B\n"
     ]
    }
   ],
   "source": [
    "if x + y > z:\n",
    "    print('A')\n",
    "    \n",
    "elif x + y == z:\n",
    "    print('B')\n",
    "    \n",
    "else:\n",
    "    print('C')"
   ]
  },
  {
   "cell_type": "markdown",
   "id": "81d1c8b9",
   "metadata": {
    "slideshow": {
     "slide_type": "slide"
    }
   },
   "source": [
    "# Algorithms \n",
    "\n",
    "An algorithm is a sequence of instructions to solve a specific problems or to perform a computation.\n",
    "\n",
    "When writing a computer program, we must think about the sequence of instructions needed to perform the computation correctly and efficiently"
   ]
  },
  {
   "cell_type": "markdown",
   "id": "fa45b702",
   "metadata": {
    "slideshow": {
     "slide_type": "slide"
    }
   },
   "source": [
    "### Example\n",
    "\n",
    "A student can score between 0 and 100 on an assignment\n",
    "\n",
    "If a student's score is:\n",
    "- greater than or equal to 70, their grade is 1\n",
    "- greater than or equal to 60 **and** less than 70, their grade is 2.1\n",
    "- greater than or equal to 50 **and** less than 60, their grade is 2.2\n",
    "- greater than or equal to 40 **and** less than 50, their grade is 3\n",
    "- less than 40, their grade is `fail`"
   ]
  },
  {
   "cell_type": "code",
   "execution_count": 22,
   "id": "cd0864d9",
   "metadata": {},
   "outputs": [
    {
     "name": "stdout",
     "output_type": "stream",
     "text": [
      "2.1\n"
     ]
    }
   ],
   "source": [
    "score = 61\n",
    "\n",
    "if 100 >= score >= 70:        \n",
    "    grade = 1\n",
    "    \n",
    "elif 70 > score >= 60:\n",
    "    grade = 2.1\n",
    "    \n",
    "elif 60 > score >= 50:\n",
    "    grade = 2.2\n",
    "    \n",
    "elif 50 > score >= 40:\n",
    "    grade = 3\n",
    "    \n",
    "else: \n",
    "    grade = 'fail'\n",
    "\n",
    "print(grade)"
   ]
  },
  {
   "cell_type": "markdown",
   "id": "2651348b",
   "metadata": {
    "slideshow": {
     "slide_type": "slide"
    }
   },
   "source": [
    "We can reorder the conditions. \n",
    "\n",
    "The output generated by the program is the same. "
   ]
  },
  {
   "cell_type": "code",
   "execution_count": null,
   "id": "5113909c",
   "metadata": {},
   "outputs": [],
   "source": [
    "score = 61\n",
    "\n",
    "if 50 > score >= 40:\n",
    "    grade = 3\n",
    "    \n",
    "elif 60 > score >= 50:\n",
    "    grade = 2.2\n",
    "    \n",
    "elif 100 >= score >= 70:        \n",
    "    grade = 1\n",
    "    \n",
    "elif 70 > score >= 60:\n",
    "    grade = 2.1\n",
    "   \n",
    "else: \n",
    "    grade = 'fail'\n",
    "\n",
    "print(grade)"
   ]
  },
  {
   "cell_type": "markdown",
   "id": "c2222074",
   "metadata": {
    "slideshow": {
     "slide_type": "slide"
    }
   },
   "source": [
    "Consider the original order again. "
   ]
  },
  {
   "cell_type": "code",
   "execution_count": 22,
   "id": "a9e25651",
   "metadata": {},
   "outputs": [
    {
     "name": "stdout",
     "output_type": "stream",
     "text": [
      "2.1\n"
     ]
    }
   ],
   "source": [
    "score = 61\n",
    "\n",
    "if 100 >= score >= 70:        \n",
    "    grade = 1\n",
    "    \n",
    "elif 70 > score >= 60:\n",
    "    grade = 2.1\n",
    "    \n",
    "elif 60 > score >= 50:\n",
    "    grade = 2.2\n",
    "    \n",
    "elif 50 > score >= 40:\n",
    "    grade = 3\n",
    "    \n",
    "else: \n",
    "    grade = 'fail'\n",
    "\n",
    "print(grade)"
   ]
  },
  {
   "cell_type": "markdown",
   "id": "6eae8516",
   "metadata": {
    "slideshow": {
     "slide_type": "fragment"
    }
   },
   "source": [
    "There is a simpler way to write this... \n",
    "\n",
    "<span style=\"color:blue\">What can we remove from this program?</span>"
   ]
  },
  {
   "cell_type": "code",
   "execution_count": 23,
   "id": "ed89f120",
   "metadata": {
    "slideshow": {
     "slide_type": "slide"
    }
   },
   "outputs": [
    {
     "name": "stdout",
     "output_type": "stream",
     "text": [
      "2.1\n"
     ]
    }
   ],
   "source": [
    "score = 61\n",
    "\n",
    "if 100 >= score >= 70:\n",
    "    grade = 1\n",
    "    \n",
    "elif 70 > score >= 60:\n",
    "    grade = 2.1\n",
    "    \n",
    "elif 60 > score >= 50:\n",
    "    grade = 2.2\n",
    "    \n",
    "elif 50 > score >= 40:\n",
    "    grade = 3\n",
    "    \n",
    "else: \n",
    "    'fail'\n",
    "\n",
    "# score = 61\n",
    "\n",
    "# if score >= 70:\n",
    "#     grade = 1\n",
    "    \n",
    "# elif score >= 60:\n",
    "#     grade = 2.1\n",
    "    \n",
    "# elif score >= 50:\n",
    "#     grade = 2.2\n",
    "    \n",
    "# elif score >= 40:\n",
    "#     grade = 3\n",
    "    \n",
    "# else: \n",
    "#     'fail'\n",
    "\n",
    "print(grade)"
   ]
  },
  {
   "cell_type": "markdown",
   "id": "5373110f",
   "metadata": {
    "slideshow": {
     "slide_type": "slide"
    }
   },
   "source": [
    "Consider a score of `61`. \n",
    "\n",
    "First evaluate the `if` statement. \n",
    "<br>The outcome is `False`\n",
    "\n",
    "Next evaluate the first `elif` statement\n",
    "<br>We already know that `score` is less than 70 because the `if` statement was `False`\n",
    "<br>Therefore we *only* need to check if `score` is greater than or equal to 60 to know if `grade` is `2.1`"
   ]
  },
  {
   "cell_type": "markdown",
   "id": "66a358df",
   "metadata": {
    "slideshow": {
     "slide_type": "slide"
    }
   },
   "source": [
    "This simplification is only possible because the range for each grade is checked in __descending order__. \n",
    "\n",
    "This shows us that the __order__ that we write conditional statements is important. \n",
    "\n",
    "The question encouraged us to do this as the statements were presented in this order. \n",
    "<br>We could similarly have solved the problem by checking the range for each grade in __ascending order__."
   ]
  },
  {
   "cell_type": "code",
   "execution_count": 44,
   "id": "e3bbe356",
   "metadata": {
    "slideshow": {
     "slide_type": "slide"
    }
   },
   "outputs": [
    {
     "name": "stdout",
     "output_type": "stream",
     "text": [
      "2.1\n"
     ]
    }
   ],
   "source": [
    "score = 61\n",
    "\n",
    "if score < 40:\n",
    "    grade = 'fail'\n",
    "    \n",
    "elif score < 50:\n",
    "    grade = 3\n",
    "    \n",
    "elif score < 60:\n",
    "    grade = 2.2\n",
    "    \n",
    "elif score < 70:\n",
    "    grade = 2.1\n",
    "    \n",
    "else: \n",
    "    grade = 1\n",
    "    \n",
    "print(grade)"
   ]
  },
  {
   "cell_type": "markdown",
   "id": "0be4cb48",
   "metadata": {
    "slideshow": {
     "slide_type": "slide"
    }
   },
   "source": [
    "# Algorithms \n",
    "\n",
    "An algorithm is a sequence of instructions to solve a specific problems or to perform a computation.\n",
    "\n",
    "When writing a computer program, we must think about the sequence of instructions needed to perform the computation correctly and efficiently.\n",
    "\n",
    "By writing the statements in a particular order, we were able to simplify the code in the previous example. "
   ]
  },
  {
   "cell_type": "markdown",
   "id": "d1e93abb",
   "metadata": {
    "slideshow": {
     "slide_type": "slide"
    }
   },
   "source": [
    "# Example \n",
    "\n",
    "In this example, if we do not write the statements in the correct order, the program will not function correctly. \n",
    "\n",
    "***\n",
    "Write a program that detects if:\n",
    "- both x and y are True\n",
    "- only one of x and y is True\n",
    "- neither x or y are True\n",
    "\n",
    "```python\n",
    "x = False\n",
    "y = True\n",
    "```"
   ]
  },
  {
   "cell_type": "code",
   "execution_count": 14,
   "id": "f754e9f0",
   "metadata": {},
   "outputs": [
    {
     "name": "stdout",
     "output_type": "stream",
     "text": [
      "only one of x and y is True\n"
     ]
    }
   ],
   "source": [
    "x = False\n",
    "y = True\n",
    "\n",
    "if x and y:\n",
    "    print('both x and y are True')\n",
    "    \n",
    "elif x or y:\n",
    "    print('only one of x and y is True')\n",
    "    \n",
    "else:\n",
    "    print('both x and y are False')"
   ]
  },
  {
   "cell_type": "markdown",
   "id": "24b20b6a",
   "metadata": {
    "slideshow": {
     "slide_type": "slide"
    }
   },
   "source": [
    "If we change the order of the statements, so that the first expression we evaulate is:\n",
    "\n",
    "```python\n",
    "x or y\n",
    "``` \n",
    "\n",
    "The `if` statement evaluates as `True` for the following cases:\n",
    "```python\n",
    "x = False, y = True\n",
    "x = True, y = False\n",
    "x = True, y = True\n",
    "```\n",
    "\n",
    "The program never evaulates the expression:\n",
    "```python\n",
    "x and y\n",
    "```"
   ]
  },
  {
   "cell_type": "code",
   "execution_count": 16,
   "id": "311d0027",
   "metadata": {
    "slideshow": {
     "slide_type": "slide"
    }
   },
   "outputs": [
    {
     "name": "stdout",
     "output_type": "stream",
     "text": [
      "at least one of x and y is True\n"
     ]
    }
   ],
   "source": [
    "x = False\n",
    "y = True\n",
    "\n",
    "if x or y:\n",
    "    print('at least one of x and y is True')\n",
    "    \n",
    "elif x and y:\n",
    "    print('both x and y are True') # This line never get executed\n",
    "     \n",
    "else:\n",
    "    print('both x and y are False')"
   ]
  },
  {
   "cell_type": "markdown",
   "id": "e3a04683",
   "metadata": {},
   "source": [
    "From the output from the program, we know *at least* one of x or y is True\n",
    "\n",
    "But we cannot say for certain that *only one* of x and y is True.\n",
    "\n",
    "Our program should be able to detect if *only one* of x and y is zero, therefore the program doesn't work correctly."
   ]
  },
  {
   "cell_type": "markdown",
   "id": "ef2033f6",
   "metadata": {
    "slideshow": {
     "slide_type": "slide"
    }
   },
   "source": [
    "# Nested conditional statements\n",
    "Control structures including conditional statements can be nested to arbitrary depth. \n",
    "\n",
    "__Nesting__ refers to a control structure within a control structure\n",
    "\n",
    "In other words, an 'inner' control structure within the indented block of code of an 'outer' control structre\n",
    "\n",
    "This allows more complex decision making in a program. "
   ]
  },
  {
   "cell_type": "markdown",
   "id": "362a1733",
   "metadata": {
    "slideshow": {
     "slide_type": "slide"
    }
   },
   "source": [
    "# Example\n",
    "\n",
    "Write a program that:\n",
    "- checks if a number is odd or even. \n",
    "- if it is odd, checks if the number is a multiple of 5\n",
    "\n",
    "```python\n",
    "number = 15 \n",
    "```"
   ]
  },
  {
   "cell_type": "code",
   "execution_count": 13,
   "id": "272db771",
   "metadata": {},
   "outputs": [
    {
     "name": "stdout",
     "output_type": "stream",
     "text": [
      "odd\n",
      "mutiple of 5\n"
     ]
    }
   ],
   "source": [
    "number = 15\n",
    "\n",
    "if number % 2 == 1:\n",
    "    print('odd')\n",
    "    \n",
    "    if number % 5 == 0:\n",
    "        print('mutiple of 5')\n",
    "    \n",
    "else:\n",
    "    print('even')\n",
    "    \n",
    "    "
   ]
  },
  {
   "cell_type": "markdown",
   "id": "b0203a4c",
   "metadata": {
    "slideshow": {
     "slide_type": "slide"
    }
   },
   "source": [
    "What sequence of events is happening here?\n",
    "\n",
    "1. The outer `if...else` control structure determines if the number is odd or even\n",
    "1. If the number is odd, the __indented__ code following the outer `if` statement is executed\n",
    "1. `'odd'` is printed\n",
    "1. The inner `if` control structure determines if the number is a mutiple of `5`\n",
    "<br>Note: The inner `if` control structure is only executed if the Boolean value of the outer `if` conditional expression is `True`\n"
   ]
  },
  {
   "cell_type": "markdown",
   "id": "ee286a02",
   "metadata": {
    "slideshow": {
     "slide_type": "slide"
    }
   },
   "source": [
    "# Example\n",
    "\n",
    "Write a program that:\n",
    "- checks if a number is odd or even\n",
    "\n",
    "<br>\n",
    "\n",
    "- if it is odd, checks if the number is a multiple of 5\n",
    "- if it is odd, checks if the number is a multiple of 3\n",
    "- if it is even, checks if the number is a multiple of 4\n",
    "\n"
   ]
  },
  {
   "cell_type": "code",
   "execution_count": 17,
   "id": "f2a13d6e",
   "metadata": {},
   "outputs": [
    {
     "name": "stdout",
     "output_type": "stream",
     "text": [
      "odd\n",
      "mutiple of 5\n",
      "mutiple of 3\n"
     ]
    }
   ],
   "source": [
    "number = 15\n",
    "\n",
    "if number % 2 == 1:\n",
    "    print('odd')\n",
    "    \n",
    "    if number % 5 == 0:\n",
    "        print('mutiple of 5')\n",
    "        \n",
    "    if number % 3 == 0:\n",
    "        print('mutiple of 3')\n",
    "    \n",
    "else:\n",
    "    print('even')\n",
    "    \n",
    "    if number % 4 == 0:\n",
    "        print('mutiple of 4')\n",
    "    \n",
    "    "
   ]
  },
  {
   "cell_type": "markdown",
   "id": "cfe5b034",
   "metadata": {
    "slideshow": {
     "slide_type": "slide"
    }
   },
   "source": [
    "# Simplifying conditional expressions\n",
    "Consider the conditional expression in this example.\n",
    "\n",
    "***\n",
    "\n",
    "If the value of `a` is an odd number, print `odd`"
   ]
  },
  {
   "cell_type": "code",
   "execution_count": 110,
   "id": "d7c13e2d",
   "metadata": {},
   "outputs": [
    {
     "name": "stdout",
     "output_type": "stream",
     "text": [
      "odd\n"
     ]
    }
   ],
   "source": [
    "a = 3\n",
    "\n",
    "if a % 2 == 1:\n",
    "    print('odd')"
   ]
  },
  {
   "cell_type": "markdown",
   "id": "bba4d7ce",
   "metadata": {},
   "source": [
    "There is a simpler way to express this...\n",
    "\n",
    "\n"
   ]
  },
  {
   "cell_type": "markdown",
   "id": "9678009c",
   "metadata": {
    "slideshow": {
     "slide_type": "slide"
    }
   },
   "source": [
    "Consider the expression `a % 2` when `a` is odd"
   ]
  },
  {
   "cell_type": "code",
   "execution_count": 111,
   "id": "20e2812a",
   "metadata": {},
   "outputs": [
    {
     "data": {
      "text/plain": [
       "1"
      ]
     },
     "execution_count": 111,
     "metadata": {},
     "output_type": "execute_result"
    }
   ],
   "source": [
    "a % 2"
   ]
  },
  {
   "cell_type": "markdown",
   "id": "70c5d557",
   "metadata": {
    "slideshow": {
     "slide_type": "fragment"
    }
   },
   "source": [
    "`a % 2` outputs `1` if `a` is odd\n",
    "\n",
    "Remember, the Boolean value of `1` is `True` because it is non-zero. "
   ]
  },
  {
   "cell_type": "code",
   "execution_count": 112,
   "id": "faf7f997",
   "metadata": {},
   "outputs": [
    {
     "data": {
      "text/plain": [
       "True"
      ]
     },
     "execution_count": 112,
     "metadata": {},
     "output_type": "execute_result"
    }
   ],
   "source": [
    "bool(a % 2)"
   ]
  },
  {
   "cell_type": "markdown",
   "id": "664a6494",
   "metadata": {
    "slideshow": {
     "slide_type": "slide"
    }
   },
   "source": [
    "The indented code after the `if` statement will be executed if the **Boolean value** of the conditional expression is `True` \n",
    "\n",
    "The Boolean value of `a % 2 == 1` is `True`\n",
    "\n",
    "The Boolean value of `a % 2` is `True`\n",
    "\n",
    "There fore we can use either, but the second expression is shorter"
   ]
  },
  {
   "cell_type": "code",
   "execution_count": 113,
   "id": "dc1d826d",
   "metadata": {},
   "outputs": [
    {
     "name": "stdout",
     "output_type": "stream",
     "text": [
      "odd\n"
     ]
    }
   ],
   "source": [
    "a = 3\n",
    "\n",
    "# if a % 2 == 1:\n",
    "if a % 2:\n",
    "    print('odd')"
   ]
  },
  {
   "cell_type": "markdown",
   "id": "74c09f16",
   "metadata": {
    "slideshow": {
     "slide_type": "fragment"
    }
   },
   "source": [
    "<span style=\"color:blue\">What if we want to test if a is an even number?</span>\n",
    "<br><span style=\"color:blue\">*Hint: We can use the logical operation `not` to invert the value of a Boolean*</span>"
   ]
  },
  {
   "cell_type": "markdown",
   "id": "ec987d30",
   "metadata": {
    "slideshow": {
     "slide_type": "slide"
    }
   },
   "source": [
    "<span style=\"color:blue\">Edit the previous program, simplifying the conditional expressions</span>"
   ]
  },
  {
   "cell_type": "markdown",
   "id": "e5ed4b74",
   "metadata": {
    "slideshow": {
     "slide_type": "slide"
    }
   },
   "source": [
    "# Example: Comparison using floating point values\n",
    "```python\n",
    "a = 2.10\n",
    "b = 6.21 - 4.11\n",
    "```\n",
    "\n",
    "Write a program that prints `equal` if a and b are equal."
   ]
  },
  {
   "cell_type": "code",
   "execution_count": 106,
   "id": "b9340aea",
   "metadata": {},
   "outputs": [
    {
     "data": {
      "text/plain": [
       "'2.1000000000000000888'"
      ]
     },
     "execution_count": 106,
     "metadata": {},
     "output_type": "execute_result"
    }
   ],
   "source": [
    "format(2.10, '.19f')"
   ]
  },
  {
   "cell_type": "code",
   "execution_count": 107,
   "id": "22f9cddf",
   "metadata": {},
   "outputs": [
    {
     "data": {
      "text/plain": [
       "'2.0999999999999996447'"
      ]
     },
     "execution_count": 107,
     "metadata": {},
     "output_type": "execute_result"
    }
   ],
   "source": [
    "format(6.21 - 4.11, '.19f')"
   ]
  },
  {
   "cell_type": "code",
   "execution_count": 8,
   "id": "eb7e7990",
   "metadata": {
    "slideshow": {
     "slide_type": "-"
    }
   },
   "outputs": [
    {
     "name": "stdout",
     "output_type": "stream",
     "text": [
      "equal\n"
     ]
    }
   ],
   "source": [
    "a = 2.10\n",
    "b = 6.21 - 4.11\n",
    "dp = 10\n",
    "\n",
    "if round(a, dp) == round(b, dp):\n",
    "    print('equal')"
   ]
  },
  {
   "cell_type": "markdown",
   "id": "2e0352ad",
   "metadata": {
    "slideshow": {
     "slide_type": "slide"
    }
   },
   "source": [
    "### Need to see some more examples? \n",
    "https://www.w3schools.com/python/python_conditions.asp\n",
    "<br>https://www.geeksforgeeks.org/python-if-else/\n",
    "<br>https://pynative.com/python-if-else-and-for-loop-exercise-with-solutions/\n",
    "\n",
    "### Want to take a quiz?\n",
    "https://realpython.com/quizzes/python-conditional-statements/\n",
    "\n",
    "### Want some more advanced information?\n",
    "https://realpython.com/python-conditional-statements/\n"
   ]
  }
 ],
 "metadata": {
  "celltoolbar": "Slideshow",
  "kernelspec": {
   "display_name": "Python 3 (ipykernel)",
   "language": "python",
   "name": "python3"
  },
  "language_info": {
   "codemirror_mode": {
    "name": "ipython",
    "version": 3
   },
   "file_extension": ".py",
   "mimetype": "text/x-python",
   "name": "python",
   "nbconvert_exporter": "python",
   "pygments_lexer": "ipython3",
   "version": "3.10.9"
  }
 },
 "nbformat": 4,
 "nbformat_minor": 5
}
