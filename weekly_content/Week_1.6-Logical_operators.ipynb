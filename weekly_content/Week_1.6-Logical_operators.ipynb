{
 "cells": [
  {
   "cell_type": "markdown",
   "id": "b5712157",
   "metadata": {},
   "source": [
    "# Introduction to Computer Programming\n",
    "\n",
    "## Logical operators\n",
    "<img src=\"img/full-colour-logo-UoB.png\" alt=\"Drawing\" style=\"width: 300px;\"/>"
   ]
  },
  {
   "cell_type": "markdown",
   "id": "fcf64f6d",
   "metadata": {
    "slideshow": {
     "slide_type": "slide"
    }
   },
   "source": [
    "<a id='LogicalOperators'></a>\n",
    "# Logical Operators\n",
    "\n",
    "*Comparison* operators compare two operands.\n",
    "\n",
    "__Logical operators:__ \n",
    "- Compare Boolean `True` or `False` *operands* (e.g. outcomes of two *comparison operations*) to form logic statements.\n",
    "- Outout a *single* `True`/`False` (boolean) value. \n",
    "\n",
    "```python\n",
    "and\n",
    "or\n",
    "not\n",
    "```"
   ]
  },
  {
   "cell_type": "markdown",
   "id": "0260b913",
   "metadata": {
    "slideshow": {
     "slide_type": "slide"
    }
   },
   "source": [
    "```python \n",
    "x and y\n",
    "```\n",
    "\n",
    "__Output:__\n",
    "<br> `True` if statement `x` __and__ statement `y` *both* `True`.\n",
    "<br> Otherwise `False`."
   ]
  },
  {
   "cell_type": "markdown",
   "id": "69a607c9",
   "metadata": {
    "slideshow": {
     "slide_type": "slide"
    }
   },
   "source": [
    "```python \n",
    "x or y\n",
    "```\n",
    "\n",
    "__Output:__\n",
    "<br> `True` if statement `x` __or__ statement `y` `True`.\n",
    "<br> Otherwise `False`. "
   ]
  },
  {
   "cell_type": "code",
   "execution_count": 1,
   "id": "4049cb80",
   "metadata": {
    "scrolled": true
   },
   "outputs": [
    {
     "data": {
      "text/plain": [
       "True"
      ]
     },
     "execution_count": 1,
     "metadata": {},
     "output_type": "execute_result"
    }
   ],
   "source": [
    "True and True"
   ]
  },
  {
   "cell_type": "code",
   "execution_count": 24,
   "id": "7582cfc8",
   "metadata": {},
   "outputs": [
    {
     "name": "stdout",
     "output_type": "stream",
     "text": [
      "False\n"
     ]
    }
   ],
   "source": [
    "print(10 < 9 and 20 <= 20)\n"
   ]
  },
  {
   "cell_type": "markdown",
   "id": "42d73bd7",
   "metadata": {
    "slideshow": {
     "slide_type": "slide"
    }
   },
   "source": [
    "### Examples:\n",
    "\n",
    "$10 < 9$   &nbsp; &nbsp;&nbsp; &nbsp;  `False`\n",
    "\n",
    "$20 <= 20$  &nbsp; &nbsp;                `True`"
   ]
  },
  {
   "cell_type": "code",
   "execution_count": 25,
   "id": "865cd8db",
   "metadata": {},
   "outputs": [
    {
     "name": "stdout",
     "output_type": "stream",
     "text": [
      "True\n"
     ]
    }
   ],
   "source": [
    "print(10 < 9 or 20 <= 20)"
   ]
  },
  {
   "cell_type": "code",
   "execution_count": 2,
   "id": "b1c090f0",
   "metadata": {},
   "outputs": [
    {
     "name": "stdout",
     "output_type": "stream",
     "text": [
      "False\n"
     ]
    }
   ],
   "source": [
    "print(10 < 9 and 20 <= 20)"
   ]
  },
  {
   "cell_type": "code",
   "execution_count": 3,
   "id": "8290c64a",
   "metadata": {},
   "outputs": [
    {
     "name": "stdout",
     "output_type": "stream",
     "text": [
      "True\n",
      "False\n"
     ]
    }
   ],
   "source": [
    "a = 10 < 9\n",
    "b = 20 <= 20\n",
    "\n",
    "print(a or b)\n",
    "print(a and b)"
   ]
  },
  {
   "cell_type": "markdown",
   "id": "1a80faec",
   "metadata": {
    "slideshow": {
     "slide_type": "slide"
    }
   },
   "source": [
    "In Python, the `not` operator negates the Boolean value of a statement, e.g.:"
   ]
  },
  {
   "cell_type": "code",
   "execution_count": 4,
   "id": "cc3a694a",
   "metadata": {},
   "outputs": [
    {
     "name": "stdout",
     "output_type": "stream",
     "text": [
      "True\n",
      "False\n"
     ]
    }
   ],
   "source": [
    "print(not(10 < 9))\n",
    "print(not(20 <= 20))"
   ]
  },
  {
   "cell_type": "code",
   "execution_count": 53,
   "id": "9963b01a",
   "metadata": {},
   "outputs": [
    {
     "name": "stdout",
     "output_type": "stream",
     "text": [
      "False\n",
      "True\n"
     ]
    }
   ],
   "source": [
    "a = 12\n",
    "\n",
    "print(a < 0)\n",
    "\n",
    "print(not a < 0)"
   ]
  },
  {
   "cell_type": "markdown",
   "id": "bcc5686a",
   "metadata": {
    "slideshow": {
     "slide_type": "skip"
    }
   },
   "source": [
    "<a id='StackingComparisonOperators'></a>\n",
    "#  Stacking Comparison Operators\n",
    "\n",
    "The following statement tests if both the outcome of the left comparison and the right comparison are True. \n",
    "\n",
    "Both comparisons iclude the same variable, B \n",
    "\n",
    "\n",
    "```python\n",
    "a < B and B < c\n",
    "\n",
    "```\n",
    "\n",
    "We can rewrite, *stacking* the comparison operators: \n",
    "\n",
    "\n",
    "```python\n",
    "a < B < c\n",
    "\n",
    "```"
   ]
  },
  {
   "cell_type": "code",
   "execution_count": 6,
   "id": "084f25a3",
   "metadata": {},
   "outputs": [],
   "source": [
    "a, B, c = 0, 0, 1"
   ]
  },
  {
   "cell_type": "markdown",
   "id": "fe708770",
   "metadata": {},
   "source": [
    "***\n",
    "Rewrite \n",
    "```python \n",
    "a < B and c < B\n",
    "```"
   ]
  },
  {
   "cell_type": "code",
   "execution_count": 7,
   "id": "5ec96ba4",
   "metadata": {},
   "outputs": [
    {
     "name": "stdout",
     "output_type": "stream",
     "text": [
      "False\n"
     ]
    }
   ],
   "source": [
    "print(a < B > c)"
   ]
  },
  {
   "cell_type": "markdown",
   "id": "7bd3b450",
   "metadata": {},
   "source": [
    "***\n",
    "Rewrite \n",
    "```python \n",
    "a == B and B < c\n",
    "``` "
   ]
  },
  {
   "cell_type": "code",
   "execution_count": 8,
   "id": "e384e2c3",
   "metadata": {},
   "outputs": [
    {
     "data": {
      "text/plain": [
       "True"
      ]
     },
     "execution_count": 8,
     "metadata": {},
     "output_type": "execute_result"
    }
   ],
   "source": [
    "a == B < c"
   ]
  },
  {
   "cell_type": "markdown",
   "id": "9277923e",
   "metadata": {
    "slideshow": {
     "slide_type": "slide"
    }
   },
   "source": [
    "\n",
    "<a id='OperatorPrecedence'></a>\n",
    "# Operator Precedence\n",
    "\n",
    "\n",
    "1. Parentheses\n",
    "1. Arithmetic operators (top to bottom)<br>\n",
    "   `**`                  &nbsp; &nbsp; &nbsp; &nbsp; &nbsp; &nbsp; &nbsp; &nbsp; &nbsp;&nbsp;&nbsp;&nbsp; &nbsp; &nbsp; Exponent <br>\n",
    "   `/`, `*`, `//`, `\\%`  &nbsp; &nbsp;&nbsp; Division, multiplication, floor division, modulo (evaluated left to right)<br>\n",
    "   `+`, `-`             &nbsp; &nbsp; &nbsp; &nbsp; &nbsp; &nbsp;&nbsp;&nbsp; &nbsp;&nbsp;&nbsp; &nbsp; &nbsp; Addition, subtraction (evaluated left to right)\n",
    "1. Comparison operators: `<`, `<=`,  `>`,  `>=`, `!=`, `==`(evaluated left to right)\n",
    "1. Assignment operators `=`, `/=`, `*=`, `//=`, `\\%=`, `+=`, `-=` .... \n",
    "1. Identity operators `is`, `is not`\n",
    "1. Logical `not`\n",
    "1. Logical `and`\n",
    "1. Logical `or` "
   ]
  }
 ],
 "metadata": {
  "celltoolbar": "Slideshow",
  "kernelspec": {
   "display_name": "Python 3 (ipykernel)",
   "language": "python",
   "name": "python3"
  },
  "language_info": {
   "codemirror_mode": {
    "name": "ipython",
    "version": 3
   },
   "file_extension": ".py",
   "mimetype": "text/x-python",
   "name": "python",
   "nbconvert_exporter": "python",
   "pygments_lexer": "ipython3",
   "version": "3.10.9"
  }
 },
 "nbformat": 4,
 "nbformat_minor": 5
}
