{
 "cells": [
  {
   "cell_type": "markdown",
   "id": "16c271fd",
   "metadata": {
    "slideshow": {
     "slide_type": "slide"
    }
   },
   "source": [
    "# Introduction to Computer Programming\n",
    "\n",
    "## Arithmetic and Assignment Operators\n",
    "\n",
    "<img src=\"img/full-colour-logo-UoB.png\" alt=\"Drawing\" style=\"width: 300px;\"/>"
   ]
  },
  {
   "cell_type": "markdown",
   "id": "3383018e",
   "metadata": {
    "slideshow": {
     "slide_type": "slide"
    }
   },
   "source": [
    "# Operators\n",
    "\n",
    "In programming, __operators__ are symbols/characters that represent a process or computation. \n",
    "\n",
    "The values that an operator acts on are called __operands__.\n",
    "\n"
   ]
  },
  {
   "cell_type": "markdown",
   "id": "1e694972",
   "metadata": {
    "slideshow": {
     "slide_type": "slide"
    }
   },
   "source": [
    "<a id='ArithmeticOperators'></a>\n",
    "# Arithmetic Operators\n",
    "\n",
    "__Arithmetic operators__ (+, -, /, * ....) are used with numerical operands to perform common mathematical operations.\n",
    "\n",
    "$**$   &nbsp; &nbsp; &nbsp; &nbsp;                Exponent <br>\n",
    "$/$    &nbsp; &nbsp; &nbsp; &nbsp; &nbsp; &nbsp;  Division <br>\n",
    "$*$    &nbsp; &nbsp; &nbsp; &nbsp; &nbsp;         Multiplication <br>\n",
    "$//$   &nbsp; &nbsp; &nbsp; &nbsp; &nbsp;         Floor division (round down to the next integer)<br>\n",
    "$\\%$   &nbsp; &nbsp; &nbsp; &nbsp; &nbsp;         Modulo `a % b = a - b * (a // b)` (remainder)<br>\n",
    "$+$    &nbsp; &nbsp; &nbsp; &nbsp; &nbsp;         Addition <br>\n",
    "$-$    &nbsp; &nbsp; &nbsp; &nbsp; &nbsp;         Subtraction <br>\n"
   ]
  },
  {
   "cell_type": "markdown",
   "id": "87fa5e46",
   "metadata": {
    "slideshow": {
     "slide_type": "slide"
    }
   },
   "source": [
    "Operands can be literal values \n",
    "\n",
    "# Example \n",
    "\n",
    "Use arithmetic operators to produce the expression:<br> $ a = (3-1) * 4 $"
   ]
  },
  {
   "cell_type": "code",
   "execution_count": 9,
   "id": "2deaeaf4",
   "metadata": {},
   "outputs": [
    {
     "name": "stdout",
     "output_type": "stream",
     "text": [
      "8\n"
     ]
    }
   ],
   "source": [
    "a = (3-1)*4\n",
    "\n",
    "print(a)"
   ]
  },
  {
   "cell_type": "markdown",
   "id": "2c8ebf03",
   "metadata": {
    "slideshow": {
     "slide_type": "slide"
    }
   },
   "source": [
    "Operands can alternatively be variables\n",
    "\n",
    "# Example \n",
    "\n",
    "$ a = 6 $\n",
    "<br>$ b = 1.5 $\n",
    "\n",
    "Divide $a$ by $b$ and print the result"
   ]
  },
  {
   "cell_type": "code",
   "execution_count": 10,
   "id": "cc7ddbec",
   "metadata": {
    "slideshow": {
     "slide_type": "fragment"
    }
   },
   "outputs": [
    {
     "name": "stdout",
     "output_type": "stream",
     "text": [
      "4.0\n"
     ]
    }
   ],
   "source": [
    "a = 6\n",
    "b = 1.5\n",
    "\n",
    "print(a/b)"
   ]
  },
  {
   "cell_type": "markdown",
   "id": "845ce635",
   "metadata": {
    "slideshow": {
     "slide_type": "slide"
    }
   },
   "source": [
    "# Arithmetic Operators (in order of precedence)\n",
    "\n",
    "$**$ &nbsp; &nbsp; &nbsp; &nbsp; &nbsp;&nbsp;&nbsp;&nbsp; &nbsp; &nbsp;  __Exponent__ <br>\n",
    "$/$, $*$, $//$, $\\%$  &nbsp; &nbsp;&nbsp;                                 __Division, multiplication,  floor division, modulo__ (evaluated left to right in code) <br>\n",
    "$+$, $-$  &nbsp; &nbsp;&nbsp;&nbsp; &nbsp;&nbsp;&nbsp; &nbsp;&nbsp;  __Addition, subtraction__ (evaluated left to right in code)"
   ]
  },
  {
   "cell_type": "markdown",
   "id": "6210282b",
   "metadata": {
    "slideshow": {
     "slide_type": "slide"
    }
   },
   "source": [
    "# Example \n",
    "\n",
    "Find:\n",
    "\n",
    "$$ \\frac{6+2}{4 ^ 2} = 0.5$$"
   ]
  },
  {
   "cell_type": "code",
   "execution_count": 12,
   "id": "9f5e9258",
   "metadata": {},
   "outputs": [
    {
     "data": {
      "text/plain": [
       "0.5"
      ]
     },
     "execution_count": 12,
     "metadata": {},
     "output_type": "execute_result"
    }
   ],
   "source": [
    "(6 + 2) / 4**2"
   ]
  },
  {
   "cell_type": "markdown",
   "id": "309c2a54",
   "metadata": {
    "slideshow": {
     "slide_type": "slide"
    }
   },
   "source": [
    "# Arithmetic operators on strings - a word of warning!\n",
    "\n",
    "Adding string (text) data using `+` *connects* the two strings\n",
    "\n",
    "String data is not numerical data, so the numerical characters are not summed algebraically\n",
    "***\n",
    "```python\n",
    "a = 2\n",
    "b = '2'\n",
    "\n",
    "print(a + a)\n",
    "```\n",
    "> 4\n",
    "\n",
    "```python\n",
    "print(a + b)\n",
    "```\n",
    "> Error. <br>Cannot add numerical and non-numerical value\n",
    "\n",
    "```python\n",
    "print(b + b) \n",
    "```\n",
    "> 22\n",
    "***"
   ]
  },
  {
   "cell_type": "markdown",
   "id": "a1813380",
   "metadata": {
    "slideshow": {
     "slide_type": "fragment"
    }
   },
   "source": [
    "Other arithmetic operators cannot be used on non-numerical values."
   ]
  },
  {
   "cell_type": "markdown",
   "id": "c48e1778",
   "metadata": {
    "slideshow": {
     "slide_type": "slide"
    }
   },
   "source": [
    "# Floating point error and arithmetic operators\n",
    "\n",
    "For most decimal fractions, floating-point numbers contains small error due to the way that they are stored on the computer.\n",
    "\n",
    "The difference between the true value and the stored value of the floating point number (the error) is typically in the order of 17 d.p.\n",
    "\n",
    "When we do arithmetic using floating point numbers, this error compounds, which can cause unexpected results. \n"
   ]
  },
  {
   "cell_type": "code",
   "execution_count": 6,
   "id": "6581af8d",
   "metadata": {
    "slideshow": {
     "slide_type": "slide"
    }
   },
   "outputs": [
    {
     "data": {
      "text/plain": [
       "'3.29999999999999982'"
      ]
     },
     "execution_count": 6,
     "metadata": {},
     "output_type": "execute_result"
    }
   ],
   "source": [
    "format(3.3, '.17f')         # error is at least 1.8 x 10**-16"
   ]
  },
  {
   "cell_type": "code",
   "execution_count": 7,
   "id": "847b2748",
   "metadata": {},
   "outputs": [
    {
     "data": {
      "text/plain": [
       "'1.10000000000000009'"
      ]
     },
     "execution_count": 7,
     "metadata": {},
     "output_type": "execute_result"
    }
   ],
   "source": [
    "format(1.1, '.17f')         # error is at least 9 x 10**-17"
   ]
  },
  {
   "cell_type": "code",
   "execution_count": 1,
   "id": "85aace45",
   "metadata": {
    "slideshow": {
     "slide_type": "-"
    }
   },
   "outputs": [
    {
     "name": "stdout",
     "output_type": "stream",
     "text": [
      "2.1999999999999997\n",
      "2.9999999999999996\n",
      "4.4\n"
     ]
    }
   ],
   "source": [
    "print(3.3 - 1.1)\n",
    "print(3.3 / 1.1)\n",
    "print(3.3 + 1.1)"
   ]
  },
  {
   "cell_type": "code",
   "execution_count": 5,
   "id": "d654eb1a",
   "metadata": {
    "slideshow": {
     "slide_type": "fragment"
    }
   },
   "outputs": [
    {
     "data": {
      "text/plain": [
       "'4.40000000000000036'"
      ]
     },
     "execution_count": 5,
     "metadata": {},
     "output_type": "execute_result"
    }
   ],
   "source": [
    "format(3.3 + 1.1, '.17f')         # error is at least 3.6 x 10**-16"
   ]
  },
  {
   "cell_type": "markdown",
   "id": "a0d21a54",
   "metadata": {},
   "source": [
    "In Python the result is rounded to either 15 or 17 significant figures depending on the computation being done"
   ]
  },
  {
   "cell_type": "code",
   "execution_count": 20,
   "id": "0b2daa5a",
   "metadata": {
    "slideshow": {
     "slide_type": "slide"
    }
   },
   "outputs": [
    {
     "data": {
      "text/plain": [
       "0.24000000000000002"
      ]
     },
     "execution_count": 20,
     "metadata": {},
     "output_type": "execute_result"
    }
   ],
   "source": [
    "0.14 + 0.1"
   ]
  },
  {
   "cell_type": "code",
   "execution_count": 1,
   "id": "3a134ae4",
   "metadata": {},
   "outputs": [
    {
     "data": {
      "text/plain": [
       "0.9410000000000001"
      ]
     },
     "execution_count": 1,
     "metadata": {},
     "output_type": "execute_result"
    }
   ],
   "source": [
    "0.43 + 0.511"
   ]
  },
  {
   "cell_type": "code",
   "execution_count": 2,
   "id": "cda62624",
   "metadata": {},
   "outputs": [
    {
     "data": {
      "text/plain": [
       "4.2299999999999995"
      ]
     },
     "execution_count": 2,
     "metadata": {},
     "output_type": "execute_result"
    }
   ],
   "source": [
    "1.43 + 2.8"
   ]
  },
  {
   "cell_type": "markdown",
   "id": "1d566c37",
   "metadata": {
    "slideshow": {
     "slide_type": "slide"
    }
   },
   "source": [
    "There are a number of ways to deal with this. \n",
    "\n",
    "One of the simplest ways is to round the number we are dealing with"
   ]
  },
  {
   "cell_type": "code",
   "execution_count": 19,
   "id": "4ee883a7",
   "metadata": {},
   "outputs": [
    {
     "name": "stdout",
     "output_type": "stream",
     "text": [
      "0.24000000000000002\n",
      "0.24\n"
     ]
    }
   ],
   "source": [
    "tolerance = 10\n",
    "\n",
    "a = 0.14 + 0.1\n",
    "print(a)\n",
    "\n",
    "a = round(0.14 + 0.1, tolerance)\n",
    "print(a)"
   ]
  },
  {
   "cell_type": "markdown",
   "id": "39152840",
   "metadata": {
    "slideshow": {
     "slide_type": "fragment"
    }
   },
   "source": [
    "*The Python function `round()` rounds the first comma-seperated value within the parentheses to the number of decimal places represented by the second comma-seperated value within the parentheses*"
   ]
  },
  {
   "cell_type": "code",
   "execution_count": 42,
   "id": "82cc129a",
   "metadata": {
    "scrolled": true,
    "slideshow": {
     "slide_type": "skip"
    }
   },
   "outputs": [
    {
     "name": "stdout",
     "output_type": "stream",
     "text": [
      "5e-324\n",
      "0.0\n",
      "0.0\n"
     ]
    }
   ],
   "source": [
    "print(5e-324)\n",
    "\n",
    "print(1e-324)\n",
    "\n",
    "print(2e-324)"
   ]
  },
  {
   "cell_type": "markdown",
   "id": "44669846",
   "metadata": {
    "slideshow": {
     "slide_type": "slide"
    }
   },
   "source": [
    "# Variable Reassignment \n",
    "\n",
    "We can reassign the value of an existing variable  \n"
   ]
  },
  {
   "cell_type": "code",
   "execution_count": 21,
   "id": "85ed1f1c",
   "metadata": {},
   "outputs": [
    {
     "name": "stdout",
     "output_type": "stream",
     "text": [
      "2\n"
     ]
    }
   ],
   "source": [
    "a = 1\n",
    "\n",
    "a = 2\n",
    "\n",
    "print(a)"
   ]
  },
  {
   "cell_type": "markdown",
   "id": "343da091",
   "metadata": {
    "slideshow": {
     "slide_type": "slide"
    }
   },
   "source": [
    "The simplest assignment operator is the equals sign `=`.\n",
    "<br>`=` assigns value (object) to a variable.\n",
    "\n",
    "It is valid for the value to the right of the assignment to include reference(s) to the variable that is being assigned to"
   ]
  },
  {
   "cell_type": "code",
   "execution_count": 22,
   "id": "c1a6dd46",
   "metadata": {},
   "outputs": [
    {
     "name": "stdout",
     "output_type": "stream",
     "text": [
      "3\n"
     ]
    }
   ],
   "source": [
    "a = 1\n",
    "\n",
    "a = a * 2 + 1\n",
    "\n",
    "print(a)"
   ]
  },
  {
   "cell_type": "markdown",
   "id": "d0711ae7",
   "metadata": {
    "slideshow": {
     "slide_type": "slide"
    }
   },
   "source": [
    "# Augmented Assignment Operators\n",
    "\n",
    "__Augmented assignment operators__ compound the `=` operator with any arithmetic operator (e.g. `+=`, `-=`) as a shortened expression to re-assign the value of a variable. \n",
    "\n",
    "The new value of `a` is the original value of `a` when modified using the compounded arithmetic operator and value on the right hand side."
   ]
  },
  {
   "cell_type": "code",
   "execution_count": 23,
   "id": "5c5a2a4c",
   "metadata": {
    "slideshow": {
     "slide_type": "-"
    }
   },
   "outputs": [
    {
     "name": "stdout",
     "output_type": "stream",
     "text": [
      "6\n"
     ]
    }
   ],
   "source": [
    "a = 1\n",
    "a += 5     # Equivalent to a = a + 5\n",
    "print(a)"
   ]
  },
  {
   "cell_type": "code",
   "execution_count": 24,
   "id": "8df4087f",
   "metadata": {
    "slideshow": {
     "slide_type": "slide"
    }
   },
   "outputs": [
    {
     "name": "stdout",
     "output_type": "stream",
     "text": [
      "0\n"
     ]
    }
   ],
   "source": [
    "a = 3\n",
    "\n",
    "# Equivalent to a = a - 3\n",
    "a -= 3\n",
    "\n",
    "print(a)\n"
   ]
  },
  {
   "cell_type": "code",
   "execution_count": 25,
   "id": "1b2488bb",
   "metadata": {},
   "outputs": [
    {
     "name": "stdout",
     "output_type": "stream",
     "text": [
      "2.0\n"
     ]
    }
   ],
   "source": [
    "a = 4\n",
    "\n",
    "# Equivalent to a = a /2\n",
    "a /= 2\n",
    "\n",
    "print(a)\n"
   ]
  },
  {
   "cell_type": "markdown",
   "id": "9277923e",
   "metadata": {
    "slideshow": {
     "slide_type": "slide"
    }
   },
   "source": [
    "\n",
    "<a id='OperatorPrecedence'></a>\n",
    "# Operators (in order of precedence)\n",
    "\n",
    "\n",
    "1. Parentheses\n",
    "1. Arithmetic operators (top to bottom)<br>\n",
    "   `**`                  &nbsp; &nbsp; &nbsp; &nbsp; &nbsp; &nbsp; &nbsp; &nbsp; &nbsp;&nbsp;&nbsp;&nbsp; &nbsp; &nbsp; Exponent <br>\n",
    "   `/`, `*`, `//`, `\\%`  &nbsp; &nbsp;&nbsp; Division, multiplication, floor division, modulo (evaluated left to right in code)<br>\n",
    "   `+`, `-`             &nbsp; &nbsp; &nbsp; &nbsp; &nbsp; &nbsp;&nbsp;&nbsp; &nbsp;&nbsp;&nbsp; &nbsp; &nbsp; Addition, subtraction (evaluated left to right in code)\n",
    "1. Comparison operators: `<`, `<=`,  `>`,  `>=`, `!=`, `==`(evaluated left to right in code)\n",
    "1. Assignment operators `=`, `/=`, `*=`, `//=`, `\\%=`, `+=`, `-=` .... \n",
    "1. Identity operators `is`, `is not`\n",
    "1. Logical `not`\n",
    "1. Logical `and`\n",
    "1. Logical `or` "
   ]
  },
  {
   "cell_type": "markdown",
   "id": "79530af8",
   "metadata": {
    "slideshow": {
     "slide_type": "slide"
    }
   },
   "source": [
    "### Need to see some more examples? \n",
    "https://www.w3schools.com/python/python_operators.asp\n",
    "<br>https://www.geeksforgeeks.org/python-operators/\n",
    "<br>https://www.programiz.com/python-programming/operators\n",
    "<br>https://pynative.com/python-operators/\n",
    "\n",
    "### Want to take a quiz?\n",
    "https://realpython.com/quizzes/python-operators-expressions/\n",
    "<br>https://pynative.com/python-operators-and-expression-quiz/\n",
    "\n",
    "### Want some more advanced information?\n",
    "https://realpython.com/python-operators-expressions/"
   ]
  },
  {
   "cell_type": "code",
   "execution_count": null,
   "id": "0afa61e3",
   "metadata": {},
   "outputs": [],
   "source": []
  }
 ],
 "metadata": {
  "celltoolbar": "Slideshow",
  "kernelspec": {
   "display_name": "Python 3 (ipykernel)",
   "language": "python",
   "name": "python3"
  },
  "language_info": {
   "codemirror_mode": {
    "name": "ipython",
    "version": 3
   },
   "file_extension": ".py",
   "mimetype": "text/x-python",
   "name": "python",
   "nbconvert_exporter": "python",
   "pygments_lexer": "ipython3",
   "version": "3.10.9"
  }
 },
 "nbformat": 4,
 "nbformat_minor": 5
}
