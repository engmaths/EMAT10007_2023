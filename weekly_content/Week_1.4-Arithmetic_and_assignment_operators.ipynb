{
 "cells": [
  {
   "cell_type": "markdown",
   "id": "16c271fd",
   "metadata": {
    "slideshow": {
     "slide_type": "slide"
    }
   },
   "source": [
    "# Introduction to Computer Programming\n",
    "\n",
    "## Arithmetic and assignment operators\n",
    "\n",
    "<img src=\"img/full-colour-logo-UoB.png\" alt=\"Drawing\" style=\"width: 300px;\"/>"
   ]
  },
  {
   "cell_type": "markdown",
   "id": "1e694972",
   "metadata": {
    "slideshow": {
     "slide_type": "slide"
    }
   },
   "source": [
    "<a id='ArithmeticOperators'></a>\n",
    "# Arithmetic Operators\n",
    "\n",
    "__Arithmetic operators__ (+, -, /, * ....) are used with numerical values to perform common mathematical operations.\n",
    "\n",
    "$**$   &nbsp; &nbsp; &nbsp; &nbsp;                Exponent <br>\n",
    "$/$    &nbsp; &nbsp; &nbsp; &nbsp; &nbsp; &nbsp;  Division <br>\n",
    "$*$    &nbsp; &nbsp; &nbsp; &nbsp; &nbsp;         Multiplication <br>\n",
    "$//$   &nbsp; &nbsp; &nbsp; &nbsp; &nbsp;         Floor division (round down to the next integer)<br>\n",
    "$\\%$   &nbsp; &nbsp; &nbsp; &nbsp; &nbsp;         Modulo `a % b = a - (b * a // b)` (remainder)<br>\n",
    "$+$    &nbsp; &nbsp; &nbsp; &nbsp; &nbsp;         Addition <br>\n",
    "$-$    &nbsp; &nbsp; &nbsp; &nbsp; &nbsp;         Subtraction <br>\n"
   ]
  },
  {
   "cell_type": "code",
   "execution_count": 3,
   "id": "2deaeaf4",
   "metadata": {},
   "outputs": [
    {
     "name": "stdout",
     "output_type": "stream",
     "text": [
      "1\n"
     ]
    }
   ],
   "source": [
    "a = 2 - 1\n",
    "print(a)"
   ]
  },
  {
   "cell_type": "markdown",
   "id": "597b63c8",
   "metadata": {},
   "source": [
    "***"
   ]
  },
  {
   "cell_type": "code",
   "execution_count": 5,
   "id": "8bf9e9e7",
   "metadata": {},
   "outputs": [
    {
     "name": "stdout",
     "output_type": "stream",
     "text": [
      "4.0\n"
     ]
    }
   ],
   "source": [
    "a = 6\n",
    "b = 1.5\n",
    "print(a / b)"
   ]
  },
  {
   "cell_type": "markdown",
   "id": "1df2663e",
   "metadata": {},
   "source": [
    "***"
   ]
  },
  {
   "cell_type": "code",
   "execution_count": 4,
   "id": "13d7ddb1",
   "metadata": {},
   "outputs": [
    {
     "name": "stdout",
     "output_type": "stream",
     "text": [
      "4.0\n"
     ]
    }
   ],
   "source": [
    "a = 7\n",
    "b = 1.5\n",
    "print(a // b)"
   ]
  },
  {
   "cell_type": "markdown",
   "id": "845ce635",
   "metadata": {
    "slideshow": {
     "slide_type": "slide"
    }
   },
   "source": [
    "Operators in order of operator precedence\n",
    "\n",
    "$**$ &nbsp; &nbsp; &nbsp; &nbsp; &nbsp;&nbsp;&nbsp;&nbsp; &nbsp; &nbsp;  __Exponent__ <br>\n",
    "$/$, $*$, $//$, $\\%$  &nbsp; &nbsp;&nbsp;                                __Division, multiplication,  floor division, modulo__ (evaluated left to right in code) <br>\n",
    "$+$, $-$  &nbsp; &nbsp;&nbsp;&nbsp; &nbsp;&nbsp;&nbsp; &nbsp;&nbsp;  __Addition, subtraction__ (evaluated left to right in code)"
   ]
  },
  {
   "cell_type": "markdown",
   "id": "6210282b",
   "metadata": {},
   "source": [
    "$$ \\frac{6+2}{4 ^ 2}$$"
   ]
  },
  {
   "cell_type": "code",
   "execution_count": 12,
   "id": "9f5e9258",
   "metadata": {},
   "outputs": [
    {
     "name": "stdout",
     "output_type": "stream",
     "text": [
      "0.5\n"
     ]
    }
   ],
   "source": [
    "a = (6+2) / 4**2\n",
    "print( a )"
   ]
  },
  {
   "cell_type": "markdown",
   "id": "309c2a54",
   "metadata": {
    "slideshow": {
     "slide_type": "slide"
    }
   },
   "source": [
    "### Arithmetic operators - a word of warning!\n",
    "\n",
    "Adding string (text) data using `+` *connects* the two strings\n",
    "\n",
    "String data is not numerical data\n",
    "\n",
    "The other arithmetic operators cannot be used on non-numerical values.\n",
    "\n",
    "***\n",
    "```python\n",
    "a = 2\n",
    "b = '2'\n",
    "\n",
    "print(a + a)\n",
    "```\n",
    "> 4\n",
    "\n",
    "```python\n",
    "print(a + b)\n",
    "```\n",
    "> Error. <br>Cannot add numerical and non-numerical value\n",
    "\n",
    "```python\n",
    "print(b + b) \n",
    "```\n",
    "> 22\n",
    "***"
   ]
  },
  {
   "cell_type": "markdown",
   "id": "44669846",
   "metadata": {
    "slideshow": {
     "slide_type": "slide"
    }
   },
   "source": [
    "# Variable reassignment \n",
    "\n",
    "We can reassign an existing variable a new value. \n"
   ]
  },
  {
   "cell_type": "code",
   "execution_count": 1,
   "id": "85ed1f1c",
   "metadata": {},
   "outputs": [
    {
     "name": "stdout",
     "output_type": "stream",
     "text": [
      "1\n"
     ]
    }
   ],
   "source": [
    "a = 1\n",
    "# a = 2\n",
    "print(a)"
   ]
  },
  {
   "cell_type": "markdown",
   "id": "343da091",
   "metadata": {
    "slideshow": {
     "slide_type": "slide"
    }
   },
   "source": [
    "# Assignment Operators\n",
    "\n",
    "The simplest assignment operator is `=` which assigns the value following this operator to a variable.\n",
    "\n",
    "Assignment operators that compound the `=` operator with any arithmetic operator (e.g. `+=`, `-=`) can be used to re-assign the value of a variable. \n",
    "\n",
    "The new value of `a` is the original value of `a` when modified using the compounded arithmetic operator and value on the right hand side."
   ]
  },
  {
   "cell_type": "code",
   "execution_count": 13,
   "id": "5c5a2a4c",
   "metadata": {
    "slideshow": {
     "slide_type": "-"
    }
   },
   "outputs": [
    {
     "name": "stdout",
     "output_type": "stream",
     "text": [
      "2\n"
     ]
    }
   ],
   "source": [
    "a = 1\n",
    "a += 1     # Equivalent to a = a + 1\n",
    "print(a)"
   ]
  },
  {
   "cell_type": "code",
   "execution_count": 9,
   "id": "8df4087f",
   "metadata": {},
   "outputs": [
    {
     "name": "stdout",
     "output_type": "stream",
     "text": [
      "2\n"
     ]
    }
   ],
   "source": [
    "a = 3\n",
    "a -= 1\n",
    "print(a)\n"
   ]
  },
  {
   "cell_type": "markdown",
   "id": "9277923e",
   "metadata": {
    "slideshow": {
     "slide_type": "slide"
    }
   },
   "source": [
    "\n",
    "<a id='OperatorPrecedence'></a>\n",
    "# Operator Precedence\n",
    "\n",
    "\n",
    "1. Parentheses\n",
    "1. Arithmetic operators (top to bottom)<br>\n",
    "   `**`                  &nbsp; &nbsp; &nbsp; &nbsp; &nbsp; &nbsp; &nbsp; &nbsp; &nbsp;&nbsp;&nbsp;&nbsp; &nbsp; &nbsp; Exponent <br>\n",
    "   `/`, `*`, `//`, `\\%`  &nbsp; &nbsp;&nbsp; Division, multiplication, floor division, modulo (evaluated left to right)<br>\n",
    "   `+`, `-`             &nbsp; &nbsp; &nbsp; &nbsp; &nbsp; &nbsp;&nbsp;&nbsp; &nbsp;&nbsp;&nbsp; &nbsp; &nbsp; Addition, subtraction (evaluated left to right)\n",
    "1. Comparison operators: `<`, `<=`,  `>`,  `>=`, `!=`, `==`(evaluated left to right)\n",
    "1. Assignment operators `=`, `/=`, `*=`, `//=`, `\\%=`, `+=`, `-=` .... \n",
    "1. Identity operators `is`, `is not`\n",
    "1. Logical `not`\n",
    "1. Logical `and`\n",
    "1. Logical `or` "
   ]
  }
 ],
 "metadata": {
  "celltoolbar": "Slideshow",
  "kernelspec": {
   "display_name": "Python 3 (ipykernel)",
   "language": "python",
   "name": "python3"
  },
  "language_info": {
   "codemirror_mode": {
    "name": "ipython",
    "version": 3
   },
   "file_extension": ".py",
   "mimetype": "text/x-python",
   "name": "python",
   "nbconvert_exporter": "python",
   "pygments_lexer": "ipython3",
   "version": "3.10.9"
  }
 },
 "nbformat": 4,
 "nbformat_minor": 5
}
