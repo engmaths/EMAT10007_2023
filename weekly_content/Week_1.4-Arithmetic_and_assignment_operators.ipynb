{
 "cells": [
  {
   "cell_type": "markdown",
   "id": "16c271fd",
   "metadata": {
    "slideshow": {
     "slide_type": "slide"
    }
   },
   "source": [
    "# Introduction to Computer Programming\n",
    "\n",
    "## Arithmetic and Assignment operators\n",
    "\n",
    "<img src=\"img/full-colour-logo-UoB.png\" alt=\"Drawing\" style=\"width: 300px;\"/>"
   ]
  },
  {
   "cell_type": "markdown",
   "id": "3383018e",
   "metadata": {},
   "source": [
    "# Operators\n",
    "\n",
    "In programming, __operators__ are symbols/characters that represent a process or computation. \n",
    "\n",
    "The values that an operator acts on are called __operands__.\n",
    "\n"
   ]
  },
  {
   "cell_type": "markdown",
   "id": "1e694972",
   "metadata": {
    "slideshow": {
     "slide_type": "slide"
    }
   },
   "source": [
    "<a id='ArithmeticOperators'></a>\n",
    "# Arithmetic Operators\n",
    "\n",
    "__Arithmetic operators__ (+, -, /, * ....) are used with numerical operands to perform common mathematical operations.\n",
    "\n",
    "$**$   &nbsp; &nbsp; &nbsp; &nbsp;                Exponent <br>\n",
    "$/$    &nbsp; &nbsp; &nbsp; &nbsp; &nbsp; &nbsp;  Division <br>\n",
    "$*$    &nbsp; &nbsp; &nbsp; &nbsp; &nbsp;         Multiplication <br>\n",
    "$//$   &nbsp; &nbsp; &nbsp; &nbsp; &nbsp;         Floor division (round down to the next integer)<br>\n",
    "$\\%$   &nbsp; &nbsp; &nbsp; &nbsp; &nbsp;         Modulo `a % b = a - b * (a // b)` (remainder)<br>\n",
    "$+$    &nbsp; &nbsp; &nbsp; &nbsp; &nbsp;         Addition <br>\n",
    "$-$    &nbsp; &nbsp; &nbsp; &nbsp; &nbsp;         Subtraction <br>\n"
   ]
  },
  {
   "cell_type": "markdown",
   "id": "87fa5e46",
   "metadata": {},
   "source": [
    "Operands can be literal values \n",
    "\n",
    "# Example \n",
    "\n",
    "Use arithmetic operators to produce the expression:<br> $ a = (3-1) * 4 $"
   ]
  },
  {
   "cell_type": "code",
   "execution_count": 3,
   "id": "2deaeaf4",
   "metadata": {},
   "outputs": [],
   "source": [
    "a = (3-1)*4\n"
   ]
  },
  {
   "cell_type": "markdown",
   "id": "2c8ebf03",
   "metadata": {},
   "source": [
    "Operands can alternatively be variables\n",
    "\n",
    "# Example \n",
    "\n",
    "$ a = 6 $\n",
    "<br>$ b = 1.5 $\n",
    "\n",
    "Divide $a$ by $b$ and print the result"
   ]
  },
  {
   "cell_type": "code",
   "execution_count": 59,
   "id": "60385282",
   "metadata": {},
   "outputs": [
    {
     "data": {
      "text/plain": [
       "4.0"
      ]
     },
     "execution_count": 59,
     "metadata": {},
     "output_type": "execute_result"
    }
   ],
   "source": [
    "a = 6\n",
    "b = 1.5\n",
    "a / b"
   ]
  },
  {
   "cell_type": "markdown",
   "id": "61232338",
   "metadata": {},
   "source": [
    "# Example \n",
    "\n",
    "$ a = -7 $\n",
    "<br>$ b = 1.5 $\n",
    "\n",
    "Find the greatest whole number less than or equal to $\\frac{a}{b}$ and print the result"
   ]
  },
  {
   "cell_type": "code",
   "execution_count": 14,
   "id": "62f0b55c",
   "metadata": {},
   "outputs": [
    {
     "name": "stdout",
     "output_type": "stream",
     "text": [
      "-5.0\n"
     ]
    }
   ],
   "source": [
    "a = -7\n",
    "b = 1.5\n",
    "print(a // b)"
   ]
  },
  {
   "cell_type": "markdown",
   "id": "845ce635",
   "metadata": {
    "slideshow": {
     "slide_type": "slide"
    }
   },
   "source": [
    "# Arithmetic Operators (in order of precedence)\n",
    "\n",
    "$**$ &nbsp; &nbsp; &nbsp; &nbsp; &nbsp;&nbsp;&nbsp;&nbsp; &nbsp; &nbsp;  __Exponent__ <br>\n",
    "$/$, $*$, $//$, $\\%$  &nbsp; &nbsp;&nbsp;                                 __Division, multiplication,  floor division, modulo__ (evaluated left to right in code) <br>\n",
    "$+$, $-$  &nbsp; &nbsp;&nbsp;&nbsp; &nbsp;&nbsp;&nbsp; &nbsp;&nbsp;  __Addition, subtraction__ (evaluated left to right in code)"
   ]
  },
  {
   "cell_type": "markdown",
   "id": "6210282b",
   "metadata": {},
   "source": [
    "# Example \n",
    "\n",
    "Find:\n",
    "\n",
    "$$ \\frac{6+2}{4 ^ 2}$$"
   ]
  },
  {
   "cell_type": "code",
   "execution_count": 11,
   "id": "9f5e9258",
   "metadata": {},
   "outputs": [
    {
     "name": "stdout",
     "output_type": "stream",
     "text": [
      "0.5\n"
     ]
    }
   ],
   "source": [
    "a = (6+2) / 4**2\n",
    "print( a )\n"
   ]
  },
  {
   "cell_type": "markdown",
   "id": "309c2a54",
   "metadata": {
    "slideshow": {
     "slide_type": "slide"
    }
   },
   "source": [
    "# Arithmetic operators on `string`s - a word of warning!\n",
    "\n",
    "Adding string (text) data using `+` *connects* the two strings\n",
    "\n",
    "String data is not numerical data, so the numerical characters are not summed algebraically\n",
    "\n",
    "Other arithmetic operators cannot be used on non-numerical values.\n",
    "\n",
    "***\n",
    "```python\n",
    "a = 2\n",
    "b = '2'\n",
    "\n",
    "print(a + a)\n",
    "```\n",
    "> 4\n",
    "\n",
    "```python\n",
    "print(a + b)\n",
    "```\n",
    "> Error. <br>Cannot add numerical and non-numerical value\n",
    "\n",
    "```python\n",
    "print(b + b) \n",
    "```\n",
    "> 22\n",
    "***"
   ]
  },
  {
   "cell_type": "markdown",
   "id": "77cfee8f",
   "metadata": {
    "slideshow": {
     "slide_type": "slide"
    }
   },
   "source": [
    "# Floating point error - a word of warning!\n",
    "\n",
    "Adding string (text) data using `+` *connects* the two strings\n",
    "\n",
    "String data is not numerical data, so the numerical characters are not summed algebraically\n",
    "\n",
    "Other arithmetic operators cannot be used on non-numerical values.\n",
    "\n",
    "***\n",
    "```python\n",
    "a = 2\n",
    "b = '2'\n",
    "\n",
    "print(a + a)\n",
    "```\n",
    "> 4\n",
    "\n",
    "```python\n",
    "print(a + b)\n",
    "```\n",
    "> Error. <br>Cannot add numerical and non-numerical value\n",
    "\n",
    "```python\n",
    "print(b + b) \n",
    "```\n",
    "> 22\n",
    "***"
   ]
  },
  {
   "cell_type": "markdown",
   "id": "c48e1778",
   "metadata": {},
   "source": [
    "# Floating point error and arithmetic operators\n",
    "\n",
    "For most decimal fractions, the stored representation of a floating-point number is an approximation of the actual value, using binary fractions.\n",
    "\n",
    "The difference between the true value and the stored value of the floating point number (the error) is small. \n",
    "\n",
    "However, when we do arithmetic using floating point numbers, the error compounds. \n",
    "\n",
    "Many languages (including Python), round the result to 17 significant digits"
   ]
  },
  {
   "cell_type": "code",
   "execution_count": 58,
   "id": "847b2748",
   "metadata": {},
   "outputs": [
    {
     "data": {
      "text/plain": [
       "'0.20000000000000001'"
      ]
     },
     "execution_count": 58,
     "metadata": {},
     "output_type": "execute_result"
    }
   ],
   "source": [
    "format(0.2, '.17f')         # error is at least 1 x 10**-17"
   ]
  },
  {
   "cell_type": "code",
   "execution_count": 55,
   "id": "02f0c6cd",
   "metadata": {},
   "outputs": [
    {
     "data": {
      "text/plain": [
       "'2.2000000000000002'"
      ]
     },
     "execution_count": 55,
     "metadata": {},
     "output_type": "execute_result"
    }
   ],
   "source": [
    "format(2.2, '.16f')         # error is at least 2 x 10**-16"
   ]
  },
  {
   "cell_type": "code",
   "execution_count": 56,
   "id": "8a9ed3f4",
   "metadata": {},
   "outputs": [
    {
     "data": {
      "text/plain": [
       "'2.1999999999999997'"
      ]
     },
     "execution_count": 56,
     "metadata": {},
     "output_type": "execute_result"
    }
   ],
   "source": [
    "format(3.3 - 1.1, '.16f')   # error is at least 3 x 10**-16\n"
   ]
  },
  {
   "cell_type": "code",
   "execution_count": 42,
   "id": "82cc129a",
   "metadata": {
    "scrolled": true,
    "slideshow": {
     "slide_type": "skip"
    }
   },
   "outputs": [
    {
     "name": "stdout",
     "output_type": "stream",
     "text": [
      "5e-324\n",
      "0.0\n",
      "0.0\n"
     ]
    }
   ],
   "source": [
    "print(5e-324)\n",
    "\n",
    "print(1e-324)\n",
    "\n",
    "print(2e-324)"
   ]
  },
  {
   "cell_type": "markdown",
   "id": "44669846",
   "metadata": {
    "slideshow": {
     "slide_type": "slide"
    }
   },
   "source": [
    "# Variable Reassignment \n",
    "\n",
    "We can reassign the value of an existing variable  \n"
   ]
  },
  {
   "cell_type": "code",
   "execution_count": 15,
   "id": "85ed1f1c",
   "metadata": {},
   "outputs": [
    {
     "name": "stdout",
     "output_type": "stream",
     "text": [
      "1\n"
     ]
    }
   ],
   "source": [
    "a = 1\n",
    "# a = 2.0\n",
    "print(a)"
   ]
  },
  {
   "cell_type": "markdown",
   "id": "343da091",
   "metadata": {
    "slideshow": {
     "slide_type": "slide"
    }
   },
   "source": [
    "# Augmented Assignment Operators\n",
    "\n",
    "The simplest assignment operator is the equals sign `=`.\n",
    "<br>`=` assigns value (object) to a variable.\n",
    "\n",
    "It is valid for the value to the right of the assignment to include reference(s) to the variable that is being assigned to"
   ]
  },
  {
   "cell_type": "code",
   "execution_count": 16,
   "id": "c1a6dd46",
   "metadata": {},
   "outputs": [
    {
     "name": "stdout",
     "output_type": "stream",
     "text": [
      "3\n"
     ]
    }
   ],
   "source": [
    "a = 1\n",
    "a = a * 2 + 1\n",
    "print(a)"
   ]
  },
  {
   "cell_type": "markdown",
   "id": "d0711ae7",
   "metadata": {},
   "source": [
    "__Augmented assignment operators__ compound the `=` operator with any arithmetic operator (e.g. `+=`, `-=`) as a shortened expression to re-assign the value of a variable. \n",
    "\n",
    "The new value of `a` is the original value of `a` when modified using the compounded arithmetic operator and value on the right hand side."
   ]
  },
  {
   "cell_type": "code",
   "execution_count": 20,
   "id": "5c5a2a4c",
   "metadata": {
    "slideshow": {
     "slide_type": "-"
    }
   },
   "outputs": [
    {
     "name": "stdout",
     "output_type": "stream",
     "text": [
      "6\n"
     ]
    }
   ],
   "source": [
    "a = 1\n",
    "a += 5     # Equivalent to a = a + 1\n",
    "print(a)"
   ]
  },
  {
   "cell_type": "code",
   "execution_count": 21,
   "id": "8df4087f",
   "metadata": {},
   "outputs": [
    {
     "name": "stdout",
     "output_type": "stream",
     "text": [
      "-1\n"
     ]
    }
   ],
   "source": [
    "a = 3\n",
    "a -= 4    # Equivalent to a = a - 3\n",
    "print(a)\n"
   ]
  },
  {
   "cell_type": "code",
   "execution_count": 22,
   "id": "1b2488bb",
   "metadata": {},
   "outputs": [
    {
     "name": "stdout",
     "output_type": "stream",
     "text": [
      "2.0\n"
     ]
    }
   ],
   "source": [
    "a = 4\n",
    "a /= 2    # Equivalent to a = a /2\n",
    "print(a)\n"
   ]
  },
  {
   "cell_type": "markdown",
   "id": "9277923e",
   "metadata": {
    "slideshow": {
     "slide_type": "slide"
    }
   },
   "source": [
    "\n",
    "<a id='OperatorPrecedence'></a>\n",
    "# Operators (in order of precedence)\n",
    "\n",
    "\n",
    "1. Parentheses\n",
    "1. Arithmetic operators (top to bottom)<br>\n",
    "   `**`                  &nbsp; &nbsp; &nbsp; &nbsp; &nbsp; &nbsp; &nbsp; &nbsp; &nbsp;&nbsp;&nbsp;&nbsp; &nbsp; &nbsp; Exponent <br>\n",
    "   `/`, `*`, `//`, `\\%`  &nbsp; &nbsp;&nbsp; Division, multiplication, floor division, modulo (evaluated left to right in code)<br>\n",
    "   `+`, `-`             &nbsp; &nbsp; &nbsp; &nbsp; &nbsp; &nbsp;&nbsp;&nbsp; &nbsp;&nbsp;&nbsp; &nbsp; &nbsp; Addition, subtraction (evaluated left to right in code)\n",
    "1. Comparison operators: `<`, `<=`,  `>`,  `>=`, `!=`, `==`(evaluated left to right in code)\n",
    "1. Assignment operators `=`, `/=`, `*=`, `//=`, `\\%=`, `+=`, `-=` .... \n",
    "1. Identity operators `is`, `is not`\n",
    "1. Logical `not`\n",
    "1. Logical `and`\n",
    "1. Logical `or` "
   ]
  },
  {
   "cell_type": "markdown",
   "id": "79530af8",
   "metadata": {},
   "source": [
    "### Need to see some more examples? \n",
    "https://www.w3schools.com/python/python_operators.asp\n",
    "<br>https://www.geeksforgeeks.org/python-operators/\n",
    "<br>https://www.programiz.com/python-programming/operators\n",
    "<br>https://pynative.com/python-operators/\n",
    "\n",
    "### Want to take a quiz?\n",
    "https://realpython.com/quizzes/python-operators-expressions/\n",
    "<br>https://pynative.com/python-operators-and-expression-quiz/\n",
    "\n",
    "### Want some more advanced information?\n",
    "https://realpython.com/python-operators-expressions/"
   ]
  },
  {
   "cell_type": "code",
   "execution_count": null,
   "id": "0afa61e3",
   "metadata": {},
   "outputs": [],
   "source": []
  }
 ],
 "metadata": {
  "celltoolbar": "Slideshow",
  "kernelspec": {
   "display_name": "Python 3 (ipykernel)",
   "language": "python",
   "name": "python3"
  },
  "language_info": {
   "codemirror_mode": {
    "name": "ipython",
    "version": 3
   },
   "file_extension": ".py",
   "mimetype": "text/x-python",
   "name": "python",
   "nbconvert_exporter": "python",
   "pygments_lexer": "ipython3",
   "version": "3.10.9"
  }
 },
 "nbformat": 4,
 "nbformat_minor": 5
}
