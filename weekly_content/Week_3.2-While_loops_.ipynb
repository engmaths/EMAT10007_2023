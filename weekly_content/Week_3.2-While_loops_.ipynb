{
 "cells": [
  {
   "cell_type": "markdown",
   "id": "4242fbfd",
   "metadata": {
    "slideshow": {
     "slide_type": "slide"
    }
   },
   "source": [
    "# Introduction to Computer Programming\n",
    "\n",
    "## Control Structures - While loops\n",
    "\n",
    "* * *\n",
    "\n",
    "<img src=\"img/full-colour-logo-UoB.png\" alt=\"Bristol\" style=\"width: 300px;\"/>"
   ]
  },
  {
   "cell_type": "markdown",
   "id": "c7123be6",
   "metadata": {
    "slideshow": {
     "slide_type": "slide"
    }
   },
   "source": [
    " \n",
    "\n",
    "Real world programs usually need to:\n",
    "- choose between multiple possible sets of statements to execute\n",
    "- skip over some statements\n",
    "- repeatedly execute some statements"
   ]
  },
  {
   "cell_type": "markdown",
   "id": "163c6a6c",
   "metadata": {
    "slideshow": {
     "slide_type": "slide"
    }
   },
   "source": [
    "# Iteration\n",
    "\n",
    "Repeatedly executing a block of code is referred to as __iteration__.\n",
    "\n",
    "There are two types of iteration:\n",
    "- __Definite iteration__: number of repetitions is specified explicitly in advance\n",
    "- __Indefinite iteration__: the code block repeatedly executes until some condition is met"
   ]
  },
  {
   "cell_type": "markdown",
   "id": "9e3e874e",
   "metadata": {
    "slideshow": {
     "slide_type": "slide"
    }
   },
   "source": [
    "# `while` loop\n",
    "\n",
    "In Python __indefinite iteration__ control structures are referred to as __`while` loops__."
   ]
  },
  {
   "cell_type": "markdown",
   "id": "334b7c71",
   "metadata": {
    "slideshow": {
     "slide_type": "slide"
    }
   },
   "source": [
    "\n",
    "\n",
    "`while` loops have the syntax\n",
    "***\n",
    "```python\n",
    "while expression:\n",
    "    operation\n",
    "    \n",
    "```\n",
    "***\n",
    "The main components of a while loop are:\n",
    "1. the keyword `while`\n",
    "2. Controlling *expression* with Boolean value `True` or `False`\n",
    "3. Colon after the controlling *expression*  `:`\n",
    "4. an indended block of code that will be executed repeatedly as long as the Boolean value of *expression* is `True`"
   ]
  },
  {
   "cell_type": "markdown",
   "id": "62fe9852",
   "metadata": {
    "slideshow": {
     "slide_type": "slide"
    }
   },
   "source": [
    "The __controlling expression__ typically involves one or more variables that are initialised prior to starting the loop and then modified somewhere in the loop body.\n",
    "\n",
    "With each repetition of the loop, the Boolean value of the expression is first evaluated.\n",
    "\n",
    ">`True`: The loop is entered. <br>The indented code is executed\n",
    "\n",
    ">`False`: The loop is terminated. <br>The program proceeds to the next unindented line of code"
   ]
  },
  {
   "cell_type": "markdown",
   "id": "c7db090c",
   "metadata": {
    "slideshow": {
     "slide_type": "slide"
    }
   },
   "source": [
    "# Example \n",
    "\n",
    "Print the numbers from 0 to 4"
   ]
  },
  {
   "cell_type": "code",
   "execution_count": 1,
   "id": "4ace7bf8",
   "metadata": {
    "scrolled": true
   },
   "outputs": [
    {
     "name": "stdout",
     "output_type": "stream",
     "text": [
      "0\n",
      "1\n",
      "2\n",
      "3\n",
      "4\n",
      "end\n"
     ]
    }
   ],
   "source": [
    "i = 0\n",
    "\n",
    "while i < 5:\n",
    "    print(i)\n",
    "    i += 1\n",
    "    \n",
    "print('end')"
   ]
  },
  {
   "cell_type": "markdown",
   "id": "f85fc764",
   "metadata": {
    "slideshow": {
     "slide_type": "slide"
    }
   },
   "source": [
    "What sequence of events is happening?\n",
    "1. The variable `i` is assigned the value `0`\n",
    "2. The `while` loop is approached and the expression `i < 5` is evaluated\n",
    "3. Since `0 < 5` is `True`, the loop is entered\n",
    "4. The value of `i` is printed and its value is increased by one\n",
    "5. The expression `i < 5` is evaluated again.  Since `1 < 5` is `True`, the loop is entered again\n",
    "6. The process repeats until `i < 5` is `False`, at which point the loop is terminated\n",
    "7. The next unindented line of code is executed"
   ]
  },
  {
   "cell_type": "markdown",
   "id": "b30d2445",
   "metadata": {
    "slideshow": {
     "slide_type": "slide"
    }
   },
   "source": [
    "Print the numbers from 0 to 4 is an example of __definate iteration__ and is therefore more suitable to achieve with a `for` loop:\n",
    "- fewer lines of code to achieve the same computation\n",
    "- no need to initialise variable `i`\n",
    "- no need to remember to increment the value of variable `i` within the loop"
   ]
  },
  {
   "cell_type": "code",
   "execution_count": 3,
   "id": "62596afd",
   "metadata": {},
   "outputs": [
    {
     "name": "stdout",
     "output_type": "stream",
     "text": [
      "0\n",
      "1\n",
      "2\n",
      "3\n",
      "4\n",
      "end\n"
     ]
    }
   ],
   "source": [
    "for i in range(5):\n",
    "    print(i)\n",
    "print('end')"
   ]
  },
  {
   "cell_type": "markdown",
   "id": "05c70bd4",
   "metadata": {
    "slideshow": {
     "slide_type": "slide"
    }
   },
   "source": [
    "# Infinite loops - a word of warning!\n",
    "\n",
    "**Question**: What will the output of the following code be?\n",
    "***\n",
    "```python\n",
    "i = 0\n",
    "while i < 5:\n",
    "    print(i)\n",
    "```\n",
    "***"
   ]
  },
  {
   "cell_type": "markdown",
   "id": "68e1fc09",
   "metadata": {
    "slideshow": {
     "slide_type": "fragment"
    }
   },
   "source": [
    "**Answer**: Since the value of $i$ is never changed, the loop will never terminate!\n",
    "* This is called an **infinite loop**\n",
    "* Take care to avoid these when using `while` loops"
   ]
  },
  {
   "cell_type": "markdown",
   "id": "02c11aff",
   "metadata": {
    "slideshow": {
     "slide_type": "slide"
    }
   },
   "source": [
    "# Example \n",
    "\n",
    "Another example of __definite iteration__\n",
    "\n",
    "Print the first 5 powers of 3 (non-negative exponents)..."
   ]
  },
  {
   "cell_type": "markdown",
   "id": "61b64c3b",
   "metadata": {
    "slideshow": {
     "slide_type": "fragment"
    }
   },
   "source": [
    "... with a `while` loop"
   ]
  },
  {
   "cell_type": "code",
   "execution_count": 15,
   "id": "56b8996c",
   "metadata": {
    "scrolled": false
   },
   "outputs": [
    {
     "name": "stdout",
     "output_type": "stream",
     "text": [
      "1\n",
      "3\n",
      "9\n",
      "27\n",
      "81\n"
     ]
    }
   ],
   "source": [
    "exponent = 0\n",
    "\n",
    "while exponent <= 4:\n",
    "    print(3**exponent)\n",
    "    exponent += 1"
   ]
  },
  {
   "cell_type": "markdown",
   "id": "4ee1445a",
   "metadata": {
    "slideshow": {
     "slide_type": "slide"
    }
   },
   "source": [
    "... and with a `for` loop"
   ]
  },
  {
   "cell_type": "code",
   "execution_count": 16,
   "id": "9e70f0c1",
   "metadata": {
    "slideshow": {
     "slide_type": "-"
    }
   },
   "outputs": [
    {
     "name": "stdout",
     "output_type": "stream",
     "text": [
      "1\n",
      "3\n",
      "9\n",
      "27\n",
      "81\n"
     ]
    }
   ],
   "source": [
    "for exponent in range(5):\n",
    "    print(3** exponent)"
   ]
  },
  {
   "cell_type": "markdown",
   "id": "a462932b",
   "metadata": {
    "slideshow": {
     "slide_type": "slide"
    }
   },
   "source": [
    "Now let's look at some examples of __indefinite iteration__...."
   ]
  },
  {
   "cell_type": "markdown",
   "id": "b5469f44",
   "metadata": {
    "slideshow": {
     "slide_type": "slide"
    }
   },
   "source": [
    "# Example \n",
    "\n",
    "Print all powers of 3 that are less than 100 (non-negative exponents)\n",
    "\n",
    "This time we do not already know (without calculating) how many iterations there will be. \n",
    "\n",
    "Therefore a `while` loop is more suitable than a `for` loop"
   ]
  },
  {
   "cell_type": "code",
   "execution_count": 17,
   "id": "054bfba5",
   "metadata": {
    "scrolled": true
   },
   "outputs": [
    {
     "name": "stdout",
     "output_type": "stream",
     "text": [
      "1\n",
      "3\n",
      "9\n",
      "27\n",
      "81\n"
     ]
    }
   ],
   "source": [
    "exponent = 0\n",
    "\n",
    "while 3**exponent < 100:\n",
    "    print(3**exponent)\n",
    "    exponent +=1"
   ]
  },
  {
   "cell_type": "markdown",
   "id": "af292027",
   "metadata": {
    "slideshow": {
     "slide_type": "slide"
    }
   },
   "source": [
    "# Example \n",
    "\n",
    "Find the greatest power of 3 that is smaller than 100 "
   ]
  },
  {
   "cell_type": "code",
   "execution_count": 24,
   "id": "d983a0cc",
   "metadata": {
    "scrolled": true
   },
   "outputs": [
    {
     "name": "stdout",
     "output_type": "stream",
     "text": [
      "81\n"
     ]
    }
   ],
   "source": [
    "exponent = 0\n",
    "\n",
    "while 3**exponent < 100:\n",
    "    power = 3**exponent\n",
    "    exponent +=1\n",
    "    \n",
    "print(power)"
   ]
  },
  {
   "cell_type": "markdown",
   "id": "d47d390d",
   "metadata": {
    "slideshow": {
     "slide_type": "slide"
    }
   },
   "source": [
    "# Example \n",
    "\n",
    "Find the smallest power of 3 that is greater than 100 "
   ]
  },
  {
   "cell_type": "code",
   "execution_count": 20,
   "id": "662ff004",
   "metadata": {
    "scrolled": true
   },
   "outputs": [
    {
     "name": "stdout",
     "output_type": "stream",
     "text": [
      "243\n"
     ]
    }
   ],
   "source": [
    "exponent = 0\n",
    "power = 3**exponent \n",
    "\n",
    "while power < 100:\n",
    "    power = 3**exponent\n",
    "    exponent +=1\n",
    "    \n",
    "print(power)"
   ]
  },
  {
   "cell_type": "markdown",
   "id": "710deb00",
   "metadata": {
    "slideshow": {
     "slide_type": "slide"
    }
   },
   "source": [
    "### Need to see some more examples? \n",
    "https://www.w3schools.com/python/python_while_loops.asp\n",
    "<br>https://www.programiz.com/python-programming/while-loop\n",
    "<br>https://pynative.com/python-while-loop/\n",
    "<br>https://www.w3schools.in/python/loops\n",
    "\n",
    "### Want to take a quiz? \n",
    "https://realpython.com/quizzes/python-while-loop/\n",
    "\n",
    "### Want some more advanced information?\n",
    "https://realpython.com/python-while-loop/\n"
   ]
  },
  {
   "cell_type": "code",
   "execution_count": null,
   "id": "4084920d",
   "metadata": {},
   "outputs": [],
   "source": []
  }
 ],
 "metadata": {
  "celltoolbar": "Slideshow",
  "kernelspec": {
   "display_name": "Python 3 (ipykernel)",
   "language": "python",
   "name": "python3"
  },
  "language_info": {
   "codemirror_mode": {
    "name": "ipython",
    "version": 3
   },
   "file_extension": ".py",
   "mimetype": "text/x-python",
   "name": "python",
   "nbconvert_exporter": "python",
   "pygments_lexer": "ipython3",
   "version": "3.10.9"
  }
 },
 "nbformat": 4,
 "nbformat_minor": 5
}
