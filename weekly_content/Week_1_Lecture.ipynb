{
 "cells": [
  {
   "cell_type": "markdown",
   "id": "3122cada",
   "metadata": {
    "slideshow": {
     "slide_type": "slide"
    }
   },
   "source": [
    "# Introduction to Computer Programming\n",
    "\n",
    "\n",
    "\n",
    "<img src=\"img/full-colour-logo-UoB.png\" alt=\"Drawing\" style=\"width: 300px;\"/>"
   ]
  },
  {
   "cell_type": "markdown",
   "id": "f32e12cb",
   "metadata": {
    "slideshow": {
     "slide_type": "slide"
    }
   },
   "source": [
    "# Welcome!\n",
    "\n",
    "### Terms of engagement \n",
    "\n",
    "- Be respectful of each other (be aware there are different levels of experience in the room)\n",
    "- Be helpful to each other (explaining a concept to someone else is a great way to reinforce your own understanding)\n",
    "- Ask questions \n",
    "- Watch the videos before coming to the in-person lecture each week\n",
    "- Attend \n",
    "    - in-person lecture\n",
    "    - lab\n",
    "    - lab support session \n"
   ]
  },
  {
   "cell_type": "markdown",
   "id": "5fee5f09",
   "metadata": {
    "slideshow": {
     "slide_type": "slide"
    }
   },
   "source": [
    "# Video Q&A\n",
    "\n",
    "### Make use of the discussion board\n",
    "\n",
    "Blackboard page >> Course tools >> Discussion Board >> EMAT10007_2023_TB-1 >> Ask a question\n"
   ]
  },
  {
   "cell_type": "markdown",
   "id": "31c4cdea",
   "metadata": {
    "slideshow": {
     "slide_type": "slide"
    }
   },
   "source": [
    "# Objects \n",
    " - Every item of data (numbers, text characters etc) in a Python program can be described by the term __object__\n",
    " - The type of an object determines what properties it has and how it can be used in the Python program"
   ]
  },
  {
   "cell_type": "code",
   "execution_count": 2,
   "id": "8c9a3692",
   "metadata": {},
   "outputs": [
    {
     "data": {
      "text/plain": [
       "1.2"
      ]
     },
     "execution_count": 2,
     "metadata": {},
     "output_type": "execute_result"
    }
   ],
   "source": [
    "30\n",
    "'Python'\n",
    "1.2"
   ]
  },
  {
   "cell_type": "markdown",
   "id": "3f9dc760",
   "metadata": {
    "slideshow": {
     "slide_type": "slide"
    }
   },
   "source": [
    "# Variables and Variable Assignment\n",
    " - A variable is a name that refers or points to a particular object\n",
    " - By *assigning* an object to a variable, we allow it to be manipulated within the program, using the variable name\n",
    "- To create a variable, we simply assign it a value\n",
    "- Assignment is achieved with a single equals sign (`=`)\n",
    "\n",
    "\n",
    "\n",
    "IMAGE OF VARIABLE ASSIGNMENT"
   ]
  },
  {
   "cell_type": "code",
   "execution_count": 16,
   "id": "3758c6fc",
   "metadata": {
    "scrolled": true
   },
   "outputs": [
    {
     "name": "stdout",
     "output_type": "stream",
     "text": [
      "4\n"
     ]
    }
   ],
   "source": [
    "b = 4\n",
    "\n",
    "print(b)"
   ]
  },
  {
   "cell_type": "markdown",
   "id": "0da98342",
   "metadata": {},
   "source": [
    "*The Python function `print()` displays whatever is between the parentheses `(...)`*"
   ]
  },
  {
   "cell_type": "markdown",
   "id": "2ffeb98c",
   "metadata": {
    "slideshow": {
     "slide_type": "slide"
    }
   },
   "source": [
    "# Type Conversion \n",
    "The value assigned a variable can be specified or converted by *casting* \n",
    "\n",
    "**Constructor functions** are used for casting. \n",
    "<br>The function name represents the desired data type.\n",
    "<br>The variable to be cast is included between the parentheses `()`\n",
    "\n",
    "\n",
    "- `int()` - constructs an integer (e.g. from a float (by removing all decimals), or a string (providing the string represents a whole number)\n",
    "- `float()` - constructs a float (e.g. from an integer, or a string (providing the string represents a float or an integer)\n",
    "- `str()` - constructs a string (e.g. from an integer or float)\n",
    "- `bool()` - constructs a Boolean (e.g. from an integer, float or string)\n",
    "\n",
    "*Full list of possible type conversions can be found under 'Type Conversion' (https://realpython.com/python-data-types/#type-conversion)*"
   ]
  },
  {
   "cell_type": "markdown",
   "id": "4f1601c1",
   "metadata": {},
   "source": [
    "# Example\n",
    "Convert from `float` to a) `int` b) `string`"
   ]
  },
  {
   "cell_type": "code",
   "execution_count": null,
   "id": "239faa65",
   "metadata": {},
   "outputs": [],
   "source": []
  },
  {
   "cell_type": "markdown",
   "id": "e7ad848d",
   "metadata": {},
   "source": [
    "# Example\n",
    "Convert from `string` to a) `int` b) `float`"
   ]
  },
  {
   "cell_type": "code",
   "execution_count": null,
   "id": "0cc4f090",
   "metadata": {},
   "outputs": [],
   "source": []
  },
  {
   "cell_type": "markdown",
   "id": "c28146a1",
   "metadata": {},
   "source": [
    "# Example\n",
    "Convert from `int` to a) `float` b) `string`"
   ]
  },
  {
   "cell_type": "code",
   "execution_count": null,
   "id": "4dd0db87",
   "metadata": {},
   "outputs": [],
   "source": []
  },
  {
   "cell_type": "markdown",
   "id": "9eab8859",
   "metadata": {},
   "source": [
    "# Example\n",
    "Convert from a) `int` b) `float` c) `string`, to `bool`"
   ]
  },
  {
   "cell_type": "code",
   "execution_count": 23,
   "id": "0ebc1376",
   "metadata": {
    "scrolled": true
   },
   "outputs": [
    {
     "name": "stdout",
     "output_type": "stream",
     "text": [
      "True\n"
     ]
    }
   ],
   "source": [
    "a = ' '\n",
    "\n",
    "print(bool(a))"
   ]
  },
  {
   "cell_type": "markdown",
   "id": "20f60b13",
   "metadata": {},
   "source": [
    "# Boolean Representations of other object types\n",
    "\n",
    "Outcomes when casting other object types as Boolean values:\n",
    "\n",
    "| Boolean value    | `True`           | `False`                |  \n",
    "| :--------------- | :--------------- | :--------------- |\n",
    "| `string`         | non-empty string |empty string (`''`)     | \n",
    "| `int`            | non-zero         |zero (`0`)              | \n",
    "| `float`          | non-zero         |zero (`0.0`)            | "
   ]
  },
  {
   "cell_type": "markdown",
   "id": "9277923e",
   "metadata": {
    "slideshow": {
     "slide_type": "slide"
    }
   },
   "source": [
    "\n",
    "<a id='OperatorPrecedence'></a>\n",
    "# Operators (in order of precedence)\n",
    "1. Parentheses\n",
    "1. Arithmetic operators (top to bottom)<br>\n",
    "   `**`                  &nbsp; &nbsp; &nbsp; &nbsp; &nbsp; &nbsp; &nbsp; &nbsp; &nbsp;&nbsp;&nbsp;&nbsp; &nbsp; &nbsp; Exponent <br>\n",
    "   `/`, `*`, `//`, `\\%`  &nbsp; &nbsp;&nbsp; Division, multiplication, floor division, modulo (evaluated left to right)<br>\n",
    "   `+`, `-`             &nbsp; &nbsp; &nbsp; &nbsp; &nbsp; &nbsp;&nbsp;&nbsp; &nbsp;&nbsp;&nbsp; &nbsp; &nbsp; Addition, subtraction (evaluated left to right)\n",
    "1. Comparison operators: `<`, `<=`,  `>`,  `>=`, `!=`, `==`(evaluated left to right)\n",
    "1. Assignment operators `=`, `/=`, `*=`, `//=`, `\\%=`, `+=`, `-=` .... \n",
    "1. Identity operators `is`, `is not`\n",
    "1. Logical `not`\n",
    "1. Logical `and`\n",
    "1. Logical `or` "
   ]
  },
  {
   "cell_type": "markdown",
   "id": "890ace3f",
   "metadata": {
    "slideshow": {
     "slide_type": "slide"
    }
   },
   "source": [
    "# Example: Arithmetic Operators\n",
    "Find the area, $A$, of a circle with radius, $r$ = 2 metres\n",
    "\n",
    "$A = \\pi r ^ 2$ <br>where $\\pi = 3.142$\n",
    "\n",
    "![title](img/circle_radius.png)\n",
    "\n"
   ]
  },
  {
   "cell_type": "code",
   "execution_count": null,
   "id": "1e6dc637",
   "metadata": {},
   "outputs": [],
   "source": []
  },
  {
   "cell_type": "markdown",
   "id": "a939a88d",
   "metadata": {
    "slideshow": {
     "slide_type": "slide"
    }
   },
   "source": [
    "# Example: Arithmetic Operators \n",
    "\n",
    "Find the volume, $V$, of a cone  \n",
    "\n",
    "$V = \\frac{Ah}{3}$\n",
    "\n",
    "\n",
    "<br> where:\n",
    "<br> $\\pi = 3.142$\n",
    "<br> height, $h$ = 10 cm\n",
    "<br> base radius, $r$ = 2 cm\n",
    "<br> base area, $A= \\pi r ^ 2$\n",
    "\n",
    "<img src=\"img/cone.png\" alt=\"Drawing\" style=\"width: 200px;\"/>"
   ]
  },
  {
   "cell_type": "code",
   "execution_count": null,
   "id": "2adad09c",
   "metadata": {},
   "outputs": [],
   "source": []
  },
  {
   "cell_type": "markdown",
   "id": "56b1dbc8",
   "metadata": {
    "slideshow": {
     "slide_type": "slide"
    }
   },
   "source": [
    "# Example: Arithmetic Operators\n",
    "\n",
    "Create a variable `a` and assign it a `string` value with two or more characters. \n",
    "\n",
    "Create a variable `b` and assign it a `string` value with three or more characters. \n",
    "\n",
    "Use an arithmetic operator to connect the **first two** letters of `a` and the **last three** letters of `b` to make a new string. "
   ]
  },
  {
   "cell_type": "code",
   "execution_count": null,
   "id": "8165ec1f",
   "metadata": {},
   "outputs": [],
   "source": []
  },
  {
   "cell_type": "markdown",
   "id": "9ebbd5f0",
   "metadata": {
    "slideshow": {
     "slide_type": "slide"
    }
   },
   "source": [
    "# Comments \n",
    "A line of code that begins with the hash `#` symbol is a __comment__.\n",
    "\n",
    "Comments are used for two things:\n",
    "\n",
    "1. A line in the code that we don't want to run. \n",
    "\n",
    "1. A human-readable annotation in the code. \n",
    "\n",
    "```python\n",
    "\n",
    "# Calculate the area of the circle\n",
    "\n",
    "#r = 1 # Circle radius\n",
    "\n",
    "r = 2 # Circle radius\n",
    "\n",
    "\n",
    "```"
   ]
  },
  {
   "cell_type": "markdown",
   "id": "b2c82ce5",
   "metadata": {
    "slideshow": {
     "slide_type": "slide"
    }
   },
   "source": [
    "Let's go back an add comments to the previous examples "
   ]
  },
  {
   "cell_type": "markdown",
   "id": "dd323a05",
   "metadata": {
    "slideshow": {
     "slide_type": "slide"
    }
   },
   "source": []
  },
  {
   "cell_type": "markdown",
   "id": "c53d19f2",
   "metadata": {
    "slideshow": {
     "slide_type": "slide"
    }
   },
   "source": [
    "\n",
    "<a id='OperatorPrecedence'></a>\n",
    "# Operators (in order of precedence)\n",
    "1. Parentheses\n",
    "1. Arithmetic operators (top to bottom)<br>\n",
    "   `**`                  &nbsp; &nbsp; &nbsp; &nbsp; &nbsp; &nbsp; &nbsp; &nbsp; &nbsp;&nbsp;&nbsp;&nbsp; &nbsp; &nbsp; Exponent <br>\n",
    "   `/`, `*`, `//`, `\\%`  &nbsp; &nbsp;&nbsp; Division, multiplication, floor division, modulo (evaluated left to right)<br>\n",
    "   `+`, `-`             &nbsp; &nbsp; &nbsp; &nbsp; &nbsp; &nbsp;&nbsp;&nbsp; &nbsp;&nbsp;&nbsp; &nbsp; &nbsp; Addition, subtraction (evaluated left to right)\n",
    "1. Comparison operators: `<`, `<=`,  `>`,  `>=`, `!=`, `==`(evaluated left to right)\n",
    "1. Assignment operators `=`, `/=`, `*=`, `//=`, `\\%=`, `+=`, `-=` .... \n",
    "1. Identity operators `is`, `is not`\n",
    "1. Logical `not`\n",
    "1. Logical `and`\n",
    "1. Logical `or` "
   ]
  },
  {
   "cell_type": "markdown",
   "id": "fe149e0f",
   "metadata": {
    "slideshow": {
     "slide_type": "slide"
    }
   },
   "source": [
    "# Example: Comparison Operators\n",
    "Check if the `temperature` is lower than the `threshold`\n",
    "\n"
   ]
  },
  {
   "cell_type": "code",
   "execution_count": 32,
   "id": "90616279",
   "metadata": {},
   "outputs": [
    {
     "name": "stdout",
     "output_type": "stream",
     "text": [
      "False\n"
     ]
    }
   ],
   "source": [
    "temperature = 30\n",
    "threshold = 25\n",
    "\n",
    "print(temperature < threshold)"
   ]
  },
  {
   "cell_type": "markdown",
   "id": "4af3b46d",
   "metadata": {
    "slideshow": {
     "slide_type": "slide"
    }
   },
   "source": [
    "# Example: Comparison Operators\n",
    "Check if the student score is greater than or equal to the pass mark, 40\n",
    "\n"
   ]
  },
  {
   "cell_type": "code",
   "execution_count": 33,
   "id": "fca546bf",
   "metadata": {},
   "outputs": [
    {
     "name": "stdout",
     "output_type": "stream",
     "text": [
      "False\n"
     ]
    }
   ],
   "source": [
    "score = 30\n",
    "pass_mark = 40\n",
    "\n",
    "print(score >= pass_mark)"
   ]
  },
  {
   "cell_type": "markdown",
   "id": "66af630d",
   "metadata": {
    "slideshow": {
     "slide_type": "slide"
    }
   },
   "source": [
    "# Example: Comparison Operators\n",
    "Check if the `student_name` matches the value of `addressed_to`\n",
    "\n"
   ]
  },
  {
   "cell_type": "code",
   "execution_count": 34,
   "id": "a7ee3a87",
   "metadata": {},
   "outputs": [
    {
     "name": "stdout",
     "output_type": "stream",
     "text": [
      "False\n"
     ]
    }
   ],
   "source": [
    "student_name = 'Tim'\n",
    "addressed_to = 'tim'\n",
    "\n",
    "print(student_name == addressed_to)"
   ]
  },
  {
   "cell_type": "markdown",
   "id": "475903d7",
   "metadata": {
    "slideshow": {
     "slide_type": "slide"
    }
   },
   "source": [
    "# Equality Comparison on Floating-Point Values\n",
    "\n",
    "Care must be taken when comparing the equality of floating point values. \n",
    "\n"
   ]
  },
  {
   "cell_type": "code",
   "execution_count": 94,
   "id": "5a6bc8a2",
   "metadata": {},
   "outputs": [
    {
     "data": {
      "text/plain": [
       "True"
      ]
     },
     "execution_count": 94,
     "metadata": {},
     "output_type": "execute_result"
    }
   ],
   "source": [
    "1.2 - 1 == 0.2"
   ]
  },
  {
   "cell_type": "markdown",
   "id": "90a456fe",
   "metadata": {},
   "source": [
    "Why does the expression evaluate to `False`?\n",
    "\n",
    "This comes down to error in floating point number storage.\n",
    "\n",
    "When we look at the comparison operands to 17 decimal we see that they are stored differently in the computer memory. "
   ]
  },
  {
   "cell_type": "code",
   "execution_count": 90,
   "id": "28ed7647",
   "metadata": {},
   "outputs": [
    {
     "data": {
      "text/plain": [
       "'0.10000000000000001'"
      ]
     },
     "execution_count": 90,
     "metadata": {},
     "output_type": "execute_result"
    }
   ],
   "source": [
    "format(0.1, '.17f')"
   ]
  },
  {
   "cell_type": "code",
   "execution_count": 89,
   "id": "0e131d10",
   "metadata": {},
   "outputs": [
    {
     "data": {
      "text/plain": [
       "'0.19999999999999996'"
      ]
     },
     "execution_count": 89,
     "metadata": {},
     "output_type": "execute_result"
    }
   ],
   "source": [
    "format(1.2 - 1, '.17f')"
   ]
  },
  {
   "cell_type": "code",
   "execution_count": 95,
   "id": "bda490b9",
   "metadata": {},
   "outputs": [
    {
     "data": {
      "text/plain": [
       "True"
      ]
     },
     "execution_count": 95,
     "metadata": {},
     "output_type": "execute_result"
    }
   ],
   "source": [
    "1.2 - 1 < 0.2"
   ]
  },
  {
   "cell_type": "markdown",
   "id": "acb6e068",
   "metadata": {},
   "source": [
    "To test if actual value of two floating-point values are equal, test if the difference between the two numbers is within some tolerance. \n",
    "\n",
    "*The Python function `abs()` returns absolute value of the value within the parentheses*"
   ]
  },
  {
   "cell_type": "code",
   "execution_count": 97,
   "id": "0abc836d",
   "metadata": {},
   "outputs": [
    {
     "data": {
      "text/plain": [
       "True"
      ]
     },
     "execution_count": 97,
     "metadata": {},
     "output_type": "execute_result"
    }
   ],
   "source": [
    "tolerance = 0.0000000001\n",
    "tolerance = 10**-10 \n",
    "\n",
    "a = 1.2 - 1\n",
    "b = 0.2\n",
    "\n",
    "abs(a - b) < tolerance # Equivalent to a == 0.2"
   ]
  },
  {
   "cell_type": "markdown",
   "id": "faaa363f",
   "metadata": {
    "slideshow": {
     "slide_type": "slide"
    }
   },
   "source": [
    "\n",
    "<a id='OperatorPrecedence'></a>\n",
    "# Operators (in order of precedence)\n",
    "1. Parentheses\n",
    "1. Arithmetic operators (top to bottom)<br>\n",
    "   `**`                  &nbsp; &nbsp; &nbsp; &nbsp; &nbsp; &nbsp; &nbsp; &nbsp; &nbsp;&nbsp;&nbsp;&nbsp; &nbsp; &nbsp; Exponent <br>\n",
    "   `/`, `*`, `//`, `\\%`  &nbsp; &nbsp;&nbsp; Division, multiplication, floor division, modulo (evaluated left to right)<br>\n",
    "   `+`, `-`             &nbsp; &nbsp; &nbsp; &nbsp; &nbsp; &nbsp;&nbsp;&nbsp; &nbsp;&nbsp;&nbsp; &nbsp; &nbsp; Addition, subtraction (evaluated left to right)\n",
    "1. Comparison operators: `<`, `<=`,  `>`,  `>=`, `!=`, `==`(evaluated left to right)\n",
    "1. Assignment operators `=`, `/=`, `*=`, `//=`, `\\%=`, `+=`, `-=` .... \n",
    "1. Identity operators `is`, `is not`\n",
    "1. Logical `not`\n",
    "1. Logical `and`\n",
    "1. Logical `or` "
   ]
  },
  {
   "cell_type": "markdown",
   "id": "0ac8c9a9",
   "metadata": {
    "slideshow": {
     "slide_type": "slide"
    }
   },
   "source": [
    "# Example: Logical Operators\n",
    "Test if `a` is equal to `b` __and__ `c` is equal to `d`"
   ]
  },
  {
   "cell_type": "code",
   "execution_count": 68,
   "id": "0ec9b8cd",
   "metadata": {},
   "outputs": [
    {
     "data": {
      "text/plain": [
       "False"
      ]
     },
     "execution_count": 68,
     "metadata": {},
     "output_type": "execute_result"
    }
   ],
   "source": [
    "a = 1\n",
    "b = 2\n",
    "c = 1.5\n",
    "d = 1.5\n",
    "\n",
    "a == b and c == d"
   ]
  },
  {
   "cell_type": "markdown",
   "id": "49ca4ff3",
   "metadata": {
    "slideshow": {
     "slide_type": "slide"
    }
   },
   "source": [
    "# Example: Logical Operators\n",
    "\n",
    "Test if comparisona `a`, `b` and `c` are `True`  "
   ]
  },
  {
   "cell_type": "code",
   "execution_count": 68,
   "id": "1a62c08d",
   "metadata": {},
   "outputs": [
    {
     "data": {
      "text/plain": [
       "False"
      ]
     },
     "execution_count": 68,
     "metadata": {},
     "output_type": "execute_result"
    }
   ],
   "source": [
    "a = 1 < 2\n",
    "b = 2 == 2.0\n",
    "c = 3 >= 1\n",
    "\n",
    "a and b and c"
   ]
  },
  {
   "cell_type": "markdown",
   "id": "dcfb1d98",
   "metadata": {
    "slideshow": {
     "slide_type": "slide"
    }
   },
   "source": [
    "# Example: Logical Operators\n",
    "Check if `a` is less than `c` __or__ `b` is less than `c`"
   ]
  },
  {
   "cell_type": "code",
   "execution_count": 68,
   "id": "49af5441",
   "metadata": {},
   "outputs": [
    {
     "data": {
      "text/plain": [
       "False"
      ]
     },
     "execution_count": 68,
     "metadata": {},
     "output_type": "execute_result"
    }
   ],
   "source": [
    "a = 1\n",
    "b = 2\n",
    "c = 1.5\n",
    "\n",
    "a < c or b < c"
   ]
  },
  {
   "cell_type": "markdown",
   "id": "ce999696",
   "metadata": {},
   "source": [
    "This is not the same as:"
   ]
  },
  {
   "cell_type": "code",
   "execution_count": 71,
   "id": "af017e8c",
   "metadata": {},
   "outputs": [
    {
     "data": {
      "text/plain": [
       "1"
      ]
     },
     "execution_count": 71,
     "metadata": {},
     "output_type": "execute_result"
    }
   ],
   "source": [
    "a or b < c"
   ]
  },
  {
   "cell_type": "markdown",
   "id": "adbbd8d0",
   "metadata": {
    "slideshow": {
     "slide_type": "slide"
    }
   },
   "source": [
    "```python \n",
    "x or y\n",
    "```\n",
    "\n",
    "__Process:__<br>\n",
    "Return `x` if its Boolean value is `True`; otherwise, return `y`.\n",
    "\n",
    "***\n",
    "```python \n",
    "a or b < c\n",
    "```\n",
    "\"Return `a` if its Boolean value is `True`; otherwise, return `b < c`.\"\n",
    "\n",
    "The Boolean value of `a` is `True`, therefore `a` is returned (`a` has the value `1`) "
   ]
  },
  {
   "cell_type": "code",
   "execution_count": 81,
   "id": "63d04510",
   "metadata": {},
   "outputs": [
    {
     "data": {
      "text/plain": [
       "False"
      ]
     },
     "execution_count": 81,
     "metadata": {},
     "output_type": "execute_result"
    }
   ],
   "source": [
    "a = 1\n",
    "b = 3\n",
    "c = 1.5\n",
    "\n",
    "a < c and b < c"
   ]
  },
  {
   "cell_type": "markdown",
   "id": "389b5c85",
   "metadata": {},
   "source": [
    "This is not the same as:"
   ]
  },
  {
   "cell_type": "code",
   "execution_count": 83,
   "id": "8fc8a7de",
   "metadata": {},
   "outputs": [
    {
     "data": {
      "text/plain": [
       "True"
      ]
     },
     "execution_count": 83,
     "metadata": {},
     "output_type": "execute_result"
    }
   ],
   "source": [
    "a and b > c"
   ]
  },
  {
   "cell_type": "markdown",
   "id": "8343fd2e",
   "metadata": {
    "slideshow": {
     "slide_type": "slide"
    }
   },
   "source": [
    "```python \n",
    "x and y\n",
    "```\n",
    "\n",
    "__Process:__<br>\n",
    "Return `x` if its Boolean value is `False`; otherwise, return `y`.\n",
    "\n",
    "***\n",
    "\n",
    "```python \n",
    "a and b > c\n",
    "```\n",
    "\n",
    "Return `a` if its Boolean value is `False`; otherwise, return `y`\n",
    "\n",
    "The Boolean value of `a` is `True`, therefore `b > c` is returned (`b > c` has the value `True`)\n",
    "\n",
    " "
   ]
  },
  {
   "cell_type": "markdown",
   "id": "7e91182f",
   "metadata": {},
   "source": [
    "# Chained Comparison Operators\n",
    "Comparison operators can be chained together if they feature the same operand\n",
    "\n",
    "The following 2 statements are equivalent\n",
    "\n",
    "```python\n",
    "x < y < z\n",
    "x < y and y < z\n",
    "```"
   ]
  },
  {
   "cell_type": "markdown",
   "id": "cc5d3705",
   "metadata": {
    "slideshow": {
     "slide_type": "slide"
    }
   },
   "source": [
    "# Example: Chained Comparison Operators\n",
    "Check if the temperature of an aquarium is within the allowable range 24 – 26.5°C "
   ]
  },
  {
   "cell_type": "code",
   "execution_count": 35,
   "id": "fd9a31c7",
   "metadata": {},
   "outputs": [
    {
     "name": "stdout",
     "output_type": "stream",
     "text": [
      "False\n",
      "False\n"
     ]
    }
   ],
   "source": [
    "temp = 30\n",
    "temp_low = 24\n",
    "temp_high = 26.5\n",
    "\n",
    "# temp_low <= temp and temp <= temp_high\n",
    "\n",
    "temp_low <= temp <= temp_high"
   ]
  },
  {
   "cell_type": "markdown",
   "id": "736e1078",
   "metadata": {
    "slideshow": {
     "slide_type": "slide"
    }
   },
   "source": [
    "# Example: Chained Comparison Operators\n",
    "Check that the value of variables `a` to `d` increase in alphabetical order"
   ]
  },
  {
   "cell_type": "code",
   "execution_count": 84,
   "id": "b67ac941",
   "metadata": {},
   "outputs": [
    {
     "data": {
      "text/plain": [
       "True"
      ]
     },
     "execution_count": 84,
     "metadata": {},
     "output_type": "execute_result"
    }
   ],
   "source": [
    "a = 1\n",
    "b = 2\n",
    "c = 3\n",
    "d = 4\n",
    "\n",
    "# a < b and b < c and c < d\n",
    "\n",
    "a < b < c < d"
   ]
  },
  {
   "cell_type": "markdown",
   "id": "0f285522",
   "metadata": {
    "slideshow": {
     "slide_type": "slide"
    }
   },
   "source": [
    "# Summary\n",
    " - Every __object__ has a type (`int`, `float`, `string`....).\n",
    " - A __variable__ is a name that refers or points to a particular object\n",
    " - __Arithmetic operators__ (+, -, /, * ....)<br>Used with numeric values to perform mathematical operations (behave differently with strings).\n",
    " - __Comparison operators__ (==, !=, <, > ....)<br>Compare two *operands*.<br>Output is a *Boolean* (True or False) value.<br>Comparison operators can be stacked e.g. `x < y <= z`\n",
    " - __Identity operators__ (`is`, `is not` ....)<br>Checks if two *operands* are identical.<br>Outout is a *Boolean* (True or False) value.\n",
    " - __Logical operators__ (`and`, `or`)<br>Compare Boolean `True` or `False` *operands* (e.g. outcomes of two *comparison operations*) to form logic statements. <br>Outout is a *Boolean* (True or False) value.<br>Logical `not` operator returns the inverse Boolean value of an operand.\n",
    " - __Assignment operators__ (+=, -=, /= ....)<br>Reassign the value of a variable.\n",
    " "
   ]
  },
  {
   "cell_type": "code",
   "execution_count": null,
   "id": "c395ab7b",
   "metadata": {},
   "outputs": [],
   "source": []
  }
 ],
 "metadata": {
  "celltoolbar": "Slideshow",
  "kernelspec": {
   "display_name": "Python 3 (ipykernel)",
   "language": "python",
   "name": "python3"
  },
  "language_info": {
   "codemirror_mode": {
    "name": "ipython",
    "version": 3
   },
   "file_extension": ".py",
   "mimetype": "text/x-python",
   "name": "python",
   "nbconvert_exporter": "python",
   "pygments_lexer": "ipython3",
   "version": "3.10.9"
  }
 },
 "nbformat": 4,
 "nbformat_minor": 5
}
