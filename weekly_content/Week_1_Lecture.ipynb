{
 "cells": [
  {
   "cell_type": "markdown",
   "id": "3122cada",
   "metadata": {
    "slideshow": {
     "slide_type": "slide"
    }
   },
   "source": [
    "# Introduction to Computer Programming\n",
    "\n",
    "\n",
    "\n",
    "<img src=\"img/full-colour-logo-UoB.png\" alt=\"Drawing\" style=\"width: 300px;\"/>"
   ]
  },
  {
   "cell_type": "markdown",
   "id": "f32e12cb",
   "metadata": {
    "slideshow": {
     "slide_type": "slide"
    }
   },
   "source": [
    "# Welcome!\n",
    "\n",
    "### Terms of engagement \n",
    "\n",
    "- Be respectful of each other (be aware there are different levels of experience in the room)\n",
    "- Be helpful to each other (explaining a concept to someone else is a great way to reinforce your own understanding)\n",
    "- Ask questions \n",
    "- Watch the videos before coming to the in-person lecture each week\n",
    "- Attend \n",
    "    - in-person lecture\n",
    "    - lab\n",
    "    - lab support session \n"
   ]
  },
  {
   "cell_type": "markdown",
   "id": "5fee5f09",
   "metadata": {
    "slideshow": {
     "slide_type": "slide"
    }
   },
   "source": [
    "# Video Q&A\n",
    "\n",
    "### Make use of the discussion board\n",
    "\n",
    "Blackboard page >> Course tools >> Discussion Board >> EMAT10007_2023_TB-1 >> Ask a question\n"
   ]
  },
  {
   "cell_type": "markdown",
   "id": "31c4cdea",
   "metadata": {
    "slideshow": {
     "slide_type": "slide"
    }
   },
   "source": [
    "# Objects \n",
    " - Every item of data (numbers, text characters etc) in a Python program can be described by the term __object__\n",
    " - The type of an object determines what properties it has and how it can be used in the Python program"
   ]
  },
  {
   "cell_type": "code",
   "execution_count": 2,
   "id": "23bc45be",
   "metadata": {},
   "outputs": [
    {
     "data": {
      "text/plain": [
       "1.2"
      ]
     },
     "execution_count": 2,
     "metadata": {},
     "output_type": "execute_result"
    }
   ],
   "source": [
    "30\n",
    "'Python'\n",
    "1.2"
   ]
  },
  {
   "cell_type": "markdown",
   "id": "69ddabf7",
   "metadata": {
    "slideshow": {
     "slide_type": "slide"
    }
   },
   "source": [
    "# Variables and Variable Assignment\n",
    " - A variable is a name that refers or points to a particular object\n",
    " - By *assigning* an object to a variable, we allow it to be manipulated within the program, using the variable name\n",
    "- To create a variable, we simply assign it a value\n",
    "- Assignment is achieved with a single equals sign (`=`)\n",
    "\n",
    "\n",
    "\n",
    "IMAGE OF VARIABLE ASSIGNMENT"
   ]
  },
  {
   "cell_type": "code",
   "execution_count": 16,
   "id": "3758c6fc",
   "metadata": {
    "scrolled": true
   },
   "outputs": [
    {
     "name": "stdout",
     "output_type": "stream",
     "text": [
      "4\n"
     ]
    }
   ],
   "source": [
    "b = 4\n",
    "\n",
    "print(b)"
   ]
  },
  {
   "cell_type": "markdown",
   "id": "6142fa28",
   "metadata": {},
   "source": [
    "*The Python function `print()` displays whatever is between the parentheses `(...)`*"
   ]
  },
  {
   "cell_type": "markdown",
   "id": "d94bfa72",
   "metadata": {},
   "source": [
    "# Example\n",
    "Find the area of a circle with radius 2 metres\n",
    "\n",
    "![title](img/circle_radius.png)\n",
    "\n",
    "$A = \\pi r ^ 2$ <br>where $\\pi = 3.142$"
   ]
  },
  {
   "cell_type": "code",
   "execution_count": null,
   "id": "65e8ad91",
   "metadata": {},
   "outputs": [],
   "source": []
  },
  {
   "cell_type": "code",
   "execution_count": null,
   "id": "78666290",
   "metadata": {},
   "outputs": [],
   "source": []
  },
  {
   "cell_type": "code",
   "execution_count": null,
   "id": "2df8f5a2",
   "metadata": {},
   "outputs": [],
   "source": []
  },
  {
   "cell_type": "markdown",
   "id": "8e85e60c",
   "metadata": {
    "slideshow": {
     "slide_type": "slide"
    }
   },
   "source": [
    "# Type Conversion \n",
    "The value assigned a variable can be specified or converted by *casting* \n",
    "\n",
    "**Constructor functions** are used for casting. \n",
    "<br>The function name represents the desired data type.\n",
    "<br>The variable to be cast is included between the parentheses `()`\n",
    "\n",
    "\n",
    "- `int()` - constructs an integer (e.g. from a float (by removing all decimals), or a string (providing the string represents a whole number)\n",
    "- `float()` - constructs a float (e.g. from an integer, or a string (providing the string represents a float or an integer)\n",
    "- `str()` - constructs a string (e.g. from an integer or float)\n",
    "- `bool()` - constructs a Boolean (e.g. from an integer, float or string)\n",
    "\n",
    "*Full list of possible type conversions can be found under 'Type Conversion' (https://realpython.com/python-data-types/#type-conversion)*"
   ]
  },
  {
   "cell_type": "markdown",
   "id": "ad3bf436",
   "metadata": {},
   "source": [
    "# Example\n",
    "Convert from `float` to a) `int` b) `string`"
   ]
  },
  {
   "cell_type": "code",
   "execution_count": null,
   "id": "795c1261",
   "metadata": {},
   "outputs": [],
   "source": []
  },
  {
   "cell_type": "markdown",
   "id": "8ef27e87",
   "metadata": {},
   "source": [
    "# Example\n",
    "Convert from `string` to a) `int` b) `float`"
   ]
  },
  {
   "cell_type": "code",
   "execution_count": null,
   "id": "eea876d7",
   "metadata": {},
   "outputs": [],
   "source": []
  },
  {
   "cell_type": "markdown",
   "id": "7bb07059",
   "metadata": {},
   "source": [
    "# Example\n",
    "Convert from `int` to a) `float` b) `string`"
   ]
  },
  {
   "cell_type": "code",
   "execution_count": null,
   "id": "2bcd46b3",
   "metadata": {},
   "outputs": [],
   "source": []
  },
  {
   "cell_type": "markdown",
   "id": "115eb76a",
   "metadata": {},
   "source": [
    "# Example\n",
    "Convert from a) `int` b) `float` c) `string`, to `bool`"
   ]
  },
  {
   "cell_type": "code",
   "execution_count": 23,
   "id": "010d6c6c",
   "metadata": {
    "scrolled": true
   },
   "outputs": [
    {
     "name": "stdout",
     "output_type": "stream",
     "text": [
      "True\n"
     ]
    }
   ],
   "source": [
    "a = ' '\n",
    "\n",
    "print(bool(a))"
   ]
  },
  {
   "cell_type": "markdown",
   "id": "c625085e",
   "metadata": {},
   "source": [
    "# Boolean Representations of other object types\n",
    "\n",
    "Outcomes when casting other object types as Boolean values:\n",
    "\n",
    "| Boolean value    | `True`           | `False`                |  \n",
    "| :--------------- | :--------------- | :--------------- |\n",
    "| `string`         | non-empty string |empty string (`''`)     | \n",
    "| `int`            | non-zero         |zero (`0`)              | \n",
    "| `float`          | non-zero         |zero (`0.0`)            | "
   ]
  },
  {
   "cell_type": "markdown",
   "id": "9277923e",
   "metadata": {
    "slideshow": {
     "slide_type": "slide"
    }
   },
   "source": [
    "\n",
    "<a id='OperatorPrecedence'></a>\n",
    "# Operators (in order of precedence)\n",
    "1. Parentheses\n",
    "1. Arithmetic operators (top to bottom)<br>\n",
    "   `**`                  &nbsp; &nbsp; &nbsp; &nbsp; &nbsp; &nbsp; &nbsp; &nbsp; &nbsp;&nbsp;&nbsp;&nbsp; &nbsp; &nbsp; Exponent <br>\n",
    "   `/`, `*`, `//`, `\\%`  &nbsp; &nbsp;&nbsp; Division, multiplication, floor division, modulo (evaluated left to right)<br>\n",
    "   `+`, `-`             &nbsp; &nbsp; &nbsp; &nbsp; &nbsp; &nbsp;&nbsp;&nbsp; &nbsp;&nbsp;&nbsp; &nbsp; &nbsp; Addition, subtraction (evaluated left to right)\n",
    "1. Comparison operators: `<`, `<=`,  `>`,  `>=`, `!=`, `==`(evaluated left to right)\n",
    "1. Assignment operators `=`, `/=`, `*=`, `//=`, `\\%=`, `+=`, `-=` .... \n",
    "1. Identity operators `is`, `is not`\n",
    "1. Logical `not`\n",
    "1. Logical `and`\n",
    "1. Logical `or` "
   ]
  },
  {
   "cell_type": "markdown",
   "id": "890ace3f",
   "metadata": {
    "slideshow": {
     "slide_type": "slide"
    }
   },
   "source": [
    "# Example: Arithmetic Operators\n",
    "Find the area, $A$, of a circle with radius, $r$ = 2 metres\n",
    "\n",
    "$A = \\pi r ^ 2$ <br>where $\\pi = 3.142$\n",
    "\n",
    "![title](img/circle_radius.png)\n",
    "\n"
   ]
  },
  {
   "cell_type": "code",
   "execution_count": null,
   "id": "1e6dc637",
   "metadata": {},
   "outputs": [],
   "source": []
  },
  {
   "cell_type": "markdown",
   "id": "505598f9",
   "metadata": {
    "slideshow": {
     "slide_type": "slide"
    }
   },
   "source": [
    "# Example: Arithmetic Operators \n",
    "\n",
    "Find the volume, $V$, of a cone  \n",
    "\n",
    "$V = \\frac{Ah}{3}$\n",
    "\n",
    "\n",
    "<br> where:\n",
    "<br> $\\pi = 3.142$\n",
    "<br> height, $h$ = 10 cm\n",
    "<br> base radius, $r$ = 2 cm\n",
    "<br> base area, $A= \\pi r ^ 2$\n",
    "\n",
    "<img src=\"img/cone.png\" alt=\"Drawing\" style=\"width: 200px;\"/>"
   ]
  },
  {
   "cell_type": "code",
   "execution_count": null,
   "id": "c9df86f0",
   "metadata": {},
   "outputs": [],
   "source": []
  },
  {
   "cell_type": "markdown",
   "id": "90e62a6b",
   "metadata": {
    "slideshow": {
     "slide_type": "slide"
    }
   },
   "source": [
    "# Example: Arithmetic Operators\n",
    "\n",
    "Create a variable `a` and assign it a `string` value with two or more characters. \n",
    "\n",
    "Create a variable `b` and assign it a `string` value with three or more characters. \n",
    "\n",
    "Use an arithmetic operator to connect the **first two** letters of `a` and the **last three** letters of `b` to make a new string. "
   ]
  },
  {
   "cell_type": "code",
   "execution_count": null,
   "id": "4577827b",
   "metadata": {},
   "outputs": [],
   "source": []
  },
  {
   "cell_type": "markdown",
   "id": "9ebbd5f0",
   "metadata": {
    "slideshow": {
     "slide_type": "slide"
    }
   },
   "source": [
    "# Comments \n",
    "A line of code that begins with the hash `#` symbol is a __comment__.\n",
    "\n",
    "Comments are used for two things:\n",
    "\n",
    "1. A line in the code that we don't want to run. \n",
    "\n",
    "1. A human-readable annotation in the code. \n",
    "\n",
    "```python\n",
    "\n",
    "# Calculate the area of the circle\n",
    "\n",
    "#r = 1 # Circle radius\n",
    "\n",
    "r = 2 # Circle radius\n",
    "\n",
    "\n",
    "```"
   ]
  },
  {
   "cell_type": "markdown",
   "id": "9dd804ca",
   "metadata": {
    "slideshow": {
     "slide_type": "slide"
    }
   },
   "source": [
    "Let's go back an add comments to the previous examples "
   ]
  },
  {
   "cell_type": "markdown",
   "id": "dd323a05",
   "metadata": {
    "slideshow": {
     "slide_type": "slide"
    }
   },
   "source": []
  },
  {
   "cell_type": "markdown",
   "id": "d5e93246",
   "metadata": {},
   "source": [
    "# Floating point error \n",
    "\n",
    "Numbers are stored on a computer as binary or base 2 numbers.\n",
    "\n",
    "Binary numbers are represented as a combinaion of 1s and 0s\n",
    "\n",
    "BINARY NUMBER PICTURE"
   ]
  },
  {
   "cell_type": "markdown",
   "id": "d1f01daf",
   "metadata": {},
   "source": [
    "#### Integer storage\n",
    "\n",
    "A binary number can be used to represent any integer (whole number). \n",
    "\n",
    "The upper and lower limit is defined by the number of __bits__ in the binary number \n",
    "\n",
    "In Python there is effectively no limit to how long an integer value can be. \n",
    "<br>The upper limit is determined by the amount of memory a computer system has.\n",
    "\n",
    "BINARY NUMBER PICTURE"
   ]
  },
  {
   "cell_type": "markdown",
   "id": "1ef31961",
   "metadata": {},
   "source": [
    "#### Floating point storage\n",
    "\n",
    "Binary fractions are used to represent floating point numbers. \n",
    "\n",
    "Almost all computers represent Python `float` values as 64-bit binary fractions.\n",
    "\n",
    "This means most decimal fractions cannot be represented exactly as binary fractions.\n",
    "\n",
    "The stored representation of a floating-point number is an approximation of the actual value.\n",
    "\n",
    "BINARY NUMBER PICTURE"
   ]
  },
  {
   "cell_type": "markdown",
   "id": "fc6afaff",
   "metadata": {},
   "source": [
    "The difference between the true value and the stored value is small (16-18 d.p. in examples below) so often does not cause a significant problem"
   ]
  },
  {
   "cell_type": "code",
   "execution_count": 47,
   "id": "5ca1d880",
   "metadata": {
    "scrolled": true
   },
   "outputs": [
    {
     "data": {
      "text/plain": [
       "3.3000000000000003"
      ]
     },
     "execution_count": 47,
     "metadata": {},
     "output_type": "execute_result"
    }
   ],
   "source": [
    "2.2 + 1.1"
   ]
  },
  {
   "cell_type": "code",
   "execution_count": 44,
   "id": "4c63dbde",
   "metadata": {},
   "outputs": [
    {
     "data": {
      "text/plain": [
       "0.19999999999999996"
      ]
     },
     "execution_count": 44,
     "metadata": {},
     "output_type": "execute_result"
    }
   ],
   "source": [
    "1.2-1"
   ]
  },
  {
   "cell_type": "code",
   "execution_count": 45,
   "id": "abdc0a1b",
   "metadata": {},
   "outputs": [
    {
     "data": {
      "text/plain": [
       "2.1999999999999997"
      ]
     },
     "execution_count": 45,
     "metadata": {},
     "output_type": "execute_result"
    }
   ],
   "source": [
    "3.3 - 1.1"
   ]
  },
  {
   "cell_type": "code",
   "execution_count": 42,
   "id": "92520948",
   "metadata": {
    "slideshow": {
     "slide_type": "skip"
    }
   },
   "outputs": [
    {
     "name": "stdout",
     "output_type": "stream",
     "text": [
      "5e-324\n",
      "0.0\n",
      "0.0\n"
     ]
    }
   ],
   "source": [
    "print(5e-324)\n",
    "\n",
    "print(1e-324)\n",
    "\n",
    "print(2e-324)"
   ]
  },
  {
   "cell_type": "markdown",
   "id": "1b8eb280",
   "metadata": {
    "slideshow": {
     "slide_type": "slide"
    }
   },
   "source": [
    "\n",
    "<a id='OperatorPrecedence'></a>\n",
    "# Operators (in order of precedence)\n",
    "1. Parentheses\n",
    "1. Arithmetic operators (top to bottom)<br>\n",
    "   `**`                  &nbsp; &nbsp; &nbsp; &nbsp; &nbsp; &nbsp; &nbsp; &nbsp; &nbsp;&nbsp;&nbsp;&nbsp; &nbsp; &nbsp; Exponent <br>\n",
    "   `/`, `*`, `//`, `\\%`  &nbsp; &nbsp;&nbsp; Division, multiplication, floor division, modulo (evaluated left to right)<br>\n",
    "   `+`, `-`             &nbsp; &nbsp; &nbsp; &nbsp; &nbsp; &nbsp;&nbsp;&nbsp; &nbsp;&nbsp;&nbsp; &nbsp; &nbsp; Addition, subtraction (evaluated left to right)\n",
    "1. Comparison operators: `<`, `<=`,  `>`,  `>=`, `!=`, `==`(evaluated left to right)\n",
    "1. Assignment operators `=`, `/=`, `*=`, `//=`, `\\%=`, `+=`, `-=` .... \n",
    "1. Identity operators `is`, `is not`\n",
    "1. Logical `not`\n",
    "1. Logical `and`\n",
    "1. Logical `or` "
   ]
  },
  {
   "cell_type": "markdown",
   "id": "ac1b6b1e",
   "metadata": {
    "slideshow": {
     "slide_type": "slide"
    }
   },
   "source": [
    "# Example: Comparison Operators\n",
    "Check if the `temperature` is lower than the `threshold`\n",
    "\n"
   ]
  },
  {
   "cell_type": "code",
   "execution_count": 32,
   "id": "4f1d50fd",
   "metadata": {},
   "outputs": [
    {
     "name": "stdout",
     "output_type": "stream",
     "text": [
      "False\n"
     ]
    }
   ],
   "source": [
    "temperature = 30\n",
    "threshold = 25\n",
    "\n",
    "print(temperature < threshold)"
   ]
  },
  {
   "cell_type": "markdown",
   "id": "7df42f69",
   "metadata": {
    "slideshow": {
     "slide_type": "slide"
    }
   },
   "source": [
    "# Example: Comparison Operators\n",
    "Check if the student score is greater than or equal to the pass mark, 40\n",
    "\n"
   ]
  },
  {
   "cell_type": "code",
   "execution_count": 33,
   "id": "eb30c25a",
   "metadata": {},
   "outputs": [
    {
     "name": "stdout",
     "output_type": "stream",
     "text": [
      "False\n"
     ]
    }
   ],
   "source": [
    "score = 30\n",
    "pass_mark = 40\n",
    "\n",
    "print(score >= pass_mark)"
   ]
  },
  {
   "cell_type": "markdown",
   "id": "8614094f",
   "metadata": {
    "slideshow": {
     "slide_type": "slide"
    }
   },
   "source": [
    "# Example: Comparison Operators\n",
    "Check if the `student_name` matches the value of `addressed_to`\n",
    "\n"
   ]
  },
  {
   "cell_type": "code",
   "execution_count": 34,
   "id": "4bffb03d",
   "metadata": {},
   "outputs": [
    {
     "name": "stdout",
     "output_type": "stream",
     "text": [
      "False\n"
     ]
    }
   ],
   "source": [
    "student_name = 'Tim'\n",
    "addressed_to = 'tim'\n",
    "\n",
    "print(student_name == addressed_to)"
   ]
  },
  {
   "cell_type": "markdown",
   "id": "acaf11e2",
   "metadata": {
    "slideshow": {
     "slide_type": "slide"
    }
   },
   "source": [
    "# Equality Comparison on Floating-Point Values\n",
    "\n",
    "Care must be taekn when comparing the equality of floating point values. \n",
    "\n"
   ]
  },
  {
   "cell_type": "code",
   "execution_count": 53,
   "id": "5959bc7a",
   "metadata": {},
   "outputs": [
    {
     "name": "stdout",
     "output_type": "stream",
     "text": [
      "False\n"
     ]
    }
   ],
   "source": [
    "a = 1.2 - 1\n",
    "\n",
    "\n",
    "print(a == 0.2)"
   ]
  },
  {
   "cell_type": "markdown",
   "id": "da353b12",
   "metadata": {},
   "source": [
    "Why does the expression evaluate to `False`?\n",
    "\n",
    "This comes down to error in floating point number storage..."
   ]
  },
  {
   "cell_type": "code",
   "execution_count": 61,
   "id": "1a08e333",
   "metadata": {},
   "outputs": [
    {
     "name": "stdout",
     "output_type": "stream",
     "text": [
      "0.19999999999999996\n",
      "False\n"
     ]
    }
   ],
   "source": [
    "a = 1.2 - 1\n",
    "\n",
    "print(a)\n",
    "\n",
    "print(a == 0.2)"
   ]
  },
  {
   "cell_type": "markdown",
   "id": "4fe272a5",
   "metadata": {},
   "source": [
    "To determine whether the actual value of two floating-point values are equal is to compute whether the absolute value of the difference between the two numbers is within some tolerance. \n",
    "\n",
    "*The Python function `abs()` returns absolute value of the value within the parentheses*"
   ]
  },
  {
   "cell_type": "code",
   "execution_count": 62,
   "id": "f3d798d7",
   "metadata": {},
   "outputs": [
    {
     "name": "stdout",
     "output_type": "stream",
     "text": [
      "True\n"
     ]
    }
   ],
   "source": [
    "tolerance = 0.0000000001\n",
    "tolerance = 10**-10 \n",
    "\n",
    "a = 1.2 - 1\n",
    "\n",
    "print(abs(a - 0.2) < tolerance) # Equivalent to a == 0.2"
   ]
  },
  {
   "cell_type": "markdown",
   "id": "fe613596",
   "metadata": {
    "slideshow": {
     "slide_type": "slide"
    }
   },
   "source": [
    "\n",
    "<a id='OperatorPrecedence'></a>\n",
    "# Operators (in order of precedence)\n",
    "1. Parentheses\n",
    "1. Arithmetic operators (top to bottom)<br>\n",
    "   `**`                  &nbsp; &nbsp; &nbsp; &nbsp; &nbsp; &nbsp; &nbsp; &nbsp; &nbsp;&nbsp;&nbsp;&nbsp; &nbsp; &nbsp; Exponent <br>\n",
    "   `/`, `*`, `//`, `\\%`  &nbsp; &nbsp;&nbsp; Division, multiplication, floor division, modulo (evaluated left to right)<br>\n",
    "   `+`, `-`             &nbsp; &nbsp; &nbsp; &nbsp; &nbsp; &nbsp;&nbsp;&nbsp; &nbsp;&nbsp;&nbsp; &nbsp; &nbsp; Addition, subtraction (evaluated left to right)\n",
    "1. Comparison operators: `<`, `<=`,  `>`,  `>=`, `!=`, `==`(evaluated left to right)\n",
    "1. Assignment operators `=`, `/=`, `*=`, `//=`, `\\%=`, `+=`, `-=` .... \n",
    "1. Identity operators `is`, `is not`\n",
    "1. Logical `not`\n",
    "1. Logical `and`\n",
    "1. Logical `or` "
   ]
  },
  {
   "cell_type": "markdown",
   "id": "df4f8634",
   "metadata": {
    "slideshow": {
     "slide_type": "slide"
    }
   },
   "source": [
    "# Example: Logical Operators\n",
    "Test if `a` is equal to `b` __and__ `c` is equal to `d`"
   ]
  },
  {
   "cell_type": "code",
   "execution_count": 68,
   "id": "d4d1fde4",
   "metadata": {},
   "outputs": [
    {
     "data": {
      "text/plain": [
       "False"
      ]
     },
     "execution_count": 68,
     "metadata": {},
     "output_type": "execute_result"
    }
   ],
   "source": [
    "a = 1\n",
    "b = 2\n",
    "c = 1.5\n",
    "d = 1.5\n",
    "\n",
    "a == b and c == d"
   ]
  },
  {
   "cell_type": "markdown",
   "id": "5aada338",
   "metadata": {
    "slideshow": {
     "slide_type": "slide"
    }
   },
   "source": [
    "# Example: Logical Operators\n",
    "\n",
    "Test if comparisona `a`, `b` and `c` are `True`  "
   ]
  },
  {
   "cell_type": "code",
   "execution_count": 68,
   "id": "fe0ba5e4",
   "metadata": {},
   "outputs": [
    {
     "data": {
      "text/plain": [
       "False"
      ]
     },
     "execution_count": 68,
     "metadata": {},
     "output_type": "execute_result"
    }
   ],
   "source": [
    "a = 1 < 2\n",
    "b = 2 == 2.0\n",
    "c = 3 >= 1\n",
    "\n",
    "a and b and c"
   ]
  },
  {
   "cell_type": "markdown",
   "id": "cc7ff064",
   "metadata": {
    "slideshow": {
     "slide_type": "slide"
    }
   },
   "source": [
    "# Example: Logical Operators\n",
    "Check if `a` is less than `c` __or__ `b` is less than `c`"
   ]
  },
  {
   "cell_type": "code",
   "execution_count": 68,
   "id": "c60ad7a5",
   "metadata": {},
   "outputs": [
    {
     "data": {
      "text/plain": [
       "False"
      ]
     },
     "execution_count": 68,
     "metadata": {},
     "output_type": "execute_result"
    }
   ],
   "source": [
    "a = 1\n",
    "b = 2\n",
    "c = 1.5\n",
    "\n",
    "a < c or b < c"
   ]
  },
  {
   "cell_type": "markdown",
   "id": "fba645c9",
   "metadata": {},
   "source": [
    "This is not the same as:"
   ]
  },
  {
   "cell_type": "code",
   "execution_count": 71,
   "id": "a34c3bd6",
   "metadata": {},
   "outputs": [
    {
     "data": {
      "text/plain": [
       "1"
      ]
     },
     "execution_count": 71,
     "metadata": {},
     "output_type": "execute_result"
    }
   ],
   "source": [
    "a or b < c"
   ]
  },
  {
   "cell_type": "markdown",
   "id": "9d572e88",
   "metadata": {
    "slideshow": {
     "slide_type": "slide"
    }
   },
   "source": [
    "```python \n",
    "x or y\n",
    "```\n",
    "\n",
    "__Process:__<br>\n",
    "Return `x` if its Boolean value is `True`; otherwise, return `y`.\n",
    "\n",
    "***\n",
    "```python \n",
    "a or b < c\n",
    "```\n",
    "\"Return `a` if its Boolean value is `True`; otherwise, return `b < c`.\"\n",
    "\n",
    "The Boolean value of `a` is `True`, therefore `a` is returned (`a` has the value `1`) "
   ]
  },
  {
   "cell_type": "code",
   "execution_count": 81,
   "id": "2977204f",
   "metadata": {},
   "outputs": [
    {
     "data": {
      "text/plain": [
       "False"
      ]
     },
     "execution_count": 81,
     "metadata": {},
     "output_type": "execute_result"
    }
   ],
   "source": [
    "a = 1\n",
    "b = 3\n",
    "c = 1.5\n",
    "\n",
    "a < c and b < c"
   ]
  },
  {
   "cell_type": "markdown",
   "id": "ee2932c7",
   "metadata": {},
   "source": [
    "This is not the same as:"
   ]
  },
  {
   "cell_type": "code",
   "execution_count": 83,
   "id": "e45b385b",
   "metadata": {},
   "outputs": [
    {
     "data": {
      "text/plain": [
       "True"
      ]
     },
     "execution_count": 83,
     "metadata": {},
     "output_type": "execute_result"
    }
   ],
   "source": [
    "a and b > c"
   ]
  },
  {
   "cell_type": "markdown",
   "id": "c98e6480",
   "metadata": {
    "slideshow": {
     "slide_type": "slide"
    }
   },
   "source": [
    "```python \n",
    "x and y\n",
    "```\n",
    "\n",
    "__Process:__<br>\n",
    "Return `x` if its Boolean value is `False`; otherwise, return `y`.\n",
    "\n",
    "***\n",
    "\n",
    "```python \n",
    "a and b > c\n",
    "```\n",
    "\n",
    "Return `a` if its Boolean value is `False`; otherwise, return `y`\n",
    "\n",
    "The Boolean value of `a` is `True`, therefore `b > c` is returned (`b > c` has the value `True`)\n",
    "\n",
    " "
   ]
  },
  {
   "cell_type": "markdown",
   "id": "71a6c5c9",
   "metadata": {},
   "source": [
    "# Chained Comparison Operators\n",
    "Comparison operators can be chained together if they feature the same operand\n",
    "\n",
    "The following 2 statements are equivalent\n",
    "\n",
    "```python\n",
    "x < y < z\n",
    "x < y and y < z\n",
    "```"
   ]
  },
  {
   "cell_type": "markdown",
   "id": "78588832",
   "metadata": {
    "slideshow": {
     "slide_type": "slide"
    }
   },
   "source": [
    "# Example: Chained Comparison Operators\n",
    "Check if the temperature of an aquarium is within the allowable range 24 – 26.5°C "
   ]
  },
  {
   "cell_type": "code",
   "execution_count": 35,
   "id": "99094f0b",
   "metadata": {},
   "outputs": [
    {
     "name": "stdout",
     "output_type": "stream",
     "text": [
      "False\n",
      "False\n"
     ]
    }
   ],
   "source": [
    "temp = 30\n",
    "temp_low = 24\n",
    "temp_high = 26.5\n",
    "\n",
    "print(temp_low <= temp and temp <= temp_high)\n",
    "\n",
    "print(temp_low <= temp <= temp_high)"
   ]
  },
  {
   "cell_type": "markdown",
   "id": "e393d6dd",
   "metadata": {
    "slideshow": {
     "slide_type": "slide"
    }
   },
   "source": [
    "# Example: Chained Comparison Operators\n",
    "Check that the value of variables `a` to `d` increase in alphabetical order"
   ]
  },
  {
   "cell_type": "code",
   "execution_count": 84,
   "id": "7d0802a0",
   "metadata": {},
   "outputs": [
    {
     "data": {
      "text/plain": [
       "True"
      ]
     },
     "execution_count": 84,
     "metadata": {},
     "output_type": "execute_result"
    }
   ],
   "source": [
    "a = 1\n",
    "b = 2\n",
    "c = 3\n",
    "d = 4\n",
    "\n",
    "a < b < c < d"
   ]
  },
  {
   "cell_type": "markdown",
   "id": "288ea04e",
   "metadata": {
    "slideshow": {
     "slide_type": "slide"
    }
   },
   "source": [
    "# Summary\n",
    " - Every __object__ has a type (`int`, `float`, `string`....).\n",
    " - A __variable__ is a name that refers or points to a particular object\n",
    " - __Arithmetic operators__ (+, -, /, * ....)<br>Used with numeric values to perform mathematical operations (behave differently with strings).\n",
    " - __Comparison operators__ (==, !=, <, > ....)<br>Compare two *operands*.<br>Output is a *Boolean* (True or False) value.<br>Comparison operators can be stacked e.g. `x < y <= z`\n",
    " - __Identity operators__ (`is`, `is not` ....)<br>Checks if two *operands* are identical.<br>Outout is a *Boolean* (True or False) value.\n",
    " - __Logical operators__ (`and`, `or`)<br>Compare Boolean `True` or `False` *operands* (e.g. outcomes of two *comparison operations*) to form logic statements. <br>Outout is a *Boolean* (True or False) value.<br>Logical `not` operator returns the inverse Boolean value of an operand.\n",
    " - __Assignment operators__ (+=, -=, /= ....)<br>Reassign the value of a variable.\n",
    " "
   ]
  },
  {
   "cell_type": "code",
   "execution_count": null,
   "id": "813c2664",
   "metadata": {},
   "outputs": [],
   "source": []
  }
 ],
 "metadata": {
  "celltoolbar": "Slideshow",
  "kernelspec": {
   "display_name": "Python 3 (ipykernel)",
   "language": "python",
   "name": "python3"
  },
  "language_info": {
   "codemirror_mode": {
    "name": "ipython",
    "version": 3
   },
   "file_extension": ".py",
   "mimetype": "text/x-python",
   "name": "python",
   "nbconvert_exporter": "python",
   "pygments_lexer": "ipython3",
   "version": "3.10.9"
  }
 },
 "nbformat": 4,
 "nbformat_minor": 5
}
