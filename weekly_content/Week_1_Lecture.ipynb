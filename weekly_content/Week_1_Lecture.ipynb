{
 "cells": [
  {
   "cell_type": "markdown",
   "id": "3122cada",
   "metadata": {
    "slideshow": {
     "slide_type": "slide"
    }
   },
   "source": [
    "# Introduction to Computer Programming\n",
    "\n",
    "\n",
    "\n",
    "<img src=\"img/full-colour-logo-UoB.png\" alt=\"Drawing\" style=\"width: 300px;\"/>"
   ]
  },
  {
   "cell_type": "markdown",
   "id": "f32e12cb",
   "metadata": {
    "slideshow": {
     "slide_type": "slide"
    }
   },
   "source": [
    "# Welcome!\n",
    "\n",
    "### Terms of engagement \n",
    "\n",
    "- Be respectful of each other (be aware there are different levels of experience in the room)\n",
    "- Be helpful to each other (explaining a concept to someone else is a great way to reinforce your own understanding)\n",
    "- Ask questions \n",
    "- Watch the videos before coming to the in-person lecture each week\n",
    "- Attend \n",
    "    - in-person lecture\n",
    "    - lab\n",
    "    - lab support session \n"
   ]
  },
  {
   "cell_type": "markdown",
   "id": "5fee5f09",
   "metadata": {
    "slideshow": {
     "slide_type": "slide"
    }
   },
   "source": [
    "# Video Q&A\n",
    "\n",
    "### Make use of the discussion board\n",
    "\n",
    "Blackboard page >> Course tools >> Discussion Board >> EMAT10007_2023_TB-1 >> Ask a question\n"
   ]
  },
  {
   "cell_type": "markdown",
   "id": "31c4cdea",
   "metadata": {
    "slideshow": {
     "slide_type": "slide"
    }
   },
   "source": [
    "# Objects \n",
    " - Every item of data (numbers, text characters etc) in a Python program can be described by the term __object__\n",
    " - The type of an object determines what properties it has and how it can be used in the Python program"
   ]
  },
  {
   "cell_type": "code",
   "execution_count": 2,
   "id": "161bde56",
   "metadata": {},
   "outputs": [
    {
     "data": {
      "text/plain": [
       "1.2"
      ]
     },
     "execution_count": 2,
     "metadata": {},
     "output_type": "execute_result"
    }
   ],
   "source": [
    "30\n",
    "'Python'\n",
    "1.2"
   ]
  },
  {
   "cell_type": "markdown",
   "id": "564da878",
   "metadata": {
    "slideshow": {
     "slide_type": "slide"
    }
   },
   "source": [
    "# Variables and Variable Assignment\n",
    " - A variable is a name that refers or points to a particular object\n",
    " - By *assigning* an object to a variable, we allow it to be manipulated within the program, using the variable name\n",
    "- To create a variable, we simply assign it a value\n",
    "- Assignment is achieved with a single equals sign (`=`)\n",
    "\n",
    "\n",
    "\n",
    "IMAGE OF VARIABLE ASSIGNMENT"
   ]
  },
  {
   "cell_type": "code",
   "execution_count": 16,
   "id": "3758c6fc",
   "metadata": {
    "scrolled": true
   },
   "outputs": [
    {
     "name": "stdout",
     "output_type": "stream",
     "text": [
      "4\n"
     ]
    }
   ],
   "source": [
    "b = 4\n",
    "\n",
    "print(b)"
   ]
  },
  {
   "cell_type": "markdown",
   "id": "bb10a647",
   "metadata": {},
   "source": [
    "*The Python function `print()` displays whatever is between the parentheses `(...)`*"
   ]
  },
  {
   "cell_type": "markdown",
   "id": "ab4e37ab",
   "metadata": {},
   "source": [
    "# Example\n",
    "Find the area of a circle with radius 2 metres\n",
    "\n",
    "![title](img/circle_radius.png)\n",
    "\n",
    "$A = \\pi r ^ 2$ <br>where $\\pi = 3.142$"
   ]
  },
  {
   "cell_type": "code",
   "execution_count": null,
   "id": "b5cc0f54",
   "metadata": {},
   "outputs": [],
   "source": []
  },
  {
   "cell_type": "code",
   "execution_count": null,
   "id": "a4955988",
   "metadata": {},
   "outputs": [],
   "source": []
  },
  {
   "cell_type": "code",
   "execution_count": null,
   "id": "638b6212",
   "metadata": {},
   "outputs": [],
   "source": []
  },
  {
   "cell_type": "markdown",
   "id": "b39dcab8",
   "metadata": {
    "slideshow": {
     "slide_type": "slide"
    }
   },
   "source": [
    "# Type Conversion \n",
    "The value assigned a variable can be specified or converted by *casting* \n",
    "\n",
    "**Constructor functions** are used for casting. \n",
    "<br>The function name represents the desired data type.\n",
    "<br>The variable to be cast is included between the parentheses `()`\n",
    "\n",
    "\n",
    "- `int()` - constructs an integer (e.g. from a float (by removing all decimals), or a string (providing the string represents a whole number)\n",
    "- `float()` - constructs a float (e.g. from an integer, or a string (providing the string represents a float or an integer)\n",
    "- `str()` - constructs a string (e.g. from an integer or float)\n",
    "- `bool()` - constructs a Boolean (e.g. from an integer, float or string)\n",
    "\n",
    "*Full list of possible type conversions can be found under 'Type Conversion' (https://realpython.com/python-data-types/#type-conversion)*"
   ]
  },
  {
   "cell_type": "markdown",
   "id": "8d18d0af",
   "metadata": {},
   "source": [
    "# Example\n",
    "Convert from a `float` to an a) `int` b) `string`"
   ]
  },
  {
   "cell_type": "code",
   "execution_count": null,
   "id": "f6142d49",
   "metadata": {},
   "outputs": [],
   "source": []
  },
  {
   "cell_type": "markdown",
   "id": "f82eeedc",
   "metadata": {},
   "source": [
    "# Example\n",
    "Convert from a `string` to an a) `int` b) `float"
   ]
  },
  {
   "cell_type": "code",
   "execution_count": null,
   "id": "945478b3",
   "metadata": {},
   "outputs": [],
   "source": []
  },
  {
   "cell_type": "markdown",
   "id": "d78212d0",
   "metadata": {},
   "source": [
    "# Example\n",
    "Convert from an `int` to a a) `float` b) `string`"
   ]
  },
  {
   "cell_type": "code",
   "execution_count": null,
   "id": "fea8e891",
   "metadata": {},
   "outputs": [],
   "source": []
  },
  {
   "cell_type": "markdown",
   "id": "7d98fa58",
   "metadata": {},
   "source": [
    "# Example\n",
    "Convert from an a) `int` b) `float` c) `string`, to a `bool`"
   ]
  },
  {
   "cell_type": "code",
   "execution_count": 23,
   "id": "5621ce28",
   "metadata": {
    "scrolled": true
   },
   "outputs": [
    {
     "name": "stdout",
     "output_type": "stream",
     "text": [
      "True\n"
     ]
    }
   ],
   "source": [
    "a = ' '\n",
    "\n",
    "print(bool(a))"
   ]
  },
  {
   "cell_type": "markdown",
   "id": "de090cce",
   "metadata": {},
   "source": [
    "# Representations of `True` and `False`\n",
    "\n",
    "The Boolean value of other object types\n",
    "\n",
    "|                | `True`           | `False`                |  \n",
    "| :--------------- | :--------------- | :--------------- |\n",
    "| `string`       | non-empty string |empty string (`''`)     | \n",
    "| `int`          | non-zero         |zero (`0`)              | \n",
    "| `float`        | non-zero         |zero (`0.0`)            | "
   ]
  },
  {
   "cell_type": "markdown",
   "id": "9277923e",
   "metadata": {
    "slideshow": {
     "slide_type": "slide"
    }
   },
   "source": [
    "\n",
    "<a id='OperatorPrecedence'></a>\n",
    "# Operators (in order of precedence)\n",
    "1. Parentheses\n",
    "1. Arithmetic operators (top to bottom)<br>\n",
    "   `**`                  &nbsp; &nbsp; &nbsp; &nbsp; &nbsp; &nbsp; &nbsp; &nbsp; &nbsp;&nbsp;&nbsp;&nbsp; &nbsp; &nbsp; Exponent <br>\n",
    "   `/`, `*`, `//`, `\\%`  &nbsp; &nbsp;&nbsp; Division, multiplication, floor division, modulo (evaluated left to right)<br>\n",
    "   `+`, `-`             &nbsp; &nbsp; &nbsp; &nbsp; &nbsp; &nbsp;&nbsp;&nbsp; &nbsp;&nbsp;&nbsp; &nbsp; &nbsp; Addition, subtraction (evaluated left to right)\n",
    "1. Comparison operators: `<`, `<=`,  `>`,  `>=`, `!=`, `==`(evaluated left to right)\n",
    "1. Assignment operators `=`, `/=`, `*=`, `//=`, `\\%=`, `+=`, `-=` .... \n",
    "1. Identity operators `is`, `is not`\n",
    "1. Logical `not`\n",
    "1. Logical `and`\n",
    "1. Logical `or` "
   ]
  },
  {
   "cell_type": "markdown",
   "id": "890ace3f",
   "metadata": {
    "slideshow": {
     "slide_type": "slide"
    }
   },
   "source": [
    "# Example: Arithmetic Operators\n",
    "Find the area, $A$, of a circle with radius, $r$ = 2 metres\n",
    "\n",
    "$A = \\pi r ^ 2$ <br>where $\\pi = 3.142$\n",
    "\n",
    "![title](img/circle_radius.png)\n",
    "\n"
   ]
  },
  {
   "cell_type": "code",
   "execution_count": null,
   "id": "1e6dc637",
   "metadata": {},
   "outputs": [],
   "source": []
  },
  {
   "cell_type": "markdown",
   "id": "2a613173",
   "metadata": {
    "slideshow": {
     "slide_type": "slide"
    }
   },
   "source": [
    "# Example: Arithmetic Operators \n",
    "\n",
    "Find the volume, $V$, of a cone  \n",
    "\n",
    "$V = \\frac{Ah}{3}$\n",
    "\n",
    "\n",
    "<br> where:\n",
    "<br> $\\pi = 3.142$\n",
    "<br> height, $h$ = 10 cm\n",
    "<br> base radius, $r$ = 2 cm\n",
    "<br> base area, $A= \\pi r ^ 2$\n",
    "\n",
    "<img src=\"img/cone.png\" alt=\"Drawing\" style=\"width: 200px;\"/>"
   ]
  },
  {
   "cell_type": "code",
   "execution_count": null,
   "id": "ce169409",
   "metadata": {},
   "outputs": [],
   "source": []
  },
  {
   "cell_type": "markdown",
   "id": "5f4d5477",
   "metadata": {
    "slideshow": {
     "slide_type": "slide"
    }
   },
   "source": [
    "# Example: Arithmetic Operators\n",
    "\n",
    "Create a variable `a` and assign it a `string` value with two or more characters. \n",
    "\n",
    "Create a variable `b` and assign it a `string` value with three or more characters. \n",
    "\n",
    "Use an arithmetic operator to connect the **first two** letters of `a` and the **last three** letters of `b` to make a new string. "
   ]
  },
  {
   "cell_type": "code",
   "execution_count": null,
   "id": "12728d85",
   "metadata": {},
   "outputs": [],
   "source": []
  },
  {
   "cell_type": "markdown",
   "id": "9ebbd5f0",
   "metadata": {
    "slideshow": {
     "slide_type": "slide"
    }
   },
   "source": [
    "# Comments \n",
    "A line of code that begins with the hash `#` symbol is a __comment__.\n",
    "\n",
    "Comments are used for two things:\n",
    "\n",
    "1. A line in the code that we don't want to run. \n",
    "\n",
    "1. A human-readable annotation in the code. \n",
    "\n",
    "```python\n",
    "\n",
    "# Calculate the area of the circle\n",
    "\n",
    "#r = 1 # Circle radius\n",
    "\n",
    "r = 2 # Circle radius\n",
    "\n",
    "\n",
    "```"
   ]
  },
  {
   "cell_type": "markdown",
   "id": "a8daaaab",
   "metadata": {
    "slideshow": {
     "slide_type": "slide"
    }
   },
   "source": [
    "Let's go back an add comments to the previous examples "
   ]
  },
  {
   "cell_type": "markdown",
   "id": "dd323a05",
   "metadata": {
    "slideshow": {
     "slide_type": "slide"
    }
   },
   "source": []
  },
  {
   "cell_type": "markdown",
   "id": "aa046525",
   "metadata": {
    "slideshow": {
     "slide_type": "slide"
    }
   },
   "source": [
    "\n",
    "<a id='OperatorPrecedence'></a>\n",
    "# Operators (in order of precedence)\n",
    "1. Parentheses\n",
    "1. Arithmetic operators (top to bottom)<br>\n",
    "   `**`                  &nbsp; &nbsp; &nbsp; &nbsp; &nbsp; &nbsp; &nbsp; &nbsp; &nbsp;&nbsp;&nbsp;&nbsp; &nbsp; &nbsp; Exponent <br>\n",
    "   `/`, `*`, `//`, `\\%`  &nbsp; &nbsp;&nbsp; Division, multiplication, floor division, modulo (evaluated left to right)<br>\n",
    "   `+`, `-`             &nbsp; &nbsp; &nbsp; &nbsp; &nbsp; &nbsp;&nbsp;&nbsp; &nbsp;&nbsp;&nbsp; &nbsp; &nbsp; Addition, subtraction (evaluated left to right)\n",
    "1. Comparison operators: `<`, `<=`,  `>`,  `>=`, `!=`, `==`(evaluated left to right)\n",
    "1. Assignment operators `=`, `/=`, `*=`, `//=`, `\\%=`, `+=`, `-=` .... \n",
    "1. Identity operators `is`, `is not`\n",
    "1. Logical `not`\n",
    "1. Logical `and`\n",
    "1. Logical `or` "
   ]
  },
  {
   "cell_type": "code",
   "execution_count": null,
   "id": "2af07c07",
   "metadata": {},
   "outputs": [],
   "source": []
  },
  {
   "cell_type": "code",
   "execution_count": null,
   "id": "c93ae748",
   "metadata": {},
   "outputs": [],
   "source": []
  },
  {
   "cell_type": "code",
   "execution_count": null,
   "id": "ad74c55d",
   "metadata": {},
   "outputs": [],
   "source": []
  },
  {
   "cell_type": "code",
   "execution_count": null,
   "id": "1f301015",
   "metadata": {},
   "outputs": [],
   "source": []
  },
  {
   "cell_type": "code",
   "execution_count": null,
   "id": "7eddd895",
   "metadata": {},
   "outputs": [],
   "source": []
  },
  {
   "cell_type": "code",
   "execution_count": 43,
   "id": "47bc9551",
   "metadata": {
    "scrolled": true,
    "slideshow": {
     "slide_type": "-"
    }
   },
   "outputs": [
    {
     "name": "stdout",
     "output_type": "stream",
     "text": [
      "True\n"
     ]
    }
   ],
   "source": [
    "a, b, c = 0, 1, 7\n",
    "\n",
    "print(a or b < c)"
   ]
  },
  {
   "cell_type": "markdown",
   "id": "cc894cd5",
   "metadata": {
    "slideshow": {
     "slide_type": "fragment"
    }
   },
   "source": [
    "`x or y` : Return `x` if its Boolean value is `True`; otherwise, return `y`. \n",
    "\n",
    "\"Return `a` if its Boolean value is `True`; otherwise, return `b < c`.\"\n",
    "\n",
    "In Python, numerical value 0 has the Boolean value `False`, and *all other numbers* have the Boolean value `True`.  \n",
    "\n"
   ]
  },
  {
   "cell_type": "markdown",
   "id": "4dd30b30",
   "metadata": {
    "slideshow": {
     "slide_type": "slide"
    }
   },
   "source": [
    "\"Is either `a` or `b` less than `c`?\" can be expressed using:\n"
   ]
  },
  {
   "cell_type": "code",
   "execution_count": 14,
   "id": "9ecd9ac3",
   "metadata": {},
   "outputs": [
    {
     "name": "stdout",
     "output_type": "stream",
     "text": [
      "True\n"
     ]
    }
   ],
   "source": [
    "a, b, c = 0, 8, 7\n",
    "\n",
    "print(a < c or b < c)"
   ]
  },
  {
   "cell_type": "markdown",
   "id": "15207896",
   "metadata": {
    "slideshow": {
     "slide_type": "slide"
    }
   },
   "source": [
    "### Example\n",
    "\n",
    "What will be output?:\n",
    "    \n",
    "`print(b and a < c)`\n",
    "\n",
    "(Hint: `x and y` : Return `x` if its Boolean value is `False`; otherwise, return `y`.)"
   ]
  },
  {
   "cell_type": "code",
   "execution_count": 56,
   "id": "c2aebb7d",
   "metadata": {},
   "outputs": [],
   "source": [
    "a, b, c = 1, -1, 7\n"
   ]
  },
  {
   "cell_type": "code",
   "execution_count": null,
   "id": "8cc074b9",
   "metadata": {},
   "outputs": [],
   "source": []
  },
  {
   "cell_type": "markdown",
   "id": "b99bec01",
   "metadata": {
    "slideshow": {
     "slide_type": "slide"
    }
   },
   "source": [
    "# Summary\n",
    " - Every __object__ has a type (`int`, `float`, `string`....).\n",
    " - A __variable__ is a name that refers or points to a particular object\n",
    " - __Arithmetic operators__ (+, -, /, * ....)<br>Used with numeric values to perform mathematical operations (behave differently with strings).\n",
    " - __Comparison operators__ (==, !=, <, > ....)<br>Compare two *operands*.<br>Output is a *Boolean* (True or False) value.<br>Comparison operators can be stacked e.g. `x < y <= z`\n",
    " - __Identity operators__ (`is`, `is not` ....)<br>Checks if two *operands* are identical.<br>Outout is a *Boolean* (True or False) value.\n",
    " - __Logical operators__ (`and`, `or`)<br>Compare Boolean `True` or `False` *operands* (e.g. outcomes of two *comparison operations*) to form logic statements. <br>Outout is a *Boolean* (True or False) value.<br>Logical `not` operator returns the inverse Boolean value of an operand.\n",
    " - __Assignment operators__ (+=, -=, /= ....)<br>Reassign the value of a variable.\n",
    " "
   ]
  },
  {
   "cell_type": "code",
   "execution_count": null,
   "id": "9168caa6",
   "metadata": {},
   "outputs": [],
   "source": []
  }
 ],
 "metadata": {
  "kernelspec": {
   "display_name": "Python 3 (ipykernel)",
   "language": "python",
   "name": "python3"
  },
  "language_info": {
   "codemirror_mode": {
    "name": "ipython",
    "version": 3
   },
   "file_extension": ".py",
   "mimetype": "text/x-python",
   "name": "python",
   "nbconvert_exporter": "python",
   "pygments_lexer": "ipython3",
   "version": "3.10.9"
  }
 },
 "nbformat": 4,
 "nbformat_minor": 5
}
