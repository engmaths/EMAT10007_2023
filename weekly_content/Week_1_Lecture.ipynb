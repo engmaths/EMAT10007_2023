{
 "cells": [
  {
   "cell_type": "markdown",
   "id": "9277923e",
   "metadata": {
    "slideshow": {
     "slide_type": "slide"
    }
   },
   "source": [
    "\n",
    "<a id='OperatorPrecedence'></a>\n",
    "# Operator Precedence\n",
    "\n",
    "\n",
    "1. Parentheses\n",
    "1. Arithmetic operators (top to bottom)<br>\n",
    "   `**`                  &nbsp; &nbsp; &nbsp; &nbsp; &nbsp; &nbsp; &nbsp; &nbsp; &nbsp;&nbsp;&nbsp;&nbsp; &nbsp; &nbsp; Exponent <br>\n",
    "   `/`, `*`, `//`, `\\%`  &nbsp; &nbsp;&nbsp; Division, multiplication, floor division, modulo (evaluated left to right)<br>\n",
    "   `+`, `-`             &nbsp; &nbsp; &nbsp; &nbsp; &nbsp; &nbsp;&nbsp;&nbsp; &nbsp;&nbsp;&nbsp; &nbsp; &nbsp; Addition, subtraction (evaluated left to right)\n",
    "1. Comparison operators: `<`, `<=`,  `>`,  `>=`, `!=`, `==`(evaluated left to right)\n",
    "1. Assignment operators `=`, `/=`, `*=`, `//=`, `\\%=`, `+=`, `-=` .... \n",
    "1. Identity operators `is`, `is not`\n",
    "1. Logical `not`\n",
    "1. Logical `and`\n",
    "1. Logical `or` "
   ]
  },
  {
   "cell_type": "code",
   "execution_count": null,
   "id": "6dea61b0",
   "metadata": {},
   "outputs": [],
   "source": []
  },
  {
   "cell_type": "markdown",
   "id": "ca1d32ce",
   "metadata": {
    "slideshow": {
     "slide_type": "slide"
    }
   },
   "source": [
    "### Casting\n",
    "The data type of a variable can be converted by *casting* \n",
    "\n",
    "```python\n",
    "\n",
    "int(variable_name)\n",
    "\n",
    "float(variable_name)\n",
    "\n",
    "```\n",
    "\n",
    "__Example:__ Convert from a floating point number to an integer. \n",
    "\n",
    "What happens if there are non-zero digits after the decimal point? "
   ]
  },
  {
   "cell_type": "markdown",
   "id": "dadbb22e",
   "metadata": {
    "slideshow": {
     "slide_type": "slide"
    }
   },
   "source": [
    "# Summary\n",
    " - Every variable has a type (`int`, `float`, `string`....) which is automatically assigned when the variable is created. \n",
    " - __Arithmetic operators__ (+, -, /, * ....)<br>Used with numeric values to perform mathematical operations (behave differently with strings).\n",
    " - __Comparison operators__ (==, !=, <, > ....)<br>Compare two *operands*.<br>Output is a *Boolean* (True or False) value.<br>Comparison operators can be stacked e.g. `x < y <= z`\n",
    " - __Identity operators__ (`is`, `is not` ....)<br>Checks if two *operands* are identical.<br>Outout is a *Boolean* (True or False) value.\n",
    " - __Logical operators__ (`and`, `or`)<br>Compare Boolean `True` or `False` *operands* (e.g. outcomes of two *comparison operations*) to form logic statements. <br>Outout is a *Boolean* (True or False) value.<br>Logical `not` operator returns the inverse Boolean value of an operand.\n",
    " - __Assignment operators__ (+=, -=, /= ....)<br>Reassign the value of a variable.\n",
    " "
   ]
  },
  {
   "cell_type": "markdown",
   "id": "4c19f2e2",
   "metadata": {
    "slideshow": {
     "slide_type": "slide"
    }
   },
   "source": [
    "Variables can be created on separate or single lines "
   ]
  },
  {
   "cell_type": "code",
   "execution_count": 1,
   "id": "f13d2d38",
   "metadata": {
    "slideshow": {
     "slide_type": "fragment"
    }
   },
   "outputs": [],
   "source": [
    "a = 1\n",
    "a, b = 0.1, 0.4"
   ]
  },
  {
   "cell_type": "markdown",
   "id": "890ace3f",
   "metadata": {
    "slideshow": {
     "slide_type": "slide"
    }
   },
   "source": [
    "### Example:\n",
    "Find the area of a circle with radius 2 metres\n",
    "\n",
    "![title](img/circle_radius.png)\n",
    "\n",
    "$A = \\pi r ^ 2$ <br>where $\\pi = 3.142$"
   ]
  },
  {
   "cell_type": "code",
   "execution_count": null,
   "id": "1e6dc637",
   "metadata": {},
   "outputs": [],
   "source": []
  },
  {
   "cell_type": "markdown",
   "id": "9ebbd5f0",
   "metadata": {
    "slideshow": {
     "slide_type": "slide"
    }
   },
   "source": [
    "__Comments:__  \n",
    "A line of code that begins with the hash `#` symbol is a __comment__.\n",
    "\n",
    "Comments are used for two things:\n",
    "\n",
    "1. A line in the code that we don't want to run. \n",
    "\n",
    "1. A human-readable annotation in the code. \n",
    "\n",
    "```python\n",
    "\n",
    "# Calculate the area of the circle\n",
    "\n",
    "#r = 1 # Circle radius\n",
    "\n",
    "r = 2 # Circle radius\n",
    "\n",
    "\n",
    "```"
   ]
  },
  {
   "cell_type": "markdown",
   "id": "4e586ff0",
   "metadata": {
    "slideshow": {
     "slide_type": "slide"
    }
   },
   "source": [
    "### Example \n",
    "\n",
    "Volume of a cone: $V = \\frac{Ah}{3}$  \n",
    "\n",
    "$A=$ area of base\n",
    "\n",
    "$h=$ height of cone \n",
    "***\n",
    "Find the volume of the cone:\n",
    "\n",
    "Base radius, $r$ = 2 cm\n",
    "<br> Height, $h$ = 10 cm\n",
    "<br>$\\pi=3.142$\n",
    "\n",
    "\n",
    "\n",
    "<img src=\"img/cone.png\" alt=\"Drawing\" style=\"width: 200px;\"/>"
   ]
  },
  {
   "cell_type": "code",
   "execution_count": null,
   "id": "79181995",
   "metadata": {
    "slideshow": {
     "slide_type": "slide"
    }
   },
   "outputs": [],
   "source": [
    "\n"
   ]
  },
  {
   "cell_type": "markdown",
   "id": "24c13a69",
   "metadata": {
    "slideshow": {
     "slide_type": "slide"
    }
   },
   "source": [
    "### Example\n",
    "\n",
    "Create a variable `a` and assign it a `string` value with two or more characters. \n",
    "\n",
    "Create a variable `b` and assign it a `string` value with three or more characters. \n",
    "\n",
    "Use an arithmetic operator to connect the **first two** letters of `a` and the **last three** letters of `b` to make a new string. "
   ]
  },
  {
   "cell_type": "code",
   "execution_count": null,
   "id": "510a1ef0",
   "metadata": {},
   "outputs": [],
   "source": []
  },
  {
   "cell_type": "markdown",
   "id": "dd323a05",
   "metadata": {
    "slideshow": {
     "slide_type": "slide"
    }
   },
   "source": [
    "**Tips for running python files when completing the in-class exercises.**\n",
    "\n",
    "To run the code for one exercise at a time, you can either:\n",
    " \n",
    "- save your answers to each exercise as separate .py (Python) files\n",
    "\n",
    "or \n",
    "\n",
    "- use comments `#` to *comment out* the code you do not want to run, leaving only the code for the exercise you are working on uncommented.  "
   ]
  },
  {
   "cell_type": "markdown",
   "id": "ac417bcf",
   "metadata": {},
   "source": [
    "### Example:\n",
    "Find the area of a circle with radius 2 metres\n",
    "\n",
    "![title](img/circle_radius.png)\n",
    "\n",
    "$A = \\pi r ^ 2$ <br>where $\\pi = 3.142$\n",
    "\n",
    "\n",
    "\n",
    "__Comments:__  \n",
    "A line of code that begins with the hash `#` symbol is a __comment__.\n",
    "\n",
    "Comments are used for two things:\n",
    "\n",
    "1. A line in the code that we don't want to run. \n",
    "\n",
    "1. A human-readable annotation in the code. \n",
    "\n",
    "```python\n",
    "\n",
    "# Calculate the area of the circle\n",
    "\n",
    "#r = 1 # Circle radius\n",
    "\n",
    "r = 2 # Circle radius\n",
    "\n",
    "\n",
    "```\n",
    "\n",
    "### Example \n",
    "\n",
    "Volume of a cone: $V = \\frac{Ah}{3}$  \n",
    "\n",
    "$A=$ area of base\n",
    "\n",
    "$h=$ height of cone \n",
    "***\n",
    "Find the volume of the cone:\n",
    "\n",
    "Base radius, $r$ = 2 cm\n",
    "<br> Height, $h$ = 10 cm\n",
    "<br>$\\pi=3.142$\n",
    "\n",
    "\n",
    "\n",
    "<img src=\"img/cone.png\" alt=\"Drawing\" style=\"width: 200px;\"/>\n",
    "\n",
    "\n",
    "\n",
    "\n",
    "### Example\n",
    "\n",
    "Create a variable `a` and assign it a `string` value with two or more characters. \n",
    "\n",
    "Create a variable `b` and assign it a `string` value with three or more characters. \n",
    "\n",
    "Use an arithmetic operator to connect the **first two** letters of `a` and the **last three** letters of `b` to make a new string. \n",
    "\n",
    "\n",
    "\n",
    "**Tips for running python files when completing the in-class exercises.**\n",
    "\n",
    "To run the code for one exercise at a time, you can either:\n",
    " \n",
    "- save your answers to each exercise as separate .py (Python) files\n",
    "\n",
    "or \n",
    "\n",
    "- use comments `#` to *comment out* the code you do not want to run, leaving only the code for the exercise you are working on uncommented.  "
   ]
  },
  {
   "cell_type": "markdown",
   "id": "ee0066dc",
   "metadata": {
    "slideshow": {
     "slide_type": "slide"
    }
   },
   "source": [
    "__A word of warning!__ : This does *not* mean \"Is either `a` or `b` less than `c`?\""
   ]
  },
  {
   "cell_type": "code",
   "execution_count": 43,
   "id": "47bc9551",
   "metadata": {
    "scrolled": true,
    "slideshow": {
     "slide_type": "-"
    }
   },
   "outputs": [
    {
     "name": "stdout",
     "output_type": "stream",
     "text": [
      "True\n"
     ]
    }
   ],
   "source": [
    "a, b, c = 0, 1, 7\n",
    "\n",
    "print(a or b < c)"
   ]
  },
  {
   "cell_type": "markdown",
   "id": "cc894cd5",
   "metadata": {
    "slideshow": {
     "slide_type": "fragment"
    }
   },
   "source": [
    "`x or y` : Return `x` if its Boolean value is `True`; otherwise, return `y`. \n",
    "\n",
    "\"Return `a` if its Boolean value is `True`; otherwise, return `b < c`.\"\n",
    "\n",
    "In Python, numerical value 0 has the Boolean value `False`, and *all other numbers* have the Boolean value `True`.  \n",
    "\n"
   ]
  },
  {
   "cell_type": "markdown",
   "id": "4dd30b30",
   "metadata": {
    "slideshow": {
     "slide_type": "slide"
    }
   },
   "source": [
    "\"Is either `a` or `b` less than `c`?\" can be expressed using:\n"
   ]
  },
  {
   "cell_type": "code",
   "execution_count": 14,
   "id": "9ecd9ac3",
   "metadata": {},
   "outputs": [
    {
     "name": "stdout",
     "output_type": "stream",
     "text": [
      "True\n"
     ]
    }
   ],
   "source": [
    "a, b, c = 0, 8, 7\n",
    "\n",
    "print(a < c or b < c)"
   ]
  },
  {
   "cell_type": "markdown",
   "id": "15207896",
   "metadata": {
    "slideshow": {
     "slide_type": "slide"
    }
   },
   "source": [
    "### Example\n",
    "\n",
    "What will be output?:\n",
    "    \n",
    "`print(b and a < c)`\n",
    "\n",
    "(Hint: `x and y` : Return `x` if its Boolean value is `False`; otherwise, return `y`.)"
   ]
  },
  {
   "cell_type": "code",
   "execution_count": 56,
   "id": "c2aebb7d",
   "metadata": {},
   "outputs": [],
   "source": [
    "a, b, c = 1, -1, 7\n"
   ]
  },
  {
   "cell_type": "code",
   "execution_count": null,
   "id": "8cc074b9",
   "metadata": {},
   "outputs": [],
   "source": []
  }
 ],
 "metadata": {
  "kernelspec": {
   "display_name": "Python 3 (ipykernel)",
   "language": "python",
   "name": "python3"
  },
  "language_info": {
   "codemirror_mode": {
    "name": "ipython",
    "version": 3
   },
   "file_extension": ".py",
   "mimetype": "text/x-python",
   "name": "python",
   "nbconvert_exporter": "python",
   "pygments_lexer": "ipython3",
   "version": "3.10.9"
  }
 },
 "nbformat": 4,
 "nbformat_minor": 5
}
