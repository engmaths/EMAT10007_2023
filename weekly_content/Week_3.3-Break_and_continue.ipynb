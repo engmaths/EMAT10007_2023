{
 "cells": [
  {
   "cell_type": "markdown",
   "id": "d34f3802",
   "metadata": {
    "slideshow": {
     "slide_type": "slide"
    }
   },
   "source": [
    "# Introduction to Computer Programming\n",
    "\n",
    "## `break` and `continue`\n",
    "\n",
    "* * *\n",
    "\n",
    "<img src=\"img/full-colour-logo-UoB.png\" alt=\"Bristol\" style=\"width: 300px;\"/>"
   ]
  },
  {
   "cell_type": "markdown",
   "id": "068fce68",
   "metadata": {
    "slideshow": {
     "slide_type": "slide"
    }
   },
   "source": [
    "# Terminating loops using `break`\n",
    "\n",
    "A `for` or `while` loop can be terminated prematurely using the `break` keyword"
   ]
  },
  {
   "cell_type": "code",
   "execution_count": 30,
   "id": "7fb21ce1",
   "metadata": {},
   "outputs": [
    {
     "name": "stdout",
     "output_type": "stream",
     "text": [
      "1\n",
      "2\n",
      "Terminating the loop when i = 3\n"
     ]
    }
   ],
   "source": [
    "for i in range(1, 6):\n",
    "    \n",
    "    if i == 3:\n",
    "        print(\"Terminating the loop when i = 3\")\n",
    "        break\n",
    "    \n",
    "    print(i)\n",
    "    "
   ]
  },
  {
   "cell_type": "markdown",
   "id": "c21f8f31",
   "metadata": {
    "slideshow": {
     "slide_type": "slide"
    }
   },
   "source": [
    "# Skipping parts of a loop with `continue`\n",
    "\n",
    "The `continue` keyword can be used to skip code in a loop"
   ]
  },
  {
   "cell_type": "code",
   "execution_count": 31,
   "id": "974d80f6",
   "metadata": {},
   "outputs": [
    {
     "name": "stdout",
     "output_type": "stream",
     "text": [
      "1\n",
      "2\n",
      "Skipping the case i = 3\n",
      "4\n",
      "5\n"
     ]
    }
   ],
   "source": [
    "for i in range(1, 6):\n",
    "    \n",
    "    if i == 3:\n",
    "        print(\"Skipping the case i = 3\")\n",
    "        continue\n",
    "    \n",
    "    print(i)\n",
    "    "
   ]
  },
  {
   "cell_type": "markdown",
   "id": "9755a626",
   "metadata": {
    "slideshow": {
     "slide_type": "fragment"
    }
   },
   "source": [
    "When the `continue` keyword is encountered, the current *iteration* of the loop terminates, but the loop continues"
   ]
  },
  {
   "cell_type": "code",
   "execution_count": null,
   "id": "e33568e0",
   "metadata": {},
   "outputs": [],
   "source": []
  }
 ],
 "metadata": {
  "kernelspec": {
   "display_name": "Python 3 (ipykernel)",
   "language": "python",
   "name": "python3"
  },
  "language_info": {
   "codemirror_mode": {
    "name": "ipython",
    "version": 3
   },
   "file_extension": ".py",
   "mimetype": "text/x-python",
   "name": "python",
   "nbconvert_exporter": "python",
   "pygments_lexer": "ipython3",
   "version": "3.10.9"
  }
 },
 "nbformat": 4,
 "nbformat_minor": 5
}
