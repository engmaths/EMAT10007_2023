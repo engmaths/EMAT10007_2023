{
 "cells": [
  {
   "cell_type": "markdown",
   "id": "d34f3802",
   "metadata": {
    "slideshow": {
     "slide_type": "slide"
    }
   },
   "source": [
    "# Introduction to Computer Programming\n",
    "\n",
    "## `break` and `continue`\n",
    "\n",
    "* * *\n",
    "\n",
    "<img src=\"img/full-colour-logo-UoB.png\" alt=\"Bristol\" style=\"width: 300px;\"/>"
   ]
  },
  {
   "cell_type": "markdown",
   "id": "909d59cf",
   "metadata": {
    "slideshow": {
     "slide_type": "slide"
    }
   },
   "source": [
    "In each example studied so far, the entire block of indented code within the `for`/`while` loop is executed on each iteration. \n",
    "\n",
    "Python provides two keywords to terminate a loop iteration prematurely:\n",
    "\n",
    "`break`: immediately terminates a loop entirely. \n",
    "\n",
    "`continue`: immediately terminates the current loop iteration. "
   ]
  },
  {
   "cell_type": "markdown",
   "id": "068fce68",
   "metadata": {
    "slideshow": {
     "slide_type": "slide"
    }
   },
   "source": [
    "# Terminating loops using `break`\n",
    "\n",
    "`break`: immediately terminates a loop entirely. \n",
    "\n",
    "The next unindented line is executed"
   ]
  },
  {
   "cell_type": "markdown",
   "id": "a15f305b",
   "metadata": {
    "slideshow": {
     "slide_type": "slide"
    }
   },
   "source": [
    "# Example \n",
    "Terminate the `for` loop when `i` equals 3\n",
    "\n",
    "The `if` statement causes the `break` keyword to be executed "
   ]
  },
  {
   "cell_type": "code",
   "execution_count": 2,
   "id": "7fb21ce1",
   "metadata": {},
   "outputs": [
    {
     "name": "stdout",
     "output_type": "stream",
     "text": [
      "0\n",
      "1\n",
      "2\n"
     ]
    }
   ],
   "source": [
    "for i in range(5):\n",
    "    \n",
    "    if i == 3:\n",
    "        break\n",
    "        \n",
    "    print(i)"
   ]
  },
  {
   "cell_type": "markdown",
   "id": "c21f8f31",
   "metadata": {
    "slideshow": {
     "slide_type": "slide"
    }
   },
   "source": [
    "# Skipping parts of a loop with `continue`\n",
    "\n",
    "`continue`: immediately terminates the current loop iteration. \n",
    "\n",
    "Execution returns to the top of the loop\n",
    " "
   ]
  },
  {
   "cell_type": "markdown",
   "id": "efc1ea04",
   "metadata": {
    "slideshow": {
     "slide_type": "slide"
    }
   },
   "source": [
    "# Example \n",
    "Skip the iteration of the `for` loop where `i` equals 3\n",
    "\n",
    "The `if` statement causes the `continue` keyword to be executed "
   ]
  },
  {
   "cell_type": "code",
   "execution_count": 3,
   "id": "974d80f6",
   "metadata": {},
   "outputs": [
    {
     "name": "stdout",
     "output_type": "stream",
     "text": [
      "0\n",
      "1\n",
      "2\n",
      "4\n"
     ]
    }
   ],
   "source": [
    "for i in range(5):\n",
    "    \n",
    "    if i == 3:\n",
    "        \n",
    "        continue\n",
    "        \n",
    "    print(i)\n",
    "    "
   ]
  },
  {
   "cell_type": "markdown",
   "id": "9755a626",
   "metadata": {
    "slideshow": {
     "slide_type": "fragment"
    }
   },
   "source": [
    "When the `continue` keyword is encountered, the current *iteration* of the loop terminates, but the loop continues"
   ]
  },
  {
   "cell_type": "markdown",
   "id": "670f8ea8",
   "metadata": {
    "slideshow": {
     "slide_type": "slide"
    }
   },
   "source": [
    "# Example \n",
    "Print the days of the week, excluding the weekend, using the sequence, `days`"
   ]
  },
  {
   "cell_type": "code",
   "execution_count": 4,
   "id": "f1ae647a",
   "metadata": {},
   "outputs": [
    {
     "name": "stdout",
     "output_type": "stream",
     "text": [
      "Mon\n",
      "Tue\n",
      "Wed\n",
      "Thu\n",
      "Fri\n"
     ]
    }
   ],
   "source": [
    "days = ['Mon', 'Tue', 'Wed', 'Thu', 'Fri', 'Sat', 'Sun']\n",
    "\n",
    "for day in days:\n",
    "    \n",
    "    if day == 'Sat':\n",
    "        break \n",
    "        \n",
    "    print(day)"
   ]
  },
  {
   "cell_type": "markdown",
   "id": "50b2ae1c",
   "metadata": {
    "slideshow": {
     "slide_type": "slide"
    }
   },
   "source": [
    "# Example \n",
    "Print the days of the week excluding Wednesday, using the sequence, `days`"
   ]
  },
  {
   "cell_type": "code",
   "execution_count": 5,
   "id": "cd1a77dc",
   "metadata": {},
   "outputs": [
    {
     "name": "stdout",
     "output_type": "stream",
     "text": [
      "Mon\n",
      "Tue\n",
      "Thu\n",
      "Fri\n",
      "Sat\n",
      "Sun\n"
     ]
    }
   ],
   "source": [
    "days = ['Mon', 'Tue', 'Wed', 'Thu', 'Fri', 'Sat', 'Sun']\n",
    "\n",
    "for day in days:\n",
    "    \n",
    "    if day == 'Wed':\n",
    "        continue \n",
    "        \n",
    "    print(day)"
   ]
  },
  {
   "cell_type": "markdown",
   "id": "6890f8a5",
   "metadata": {
    "slideshow": {
     "slide_type": "slide"
    }
   },
   "source": [
    "# Example \n",
    "\n",
    "Multiply each number in `sequence_1` with a number from `sequence_2` in the order they appear in the two sequences\n",
    "\n",
    "If the result of the multiplication is greater than 20, terminate the loop\n",
    "\n",
    "Otherwise, print the result"
   ]
  },
  {
   "cell_type": "code",
   "execution_count": 7,
   "id": "233a802d",
   "metadata": {},
   "outputs": [
    {
     "name": "stdout",
     "output_type": "stream",
     "text": [
      "4\n",
      "6\n"
     ]
    }
   ],
   "source": [
    "sequence_1 = [1,2,3,4]\n",
    "sequence_2 = [4,3,7,5]\n",
    "\n",
    "for i, j in zip(sequence_1, sequence_2):\n",
    "    \n",
    "    product = i * j\n",
    "    \n",
    "    if product > 20:\n",
    "        break\n",
    "        \n",
    "    print(product)\n",
    "\n"
   ]
  },
  {
   "cell_type": "markdown",
   "id": "738ef293",
   "metadata": {
    "slideshow": {
     "slide_type": "slide"
    }
   },
   "source": [
    "# Example \n",
    "\n",
    "Multiply each number in `sequence_1` with a number from `sequence_2` in the order they appear in the two sequences\n",
    "\n",
    "If the result of the multiplication is greater than 20, skip the rest of this iteration\n",
    "\n",
    "Otherwise, print the result"
   ]
  },
  {
   "cell_type": "code",
   "execution_count": 8,
   "id": "fef13786",
   "metadata": {},
   "outputs": [
    {
     "name": "stdout",
     "output_type": "stream",
     "text": [
      "4\n",
      "6\n",
      "20\n"
     ]
    }
   ],
   "source": [
    "sequence_1 = [1,2,3,4]\n",
    "sequence_2 = [4,3,7,5]\n",
    "\n",
    "for i, j in zip(sequence_1, sequence_2):\n",
    "    \n",
    "    product = i * j\n",
    "    \n",
    "    if product > 20:\n",
    "        continue \n",
    "        \n",
    "    print(product)"
   ]
  },
  {
   "cell_type": "markdown",
   "id": "ce02459b",
   "metadata": {
    "slideshow": {
     "slide_type": "slide"
    }
   },
   "source": [
    "# `for-else`\n",
    "\n",
    "The indented code after the `else` statement is executed if the `for` loop terminates through exhaustion of the iterable (rather than terminating early by `break` being executed)\n",
    "\n",
    "This control structure is used less often than the others we've studied but is useful at times"
   ]
  },
  {
   "cell_type": "code",
   "execution_count": 11,
   "id": "7f151458",
   "metadata": {},
   "outputs": [
    {
     "name": "stdout",
     "output_type": "stream",
     "text": [
      "Didn't find any odd numbers\n"
     ]
    }
   ],
   "source": [
    "for i in [2, 2, 2, 4]:\n",
    "    \n",
    "    if i%2:\n",
    "        print('Found odd number')\n",
    "        break\n",
    "        \n",
    "else:\n",
    "    print(\"Didn't find any odd numbers\")"
   ]
  },
  {
   "cell_type": "markdown",
   "id": "b30bd44e",
   "metadata": {
    "slideshow": {
     "slide_type": "slide"
    }
   },
   "source": [
    "### Need to see some more examples? \n",
    "https://www.w3schools.in/python/break-and-continue\n",
    "<br>https://www.geeksforgeeks.org/break-continue-and-pass-in-python/\n",
    "<br>https://pynative.com/python-break-continue-pass/\n"
   ]
  },
  {
   "cell_type": "code",
   "execution_count": null,
   "id": "5620728c",
   "metadata": {},
   "outputs": [],
   "source": []
  }
 ],
 "metadata": {
  "celltoolbar": "Slideshow",
  "kernelspec": {
   "display_name": "Python 3 (ipykernel)",
   "language": "python",
   "name": "python3"
  },
  "language_info": {
   "codemirror_mode": {
    "name": "ipython",
    "version": 3
   },
   "file_extension": ".py",
   "mimetype": "text/x-python",
   "name": "python",
   "nbconvert_exporter": "python",
   "pygments_lexer": "ipython3",
   "version": "3.10.9"
  }
 },
 "nbformat": 4,
 "nbformat_minor": 5
}
