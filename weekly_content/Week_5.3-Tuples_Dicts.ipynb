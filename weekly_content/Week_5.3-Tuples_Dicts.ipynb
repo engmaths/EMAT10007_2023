{
 "cells": [
  {
   "cell_type": "markdown",
   "metadata": {
    "slideshow": {
     "slide_type": "slide"
    }
   },
   "source": [
    "# Introduction to Computer Programming\n",
    "\n",
    "## Week 5.3: Tuples and dictionaries\n",
    "\n",
    "* * *\n",
    "\n",
    "<img src=\"img/full-colour-logo-UoB.png\" alt=\"Bristol\" style=\"width: 300px;\"/>\n"
   ]
  },
  {
   "cell_type": "markdown",
   "metadata": {
    "slideshow": {
     "slide_type": "slide"
    }
   },
   "source": [
    "# Tuples\n",
    "\n",
    "A **tuple** is an ordered sequence of values and is similar to a list.\n",
    "\n",
    "The values in a tuple must be comma separated and contained in round brackets"
   ]
  },
  {
   "cell_type": "code",
   "execution_count": 15,
   "metadata": {},
   "outputs": [],
   "source": [
    "t = (1, 1.0, 'one')"
   ]
  },
  {
   "cell_type": "markdown",
   "metadata": {},
   "source": [
    "A major difference is that tuples are **immutable**, meaning that the values of their elements cannot be changed"
   ]
  },
  {
   "cell_type": "code",
   "execution_count": 16,
   "metadata": {},
   "outputs": [
    {
     "ename": "TypeError",
     "evalue": "'tuple' object does not support item assignment",
     "output_type": "error",
     "traceback": [
      "\u001b[0;31m---------------------------------------------------------------------------\u001b[0m",
      "\u001b[0;31mTypeError\u001b[0m                                 Traceback (most recent call last)",
      "\u001b[0;32m<ipython-input-16-0a2305685e55>\u001b[0m in \u001b[0;36m<module>\u001b[0;34m\u001b[0m\n\u001b[0;32m----> 1\u001b[0;31m \u001b[0mt\u001b[0m\u001b[0;34m[\u001b[0m\u001b[0;36m2\u001b[0m\u001b[0;34m]\u001b[0m \u001b[0;34m=\u001b[0m \u001b[0;34m'One'\u001b[0m\u001b[0;34m\u001b[0m\u001b[0;34m\u001b[0m\u001b[0m\n\u001b[0m",
      "\u001b[0;31mTypeError\u001b[0m: 'tuple' object does not support item assignment"
     ]
    }
   ],
   "source": [
    "t[2] = 'One'"
   ]
  },
  {
   "cell_type": "markdown",
   "metadata": {
    "slideshow": {
     "slide_type": "slide"
    }
   },
   "source": [
    "Tuples are also iterable so they can be used in for loops"
   ]
  },
  {
   "cell_type": "code",
   "execution_count": 2,
   "metadata": {},
   "outputs": [
    {
     "name": "stdout",
     "output_type": "stream",
     "text": [
      "1\n",
      "4\n",
      "9\n",
      "16\n"
     ]
    }
   ],
   "source": [
    "values = (1, 2, 3, 4)\n",
    "for v in values:\n",
    "    print(v**2)"
   ]
  },
  {
   "cell_type": "markdown",
   "metadata": {
    "slideshow": {
     "slide_type": "slide"
    }
   },
   "source": [
    "# A quirk with tuples with a single element\n",
    "\n",
    "To create a tuple with only a single element, a comma must be placed after that element.\n",
    "\n",
    "This is avoid ambiguities with the use of round brackets to control operator precedence in maths"
   ]
  },
  {
   "cell_type": "code",
   "execution_count": 13,
   "metadata": {},
   "outputs": [
    {
     "name": "stdout",
     "output_type": "stream",
     "text": [
      "<class 'int'>\n",
      "<class 'tuple'>\n"
     ]
    }
   ],
   "source": [
    "t1 = (1)\n",
    "print(type(t1))\n",
    "\n",
    "t2 = (1, )\n",
    "print(type(t2))"
   ]
  },
  {
   "cell_type": "markdown",
   "metadata": {
    "slideshow": {
     "slide_type": "slide"
    }
   },
   "source": [
    "# Dictionaries\n",
    "\n",
    "**Dictionaries** are also used to store collections of objects.  However, values are indexed by **key** instead of integers.\n",
    "\n",
    "Keys are defined by the user and can be any immutable data type (strings, ints)\n",
    "\n",
    "The elements in a dictionary are pairs of keys and values, which must be written as key:value\n",
    "\n",
    "The key:value pairs must be separated by commas and contained in curly brackets"
   ]
  },
  {
   "cell_type": "markdown",
   "metadata": {
    "slideshow": {
     "slide_type": "slide"
    }
   },
   "source": [
    "The syntax used to create a dictionary (called *my_dict* in this example) is\n",
    "```python\n",
    "my_dict = {Key1:Value1, Key2:Value2, ... }\n",
    "```\n",
    "We can access Value2 using the syntax\n",
    "```python\n",
    "my_dict[Key2]\n",
    "```"
   ]
  },
  {
   "cell_type": "markdown",
   "metadata": {
    "slideshow": {
     "slide_type": "slide"
    }
   },
   "source": [
    "# Dictionary example\n",
    "\n",
    "Let's create a dictionary of country calling codes\n",
    "\n",
    "| Key | Value |\n",
    "| :-: | :-: |\n",
    "| UK | 44 |\n",
    "| Canada | 1 |\n",
    "| Spain | 34 |\n",
    "| Kazakhstan | 7 |"
   ]
  },
  {
   "cell_type": "code",
   "execution_count": 16,
   "metadata": {},
   "outputs": [
    {
     "name": "stdout",
     "output_type": "stream",
     "text": [
      "44\n"
     ]
    }
   ],
   "source": [
    "# creating the dictionary\n",
    "country_codes = {'UK':44, 'Canada':1, 'Spain':34, 'Kazakhstan': 7}\n",
    "\n",
    "# let's access the country code for the UK using the key 'UK'\n",
    "print(country_codes['UK'])"
   ]
  },
  {
   "cell_type": "markdown",
   "metadata": {
    "slideshow": {
     "slide_type": "slide"
    }
   },
   "source": [
    "Dictionaries are iterable, but by default only the keys can be retrieved"
   ]
  },
  {
   "cell_type": "code",
   "execution_count": 25,
   "metadata": {},
   "outputs": [
    {
     "name": "stdout",
     "output_type": "stream",
     "text": [
      "UK\n",
      "Canada\n",
      "Spain\n",
      "Kazakhstan\n"
     ]
    }
   ],
   "source": [
    "for key in country_codes:\n",
    "    print(key)"
   ]
  },
  {
   "cell_type": "markdown",
   "metadata": {},
   "source": [
    "Usually this is fine since the values are easy to obtain using the keys"
   ]
  },
  {
   "cell_type": "markdown",
   "metadata": {
    "slideshow": {
     "slide_type": "slide"
    }
   },
   "source": [
    "# Summary\n",
    "\n",
    "Python contains several varibles types that can be used to store and operate on collections of data\n",
    "\n",
    "| Type | Ordered | Mutable | Iterable \n",
    "| :-: | :-: | :-:| :-: |\n",
    "| List | Yes (using ints) | Yes | Yes\n",
    "| Tuple | Yes (using ints) | No | Yes \n",
    "| Dictionary | Yes (using keys) | Yes| Yes\n",
    "\n",
    "Values in **ordered types** can be accessed using an index, e.g. list[0], dict[key]\n",
    "\n",
    "**Mutable** variables can be modified after they are created; **immutable** variables cannot\n",
    "\n",
    "**Iterable** variables can be used in for loops"
   ]
  }
 ],
 "metadata": {
  "celltoolbar": "Slideshow",
  "kernelspec": {
   "display_name": "Python 3 (ipykernel)",
   "language": "python",
   "name": "python3"
  },
  "language_info": {
   "codemirror_mode": {
    "name": "ipython",
    "version": 3
   },
   "file_extension": ".py",
   "mimetype": "text/x-python",
   "name": "python",
   "nbconvert_exporter": "python",
   "pygments_lexer": "ipython3",
   "version": "3.11.4"
  }
 },
 "nbformat": 4,
 "nbformat_minor": 4
}
