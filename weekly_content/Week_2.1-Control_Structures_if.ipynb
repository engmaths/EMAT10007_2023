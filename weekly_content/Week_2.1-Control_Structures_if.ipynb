{
 "cells": [
  {
   "cell_type": "markdown",
   "id": "b02a48fc",
   "metadata": {
    "slideshow": {
     "slide_type": "slide"
    }
   },
   "source": [
    "# Introduction to Computer Programming\n",
    "\n",
    "## Control Structures - the `if` statement\n",
    "\n",
    "<img src=\"img/full-colour-logo-UoB.png\" alt=\"Drawing\" style=\"width: 300px;\"/>"
   ]
  },
  {
   "cell_type": "markdown",
   "id": "287d30ba",
   "metadata": {},
   "source": [
    "So far we have written code as a sequence of statements one after the other. \n",
    "\n",
    "Real world programmes usually need to:\n",
    "- choose between multiple possible sets of statements to execute\n",
    "- skip over some statements\n",
    "- repeatedly execute a series of statements\n",
    "\n"
   ]
  },
  {
   "cell_type": "markdown",
   "id": "9a28e533",
   "metadata": {
    "slideshow": {
     "slide_type": "slide"
    }
   },
   "source": [
    "<a id='ControlStatements'></a>\n",
    "# Conditional Statements \n",
    "\n",
    "Perform decision making in a program \n",
    "\n",
    "Allow __conditional__ execution of a block of code based on the Boolean value of an expression.\n",
    "\n"
   ]
  },
  {
   "cell_type": "markdown",
   "id": "957ad237",
   "metadata": {
    "slideshow": {
     "slide_type": "skip"
    }
   },
   "source": [
    "# The `if` statement\n",
    "\n",
    "Executes a block of code only `if` a conditional statement is `True`\n",
    "\n",
    "<center>\n",
    "  <img src=\"img/if_flow_.png\" alt=\"Drawing\" style=\"width: 400px;\"/>\n",
    "</center>\n",
    "\n"
   ]
  },
  {
   "cell_type": "markdown",
   "id": "b64105a0",
   "metadata": {},
   "source": [
    "# The `if` statement\n",
    "\n",
    "Executes a block of code only `if` the Boolean value of a conditional expression is `True`\n",
    "\n",
    "The code structure looks like this:\n",
    "    \n",
    "```python\n",
    "if <conditional expression>:\n",
    "    <operation>\n",
    "```\n",
    "\n",
    "***\n",
    "\n",
    "### Example"
   ]
  },
  {
   "cell_type": "code",
   "execution_count": 15,
   "id": "91bfaa8c",
   "metadata": {},
   "outputs": [
    {
     "name": "stdout",
     "output_type": "stream",
     "text": [
      "hello world\n"
     ]
    }
   ],
   "source": [
    "a = 2\n",
    "\n",
    "if a > 1:\n",
    "    print('hello world')"
   ]
  },
  {
   "cell_type": "markdown",
   "id": "0aecbd3a",
   "metadata": {
    "slideshow": {
     "slide_type": "slide"
    }
   },
   "source": [
    "\n",
    "The key ingredients are:\n",
    "\n",
    "1. __`if` keyword__\n",
    "1. __Conditional expression__: often includes *comparison*, *logical* or *identity* operators. \n",
    "1. __Colon `:`__ follows the condition to be evaluated. \n",
    "1. __*Indented* block of code__: run if the Boolean value of the conditional expression is `True`. <br> The indent: <br>- can be any number of spaces.<br>- must be the same for all lines in a block of code.<br>- 4 spaces is considered best practise.<br>- many IDEs automatically indent by 4 spaces after you type `if:`.\n",
    "\n"
   ]
  },
  {
   "cell_type": "markdown",
   "id": "d389c6f3",
   "metadata": {},
   "source": [
    "# Examples"
   ]
  },
  {
   "cell_type": "code",
   "execution_count": 16,
   "id": "ea3641a5",
   "metadata": {},
   "outputs": [],
   "source": [
    "x = 0\n",
    "y = 10"
   ]
  },
  {
   "cell_type": "code",
   "execution_count": 17,
   "id": "df33dbec",
   "metadata": {},
   "outputs": [
    {
     "name": "stdout",
     "output_type": "stream",
     "text": [
      "x less than y\n"
     ]
    }
   ],
   "source": [
    "if x < y:\n",
    "    print('x less than y')"
   ]
  },
  {
   "cell_type": "code",
   "execution_count": 18,
   "id": "3b85b31b",
   "metadata": {},
   "outputs": [],
   "source": [
    "if x == y:\n",
    "    print('x equal to y')"
   ]
  },
  {
   "cell_type": "code",
   "execution_count": 19,
   "id": "a5676b5a",
   "metadata": {},
   "outputs": [],
   "source": [
    "if x and y:\n",
    "    print('x and y are non-zero')"
   ]
  },
  {
   "cell_type": "code",
   "execution_count": 20,
   "id": "53b01ee3",
   "metadata": {},
   "outputs": [
    {
     "name": "stdout",
     "output_type": "stream",
     "text": [
      "at least one of x and y is non-zero\n"
     ]
    }
   ],
   "source": [
    "if x or y:\n",
    "    print('at least one of x and y is non-zero')"
   ]
  },
  {
   "cell_type": "markdown",
   "id": "7b8582e2",
   "metadata": {},
   "source": [
    "# The role of the indent\n",
    "\n",
    "The indent determines the block of code (single or multi-line) to execute if the Boolean value of the conditional expression is True. "
   ]
  },
  {
   "cell_type": "code",
   "execution_count": 9,
   "id": "ef731847",
   "metadata": {
    "slideshow": {
     "slide_type": "slide"
    }
   },
   "outputs": [
    {
     "name": "stdout",
     "output_type": "stream",
     "text": [
      "Do this based on the conditional expression\n",
      "Do this based on the conditional expression\n",
      "Always do this\n"
     ]
    }
   ],
   "source": [
    "x = 2\n",
    "\n",
    "if x > 1:\n",
    "    print(\"Do this based on the conditional expression\") \n",
    "    print(\"Do this based on the conditional expression\") \n",
    "    \n",
    "print(\"Always do this\")\n"
   ]
  },
  {
   "cell_type": "markdown",
   "id": "550b4679",
   "metadata": {
    "slideshow": {
     "slide_type": "slide"
    }
   },
   "source": [
    "\n",
    "\n",
    "\n",
    "Only the indented line depends on the outcome of the `if` statement\n"
   ]
  },
  {
   "cell_type": "markdown",
   "id": "961deede",
   "metadata": {},
   "source": [
    "# Example \n",
    "If `a` is negative print a message to let the user know "
   ]
  },
  {
   "cell_type": "code",
   "execution_count": 10,
   "id": "d19adf85",
   "metadata": {},
   "outputs": [
    {
     "name": "stdout",
     "output_type": "stream",
     "text": [
      "zero\n",
      "0\n"
     ]
    }
   ],
   "source": [
    "a = 0\n",
    "\n",
    "if a < 0:\n",
    "    print('Expression was True')\n",
    "    print('a is negative')\n",
    "    print(a)\n",
    "    print('Done')\n",
    "    \n",
    "print(a)"
   ]
  },
  {
   "cell_type": "markdown",
   "id": "e180d4b6",
   "metadata": {
    "slideshow": {
     "slide_type": "slide"
    }
   },
   "source": [
    "### Example\n",
    "\n",
    "If the value of `a` is an even number, print `even`"
   ]
  },
  {
   "cell_type": "code",
   "execution_count": 11,
   "id": "8adad957",
   "metadata": {},
   "outputs": [
    {
     "name": "stdout",
     "output_type": "stream",
     "text": [
      "even\n"
     ]
    }
   ],
   "source": [
    "a = 10\n",
    "\n",
    "if a % 2 == 0:\n",
    "    print('even')"
   ]
  },
  {
   "cell_type": "markdown",
   "id": "a4d6b708",
   "metadata": {
    "slideshow": {
     "slide_type": "slide"
    }
   },
   "source": [
    "### Example\n",
    "\n",
    "If the value of `a` is an even number, increase the value of `a` by 1 and print the value of `a`"
   ]
  },
  {
   "cell_type": "code",
   "execution_count": 12,
   "id": "5c55ed54",
   "metadata": {},
   "outputs": [
    {
     "name": "stdout",
     "output_type": "stream",
     "text": [
      "11\n"
     ]
    }
   ],
   "source": [
    "a = 10\n",
    "\n",
    "if a % 2 == 0:\n",
    "    a += 1\n",
    "    print(a)\n",
    "    \n"
   ]
  },
  {
   "cell_type": "markdown",
   "id": "dbefaba2",
   "metadata": {
    "slideshow": {
     "slide_type": "slide"
    }
   },
   "source": [
    "The condition in the `if` statement can be any expression with a Boolean `True` or `False` outcome."
   ]
  },
  {
   "cell_type": "code",
   "execution_count": 12,
   "id": "7bfe4896",
   "metadata": {},
   "outputs": [],
   "source": [
    "a, b, c = 0, 0, 1\n",
    "\n",
    "if a > b < c:\n",
    "    print('B is less than a and less than c')"
   ]
  },
  {
   "cell_type": "code",
   "execution_count": 13,
   "id": "ff17ba4a",
   "metadata": {},
   "outputs": [
    {
     "name": "stdout",
     "output_type": "stream",
     "text": [
      "word starts with p\n"
     ]
    }
   ],
   "source": [
    "word = 'python'\n",
    "\n",
    "if word[0] == 'p':\n",
    "    print('word starts with p')"
   ]
  },
  {
   "cell_type": "code",
   "execution_count": 14,
   "id": "63f3582e",
   "metadata": {},
   "outputs": [
    {
     "name": "stdout",
     "output_type": "stream",
     "text": [
      "word starts or end with p\n"
     ]
    }
   ],
   "source": [
    "word = 'python'\n",
    "\n",
    "if word[0] == 'p' or word[-1] == 'p':\n",
    "    print('word starts or end with p')"
   ]
  }
 ],
 "metadata": {
  "celltoolbar": "Slideshow",
  "kernelspec": {
   "display_name": "Python 3 (ipykernel)",
   "language": "python",
   "name": "python3"
  },
  "language_info": {
   "codemirror_mode": {
    "name": "ipython",
    "version": 3
   },
   "file_extension": ".py",
   "mimetype": "text/x-python",
   "name": "python",
   "nbconvert_exporter": "python",
   "pygments_lexer": "ipython3",
   "version": "3.10.9"
  }
 },
 "nbformat": 4,
 "nbformat_minor": 5
}
