{
 "cells": [
  {
   "cell_type": "markdown",
   "id": "3122cada",
   "metadata": {
    "slideshow": {
     "slide_type": "slide"
    }
   },
   "source": [
    "# Introduction to Computer Programming\n",
    "\n",
    "## Testing your code and AI tools \n",
    "\n",
    "\n",
    "<img src=\"https://github.com/engmaths/EMAT10007_2023/blob/main/weekly_content/img/full-colour-logo-UoB.png?raw=true\" width=\"20%\">\n",
    "</p>"
   ]
  },
  {
   "cell_type": "markdown",
   "id": "6897cd19",
   "metadata": {},
   "source": [
    "# Testing\n",
    "\n",
    "It is good practise/necessary to __test__ your code:\n",
    "1. saves time debugging.\n",
    "1. make you think about your code before/as you write it.\n",
    "1. make you write efficient code the first time.\n",
    "1. produces documentation for your program."
   ]
  },
  {
   "cell_type": "markdown",
   "id": "c224d0ef",
   "metadata": {},
   "source": [
    "Consider an example:\n",
    "\n",
    "Write a program that output that checks if a number is equal to 1"
   ]
  },
  {
   "cell_type": "code",
   "execution_count": 179,
   "id": "7a455cae",
   "metadata": {},
   "outputs": [
    {
     "name": "stdout",
     "output_type": "stream",
     "text": [
      "number is 1\n"
     ]
    }
   ],
   "source": [
    "number = 1\n",
    "\n",
    "if number == 1:\n",
    "    print('number is 1')"
   ]
  },
  {
   "cell_type": "markdown",
   "id": "0601fcdd",
   "metadata": {},
   "source": [
    "Now modify the code so that the number to check is input by the user"
   ]
  },
  {
   "cell_type": "code",
   "execution_count": 180,
   "id": "0ff1cb18",
   "metadata": {},
   "outputs": [
    {
     "name": "stdout",
     "output_type": "stream",
     "text": [
      "Input a number \n"
     ]
    }
   ],
   "source": [
    "number = input('Input a number ')\n",
    "\n",
    "if number == 1:\n",
    "    print('number is 1')"
   ]
  },
  {
   "cell_type": "markdown",
   "id": "dcfcfa2a",
   "metadata": {
    "slideshow": {
     "slide_type": "fragment"
    }
   },
   "source": [
    "The code runs without error but there is a bug in the code. \n",
    "\n",
    "<span style=\"color:blue\">What is the bug?</span>\n",
    "\n"
   ]
  },
  {
   "cell_type": "markdown",
   "id": "a4788c85",
   "metadata": {},
   "source": [
    "The Python `assert` keyword allows you to write tests, known as `assertions`:\n"
   ]
  },
  {
   "cell_type": "markdown",
   "id": "9a948f3f",
   "metadata": {
    "slideshow": {
     "slide_type": "fragment"
    }
   },
   "source": [
    "***\n",
    "Assertions test if certain assumptions remain true while you’re developing your code.\n",
    "<br>*This argument is not* `None`\n",
    "<br>*This return value is a string*"
   ]
  },
  {
   "cell_type": "markdown",
   "id": "00807646",
   "metadata": {
    "slideshow": {
     "slide_type": "fragment"
    }
   },
   "source": [
    "If any of your assertions turn false, during development, it shows that you have a bug in your code.\n",
    "\n",
    "This feature is used in other widely used programming languages (e.g. C and Java)"
   ]
  },
  {
   "cell_type": "markdown",
   "id": "e3e491ef",
   "metadata": {},
   "source": [
    "# The syntax of `assert`\n",
    "\n",
    "```python\n",
    "assert expression[, assertion_message]\n",
    "```\n",
    "\n",
    "- `assert`: keyword\n",
    "- `expression`: Any valid Python expression or object with Boolean value\n",
    "- (Optional) `assertion message`: A string describing the issue we are testing for\n"
   ]
  },
  {
   "cell_type": "markdown",
   "id": "de6bc9d5",
   "metadata": {},
   "source": [
    "# Example\n",
    "\n",
    "Write a test that checks that `number` is a positive value. "
   ]
  },
  {
   "cell_type": "code",
   "execution_count": 181,
   "id": "040c3f49",
   "metadata": {},
   "outputs": [],
   "source": [
    "number = 1\n",
    "\n",
    "assert number > 0, 'Number greater than 0 expected, got' + str(number)"
   ]
  },
  {
   "cell_type": "markdown",
   "id": "ebb1896d",
   "metadata": {},
   "source": [
    "`---->` indicates the assertion that has failed\n",
    "\n",
    "The **assertion message** is displayed, if specified "
   ]
  },
  {
   "cell_type": "markdown",
   "id": "97eb9d79",
   "metadata": {},
   "source": [
    "By testing this *now*:\n",
    "1. saves time debugging.\n",
    "1. make you think about your code before/as you write it.\n",
    "1. make you write efficient code the first time.\n",
    "1. produces documentation for your program."
   ]
  },
  {
   "cell_type": "markdown",
   "id": "1a54adc5",
   "metadata": {},
   "source": [
    "Consider a calculation with multiple steps:"
   ]
  },
  {
   "cell_type": "code",
   "execution_count": 182,
   "id": "327ed0d7",
   "metadata": {},
   "outputs": [],
   "source": [
    "import math \n",
    "\n",
    "number = 1\n",
    "\n",
    "scaled_number = number * 5\n",
    "\n",
    "fractional_number = 2 / number \n",
    "\n",
    "processed_number = math.sqrt(fractional_number)"
   ]
  },
  {
   "cell_type": "markdown",
   "id": "ca879e15",
   "metadata": {},
   "source": [
    "If `number` is 0, a zero division error will occur\n",
    "\n",
    "If `number` is -1, an error will occur when finding the square root using the `math.sqrt` function.  \n",
    "\n",
    "The error generated is because of a value much earlier in the program than the line in which the error occurs."
   ]
  },
  {
   "cell_type": "markdown",
   "id": "90798bd8",
   "metadata": {},
   "source": [
    "We need to look back through each mathematical expression to find the cause of the issue.  \n",
    "\n",
    "By adding a test we avoid this problem"
   ]
  },
  {
   "cell_type": "code",
   "execution_count": 183,
   "id": "288c734f",
   "metadata": {},
   "outputs": [
    {
     "ename": "AssertionError",
     "evalue": "Number greater than 0 expected, got 0",
     "output_type": "error",
     "traceback": [
      "\u001b[0;31m---------------------------------------------------------------------------\u001b[0m",
      "\u001b[0;31mAssertionError\u001b[0m                            Traceback (most recent call last)",
      "Cell \u001b[0;32mIn[183], line 5\u001b[0m\n\u001b[1;32m      1\u001b[0m \u001b[38;5;28;01mimport\u001b[39;00m \u001b[38;5;21;01mmath\u001b[39;00m \n\u001b[1;32m      3\u001b[0m number \u001b[38;5;241m=\u001b[39m \u001b[38;5;241m0\u001b[39m\n\u001b[0;32m----> 5\u001b[0m \u001b[38;5;28;01massert\u001b[39;00m number \u001b[38;5;241m>\u001b[39m \u001b[38;5;241m0\u001b[39m, \u001b[38;5;124mf\u001b[39m\u001b[38;5;124m'\u001b[39m\u001b[38;5;124mNumber greater than 0 expected, got \u001b[39m\u001b[38;5;124m'\u001b[39m \u001b[38;5;241m+\u001b[39m \u001b[38;5;28mstr\u001b[39m(number) \n\u001b[1;32m      7\u001b[0m scaled_number \u001b[38;5;241m=\u001b[39m number \u001b[38;5;241m*\u001b[39m \u001b[38;5;241m5\u001b[39m\n\u001b[1;32m      9\u001b[0m fractional_number \u001b[38;5;241m=\u001b[39m \u001b[38;5;241m2\u001b[39m \u001b[38;5;241m/\u001b[39m number \n",
      "\u001b[0;31mAssertionError\u001b[0m: Number greater than 0 expected, got 0"
     ]
    }
   ],
   "source": [
    "import math \n",
    "\n",
    "number = 0\n",
    "\n",
    "assert number > 0, f'Number greater than 0 expected, got ' + str(number) \n",
    "\n",
    "scaled_number = number * 5\n",
    "\n",
    "fractional_number = 2 / number \n",
    "\n",
    "processed_number = math.sqrt(fractional_number)"
   ]
  },
  {
   "cell_type": "markdown",
   "id": "9d13056f",
   "metadata": {},
   "source": [
    "A backslash character (\\) can be used to split an assertion over several lines "
   ]
  },
  {
   "cell_type": "code",
   "execution_count": 184,
   "id": "89877c51",
   "metadata": {},
   "outputs": [],
   "source": [
    "number = 1\n",
    "\n",
    "assert number > 0, \\\n",
    "       f'Number greater than 0 expected, got ' + str(number) "
   ]
  },
  {
   "cell_type": "code",
   "execution_count": 185,
   "id": "0a744b09",
   "metadata": {},
   "outputs": [],
   "source": [
    "number = 1\n",
    "\n",
    "assert number > 0, \\\n",
    "f'Number greater than 0 expected, got ' \\\n",
    "+ str(number) "
   ]
  },
  {
   "cell_type": "markdown",
   "id": "57aeabc7",
   "metadata": {},
   "source": [
    "# Example\n",
    "\n",
    "Write a test that checks that `number` is an integer value "
   ]
  },
  {
   "cell_type": "code",
   "execution_count": 186,
   "id": "32c9d5a2",
   "metadata": {},
   "outputs": [],
   "source": [
    "number = 1\n",
    "\n",
    "assert isinstance(number, int) or  isinstance(number, float)"
   ]
  },
  {
   "cell_type": "markdown",
   "id": "f801ba92",
   "metadata": {},
   "source": [
    "# Example\n",
    "\n",
    "Write a test that checks that `number` is a numerical value (type `float` or `int`)"
   ]
  },
  {
   "cell_type": "code",
   "execution_count": 187,
   "id": "e5aff0ee",
   "metadata": {},
   "outputs": [],
   "source": [
    "number = 1.0\n",
    "\n",
    "assert isinstance(number, int) or  isinstance(number, float)"
   ]
  },
  {
   "cell_type": "markdown",
   "id": "ad41fcec",
   "metadata": {},
   "source": [
    "# Example\n",
    "\n",
    "Write a program that output that checks if a number is equal to 1"
   ]
  },
  {
   "cell_type": "code",
   "execution_count": 188,
   "id": "e6dbea1e",
   "metadata": {},
   "outputs": [
    {
     "name": "stdout",
     "output_type": "stream",
     "text": [
      "Input a number \n"
     ]
    }
   ],
   "source": [
    "number = input('Input a number ')\n",
    "\n",
    "# assert isinstance(number, int) or  isinstance(number, float), \\\n",
    "#        'Expected numerical value, returned otherwise'\n",
    "\n",
    "if number == 1:\n",
    "    print('number is 1')"
   ]
  },
  {
   "cell_type": "markdown",
   "id": "1255c463",
   "metadata": {},
   "source": [
    "# Multiple assertions \n",
    "\n",
    "If more than one assertion is included, the program will terminate at the first assertion that evaluates to `False`"
   ]
  },
  {
   "cell_type": "code",
   "execution_count": 189,
   "id": "f3225cd4",
   "metadata": {},
   "outputs": [],
   "source": [
    "a = 1\n",
    "b = 1\n",
    "\n",
    "assert isinstance(a, int)\n",
    "\n",
    "assert isinstance(b, int)"
   ]
  },
  {
   "cell_type": "markdown",
   "id": "5be9c68e",
   "metadata": {},
   "source": [
    "# When to use assertions \n",
    "\n",
    "### When developing/debugging code\n",
    "It is considered good practise to:\n",
    "<br>a) write the test you want your code to pass\n",
    "<br>b) check the test passes (for different test cases)\n",
    "<br>c) fix the code until it passes the test\n",
    "\n",
    "### When documenting code\n",
    "To alert developers (e.g. yourself, team members) to a potential bug \n",
    "<br>You can use a comment, but an assertion can be more effective as the code will terminate if the condition is violated "
   ]
  },
  {
   "cell_type": "code",
   "execution_count": 190,
   "id": "8e4b0b62",
   "metadata": {},
   "outputs": [
    {
     "ename": "ZeroDivisionError",
     "evalue": "division by zero",
     "output_type": "error",
     "traceback": [
      "\u001b[0;31m---------------------------------------------------------------------------\u001b[0m",
      "\u001b[0;31mZeroDivisionError\u001b[0m                         Traceback (most recent call last)",
      "Cell \u001b[0;32mIn[190], line 10\u001b[0m\n\u001b[1;32m      6\u001b[0m \u001b[38;5;66;03m# assert number > 0, f'Number greater than 0 expected, got ' + str(number) \u001b[39;00m\n\u001b[1;32m      8\u001b[0m scaled_number \u001b[38;5;241m=\u001b[39m number \u001b[38;5;241m*\u001b[39m \u001b[38;5;241m5\u001b[39m\n\u001b[0;32m---> 10\u001b[0m fractional_number \u001b[38;5;241m=\u001b[39m \u001b[38;5;241;43m2\u001b[39;49m\u001b[43m \u001b[49m\u001b[38;5;241;43m/\u001b[39;49m\u001b[43m \u001b[49m\u001b[43mnumber\u001b[49m \n\u001b[1;32m     12\u001b[0m processed_number \u001b[38;5;241m=\u001b[39m math\u001b[38;5;241m.\u001b[39msqrt(fractional_number)\n",
      "\u001b[0;31mZeroDivisionError\u001b[0m: division by zero"
     ]
    }
   ],
   "source": [
    "import math \n",
    "\n",
    "# Must be greater than 0\n",
    "number = 0 \n",
    "\n",
    "# assert number > 0, f'Number greater than 0 expected, got ' + str(number) \n",
    "\n",
    "scaled_number = number * 5\n",
    "\n",
    "fractional_number = 2 / number \n",
    "\n",
    "processed_number = math.sqrt(fractional_number)"
   ]
  },
  {
   "cell_type": "markdown",
   "id": "e38dcc58",
   "metadata": {},
   "source": [
    "# Common Assertion Formats"
   ]
  },
  {
   "cell_type": "markdown",
   "id": "f894d0b5",
   "metadata": {},
   "source": [
    "# Example: Comparison assertions \n",
    "\n",
    "Assertions that make use of comparison operators"
   ]
  },
  {
   "cell_type": "code",
   "execution_count": 191,
   "id": "deb69618",
   "metadata": {},
   "outputs": [],
   "source": [
    "number = 2\n",
    "\n",
    "assert number > 0 # checks if number is positive"
   ]
  },
  {
   "cell_type": "code",
   "execution_count": 192,
   "id": "71eaccd6",
   "metadata": {},
   "outputs": [],
   "source": [
    "number = -1\n",
    "\n",
    "assert number < 0 # checks if number is negative"
   ]
  },
  {
   "cell_type": "markdown",
   "id": "de833f93",
   "metadata": {},
   "source": [
    "# Example: Membership assertions \n",
    "\n",
    "Assertions that test for membership of a collection \n",
    "\n",
    "Write a function that returns the file extension of an image file with file path specified \n"
   ]
  },
  {
   "cell_type": "markdown",
   "id": "4ab09cc7",
   "metadata": {
    "slideshow": {
     "slide_type": "fragment"
    }
   },
   "source": [
    "### Developing/debugging \n",
    "a) write the test you want your code to pass\n",
    "<br>b) check the test passes (for different test cases)\n",
    "<br>c) fix the code until it passes the test"
   ]
  },
  {
   "cell_type": "code",
   "execution_count": 193,
   "id": "e202383e",
   "metadata": {},
   "outputs": [],
   "source": [
    "def return_file_extension(path):\n",
    "    \"\"\"\n",
    "    Returns the file extension of an image file with file path specified\n",
    "    \"\"\"\n",
    "    return path[-4:]\n",
    "\n",
    "#     start = path.find('.')\n",
    "#     return path[start:]"
   ]
  },
  {
   "cell_type": "code",
   "execution_count": 194,
   "id": "81e5fa7f",
   "metadata": {},
   "outputs": [],
   "source": [
    "extension = return_file_extension('image.png')\n",
    "\n",
    "assert extension in ['.png', '.pdf', '.jpg', '.jpeg']"
   ]
  },
  {
   "cell_type": "markdown",
   "id": "d9ad6df4",
   "metadata": {},
   "source": [
    "# Example: Type-check assertions \n",
    "Assertions that check if an object is an instance of a certain class or type"
   ]
  },
  {
   "cell_type": "code",
   "execution_count": 195,
   "id": "afaccdc0",
   "metadata": {},
   "outputs": [],
   "source": [
    "a = 1\n",
    "b = 1\n",
    "\n",
    "assert isinstance(a, int)\n",
    "\n",
    "assert isinstance(b, int)"
   ]
  },
  {
   "cell_type": "markdown",
   "id": "6cb698c9",
   "metadata": {},
   "source": [
    "Multiple elements of a data structure can be tested using `all` and `any`"
   ]
  },
  {
   "cell_type": "markdown",
   "id": "a1942e79",
   "metadata": {},
   "source": [
    "# Example `all` \n",
    "\n",
    "If all values pass the test, the test passes\n",
    "\n",
    "Test that there are no empty values in the list. "
   ]
  },
  {
   "cell_type": "code",
   "execution_count": 196,
   "id": "65e03ba5",
   "metadata": {},
   "outputs": [
    {
     "ename": "SyntaxError",
     "evalue": "unterminated string literal (detected at line 3) (4081214226.py, line 3)",
     "output_type": "error",
     "traceback": [
      "\u001b[0;36m  Cell \u001b[0;32mIn[196], line 3\u001b[0;36m\u001b[0m\n\u001b[0;31m    assert all(cities), 'Expected all non-empty strings\u001b[0m\n\u001b[0m                        ^\u001b[0m\n\u001b[0;31mSyntaxError\u001b[0m\u001b[0;31m:\u001b[0m unterminated string literal (detected at line 3)\n"
     ]
    }
   ],
   "source": [
    "cities = ['London', 'Bristol', '', 'Cardiff']\n",
    "\n",
    "assert all(cities), 'Expected all non-empty strings "
   ]
  },
  {
   "cell_type": "markdown",
   "id": "de8b0722",
   "metadata": {},
   "source": [
    "# Example `all` \n",
    "\n",
    "Test that there are no duplicates in the list\n",
    "\n",
    "The Python list method `count` can be used to return the number of instances of an object in the list. "
   ]
  },
  {
   "cell_type": "code",
   "execution_count": 197,
   "id": "a13b7a10",
   "metadata": {},
   "outputs": [],
   "source": [
    "cities = ['London', 'Bristol', 'Cardiff']\n",
    "\n",
    "# Find the number of times each city appears in the list\n",
    "occurances = [cities.count(c) for c in cities]\n",
    "\n",
    "# Indentify which cities appear only once  \n",
    "unique_vals = [cities.count(c) == 1 for c in cities]\n",
    "\n",
    "assert all(unique_vals), 'Expected only unique values'"
   ]
  },
  {
   "cell_type": "markdown",
   "id": "db072196",
   "metadata": {},
   "source": [
    "# Example `any` \n",
    "\n",
    "If one value passes the test, the test passes\n",
    "\n",
    "Test there is at least one non-empty string in the list"
   ]
  },
  {
   "cell_type": "code",
   "execution_count": 198,
   "id": "1e4e02a7",
   "metadata": {},
   "outputs": [],
   "source": [
    "cities = ['London', 'Bristol', '', 'Cardiff']\n",
    "\n",
    "assert any(cities), 'Expected at least one non-empty string'"
   ]
  },
  {
   "cell_type": "markdown",
   "id": "53325f82",
   "metadata": {},
   "source": [
    "# AI tools for programming \n",
    "\n",
    "<span style=\"color:blue\">What are these?</span>"
   ]
  },
  {
   "cell_type": "markdown",
   "id": "694b917b",
   "metadata": {},
   "source": [
    "ChatGPT (Generative Pre-trained Transformer), is an AI model, pre-trained with data from the internet, to generate sequences of human-like text...including code. \n",
    "\n",
    "<img src=\"https://github.com/engmaths/EMAT10007_2023/blob/main/weekly_content/img/AI.png?raw=true\" width=\"20%\">\n",
    "</p>"
   ]
  },
  {
   "cell_type": "markdown",
   "id": "f531635f",
   "metadata": {
    "slideshow": {
     "slide_type": "slide"
    }
   },
   "source": [
    "# Example: (week 1)\n",
    "\n",
    "Find the volume, $V=41.89\\dot{3}$ cm $^3$, of a cone \n",
    "\n",
    "$V = \\frac{Ah}{3}$\n",
    "\n",
    "where:\n",
    "<br> $\\pi = 3.142$\n",
    "<br> height, $h$ = 10 cm\n",
    "<br> base radius, $r$ = 2 cm\n",
    "<br> base area, $A= \\pi r ^ 2$\n",
    "\n",
    "<img src=\"https://github.com/engmaths/EMAT10007_2023/blob/main/weekly_content/img/cone.png?raw=true\" width=\"20%\">\n",
    "</p>"
   ]
  },
  {
   "cell_type": "markdown",
   "id": "5e1cc1ed",
   "metadata": {},
   "source": [
    "ChatGPT solution "
   ]
  },
  {
   "cell_type": "code",
   "execution_count": 199,
   "id": "3ac92a47",
   "metadata": {},
   "outputs": [
    {
     "name": "stdout",
     "output_type": "stream",
     "text": [
      "The base area of the cone is 12.566 cm²\n",
      "The volume of the cone is 41.888 cm³\n"
     ]
    }
   ],
   "source": [
    "import math\n",
    "\n",
    "# Given values\n",
    "h = 10\n",
    "r = 2\n",
    "\n",
    "# Calculate base area\n",
    "A = math.pi * r**2\n",
    "\n",
    "# Calculate volume using the base area\n",
    "V_cone = A * h / 3\n",
    "\n",
    "print(f\"The base area of the cone is {A:.3f} cm²\")\n",
    "print(f\"The volume of the cone is {V_cone:.3f} cm³\")"
   ]
  },
  {
   "cell_type": "markdown",
   "id": "22790d65",
   "metadata": {},
   "source": [
    "# Uses of AI tools"
   ]
  },
  {
   "cell_type": "markdown",
   "id": "e6cb0bed",
   "metadata": {},
   "source": [
    "### Debugging code\n",
    "\n",
    "e.g. Why doesn't the following code work? \n",
    "\n",
    "```python\n",
    "for i in range(4)\n",
    "    print(i)\n",
    "```"
   ]
  },
  {
   "cell_type": "markdown",
   "id": "c0bf0c45",
   "metadata": {},
   "source": [
    "### An alternative to search engines \n",
    "\n",
    "e.g. How can I generate a scatter plot of some data in Python? "
   ]
  },
  {
   "cell_type": "markdown",
   "id": "8906d977",
   "metadata": {},
   "source": [
    "### Helping you write better code and (sometimes) writing it for you\n",
    "\n",
    "Handling tedious tasks \n",
    "\n",
    "Writing assertions to test your code\n",
    "\n",
    "Preparing for industry / critiquing code "
   ]
  },
  {
   "cell_type": "markdown",
   "id": "4887bd59",
   "metadata": {},
   "source": [
    "# Why do we need to learn prpogramming if AI can do it for us? \n",
    "\n",
    "To maximise the usefulness of these tools, it helps to understand programming fundamentals:\n",
    "- algorithmic thinking \n",
    "- framing your question the right way\n",
    "- noticing when the response given does not make sense - ChatGPT sometimes writes plausible-sounding but incorrect or nonsensical answers"
   ]
  },
  {
   "cell_type": "markdown",
   "id": "99aefa6f",
   "metadata": {},
   "source": [
    "Consider the analogy - having a fundamental understanding of mathematics is needed to use the calculator "
   ]
  },
  {
   "cell_type": "markdown",
   "id": "05de6241",
   "metadata": {
    "slideshow": {
     "slide_type": "slide"
    }
   },
   "source": [
    "# Exercise (week 7)\n",
    "\n",
    "A mass is thrown upwards with speed $v_0 = 10$ m/s.  The equation for the height\n",
    "is given by\n",
    "$$\n",
    "h(t) = v_0 t - \\frac{1}{2}\\, g t^2,\n",
    "$$\n",
    "where $t$ is time and $g = 9.8$ m/s$^2$ is the gravitational acceleration.\n",
    "\n",
    "Define a Python function and use it to calculate $h(1)$, i.e. the height of the mass after 1 s."
   ]
  },
  {
   "cell_type": "markdown",
   "id": "0323159d",
   "metadata": {},
   "source": [
    "Chat GPT solution"
   ]
  },
  {
   "cell_type": "code",
   "execution_count": 200,
   "id": "e37c0d53",
   "metadata": {},
   "outputs": [
    {
     "name": "stdout",
     "output_type": "stream",
     "text": [
      "The height after 1 second is 5.10 meters.\n"
     ]
    }
   ],
   "source": [
    "def calculate_height(time):\n",
    "    v0 = 10  # Initial speed in m/s\n",
    "    g = 9.8  # Gravitational acceleration in m/s^2\n",
    "\n",
    "    # Calculate height using the provided formula\n",
    "    height = v0 * time - 0.5 * g * time**2\n",
    "\n",
    "    return height\n",
    "\n",
    "# Calculate h(1) - the height after 1 second\n",
    "time_at_1_second = 1\n",
    "height_at_1_second = calculate_height(time_at_1_second)\n",
    "\n",
    "print(f\"The height after {time_at_1_second} second is {height_at_1_second:.2f} meters.\")"
   ]
  },
  {
   "cell_type": "markdown",
   "id": "4596db7c",
   "metadata": {},
   "source": [
    "<span style=\"color:blue\">What do you think of this solution? </span>\n",
    "\n",
    "<span style=\"color:blue\">Is there anything you would change? </span>\n",
    "\n",
    "\n",
    "\n",
    "\n"
   ]
  },
  {
   "cell_type": "code",
   "execution_count": 201,
   "id": "2f9c18ee",
   "metadata": {},
   "outputs": [
    {
     "name": "stdout",
     "output_type": "stream",
     "text": [
      "The height after 1 second is 5.10 metres.\n"
     ]
    }
   ],
   "source": [
    "def calculate_height(time, v0 = 10, g=9.8):\n",
    "\n",
    "    # Calculate height \n",
    "    height = v0 * time - 0.5 * g * time**2\n",
    "\n",
    "    return height\n",
    "\n",
    "# Calculate h(1) - the height after 1 second\n",
    "time = 1\n",
    "height = calculate_height(time)\n",
    "\n",
    "print(f\"The height after {time} second is {height:.2f} metres.\")"
   ]
  },
  {
   "cell_type": "markdown",
   "id": "0a2580b7",
   "metadata": {},
   "source": [
    "# Example: Framing your question the right way\n",
    "\n",
    "\"Modify the function so that it can be used with any value of gravity and any initial velocity\""
   ]
  },
  {
   "cell_type": "markdown",
   "id": "dd7c71d7",
   "metadata": {},
   "source": [
    "ChatGPT solution"
   ]
  },
  {
   "cell_type": "code",
   "execution_count": 202,
   "id": "0aa8ca06",
   "metadata": {},
   "outputs": [
    {
     "name": "stdout",
     "output_type": "stream",
     "text": [
      "The height after 1 second is 5.10 meters.\n"
     ]
    }
   ],
   "source": [
    "def calculate_height(time, v0, g):\n",
    "    # Calculate height using the provided formula\n",
    "    height = v0 * time - 0.5 * g * time**2\n",
    "\n",
    "    return height\n",
    "\n",
    "# Given values\n",
    "v0 = 10  # Initial speed in m/s\n",
    "g = 9.8  # Gravitational acceleration in m/s^2\n",
    "\n",
    "# Calculate h(1) - the height after 1 second\n",
    "time_at_1_second = 1\n",
    "height_at_1_second = calculate_height(time_at_1_second, v0, g)\n",
    "\n",
    "print(f\"The height after {time_at_1_second} second is {height_at_1_second:.2f} meters.\")"
   ]
  },
  {
   "cell_type": "markdown",
   "id": "a1598e34",
   "metadata": {},
   "source": [
    "\"Now modify the calculate height function so that the default values of initial velocity and gravity are used unless otherwise specified\""
   ]
  },
  {
   "cell_type": "code",
   "execution_count": 203,
   "id": "1ca80587",
   "metadata": {},
   "outputs": [
    {
     "ename": "SyntaxError",
     "evalue": "invalid syntax (1817100208.py, line 1)",
     "output_type": "error",
     "traceback": [
      "\u001b[0;36m  Cell \u001b[0;32mIn[203], line 1\u001b[0;36m\u001b[0m\n\u001b[0;31m    ChatGPT solution\u001b[0m\n\u001b[0m            ^\u001b[0m\n\u001b[0;31mSyntaxError\u001b[0m\u001b[0;31m:\u001b[0m invalid syntax\n"
     ]
    }
   ],
   "source": [
    "ChatGPT solution"
   ]
  },
  {
   "cell_type": "code",
   "execution_count": 204,
   "id": "fba46012",
   "metadata": {},
   "outputs": [
    {
     "name": "stdout",
     "output_type": "stream",
     "text": [
      "The height after 1 second is 5.10 meters.\n",
      "The height after 2 seconds with custom values is 10.40 meters.\n"
     ]
    }
   ],
   "source": [
    "def calculate_height(time, v0=10, g=9.8):\n",
    "    # Calculate height using the provided formula\n",
    "    height = v0 * time - 0.5 * g * time**2\n",
    "\n",
    "    return height\n",
    "\n",
    "# Example usage with default values\n",
    "time_at_1_second = 1\n",
    "height_at_1_second = calculate_height(time_at_1_second)\n",
    "\n",
    "print(f\"The height after {time_at_1_second} second is {height_at_1_second:.2f} meters.\")\n",
    "\n",
    "# Example usage with custom values\n",
    "custom_height = calculate_height(2, v0=15, g=9.8)\n",
    "print(f\"The height after 2 seconds with custom values is {custom_height:.2f} meters.\")"
   ]
  },
  {
   "cell_type": "markdown",
   "id": "ece8aaec",
   "metadata": {},
   "source": [
    "# Example: Algorithmic thinking \n",
    "\n",
    "Write a model in python to investigate the effect of the proximity of wind turbines on power generation "
   ]
  },
  {
   "cell_type": "code",
   "execution_count": 205,
   "id": "529dcf2b",
   "metadata": {},
   "outputs": [
    {
     "data": {
      "image/png": "[encoded data removed]",
      "text/plain": [
       "<Figure size 640x480 with 1 Axes>"
      ]
     },
     "metadata": {},
     "output_type": "display_data"
    }
   ],
   "source": [
    "import numpy as np\n",
    "import matplotlib.pyplot as plt\n",
    "\n",
    "def wind_power_model(wind_speed, proximity_factor=1.0):\n",
    "    \"\"\"\n",
    "    Simple wind power generation model.\n",
    "\n",
    "    Parameters:\n",
    "    - wind_speed: Wind speed in m/s.\n",
    "    - proximity_factor: A factor representing the effect of turbine spacing on power generation.\n",
    "\n",
    "    Returns:\n",
    "    - Power generated by the wind turbine.\n",
    "    \"\"\"\n",
    "    # This is a simplified model. You might need a more complex model based on actual data.\n",
    "    base_power = 100  # Base power output at reference wind speed\n",
    "    power_generated = base_power * wind_speed * proximity_factor\n",
    "\n",
    "    return power_generated\n",
    "\n",
    "def simulate_wind_farm(wind_speeds, proximity_factor=1.0):\n",
    "    \"\"\"\n",
    "    Simulate power generation for a wind farm.\n",
    "\n",
    "    Parameters:\n",
    "    - wind_speeds: Array of wind speeds over time.\n",
    "    - proximity_factor: A factor representing the effect of turbine spacing on power generation.\n",
    "\n",
    "    Returns:\n",
    "    - Array of power generated by the wind farm over time.\n",
    "    \"\"\"\n",
    "    power_generated = [wind_power_model(speed, proximity_factor) for speed in wind_speeds]\n",
    "    return np.array(power_generated)\n",
    "\n",
    "# Example simulation with varying wind speeds\n",
    "wind_speeds = np.linspace(5, 20, 100)  # Wind speeds from 5 to 20 m/s\n",
    "proximity_factor_1 = 1.0  # Default turbine spacing\n",
    "proximity_factor_2 = 0.8  # Reduced turbine spacing\n",
    "\n",
    "power_generated_1 = simulate_wind_farm(wind_speeds, proximity_factor_1)\n",
    "power_generated_2 = simulate_wind_farm(wind_speeds, proximity_factor_2)\n",
    "\n",
    "# Plot the results\n",
    "plt.plot(wind_speeds, power_generated_1, label='Default Turbine Spacing')\n",
    "plt.plot(wind_speeds, power_generated_2, label='Reduced Turbine Spacing')\n",
    "plt.xlabel('Wind Speed (m/s)')\n",
    "plt.ylabel('Power Generated')\n",
    "plt.title('Effect of Turbine Spacing on Power Generation')\n",
    "plt.legend()\n",
    "plt.show()"
   ]
  },
  {
   "cell_type": "markdown",
   "id": "a91a5366",
   "metadata": {},
   "source": [
    "Write a python function to calculate the volume of a bucket using height, radius and thickness"
   ]
  },
  {
   "cell_type": "code",
   "execution_count": 206,
   "id": "8ff4cf42",
   "metadata": {},
   "outputs": [
    {
     "name": "stdout",
     "output_type": "stream",
     "text": [
      "The volume of the bucket with thickness is: 43.19689898685966 cubic meters\n"
     ]
    }
   ],
   "source": [
    "import math\n",
    "\n",
    "def calculate_bucket_volume_with_thickness(radius_outer, radius_inner, height):\n",
    "    \"\"\"\n",
    "    Calculate the volume of a bucket with thickness (cylindrical shape).\n",
    "\n",
    "    Parameters:\n",
    "    - radius_outer: Outer radius of the bucket.\n",
    "    - radius_inner: Inner radius of the bucket.\n",
    "    - height: Height of the bucket.\n",
    "\n",
    "    Returns:\n",
    "    - Volume of the bucket.\n",
    "    \"\"\"\n",
    "    # Check if the inputs are non-negative\n",
    "    if radius_outer < 0 or radius_inner < 0 or height < 0:\n",
    "        raise ValueError(\"Radius and height must be non-negative.\")\n",
    "\n",
    "    # Calculate the volume of the bucket with thickness\n",
    "    volume = math.pi * height * (radius_outer**2 - radius_inner**2)\n",
    "\n",
    "    return volume\n",
    "\n",
    "# Example usage:\n",
    "outer_radius_of_bucket = 3.0  # in meters\n",
    "inner_radius_of_bucket = 2.5  # in meters\n",
    "height_of_bucket = 5.0  # in meters\n",
    "\n",
    "bucket_volume_with_thickness = calculate_bucket_volume_with_thickness(\n",
    "    outer_radius_of_bucket, inner_radius_of_bucket, height_of_bucket\n",
    ")\n",
    "\n",
    "print(f\"The volume of the bucket with thickness is: {bucket_volume_with_thickness} cubic meters\")\n",
    "\n",
    "\n",
    "\n"
   ]
  },
  {
   "cell_type": "markdown",
   "id": "3ced2a03",
   "metadata": {},
   "source": [
    "Write a python function to calculate the inside volume of a cylinder with height = 5cm, radius = 2cm and wall thickness 2mm\n",
    "\n",
    "Which interpretation? "
   ]
  },
  {
   "cell_type": "markdown",
   "id": "f504916c",
   "metadata": {},
   "source": [
    "ChatGPT solution"
   ]
  },
  {
   "cell_type": "code",
   "execution_count": 207,
   "id": "3f41fd85",
   "metadata": {},
   "outputs": [],
   "source": [
    "import math\n",
    "\n",
    "def calculate_inner_cylinder_volume(total_height, outer_radius, wall_thickness):\n",
    "    \"\"\"\n",
    "    Calculate the volume inside a cylinder (excluding the material of the walls).\n",
    "\n",
    "    Parameters:\n",
    "    - total_height: Total height of the cylinder.\n",
    "    - outer_radius: Outer radius of the cylinder.\n",
    "    - wall_thickness: Thickness of the cylinder's wall.\n",
    "\n",
    "    Returns:\n",
    "    - Volume inside the cylinder.\n",
    "    \"\"\"\n",
    "    # Check if the inputs are non-negative\n",
    "    if total_height < 0 or outer_radius < 0 or wall_thickness < 0:\n",
    "        raise ValueError(\"Height, radius, and thickness must be non-negative.\")\n",
    "\n",
    "    # Calculate the inner radius\n",
    "    inner_radius = outer_radius - wall_thickness\n",
    "\n",
    "    # Calculate the volume inside the cylinder\n",
    "    volume = math.pi * total_height * (inner_radius**2)\n",
    "\n",
    "    return volume\n",
    "\n",
    "# Example usage:\n",
    "total_height_of_cylinder = 5.0  # in centimeters\n",
    "outer_radius_of_cylinder = 2.0  # in centimeters\n",
    "wall_thickness_of_cylinder = 0.2  # in centimeters (2mm)\n",
    "\n",
    "inner_cylinder_volume = calculate_inner_cylinder_volume(\n",
    "    total_height_of_cylinder, outer_radius_of_cylinder, wall_thickness_of_cylinder\n",
    ")\n"
   ]
  },
  {
   "cell_type": "markdown",
   "id": "f7402992",
   "metadata": {},
   "source": [
    "Test case\n",
    "\n",
    "- height = 2\n",
    "- outer radius = 1\n",
    "- wall thickness = 0.1\n",
    "\n",
    "\n",
    "$$\\pi h r ^ 2 =  \\pi (2-2(0.1)) (1-0.1)^2 = 4.58$$ \n",
    "\n",
    "\n",
    "\n",
    "\n",
    "\n"
   ]
  },
  {
   "cell_type": "markdown",
   "id": "91574182",
   "metadata": {},
   "source": [
    "Test case\n",
    "\n",
    "- height = 2\n",
    "- outer radius = 1\n",
    "- wall thickness = 0.1\n",
    "\n",
    "\n",
    "$$\\pi h r ^ 2 =  \\pi 2 (1-0.1)^2 = 5.09$$ \n",
    "\n",
    "\n",
    "\n",
    "\n",
    "\n"
   ]
  },
  {
   "cell_type": "code",
   "execution_count": 208,
   "id": "8bf5e481",
   "metadata": {},
   "outputs": [
    {
     "ename": "AssertionError",
     "evalue": "",
     "output_type": "error",
     "traceback": [
      "\u001b[0;31m---------------------------------------------------------------------------\u001b[0m",
      "\u001b[0;31mAssertionError\u001b[0m                            Traceback (most recent call last)",
      "Cell \u001b[0;32mIn[208], line 1\u001b[0m\n\u001b[0;32m----> 1\u001b[0m \u001b[38;5;28;01massert\u001b[39;00m \u001b[38;5;28mround\u001b[39m(calculate_inner_cylinder_volume(\u001b[38;5;241m2\u001b[39m, \u001b[38;5;241m1\u001b[39m, \u001b[38;5;241m0.1\u001b[39m), \u001b[38;5;241m2\u001b[39m) \u001b[38;5;241m==\u001b[39m \u001b[38;5;241m4.58\u001b[39m\n",
      "\u001b[0;31mAssertionError\u001b[0m: "
     ]
    }
   ],
   "source": [
    "assert round(calculate_inner_cylinder_volume(2, 1, 0.1), 2) == 4.58"
   ]
  },
  {
   "cell_type": "markdown",
   "id": "c6b562f1",
   "metadata": {},
   "source": [
    "\"I wanted the function to compute the internal volume of a solid cylinder, with wall thickness, height and radius as before and solid walls at the cylinder circumference, base and lid\""
   ]
  },
  {
   "cell_type": "markdown",
   "id": "4eef46c2",
   "metadata": {},
   "source": [
    "ChatGPT solution:\n",
    "\n",
    "Ah, I understand. If you want to calculate the volume of the material inside a cylinder, including the walls, with solid walls at the circumference, base, and lid, here's a function for that:"
   ]
  },
  {
   "cell_type": "code",
   "execution_count": 209,
   "id": "eecee23b",
   "metadata": {},
   "outputs": [],
   "source": [
    "import math\n",
    "\n",
    "def calculate_internal_cylinder_volume(total_height, outer_radius, wall_thickness):\n",
    "    \"\"\"\n",
    "    Calculate the internal volume of a solid cylinder with walls at the circumference, base, and lid.\n",
    "\n",
    "    Parameters:\n",
    "    - total_height: Total height of the cylinder.\n",
    "    - outer_radius: Outer radius of the cylinder.\n",
    "    - wall_thickness: Thickness of the cylinder's walls.\n",
    "\n",
    "    Returns:\n",
    "    - Internal volume of the solid cylinder.\n",
    "    \"\"\"\n",
    "    # Check if the inputs are non-negative\n",
    "    if total_height < 0 or outer_radius < 0 or wall_thickness < 0:\n",
    "        raise ValueError(\"Height, radius, and thickness must be non-negative.\")\n",
    "\n",
    "    # Calculate the internal radius\n",
    "    inner_radius = outer_radius - wall_thickness\n",
    "\n",
    "    # Calculate the internal volume of the solid cylinder\n",
    "    volume = math.pi * (inner_radius**2) * (total_height - 2 * wall_thickness)\n",
    "\n",
    "    return volume\n"
   ]
  },
  {
   "cell_type": "code",
   "execution_count": 210,
   "id": "b1ad8a33",
   "metadata": {},
   "outputs": [],
   "source": [
    "assert round(calculate_internal_cylinder_volume(2, 1, 0.1), 2) == 4.58"
   ]
  },
  {
   "cell_type": "markdown",
   "id": "4c75a0a0",
   "metadata": {},
   "source": [
    "Write a message to my programming class to congratulate them on the work they have put in this term"
   ]
  },
  {
   "cell_type": "markdown",
   "id": "d4b0914f",
   "metadata": {},
   "source": [
    "ChatGPT solution:\n",
    "\n",
    "Congratulations, Programming Class! Your hard work this term has been truly commendable. Your dedication to mastering complex concepts and collaborating on projects has created an engaging and positive learning environment. I'm impressed by the strides you've made in programming skills and your supportive camaraderie. As you celebrate your successes, remember these achievements form a solid foundation for your future endeavors. Keep up the fantastic work, and I'm excited to continue our programming journey in the next term. Enjoy a well-deserved break!"
   ]
  },
  {
   "cell_type": "markdown",
   "id": "4eeaebbf",
   "metadata": {
    "slideshow": {
     "slide_type": "slide"
    }
   },
   "source": [
    "\n",
    "\n",
    "### Want some more information?\n",
    "__`assert`__\n",
    "<br>https://realpython.com/python-assert-statement/\n"
   ]
  },
  {
   "cell_type": "code",
   "execution_count": null,
   "id": "75077d9b",
   "metadata": {},
   "outputs": [],
   "source": []
  }
 ],
 "metadata": {
  "celltoolbar": "Slideshow",
  "kernelspec": {
   "display_name": "Python 3 (ipykernel)",
   "language": "python",
   "name": "python3"
  },
  "language_info": {
   "codemirror_mode": {
    "name": "ipython",
    "version": 3
   },
   "file_extension": ".py",
   "mimetype": "text/x-python",
   "name": "python",
   "nbconvert_exporter": "python",
   "pygments_lexer": "ipython3",
   "version": "3.10.9"
  }
 },
 "nbformat": 4,
 "nbformat_minor": 5
}
