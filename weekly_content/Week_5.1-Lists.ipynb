{
 "cells": [
  {
   "cell_type": "markdown",
   "metadata": {
    "slideshow": {
     "slide_type": "slide"
    }
   },
   "source": [
    "# Introduction to Computer Programming\n",
    "\n",
    "## Week 5.1: Lists\n",
    "\n",
    "* * *\n",
    "\n",
    "<img src=\"img/full-colour-logo-UoB.png\" alt=\"Bristol\" style=\"width: 300px;\"/>\n"
   ]
  },
  {
   "cell_type": "markdown",
   "metadata": {
    "slideshow": {
     "slide_type": "slide"
    }
   },
   "source": [
    "# Motivation\n",
    "\n",
    "So far, we have encountered four types of variables: int, float, string, bool.\n",
    "\n",
    "Now imagine that we are studying mobile phone usage and obtain this data:\n",
    "\n",
    "| Name | Number | Provider | Data limit |\n",
    "| :-: | :-: | :-: | :-: | \n",
    "| Paul | 905 464 2453 | Vodafone | 10 GB\n",
    "| John | 886 964 1525 | O2 | Unlimited\n",
    "| Ringo | 334 362 1357 | Vodafone | 20 GB\n",
    "| George| 556 631 2535 | Three | 15 GB\n",
    "\n",
    "**Question**: How can we use Python to store and analyse this data?"
   ]
  },
  {
   "cell_type": "markdown",
   "metadata": {
    "slideshow": {
     "slide_type": "slide"
    }
   },
   "source": [
    "# Aims\n",
    "\n",
    "This week we will introduce three new data types that extend the functionality of Python:\n",
    "\n",
    "* Lists\n",
    "* Tuples\n",
    "* Dictionaries\n",
    "\n",
    "We will also introduce the concepts of ordered, iterable, and mutable data types"
   ]
  },
  {
   "cell_type": "markdown",
   "metadata": {
    "slideshow": {
     "slide_type": "slide"
    }
   },
   "source": [
    "# Lists\n",
    "\n",
    "A list is a variable type that is used to store collections of values\n",
    "\n",
    "These values must be separated by commas and placed between square brackets"
   ]
  },
  {
   "cell_type": "markdown",
   "metadata": {
    "slideshow": {
     "slide_type": "slide"
    }
   },
   "source": [
    "**Example**: Use a list to store the values 1, 2, 3, and 4 in a variable called A"
   ]
  },
  {
   "cell_type": "code",
   "execution_count": 2,
   "metadata": {},
   "outputs": [
    {
     "name": "stdout",
     "output_type": "stream",
     "text": [
      "[1, 2, 3, 4]\n",
      "<class 'list'>\n"
     ]
    }
   ],
   "source": [
    "A = [1, 2, 3, 4]\n",
    "print(A)\n",
    "print(type(A))"
   ]
  },
  {
   "cell_type": "markdown",
   "metadata": {
    "slideshow": {
     "slide_type": "slide"
    }
   },
   "source": [
    "# List elements\n",
    "\n",
    "The entries in a list are called **elements**.\n",
    "\n",
    "The elements of a list do not have to have the same data type.\n",
    "\n",
    "A single list might contain ints, floats, strings, and bools!"
   ]
  },
  {
   "cell_type": "code",
   "execution_count": 11,
   "metadata": {},
   "outputs": [
    {
     "name": "stdout",
     "output_type": "stream",
     "text": [
      "[1, 1.0, 'one', True]\n"
     ]
    }
   ],
   "source": [
    "A = [1, 1.0, 'one', True]\n",
    "print(A)"
   ]
  },
  {
   "cell_type": "markdown",
   "metadata": {},
   "source": [
    "# Nested lists\n",
    "\n",
    "The elements of a list can also be lists.\n",
    "\n",
    "Lists of lists are called **nested** lists.\n",
    "\n",
    "Nested lists can be used to store arrays of numbers, such as matrices"
   ]
  },
  {
   "cell_type": "code",
   "execution_count": 13,
   "metadata": {},
   "outputs": [
    {
     "name": "stdout",
     "output_type": "stream",
     "text": [
      "[[1, 2], [3, 4]]\n"
     ]
    }
   ],
   "source": [
    "A = [[1, 2], [3, 4]]\n",
    "print(A)"
   ]
  },
  {
   "cell_type": "markdown",
   "metadata": {
    "slideshow": {
     "slide_type": "slide"
    }
   },
   "source": [
    "# Empty lists\n",
    "\n",
    "Lists don't actually have to contain any elements!\n",
    "\n",
    "Such lists are called **empty lists**\n",
    "\n",
    "They are created using a set of square brackets that do not contain any values"
   ]
  },
  {
   "cell_type": "code",
   "execution_count": 17,
   "metadata": {},
   "outputs": [
    {
     "name": "stdout",
     "output_type": "stream",
     "text": [
      "[]\n"
     ]
    }
   ],
   "source": [
    "empty_list = []\n",
    "print(empty_list)"
   ]
  },
  {
   "cell_type": "markdown",
   "metadata": {
    "slideshow": {
     "slide_type": "slide"
    }
   },
   "source": [
    "# Accessing the elements of a list\n",
    "\n",
    "Like strings, the elements of a list can be accessed using indices.\n",
    "\n",
    "The index of the first element of a list is always zero.\n",
    "\n",
    "The last element of a list can be accessed with the index -1."
   ]
  },
  {
   "cell_type": "code",
   "execution_count": 16,
   "metadata": {},
   "outputs": [
    {
     "name": "stdout",
     "output_type": "stream",
     "text": [
      "1\n",
      "4\n"
     ]
    }
   ],
   "source": [
    "A = [1, 2, 3, 4]\n",
    "print(A[0])\n",
    "print(A[-1])"
   ]
  },
  {
   "cell_type": "markdown",
   "metadata": {
    "slideshow": {
     "slide_type": "slide"
    }
   },
   "source": [
    "# Accessing elements of nested lists\n",
    "\n",
    "Let's create a shopping list with some foods and their prices:\n",
    "\n",
    "| Food | Price |\n",
    "| :-: | :-: |\n",
    "| Apples | 2.00 |\n",
    "| Pizza | 4.50 |\n",
    "| Bread | 1.00 |"
   ]
  },
  {
   "cell_type": "code",
   "execution_count": 1,
   "metadata": {},
   "outputs": [],
   "source": [
    "shopping_list = [[\"Apples\", 2.00], [\"Pizza\", 4.50], [\"Bread\", 1.00]]"
   ]
  },
  {
   "cell_type": "markdown",
   "metadata": {
    "slideshow": {
     "slide_type": "slide"
    }
   },
   "source": [
    "Entries in a nested list can be accessed using indices and **nested indices** (or sub-indices)\n",
    "***\n",
    "![nested](img/nested_lists.png)\n",
    "***"
   ]
  },
  {
   "cell_type": "code",
   "execution_count": 2,
   "metadata": {
    "slideshow": {
     "slide_type": "-"
    }
   },
   "outputs": [
    {
     "name": "stdout",
     "output_type": "stream",
     "text": [
      "['Bread', 1.0]\n",
      "1.0\n"
     ]
    }
   ],
   "source": [
    "# access the third sub-list and print\n",
    "print(shopping_list[2])\n",
    "\n",
    "# access the price of bread using nested indices and print\n",
    "print(shopping_list[2][1])"
   ]
  },
  {
   "cell_type": "markdown",
   "metadata": {
    "slideshow": {
     "slide_type": "slide"
    }
   },
   "source": [
    "# Properties of lists\n",
    "\n",
    "Lists are **ordered**.  This means elements of a list can be accessed (in this case, with an integer index)"
   ]
  },
  {
   "cell_type": "markdown",
   "metadata": {
    "slideshow": {
     "slide_type": "fragment"
    }
   },
   "source": [
    "Lists are **iterable**.  \n",
    "\n",
    "This means that we can iterate over the elements of a list using `for` loops"
   ]
  },
  {
   "cell_type": "code",
   "execution_count": 10,
   "metadata": {},
   "outputs": [
    {
     "name": "stdout",
     "output_type": "stream",
     "text": [
      "1\n",
      "2\n",
      "3\n",
      "4\n",
      "5\n"
     ]
    }
   ],
   "source": [
    "A = [1, 2, 3, 4, 5]\n",
    "\n",
    "for a in A:\n",
    "    print(a)"
   ]
  },
  {
   "cell_type": "markdown",
   "metadata": {
    "slideshow": {
     "slide_type": "slide"
    }
   },
   "source": [
    "Lists are **mutable**.  \n",
    "\n",
    "This means that the entries in a list can be changed after the list is created"
   ]
  },
  {
   "cell_type": "code",
   "execution_count": 9,
   "metadata": {},
   "outputs": [
    {
     "name": "stdout",
     "output_type": "stream",
     "text": [
      "[2, 4, 6, 8, 9]\n",
      "[2, 4, 6, 8, 10]\n"
     ]
    }
   ],
   "source": [
    "A = [2, 4, 6, 8, 9]\n",
    "print(A)\n",
    "\n",
    "A[-1] = 10\n",
    "print(A)"
   ]
  },
  {
   "cell_type": "markdown",
   "metadata": {
    "slideshow": {
     "slide_type": "slide"
    }
   },
   "source": [
    "# Summary\n",
    "\n",
    "* Lists are collections of values separated by commas and contained within square brackets\n",
    "* Lists enable several values to be stored in a single Python variable\n",
    "* Lists are ordered, iterable, and mutable"
   ]
  }
 ],
 "metadata": {
  "celltoolbar": "Slideshow",
  "kernelspec": {
   "display_name": "Python 3 (ipykernel)",
   "language": "python",
   "name": "python3"
  },
  "language_info": {
   "codemirror_mode": {
    "name": "ipython",
    "version": 3
   },
   "file_extension": ".py",
   "mimetype": "text/x-python",
   "name": "python",
   "nbconvert_exporter": "python",
   "pygments_lexer": "ipython3",
   "version": "3.11.4"
  }
 },
 "nbformat": 4,
 "nbformat_minor": 4
}
