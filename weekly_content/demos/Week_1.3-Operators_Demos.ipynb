{
 "cells": [
  {
   "cell_type": "markdown",
   "metadata": {
    "slideshow": {
     "slide_type": "slide"
    }
   },
   "source": [
    "# Introduction to Computer Programming\n",
    "\n",
    "## 1.3 Operators - Demos\n",
    "\n",
    "<img src=\"img/full-colour-logo-UoB.png\" alt=\"Drawing\" style=\"width: 300px;\"/>"
   ]
  },
  {
   "cell_type": "markdown",
   "metadata": {
    "slideshow": {
     "slide_type": "slide"
    }
   },
   "source": [
    "### Example \n",
    "Write a program, using comparison and logical operators, that answers a question based on the current time of day:"
   ]
  },
  {
   "cell_type": "markdown",
   "metadata": {
    "slideshow": {
     "slide_type": "-"
    }
   },
   "source": [
    ">__Is it lunchtime?__\n",
    "<br>`True` if current time is between lunch start and end times.\n",
    "<br>`False` if not."
   ]
  },
  {
   "cell_type": "code",
   "execution_count": 1,
   "metadata": {},
   "outputs": [
    {
     "name": "stdout",
     "output_type": "stream",
     "text": [
      "False\n"
     ]
    }
   ],
   "source": [
    "# Variables\n",
    "t = 12.00   # Current time\n",
    "ls = 13.00  # Time lunch starts\n",
    "le = 14.00  # Time lunch ends\n",
    "\n",
    "\n",
    "# Find lunchtime True / False value using start and end times\n",
    "lunchtime = ls <= t and t < le\n",
    "print(lunchtime)"
   ]
  },
  {
   "cell_type": "markdown",
   "metadata": {},
   "source": [
    "Are there any other ways we could write the expression for lunchtime using the operators we have studied so far?"
   ]
  },
  {
   "cell_type": "code",
   "execution_count": 2,
   "metadata": {},
   "outputs": [
    {
     "name": "stdout",
     "output_type": "stream",
     "text": [
      "Is it lunchtime? False\n"
     ]
    }
   ],
   "source": [
    "lunchtime = ls <= t < le\n",
    "print(\"Is it lunchtime?\", lunchtime)"
   ]
  },
  {
   "cell_type": "markdown",
   "metadata": {
    "slideshow": {
     "slide_type": "slide"
    }
   },
   "source": [
    "### Example\n",
    "Write a program that:\n",
    "1. creates 3 variables, `a`, `b` and `c`, with numerical values\n",
    "2. outputs a statement that tells the user if the values include *any* negative numbers. "
   ]
  },
  {
   "cell_type": "code",
   "execution_count": 3,
   "metadata": {},
   "outputs": [
    {
     "name": "stdout",
     "output_type": "stream",
     "text": [
      "negatives? True\n"
     ]
    }
   ],
   "source": [
    "a, b, c = 1, -1, 7\n",
    "\n",
    "answer = a<0 or b<0 or c<0\n",
    "\n",
    "print('negatives?', answer)"
   ]
  },
  {
   "cell_type": "markdown",
   "metadata": {
    "slideshow": {
     "slide_type": "slide"
    }
   },
   "source": [
    "### Example\n",
    "Write a program that answers *two* questions based on the current time of day:"
   ]
  },
  {
   "cell_type": "markdown",
   "metadata": {},
   "source": [
    ">__Is it lunchtime?__\n",
    "<br>`True` if time between lunch start and end times.\n",
    "<br>`False` if not.\n",
    "\n",
    ">__Is it time for work?__\n",
    "<br>`True` if time between work start and end times __and not__ lunchtime.\n",
    "<br>`False` if not."
   ]
  },
  {
   "cell_type": "code",
   "execution_count": 4,
   "metadata": {
    "slideshow": {
     "slide_type": "-"
    }
   },
   "outputs": [
    {
     "name": "stdout",
     "output_type": "stream",
     "text": [
      "False\n",
      "False\n"
     ]
    }
   ],
   "source": [
    "t = 8.30\n",
    "ls = 13.00\n",
    "le = 14.00\n",
    "ws = 9.00\n",
    "we = 17.00\n",
    "\n",
    "lunch = ls <= t < le\n",
    "\n",
    "work = ws <= t < we and not lunch\n",
    "\n",
    "print(lunch)\n",
    "print(work)"
   ]
  },
  {
   "cell_type": "markdown",
   "metadata": {},
   "source": [
    "Are there any other ways we could have written the expressions for `lunch` or `work`? "
   ]
  },
  {
   "cell_type": "code",
   "execution_count": 5,
   "metadata": {},
   "outputs": [
    {
     "name": "stdout",
     "output_type": "stream",
     "text": [
      "False\n"
     ]
    }
   ],
   "source": [
    "work = ws <= t < ls or le <= t < we\n",
    "\n",
    "print(work)"
   ]
  },
  {
   "cell_type": "code",
   "execution_count": 6,
   "metadata": {},
   "outputs": [
    {
     "name": "stdout",
     "output_type": "stream",
     "text": [
      "False\n"
     ]
    }
   ],
   "source": [
    "work = not t < ws and not t > we and not lunch \n",
    "\n",
    "print(work)"
   ]
  },
  {
   "cell_type": "code",
   "execution_count": null,
   "metadata": {},
   "outputs": [],
   "source": []
  }
 ],
 "metadata": {
  "kernelspec": {
   "display_name": "Python 3 (ipykernel)",
   "language": "python",
   "name": "python3"
  },
  "language_info": {
   "codemirror_mode": {
    "name": "ipython",
    "version": 3
   },
   "file_extension": ".py",
   "mimetype": "text/x-python",
   "name": "python",
   "nbconvert_exporter": "python",
   "pygments_lexer": "ipython3",
   "version": "3.10.9"
  }
 },
 "nbformat": 4,
 "nbformat_minor": 4
}
