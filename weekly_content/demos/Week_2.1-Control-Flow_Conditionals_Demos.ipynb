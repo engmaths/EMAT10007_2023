{
 "cells": [
  {
   "cell_type": "markdown",
   "metadata": {
    "slideshow": {
     "slide_type": "slide"
    }
   },
   "source": [
    "# Introduction to Computer Programming\n",
    "\n",
    "## 2.1 Control Flow - Demos\n",
    "\n",
    "<img src=\"img/full-colour-logo-UoB.png\" alt=\"Drawing\" style=\"width: 300px;\"/>"
   ]
  },
  {
   "cell_type": "markdown",
   "metadata": {
    "slideshow": {
     "slide_type": "slide"
    }
   },
   "source": [
    "### Example\n",
    "\n",
    "Print two variables, `a` and `b` only if they are *both* greater than 10.  "
   ]
  },
  {
   "cell_type": "code",
   "execution_count": 3,
   "metadata": {},
   "outputs": [],
   "source": [
    "a = 11\n",
    "b = 5\n",
    "\n",
    "if a > 10 and b > 10:\n",
    "    print(a, b)"
   ]
  },
  {
   "cell_type": "markdown",
   "metadata": {
    "slideshow": {
     "slide_type": "slide"
    }
   },
   "source": [
    "### Example\n",
    "\n",
    "<center>\n",
    "  <img align = \"right\" src=\"img/thermostat.png\" alt=\"Drawing\" style=\"width: 300px;\"/>\n",
    "</center>\n",
    "\n",
    "A digital thermostat checks the current temperature read by a sensor and compares it to a preset temperature. \n",
    "\n",
    "The heating is switched:\n",
    "- __ON__ if the current temperature is lower than the preset temperature\n",
    "- __OFF__ if the current temperature is higher than, or the same as, the preset temperature\n",
    "\n",
    "Write a program to simulate the behaviour of the digital thermostat, by using a variable `temp` to represent the current temperature.\n",
    "\n"
   ]
  },
  {
   "cell_type": "code",
   "execution_count": 6,
   "metadata": {
    "slideshow": {
     "slide_type": "slide"
    }
   },
   "outputs": [
    {
     "name": "stdout",
     "output_type": "stream",
     "text": [
      "True\n"
     ]
    }
   ],
   "source": [
    "temp = 18   # Temperature \n",
    "preset = 20 # Preset temperature\n",
    "\n",
    "if temp < preset:\n",
    "    heat = True\n",
    "    \n",
    "else:\n",
    "    heat = False\n",
    "    \n",
    "print(heat)"
   ]
  },
  {
   "cell_type": "markdown",
   "metadata": {
    "slideshow": {
     "slide_type": "slide"
    }
   },
   "source": [
    "# Example\n",
    "\n",
    "<center>\n",
    "  <img align=\"right\" src=\"img/robot_letters.png\" alt=\"Drawing\" style=\"width: 400px;\"/>\n",
    "</center>\n",
    "\n",
    "A two-wheeled robot uses three sensors (a, b and c) to follow a black line on a white surface. \n",
    "\n",
    "The sensors output:\n",
    "- 0 if over a white surface\n",
    "- 1 if over a black surface\n",
    "\n",
    "The arrows show what relative speed of the two wheels should be, depending on the output of the sensors. \n",
    "\n",
    "Write a program to simulate the robot's control system by representing the outputs of each sensors as a variable.\n",
    "\n",
    "\n"
   ]
  },
  {
   "cell_type": "code",
   "execution_count": null,
   "metadata": {},
   "outputs": [],
   "source": [
    "a, b, c = 0, 0, 0\n",
    "\n",
    "if a == 1 and b == 1 and c == 0:\n",
    "    left = 1\n",
    "    right = 2\n",
    "    \n",
    "elif a == 0 and b == 1 and c == 1:\n",
    "    left = 2\n",
    "    right = 1\n",
    "    \n",
    "elif a == 0 and b == 1 and c == 0:\n",
    "    left = 2\n",
    "    right = 2\n",
    "    \n",
    "else:\n",
    "    left = 0\n",
    "    right = 0\n",
    "    \n",
    "print(left, right)"
   ]
  },
  {
   "cell_type": "code",
   "execution_count": 9,
   "metadata": {
    "slideshow": {
     "slide_type": "slide"
    }
   },
   "outputs": [
    {
     "name": "stdout",
     "output_type": "stream",
     "text": [
      "1 1\n"
     ]
    }
   ],
   "source": [
    "a, b, c = 0, 1, 0\n",
    "\n",
    "if a and b and not c:\n",
    "    left = 1\n",
    "    right = 2\n",
    "    \n",
    "elif not a and b and c:\n",
    "    left = 2\n",
    "    right = 1\n",
    "    \n",
    "elif not a and b and not c:\n",
    "    left = 1\n",
    "    right = 1\n",
    "    \n",
    "else:\n",
    "    left = 0\n",
    "    right = 0\n",
    "    \n",
    "print(left, right)"
   ]
  },
  {
   "cell_type": "code",
   "execution_count": null,
   "metadata": {},
   "outputs": [],
   "source": []
  }
 ],
 "metadata": {
  "kernelspec": {
   "display_name": "Python 3 (ipykernel)",
   "language": "python",
   "name": "python3"
  },
  "language_info": {
   "codemirror_mode": {
    "name": "ipython",
    "version": 3
   },
   "file_extension": ".py",
   "mimetype": "text/x-python",
   "name": "python",
   "nbconvert_exporter": "python",
   "pygments_lexer": "ipython3",
   "version": "3.10.9"
  }
 },
 "nbformat": 4,
 "nbformat_minor": 4
}
