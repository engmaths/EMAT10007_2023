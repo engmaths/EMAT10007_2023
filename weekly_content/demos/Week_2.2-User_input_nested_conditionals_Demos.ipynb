{
 "cells": [
  {
   "cell_type": "markdown",
   "metadata": {
    "slideshow": {
     "slide_type": "slide"
    }
   },
   "source": [
    "# Introduction to Computer Programming\n",
    "\n",
    "## 2.2 User input & nested conditionals - Demos\n",
    "\n",
    "<img src=\"img/full-colour-logo-UoB.png\" alt=\"Drawing\" style=\"width: 300px;\"/>"
   ]
  },
  {
   "cell_type": "markdown",
   "metadata": {
    "slideshow": {
     "slide_type": "slide"
    }
   },
   "source": [
    "### Example\n",
    "\n",
    "<center>\n",
    "  <img align=\"right\" src=\"img/volume.jpeg\" alt=\"Drawing\" style=\"width: 400px;\"/>\n",
    "</center>\n",
    "\n",
    "The volume control on a keyboard has a 'volume up' and 'volume down' button. \n",
    "\n",
    "We will represent these buttons as inputs from a user:\n",
    "- `u` : increase volume by 1\n",
    "- `d` : decrease volume by 1\n",
    "\n",
    "Write a program that shifts the current volume up or down depending on the input from the user. "
   ]
  },
  {
   "cell_type": "code",
   "execution_count": 7,
   "metadata": {},
   "outputs": [
    {
     "name": "stdout",
     "output_type": "stream",
     "text": [
      "volume control u\n",
      "7\n"
     ]
    }
   ],
   "source": [
    "volume = 6\n",
    "\n",
    "control = input('volume control ')\n",
    "\n",
    "if control == 'u':\n",
    "    volume += 1\n",
    "    \n",
    "elif control == 'd':\n",
    "    volume -= 1\n",
    "    \n",
    "print(volume)"
   ]
  },
  {
   "cell_type": "markdown",
   "metadata": {
    "slideshow": {
     "slide_type": "slide"
    }
   },
   "source": [
    "### Example\n",
    "Write a program that checks a number, `x`, and:\n",
    "- prints `\"positive\"` if the number is positive\n",
    "- prints `\"negative\"` if the number is negative\n",
    "\n"
   ]
  },
  {
   "cell_type": "code",
   "execution_count": 9,
   "metadata": {
    "slideshow": {
     "slide_type": "-"
    }
   },
   "outputs": [
    {
     "name": "stdout",
     "output_type": "stream",
     "text": [
      "positive\n"
     ]
    }
   ],
   "source": [
    "n = 100\n",
    "\n",
    "if n > 0:\n",
    "    \n",
    "    print('positive') \n",
    "    \n",
    "elif n < 0:\n",
    "    \n",
    "    print('negative') \n",
    "    "
   ]
  },
  {
   "cell_type": "markdown",
   "metadata": {
    "slideshow": {
     "slide_type": "slide"
    }
   },
   "source": [
    "If the number is positive the program should *also* print:\n",
    "- `\"square\"` if `x` is a square number <br>(a number of the form $x = n^2$ where $n$ is an integer)\n",
    "- `\"not square\"` otherwise"
   ]
  },
  {
   "cell_type": "code",
   "execution_count": 10,
   "metadata": {},
   "outputs": [
    {
     "name": "stdout",
     "output_type": "stream",
     "text": [
      "positive\n",
      "square\n"
     ]
    }
   ],
   "source": [
    "n = 100\n",
    "\n",
    "if n > 0:\n",
    "    \n",
    "    print('positive') \n",
    "    \n",
    "    if n**(1/2) == int(n**(1/2)):\n",
    "        print('square')\n",
    "        \n",
    "    else:\n",
    "        print('not square')\n",
    "    \n",
    "elif n < 0:\n",
    "    \n",
    "    print('negative') "
   ]
  },
  {
   "cell_type": "markdown",
   "metadata": {
    "slideshow": {
     "slide_type": "slide"
    }
   },
   "source": [
    "### Example\n",
    "\n",
    "How could we edit the volume control program in the previous example to prevent the volume from ever going outside of the range 0 to 10? "
   ]
  },
  {
   "cell_type": "code",
   "execution_count": 12,
   "metadata": {},
   "outputs": [
    {
     "name": "stdout",
     "output_type": "stream",
     "text": [
      "volume control d\n",
      "5\n"
     ]
    }
   ],
   "source": [
    "volume = 6\n",
    "\n",
    "control = input('volume control ')\n",
    "\n",
    "if control == 'u':\n",
    "    if volume < 10:\n",
    "        volume += 1\n",
    "    \n",
    "elif control == 'd':\n",
    "    if volume > 0:\n",
    "        volume -= 1\n",
    "    \n",
    "print(volume)"
   ]
  },
  {
   "cell_type": "code",
   "execution_count": 13,
   "metadata": {
    "slideshow": {
     "slide_type": "slide"
    }
   },
   "outputs": [
    {
     "name": "stdout",
     "output_type": "stream",
     "text": [
      "volume control 3\n",
      "6\n"
     ]
    }
   ],
   "source": [
    "volume = 6\n",
    "\n",
    "control = input('volume control ')\n",
    "\n",
    "if control == 'u' and volume < 10:\n",
    "    volume += 1\n",
    "    \n",
    "elif control == 'd' and volume > 0:\n",
    "    volume -= 1\n",
    "    \n",
    "print(volume)"
   ]
  },
  {
   "cell_type": "code",
   "execution_count": null,
   "metadata": {},
   "outputs": [],
   "source": []
  }
 ],
 "metadata": {
  "celltoolbar": "Slideshow",
  "kernelspec": {
   "display_name": "Python 3",
   "language": "python",
   "name": "python3"
  },
  "language_info": {
   "codemirror_mode": {
    "name": "ipython",
    "version": 3
   },
   "file_extension": ".py",
   "mimetype": "text/x-python",
   "name": "python",
   "nbconvert_exporter": "python",
   "pygments_lexer": "ipython3",
   "version": "3.8.3"
  }
 },
 "nbformat": 4,
 "nbformat_minor": 4
}
