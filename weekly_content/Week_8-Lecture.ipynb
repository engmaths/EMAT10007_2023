{
 "cells": [
  {
   "cell_type": "markdown",
   "metadata": {
    "slideshow": {
     "slide_type": "slide"
    }
   },
   "source": [
    "# Introduction to Computer Programming\n",
    "\n",
    "## Week 8: Reading, writing, and plotting data\n",
    "\n",
    "* * *\n",
    "\n",
    "<img src=\"img/full-colour-logo-UoB.png\" alt=\"Bristol\" style=\"width: 300px;\"/>"
   ]
  },
  {
   "cell_type": "markdown",
   "metadata": {
    "slideshow": {
     "slide_type": "slide"
    }
   },
   "source": [
    "# Syntax test\n",
    "\n",
    "* Friday 17/11/23 at 15:00\n",
    "* 90 minutes to complete the test, starting at 15:00\n",
    "    * Students with AEAs will automatically have their time extended\n",
    "* The test can be found on Blackboard\n",
    "* It covers all material up to and including Week 7 (functions)\n",
    "* This is an individual test and you should not be working with others"
   ]
  },
  {
   "cell_type": "markdown",
   "metadata": {
    "slideshow": {
     "slide_type": "slide"
    }
   },
   "source": [
    "* Since the test is online, you can take the test anywhere\n",
    "* Rooms are available from **15:00-17:00** if you want to take the test on campus\n",
    "    * MVB 1.15 and 1.11/1.11a\n",
    "    * TA support only for finding and opening the test\n",
    "* If you cannot take the test or have issues during the test\n",
    "    * **Do not** email Hemma or Matt or any of the TAs\n",
    "    * Email semt-student-enquiries@bristol.ac.uk\n",
    "* See the Blackboard welcome page for full details of the test and who to contact"
   ]
  },
  {
   "cell_type": "markdown",
   "metadata": {
    "slideshow": {
     "slide_type": "slide"
    }
   },
   "source": [
    "# Recap\n",
    "\n",
    "* Use the `with` keyword with the `open` function to open a file for reading/writing\n",
    "* CSV (comma-separated values) files are used to store data\n",
    "* The `csv` package makes it easier to read and write .csv files\n",
    "* The `matplotlib` package provides a suite of functions for plotting"
   ]
  },
  {
   "cell_type": "markdown",
   "metadata": {
    "slideshow": {
     "slide_type": "slide"
    }
   },
   "source": [
    "# Follow-along exercise\n",
    "\n",
    "* In this session we will:\n",
    "    * import some data into Python\n",
    "    * post-process and manipulate the data\n",
    "    * plot the data\n",
    "    * customise the plot\n",
    "* There will be time for you to work on each part with support"
   ]
  },
  {
   "cell_type": "markdown",
   "metadata": {
    "slideshow": {
     "slide_type": "slide"
    }
   },
   "source": [
    "# The problem\n",
    "\n",
    "* During the Covid-19 pandemic, a city recorded the number of infected individuals for one year\n",
    "* We would like to know whether the number of infected individuals follows a logistic trend"
   ]
  },
  {
   "cell_type": "markdown",
   "metadata": {
    "slideshow": {
     "slide_type": "slide"
    }
   },
   "source": [
    "# Logistic growth\n",
    "\n",
    "* The logistic model of population growth says that the fraction of the total population that is infected is given by\n",
    "$$\n",
    "f(t) = \\frac{f_0 f_\\infty}{f_0 + (f_\\infty - f_0)e^{-rt}}\n",
    "$$\n",
    "* The variables are:\n",
    "    * $t$ is time after the outbreak\n",
    "    * $r$ is the infection rate\n",
    "    * $f$ is the fraction of the population that has been infected\n",
    "    * $f_0$ is the fraction of individuals who are initially infected \n",
    "    * $f_\\infty$ is the final fraction of individuals who become infected"
   ]
  },
  {
   "cell_type": "markdown",
   "metadata": {
    "slideshow": {
     "slide_type": "slide"
    }
   },
   "source": [
    "# Downloading the data\n",
    "\n",
    "* The data is contained in the file `infections.zip` on Blackboard\n",
    "* Download the file and unzip it in your Python working directory\n",
    "    * Your Python working directory is the folder where your main Python (.py) file is\n",
    "* Call your main python file `lecture8.py`"
   ]
  },
  {
   "cell_type": "markdown",
   "metadata": {
    "slideshow": {
     "slide_type": "slide"
    }
   },
   "source": [
    "# Importing packages\n",
    "\n",
    "* We will use the `csv` package to help with importing the data, which has been saved as .csv files\n",
    "* We will also use the `matplotlib.pyplot` package to plot the data\n",
    "* You will also need to import the `exp` function from the `math` package\n",
    "* Import these packages by adding the relevant code to the top of your Python file"
   ]
  },
  {
   "cell_type": "code",
   "execution_count": 2,
   "metadata": {
    "slideshow": {
     "slide_type": "slide"
    }
   },
   "outputs": [],
   "source": [
    "import csv\n",
    "import matplotlib.pyplot as plt\n",
    "from math import exp"
   ]
  },
  {
   "cell_type": "markdown",
   "metadata": {
    "slideshow": {
     "slide_type": "slide"
    }
   },
   "source": [
    "# Importing the data\n",
    "\n",
    "* Use the `with` keyword and the `csv` package to load the data\n",
    "* Create two lists\n",
    "    * One list should contain time data as numerical data\n",
    "    * The second list should contain population data as numerical data"
   ]
  },
  {
   "cell_type": "code",
   "execution_count": 3,
   "metadata": {
    "slideshow": {
     "slide_type": "slide"
    }
   },
   "outputs": [],
   "source": [
    "# load infection data\n",
    "with open('sample_data/infection_data.csv') as file:\n",
    "    reader = csv.reader(file)\n",
    "    infection_data = list(reader)\n",
    "    \n",
    "# create lists\n",
    "time = [int(e[0]) for e in infection_data[1:]]\n",
    "infected = [ int(e[1]) for e in infection_data[1:]]"
   ]
  },
  {
   "cell_type": "code",
   "execution_count": 4,
   "metadata": {
    "slideshow": {
     "slide_type": "slide"
    }
   },
   "outputs": [
    {
     "name": "stdout",
     "output_type": "stream",
     "text": [
      "{'Total population': 250000.0, 'Initial number of infected individuals': 5000.0, 'Final number of infected individuals': 212500.0, 'Infection rate': 0.025}\n"
     ]
    }
   ],
   "source": [
    "# load the city data\n",
    "with open('sample_data/city_info.csv') as file:\n",
    "    reader = csv.reader(file)\n",
    "    city_data = list(reader)\n",
    "    \n",
    "# create dict out of data\n",
    "city_info = {}\n",
    "for e in city_data:\n",
    "    city_info[e[0]] = float(e[1])\n",
    "print(city_info)"
   ]
  },
  {
   "cell_type": "markdown",
   "metadata": {
    "slideshow": {
     "slide_type": "slide"
    }
   },
   "source": [
    "# Post-processing the data\n",
    "\n",
    "* Normalise the population data by dividing it by the total population (which is contained in `city_info.csv`)\n",
    "    * This will provide data for $f$"
   ]
  },
  {
   "cell_type": "code",
   "execution_count": 19,
   "metadata": {
    "slideshow": {
     "slide_type": "fragment"
    }
   },
   "outputs": [],
   "source": [
    "# normalise data\n",
    "f_data = [e / city_info[\"Total population\"] for e in infected]"
   ]
  },
  {
   "cell_type": "markdown",
   "metadata": {
    "slideshow": {
     "slide_type": "slide"
    }
   },
   "source": [
    "# Visualising the data\n",
    "\n",
    "* Now we will\n",
    "    * Plot the data as symbols and the curve as a line on the same axes (using parameter values in `city_info.csv`)\n",
    "    * Add labels to the horizonal and vertical axes\n",
    "    * Add a legend"
   ]
  },
  {
   "cell_type": "code",
   "execution_count": 14,
   "metadata": {
    "slideshow": {
     "slide_type": "slide"
    }
   },
   "outputs": [],
   "source": [
    "# extract parameters\n",
    "N = city_info[\"Total population\"]\n",
    "f_0 = city_info[\"Initial number of infected individuals\"] / N\n",
    "f_inf = city_info[\"Final number of infected individuals\"] / N\n",
    "r = city_info[\"Infection rate\"]\n",
    "\n",
    "# define function for logistic curve\n",
    "def logistic(t, r, f_0, f_inf):\n",
    "    return f_0 * f_inf / (f_0 + (f_inf - f_0) * exp(-r * t))"
   ]
  },
  {
   "cell_type": "code",
   "execution_count": 16,
   "metadata": {
    "slideshow": {
     "slide_type": "slide"
    }
   },
   "outputs": [],
   "source": [
    "# compute the logistic curve\n",
    "f_log = [logistic(t, r, f_0, f_inf) for t in time]"
   ]
  },
  {
   "cell_type": "code",
   "execution_count": 26,
   "metadata": {
    "slideshow": {
     "slide_type": "slide"
    }
   },
   "outputs": [
    {
     "data": {
      "image/png": "[encoded data removed]",
      "text/plain": [
       "<Figure size 432x288 with 1 Axes>"
      ]
     },
     "metadata": {
      "needs_background": "light"
     },
     "output_type": "display_data"
    }
   ],
   "source": [
    "# plot\n",
    "plt.figure()\n",
    "plt.plot(time,  f_data, 'o', label = \"data\")\n",
    "plt.plot(time, f_log, label = \"logistic\")\n",
    "plt.xlabel('Time (days)')\n",
    "plt.ylabel('Fraction of population')\n",
    "plt.legend()\n",
    "plt.show()"
   ]
  },
  {
   "cell_type": "markdown",
   "metadata": {
    "slideshow": {
     "slide_type": "slide"
    }
   },
   "source": [
    "# Figure customisation\n",
    "\n",
    "* Customise your figure by editing the marker size, colours, line width, etc\n",
    "* You might also want to look up how to edit the font sizes, use LaTeX fonts, edit the tick labels\n",
    "    * See https://matplotlib.org/stable/\n",
    "* When you have finished customising your figure, save it as a .png file and upload it to Blackboard\n",
    "    * Discussion >> Lecture 8 figure gallery >> Figure upload point >> Reply\n",
    "* Use this gallery for inspiration when making your next figure!"
   ]
  }
 ],
 "metadata": {
  "celltoolbar": "Slideshow",
  "kernelspec": {
   "display_name": "Python 3 (ipykernel)",
   "language": "python",
   "name": "python3"
  },
  "language_info": {
   "codemirror_mode": {
    "name": "ipython",
    "version": 3
   },
   "file_extension": ".py",
   "mimetype": "text/x-python",
   "name": "python",
   "nbconvert_exporter": "python",
   "pygments_lexer": "ipython3",
   "version": "3.11.4"
  },
  "rise": {
   "theme": "white"
  }
 },
 "nbformat": 4,
 "nbformat_minor": 4
}
