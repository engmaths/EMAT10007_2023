{
 "cells": [
  {
   "cell_type": "markdown",
   "metadata": {
    "slideshow": {
     "slide_type": "slide"
    }
   },
   "source": [
    "# Introduction to Computer Programming\n",
    "\n",
    "## Week 8: Reading, writing, and plotting data\n",
    "\n",
    "* * *\n",
    "\n",
    "<img src=\"img/full-colour-logo-UoB.png\" alt=\"Bristol\" style=\"width: 300px;\"/>"
   ]
  },
  {
   "cell_type": "markdown",
   "metadata": {
    "slideshow": {
     "slide_type": "slide"
    }
   },
   "source": [
    "# Recap\n",
    "\n",
    "* Use the `with` keyword with the `open` function to open a file for reading/writing\n",
    "* CSV (comma-separated values) files are used to store data\n",
    "* The `csv` package makes it easier to read and write .csv files\n",
    "* The `matplotlib` package provides a suite of functions for plotting"
   ]
  },
  {
   "cell_type": "markdown",
   "metadata": {
    "slideshow": {
     "slide_type": "slide"
    }
   },
   "source": [
    "# Follow-along exercise\n",
    "\n",
    "* In this session we will:\n",
    "    * import some data into Python\n",
    "    * post-process and manipulate the data\n",
    "    * plot the data\n",
    "    * customise the plot\n",
    "* There will be time for you to work on each part with support"
   ]
  },
  {
   "cell_type": "markdown",
   "metadata": {
    "slideshow": {
     "slide_type": "slide"
    }
   },
   "source": [
    "# The problem\n",
    "\n",
    "* During the Covid-19 pandemic, a city recorded the number of infected individuals for one year\n",
    "* We would like to know whether the number of infected individuals follows a logistic trend"
   ]
  },
  {
   "cell_type": "markdown",
   "metadata": {
    "slideshow": {
     "slide_type": "slide"
    }
   },
   "source": [
    "# Logistic growth\n",
    "\n",
    "* The logistic model of population growth says that the fraction of the total population that is infected is given by\n",
    "$$\n",
    "f(t) = \\frac{f_0 f_\\infty}{f_0 + (f_\\infty - f_0)e^{-rt}}\n",
    "$$\n",
    "* The variables are:\n",
    "    * $t$ is time after the outbreak\n",
    "    * $r$ is the infection rate\n",
    "    * $f$ is the fraction of the population that has been infected\n",
    "    * $f_0$ is the fraction of individuals who are initially infected \n",
    "    * $f_\\infty$ is the final fraction of individuals who become infected"
   ]
  },
  {
   "cell_type": "markdown",
   "metadata": {
    "slideshow": {
     "slide_type": "slide"
    }
   },
   "source": [
    "# Downloading the data\n",
    "\n",
    "* The data is contained in the file `infections.zip` on Blackboard\n",
    "* Download the file and unzip it in your Python working directory\n",
    "* Your Python working directory is the folder where your main Python (.py) file is\n",
    "* Call your main python file `lecture8.py`"
   ]
  },
  {
   "cell_type": "markdown",
   "metadata": {
    "slideshow": {
     "slide_type": "slide"
    }
   },
   "source": [
    "# Importing packages\n",
    "\n",
    "* We will use the `csv` package to help with importing the data, which has been saved as .csv files\n",
    "* We will also use the `matplotlib.pyplot` package to plot the data\n",
    "* You will also need to import the `exp` function from the `math` package\n",
    "* Import these packages by adding the relevant code to the top of your Python file"
   ]
  },
  {
   "cell_type": "code",
   "execution_count": null,
   "metadata": {
    "slideshow": {
     "slide_type": "slide"
    }
   },
   "outputs": [],
   "source": []
  },
  {
   "cell_type": "markdown",
   "metadata": {
    "slideshow": {
     "slide_type": "slide"
    }
   },
   "source": [
    "# Importing the data\n",
    "\n",
    "* Use the `with` keyword and the `csv` package to load the data\n",
    "* Create two lists\n",
    "    * One list should contain time data as numerical data\n",
    "    * The second list should contain population data as numerical data"
   ]
  },
  {
   "cell_type": "code",
   "execution_count": 1,
   "metadata": {
    "slideshow": {
     "slide_type": "slide"
    }
   },
   "outputs": [],
   "source": [
    "# load the data\n",
    "\n",
    "# create lists\n"
   ]
  },
  {
   "cell_type": "markdown",
   "metadata": {
    "slideshow": {
     "slide_type": "slide"
    }
   },
   "source": [
    "# Post-processing the data\n",
    "\n",
    "* Normalise the population data by dividing it by the total population (which is contained in `city_info.csv`)"
   ]
  },
  {
   "cell_type": "code",
   "execution_count": 2,
   "metadata": {
    "slideshow": {
     "slide_type": "slide"
    }
   },
   "outputs": [],
   "source": [
    "# load the data\n",
    "\n",
    "    \n",
    "# create dict out of data\n"
   ]
  },
  {
   "cell_type": "code",
   "execution_count": 3,
   "metadata": {
    "slideshow": {
     "slide_type": "slide"
    }
   },
   "outputs": [],
   "source": [
    "# normalise data\n"
   ]
  },
  {
   "cell_type": "markdown",
   "metadata": {
    "slideshow": {
     "slide_type": "slide"
    }
   },
   "source": [
    "# Visualising the data\n",
    "\n",
    "* Now we will\n",
    "    * Plot the data as symbols and the curve as a line on the same axes (using parameter values in `city_info.csv`)\n",
    "    * Add labels to the horizonal and vertical axes\n",
    "    * Add a legend"
   ]
  },
  {
   "cell_type": "code",
   "execution_count": 4,
   "metadata": {
    "slideshow": {
     "slide_type": "slide"
    }
   },
   "outputs": [],
   "source": [
    "# extract parameters\n",
    "\n",
    "\n",
    "# define function for logistic curve\n"
   ]
  },
  {
   "cell_type": "code",
   "execution_count": 5,
   "metadata": {
    "slideshow": {
     "slide_type": "slide"
    }
   },
   "outputs": [],
   "source": [
    "# compute the logistic curve\n"
   ]
  },
  {
   "cell_type": "code",
   "execution_count": 6,
   "metadata": {
    "slideshow": {
     "slide_type": "slide"
    }
   },
   "outputs": [],
   "source": [
    "# plot\n"
   ]
  },
  {
   "cell_type": "markdown",
   "metadata": {
    "slideshow": {
     "slide_type": "slide"
    }
   },
   "source": [
    "# Figure customisation\n",
    "\n",
    "* Customise your figure by editing the marker size, colours, line width, etc\n",
    "* You might also want to look up how to edit the font sizes, use LaTeX fonts, edit the tick labels\n",
    "* When you have finished customising your figure, save it as a .png file and upload it to Blackboard\n",
    "    * Discussion >> Lecture 8 figure gallery >> Figure upload point\n",
    "* Use this gallery for inspiration when making your next figure!"
   ]
  }
 ],
 "metadata": {
  "celltoolbar": "Slideshow",
  "kernelspec": {
   "display_name": "Python 3",
   "language": "python",
   "name": "python3"
  },
  "language_info": {
   "codemirror_mode": {
    "name": "ipython",
    "version": 3
   },
   "file_extension": ".py",
   "mimetype": "text/x-python",
   "name": "python",
   "nbconvert_exporter": "python",
   "pygments_lexer": "ipython3",
   "version": "3.8.8"
  },
  "rise": {
   "theme": "white"
  }
 },
 "nbformat": 4,
 "nbformat_minor": 4
}
