{
 "cells": [
  {
   "cell_type": "markdown",
   "id": "b02a48fc",
   "metadata": {
    "slideshow": {
     "slide_type": "slide"
    }
   },
   "source": [
    "# Introduction to Computer Programming\n",
    "\n",
    "## Control Structures - `if`... `else` statements\n",
    "\n",
    "<img src=\"img/full-colour-logo-UoB.png\" alt=\"Drawing\" style=\"width: 300px;\"/>"
   ]
  },
  {
   "cell_type": "markdown",
   "id": "02dc286a",
   "metadata": {
    "slideshow": {
     "slide_type": "slide"
    }
   },
   "source": [
    "# The `if...else` control structure\n",
    "\n",
    "Executes a block of code only `if` the Boolean value of a conditional expression is `True`\n",
    "\n",
    "Otherwise executes a different block of code. \n",
    "\n",
    "The syntax looks like:\n",
    "    \n",
    "```python\n",
    "if conditional_expression:\n",
    "    operation_A\n",
    "else:\n",
    "    operation_B\n",
    "```"
   ]
  },
  {
   "cell_type": "markdown",
   "id": "a6a09837",
   "metadata": {
    "slideshow": {
     "slide_type": "slide"
    }
   },
   "source": [
    "# Example\n",
    "\n",
    "Test if a is:\n",
    "- greater than 1\n",
    "- less than or equal to 1"
   ]
  },
  {
   "cell_type": "code",
   "execution_count": 3,
   "id": "070a2136",
   "metadata": {},
   "outputs": [
    {
     "name": "stdout",
     "output_type": "stream",
     "text": [
      "less than or equal to 1\n"
     ]
    }
   ],
   "source": [
    "a = 0\n",
    "\n",
    "if a > 1:\n",
    "    print('greater than 1')\n",
    "else:\n",
    "    print('less than or equal to 1')"
   ]
  },
  {
   "cell_type": "markdown",
   "id": "32cf5a9b",
   "metadata": {
    "slideshow": {
     "slide_type": "fragment"
    }
   },
   "source": [
    "**One** of the indented blocks of code (after `if` __or__ after `else`) is executed every time the code is run. "
   ]
  },
  {
   "cell_type": "markdown",
   "id": "3414c9f1",
   "metadata": {
    "slideshow": {
     "slide_type": "slide"
    }
   },
   "source": [
    "# Examples"
   ]
  },
  {
   "cell_type": "markdown",
   "id": "a7d9b495",
   "metadata": {},
   "source": [
    "Test if x is less than y"
   ]
  },
  {
   "cell_type": "code",
   "execution_count": 5,
   "id": "7561d789",
   "metadata": {},
   "outputs": [
    {
     "name": "stdout",
     "output_type": "stream",
     "text": [
      "x not less than y\n"
     ]
    }
   ],
   "source": [
    "x, y = 1, 1\n",
    "\n",
    "if x < y:\n",
    "    print('x less than y')\n",
    "    \n",
    "else:\n",
    "    print('x not less than y')"
   ]
  },
  {
   "cell_type": "markdown",
   "id": "30f179b0",
   "metadata": {
    "slideshow": {
     "slide_type": "slide"
    }
   },
   "source": [
    "Test if x is equal to y"
   ]
  },
  {
   "cell_type": "code",
   "execution_count": 8,
   "id": "41eb5864",
   "metadata": {},
   "outputs": [
    {
     "name": "stdout",
     "output_type": "stream",
     "text": [
      "x equals y\n"
     ]
    }
   ],
   "source": [
    "x, y = 6.0, 6\n",
    "\n",
    "if x == y:\n",
    "    print('x equals y')\n",
    "else:\n",
    "    print(\"x doesn't equal y\")"
   ]
  },
  {
   "cell_type": "markdown",
   "id": "a37e88af",
   "metadata": {
    "slideshow": {
     "slide_type": "slide"
    }
   },
   "source": [
    "Test if x and y are non-zero\n",
    "\n",
    "Assume x and y are numerical values"
   ]
  },
  {
   "cell_type": "code",
   "execution_count": 27,
   "id": "a0eac262",
   "metadata": {},
   "outputs": [
    {
     "name": "stdout",
     "output_type": "stream",
     "text": [
      "x and y are non-zero\n"
     ]
    }
   ],
   "source": [
    "x, y = 1, 1\n",
    "\n",
    "if bool(x) and bool(y):\n",
    "    print('x and y are non-zero')\n",
    "else:\n",
    "    print('x or y are zero')\n",
    "    "
   ]
  },
  {
   "cell_type": "markdown",
   "id": "476c4b2d",
   "metadata": {
    "slideshow": {
     "slide_type": "slide"
    }
   },
   "source": [
    "Test if at least one of x and y is non-zero"
   ]
  },
  {
   "cell_type": "code",
   "execution_count": 26,
   "id": "309d6eb6",
   "metadata": {},
   "outputs": [
    {
     "name": "stdout",
     "output_type": "stream",
     "text": [
      "x and y are zero\n"
     ]
    }
   ],
   "source": [
    "x, y = 0, 0\n",
    "\n",
    "if bool(x) or bool(y):\n",
    "    print('x or y is non-zero')\n",
    "else:\n",
    "    print('x and y are zero')"
   ]
  },
  {
   "cell_type": "markdown",
   "id": "e439e5f1",
   "metadata": {
    "slideshow": {
     "slide_type": "slide"
    }
   },
   "source": [
    "The role of the indent is the same as for the `if` statement. \n",
    "\n",
    "After the control structure, the next unindented line of code is run. "
   ]
  },
  {
   "cell_type": "markdown",
   "id": "b448603c",
   "metadata": {
    "slideshow": {
     "slide_type": "slide"
    }
   },
   "source": [
    "# Example\n",
    "\n",
    "If the value of `a` is:\n",
    "- an even number, print `even`\n",
    "- an odd number, print `odd`\n",
    "\n",
    "\n",
    "Print `a`"
   ]
  },
  {
   "cell_type": "code",
   "execution_count": 20,
   "id": "183cf9d0",
   "metadata": {},
   "outputs": [
    {
     "name": "stdout",
     "output_type": "stream",
     "text": [
      "x and y are zero\n"
     ]
    }
   ],
   "source": [
    "x, y = 0, 0\n",
    "\n",
    "if not bool(x) or bool(y):\n",
    "    print('x and y are zero')"
   ]
  },
  {
   "cell_type": "code",
   "execution_count": 22,
   "id": "22793eed",
   "metadata": {},
   "outputs": [
    {
     "name": "stdout",
     "output_type": "stream",
     "text": [
      "odd\n",
      "9\n"
     ]
    }
   ],
   "source": [
    "a = 9\n",
    "if a % 2 == 0:\n",
    "    print('even')\n",
    "else:\n",
    "    print('odd')\n",
    "print(a)"
   ]
  },
  {
   "cell_type": "markdown",
   "id": "4b182ddc",
   "metadata": {
    "slideshow": {
     "slide_type": "slide"
    }
   },
   "source": [
    "# Example\n",
    "\n",
    "If the value of `a` is:\n",
    "- an even number, increase the value of `a` by 1\n",
    "- an odd number, decrease the value of `a` by 2\n",
    "\n",
    "Print `a`"
   ]
  },
  {
   "cell_type": "code",
   "execution_count": 25,
   "id": "fb9862c4",
   "metadata": {},
   "outputs": [
    {
     "name": "stdout",
     "output_type": "stream",
     "text": [
      "9\n"
     ]
    }
   ],
   "source": [
    "a = 8\n",
    "if a % 2 == 0:\n",
    "    a += 1\n",
    "else:\n",
    "    a -= 2\n",
    "print(a)"
   ]
  },
  {
   "cell_type": "markdown",
   "id": "2e0352ad",
   "metadata": {
    "slideshow": {
     "slide_type": "slide"
    }
   },
   "source": [
    "### Need to see some more examples? \n",
    "https://www.w3schools.com/python/python_conditions.asp\n",
    "<br>https://www.geeksforgeeks.org/python-if-else/\n",
    "<br>https://pynative.com/python-if-else-and-for-loop-exercise-with-solutions/\n",
    "\n",
    "### Want some more advanced information on this topic?\n",
    "https://realpython.com/python-conditional-statements/\n"
   ]
  },
  {
   "cell_type": "code",
   "execution_count": null,
   "id": "f98c0e45",
   "metadata": {},
   "outputs": [],
   "source": []
  }
 ],
 "metadata": {
  "celltoolbar": "Slideshow",
  "kernelspec": {
   "display_name": "Python 3 (ipykernel)",
   "language": "python",
   "name": "python3"
  },
  "language_info": {
   "codemirror_mode": {
    "name": "ipython",
    "version": 3
   },
   "file_extension": ".py",
   "mimetype": "text/x-python",
   "name": "python",
   "nbconvert_exporter": "python",
   "pygments_lexer": "ipython3",
   "version": "3.10.9"
  }
 },
 "nbformat": 4,
 "nbformat_minor": 5
}
