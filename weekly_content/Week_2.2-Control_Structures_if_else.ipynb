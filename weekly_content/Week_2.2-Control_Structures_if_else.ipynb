{
 "cells": [
  {
   "cell_type": "markdown",
   "id": "b02a48fc",
   "metadata": {
    "slideshow": {
     "slide_type": "slide"
    }
   },
   "source": [
    "# Introduction to Computer Programming\n",
    "\n",
    "## Control Structures - `if`... `else` statements\n",
    "\n",
    "<img src=\"img/full-colour-logo-UoB.png\" alt=\"Drawing\" style=\"width: 300px;\"/>"
   ]
  },
  {
   "cell_type": "markdown",
   "id": "6fb96e41",
   "metadata": {
    "slideshow": {
     "slide_type": "skip"
    }
   },
   "source": [
    "# `if`... `else`\n",
    "- Runs a block of code only if the `if` a conditional statement is `True` \n",
    "- Otherwise runs a *different* block of code \n",
    "\n",
    "<center>\n",
    "  <img src=\"img/if_else_flow_.png\" alt=\"Drawing\" style=\"width: 400px;\"/>\n",
    "</center>"
   ]
  },
  {
   "cell_type": "markdown",
   "id": "02dc286a",
   "metadata": {},
   "source": [
    "# The `if...else` control structure\n",
    "\n",
    "Executes a block of code only `if` the Boolean value of a conditional expression is `True`\n",
    "\n",
    "Otherwise executes a different block of code. \n",
    "\n",
    "The syntax looks like:\n",
    "    \n",
    "```python\n",
    "if conditional_expression:\n",
    "    operation_A\n",
    "else:\n",
    "    operation_B\n",
    "```\n",
    "\n",
    "***\n",
    "\n",
    "### Example"
   ]
  },
  {
   "cell_type": "code",
   "execution_count": 2,
   "id": "070a2136",
   "metadata": {},
   "outputs": [
    {
     "name": "stdout",
     "output_type": "stream",
     "text": [
      "hello world\n"
     ]
    }
   ],
   "source": [
    "a = 2\n",
    "\n",
    "if a > 1:\n",
    "    print('hello world')\n",
    "    \n",
    "else:\n",
    "    print('hello universe')"
   ]
  },
  {
   "cell_type": "markdown",
   "id": "32cf5a9b",
   "metadata": {},
   "source": [
    "**One** of the indented blocks of code (after `if` __or__ after `else`) is executed every time the code is run. "
   ]
  },
  {
   "cell_type": "markdown",
   "id": "3414c9f1",
   "metadata": {},
   "source": [
    "# Examples"
   ]
  },
  {
   "cell_type": "code",
   "execution_count": 2,
   "id": "42cfa974",
   "metadata": {},
   "outputs": [],
   "source": [
    "x = 0\n",
    "y = 10"
   ]
  },
  {
   "cell_type": "code",
   "execution_count": 3,
   "id": "7561d789",
   "metadata": {},
   "outputs": [
    {
     "name": "stdout",
     "output_type": "stream",
     "text": [
      "Hello world\n"
     ]
    }
   ],
   "source": [
    "if x < y:\n",
    "    print('x is less than y')\n",
    "else:\n",
    "    print('x is greater than or equal to y')"
   ]
  },
  {
   "cell_type": "code",
   "execution_count": 4,
   "id": "41eb5864",
   "metadata": {},
   "outputs": [],
   "source": [
    "if x == y:\n",
    "    print('x is equal to y')\n",
    "else:\n",
    "    print('x is not equal to y')"
   ]
  },
  {
   "cell_type": "code",
   "execution_count": 5,
   "id": "a0eac262",
   "metadata": {},
   "outputs": [],
   "source": [
    "if x and y:\n",
    "    print('x and y are non-zero')\n",
    "else:\n",
    "    print('at least one of x and y is zero')"
   ]
  },
  {
   "cell_type": "code",
   "execution_count": 6,
   "id": "309d6eb6",
   "metadata": {},
   "outputs": [
    {
     "name": "stdout",
     "output_type": "stream",
     "text": [
      "Hello world\n"
     ]
    }
   ],
   "source": [
    "if x or y:\n",
    "    print('at least one of x and y is non-zero')\n",
    "else:\n",
    "    print('both x and y are zero')"
   ]
  },
  {
   "cell_type": "markdown",
   "id": "e439e5f1",
   "metadata": {
    "slideshow": {
     "slide_type": "slide"
    }
   },
   "source": [
    "The role of the indent is the same as for the `if` statement. \n",
    "\n",
    "After the control structure, the next unindented line of code is run. "
   ]
  },
  {
   "cell_type": "markdown",
   "id": "b448603c",
   "metadata": {
    "slideshow": {
     "slide_type": "slide"
    }
   },
   "source": [
    "# Example\n",
    "\n",
    "If the value of `a` is:\n",
    "- an even number, print `even`\n",
    "- an odd number, print `odd`\n",
    "\n",
    "\n",
    "Print `a`"
   ]
  },
  {
   "cell_type": "code",
   "execution_count": 4,
   "id": "22793eed",
   "metadata": {},
   "outputs": [
    {
     "name": "stdout",
     "output_type": "stream",
     "text": [
      "even\n",
      "a\n"
     ]
    }
   ],
   "source": [
    "a = 10\n",
    "\n",
    "if a % 2 == 0:\n",
    "    print('even')\n",
    "else:\n",
    "    print('odd')\n",
    "    \n",
    "print('a')"
   ]
  },
  {
   "cell_type": "markdown",
   "id": "4b182ddc",
   "metadata": {
    "slideshow": {
     "slide_type": "slide"
    }
   },
   "source": [
    "# Example\n",
    "\n",
    "If the value of `a` is:\n",
    "- an even number, increase the value of `a` by 1\n",
    "- an odd number, decrease the value of `a` by 2\n",
    "\n",
    "Print `a`"
   ]
  },
  {
   "cell_type": "code",
   "execution_count": 7,
   "id": "fb9862c4",
   "metadata": {},
   "outputs": [
    {
     "name": "stdout",
     "output_type": "stream",
     "text": [
      "10\n"
     ]
    }
   ],
   "source": [
    "a = 11\n",
    "\n",
    "if a % 2 == 0:\n",
    "    a += 1\n",
    "else:\n",
    "    a -= 1\n",
    "    \n",
    "print(a)"
   ]
  },
  {
   "cell_type": "markdown",
   "id": "2e0352ad",
   "metadata": {},
   "source": [
    "### Need to see some more examples? \n",
    "https://www.w3schools.com/python/python_conditions.asp\n",
    "<br>https://www.geeksforgeeks.org/python-if-else/\n",
    "<br>https://pynative.com/python-if-else-and-for-loop-exercise-with-solutions/\n",
    "\n",
    "### Want some more advanced information on this topic?\n",
    "https://realpython.com/python-conditional-statements/\n"
   ]
  },
  {
   "cell_type": "code",
   "execution_count": null,
   "id": "f98c0e45",
   "metadata": {},
   "outputs": [],
   "source": []
  }
 ],
 "metadata": {
  "celltoolbar": "Slideshow",
  "kernelspec": {
   "display_name": "Python 3 (ipykernel)",
   "language": "python",
   "name": "python3"
  },
  "language_info": {
   "codemirror_mode": {
    "name": "ipython",
    "version": 3
   },
   "file_extension": ".py",
   "mimetype": "text/x-python",
   "name": "python",
   "nbconvert_exporter": "python",
   "pygments_lexer": "ipython3",
   "version": "3.10.9"
  }
 },
 "nbformat": 4,
 "nbformat_minor": 5
}
