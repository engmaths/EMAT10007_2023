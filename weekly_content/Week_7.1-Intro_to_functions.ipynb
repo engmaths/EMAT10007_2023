{
 "cells": [
  {
   "cell_type": "markdown",
   "metadata": {
    "slideshow": {
     "slide_type": "slide"
    }
   },
   "source": [
    "# Introduction to Computer Programming\n",
    "\n",
    "## Week 4.1: Introduction to functions\n",
    "\n",
    "* * *\n",
    "\n",
    "<img src=\"img/full-colour-logo-UoB.png\" alt=\"Bristol\" style=\"width: 300px;\"/>"
   ]
  },
  {
   "cell_type": "markdown",
   "metadata": {
    "slideshow": {
     "slide_type": "slide"
    }
   },
   "source": [
    "# Functions\n",
    "\n",
    "A **function** is a collection of programming operations (lines of code) that have been packaged together and given a name\n",
    "* These operations can involve variable assignment, mathematical operations, loops, if-else statements, etc\n",
    "\n",
    "Functions are the building blocks of Python programs\n",
    "* They can be thought of as mini-programs that carry out specific tasks (e.g. square a number)"
   ]
  },
  {
   "cell_type": "markdown",
   "metadata": {
    "slideshow": {
     "slide_type": "slide"
    }
   },
   "source": [
    "# Examples of functions we've already seen\n",
    "\n",
    "Python comes with a number of in-built functions\n",
    "* `len(s)` computes the number of characters in a string $s$\n",
    "* `max(L)` computes the maximum entry in a list of numbers called *L*\n",
    "\n",
    "We can also write our own functions in Python\n",
    "* We could write a function `add_one(x)` that adds the value 1 to the number $x$"
   ]
  },
  {
   "cell_type": "markdown",
   "metadata": {
    "slideshow": {
     "slide_type": "slide"
    }
   },
   "source": [
    "# Why would be write our own functions?\n",
    "\n",
    "* It reduces the need to copy and paste code that does the same operation, making code more reusable (repetition)\n",
    "* It makes programs easy to maintain, more readable, and easier to understand (modularity)"
   ]
  },
  {
   "cell_type": "markdown",
   "metadata": {
    "slideshow": {
     "slide_type": "slide"
    }
   },
   "source": [
    "# Writing a basic function (no inputs or outputs)\n",
    "\n",
    "Let's look at an example of a function that prints a message to the screen"
   ]
  },
  {
   "cell_type": "code",
   "execution_count": 6,
   "metadata": {},
   "outputs": [],
   "source": [
    "def hello_world():\n",
    "    print('This function prints hello world')"
   ]
  },
  {
   "cell_type": "markdown",
   "metadata": {
    "slideshow": {
     "slide_type": "fragment"
    }
   },
   "source": [
    "* The `def` keyword tells Python we are about to define a function\n",
    "* The name of the function is `hello_world`\n",
    "* The round brackets are for inputs - leave empty for now\n",
    "* Indended lines of code beneath the `def` keyword are contained in the function\n"
   ]
  },
  {
   "cell_type": "markdown",
   "metadata": {
    "slideshow": {
     "slide_type": "slide"
    }
   },
   "source": [
    "# Executing a function\n",
    "\n",
    "Once a function has been defined, it can be used by writing out its name along with round brackets"
   ]
  },
  {
   "cell_type": "code",
   "execution_count": 7,
   "metadata": {},
   "outputs": [
    {
     "name": "stdout",
     "output_type": "stream",
     "text": [
      "This function prints hello world\n"
     ]
    }
   ],
   "source": [
    "hello_world()"
   ]
  },
  {
   "cell_type": "markdown",
   "metadata": {
    "slideshow": {
     "slide_type": "fragment"
    }
   },
   "source": [
    "We use an empty pair of round brackets here since the function does not require any inputs\n",
    "\n",
    "When we run a function, we say that are **calling** or **executing** the function"
   ]
  },
  {
   "cell_type": "markdown",
   "metadata": {
    "slideshow": {
     "slide_type": "slide"
    }
   },
   "source": [
    "# Function naming conventions\n",
    "\n",
    "It is important to use one naming style for all of your functions\n",
    "\n",
    "A popular naming convention is to use lower-case letters with underscores for spaces\n",
    "\n",
    "For example, `hello_world` or `print_names`"
   ]
  },
  {
   "cell_type": "markdown",
   "metadata": {
    "slideshow": {
     "slide_type": "slide"
    }
   },
   "source": [
    "# What makes a good function?\n",
    "\n",
    "* Has a **single** purpose\n",
    "    * A function can involve multiple steps, but they should work towards a single main result\n",
    "* Has a clear and concise name that is descriptive\n",
    "    * Good examples include `is_even` and `swap_values`\n",
    "    * Do not use function names that are vague (`fun1`, `fun2`) or long (`swap_the_value_of_two_variables`)\n",
    "* Is well documented (more on this in video 7.3)"
   ]
  },
  {
   "cell_type": "markdown",
   "metadata": {
    "slideshow": {
     "slide_type": "slide"
    }
   },
   "source": [
    "# Summary\n",
    "\n",
    "* A function is a group of code that has been given a name\n",
    "* Functions are used to minimise repeated code and organise programmes\n",
    "* Functions are defined with the `def` keyword\n",
    "* Good functions serve a single purpose"
   ]
  }
 ],
 "metadata": {
  "celltoolbar": "Slideshow",
  "kernelspec": {
   "display_name": "Python 3 (ipykernel)",
   "language": "python",
   "name": "python3"
  },
  "language_info": {
   "codemirror_mode": {
    "name": "ipython",
    "version": 3
   },
   "file_extension": ".py",
   "mimetype": "text/x-python",
   "name": "python",
   "nbconvert_exporter": "python",
   "pygments_lexer": "ipython3",
   "version": "3.11.4"
  }
 },
 "nbformat": 4,
 "nbformat_minor": 4
}
