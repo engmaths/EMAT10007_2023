{
 "cells": [
  {
   "cell_type": "markdown",
   "id": "16c271fd",
   "metadata": {
    "slideshow": {
     "slide_type": "slide"
    }
   },
   "source": [
    "# Introduction to Computer Programming\n",
    "\n",
    "## Objects and Variables\n",
    "\n",
    "<img src=\"img/full-colour-logo-UoB.png\" alt=\"Drawing\" style=\"width: 300px;\"/>"
   ]
  },
  {
   "cell_type": "markdown",
   "id": "31c4cdea",
   "metadata": {
    "slideshow": {
     "slide_type": "slide"
    }
   },
   "source": [
    "# Objects \n",
    " - Every item of data (numbers, text characters etc) in a Python program can be described by the term __object__\n",
    " - The type of an object determines what properties it has and how it can be used in the Python program"
   ]
  },
  {
   "cell_type": "code",
   "execution_count": 2,
   "id": "a4fe01a0",
   "metadata": {},
   "outputs": [
    {
     "data": {
      "text/plain": [
       "1.2"
      ]
     },
     "execution_count": 2,
     "metadata": {},
     "output_type": "execute_result"
    }
   ],
   "source": [
    "30\n",
    "'Python'\n",
    "1.2"
   ]
  },
  {
   "cell_type": "markdown",
   "id": "fd26ce43",
   "metadata": {
    "slideshow": {
     "slide_type": "slide"
    }
   },
   "source": [
    "# Variables and Variable Assignment\n",
    " - A variable is a name that refers or points to a particular object\n",
    " - By *assigning* an object to a variable, we allow it to be manipulated within the program, using the variable name\n",
    "- To create a variable, we simply assign it a value\n",
    "- Assignment is achieved with a single equals sign (`=`)\n",
    "\n",
    "<img src=\"img/assignment_b.png\" style=\"width: 250px;\"/>"
   ]
  },
  {
   "cell_type": "code",
   "execution_count": 16,
   "id": "3758c6fc",
   "metadata": {
    "scrolled": true
   },
   "outputs": [
    {
     "name": "stdout",
     "output_type": "stream",
     "text": [
      "4\n"
     ]
    }
   ],
   "source": []
  },
  {
   "cell_type": "markdown",
   "id": "1027a526",
   "metadata": {},
   "source": [
    "*The Python function `print()` displays whatever is between the parentheses `(...)`*"
   ]
  },
  {
   "cell_type": "markdown",
   "id": "87219e71",
   "metadata": {
    "slideshow": {
     "slide_type": "slide"
    }
   },
   "source": [
    "<img src=\"img/assignment_ab.png\" style=\"width: 300px;\"/>"
   ]
  },
  {
   "cell_type": "code",
   "execution_count": 10,
   "id": "2bc930ab",
   "metadata": {
    "slideshow": {
     "slide_type": "-"
    }
   },
   "outputs": [
    {
     "name": "stdout",
     "output_type": "stream",
     "text": [
      "1\n",
      "2\n"
     ]
    }
   ],
   "source": []
  },
  {
   "cell_type": "markdown",
   "id": "a44920df",
   "metadata": {
    "slideshow": {
     "slide_type": "slide"
    }
   },
   "source": [
    "<img src=\"img/assignment_abc.png\" style=\"width: 300px;\"/>"
   ]
  },
  {
   "cell_type": "code",
   "execution_count": 12,
   "id": "4448b555",
   "metadata": {
    "slideshow": {
     "slide_type": "-"
    }
   },
   "outputs": [
    {
     "name": "stdout",
     "output_type": "stream",
     "text": [
      "3 3 3\n"
     ]
    }
   ],
   "source": []
  },
  {
   "cell_type": "markdown",
   "id": "105a9fd6",
   "metadata": {
    "slideshow": {
     "slide_type": "slide"
    }
   },
   "source": [
    "# Object Types\n",
    "The type of an object determines what properties it has and how it can be used in the Python program\n",
    " \n",
    " __Basic Object Types__ \n",
    " <br>(not exhaustive)\n",
    " \n",
    "- `int` __integer__: (e.g. 3, 88)\n",
    "- `float` __floating point number__: number with decimal point (e.g. 1.5, 99.9626)\n",
    "- `str` __string__: text data enclosed within quotation marks (e.g. `'hello'` or `\"12\"`)\n",
    "- `bool` __Boolean__: `True` or `False` (first letter capitalised)"
   ]
  },
  {
   "cell_type": "markdown",
   "id": "4dc545c5",
   "metadata": {
    "slideshow": {
     "slide_type": "slide"
    }
   },
   "source": [
    "# Integer (`int`)\n",
    "A whole number, with no decimal place"
   ]
  },
  {
   "cell_type": "code",
   "execution_count": 33,
   "id": "fcbe3bea",
   "metadata": {},
   "outputs": [
    {
     "data": {
      "text/plain": [
       "int"
      ]
     },
     "execution_count": 33,
     "metadata": {},
     "output_type": "execute_result"
    }
   ],
   "source": [
    "type(1)"
   ]
  },
  {
   "cell_type": "markdown",
   "id": "acc947c4",
   "metadata": {},
   "source": [
    "*The Python function `type()` function returns the type of a variable within the parentheses `(...)`*\n",
    "\n",
    "*The Python function `print()` displays whatever is between the parentheses `(...)`*\n",
    " "
   ]
  },
  {
   "cell_type": "code",
   "execution_count": null,
   "id": "bdfd35fd",
   "metadata": {
    "slideshow": {
     "slide_type": "fragment"
    }
   },
   "outputs": [],
   "source": []
  },
  {
   "cell_type": "markdown",
   "id": "bdfe0312",
   "metadata": {
    "slideshow": {
     "slide_type": "slide"
    }
   },
   "source": [
    "# Floating point (`float`) \n",
    "A decimal (consisting of a whole and a fractional part) or fractional number"
   ]
  },
  {
   "cell_type": "code",
   "execution_count": 34,
   "id": "0a697789",
   "metadata": {},
   "outputs": [
    {
     "data": {
      "text/plain": [
       "float"
      ]
     },
     "execution_count": 34,
     "metadata": {},
     "output_type": "execute_result"
    }
   ],
   "source": [
    "type(1.0)"
   ]
  },
  {
   "cell_type": "code",
   "execution_count": null,
   "id": "dd67d0fc",
   "metadata": {
    "slideshow": {
     "slide_type": "fragment"
    }
   },
   "outputs": [],
   "source": []
  },
  {
   "cell_type": "markdown",
   "id": "a1adc563",
   "metadata": {
    "slideshow": {
     "slide_type": "slide"
    }
   },
   "source": [
    "# Numerical value storage\n",
    "\n",
    "In daily life we mostly use the **denary** or **base-10** number system.\n",
    "\n",
    "Each number is formed by finding sum of each base-10 number, multiplied by a factor (0-9).\n",
    "\n",
    "Consider the number 104.02\n",
    "\n",
    "|                 |  $10^2$ | $10^1$ | $10^0$  | $10^-1$ | $10^-2$ | \n",
    "| :----------     | :------ | :----- | :------ | :-----  | :------ |\n",
    "| **Denary value**| 100     |10      | 1       | 0.1     | 0.01    |    \n",
    "| **Factor**      | 1       | 0      | 4       | 0       | 2       |\n",
    "| **Total**       | 100     | 0      | 4       | 0       | 0.02    |\n",
    "\n",
    "Sum of columns = 100 + 4 + 0.02 = 104.02"
   ]
  },
  {
   "cell_type": "markdown",
   "id": "9db1a313",
   "metadata": {
    "slideshow": {
     "slide_type": "slide"
    }
   },
   "source": [
    "Numbers are stored on a computer as **binary** or **base-2** numbers.\n",
    "\n",
    "Each number is formed by finding sum of base-2 numbers, each multiplied by a factor **1 or 0**.\n",
    "\n",
    "Think of these as \"on\" (1) and \"off\" (0) switches\n",
    "\n",
    "Consider the number 25\n",
    "\n",
    "|                 |  $2^4$  | $2^3$  | $2^2$   | $2^1$   | $2^0$   | \n",
    "| :----------     | :------ | :----- | :------ | :-----  | :------ |\n",
    "| **Binary value**| 16      |8       | 4       | 2       | 1       |    \n",
    "| **Factor**      | 1       | 1      | 0       | 0       | 1       |\n",
    "| **Total**       | 16      | 8      | 0       | 0       | 1       |\n",
    "\n",
    "Sum of columns = 16 + 8 + 1 = 25"
   ]
  },
  {
   "cell_type": "markdown",
   "id": "ec2c4b68",
   "metadata": {
    "slideshow": {
     "slide_type": "slide"
    }
   },
   "source": [
    "# Integer storage\n",
    "\n",
    "Any integer (whole number) can be represented in binary (if we have enough bits)\n",
    "\n",
    "The upper limit on available bits is determined by the amount of memory a computer system has."
   ]
  },
  {
   "cell_type": "markdown",
   "id": "4a05ffd7",
   "metadata": {
    "slideshow": {
     "slide_type": "slide"
    }
   },
   "source": [
    "# Floating point storage\n",
    "\n",
    "To store floating point numbers in binary, base-2 numbers with negative exponents are used. \n",
    "\n",
    "Consider the numbers 4.5 and 4.125\n",
    "\n",
    "|                 |  $2^2$  | $2^1$  | $2^0$   | $2^-1$   | $2^-2$   | \n",
    "| :----------     | :------ | :----- | :------ | :-----   | :------  |\n",
    "| **Binary value**| 4       |2       | 1       | 0.5      | 0.25     |    \n",
    "| **Factor**      | 1       | 0      | 0       | 1        | 0        |\n",
    "| **Total**       | 4       | 0      | 0       | 0.5      | 0        |\n",
    "\n",
    "We can represent 4.5 exactly using 5 columns (5 bits). \n",
    "<br>Sum of columns = 4 + 0.5 = 4.5\n",
    "\n",
    "We *can't* represent 4.125 exactly using 5 columns (5 bits). \n",
    "<br>Closest estimate: 4.125 = 4 + 0.25 = 4.25 (this result contains an error of 0.125)\n",
    "\n",
    "If we had an extra column (bit), $2^-2$, we could represent the number exactly. "
   ]
  },
  {
   "cell_type": "markdown",
   "id": "76e9b7f0",
   "metadata": {
    "slideshow": {
     "slide_type": "slide"
    }
   },
   "source": [
    "For integers, the number of bits used to store the number is unlimited (available computer memory is the limitation) \n",
    "\n",
    "In Python (and many other programming languages) floating point numbers are stored on your computer using a fixed number of 64 bits\n",
    "\n",
    "This means we must use a finite number of bits to try and represent and infinite amount of numbers.\n",
    "\n",
    "Therefore many fractional numbers can’t be represented exactly using floating point format."
   ]
  },
  {
   "cell_type": "markdown",
   "id": "0026cd10",
   "metadata": {
    "slideshow": {
     "slide_type": "slide"
    }
   },
   "source": [
    "# Floating point error\n",
    "\n",
    "\n",
    "Because we have 64 bits to store the number, the difference between the true value and the stored value of the floating point number is small (17 d.p. in examples below).  \n",
    "\n",
    "Python function `print()` displays a value. The number decimal points determined by the input value.\n",
    "\n",
    "The Python function `format()` displays formatted using the comma-separated second value within the parentheses `()`. <br>`'.17f'`: display a floating number with 17 digits after the decimal point."
   ]
  },
  {
   "cell_type": "code",
   "execution_count": 6,
   "id": "6eddbd28",
   "metadata": {},
   "outputs": [
    {
     "name": "stdout",
     "output_type": "stream",
     "text": [
      "0.1\n"
     ]
    },
    {
     "data": {
      "text/plain": [
       "'0.10000000000000001'"
      ]
     },
     "execution_count": 6,
     "metadata": {},
     "output_type": "execute_result"
    }
   ],
   "source": [
    "print(0.1)\n",
    "format(0.1, '.17f') # value to 17 dp"
   ]
  },
  {
   "cell_type": "code",
   "execution_count": 1,
   "id": "91bebb8c",
   "metadata": {
    "slideshow": {
     "slide_type": "fragment"
    }
   },
   "outputs": [
    {
     "name": "stdout",
     "output_type": "stream",
     "text": [
      "0.2\n"
     ]
    }
   ],
   "source": [
    "print(0.2)"
   ]
  },
  {
   "cell_type": "code",
   "execution_count": 2,
   "id": "7a8952aa",
   "metadata": {
    "slideshow": {
     "slide_type": "fragment"
    }
   },
   "outputs": [
    {
     "name": "stdout",
     "output_type": "stream",
     "text": [
      "0.3\n"
     ]
    }
   ],
   "source": [
    "print(0.3)\n"
   ]
  },
  {
   "cell_type": "markdown",
   "id": "27ee123f",
   "metadata": {
    "slideshow": {
     "slide_type": "slide"
    }
   },
   "source": [
    "# String (`string`)\n",
    "A collection of characters (alphabetical, numerical, or other e.g. punctuation)"
   ]
  },
  {
   "cell_type": "code",
   "execution_count": 19,
   "id": "a1b53375",
   "metadata": {
    "slideshow": {
     "slide_type": "-"
    }
   },
   "outputs": [
    {
     "name": "stdout",
     "output_type": "stream",
     "text": [
      "<class 'str'>\n",
      "<class 'str'>\n",
      "<class 'str'>\n"
     ]
    }
   ],
   "source": [
    "c = '10'\n",
    "d = 'python 3'\n",
    "e = 'hello world!'\n",
    "\n",
    "print(type(c))\n",
    "print(type(d))\n",
    "print(type(e))"
   ]
  },
  {
   "cell_type": "markdown",
   "id": "fc04d9b8",
   "metadata": {
    "slideshow": {
     "slide_type": "slide"
    }
   },
   "source": [
    "Unlike numerical data, `strings` are **subscriptable**\n",
    "\n",
    "This means that each character of the string has an **index** that can be used to access it \n",
    "\n",
    "Characters are **indexed** with integer values, starting from 0\n",
    "\n",
    "We can return the Nth character(s) of a string with `string_name[N]`"
   ]
  },
  {
   "cell_type": "code",
   "execution_count": 20,
   "id": "6a76bc1f",
   "metadata": {},
   "outputs": [],
   "source": [
    "x = 'Hello'"
   ]
  },
  {
   "cell_type": "code",
   "execution_count": 21,
   "id": "10f3168a",
   "metadata": {
    "slideshow": {
     "slide_type": "fragment"
    }
   },
   "outputs": [
    {
     "name": "stdout",
     "output_type": "stream",
     "text": [
      "H\n"
     ]
    }
   ],
   "source": [
    "print( x[0] )   # First letter"
   ]
  },
  {
   "cell_type": "code",
   "execution_count": 22,
   "id": "8a5067eb",
   "metadata": {
    "slideshow": {
     "slide_type": "fragment"
    }
   },
   "outputs": [
    {
     "name": "stdout",
     "output_type": "stream",
     "text": [
      "o\n",
      "o\n"
     ]
    }
   ],
   "source": [
    "# Last letter\n"
   ]
  },
  {
   "cell_type": "code",
   "execution_count": 23,
   "id": "2174e7c4",
   "metadata": {
    "slideshow": {
     "slide_type": "fragment"
    }
   },
   "outputs": [
    {
     "name": "stdout",
     "output_type": "stream",
     "text": [
      "Hel\n",
      "Hel\n"
     ]
    }
   ],
   "source": [
    "# First 3 letters (excludes 'stop value')\n"
   ]
  },
  {
   "cell_type": "code",
   "execution_count": 24,
   "id": "7be89b20",
   "metadata": {
    "slideshow": {
     "slide_type": "fragment"
    }
   },
   "outputs": [
    {
     "name": "stdout",
     "output_type": "stream",
     "text": [
      "llo\n",
      "llo\n",
      "llo\n"
     ]
    }
   ],
   "source": [
    "# Last three letters\n",
    "\n"
   ]
  },
  {
   "cell_type": "markdown",
   "id": "8e86403b",
   "metadata": {
    "slideshow": {
     "slide_type": "slide"
    }
   },
   "source": [
    "There are a number of operations that can be performed on a `string`\n",
    "\n",
    "These are known as **methods**\n",
    "\n",
    "The method is used on a variable by placing the method name after the varibale name, seperated by a dot/period/point `.`\n",
    "\n",
    "A full list of string methods can be found here:\n",
    "https://www.w3schools.com/python/python_ref_string.asp\n",
    "\n",
    "Examples:\n",
    " - `upper` (converts to upper case letters)\n",
    " - `find` (finds index of first ocurance of a specific character)\n",
    "\n"
   ]
  },
  {
   "cell_type": "code",
   "execution_count": 25,
   "id": "c828c8a6",
   "metadata": {},
   "outputs": [
    {
     "name": "stdout",
     "output_type": "stream",
     "text": [
      "HELLO\n"
     ]
    }
   ],
   "source": [
    "y = x.upper()\n",
    "print(y)"
   ]
  },
  {
   "cell_type": "code",
   "execution_count": 26,
   "id": "dda72fac",
   "metadata": {},
   "outputs": [
    {
     "name": "stdout",
     "output_type": "stream",
     "text": [
      "2\n"
     ]
    }
   ],
   "source": []
  },
  {
   "cell_type": "markdown",
   "id": "cf40bd53",
   "metadata": {
    "slideshow": {
     "slide_type": "slide"
    }
   },
   "source": [
    "# Boolean (`bool`)\n",
    "Binary True or False values "
   ]
  },
  {
   "cell_type": "code",
   "execution_count": 4,
   "id": "9ffc41b1",
   "metadata": {
    "slideshow": {
     "slide_type": "-"
    }
   },
   "outputs": [
    {
     "name": "stdout",
     "output_type": "stream",
     "text": [
      "True <class 'bool'>\n"
     ]
    }
   ],
   "source": [
    "f = True\n",
    "g = False\n",
    "\n",
    "print(type(f))\n",
    "print(type(g))"
   ]
  },
  {
   "cell_type": "markdown",
   "id": "2e0352ad",
   "metadata": {
    "slideshow": {
     "slide_type": "slide"
    }
   },
   "source": [
    "### Need to see some more examples? \n",
    "https://www.w3schools.com/python/python_variables.asp\n",
    "<br>https://www.geeksforgeeks.org/python-variables/\n",
    "\n",
    "### Want to take a quiz?\n",
    "https://realpython.com/quizzes/python-variables/\n",
    "<br>https://pynative.com/python-variables-and-data-types-quiz/\n",
    "\n",
    "### Want some more advanced information?\n",
    "https://realpython.com/python-data-types/\n",
    "<br>https://realpython.com/python-variables/\n",
    "<br>https://pynative.com/python-variables/\n",
    "<br>https://www.youtube.com/watch?v=L8OYx1I8qNg"
   ]
  },
  {
   "cell_type": "code",
   "execution_count": null,
   "id": "6aef9984",
   "metadata": {},
   "outputs": [],
   "source": []
  }
 ],
 "metadata": {
  "celltoolbar": "Slideshow",
  "kernelspec": {
   "display_name": "Python 3 (ipykernel)",
   "language": "python",
   "name": "python3"
  },
  "language_info": {
   "codemirror_mode": {
    "name": "ipython",
    "version": 3
   },
   "file_extension": ".py",
   "mimetype": "text/x-python",
   "name": "python",
   "nbconvert_exporter": "python",
   "pygments_lexer": "ipython3",
   "version": "3.10.9"
  }
 },
 "nbformat": 4,
 "nbformat_minor": 5
}
