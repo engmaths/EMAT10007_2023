{
 "cells": [
  {
   "cell_type": "markdown",
   "metadata": {
    "slideshow": {
     "slide_type": "slide"
    }
   },
   "source": [
    "# Introduction to Computer Programming\n",
    "\n",
    "## Week 8.1: Reading data\n",
    "\n",
    "* * *\n",
    "\n",
    "<img src=\"img/full-colour-logo-UoB.png\" alt=\"Bristol\" style=\"width: 300px;\"/>"
   ]
  },
  {
   "cell_type": "markdown",
   "metadata": {
    "slideshow": {
     "slide_type": "slide"
    }
   },
   "source": [
    "# Aims\n",
    "\n",
    "In this video we will:\n",
    "\n",
    "* Introduce CSV files\n",
    "* Introduce the concept of downstream files\n",
    "* Show how data in a CSV file can be loaded into Python"
   ]
  },
  {
   "cell_type": "markdown",
   "metadata": {
    "slideshow": {
     "slide_type": "slide"
    }
   },
   "source": [
    "# CSV files\n",
    "\n",
    "* CSV stands for comma-separated values\n",
    "* CSV files are text files that contain data which is separated by commas\n",
    "* CSV files (.csv) are commonly used to store data\n",
    "* This data could be from Python code, Excel, or databases"
   ]
  },
  {
   "cell_type": "markdown",
   "metadata": {
    "slideshow": {
     "slide_type": "slide"
    }
   },
   "source": [
    "# Example\n",
    "\n",
    "Consider the data of the temperature at different times\n",
    "| Time (hours) | Temperature (C) |\n",
    "| :-: | :-: |\n",
    "| 0600 | 10.3 |\n",
    "| 0700 | 10.6 |\n",
    "| 0800 | 12.1 |\n",
    "| 0900 | 12.7 |\n",
    "| 1000 | 13.5 |\n",
    "| 1100 | 14.3 |\n",
    "| 1200 | 15.1 |"
   ]
  },
  {
   "cell_type": "markdown",
   "metadata": {
    "slideshow": {
     "slide_type": "slide"
    }
   },
   "source": [
    "This data is stored a CSV file called `temperature.csv`, which can be found on Blackboard\n",
    "<img src=\"img/csv_file.png\" style=\"width: 250px;\"/>"
   ]
  },
  {
   "cell_type": "markdown",
   "metadata": {
    "slideshow": {
     "slide_type": "slide"
    }
   },
   "source": [
    "# Importing data\n",
    "* Imagine that we have created a folder on our computer called ICP\n",
    "* This folder contains our main python program called `main.py` and the .csv file called `temperature.csv`\n",
    "```python\n",
    "ICP/\n",
    "|---main.py\n",
    "|---temperature.csv\n",
    "```"
   ]
  },
  {
   "cell_type": "markdown",
   "metadata": {
    "slideshow": {
     "slide_type": "slide"
    }
   },
   "source": [
    "In this case, we could open the file using the command\n",
    "```python\n",
    "file = open('temperature.csv', 'r')\n",
    "```\n",
    "The string 'r' means we are only opening the file to read the data in there"
   ]
  },
  {
   "cell_type": "markdown",
   "metadata": {
    "slideshow": {
     "slide_type": "slide"
    }
   },
   "source": [
    "* However, you might have a folder within the ICP folder that contains all of your data (.csv) files\n",
    "* Imagine that this folder is called `sample_data`\n",
    "```python\n",
    "ICP/\n",
    "|---main.py\n",
    "|---sample_data/\n",
    "        |---temperature.csv\n",
    "```\n",
    "Files that exist in the same folder as your Python (.py) file, or any of its subfolders, are called **downstream files**"
   ]
  },
  {
   "cell_type": "markdown",
   "metadata": {
    "slideshow": {
     "slide_type": "slide"
    }
   },
   "source": [
    "To load a file in a subfolder, we just add the name of the subfolder followed by a slash (/) before the file name"
   ]
  },
  {
   "cell_type": "code",
   "execution_count": 30,
   "metadata": {},
   "outputs": [],
   "source": [
    "file = open('sample_data/temperature.csv', 'r')"
   ]
  },
  {
   "cell_type": "markdown",
   "metadata": {
    "slideshow": {
     "slide_type": "slide"
    }
   },
   "source": [
    "Once we have opened a file using the `open` function, we can use a `for` loop to access its contents"
   ]
  },
  {
   "cell_type": "code",
   "execution_count": 31,
   "metadata": {
    "slideshow": {
     "slide_type": "slide"
    }
   },
   "outputs": [
    {
     "name": "stdout",
     "output_type": "stream",
     "text": [
      "Time (hour),Temperature (C)\n",
      "\n",
      "600,10.3\n",
      "\n",
      "700,10.6\n",
      "\n",
      "800,12.1\n",
      "\n",
      "900,12.7\n",
      "\n",
      "1000,13.5\n",
      "\n",
      "1100,14.3\n",
      "\n",
      "1200,15.1\n",
      "\n"
     ]
    }
   ],
   "source": [
    "for line in file:\n",
    "    print(line)"
   ]
  },
  {
   "cell_type": "markdown",
   "metadata": {
    "slideshow": {
     "slide_type": "slide"
    }
   },
   "source": [
    "# Closing files\n",
    "\n",
    "When you are finished reading in the contents of a file, the file needs to be closed using the `close` method"
   ]
  },
  {
   "cell_type": "code",
   "execution_count": 32,
   "metadata": {},
   "outputs": [],
   "source": [
    "file.close()"
   ]
  },
  {
   "cell_type": "markdown",
   "metadata": {},
   "source": [
    "# A better method for reading files"
   ]
  },
  {
   "cell_type": "markdown",
   "metadata": {},
   "source": [
    "* It is better to use the `with` keyword with the `open` function to read files\n",
    "* This automatically closes the file when reading operations are finished"
   ]
  },
  {
   "cell_type": "code",
   "execution_count": 39,
   "metadata": {
    "slideshow": {
     "slide_type": "slide"
    }
   },
   "outputs": [
    {
     "name": "stdout",
     "output_type": "stream",
     "text": [
      "Time (hour),Temperature (C)\n",
      "\n",
      "600,10.3\n",
      "\n",
      "700,10.6\n",
      "\n",
      "800,12.1\n",
      "\n",
      "900,12.7\n",
      "\n",
      "1000,13.5\n",
      "\n",
      "1100,14.3\n",
      "\n",
      "1200,15.1\n",
      "\n"
     ]
    }
   ],
   "source": [
    "with open('sample_data/temperature.csv', 'r') as file:\n",
    "    for line in file:\n",
    "        print(line)"
   ]
  },
  {
   "cell_type": "markdown",
   "metadata": {
    "slideshow": {
     "slide_type": "slide"
    }
   },
   "source": [
    "# Some points\n",
    "\n",
    "* The variable `file` is iterable; we could use a `for` loop to go through the file line-by-line\n",
    "* The variable `file` is **not** ordered; we cannot access elements using an index\n",
    "* The `open` function reads the files as **strings**"
   ]
  },
  {
   "cell_type": "code",
   "execution_count": 34,
   "metadata": {},
   "outputs": [
    {
     "name": "stdout",
     "output_type": "stream",
     "text": [
      "<class 'str'>\n",
      "<class 'str'>\n",
      "<class 'str'>\n",
      "<class 'str'>\n",
      "<class 'str'>\n",
      "<class 'str'>\n",
      "<class 'str'>\n",
      "<class 'str'>\n"
     ]
    }
   ],
   "source": [
    "with open('sample_data/temperature.csv', 'r') as file:\n",
    "    for line in file:\n",
    "        print(type(line))"
   ]
  },
  {
   "cell_type": "markdown",
   "metadata": {
    "slideshow": {
     "slide_type": "slide"
    }
   },
   "source": [
    "# Converting read data\n",
    "\n",
    "We could convert the `file` object into a list using the `list` function to make it ordered"
   ]
  },
  {
   "cell_type": "code",
   "execution_count": 37,
   "metadata": {},
   "outputs": [
    {
     "name": "stdout",
     "output_type": "stream",
     "text": [
      "['Time (hour),Temperature (C)\\n', '600,10.3\\n', '700,10.6\\n', '800,12.1\\n', '900,12.7\\n', '1000,13.5\\n', '1100,14.3\\n', '1200,15.1\\n']\n"
     ]
    }
   ],
   "source": [
    "with open('sample_data/temperature.csv', 'r') as file:\n",
    "    L = list(file)\n",
    "print(L)"
   ]
  },
  {
   "cell_type": "markdown",
   "metadata": {
    "slideshow": {
     "slide_type": "fragment"
    }
   },
   "source": [
    "But each row of data has been combined into a single string that needs to be manually separated"
   ]
  },
  {
   "cell_type": "markdown",
   "metadata": {},
   "source": [
    "# The `csv` package\n",
    "\n",
    "* The `csv` package makes it a bit easier to load .csv files\n",
    "* To load the .csv file, we add the following command to the top of our .py file"
   ]
  },
  {
   "cell_type": "code",
   "execution_count": 38,
   "metadata": {},
   "outputs": [],
   "source": [
    "import csv"
   ]
  },
  {
   "cell_type": "markdown",
   "metadata": {
    "slideshow": {
     "slide_type": "slide"
    }
   },
   "source": [
    "# Using the `csv` package\n",
    "\n",
    "Once loaded, we can read in data from a .csv file as follows"
   ]
  },
  {
   "cell_type": "code",
   "execution_count": 44,
   "metadata": {},
   "outputs": [
    {
     "name": "stdout",
     "output_type": "stream",
     "text": [
      "[['Time (hour)', 'Temperature (C)'], ['600', '10.3'], ['700', '10.6'], ['800', '12.1'], ['900', '12.7'], ['1000', '13.5'], ['1100', '14.3'], ['1200', '15.1']]\n"
     ]
    }
   ],
   "source": [
    "with open('sample_data/temperature.csv', 'r') as file:\n",
    "    read = csv.reader(file)\n",
    "    L = list(read)\n",
    "print(L)"
   ]
  },
  {
   "cell_type": "markdown",
   "metadata": {},
   "source": [
    "Now the file as been read and automatically separated into a nested list!"
   ]
  },
  {
   "cell_type": "markdown",
   "metadata": {
    "slideshow": {
     "slide_type": "slide"
    }
   },
   "source": [
    "# Post-processing\n",
    "\n",
    "The data is still imported as strings, so some further post-processing is needed to convert strings into floats when necessary.\n",
    "\n",
    "This can done using loops or list comprehensions along with the `float` function"
   ]
  },
  {
   "cell_type": "markdown",
   "metadata": {
    "slideshow": {
     "slide_type": "slide"
    }
   },
   "source": [
    "# Summary\n",
    "\n",
    "* CSV (comma-separated values) files are commonly used to store data\n",
    "* Downstream files are those which are contained in the same folder as your .py file or one of its sub-folders\n",
    "* The `open` function can be used to open .csv files\n",
    "* It's better to use the `with` keyword and easier with the `csv` package "
   ]
  }
 ],
 "metadata": {
  "celltoolbar": "Slideshow",
  "kernelspec": {
   "display_name": "Python 3 (ipykernel)",
   "language": "python",
   "name": "python3"
  },
  "language_info": {
   "codemirror_mode": {
    "name": "ipython",
    "version": 3
   },
   "file_extension": ".py",
   "mimetype": "text/x-python",
   "name": "python",
   "nbconvert_exporter": "python",
   "pygments_lexer": "ipython3",
   "version": "3.11.4"
  }
 },
 "nbformat": 4,
 "nbformat_minor": 4
}
