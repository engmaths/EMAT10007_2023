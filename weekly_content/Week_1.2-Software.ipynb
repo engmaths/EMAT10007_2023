{
 "cells": [
  {
   "cell_type": "markdown",
   "id": "584f7dc8",
   "metadata": {
    "slideshow": {
     "slide_type": "slide"
    }
   },
   "source": [
    "\n",
    "\n",
    "# Introduction to Computer Programming\n",
    "\n",
    "## Software\n",
    "\n",
    "<img src=\"https://github.com/engmaths/EMAT10007_2023/blob/main/weekly_content/img/full-colour-logo-UoB.png?raw=true\" width=\"20%\">\n",
    "</p>\n"
   ]
  },
  {
   "cell_type": "markdown",
   "id": "205a7b9e",
   "metadata": {
    "slideshow": {
     "slide_type": "slide"
    }
   },
   "source": [
    "Computer programming languages simplify the job of giving instructions to a computer. \n",
    "\n",
    "However, computers only understand numbers, so instructions written in a programming language must be translated to a form that a machine can understand. \n",
    "\n",
    "This is what **interpreters** and **compilers** do."
   ]
  },
  {
   "cell_type": "markdown",
   "id": "b6192be6",
   "metadata": {
    "slideshow": {
     "slide_type": "slide"
    }
   },
   "source": [
    "An interpreter is a kind of program that executes other programs. \n",
    "\n",
    "When you write a Python program, the interpreter converts *source code* written in Python, to a form that can be understood and executed by the computer. \n",
    "\n",
    "The Python interpreter can be installed locally on your computer or accessed in the cloud, via a web browser. \n",
    "\n",
    "It is important to become familiar with the idea that there are multiple environments in which you can run Python - the only requirement is that the interpreter is installed. \n",
    "\n",
    "We will use a few of these environments during the course..."
   ]
  },
  {
   "cell_type": "markdown",
   "id": "c066a784",
   "metadata": {
    "slideshow": {
     "slide_type": "slide"
    }
   },
   "source": [
    "# Google Colab (Colaboratory)\n",
    "\n",
    "A web browser based Python service \n",
    "\n",
    "Allows you to write and execute Python in your browser, alongside formatted text\n",
    "\n",
    "The contents of the videos and lectures will be shared as Google Colab notebooks (file extension .ipynb). \n",
    "\n",
    "A link to each notebook is given on the blackboard page. \n",
    "\n",
    "You can save any changes you make to your Google Drive <br>You will need a Google/Gmail account (free), please create one if you do not have one: https://support.google.com/mail/answer/56256?hl=en-GB\n",
    "\n",
    "<img src=\"https://github.com/engmaths/EMAT10007_2023/blob/main/weekly_content/img/colab_logo.png?raw=true\" width=\"20%\">\n",
    "</p>\n"
   ]
  },
  {
   "cell_type": "markdown",
   "id": "a0897711",
   "metadata": {
    "slideshow": {
     "slide_type": "slide"
    }
   },
   "source": [
    "# PyCharm \n",
    "\n",
    "An integrated development environment (IDE)\n",
    "\n",
    "An IDE is a software application that helps programmers develop code by combining capabilities:\n",
    "- code editing\n",
    "- debugging\n",
    "- viewing outputs\n",
    "\n",
    "There are many different IDEs that all do a similar job (IDLE, Visual Studio, Sublime Text 3, Atom, Spyder). \n",
    "\n",
    "We will use PyCharm, an IDE widely used by students and professional developers. \n",
    "\n",
    "PyCharm has a number of accessibilty features https://www.jetbrains.com/help/pycharm/accessibility.html that can be used to set up the IDE to best support your learning.  \n",
    "\n",
    "\n",
    "<img src=\"https://github.com/engmaths/EMAT10007_2023/blob/main/weekly_content/img/PyCharm.png?raw=true\" width=\"20%\">\n",
    "</p>\n"
   ]
  },
  {
   "cell_type": "markdown",
   "id": "2cbd2075",
   "metadata": {
    "slideshow": {
     "slide_type": "slide"
    }
   },
   "source": [
    "# PyCharm on your personal computer\n",
    "\n",
    "PyCharm is available in the labs we will use to teach the course\n",
    "\n",
    "### If you want to install PyCharm on your own computer...\n",
    "\n",
    "There are two versions: Community (free) or Professional (free when you create an account with university email https://www.jetbrains.com/pycharm/buy/#discounts) \n",
    "1. Install Python: https://www.python.org/downloads/\n",
    "1. Install PyCharm: https://www.jetbrains.com/pycharm/download/#section=mac\n",
    "1. Follow 'First steps' instructions: https://www.jetbrains.com/help/pycharm/creating-and-running-your-first-python-project.html \n",
    "\n",
    "\n"
   ]
  },
  {
   "cell_type": "markdown",
   "id": "e5cb79de",
   "metadata": {
    "slideshow": {
     "slide_type": "slide"
    }
   },
   "source": [
    "# Web-based code editors\n",
    "Lastly, there are number of web-based code editors where you can write and run Python code from any computer with an internet connection. \n",
    "\n",
    "We will look at two examples..."
   ]
  },
  {
   "cell_type": "markdown",
   "id": "477cc5ba",
   "metadata": {
    "slideshow": {
     "slide_type": "slide"
    }
   },
   "source": [
    "# Python Anywhere \n",
    "\n",
    "1. Create a Beginnner Account (free) <br>https://www.pythonanywhere.com/pricing/\n",
    "2. When you have created an account an logged in select 'Files' >> ('Browse files') then either:\n",
    "    - Enter new file name e.g. hello.py \n",
    "    - Choose from the list of files you have already created\n",
    "    - Upload a file stored locally on your computer ('Upload a file')\n",
    "3. When you have opened the file you want to edit\n",
    "    - Type code in the editor window \n",
    "    - Run code using the >>> Run button \n",
    "    - Save your code online (512.0 MB storage space) \n",
    "    - Download your code to store it locally"
   ]
  },
  {
   "cell_type": "markdown",
   "id": "58af6f59",
   "metadata": {
    "slideshow": {
     "slide_type": "slide"
    }
   },
   "source": [
    "# Online Python\n",
    "\n",
    "- No setup/acount needed\n",
    "- Type code in the editor window \n",
    "- Upload a file stored locally on your computer with the 'Open File from Disk' button\n",
    "- Run code using the > Run button  \n",
    "- Download your code to store it locally using the 'Save File to Disk' button\n",
    "\n",
    "\n",
    "https://www.online-python.com/"
   ]
  },
  {
   "cell_type": "markdown",
   "id": "2f31af5d",
   "metadata": {},
   "source": [
    "# On campus computer access\n",
    "\n",
    "A list of available spaces where you can access computers outside of timetabled activities can be found here: \n",
    "\n",
    "https://www.bristol.ac.uk/students/your-studies/libraries-study-spaces/study-spaces/more-spaces/"
   ]
  },
  {
   "cell_type": "code",
   "execution_count": null,
   "id": "368a8a9b",
   "metadata": {},
   "outputs": [],
   "source": []
  }
 ],
 "metadata": {
  "celltoolbar": "Slideshow",
  "kernelspec": {
   "display_name": "Python 3 (ipykernel)",
   "language": "python",
   "name": "python3"
  },
  "language_info": {
   "codemirror_mode": {
    "name": "ipython",
    "version": 3
   },
   "file_extension": ".py",
   "mimetype": "text/x-python",
   "name": "python",
   "nbconvert_exporter": "python",
   "pygments_lexer": "ipython3",
   "version": "3.10.9"
  }
 },
 "nbformat": 4,
 "nbformat_minor": 5
}
