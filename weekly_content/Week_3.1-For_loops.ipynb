{
 "cells": [
  {
   "cell_type": "markdown",
   "metadata": {
    "slideshow": {
     "slide_type": "slide"
    }
   },
   "source": [
    "# Introduction to Computer Programming\n",
    "\n",
    "## Control Structures - For loops\n",
    "\n",
    "* * *\n",
    "\n",
    "<img src=\"https://github.com/engmaths/EMAT10007_2023/blob/main/weekly_content/img/full-colour-logo-UoB.png?raw=true\" width=\"20%\">\n",
    "</p>"
   ]
  },
  {
   "cell_type": "markdown",
   "metadata": {
    "slideshow": {
     "slide_type": "slide"
    }
   },
   "source": [
    " \n",
    "\n",
    "Real world programs usually need to:\n",
    "- choose between multiple possible sets of statements to execute\n",
    "- skip over some statements\n",
    "- repeatedly execute some statements"
   ]
  },
  {
   "cell_type": "markdown",
   "metadata": {
    "slideshow": {
     "slide_type": "slide"
    }
   },
   "source": [
    "# Iteration\n",
    "\n",
    "Repeatedly executing a block of code is referred to as __iteration__.\n",
    "\n",
    "There are two types of iteration:\n",
    "- __Definite iteration__: number of repetitions is specified explicitly in advance\n",
    "- __Indefinite iteration__: the code block executes until some condition is met\n"
   ]
  },
  {
   "cell_type": "markdown",
   "metadata": {
    "slideshow": {
     "slide_type": "slide"
    }
   },
   "source": [
    "# `for` loop\n",
    "\n",
    "__Definite iteration__ control structures are referred to as __`for` loops__ in most programming languages, including Python.\n",
    "\n",
    "In Python, the `for` loop is based on an __iterable__ sequence of values."
   ]
  },
  {
   "cell_type": "markdown",
   "metadata": {
    "slideshow": {
     "slide_type": "slide"
    }
   },
   "source": [
    "\n",
    "\n",
    "`for` loops have the syntax:\n",
    "``` python\n",
    "for var in iterable:\n",
    "    operation\n",
    "```\n",
    "***\n",
    "The key ingredients are:\n",
    "1. The keywords `for` and `in`\n",
    "2. *iterable*: a *sequence* of values\n",
    "3. *var*: a variable that takes on the value of the next element in *iterable* with each iteration of the loop.\n",
    "4. A colon that follows *iterable* `:`\n",
    "5. An indented block of code that is executed at each iteration of the loop."
   ]
  },
  {
   "cell_type": "markdown",
   "metadata": {
    "slideshow": {
     "slide_type": "slide"
    }
   },
   "source": [
    "# Example\n",
    "A string is an *iterable* object. \n",
    "\n",
    "It has a sequence of characters that we can *iterate* through."
   ]
  },
  {
   "cell_type": "code",
   "execution_count": 1,
   "metadata": {},
   "outputs": [
    {
     "name": "stdout",
     "output_type": "stream",
     "text": [
      "p\n",
      "y\n",
      "t\n",
      "h\n",
      "o\n",
      "n\n"
     ]
    }
   ],
   "source": [
    "for i in 'python':\n",
    "    print(i)"
   ]
  },
  {
   "cell_type": "markdown",
   "metadata": {
    "slideshow": {
     "slide_type": "fragment"
    }
   },
   "source": [
    "What sequence of events is happening here?\n",
    "\n",
    "1. The variable *i* is first assigned the value `'p'`, the first entry in the sequence\n",
    "2. Then the value of *i* is printed\n",
    "3. The variable *i* is assigned a new value `'y'`, the second entry in the sequence\n",
    "4. Then the value of *i* is printed again\n",
    "5. The process repeats until *i* has taken on every value in the sequence. \n",
    "6. The loop __terminates__"
   ]
  },
  {
   "cell_type": "markdown",
   "metadata": {
    "slideshow": {
     "slide_type": "slide"
    }
   },
   "source": [
    "# Generating a sequence\n",
    "\n",
    "Another way to create an iterable object is to enclose a sequence of variables in brackets `[]` "
   ]
  },
  {
   "cell_type": "markdown",
   "metadata": {
    "slideshow": {
     "slide_type": "slide"
    }
   },
   "source": [
    "# Example"
   ]
  },
  {
   "cell_type": "code",
   "execution_count": 3,
   "metadata": {},
   "outputs": [
    {
     "name": "stdout",
     "output_type": "stream",
     "text": [
      "3\n",
      "5\n",
      "7\n",
      "8\n"
     ]
    }
   ],
   "source": [
    "for i in [3, 5, 7, 8]:\n",
    "    print(i)"
   ]
  },
  {
   "cell_type": "markdown",
   "metadata": {
    "slideshow": {
     "slide_type": "fragment"
    }
   },
   "source": [
    "What sequence of events is happening here?\n",
    "\n",
    "Notice the *sequence* given to the for loop are the number `3, 5, 7, 8` enclosed in brackets `[]`\n",
    "\n",
    "1. The variable *i* is first assigned the value `3`, the first entry in the sequence\n",
    "2. Then the value of *i* is printed\n",
    "3. The variable *i* is assigned a new value `5`, the second entry in the sequence\n",
    "4. Then the value of *i* is printed again\n",
    "5. The process repeats until *i* has taken on every value in the sequence. \n",
    "6. The loop terminates"
   ]
  },
  {
   "cell_type": "markdown",
   "metadata": {
    "slideshow": {
     "slide_type": "slide"
    }
   },
   "source": [
    "# Example\n",
    "Loop over a sequence of strings"
   ]
  },
  {
   "cell_type": "code",
   "execution_count": 4,
   "metadata": {},
   "outputs": [
    {
     "name": "stdout",
     "output_type": "stream",
     "text": [
      "python\n",
      "cobra\n",
      "adder\n"
     ]
    }
   ],
   "source": [
    "for s in ['python', 'cobra', 'adder']:\n",
    "    print(s)"
   ]
  },
  {
   "cell_type": "markdown",
   "metadata": {
    "slideshow": {
     "slide_type": "slide"
    }
   },
   "source": [
    "# Example\n",
    "Print the numbers 1 to 5"
   ]
  },
  {
   "cell_type": "code",
   "execution_count": 5,
   "metadata": {},
   "outputs": [
    {
     "name": "stdout",
     "output_type": "stream",
     "text": [
      "1\n",
      "2\n",
      "3\n",
      "4\n",
      "5\n"
     ]
    }
   ],
   "source": [
    "for number in [1,2,3,4,5]:\n",
    "    print(number)\n"
   ]
  },
  {
   "cell_type": "markdown",
   "metadata": {
    "slideshow": {
     "slide_type": "slide"
    }
   },
   "source": [
    "# Generating a range\n",
    "An iterable range of numbers can be generated automatically using the Python function `range`\n",
    "\n",
    "This can be more efficient than typing a sequence of numbers explcitly, expecially for long sequences\n",
    "\n",
    "`range` takes arguments:\n",
    "- (optional) start value (default value = 0)\n",
    "- stop value\n",
    "- (optional) step size (default value = +1)"
   ]
  },
  {
   "cell_type": "markdown",
   "metadata": {
    "slideshow": {
     "slide_type": "slide"
    }
   },
   "source": [
    "# Example\n",
    "Print the numbers 1 to 10 with the help of the `range` function.\n",
    "\n"
   ]
  },
  {
   "cell_type": "code",
   "execution_count": 6,
   "metadata": {
    "slideshow": {
     "slide_type": "-"
    }
   },
   "outputs": [
    {
     "name": "stdout",
     "output_type": "stream",
     "text": [
      "1\n",
      "2\n",
      "3\n",
      "4\n",
      "5\n",
      "6\n",
      "7\n",
      "8\n",
      "9\n",
      "10\n"
     ]
    }
   ],
   "source": [
    "for number in range(1, 11):\n",
    "    print(number)"
   ]
  },
  {
   "cell_type": "markdown",
   "metadata": {
    "slideshow": {
     "slide_type": "slide"
    }
   },
   "source": [
    "# Example\n",
    "\n",
    "Print the __even__ numbers between 0 and 10, including 0 and 10, in __decreasing__ order.\n",
    "\n",
    "- __Decreasing__: Starts at value other than 0, start (`10`) and stop (`-1`) argument needed\n",
    "\n",
    "- __Even__: Step size other than 1, step size (`-2`) argument needed\n",
    "\n"
   ]
  },
  {
   "cell_type": "code",
   "execution_count": 7,
   "metadata": {},
   "outputs": [
    {
     "name": "stdout",
     "output_type": "stream",
     "text": [
      "10\n",
      "8\n",
      "6\n",
      "4\n",
      "2\n",
      "0\n"
     ]
    }
   ],
   "source": [
    "for i in range(10, -1, -2):\n",
    "    print(i)"
   ]
  },
  {
   "cell_type": "markdown",
   "metadata": {
    "slideshow": {
     "slide_type": "slide"
    }
   },
   "source": [
    "# The role of the indent\n",
    "\n",
    "The indent is used to determine which pieces of code are executed in the loop"
   ]
  },
  {
   "cell_type": "code",
   "execution_count": 8,
   "metadata": {},
   "outputs": [
    {
     "name": "stdout",
     "output_type": "stream",
     "text": [
      "I'm in the loop\n",
      "I'm in the loop\n",
      "I'm in the loop\n",
      "I'm out of the loop\n"
     ]
    }
   ],
   "source": [
    "for i in [1,2,3]:\n",
    "    print(\"I'm in the loop\")\n",
    "print(\"I'm out of the loop\")"
   ]
  },
  {
   "cell_type": "markdown",
   "metadata": {
    "slideshow": {
     "slide_type": "fragment"
    }
   },
   "source": [
    "The loop involves three iterations\n",
    "\n",
    "Only the indented code is executed during each iteration"
   ]
  },
  {
   "cell_type": "markdown",
   "metadata": {
    "slideshow": {
     "slide_type": "slide"
    }
   },
   "source": [
    "# Example\n",
    "\n",
    "Use a `for` loop to sum the first five positive integers and print the final value\n",
    "\n",
    "1 + 2 + 3 + 4 + 5 = 15"
   ]
  },
  {
   "cell_type": "code",
   "execution_count": 9,
   "metadata": {},
   "outputs": [
    {
     "name": "stdout",
     "output_type": "stream",
     "text": [
      "15\n"
     ]
    }
   ],
   "source": [
    "total = 0\n",
    "\n",
    "for i in range(1, 6):\n",
    "    total += i\n",
    "\n",
    "print(total)"
   ]
  },
  {
   "cell_type": "markdown",
   "metadata": {
    "slideshow": {
     "slide_type": "slide"
    }
   },
   "source": [
    "# Example\n",
    "Use a `for` loop to find the product of the first three positive even numbers\n",
    "\n",
    "2 x 4 x 6 = 48"
   ]
  },
  {
   "cell_type": "code",
   "execution_count": 10,
   "metadata": {},
   "outputs": [
    {
     "name": "stdout",
     "output_type": "stream",
     "text": [
      "48\n"
     ]
    }
   ],
   "source": [
    "total = 1\n",
    "\n",
    "for number in range(2, 8, 2):\n",
    "    total *= number \n",
    "    \n",
    "print(total)"
   ]
  },
  {
   "cell_type": "markdown",
   "metadata": {
    "slideshow": {
     "slide_type": "slide"
    }
   },
   "source": [
    "# Looping mutiple iterables with `zip`\n",
    "\n",
    "The Python function `zip` causes the `for` loop to iterate through 2 or more iterables, one element at a time\n",
    "\n",
    "__Input arguments__: iterables seperated by commas. \n",
    "\n",
    "__Output__: An elementwise series of groups (tuples) containing elements from each iterable. "
   ]
  },
  {
   "cell_type": "markdown",
   "metadata": {
    "slideshow": {
     "slide_type": "slide"
    }
   },
   "source": [
    "# Example\n",
    "\n",
    "Print each student name, next to their score"
   ]
  },
  {
   "cell_type": "code",
   "execution_count": 12,
   "metadata": {},
   "outputs": [
    {
     "name": "stdout",
     "output_type": "stream",
     "text": [
      "Saba 75\n",
      "Hendrik 62\n",
      "Jonathan 65\n"
     ]
    }
   ],
   "source": [
    "names = ['Saba', 'Hendrik', 'Jonathan']\n",
    "scores = [75, 62, 65]\n",
    "\n",
    "for n, s in zip(names, scores):\n",
    "    print(n, s)"
   ]
  },
  {
   "cell_type": "markdown",
   "metadata": {
    "slideshow": {
     "slide_type": "slide"
    }
   },
   "source": [
    "# Example\n",
    "\n",
    "Join each word from `sequence_1` with a word from `sequence_2` in the order they appear in the two sequences\n",
    "\n"
   ]
  },
  {
   "cell_type": "code",
   "execution_count": 13,
   "metadata": {},
   "outputs": [
    {
     "name": "stdout",
     "output_type": "stream",
     "text": [
      "dashboard\n",
      "eardrum\n",
      "airbag\n"
     ]
    }
   ],
   "source": [
    "sequence_1 = ['dash', 'ear', 'air']\n",
    "sequence_2 = ['board', 'drum', 'bag']\n",
    "\n",
    "for i, j in zip(sequence_1, sequence_2):\n",
    "    print(i+j)"
   ]
  },
  {
   "cell_type": "markdown",
   "metadata": {
    "slideshow": {
     "slide_type": "slide"
    }
   },
   "source": [
    "### Need to see some more examples? \n",
    "https://www.w3schools.com/python/python_for_loops.asp\n",
    "<br>https://www.programiz.com/python-programming/for-loop\n",
    "<br>https://pynative.com/python-for-loop/\n",
    "\n",
    "### Want some more advanced information?\n",
    "https://realpython.com/python-for-loop/"
   ]
  },
  {
   "cell_type": "code",
   "execution_count": null,
   "metadata": {},
   "outputs": [],
   "source": []
  }
 ],
 "metadata": {
  "celltoolbar": "Slideshow",
  "kernelspec": {
   "display_name": "Python 3 (ipykernel)",
   "language": "python",
   "name": "python3"
  },
  "language_info": {
   "codemirror_mode": {
    "name": "ipython",
    "version": 3
   },
   "file_extension": ".py",
   "mimetype": "text/x-python",
   "name": "python",
   "nbconvert_exporter": "python",
   "pygments_lexer": "ipython3",
   "version": "3.10.9"
  }
 },
 "nbformat": 4,
 "nbformat_minor": 4
}
