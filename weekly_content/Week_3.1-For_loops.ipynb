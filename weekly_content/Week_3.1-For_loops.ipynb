{
 "cells": [
  {
   "cell_type": "markdown",
   "metadata": {
    "slideshow": {
     "slide_type": "slide"
    }
   },
   "source": [
    "# Introduction to Computer Programming\n",
    "\n",
    "## For loops\n",
    "\n",
    "* * *\n",
    "\n",
    "<img src=\"img/full-colour-logo-UoB.png\" alt=\"Bristol\" style=\"width: 300px;\"/>"
   ]
  },
  {
   "cell_type": "markdown",
   "metadata": {
    "slideshow": {
     "slide_type": "slide"
    }
   },
   "source": [
    "\n",
    "\n",
    "`for` loops have the syntax:\n",
    "``` python\n",
    "for var in seq:\n",
    "    # code block (note the indent)\n",
    "```\n",
    "***\n",
    "The key ingredients are:\n",
    "1. The keywords `for` and `in`\n",
    "2. *seq*: an **iterable** *sequence* of values\n",
    "3. *var*: a variable that takes on each value in *sequence*\n",
    "4. A colon that follows *sequence*\n",
    "5. A block of code that is executed at each iteration of the loop.  This block of code **must** be indented"
   ]
  },
  {
   "cell_type": "markdown",
   "metadata": {
    "slideshow": {
     "slide_type": "slide"
    }
   },
   "source": [
    "# Examples using `for` loops"
   ]
  },
  {
   "cell_type": "code",
   "execution_count": 10,
   "metadata": {},
   "outputs": [
    {
     "name": "stdout",
     "output_type": "stream",
     "text": [
      "3\n",
      "5\n",
      "7\n",
      "8\n"
     ]
    }
   ],
   "source": [
    "for i in [3, 5, 7, 8]:\n",
    "    print(i)\n",
    "    "
   ]
  },
  {
   "cell_type": "markdown",
   "metadata": {
    "slideshow": {
     "slide_type": "fragment"
    }
   },
   "source": [
    "What sequence of events is happening here?\n",
    "\n",
    "Notice the *sequence* given to the for loop are the number `3, 5, 7, 8` enclosed in brackets `[]`\n",
    "\n",
    "1. The variable *i* is first assigned the value 3, the first entry in the sequence\n",
    "2. Then the value of *i* is printed\n",
    "3. The variable *i* changes to 5, the second entry in the sequence\n",
    "4. Then the value of *i* is printed again\n",
    "5. The process repeats until *i* has taken on every value in the sequence"
   ]
  },
  {
   "cell_type": "markdown",
   "metadata": {
    "slideshow": {
     "slide_type": "slide"
    }
   },
   "source": [
    "**Example**: Print the numbers 1 to 5"
   ]
  },
  {
   "cell_type": "code",
   "execution_count": null,
   "metadata": {},
   "outputs": [],
   "source": [
    "\n",
    "\n"
   ]
  },
  {
   "cell_type": "markdown",
   "metadata": {
    "slideshow": {
     "slide_type": "slide"
    }
   },
   "source": [
    "**Example**: Print the numbers 1 to 10 with the help of the `range` function.\n",
    "\n",
    "`range` takes arguments:\n",
    "- (optional) start value\n",
    "- stop value\n",
    "- (optional) step size"
   ]
  },
  {
   "cell_type": "code",
   "execution_count": null,
   "metadata": {
    "slideshow": {
     "slide_type": "-"
    }
   },
   "outputs": [],
   "source": []
  },
  {
   "cell_type": "markdown",
   "metadata": {
    "slideshow": {
     "slide_type": "slide"
    }
   },
   "source": [
    "This exercise will explore the `range` function more\n",
    "***"
   ]
  },
  {
   "cell_type": "markdown",
   "metadata": {
    "slideshow": {
     "slide_type": "-"
    }
   },
   "source": [
    "**Example**: Print the __even__ numbers between 0 and 10, in __decreasing__ order.\n",
    "\n",
    "__Decreasing__: Starts at value other than 0, start (`10`) and stop (`-1`) argument needed\n",
    "\n",
    "__Even__: Step size other than 1, step size (`-2`) argument needed\n",
    "\n"
   ]
  },
  {
   "cell_type": "code",
   "execution_count": null,
   "metadata": {},
   "outputs": [],
   "source": []
  },
  {
   "cell_type": "markdown",
   "metadata": {
    "slideshow": {
     "slide_type": "slide"
    }
   },
   "source": [
    "**Example**: Loop over a sequence of strings"
   ]
  },
  {
   "cell_type": "code",
   "execution_count": null,
   "metadata": {},
   "outputs": [],
   "source": [
    "\n"
   ]
  },
  {
   "cell_type": "markdown",
   "metadata": {
    "slideshow": {
     "slide_type": "slide"
    }
   },
   "source": [
    "**Example**: Looping mutiple iterables with `zip`\n",
    "\n",
    "The `zip` function \n",
    "\n",
    "__Input arguments__: iterables seperated by commas. \n",
    "\n",
    "__Output__: An elementwise series of groups (tuples) containing elements from each iterable. "
   ]
  },
  {
   "cell_type": "code",
   "execution_count": null,
   "metadata": {},
   "outputs": [],
   "source": []
  },
  {
   "cell_type": "markdown",
   "metadata": {
    "slideshow": {
     "slide_type": "slide"
    }
   },
   "source": [
    "# The role of the indent\n",
    "\n",
    "The indent is used to determine which pieces of code are executed in the loop"
   ]
  },
  {
   "cell_type": "code",
   "execution_count": 2,
   "metadata": {},
   "outputs": [
    {
     "name": "stdout",
     "output_type": "stream",
     "text": [
      "I'm in the loop\n",
      "I'm in the loop\n",
      "I'm in the loop\n",
      "I'm out of the loop\n"
     ]
    }
   ],
   "source": [
    "for i in [1, 2, 3]:\n",
    "    print(\"I'm in the loop\")\n",
    "print(\"I'm out of the loop\")\n"
   ]
  },
  {
   "cell_type": "markdown",
   "metadata": {},
   "source": [
    "The loop involves three iterations, but only the indented code is executed during each iteration"
   ]
  },
  {
   "cell_type": "markdown",
   "metadata": {
    "slideshow": {
     "slide_type": "slide"
    }
   },
   "source": [
    "**Example**: Sum the first five positive integers and print the final value\n",
    "\n",
    "1 + 2 + 3 + 4 + 5 = 15"
   ]
  }
 ],
 "metadata": {
  "celltoolbar": "Slideshow",
  "kernelspec": {
   "display_name": "Python 3 (ipykernel)",
   "language": "python",
   "name": "python3"
  },
  "language_info": {
   "codemirror_mode": {
    "name": "ipython",
    "version": 3
   },
   "file_extension": ".py",
   "mimetype": "text/x-python",
   "name": "python",
   "nbconvert_exporter": "python",
   "pygments_lexer": "ipython3",
   "version": "3.10.9"
  }
 },
 "nbformat": 4,
 "nbformat_minor": 4
}
